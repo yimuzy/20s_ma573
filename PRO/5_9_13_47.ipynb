{
  "nbformat": 4,
  "nbformat_minor": 0,
  "metadata": {
    "colab": {
      "name": "Untitled28.ipynb",
      "provenance": [],
      "collapsed_sections": [
        "4EwXVeAFnb6A"
      ],
      "authorship_tag": "ABX9TyPz4wI8vSuP8Aj1wSMBpbvJ",
      "include_colab_link": true
    },
    "kernelspec": {
      "name": "python3",
      "display_name": "Python 3"
    }
  },
  "cells": [
    {
      "cell_type": "markdown",
      "metadata": {
        "id": "view-in-github",
        "colab_type": "text"
      },
      "source": [
        "<a href=\"https://colab.research.google.com/github/yimuzy/20s_ma573/blob/master/PRO/5_9_13_47.ipynb\" target=\"_parent\"><img src=\"https://colab.research.google.com/assets/colab-badge.svg\" alt=\"Open In Colab\"/></a>"
      ]
    },
    {
      "cell_type": "markdown",
      "metadata": {
        "id": "dj7JBD-dPT-n",
        "colab_type": "text"
      },
      "source": [
        "# **1.a) loss distribution based on multivariate normal distribution**"
      ]
    },
    {
      "cell_type": "code",
      "metadata": {
        "id": "ZkysvLzvcQ1P",
        "colab_type": "code",
        "outputId": "30cef1a9-1db5-4912-f4d0-5a3f2abc126a",
        "colab": {
          "base_uri": "https://localhost:8080/",
          "height": 513
        }
      },
      "source": [
        "!pip install yahoo-finance\n",
        "!pip install pandas_market_calendars\n",
        "\n",
        "import pandas as pd\n",
        "import pandas_market_calendars as pmc\n",
        "import pandas_datareader.data as drd\n",
        "import numpy as np\n",
        "import seaborn as sns\n",
        "from pandas_datareader import data as pdr"
      ],
      "execution_count": 1,
      "outputs": [
        {
          "output_type": "stream",
          "text": [
            "Collecting yahoo-finance\n",
            "  Downloading https://files.pythonhosted.org/packages/7c/8c/61e2250dd88a22a3156c2b44fd021140bf984b49800584cb0372193a116a/yahoo-finance-1.4.0.tar.gz\n",
            "Requirement already satisfied: pytz in /usr/local/lib/python3.6/dist-packages (from yahoo-finance) (2018.9)\n",
            "Collecting simplejson\n",
            "\u001b[?25l  Downloading https://files.pythonhosted.org/packages/98/87/a7b98aa9256c8843f92878966dc3d8d914c14aad97e2c5ce4798d5743e07/simplejson-3.17.0.tar.gz (83kB)\n",
            "\u001b[K     |████████████████████████████████| 92kB 2.9MB/s \n",
            "\u001b[?25hBuilding wheels for collected packages: yahoo-finance, simplejson\n",
            "  Building wheel for yahoo-finance (setup.py) ... \u001b[?25l\u001b[?25hdone\n",
            "  Created wheel for yahoo-finance: filename=yahoo_finance-1.4.0-cp36-none-any.whl size=7232 sha256=f585e251087e8813a77b97bfb85e2330b504b87b595e93b3b4237da7b01ea030\n",
            "  Stored in directory: /root/.cache/pip/wheels/58/77/5b/66026e0fa7af2ee5926a516a70d3df95e17f952c570bc5aee6\n",
            "  Building wheel for simplejson (setup.py) ... \u001b[?25l\u001b[?25hdone\n",
            "  Created wheel for simplejson: filename=simplejson-3.17.0-cp36-cp36m-linux_x86_64.whl size=114205 sha256=d7b18a35108c52ae4ea5e97a9fdd2e3b435c926e8f8600484516da5cfdb714fd\n",
            "  Stored in directory: /root/.cache/pip/wheels/86/c0/83/dcd0339abb2640544bb8e0938aab2d069cef55e5647ce6e097\n",
            "Successfully built yahoo-finance simplejson\n",
            "Installing collected packages: simplejson, yahoo-finance\n",
            "Successfully installed simplejson-3.17.0 yahoo-finance-1.4.0\n",
            "Collecting pandas_market_calendars\n",
            "\u001b[?25l  Downloading https://files.pythonhosted.org/packages/d7/25/d42422cea8ea000e77a53cffdd092d9664fe596cad7094cd60c46e9f3e8d/pandas_market_calendars-1.3.5-py3-none-any.whl (53kB)\n",
            "\u001b[K     |████████████████████████████████| 61kB 2.0MB/s \n",
            "\u001b[?25hRequirement already satisfied: python-dateutil in /usr/local/lib/python3.6/dist-packages (from pandas_market_calendars) (2.8.1)\n",
            "Requirement already satisfied: pandas>=0.18 in /usr/local/lib/python3.6/dist-packages (from pandas_market_calendars) (1.0.3)\n",
            "Requirement already satisfied: pytz in /usr/local/lib/python3.6/dist-packages (from pandas_market_calendars) (2018.9)\n",
            "Requirement already satisfied: six>=1.5 in /usr/local/lib/python3.6/dist-packages (from python-dateutil->pandas_market_calendars) (1.12.0)\n",
            "Requirement already satisfied: numpy>=1.13.3 in /usr/local/lib/python3.6/dist-packages (from pandas>=0.18->pandas_market_calendars) (1.18.4)\n",
            "Installing collected packages: pandas-market-calendars\n",
            "Successfully installed pandas-market-calendars-1.3.5\n"
          ],
          "name": "stdout"
        },
        {
          "output_type": "stream",
          "text": [
            "/usr/local/lib/python3.6/dist-packages/pandas_datareader/compat/__init__.py:7: FutureWarning: pandas.util.testing is deprecated. Use the functions in the public API at pandas.testing instead.\n",
            "  from pandas.util.testing import assert_frame_equal\n"
          ],
          "name": "stderr"
        }
      ]
    },
    {
      "cell_type": "code",
      "metadata": {
        "id": "riZ9q7xjcWSG",
        "colab_type": "code",
        "colab": {}
      },
      "source": [
        "AAPL= drd.get_data_yahoo('AAPL','01/01/2012','04/17/2020',interval='d')\n",
        "TSLA= drd.get_data_yahoo('TSLA','01/01/2012','04/17/2020',interval='d')\n",
        "GILD= drd.get_data_yahoo('GILD','01/01/2012','04/17/2020',interval='d')\n",
        "MELI= drd.get_data_yahoo('MELI','01/01/2012','04/17/2020',interval='d')\n",
        "MSFT= drd.get_data_yahoo('MSFT','01/01/2012','04/17/2020',interval='d')\n",
        "DIS= drd.get_data_yahoo('DIS','01/01/2012','04/17/2020',interval='d')\n",
        "NVDA= drd.get_data_yahoo('NVDA','01/01/2012','04/17/2020',interval='d')\n",
        "TCO= drd.get_data_yahoo('TCO','01/01/2012','04/17/2020',interval='d')\n",
        "MMM= drd.get_data_yahoo('MMM','01/01/2012','04/17/2020',interval='d')\n",
        "INCY= drd.get_data_yahoo('INCY','01/01/2012','04/17/2020',interval='d')\n",
        "IBM= drd.get_data_yahoo('IBM','01/01/2012','04/17/2020',interval='d')\n",
        "EPC= drd.get_data_yahoo('EPC','01/01/2012','04/17/2020',interval='d')\n",
        "SPY= drd.get_data_yahoo('SPY','01/01/2012','04/17/2020',interval='d')\n",
        "YELP= drd.get_data_yahoo('VEA','01/01/2012','04/17/2020',interval='d')\n",
        "VTI= drd.get_data_yahoo('VTI','01/01/2012','04/17/2020',interval='d')\n",
        "yelp_1= drd.get_data_yahoo('YELP','01/01/2012','04/17/2020',interval='d')\n",
        "SPY= drd.get_data_yahoo('SPY','01/01/2012','04/17/2020',interval='d')"
      ],
      "execution_count": 0,
      "outputs": []
    },
    {
      "cell_type": "code",
      "metadata": {
        "id": "_uM1EJ5-9GFp",
        "colab_type": "code",
        "outputId": "9b65d599-d7d6-47e6-e60c-9b2cceadcf99",
        "colab": {
          "base_uri": "https://localhost:8080/",
          "height": 450
        }
      },
      "source": [
        "SPY"
      ],
      "execution_count": 4,
      "outputs": [
        {
          "output_type": "execute_result",
          "data": {
            "text/html": [
              "<div>\n",
              "<style scoped>\n",
              "    .dataframe tbody tr th:only-of-type {\n",
              "        vertical-align: middle;\n",
              "    }\n",
              "\n",
              "    .dataframe tbody tr th {\n",
              "        vertical-align: top;\n",
              "    }\n",
              "\n",
              "    .dataframe thead th {\n",
              "        text-align: right;\n",
              "    }\n",
              "</style>\n",
              "<table border=\"1\" class=\"dataframe\">\n",
              "  <thead>\n",
              "    <tr style=\"text-align: right;\">\n",
              "      <th></th>\n",
              "      <th>High</th>\n",
              "      <th>Low</th>\n",
              "      <th>Open</th>\n",
              "      <th>Close</th>\n",
              "      <th>Volume</th>\n",
              "      <th>Adj Close</th>\n",
              "    </tr>\n",
              "    <tr>\n",
              "      <th>Date</th>\n",
              "      <th></th>\n",
              "      <th></th>\n",
              "      <th></th>\n",
              "      <th></th>\n",
              "      <th></th>\n",
              "      <th></th>\n",
              "    </tr>\n",
              "  </thead>\n",
              "  <tbody>\n",
              "    <tr>\n",
              "      <th>2012-01-03</th>\n",
              "      <td>128.380005</td>\n",
              "      <td>127.430000</td>\n",
              "      <td>127.760002</td>\n",
              "      <td>127.500000</td>\n",
              "      <td>193697900.0</td>\n",
              "      <td>108.037117</td>\n",
              "    </tr>\n",
              "    <tr>\n",
              "      <th>2012-01-04</th>\n",
              "      <td>127.809998</td>\n",
              "      <td>126.709999</td>\n",
              "      <td>127.199997</td>\n",
              "      <td>127.699997</td>\n",
              "      <td>127186500.0</td>\n",
              "      <td>108.206604</td>\n",
              "    </tr>\n",
              "    <tr>\n",
              "      <th>2012-01-05</th>\n",
              "      <td>128.229996</td>\n",
              "      <td>126.430000</td>\n",
              "      <td>127.010002</td>\n",
              "      <td>128.039993</td>\n",
              "      <td>173895000.0</td>\n",
              "      <td>108.494698</td>\n",
              "    </tr>\n",
              "    <tr>\n",
              "      <th>2012-01-06</th>\n",
              "      <td>128.220001</td>\n",
              "      <td>127.290001</td>\n",
              "      <td>128.199997</td>\n",
              "      <td>127.709999</td>\n",
              "      <td>148050000.0</td>\n",
              "      <td>108.215065</td>\n",
              "    </tr>\n",
              "    <tr>\n",
              "      <th>2012-01-09</th>\n",
              "      <td>128.179993</td>\n",
              "      <td>127.410004</td>\n",
              "      <td>128.000000</td>\n",
              "      <td>128.020004</td>\n",
              "      <td>99530200.0</td>\n",
              "      <td>108.477776</td>\n",
              "    </tr>\n",
              "    <tr>\n",
              "      <th>...</th>\n",
              "      <td>...</td>\n",
              "      <td>...</td>\n",
              "      <td>...</td>\n",
              "      <td>...</td>\n",
              "      <td>...</td>\n",
              "      <td>...</td>\n",
              "    </tr>\n",
              "    <tr>\n",
              "      <th>2020-04-13</th>\n",
              "      <td>277.510010</td>\n",
              "      <td>271.410004</td>\n",
              "      <td>277.140015</td>\n",
              "      <td>275.660004</td>\n",
              "      <td>114839100.0</td>\n",
              "      <td>275.660004</td>\n",
              "    </tr>\n",
              "    <tr>\n",
              "      <th>2020-04-14</th>\n",
              "      <td>284.899994</td>\n",
              "      <td>275.510010</td>\n",
              "      <td>280.980011</td>\n",
              "      <td>283.790009</td>\n",
              "      <td>134143400.0</td>\n",
              "      <td>283.790009</td>\n",
              "    </tr>\n",
              "    <tr>\n",
              "      <th>2020-04-15</th>\n",
              "      <td>283.940002</td>\n",
              "      <td>275.459991</td>\n",
              "      <td>277.570007</td>\n",
              "      <td>277.760010</td>\n",
              "      <td>121775000.0</td>\n",
              "      <td>277.760010</td>\n",
              "    </tr>\n",
              "    <tr>\n",
              "      <th>2020-04-16</th>\n",
              "      <td>280.029999</td>\n",
              "      <td>275.760010</td>\n",
              "      <td>279.149994</td>\n",
              "      <td>279.100006</td>\n",
              "      <td>131798300.0</td>\n",
              "      <td>279.100006</td>\n",
              "    </tr>\n",
              "    <tr>\n",
              "      <th>2020-04-17</th>\n",
              "      <td>287.299988</td>\n",
              "      <td>282.399994</td>\n",
              "      <td>285.380005</td>\n",
              "      <td>286.640015</td>\n",
              "      <td>146684800.0</td>\n",
              "      <td>286.640015</td>\n",
              "    </tr>\n",
              "  </tbody>\n",
              "</table>\n",
              "<p>2086 rows × 6 columns</p>\n",
              "</div>"
            ],
            "text/plain": [
              "                  High         Low  ...       Volume   Adj Close\n",
              "Date                                ...                         \n",
              "2012-01-03  128.380005  127.430000  ...  193697900.0  108.037117\n",
              "2012-01-04  127.809998  126.709999  ...  127186500.0  108.206604\n",
              "2012-01-05  128.229996  126.430000  ...  173895000.0  108.494698\n",
              "2012-01-06  128.220001  127.290001  ...  148050000.0  108.215065\n",
              "2012-01-09  128.179993  127.410004  ...   99530200.0  108.477776\n",
              "...                ...         ...  ...          ...         ...\n",
              "2020-04-13  277.510010  271.410004  ...  114839100.0  275.660004\n",
              "2020-04-14  284.899994  275.510010  ...  134143400.0  283.790009\n",
              "2020-04-15  283.940002  275.459991  ...  121775000.0  277.760010\n",
              "2020-04-16  280.029999  275.760010  ...  131798300.0  279.100006\n",
              "2020-04-17  287.299988  282.399994  ...  146684800.0  286.640015\n",
              "\n",
              "[2086 rows x 6 columns]"
            ]
          },
          "metadata": {
            "tags": []
          },
          "execution_count": 4
        }
      ]
    },
    {
      "cell_type": "code",
      "metadata": {
        "id": "zWeBr9XBcXCW",
        "colab_type": "code",
        "colab": {}
      },
      "source": [
        "import pandas_market_calendars as mcal\n",
        "nyse = mcal.get_calendar('NYSE')\n",
        "tradingdays = nyse.schedule(start_date='2012-01-01', end_date='2020-04-17')\n",
        "tradingdays1=tradingdays.index"
      ],
      "execution_count": 0,
      "outputs": []
    },
    {
      "cell_type": "code",
      "metadata": {
        "id": "oNwt9whucXGq",
        "colab_type": "code",
        "colab": {}
      },
      "source": [
        "nan_date=tradingdays.index[:41]\n",
        "\n",
        "ADD= pd.DataFrame(columns=['High','Low','Open','Close','Volume','Adj Close'],index=nan_date)\n",
        "tickers=['SPY','YELP']\n",
        "port = pdr.get_data_yahoo(tickers, start=\"2012-01-01\", end=\"2020-04-17\")['Adj Close']\n",
        "log_port=np.log(port)"
      ],
      "execution_count": 0,
      "outputs": []
    },
    {
      "cell_type": "code",
      "metadata": {
        "id": "SQlYLrYtDLGM",
        "colab_type": "code",
        "outputId": "743737e9-1ea5-4e41-facb-7238666e090c",
        "colab": {
          "base_uri": "https://localhost:8080/",
          "height": 450
        }
      },
      "source": [
        "for i in range(41):\n",
        "  time_win=log_port.iloc[41-i:1047-i]['YELP']\n",
        "  log_return=[]\n",
        "  for j in range(1005):\n",
        "    log_return.append(time_win[j+1]-time_win[j])\n",
        "  u=np.mean(log_return)\n",
        "  var=np.var(log_return)\n",
        "  a=np.random.normal(u,var,1)\n",
        "  log_port.iloc[40-i]['YELP']=log_port.iloc[41-i]['YELP']-a\n",
        "yelp_update=np.exp(log_port)\n",
        "\n",
        "for i in range(41):\n",
        "  ADD.iloc[i]['Adj Close']=yelp_update.iloc[i]['YELP']\n",
        "\n",
        "for i in range(2045):\n",
        "  YELP.iloc[i+41]['Adj Close']=yelp_1.iloc[i]['Adj Close'].item()\n",
        "for i in range(41):\n",
        "  YELP.iloc[i]['Adj Close']=ADD.iloc[i]['Adj Close'].item()\n",
        "\n",
        "YELP"
      ],
      "execution_count": 7,
      "outputs": [
        {
          "output_type": "execute_result",
          "data": {
            "text/html": [
              "<div>\n",
              "<style scoped>\n",
              "    .dataframe tbody tr th:only-of-type {\n",
              "        vertical-align: middle;\n",
              "    }\n",
              "\n",
              "    .dataframe tbody tr th {\n",
              "        vertical-align: top;\n",
              "    }\n",
              "\n",
              "    .dataframe thead th {\n",
              "        text-align: right;\n",
              "    }\n",
              "</style>\n",
              "<table border=\"1\" class=\"dataframe\">\n",
              "  <thead>\n",
              "    <tr style=\"text-align: right;\">\n",
              "      <th></th>\n",
              "      <th>High</th>\n",
              "      <th>Low</th>\n",
              "      <th>Open</th>\n",
              "      <th>Close</th>\n",
              "      <th>Volume</th>\n",
              "      <th>Adj Close</th>\n",
              "    </tr>\n",
              "    <tr>\n",
              "      <th>Date</th>\n",
              "      <th></th>\n",
              "      <th></th>\n",
              "      <th></th>\n",
              "      <th></th>\n",
              "      <th></th>\n",
              "      <th></th>\n",
              "    </tr>\n",
              "  </thead>\n",
              "  <tbody>\n",
              "    <tr>\n",
              "      <th>2012-01-03</th>\n",
              "      <td>31.570000</td>\n",
              "      <td>31.250000</td>\n",
              "      <td>31.260000</td>\n",
              "      <td>31.450001</td>\n",
              "      <td>8276700.0</td>\n",
              "      <td>24.786560</td>\n",
              "    </tr>\n",
              "    <tr>\n",
              "      <th>2012-01-04</th>\n",
              "      <td>31.350000</td>\n",
              "      <td>31.070000</td>\n",
              "      <td>31.290001</td>\n",
              "      <td>31.270000</td>\n",
              "      <td>2609200.0</td>\n",
              "      <td>24.824684</td>\n",
              "    </tr>\n",
              "    <tr>\n",
              "      <th>2012-01-05</th>\n",
              "      <td>30.850000</td>\n",
              "      <td>30.590000</td>\n",
              "      <td>30.770000</td>\n",
              "      <td>30.820000</td>\n",
              "      <td>2095900.0</td>\n",
              "      <td>24.778285</td>\n",
              "    </tr>\n",
              "    <tr>\n",
              "      <th>2012-01-06</th>\n",
              "      <td>30.730000</td>\n",
              "      <td>30.330000</td>\n",
              "      <td>30.730000</td>\n",
              "      <td>30.459999</td>\n",
              "      <td>2044000.0</td>\n",
              "      <td>24.740318</td>\n",
              "    </tr>\n",
              "    <tr>\n",
              "      <th>2012-01-09</th>\n",
              "      <td>30.620001</td>\n",
              "      <td>30.320000</td>\n",
              "      <td>30.610001</td>\n",
              "      <td>30.530001</td>\n",
              "      <td>1652200.0</td>\n",
              "      <td>24.746528</td>\n",
              "    </tr>\n",
              "    <tr>\n",
              "      <th>...</th>\n",
              "      <td>...</td>\n",
              "      <td>...</td>\n",
              "      <td>...</td>\n",
              "      <td>...</td>\n",
              "      <td>...</td>\n",
              "      <td>...</td>\n",
              "    </tr>\n",
              "    <tr>\n",
              "      <th>2020-04-13</th>\n",
              "      <td>34.740002</td>\n",
              "      <td>34.200001</td>\n",
              "      <td>34.669998</td>\n",
              "      <td>34.500000</td>\n",
              "      <td>34969000.0</td>\n",
              "      <td>19.139999</td>\n",
              "    </tr>\n",
              "    <tr>\n",
              "      <th>2020-04-14</th>\n",
              "      <td>35.369999</td>\n",
              "      <td>34.970001</td>\n",
              "      <td>35.029999</td>\n",
              "      <td>35.119999</td>\n",
              "      <td>21511100.0</td>\n",
              "      <td>19.510000</td>\n",
              "    </tr>\n",
              "    <tr>\n",
              "      <th>2020-04-15</th>\n",
              "      <td>34.240002</td>\n",
              "      <td>33.869999</td>\n",
              "      <td>34.060001</td>\n",
              "      <td>33.980000</td>\n",
              "      <td>22435900.0</td>\n",
              "      <td>18.590000</td>\n",
              "    </tr>\n",
              "    <tr>\n",
              "      <th>2020-04-16</th>\n",
              "      <td>34.209999</td>\n",
              "      <td>33.700001</td>\n",
              "      <td>34.110001</td>\n",
              "      <td>34.020000</td>\n",
              "      <td>36469000.0</td>\n",
              "      <td>18.340000</td>\n",
              "    </tr>\n",
              "    <tr>\n",
              "      <th>2020-04-17</th>\n",
              "      <td>35.029999</td>\n",
              "      <td>34.580002</td>\n",
              "      <td>34.810001</td>\n",
              "      <td>34.980000</td>\n",
              "      <td>27888500.0</td>\n",
              "      <td>19.700001</td>\n",
              "    </tr>\n",
              "  </tbody>\n",
              "</table>\n",
              "<p>2086 rows × 6 columns</p>\n",
              "</div>"
            ],
            "text/plain": [
              "                 High        Low       Open      Close      Volume  Adj Close\n",
              "Date                                                                         \n",
              "2012-01-03  31.570000  31.250000  31.260000  31.450001   8276700.0  24.786560\n",
              "2012-01-04  31.350000  31.070000  31.290001  31.270000   2609200.0  24.824684\n",
              "2012-01-05  30.850000  30.590000  30.770000  30.820000   2095900.0  24.778285\n",
              "2012-01-06  30.730000  30.330000  30.730000  30.459999   2044000.0  24.740318\n",
              "2012-01-09  30.620001  30.320000  30.610001  30.530001   1652200.0  24.746528\n",
              "...               ...        ...        ...        ...         ...        ...\n",
              "2020-04-13  34.740002  34.200001  34.669998  34.500000  34969000.0  19.139999\n",
              "2020-04-14  35.369999  34.970001  35.029999  35.119999  21511100.0  19.510000\n",
              "2020-04-15  34.240002  33.869999  34.060001  33.980000  22435900.0  18.590000\n",
              "2020-04-16  34.209999  33.700001  34.110001  34.020000  36469000.0  18.340000\n",
              "2020-04-17  35.029999  34.580002  34.810001  34.980000  27888500.0  19.700001\n",
              "\n",
              "[2086 rows x 6 columns]"
            ]
          },
          "metadata": {
            "tags": []
          },
          "execution_count": 7
        }
      ]
    },
    {
      "cell_type": "code",
      "metadata": {
        "id": "rnrUpqaicXJ4",
        "colab_type": "code",
        "outputId": "263e8e6b-f824-489c-f1b0-63ac28ebbf60",
        "colab": {
          "base_uri": "https://localhost:8080/",
          "height": 238
        }
      },
      "source": [
        "stock_list=[AAPL,TSLA,GILD,MELI,MSFT,DIS,NVDA,TCO,MMM,INCY,IBM,EPC,SPY,YELP,VTI]\n",
        "index_list=['AAPL','TSLA','GILD','MELI','MSFT','DIS','NVDA','TCO','MMM','INCY','IBM','EPC','SPY','YELP','VTI']\n",
        "log_price=[]\n",
        "for i in range(15):\n",
        "  stock_log=np.log(stock_list[i]['Adj Close'])\n",
        "  log_price.append(stock_log)\n",
        "log_price[0]"
      ],
      "execution_count": 8,
      "outputs": [
        {
          "output_type": "execute_result",
          "data": {
            "text/plain": [
              "Date\n",
              "2012-01-03    3.929022\n",
              "2012-01-04    3.934382\n",
              "2012-01-05    3.945423\n",
              "2012-01-06    3.955823\n",
              "2012-01-09    3.954235\n",
              "                ...   \n",
              "2020-04-13    5.607684\n",
              "2020-04-14    5.656953\n",
              "2020-04-15    5.647784\n",
              "2020-04-16    5.655698\n",
              "2020-04-17    5.642037\n",
              "Name: Adj Close, Length: 2086, dtype: float64"
            ]
          },
          "metadata": {
            "tags": []
          },
          "execution_count": 8
        }
      ]
    },
    {
      "cell_type": "code",
      "metadata": {
        "id": "qWSHLGVqcXV4",
        "colab_type": "code",
        "outputId": "b40d5c7e-1089-49b0-959a-e4a9307d9603",
        "colab": {
          "base_uri": "https://localhost:8080/",
          "height": 34
        }
      },
      "source": [
        "var_list=[]\n",
        "for i in range(15):\n",
        "  a=log_price[i].var()\n",
        "  var_list.append(a)\n",
        "sort_list=var_list.copy()\n",
        "sort_list.sort()\n",
        "choose_list=sort_list[-4:]\n",
        "name_list=[]\n",
        "for i in range(4):\n",
        "  a=choose_list[i]\n",
        "  b=var_list.index(a)\n",
        "  name_list.append(index_list[b])\n",
        "name_list"
      ],
      "execution_count": 9,
      "outputs": [
        {
          "output_type": "execute_result",
          "data": {
            "text/plain": [
              "['INCY', 'MELI', 'TSLA', 'NVDA']"
            ]
          },
          "metadata": {
            "tags": []
          },
          "execution_count": 9
        }
      ]
    },
    {
      "cell_type": "code",
      "metadata": {
        "id": "Q82rDmAgKK6f",
        "colab_type": "code",
        "outputId": "113f88d3-1fad-41aa-f219-11be66106e92",
        "colab": {
          "base_uri": "https://localhost:8080/",
          "height": 71
        }
      },
      "source": [
        "weektime=[]\n",
        "for i in tradingdays1:\n",
        "  if i.weekday() == 2:\n",
        "    weektime.append(i)\n",
        "\n",
        "nan_list=[]\n",
        "nan_index=[]\n",
        "for i in range(422):\n",
        "  if weektime[i+1]-weektime[i] != pd.Timedelta('7 days'):\n",
        "    nan_list.append(weektime[i])\n",
        "    nan_index.append(i)\n",
        "\n",
        "\n",
        "#weektime: wednesday date list\n",
        "#weektime[-1]\n",
        "print(nan_index)\n",
        "print(nan_list)\n",
        "#找到缺失tradingday的周三 以周二数据代替"
      ],
      "execution_count": 10,
      "outputs": [
        {
          "output_type": "stream",
          "text": [
            "[25, 101, 335, 356, 410]\n",
            "[Timestamp('2012-06-27 00:00:00', freq='C'), Timestamp('2013-12-18 00:00:00', freq='C'), Timestamp('2018-06-27 00:00:00', freq='C'), Timestamp('2018-11-28 00:00:00', freq='C'), Timestamp('2019-12-18 00:00:00', freq='C')]\n"
          ],
          "name": "stdout"
        }
      ]
    },
    {
      "cell_type": "code",
      "metadata": {
        "id": "IV_KVh-7lDX_",
        "colab_type": "code",
        "outputId": "88b82e3d-3543-4f87-9160-66d664f66760",
        "colab": {
          "base_uri": "https://localhost:8080/",
          "height": 34
        }
      },
      "source": [
        "p1=pd.Timestamp(2012,7,3)\n",
        "p2=pd.Timestamp(2013,12,24)\n",
        "p3=pd.Timestamp(2013,12,31)\n",
        "p4=pd.Timestamp(2018,7,3)\n",
        "p5=pd.Timestamp(2018,12,4)\n",
        "p6=pd.Timestamp(2019,12,24)\n",
        "p7=pd.Timestamp(2019,12,31)\n",
        "weektime.insert(26,p1)\n",
        "weektime.insert(103,p2)\n",
        "weektime.insert(104,p3)\n",
        "weektime.insert(339,p4)\n",
        "weektime.insert(361,p5)\n",
        "weektime.insert(416,p6)\n",
        "weektime.insert(417,p7)\n",
        "len(weektime)"
      ],
      "execution_count": 11,
      "outputs": [
        {
          "output_type": "execute_result",
          "data": {
            "text/plain": [
              "433"
            ]
          },
          "metadata": {
            "tags": []
          },
          "execution_count": 11
        }
      ]
    },
    {
      "cell_type": "code",
      "metadata": {
        "id": "swdr_19-9kDh",
        "colab_type": "code",
        "colab": {}
      },
      "source": [
        "from datetime import date\n",
        "total_num=len(tradingdays)\n",
        "date_list=[]\n",
        "for i in range(total_num-1):\n",
        "  if tradingdays.index[i].day > tradingdays.index[i+1].day:\n",
        "    date_list.append(tradingdays.index[i])\n",
        "\n",
        "#date_list 每个月最后一个交易日列表\n",
        "#date_list"
      ],
      "execution_count": 0,
      "outputs": []
    },
    {
      "cell_type": "code",
      "metadata": {
        "id": "8Xx9vZB39j_B",
        "colab_type": "code",
        "colab": {}
      },
      "source": [
        "index_list=['AAPL','TSLA','GILD','MELI','MSFT','DIS','NVDA','TCO','MMM','INCY','IBM','EPC','SPY','YELP','VTI']\n",
        "\n",
        "def new_portfolio():\n",
        "    res = pd.DataFrame(columns=['Share', 'Adj Close'],index=pd.Series(index_list))\n",
        "    return res\n",
        "\n",
        "my_port = new_portfolio()\n",
        "#my_port portfolio模型"
      ],
      "execution_count": 0,
      "outputs": []
    },
    {
      "cell_type": "code",
      "metadata": {
        "id": "wy_U-bVZ9j6E",
        "colab_type": "code",
        "colab": {}
      },
      "source": [
        "update_list=[] #所有天的portfolio\n",
        "\n",
        "for i in range(len(index_list)):\n",
        "    a=index_list[i]\n",
        "    my_port.loc[a]['Adj Close']=stock_list[i].loc['2012-01-03']['Adj Close']\n",
        "update_list.append(my_port)\n",
        "\n",
        "for j in range(len(date_list)):\n",
        "  b=date_list[j]\n",
        "  my_port=new_portfolio()\n",
        "  for i in range(len(index_list)):\n",
        "    a=index_list[i]\n",
        "    my_port.loc[a]['Adj Close']=stock_list[i].loc[b]['Adj Close']\n",
        "  update_list.append(my_port)\n",
        "\n",
        "#更新所有portfolio adjclose这一列\n"
      ],
      "execution_count": 0,
      "outputs": []
    },
    {
      "cell_type": "code",
      "metadata": {
        "id": "UxTjIDepcXYf",
        "colab_type": "code",
        "colab": {}
      },
      "source": [
        "for i in range(len(index_list)):\n",
        "    a=index_list[i]\n",
        "    update_list[0].loc[a]['Share']=(400000/15)/update_list[0].loc[a]['Adj Close']\n",
        "\n",
        "def total_value(portfolio1,portfolio2):\n",
        "  res=0\n",
        "  for i in range(len(index_list)):\n",
        "    a=index_list[i]\n",
        "    res+=portfolio1.loc[a]['Share']*portfolio2.loc[a]['Adj Close']\n",
        "  return res\n",
        "\n",
        "for i in range(len(update_list)-1):\n",
        "  to_value=total_value(update_list[i],update_list[i+1])\n",
        "  for j in range(len(index_list)):\n",
        "    a=index_list[j]\n",
        "    update_list[i+1].loc[a]['Share']=(to_value/15)/update_list[i+1].loc[a]['Adj Close']\n",
        "\n",
        "#更新所有portfolio share这一列\n",
        "#update——list 包含所有的portfolio zaiyuemojiaoyiri\n",
        "\n",
        "#截止到此，我们获取了每月最后一日的portfolio的信息"
      ],
      "execution_count": 0,
      "outputs": []
    },
    {
      "cell_type": "code",
      "metadata": {
        "id": "AjkILQhbQ700",
        "colab_type": "code",
        "outputId": "c5dccab0-c8c8-4147-b26b-a4b2b1306237",
        "colab": {
          "base_uri": "https://localhost:8080/",
          "height": 34
        }
      },
      "source": [
        "week_stock=[] #所有Wednesday的portfolio\n",
        "\n",
        "for j in range(len(weektime)):\n",
        "  b=weektime[j]\n",
        "  my_port=new_portfolio()\n",
        "  for i in range(len(index_list)):\n",
        "    a=index_list[i]\n",
        "    my_port.loc[a]['Adj Close']=stock_list[i].loc[b]['Adj Close']\n",
        "  week_stock.append(my_port)\n",
        "len(week_stock)"
      ],
      "execution_count": 16,
      "outputs": [
        {
          "output_type": "execute_result",
          "data": {
            "text/plain": [
              "433"
            ]
          },
          "metadata": {
            "tags": []
          },
          "execution_count": 16
        }
      ]
    },
    {
      "cell_type": "code",
      "metadata": {
        "id": "mwcEAnC5Q7vs",
        "colab_type": "code",
        "colab": {}
      },
      "source": [
        "m=0\n",
        "for i in range(len(week_stock)):\n",
        "  if weektime[i].month <= date_list[m].month:\n",
        "    for j in range(len(index_list)):\n",
        "      a=index_list[j]\n",
        "      week_stock[i].loc[a]['Share']=update_list[m+1].loc[a]['Share']\n",
        "  else:\n",
        "    m+=1\n",
        "    for j in range(len(index_list)):\n",
        "      a=index_list[j]\n",
        "      week_stock[i].loc[a]['Share']=update_list[m+1].loc[a]['Share']\n",
        "\n",
        "#week_stock all updated"
      ],
      "execution_count": 0,
      "outputs": []
    },
    {
      "cell_type": "code",
      "metadata": {
        "id": "xxm17pHdQ7gQ",
        "colab_type": "code",
        "outputId": "a85caa1b-1fac-40c4-c760-9ff3bd887184",
        "colab": {
          "base_uri": "https://localhost:8080/",
          "height": 34
        }
      },
      "source": [
        "len(week_stock)\n",
        "len(weektime)"
      ],
      "execution_count": 18,
      "outputs": [
        {
          "output_type": "execute_result",
          "data": {
            "text/plain": [
              "433"
            ]
          },
          "metadata": {
            "tags": []
          },
          "execution_count": 18
        }
      ]
    },
    {
      "cell_type": "code",
      "metadata": {
        "id": "XPXHk2SvQ7au",
        "colab_type": "code",
        "outputId": "02b36b11-c4fa-498e-e7a3-e3116de4e542",
        "colab": {
          "base_uri": "https://localhost:8080/",
          "height": 34
        }
      },
      "source": [
        "weektime[208]"
      ],
      "execution_count": 19,
      "outputs": [
        {
          "output_type": "execute_result",
          "data": {
            "text/plain": [
              "Timestamp('2015-12-30 00:00:00', freq='C')"
            ]
          },
          "metadata": {
            "tags": []
          },
          "execution_count": 19
        }
      ]
    },
    {
      "cell_type": "code",
      "metadata": {
        "id": "wzO7DWkLQ7Vq",
        "colab_type": "code",
        "outputId": "1bc89820-111b-4449-9c45-48abe7b2de4c",
        "colab": {
          "base_uri": "https://localhost:8080/",
          "height": 34
        }
      },
      "source": [
        "a=weektime[0]\n",
        "AAPL.loc[a]['Adj Close']\n",
        "a"
      ],
      "execution_count": 20,
      "outputs": [
        {
          "output_type": "execute_result",
          "data": {
            "text/plain": [
              "Timestamp('2012-01-04 00:00:00', freq='C')"
            ]
          },
          "metadata": {
            "tags": []
          },
          "execution_count": 20
        }
      ]
    },
    {
      "cell_type": "code",
      "metadata": {
        "id": "Mhu0yGXvQ7Lj",
        "colab_type": "code",
        "colab": {}
      },
      "source": [
        "stock_list=[AAPL,TSLA,GILD,MELI,MSFT,DIS,NVDA,TCO,MMM,INCY,IBM,EPC,SPY,YELP,VTI]\n",
        "log_return=[]\n",
        "for j in range(15):\n",
        "  price_list=[]\n",
        "  for i in range(len(weektime)):\n",
        "    b=weektime[i]\n",
        "    a=stock_list[j].loc[b]['Adj Close']\n",
        "    price_list.append(a)\n",
        "  stock_log=np.log(price_list)\n",
        "  len_num=len(stock_log)\n",
        "  for j in range(len_num-1):\n",
        "    stock_log[j]=stock_log[j+1]-stock_log[j]\n",
        "  log_return.append(stock_log[:-1])\n",
        "#log_return for 15 equities"
      ],
      "execution_count": 0,
      "outputs": []
    },
    {
      "cell_type": "markdown",
      "metadata": {
        "id": "7s_PsiJaIY1J",
        "colab_type": "text"
      },
      "source": [
        "现在以四年的时间长度rolling来estimate multivariate normal的参数 再compute新log return 再算新loss 也就是我们算的是2016年第一个周三到2020年三月份最后一个周三 computed losses."
      ]
    },
    {
      "cell_type": "code",
      "metadata": {
        "id": "qHxsaAxdQ7Gp",
        "colab_type": "code",
        "outputId": "0b0eef60-72fc-4c53-ac5f-fc2daf5ccc85",
        "colab": {
          "base_uri": "https://localhost:8080/",
          "height": 34
        }
      },
      "source": [
        "u_list=[]\n",
        "for j in range(225):\n",
        "  u=[]\n",
        "  for i in range(15):\n",
        "    a=log_return[i][j:(j+209)]\n",
        "    u.append(a.mean())\n",
        "  u_list.append(u)\n",
        "len(u_list)"
      ],
      "execution_count": 22,
      "outputs": [
        {
          "output_type": "execute_result",
          "data": {
            "text/plain": [
              "225"
            ]
          },
          "metadata": {
            "tags": []
          },
          "execution_count": 22
        }
      ]
    },
    {
      "cell_type": "code",
      "metadata": {
        "id": "BUcTewu6Q7Bs",
        "colab_type": "code",
        "outputId": "e934d714-6514-47c3-8b31-b1f5bce8640c",
        "colab": {
          "base_uri": "https://localhost:8080/",
          "height": 514
        }
      },
      "source": [
        "cov_list=[]\n",
        "for j in range(225):\n",
        "  df_temp={}\n",
        "  for i in range(15):\n",
        "    df_temp[index_list[i]]=log_return[i][j:(j+209)]\n",
        "  df = pd.DataFrame(df_temp)\n",
        "  cov_mat=df.cov()  \n",
        "  cov_list.append(cov_mat)\n",
        "\n",
        "cov_list[0]"
      ],
      "execution_count": 23,
      "outputs": [
        {
          "output_type": "execute_result",
          "data": {
            "text/html": [
              "<div>\n",
              "<style scoped>\n",
              "    .dataframe tbody tr th:only-of-type {\n",
              "        vertical-align: middle;\n",
              "    }\n",
              "\n",
              "    .dataframe tbody tr th {\n",
              "        vertical-align: top;\n",
              "    }\n",
              "\n",
              "    .dataframe thead th {\n",
              "        text-align: right;\n",
              "    }\n",
              "</style>\n",
              "<table border=\"1\" class=\"dataframe\">\n",
              "  <thead>\n",
              "    <tr style=\"text-align: right;\">\n",
              "      <th></th>\n",
              "      <th>AAPL</th>\n",
              "      <th>TSLA</th>\n",
              "      <th>GILD</th>\n",
              "      <th>MELI</th>\n",
              "      <th>MSFT</th>\n",
              "      <th>DIS</th>\n",
              "      <th>NVDA</th>\n",
              "      <th>TCO</th>\n",
              "      <th>MMM</th>\n",
              "      <th>INCY</th>\n",
              "      <th>IBM</th>\n",
              "      <th>EPC</th>\n",
              "      <th>SPY</th>\n",
              "      <th>YELP</th>\n",
              "      <th>VTI</th>\n",
              "    </tr>\n",
              "  </thead>\n",
              "  <tbody>\n",
              "    <tr>\n",
              "      <th>AAPL</th>\n",
              "      <td>0.001226</td>\n",
              "      <td>0.000265</td>\n",
              "      <td>0.000256</td>\n",
              "      <td>0.000636</td>\n",
              "      <td>0.000319</td>\n",
              "      <td>0.000299</td>\n",
              "      <td>0.000263</td>\n",
              "      <td>0.000155</td>\n",
              "      <td>0.000254</td>\n",
              "      <td>0.000332</td>\n",
              "      <td>0.000225</td>\n",
              "      <td>0.000296</td>\n",
              "      <td>0.000299</td>\n",
              "      <td>0.000471</td>\n",
              "      <td>0.000304</td>\n",
              "    </tr>\n",
              "    <tr>\n",
              "      <th>TSLA</th>\n",
              "      <td>0.000265</td>\n",
              "      <td>0.004452</td>\n",
              "      <td>0.000740</td>\n",
              "      <td>0.001214</td>\n",
              "      <td>0.000600</td>\n",
              "      <td>0.000514</td>\n",
              "      <td>0.000554</td>\n",
              "      <td>0.000089</td>\n",
              "      <td>0.000314</td>\n",
              "      <td>0.000956</td>\n",
              "      <td>0.000243</td>\n",
              "      <td>0.000156</td>\n",
              "      <td>0.000391</td>\n",
              "      <td>0.001644</td>\n",
              "      <td>0.000421</td>\n",
              "    </tr>\n",
              "    <tr>\n",
              "      <th>GILD</th>\n",
              "      <td>0.000256</td>\n",
              "      <td>0.000740</td>\n",
              "      <td>0.001728</td>\n",
              "      <td>0.000786</td>\n",
              "      <td>0.000225</td>\n",
              "      <td>0.000371</td>\n",
              "      <td>0.000184</td>\n",
              "      <td>0.000249</td>\n",
              "      <td>0.000298</td>\n",
              "      <td>0.000901</td>\n",
              "      <td>0.000107</td>\n",
              "      <td>0.000233</td>\n",
              "      <td>0.000307</td>\n",
              "      <td>0.000822</td>\n",
              "      <td>0.000320</td>\n",
              "    </tr>\n",
              "    <tr>\n",
              "      <th>MELI</th>\n",
              "      <td>0.000636</td>\n",
              "      <td>0.001214</td>\n",
              "      <td>0.000786</td>\n",
              "      <td>0.003159</td>\n",
              "      <td>0.000484</td>\n",
              "      <td>0.000535</td>\n",
              "      <td>0.000687</td>\n",
              "      <td>0.000206</td>\n",
              "      <td>0.000454</td>\n",
              "      <td>0.000581</td>\n",
              "      <td>0.000383</td>\n",
              "      <td>0.000430</td>\n",
              "      <td>0.000493</td>\n",
              "      <td>0.001974</td>\n",
              "      <td>0.000521</td>\n",
              "    </tr>\n",
              "    <tr>\n",
              "      <th>MSFT</th>\n",
              "      <td>0.000319</td>\n",
              "      <td>0.000600</td>\n",
              "      <td>0.000225</td>\n",
              "      <td>0.000484</td>\n",
              "      <td>0.001018</td>\n",
              "      <td>0.000331</td>\n",
              "      <td>0.000470</td>\n",
              "      <td>0.000174</td>\n",
              "      <td>0.000265</td>\n",
              "      <td>0.000231</td>\n",
              "      <td>0.000280</td>\n",
              "      <td>0.000178</td>\n",
              "      <td>0.000328</td>\n",
              "      <td>0.000463</td>\n",
              "      <td>0.000325</td>\n",
              "    </tr>\n",
              "    <tr>\n",
              "      <th>DIS</th>\n",
              "      <td>0.000299</td>\n",
              "      <td>0.000514</td>\n",
              "      <td>0.000371</td>\n",
              "      <td>0.000535</td>\n",
              "      <td>0.000331</td>\n",
              "      <td>0.000622</td>\n",
              "      <td>0.000377</td>\n",
              "      <td>0.000183</td>\n",
              "      <td>0.000294</td>\n",
              "      <td>0.000279</td>\n",
              "      <td>0.000199</td>\n",
              "      <td>0.000215</td>\n",
              "      <td>0.000296</td>\n",
              "      <td>0.000710</td>\n",
              "      <td>0.000301</td>\n",
              "    </tr>\n",
              "    <tr>\n",
              "      <th>NVDA</th>\n",
              "      <td>0.000263</td>\n",
              "      <td>0.000554</td>\n",
              "      <td>0.000184</td>\n",
              "      <td>0.000687</td>\n",
              "      <td>0.000470</td>\n",
              "      <td>0.000377</td>\n",
              "      <td>0.001276</td>\n",
              "      <td>0.000194</td>\n",
              "      <td>0.000297</td>\n",
              "      <td>0.000265</td>\n",
              "      <td>0.000239</td>\n",
              "      <td>0.000137</td>\n",
              "      <td>0.000302</td>\n",
              "      <td>0.000649</td>\n",
              "      <td>0.000311</td>\n",
              "    </tr>\n",
              "    <tr>\n",
              "      <th>TCO</th>\n",
              "      <td>0.000155</td>\n",
              "      <td>0.000089</td>\n",
              "      <td>0.000249</td>\n",
              "      <td>0.000206</td>\n",
              "      <td>0.000174</td>\n",
              "      <td>0.000183</td>\n",
              "      <td>0.000194</td>\n",
              "      <td>0.000625</td>\n",
              "      <td>0.000136</td>\n",
              "      <td>0.000184</td>\n",
              "      <td>0.000136</td>\n",
              "      <td>0.000131</td>\n",
              "      <td>0.000170</td>\n",
              "      <td>0.000301</td>\n",
              "      <td>0.000176</td>\n",
              "    </tr>\n",
              "    <tr>\n",
              "      <th>MMM</th>\n",
              "      <td>0.000254</td>\n",
              "      <td>0.000314</td>\n",
              "      <td>0.000298</td>\n",
              "      <td>0.000454</td>\n",
              "      <td>0.000265</td>\n",
              "      <td>0.000294</td>\n",
              "      <td>0.000297</td>\n",
              "      <td>0.000136</td>\n",
              "      <td>0.000436</td>\n",
              "      <td>0.000342</td>\n",
              "      <td>0.000168</td>\n",
              "      <td>0.000237</td>\n",
              "      <td>0.000263</td>\n",
              "      <td>0.000406</td>\n",
              "      <td>0.000267</td>\n",
              "    </tr>\n",
              "    <tr>\n",
              "      <th>INCY</th>\n",
              "      <td>0.000332</td>\n",
              "      <td>0.000956</td>\n",
              "      <td>0.000901</td>\n",
              "      <td>0.000581</td>\n",
              "      <td>0.000231</td>\n",
              "      <td>0.000279</td>\n",
              "      <td>0.000265</td>\n",
              "      <td>0.000184</td>\n",
              "      <td>0.000342</td>\n",
              "      <td>0.004734</td>\n",
              "      <td>-0.000012</td>\n",
              "      <td>0.000314</td>\n",
              "      <td>0.000307</td>\n",
              "      <td>0.000792</td>\n",
              "      <td>0.000340</td>\n",
              "    </tr>\n",
              "    <tr>\n",
              "      <th>IBM</th>\n",
              "      <td>0.000225</td>\n",
              "      <td>0.000243</td>\n",
              "      <td>0.000107</td>\n",
              "      <td>0.000383</td>\n",
              "      <td>0.000280</td>\n",
              "      <td>0.000199</td>\n",
              "      <td>0.000239</td>\n",
              "      <td>0.000136</td>\n",
              "      <td>0.000168</td>\n",
              "      <td>-0.000012</td>\n",
              "      <td>0.000595</td>\n",
              "      <td>0.000140</td>\n",
              "      <td>0.000196</td>\n",
              "      <td>0.000470</td>\n",
              "      <td>0.000193</td>\n",
              "    </tr>\n",
              "    <tr>\n",
              "      <th>EPC</th>\n",
              "      <td>0.000296</td>\n",
              "      <td>0.000156</td>\n",
              "      <td>0.000233</td>\n",
              "      <td>0.000430</td>\n",
              "      <td>0.000178</td>\n",
              "      <td>0.000215</td>\n",
              "      <td>0.000137</td>\n",
              "      <td>0.000131</td>\n",
              "      <td>0.000237</td>\n",
              "      <td>0.000314</td>\n",
              "      <td>0.000140</td>\n",
              "      <td>0.000798</td>\n",
              "      <td>0.000198</td>\n",
              "      <td>0.000229</td>\n",
              "      <td>0.000201</td>\n",
              "    </tr>\n",
              "    <tr>\n",
              "      <th>SPY</th>\n",
              "      <td>0.000299</td>\n",
              "      <td>0.000391</td>\n",
              "      <td>0.000307</td>\n",
              "      <td>0.000493</td>\n",
              "      <td>0.000328</td>\n",
              "      <td>0.000296</td>\n",
              "      <td>0.000302</td>\n",
              "      <td>0.000170</td>\n",
              "      <td>0.000263</td>\n",
              "      <td>0.000307</td>\n",
              "      <td>0.000196</td>\n",
              "      <td>0.000198</td>\n",
              "      <td>0.000270</td>\n",
              "      <td>0.000537</td>\n",
              "      <td>0.000274</td>\n",
              "    </tr>\n",
              "    <tr>\n",
              "      <th>YELP</th>\n",
              "      <td>0.000471</td>\n",
              "      <td>0.001644</td>\n",
              "      <td>0.000822</td>\n",
              "      <td>0.001974</td>\n",
              "      <td>0.000463</td>\n",
              "      <td>0.000710</td>\n",
              "      <td>0.000649</td>\n",
              "      <td>0.000301</td>\n",
              "      <td>0.000406</td>\n",
              "      <td>0.000792</td>\n",
              "      <td>0.000470</td>\n",
              "      <td>0.000229</td>\n",
              "      <td>0.000537</td>\n",
              "      <td>0.007779</td>\n",
              "      <td>0.000579</td>\n",
              "    </tr>\n",
              "    <tr>\n",
              "      <th>VTI</th>\n",
              "      <td>0.000304</td>\n",
              "      <td>0.000421</td>\n",
              "      <td>0.000320</td>\n",
              "      <td>0.000521</td>\n",
              "      <td>0.000325</td>\n",
              "      <td>0.000301</td>\n",
              "      <td>0.000311</td>\n",
              "      <td>0.000176</td>\n",
              "      <td>0.000267</td>\n",
              "      <td>0.000340</td>\n",
              "      <td>0.000193</td>\n",
              "      <td>0.000201</td>\n",
              "      <td>0.000274</td>\n",
              "      <td>0.000579</td>\n",
              "      <td>0.000282</td>\n",
              "    </tr>\n",
              "  </tbody>\n",
              "</table>\n",
              "</div>"
            ],
            "text/plain": [
              "          AAPL      TSLA      GILD  ...       SPY      YELP       VTI\n",
              "AAPL  0.001226  0.000265  0.000256  ...  0.000299  0.000471  0.000304\n",
              "TSLA  0.000265  0.004452  0.000740  ...  0.000391  0.001644  0.000421\n",
              "GILD  0.000256  0.000740  0.001728  ...  0.000307  0.000822  0.000320\n",
              "MELI  0.000636  0.001214  0.000786  ...  0.000493  0.001974  0.000521\n",
              "MSFT  0.000319  0.000600  0.000225  ...  0.000328  0.000463  0.000325\n",
              "DIS   0.000299  0.000514  0.000371  ...  0.000296  0.000710  0.000301\n",
              "NVDA  0.000263  0.000554  0.000184  ...  0.000302  0.000649  0.000311\n",
              "TCO   0.000155  0.000089  0.000249  ...  0.000170  0.000301  0.000176\n",
              "MMM   0.000254  0.000314  0.000298  ...  0.000263  0.000406  0.000267\n",
              "INCY  0.000332  0.000956  0.000901  ...  0.000307  0.000792  0.000340\n",
              "IBM   0.000225  0.000243  0.000107  ...  0.000196  0.000470  0.000193\n",
              "EPC   0.000296  0.000156  0.000233  ...  0.000198  0.000229  0.000201\n",
              "SPY   0.000299  0.000391  0.000307  ...  0.000270  0.000537  0.000274\n",
              "YELP  0.000471  0.001644  0.000822  ...  0.000537  0.007779  0.000579\n",
              "VTI   0.000304  0.000421  0.000320  ...  0.000274  0.000579  0.000282\n",
              "\n",
              "[15 rows x 15 columns]"
            ]
          },
          "metadata": {
            "tags": []
          },
          "execution_count": 23
        }
      ]
    },
    {
      "cell_type": "code",
      "metadata": {
        "id": "4RzeMX9eQ687",
        "colab_type": "code",
        "colab": {}
      },
      "source": [
        "linloss_list=[]\n",
        "for n in range(225):\n",
        "  linloss=0\n",
        "  var = np.random.multivariate_normal(mean=u_list[n], cov=cov_list[n]) \n",
        "  for j in range(len(index_list)):\n",
        "    a=index_list[j]\n",
        "    linloss+=week_stock[208+n].loc[a]['Share']*week_stock[208+n].loc[a]['Adj Close']*var[j]\n",
        "  linloss_list.append(-linloss)\n",
        "len(linloss_list)\n",
        "#229:2016diyigezhousan--2020.4.22\n",
        "linloss_equity=linloss_list[-14:]\n"
      ],
      "execution_count": 0,
      "outputs": []
    },
    {
      "cell_type": "code",
      "metadata": {
        "id": "1D389yH-b1UF",
        "colab_type": "code",
        "colab": {
          "base_uri": "https://localhost:8080/",
          "height": 34
        },
        "outputId": "bbcdf5e9-c3da-4b0a-ee0b-61e8f69eb0c6"
      },
      "source": [
        "weektime[365]"
      ],
      "execution_count": 25,
      "outputs": [
        {
          "output_type": "execute_result",
          "data": {
            "text/plain": [
              "Timestamp('2019-01-02 00:00:00', freq='C')"
            ]
          },
          "metadata": {
            "tags": []
          },
          "execution_count": 25
        }
      ]
    },
    {
      "cell_type": "code",
      "metadata": {
        "id": "BAhYMRNfbGNk",
        "colab_type": "code",
        "colab": {}
      },
      "source": [
        "len(weektime[365:])\n",
        "linloss_equity=linloss_list[-69:]"
      ],
      "execution_count": 0,
      "outputs": []
    },
    {
      "cell_type": "code",
      "metadata": {
        "id": "5KXtzMeDQ62F",
        "colab_type": "code",
        "colab": {}
      },
      "source": [
        "import seaborn as sns \n",
        "import matplotlib.pyplot as plt\n",
        "def pdf_function1(loss,title):\n",
        "  sns.distplot(loss,color=\"black\",bins=50,kde=True)\n",
        "  plt.title(title)\n",
        "  plt.show()\n"
      ],
      "execution_count": 0,
      "outputs": []
    },
    {
      "cell_type": "code",
      "metadata": {
        "id": "xJVqMk4nQhvB",
        "colab_type": "code",
        "outputId": "49713c5e-1105-4e73-e021-c252b3a66026",
        "colab": {
          "base_uri": "https://localhost:8080/",
          "height": 281
        }
      },
      "source": [
        "pdf_function1(linloss_equity,'equity linearized loss pdf')"
      ],
      "execution_count": 28,
      "outputs": [
        {
          "output_type": "display_data",
          "data": {
            "image/png": "[encoded data removed]",
            "text/plain": [
              "<Figure size 432x288 with 1 Axes>"
            ]
          },
          "metadata": {
            "tags": [],
            "needs_background": "light"
          }
        }
      ]
    },
    {
      "cell_type": "markdown",
      "metadata": {
        "id": "ZNZVKlbactyQ",
        "colab_type": "text"
      },
      "source": [
        "**Above all,we use 4-year rolling window to approximate the equity loss from 2019.01.02 to 2020.4.22.**"
      ]
    },
    {
      "cell_type": "markdown",
      "metadata": {
        "id": "0DkacXUcdd7e",
        "colab_type": "text"
      },
      "source": [
        "# **Now we work on bond loss approximation**"
      ]
    },
    {
      "cell_type": "code",
      "metadata": {
        "id": "1gDKSZM5vIr-",
        "colab_type": "code",
        "colab": {}
      },
      "source": [
        "bond1=[2.258,2.310,2.324,2.383,2.233,2.209,2.242,2.245,2.365,2.376,2.396,2.368,2.273,2.264,2.108,2.175,2.126,2.044,1.858,1.712,1.423,1.870,1.375,1.257,1.330,1.260]\n",
        "bond3=[2.271,2.322,2.321,2.380,2.233,2.207,2.238,2.246,2.355,2.372,2.388,2.352,2.258,2.241,2.088,2.162,2.119,2.033,1.851,1.690,1.387,1.853,1.412,1.283,1.359,1.296]"
      ],
      "execution_count": 0,
      "outputs": []
    },
    {
      "cell_type": "code",
      "metadata": {
        "id": "-8FAV5LGz1qy",
        "colab_type": "code",
        "colab": {
          "base_uri": "https://localhost:8080/",
          "height": 34
        },
        "outputId": "0fea38f0-d292-4d35-e1c3-c441acbdd862"
      },
      "source": [
        "weektime[283]"
      ],
      "execution_count": 30,
      "outputs": [
        {
          "output_type": "execute_result",
          "data": {
            "text/plain": [
              "Timestamp('2017-06-07 00:00:00', freq='C')"
            ]
          },
          "metadata": {
            "tags": []
          },
          "execution_count": 30
        }
      ]
    },
    {
      "cell_type": "code",
      "metadata": {
        "id": "08tS7_fD0_SW",
        "colab_type": "code",
        "colab": {
          "base_uri": "https://localhost:8080/",
          "height": 34
        },
        "outputId": "e398e609-8372-4e2d-ac99-8198994242da"
      },
      "source": [
        "weektime[364]"
      ],
      "execution_count": 31,
      "outputs": [
        {
          "output_type": "execute_result",
          "data": {
            "text/plain": [
              "Timestamp('2018-12-26 00:00:00', freq='C')"
            ]
          },
          "metadata": {
            "tags": []
          },
          "execution_count": 31
        }
      ]
    },
    {
      "cell_type": "markdown",
      "metadata": {
        "id": "w4gk4-kW0vVg",
        "colab_type": "text"
      },
      "source": [
        "**use data of 19 months----starts from 2017.6.7 to 2018.12.26-----to estimate risk factor yield, and  then approximate data from 2019.01.02 to 2020.4.22**"
      ]
    },
    {
      "cell_type": "code",
      "metadata": {
        "id": "1wUxk9Wl0uj4",
        "colab_type": "code",
        "colab": {
          "base_uri": "https://localhost:8080/",
          "height": 34
        },
        "outputId": "26af8eaf-a6a9-4881-91f6-cbf28a55dd0b"
      },
      "source": [
        "q1_time=weektime[283:]\n",
        "q1_time[81]\n",
        "len(q1_time[82:])\n",
        "#calculating from 2017.6.7 to 2018.12.26 we have 68 values and we need to approximate 69 values.we have total 150 data."
      ],
      "execution_count": 32,
      "outputs": [
        {
          "output_type": "execute_result",
          "data": {
            "text/plain": [
              "68"
            ]
          },
          "metadata": {
            "tags": []
          },
          "execution_count": 32
        }
      ]
    },
    {
      "cell_type": "code",
      "metadata": {
        "id": "fwzDDt2M2aKj",
        "colab_type": "code",
        "colab": {}
      },
      "source": [
        "lack_time=q1_time[:124]\n",
        "lack_time[56]=pd.Timestamp(2018,7,2)\n",
        "lack_time[108]=pd.Timestamp(2019,7,2)\n"
      ],
      "execution_count": 0,
      "outputs": []
    },
    {
      "cell_type": "code",
      "metadata": {
        "id": "7kC5KBE219Hv",
        "colab_type": "code",
        "colab": {
          "base_uri": "https://localhost:8080/",
          "height": 34
        },
        "outputId": "04d2cdf6-e330-47e4-c0c1-980f72cbd1f3"
      },
      "source": [
        "B30= drd.get_data_yahoo('^TYX','06/07/2017','10/16/2019',interval='d')\n",
        "bond_lack=[]\n",
        "for i in range(len(lack_time)):\n",
        "  a=lack_time[i]\n",
        "  b=B30.loc[a,'Adj Close']\n",
        "  bond_lack.append(b)\n",
        "len(bond_lack)"
      ],
      "execution_count": 34,
      "outputs": [
        {
          "output_type": "execute_result",
          "data": {
            "text/plain": [
              "124"
            ]
          },
          "metadata": {
            "tags": []
          },
          "execution_count": 34
        }
      ]
    },
    {
      "cell_type": "code",
      "metadata": {
        "id": "Z7t-FOIYiXQ7",
        "colab_type": "code",
        "colab": {
          "base_uri": "https://localhost:8080/",
          "height": 34
        },
        "outputId": "19769624-6be3-4a31-bfbd-1ffbd5500c02"
      },
      "source": [
        "bond33=[c*0.01 for c in bond3]\n",
        "bond11=[c*0.01 for c in bond1]\n",
        "bond_lack1=[c*0.01 for c in bond_lack]\n",
        "bond30=bond_lack1+bond33\n",
        "bond10=bond_lack1+bond11\n",
        "len(bond10)"
      ],
      "execution_count": 35,
      "outputs": [
        {
          "output_type": "execute_result",
          "data": {
            "text/plain": [
              "150"
            ]
          },
          "metadata": {
            "tags": []
          },
          "execution_count": 35
        }
      ]
    },
    {
      "cell_type": "code",
      "metadata": {
        "id": "Chciazlx5W2K",
        "colab_type": "code",
        "colab": {
          "base_uri": "https://localhost:8080/",
          "height": 34
        },
        "outputId": "11326169-0b2d-4d3c-cf6f-e9636d585316"
      },
      "source": [
        "len(q1_time)"
      ],
      "execution_count": 36,
      "outputs": [
        {
          "output_type": "execute_result",
          "data": {
            "text/plain": [
              "150"
            ]
          },
          "metadata": {
            "tags": []
          },
          "execution_count": 36
        }
      ]
    },
    {
      "cell_type": "code",
      "metadata": {
        "id": "Uk-2ndyLk8Sb",
        "colab_type": "code",
        "outputId": "724f353b-bac4-4794-f648-79bf63e79ca2",
        "colab": {
          "base_uri": "https://localhost:8080/",
          "height": 34
        }
      },
      "source": [
        "len(bond10)"
      ],
      "execution_count": 37,
      "outputs": [
        {
          "output_type": "execute_result",
          "data": {
            "text/plain": [
              "150"
            ]
          },
          "metadata": {
            "tags": []
          },
          "execution_count": 37
        }
      ]
    },
    {
      "cell_type": "code",
      "metadata": {
        "id": "OddwdFMyzqEh",
        "colab_type": "code",
        "colab": {}
      },
      "source": [
        "a30=5+31+29+31+30+31+30+31+15\n",
        "c=a30/365+25\n",
        "#2018.12.26 PERIOD\n",
        "#21-40:20\n",
        "#41-43:3\n",
        "#19-20:2"
      ],
      "execution_count": 0,
      "outputs": []
    },
    {
      "cell_type": "code",
      "metadata": {
        "id": "IpuMmZQyAu4W",
        "colab_type": "code",
        "colab": {
          "base_uri": "https://localhost:8080/",
          "height": 34
        },
        "outputId": "c17689cf-d165-4f96-b449-703e4ea098a9"
      },
      "source": [
        "period_list1=[c,]\n",
        "period_list2=[c,]\n",
        "for i in range(68):\n",
        "  a30=a30-7\n",
        "  b1=a30/365+28\n",
        "  b2=a30/365+25\n",
        "  period_list1.append(b1)\n",
        "  period_list2.append(b2)\n",
        "\n",
        "period30=period_list1\n",
        "period10=period_list2\n",
        "len(period30)"
      ],
      "execution_count": 39,
      "outputs": [
        {
          "output_type": "execute_result",
          "data": {
            "text/plain": [
              "69"
            ]
          },
          "metadata": {
            "tags": []
          },
          "execution_count": 39
        }
      ]
    },
    {
      "cell_type": "code",
      "metadata": {
        "id": "-cNkFGGNC1Xk",
        "colab_type": "code",
        "colab": {}
      },
      "source": [
        "yield_change10=[]\n",
        "yield_change30=[]\n",
        "for i in range(len(bond10)-1):\n",
        "  a=bond30[i+1]-bond30[i]\n",
        "  b=bond10[i+1]-bond10[i]\n",
        "  yield_change10.append(b)\n",
        "  yield_change30.append(a)\n",
        "#yield_change30\n",
        "#yield_change10\n",
        "yieldchange=[np.array(yield_change10),np.array(yield_change30)]\n"
      ],
      "execution_count": 0,
      "outputs": []
    },
    {
      "cell_type": "code",
      "metadata": {
        "id": "-vDUXjXBEq6-",
        "colab_type": "code",
        "colab": {}
      },
      "source": [
        "u_list=[]\n",
        "for j in range(69):\n",
        "  u=[]\n",
        "  for i in range(2):\n",
        "    a=yieldchange[i][j:(j+82)]\n",
        "    u.append(a.mean())\n",
        "  u_list.append(u)"
      ],
      "execution_count": 0,
      "outputs": []
    },
    {
      "cell_type": "code",
      "metadata": {
        "id": "Ni02Vt1dEs1d",
        "colab_type": "code",
        "outputId": "77dd8db0-859a-41a5-81ee-c635c2fac9c6",
        "colab": {
          "base_uri": "https://localhost:8080/",
          "height": 111
        }
      },
      "source": [
        "cov_list=[]\n",
        "bond_index=['bond10','bond30']\n",
        "for j in range(69):\n",
        "  df_temp={}\n",
        "  for i in range(2):\n",
        "    df_temp[bond_index[i]]=yieldchange[i][j:(j+82)]\n",
        "  df = pd.DataFrame(df_temp)\n",
        "  cov_mat=df.cov()  \n",
        "  cov_list.append(cov_mat)\n",
        "\n",
        "cov_list[0]"
      ],
      "execution_count": 42,
      "outputs": [
        {
          "output_type": "execute_result",
          "data": {
            "text/html": [
              "<div>\n",
              "<style scoped>\n",
              "    .dataframe tbody tr th:only-of-type {\n",
              "        vertical-align: middle;\n",
              "    }\n",
              "\n",
              "    .dataframe tbody tr th {\n",
              "        vertical-align: top;\n",
              "    }\n",
              "\n",
              "    .dataframe thead th {\n",
              "        text-align: right;\n",
              "    }\n",
              "</style>\n",
              "<table border=\"1\" class=\"dataframe\">\n",
              "  <thead>\n",
              "    <tr style=\"text-align: right;\">\n",
              "      <th></th>\n",
              "      <th>bond10</th>\n",
              "      <th>bond30</th>\n",
              "    </tr>\n",
              "  </thead>\n",
              "  <tbody>\n",
              "    <tr>\n",
              "      <th>bond10</th>\n",
              "      <td>5.317687e-07</td>\n",
              "      <td>5.317687e-07</td>\n",
              "    </tr>\n",
              "    <tr>\n",
              "      <th>bond30</th>\n",
              "      <td>5.317687e-07</td>\n",
              "      <td>5.317687e-07</td>\n",
              "    </tr>\n",
              "  </tbody>\n",
              "</table>\n",
              "</div>"
            ],
            "text/plain": [
              "              bond10        bond30\n",
              "bond10  5.317687e-07  5.317687e-07\n",
              "bond30  5.317687e-07  5.317687e-07"
            ]
          },
          "metadata": {
            "tags": []
          },
          "execution_count": 42
        }
      ]
    },
    {
      "cell_type": "code",
      "metadata": {
        "id": "z2YC8xBN-0nB",
        "colab_type": "code",
        "colab": {
          "base_uri": "https://localhost:8080/",
          "height": 34
        },
        "outputId": "68fb6ba2-7702-49f9-9cb8-f54d4a80d717"
      },
      "source": [
        "#2017.06.07\n",
        "a30=31+29+31+30+31+30+31+15+23+31+31+30+31+30+31\n",
        "c=a30/365+26\n",
        "#2018.12.26 PERIOD\n",
        "#21-40:20\n",
        "#41-43:3\n",
        "#18-20:3\n",
        "c\n",
        "d=c+3\n",
        "d\n",
        "p1=np.exp(-bond10[0]*c)\n",
        "p2=np.exp(-bond30[0]*d)\n",
        "p2"
      ],
      "execution_count": 43,
      "outputs": [
        {
          "output_type": "execute_result",
          "data": {
            "text/plain": [
              "0.4246284236937901"
            ]
          },
          "metadata": {
            "tags": []
          },
          "execution_count": 43
        }
      ]
    },
    {
      "cell_type": "code",
      "metadata": {
        "id": "5yqWvFxjSvjm",
        "colab_type": "code",
        "outputId": "d37ebcf2-21f5-4515-d832-2580f1b3cf0a",
        "colab": {
          "base_uri": "https://localhost:8080/",
          "height": 1000
        }
      },
      "source": [
        "share1=300000/p1 #2017.06.07 bond10 price=p1/share; 300000 capital\n",
        "share2=300000/p2  #2017.06.07 bond30 price=p2/share; 300000 capital\n",
        "linloss_bond=[]\n",
        "for i in range(69):\n",
        "  var = np.random.multivariate_normal(mean=u_list[i], cov=cov_list[i])\n",
        "  a=share1*np.exp(-bond10[-69+i]*period10[i])*(bond10[-69+i]-(period10[i]*var[0]))+share2*np.exp(-bond30[-69+i]*period30[i])*(bond30[-69+i]-(period30[i]*var[1]))\n",
        "  linloss_bond.append(-a)\n",
        "\n",
        "linloss_bond"
      ],
      "execution_count": 44,
      "outputs": [
        {
          "output_type": "execute_result",
          "data": {
            "text/plain": [
              "[-19953.73156993709,\n",
              " 6850.9986783980075,\n",
              " 834.5980022333201,\n",
              " -32837.859098547284,\n",
              " -30236.258570773636,\n",
              " -21061.373797290325,\n",
              " -27191.430411160476,\n",
              " -22257.103944524246,\n",
              " -1344.466050565792,\n",
              " -19767.44040487029,\n",
              " -34769.2835728419,\n",
              " -9550.668544666642,\n",
              " -10817.87906660627,\n",
              " -9072.237418676285,\n",
              " -26520.57081949008,\n",
              " -26240.269441079854,\n",
              " 6637.679157315394,\n",
              " -12191.673140208219,\n",
              " -19621.258964330347,\n",
              " -20444.838680656667,\n",
              " -20545.42603164325,\n",
              " -13628.082557746864,\n",
              " -23503.906255548944,\n",
              " -2524.2185477384223,\n",
              " -27665.25138127002,\n",
              " -8088.027964787054,\n",
              " -18120.711512461858,\n",
              " -19606.480973848473,\n",
              " -12774.452311064302,\n",
              " -38507.114849217054,\n",
              " -13998.261172229766,\n",
              " -17393.838365170333,\n",
              " -29098.499051645285,\n",
              " -34071.48259646694,\n",
              " 3832.8763649434995,\n",
              " -20093.73757216958,\n",
              " -32806.04363963968,\n",
              " -25830.143524184547,\n",
              " -31864.276216845938,\n",
              " -33280.17139650543,\n",
              " -7590.929392731314,\n",
              " -59300.184043622125,\n",
              " 4852.683591451583,\n",
              " -25721.640490545993,\n",
              " -30678.857155926024,\n",
              " -26179.5664701271,\n",
              " -47027.61242909343,\n",
              " -19867.396831186314,\n",
              " -13745.60465623425,\n",
              " -32855.23450907161,\n",
              " -49399.99512983813,\n",
              " -32450.013288208793,\n",
              " -12418.246488301796,\n",
              " -22307.897047936487,\n",
              " -24514.722847428482,\n",
              " -9818.60364632689,\n",
              " -24969.671336871117,\n",
              " -37981.42343651435,\n",
              " -10635.30566476308,\n",
              " -41966.83491869236,\n",
              " -54285.745589106955,\n",
              " -71224.86680942403,\n",
              " -60545.6702717279,\n",
              " -9785.302086694712,\n",
              " -54885.17444009096,\n",
              " -16086.991394995588,\n",
              " -57250.18865076216,\n",
              " -41377.1597301534,\n",
              " 24501.239144110346]"
            ]
          },
          "metadata": {
            "tags": []
          },
          "execution_count": 44
        }
      ]
    },
    {
      "cell_type": "code",
      "metadata": {
        "id": "4oCtk842oTqO",
        "colab_type": "code",
        "outputId": "043384a2-3c10-441e-9e12-e40d0dd78f38",
        "colab": {
          "base_uri": "https://localhost:8080/",
          "height": 281
        }
      },
      "source": [
        "pdf_function1(linloss_bond,'bond linearized loss pdf')"
      ],
      "execution_count": 45,
      "outputs": [
        {
          "output_type": "display_data",
          "data": {
            "image/png": "[encoded data removed]",
            "text/plain": [
              "<Figure size 432x288 with 1 Axes>"
            ]
          },
          "metadata": {
            "tags": [],
            "needs_background": "light"
          }
        }
      ]
    },
    {
      "cell_type": "markdown",
      "metadata": {
        "id": "F8mNAbT1Bn7p",
        "colab_type": "text"
      },
      "source": [
        "# **Now we work on option loss approximation**"
      ]
    },
    {
      "cell_type": "code",
      "metadata": {
        "id": "fHZSzWWbGTfu",
        "colab_type": "code",
        "colab": {}
      },
      "source": [
        "libor2019=[0.02363,0.02349,0.02355,0.02356,0.02345,0.02350,0.02341,0.02354,0.02356,0.02355,0.02363,0.02352,0.02352,0.02099,0.02092,0.02093,0.02087,0.02091,0.02095,0.02185,0.01841,0.01851,0.01790,0.01823,0.01814,0.01804,0.01537,0.01539,0.01529,0.01540,0.01529,0.01525,0.01534,0.01533,0.01543,0.01533,0.01528,0.01533,0.01530,0.01575,0.01574,0.01577,0.01571,0.01088,0.01084,0.00380,0.00201,0.00109,0.00072,0.00066,0.00064,0.00055,0.00060]"
      ],
      "execution_count": 0,
      "outputs": []
    },
    {
      "cell_type": "code",
      "metadata": {
        "id": "b-5YyY3jGc4Q",
        "colab_type": "code",
        "colab": {}
      },
      "source": [
        "libor_q1=[0.02390,0.02387,0.02391,0.02385,0.02384,0.02384,0.02383,0.02384,0.02385,0.02388,0.02391,0.02390,0.02386,0.02392,0.02386,0.02389,0.02386,0.02384,0.02392]+libor2019[:-3]"
      ],
      "execution_count": 0,
      "outputs": []
    },
    {
      "cell_type": "code",
      "metadata": {
        "id": "bdOzrKbcJEXZ",
        "colab_type": "code",
        "colab": {
          "base_uri": "https://localhost:8080/",
          "height": 34
        },
        "outputId": "50c68b79-7ac9-49c0-984c-4062bb99fb45"
      },
      "source": [
        "len(libor_q1)"
      ],
      "execution_count": 48,
      "outputs": [
        {
          "output_type": "execute_result",
          "data": {
            "text/plain": [
              "69"
            ]
          },
          "metadata": {
            "tags": []
          },
          "execution_count": 48
        }
      ]
    },
    {
      "cell_type": "code",
      "metadata": {
        "id": "3YDOM0SVKEfU",
        "colab_type": "code",
        "colab": {
          "base_uri": "https://localhost:8080/",
          "height": 34
        },
        "outputId": "b0da8728-5e60-46b6-c4e5-61e9cab14d02"
      },
      "source": [
        "weektime2=q1_time[81:]\n",
        "#calculating from 2019.1.2 to 2020.4.15 we have 68 values and we need to approximate 69 values.we have total 150 data.\n",
        "len(weektime2)"
      ],
      "execution_count": 49,
      "outputs": [
        {
          "output_type": "execute_result",
          "data": {
            "text/plain": [
              "69"
            ]
          },
          "metadata": {
            "tags": []
          },
          "execution_count": 49
        }
      ]
    },
    {
      "cell_type": "code",
      "metadata": {
        "id": "KZVRUwrA6_hf",
        "colab_type": "code",
        "colab": {}
      },
      "source": [
        "meli=[]\n",
        "mmm=[]\n",
        "spx=[]\n",
        "for i in range(len(q1_time)):\n",
        "  time=q1_time[i]\n",
        "  a=MELI.loc[time]['Adj Close']\n",
        "  b=MMM.loc[time]['Adj Close']\n",
        "  c=10*SPY.loc[time]['Adj Close']\n",
        "  meli.append(a)\n",
        "  mmm.append(b)\n",
        "  spx.append(c)"
      ],
      "execution_count": 0,
      "outputs": []
    },
    {
      "cell_type": "code",
      "metadata": {
        "id": "IwNROzJS8pe9",
        "colab_type": "code",
        "outputId": "2bb20f8e-ce4d-43c4-9afe-79ad840f3db3",
        "colab": {
          "base_uri": "https://localhost:8080/",
          "height": 34
        }
      },
      "source": [
        "meli_price1=meli[81:]\n",
        "len(meli_price1)"
      ],
      "execution_count": 51,
      "outputs": [
        {
          "output_type": "execute_result",
          "data": {
            "text/plain": [
              "69"
            ]
          },
          "metadata": {
            "tags": []
          },
          "execution_count": 51
        }
      ]
    },
    {
      "cell_type": "code",
      "metadata": {
        "id": "4z31dlm-Cka1",
        "colab_type": "code",
        "outputId": "ba422ccb-6af1-4cca-fb7d-06da0feadca7",
        "colab": {
          "base_uri": "https://localhost:8080/",
          "height": 34
        }
      },
      "source": [
        "mmm_price1=mmm[81:]\n",
        "len(mmm_price1)"
      ],
      "execution_count": 52,
      "outputs": [
        {
          "output_type": "execute_result",
          "data": {
            "text/plain": [
              "69"
            ]
          },
          "metadata": {
            "tags": []
          },
          "execution_count": 52
        }
      ]
    },
    {
      "cell_type": "code",
      "metadata": {
        "id": "NlORkVQzE6gc",
        "colab_type": "code",
        "outputId": "114c4ed9-0971-4df1-c566-37c4b20eb457",
        "colab": {
          "base_uri": "https://localhost:8080/",
          "height": 34
        }
      },
      "source": [
        "spx_price1=spx[81:]\n",
        "len(spx_price1)"
      ],
      "execution_count": 53,
      "outputs": [
        {
          "output_type": "execute_result",
          "data": {
            "text/plain": [
              "69"
            ]
          },
          "metadata": {
            "tags": []
          },
          "execution_count": 53
        }
      ]
    },
    {
      "cell_type": "code",
      "metadata": {
        "id": "vGQqDzw7NaCW",
        "colab_type": "code",
        "colab": {}
      },
      "source": [
        "def vol_finder(sigma,weektime):\n",
        "  len(sigma)\n",
        "  tradingdays3=sigma.index\n",
        "  vol=[]\n",
        "  for i in range(len(weektime)):\n",
        "    a=list(tradingdays3).index(weektime[i])\n",
        "    b=np.log(np.array(sigma[:a]['Adj Close'])).std()\n",
        "    vol.append(b)\n",
        "  return vol"
      ],
      "execution_count": 0,
      "outputs": []
    },
    {
      "cell_type": "markdown",
      "metadata": {
        "id": "nsP-yHNkSDo-",
        "colab_type": "text"
      },
      "source": [
        "# **算这个的时间段可能变化 明天看看大哥咋回嘻嘻**"
      ]
    },
    {
      "cell_type": "code",
      "metadata": {
        "id": "YtXTNUH_N5km",
        "colab_type": "code",
        "colab": {}
      },
      "source": [
        "mmm_vol=drd.get_data_yahoo('MMM','11/01/2012','04/15/2020',interval='d')\n",
        "mmm_sigma=vol_finder(mmm_vol,weektime2)\n",
        "spx_vol=drd.get_data_yahoo('SPY','11/01/2012','04/15/2020',interval='d')\n",
        "spx_sigma=vol_finder(spx_vol,weektime2)\n",
        "meli_vol=drd.get_data_yahoo('MELI','11/01/2012','04/15/2020',interval='d')\n",
        "meli_sigma=vol_finder(meli_vol,weektime2)\n",
        "meli_sigma"
      ],
      "execution_count": 0,
      "outputs": []
    },
    {
      "cell_type": "code",
      "metadata": {
        "id": "uENpuXuEx5e0",
        "colab_type": "code",
        "colab": {}
      },
      "source": [
        "a=5+365+31+29+31+30+31+19\n",
        "#meli 6.19, mmm 7.17, spx 5.14 2018.12.26\n",
        "b=5+365+31+29+31+30+31+30+17\n",
        "c=5+365+31+29+31+30+14\n",
        "meli_maturity=[a/365,]\n",
        "mmm_maturity=[b/365,]\n",
        "spx_maturity=[c/365,]\n",
        "for i in range(68):\n",
        "  a=a-7\n",
        "  b=b-7\n",
        "  c=c-7\n",
        "  meli_maturity.append(a/365)\n",
        "  mmm_maturity.append(b/365)\n",
        "  spx_maturity.append(c/365)"
      ],
      "execution_count": 0,
      "outputs": []
    },
    {
      "cell_type": "code",
      "metadata": {
        "id": "3mPFedx-JiYM",
        "colab_type": "code",
        "colab": {}
      },
      "source": [
        "from scipy.stats import norm\n",
        "def delta_finder(S,T,K,r,sigma):\n",
        "  n=len(S)\n",
        "  delta_list=[]\n",
        "  for i in range(n):\n",
        "    d1= (np.log(S[i] / K) + (r[i] + 0.5 * sigma[i] ** 2) * T[i]) / (sigma[i] * np.sqrt(T[i]))\n",
        "    delta=norm.cdf(d1)-1\n",
        "    delta_list.append(delta)\n",
        "  return delta_list"
      ],
      "execution_count": 0,
      "outputs": []
    },
    {
      "cell_type": "code",
      "metadata": {
        "id": "ndZPLUUHQuuq",
        "colab_type": "code",
        "outputId": "993c2ec5-edfc-4b1c-ba16-c0fbf7c6b8ab",
        "colab": {
          "base_uri": "https://localhost:8080/",
          "height": 1000
        }
      },
      "source": [
        "spx_delta=delta_finder(spx_price1,spx_maturity,2885,libor_q1,spx_sigma)\n",
        "meli_delta=[i+1 for i in delta_finder(meli_price1,meli_maturity,640,libor_q1,meli_sigma)]\n",
        "mmm_delta=[i+1 for i in delta_finder(mmm_price1,mmm_maturity,130,libor_q1,mmm_sigma)]\n",
        "spx_delta"
      ],
      "execution_count": 62,
      "outputs": [
        {
          "output_type": "execute_result",
          "data": {
            "text/plain": [
              "[-0.6805850355865986,\n",
              " -0.6597938723392487,\n",
              " -0.6158891196694296,\n",
              " -0.6000084745912917,\n",
              " -0.5873449029703701,\n",
              " -0.5640109532163897,\n",
              " -0.5345737040921377,\n",
              " -0.5225310229664508,\n",
              " -0.5034555896097392,\n",
              " -0.49997463463865965,\n",
              " -0.5125202725393164,\n",
              " -0.48969054533599643,\n",
              " -0.48229353285143883,\n",
              " -0.4949953801356446,\n",
              " -0.4553448590034156,\n",
              " -0.4451699553759211,\n",
              " -0.4393096032292365,\n",
              " -0.42382073167354517,\n",
              " -0.42704509610332053,\n",
              " -0.4544154914692853,\n",
              " -0.4711436766031877,\n",
              " -0.4686980557851349,\n",
              " -0.5173485948007663,\n",
              " -0.48864141947594397,\n",
              " -0.45498742932332736,\n",
              " -0.4267274561681499,\n",
              " -0.43487293950468,\n",
              " -0.38376808504167625,\n",
              " -0.38548328399815235,\n",
              " -0.3913231622429111,\n",
              " -0.36920898491997955,\n",
              " -0.3946811025509114,\n",
              " -0.4619217747339507,\n",
              " -0.4916676157035732,\n",
              " -0.43358242388738166,\n",
              " -0.4594162730575473,\n",
              " -0.42446400602072765,\n",
              " -0.3828011275949932,\n",
              " -0.3762243049443338,\n",
              " -0.395391646229748,\n",
              " -0.4653132805368444,\n",
              " -0.4431787759002144,\n",
              " -0.3909326264220596,\n",
              " -0.38050361026104007,\n",
              " -0.3500888249155949,\n",
              " -0.33182125902149706,\n",
              " -0.3170234407729613,\n",
              " -0.30443974595346424,\n",
              " -0.2713449257957854,\n",
              " -0.2964304573600016,\n",
              " -0.2741248617741302,\n",
              " -0.23763930466215788,\n",
              " -0.21451255058207752,\n",
              " -0.20691788433958802,\n",
              " -0.18765726892779755,\n",
              " -0.162353719723636,\n",
              " -0.14095756683789173,\n",
              " -0.16048763127310472,\n",
              " -0.1219368051889691,\n",
              " -0.09560345711030949,\n",
              " -0.08516440868387831,\n",
              " -0.24146115775370702,\n",
              " -0.22449071657384057,\n",
              " -0.6791959667417208,\n",
              " -0.969062070898032,\n",
              " -0.949524938330729,\n",
              " -0.9647209195477738,\n",
              " -0.7311924743382852,\n",
              " -0.6925542060585109]"
            ]
          },
          "metadata": {
            "tags": []
          },
          "execution_count": 62
        }
      ]
    },
    {
      "cell_type": "code",
      "metadata": {
        "id": "-2L-vfXW6oi6",
        "colab_type": "code",
        "outputId": "d6cf7266-a201-4e43-bd4f-62c5e24ee061",
        "colab": {
          "base_uri": "https://localhost:8080/",
          "height": 1000
        }
      },
      "source": [
        "meli_delta"
      ],
      "execution_count": 64,
      "outputs": [
        {
          "output_type": "execute_result",
          "data": {
            "text/plain": [
              "[0.14636911272438313,\n",
              " 0.1670646541576566,\n",
              " 0.22787578628665428,\n",
              " 0.23368813205658867,\n",
              " 0.20707047382399968,\n",
              " 0.25624431612152265,\n",
              " 0.24972033363138668,\n",
              " 0.2504371136311777,\n",
              " 0.2604849704511414,\n",
              " 0.380579881157572,\n",
              " 0.4021951135098072,\n",
              " 0.4686614007550123,\n",
              " 0.45395028730179954,\n",
              " 0.4346457209390353,\n",
              " 0.4676707666206693,\n",
              " 0.47502079922631557,\n",
              " 0.45171544053612545,\n",
              " 0.43252071879380816,\n",
              " 0.429579571118605,\n",
              " 0.5008737392479321,\n",
              " 0.5481159673832858,\n",
              " 0.5432323853386753,\n",
              " 0.547579229318032,\n",
              " 0.5410920595226725,\n",
              " 0.6058457180052554,\n",
              " 0.6252220437959785,\n",
              " 0.5883767639833325,\n",
              " 0.6155789120190049,\n",
              " 0.6146351941417418,\n",
              " 0.6122653643615837,\n",
              " 0.6424585067249378,\n",
              " 0.5989593658292744,\n",
              " 0.5871511699913889,\n",
              " 0.5939639762177183,\n",
              " 0.6046138962778498,\n",
              " 0.5524066996710655,\n",
              " 0.5533022860396972,\n",
              " 0.512774807423745,\n",
              " 0.48538596707684567,\n",
              " 0.49459448334479994,\n",
              " 0.4811503988812802,\n",
              " 0.4604238242115877,\n",
              " 0.4833341403060538,\n",
              " 0.46933628268132666,\n",
              " 0.4811086834622105,\n",
              " 0.36838360417304994,\n",
              " 0.41470611533224966,\n",
              " 0.4657225763752728,\n",
              " 0.5265179310183963,\n",
              " 0.5024262127072727,\n",
              " 0.5075169736307882,\n",
              " 0.5074018870442767,\n",
              " 0.5241482202294018,\n",
              " 0.4848079450355316,\n",
              " 0.5789502447449495,\n",
              " 0.616125683437762,\n",
              " 0.619623178103439,\n",
              " 0.6265739319075516,\n",
              " 0.6364864732985653,\n",
              " 0.6701719706126352,\n",
              " 0.7269578549191329,\n",
              " 0.562578450324731,\n",
              " 0.5962226532974304,\n",
              " 0.3941802087871593,\n",
              " 0.1837739706842536,\n",
              " 0.22913310212164595,\n",
              " 0.1494401704004742,\n",
              " 0.33704771816096124,\n",
              " 0.43324077440906683]"
            ]
          },
          "metadata": {
            "tags": []
          },
          "execution_count": 64
        }
      ]
    },
    {
      "cell_type": "code",
      "metadata": {
        "id": "wPaNpj7xF-fk",
        "colab_type": "code",
        "colab": {}
      },
      "source": [
        "meli_price1.append(601.05)\n",
        "mmm_price1.append(143.61)\n",
        "spx_price1.append(2791)"
      ],
      "execution_count": 0,
      "outputs": []
    },
    {
      "cell_type": "code",
      "metadata": {
        "id": "XrtpIQIdqrDM",
        "colab_type": "code",
        "outputId": "65f7240b-c856-402e-9f95-18b11354b0e2",
        "colab": {
          "base_uri": "https://localhost:8080/",
          "height": 34
        }
      },
      "source": [
        "len(meli_price1)"
      ],
      "execution_count": 66,
      "outputs": [
        {
          "output_type": "execute_result",
          "data": {
            "text/plain": [
              "70"
            ]
          },
          "metadata": {
            "tags": []
          },
          "execution_count": 66
        }
      ]
    },
    {
      "cell_type": "code",
      "metadata": {
        "id": "A7BJlXARqq5p",
        "colab_type": "code",
        "colab": {}
      },
      "source": [
        "option_loss=[]\n",
        "for i in range(69):\n",
        "  a=100*meli_delta[i]*(meli_price1[i+1]-meli_price1[i])\n",
        "  b=200*mmm_delta[i]*(mmm_price1[i+1]-mmm_price1[i])\n",
        "  c=-100*spx_delta[i]*(spx_price1[i+1]-spx_price1[i])\n",
        "  d=a+b+c\n",
        "  option_loss.append(d)"
      ],
      "execution_count": 0,
      "outputs": []
    },
    {
      "cell_type": "code",
      "metadata": {
        "id": "pZzUOJGvqqpi",
        "colab_type": "code",
        "outputId": "86269791-d4f4-4205-817c-7bb8158469d5",
        "colab": {
          "base_uri": "https://localhost:8080/",
          "height": 1000
        }
      },
      "source": [
        "option_loss"
      ],
      "execution_count": 69,
      "outputs": [
        {
          "output_type": "execute_result",
          "data": {
            "text/plain": [
              "[3686.1868490083752,\n",
              " 5947.557379231822,\n",
              " 1434.8704542430728,\n",
              " 1529.2016979414411,\n",
              " 4283.172504115419,\n",
              " 3341.9912426453884,\n",
              " 2486.231237387129,\n",
              " 1983.635916061874,\n",
              " 2519.7046117848404,\n",
              " -1482.5690019386966,\n",
              " 4567.282053181461,\n",
              " 523.2889333642686,\n",
              " -1696.615654249537,\n",
              " 5399.645496062845,\n",
              " 915.9641403788307,\n",
              " 765.6798138556903,\n",
              " 905.3200254331705,\n",
              " -6371.44845209328,\n",
              " -886.2959771813346,\n",
              " -9.474187546881012,\n",
              " -652.5484243050732,\n",
              " -4287.883343606361,\n",
              " 2518.7955671690065,\n",
              " 6361.977115714619,\n",
              " 3459.2393441742843,\n",
              " -2314.7621736641613,\n",
              " 5519.059640031641,\n",
              " -1672.5165460334713,\n",
              " 1035.54302425101,\n",
              " 3971.761799030373,\n",
              " -4760.829689377124,\n",
              " -6057.128991548788,\n",
              " -2253.3498895297294,\n",
              " 5319.834483758501,\n",
              " -4625.824723668725,\n",
              " 2831.723756106462,\n",
              " 2282.8545911543024,\n",
              " -730.5934172657809,\n",
              " -914.7525612250327,\n",
              " -5522.024675702838,\n",
              " 164.75178882402906,\n",
              " 5588.036883420289,\n",
              " 1302.4679908120943,\n",
              " 1988.1532674052464,\n",
              " -1270.8154875282794,\n",
              " 1172.0120237995006,\n",
              " 1447.0835653589925,\n",
              " 4108.000149448562,\n",
              " -2451.9530024768546,\n",
              " 1407.8141320715886,\n",
              " 1540.0809343855894,\n",
              " 2777.823872293095,\n",
              " -1098.4033397229714,\n",
              " 4304.426038396528,\n",
              " 2072.4047721344823,\n",
              " 370.37727393097975,\n",
              " -3370.920700575814,\n",
              " 1507.2903598065818,\n",
              " 2342.2965287412994,\n",
              " 2416.2471798105685,\n",
              " -12193.030283304837,\n",
              " 2366.4511792563767,\n",
              " -15903.16131966634,\n",
              " -28742.876582370798,\n",
              " 7771.6988244735785,\n",
              " -1236.7201843223722,\n",
              " 30224.93553650237,\n",
              " 3580.3011726170344,\n",
              " 1214.249511409295]"
            ]
          },
          "metadata": {
            "tags": []
          },
          "execution_count": 69
        }
      ]
    },
    {
      "cell_type": "code",
      "metadata": {
        "id": "MPpKwwc_Vckn",
        "colab_type": "code",
        "colab": {
          "base_uri": "https://localhost:8080/",
          "height": 1000
        },
        "outputId": "a35144c7-e91a-4ace-82ed-75b3c799b11b"
      },
      "source": [
        "a=option_loss\n",
        "a.sort()\n",
        "a"
      ],
      "execution_count": 72,
      "outputs": [
        {
          "output_type": "execute_result",
          "data": {
            "text/plain": [
              "[-28742.876582370798,\n",
              " -15903.16131966634,\n",
              " -12193.030283304837,\n",
              " -6371.44845209328,\n",
              " -6057.128991548788,\n",
              " -5522.024675702838,\n",
              " -4760.829689377124,\n",
              " -4625.824723668725,\n",
              " -4287.883343606361,\n",
              " -3370.920700575814,\n",
              " -2451.9530024768546,\n",
              " -2314.7621736641613,\n",
              " -2253.3498895297294,\n",
              " -1696.615654249537,\n",
              " -1672.5165460334713,\n",
              " -1482.5690019386966,\n",
              " -1270.8154875282794,\n",
              " -1236.7201843223722,\n",
              " -1098.4033397229714,\n",
              " -914.7525612250327,\n",
              " -886.2959771813346,\n",
              " -730.5934172657809,\n",
              " -652.5484243050732,\n",
              " -9.474187546881012,\n",
              " 164.75178882402906,\n",
              " 370.37727393097975,\n",
              " 523.2889333642686,\n",
              " 765.6798138556903,\n",
              " 905.3200254331705,\n",
              " 915.9641403788307,\n",
              " 1035.54302425101,\n",
              " 1172.0120237995006,\n",
              " 1214.249511409295,\n",
              " 1302.4679908120943,\n",
              " 1407.8141320715886,\n",
              " 1434.8704542430728,\n",
              " 1447.0835653589925,\n",
              " 1507.2903598065818,\n",
              " 1529.2016979414411,\n",
              " 1540.0809343855894,\n",
              " 1983.635916061874,\n",
              " 1988.1532674052464,\n",
              " 2072.4047721344823,\n",
              " 2282.8545911543024,\n",
              " 2342.2965287412994,\n",
              " 2366.4511792563767,\n",
              " 2416.2471798105685,\n",
              " 2486.231237387129,\n",
              " 2518.7955671690065,\n",
              " 2519.7046117848404,\n",
              " 2777.823872293095,\n",
              " 2831.723756106462,\n",
              " 3341.9912426453884,\n",
              " 3459.2393441742843,\n",
              " 3580.3011726170344,\n",
              " 3686.1868490083752,\n",
              " 3971.761799030373,\n",
              " 4108.000149448562,\n",
              " 4283.172504115419,\n",
              " 4304.426038396528,\n",
              " 4567.282053181461,\n",
              " 5319.834483758501,\n",
              " 5399.645496062845,\n",
              " 5519.059640031641,\n",
              " 5588.036883420289,\n",
              " 5947.557379231822,\n",
              " 6361.977115714619,\n",
              " 7771.6988244735785,\n",
              " 30224.93553650237]"
            ]
          },
          "metadata": {
            "tags": []
          },
          "execution_count": 72
        }
      ]
    },
    {
      "cell_type": "code",
      "metadata": {
        "id": "vPl1gWLZqqgO",
        "colab_type": "code",
        "outputId": "92147c61-d868-47f0-ccfb-ed00abc8627e",
        "colab": {
          "base_uri": "https://localhost:8080/",
          "height": 281
        }
      },
      "source": [
        "pdf_function1(option_loss,'option linearized loss pdf')"
      ],
      "execution_count": 71,
      "outputs": [
        {
          "output_type": "display_data",
          "data": {
            "image/png": "[encoded data removed]",
            "text/plain": [
              "<Figure size 432x288 with 1 Axes>"
            ]
          },
          "metadata": {
            "tags": [],
            "needs_background": "light"
          }
        }
      ]
    },
    {
      "cell_type": "code",
      "metadata": {
        "id": "tLgowhR7qqeA",
        "colab_type": "code",
        "colab": {}
      },
      "source": [
        "portfolio_linloss1=np.sum([option_loss,linloss_equity,linloss_bond], axis = 0)"
      ],
      "execution_count": 0,
      "outputs": []
    },
    {
      "cell_type": "code",
      "metadata": {
        "id": "uqSrTvmIqqTe",
        "colab_type": "code",
        "outputId": "47a9ba65-e4d4-4919-c421-f410002f4c41",
        "colab": {
          "base_uri": "https://localhost:8080/",
          "height": 281
        }
      },
      "source": [
        "pdf_function1(portfolio_linloss1,'portfolio linearized loss pdf')"
      ],
      "execution_count": 74,
      "outputs": [
        {
          "output_type": "display_data",
          "data": {
            "image/png": "[encoded data removed]",
            "text/plain": [
              "<Figure size 432x288 with 1 Axes>"
            ]
          },
          "metadata": {
            "tags": [],
            "needs_background": "light"
          }
        }
      ]
    },
    {
      "cell_type": "code",
      "metadata": {
        "id": "yPiAIOoPWP_n",
        "colab_type": "code",
        "colab": {
          "base_uri": "https://localhost:8080/",
          "height": 408
        },
        "outputId": "411fde55-de49-4d99-ee3a-3ca0ce92e1eb"
      },
      "source": [
        "a=portfolio_linloss1\n",
        "a.sort()\n",
        "a"
      ],
      "execution_count": 75,
      "outputs": [
        {
          "output_type": "execute_result",
          "data": {
            "text/plain": [
              "array([-224493.90278209, -157293.36549951, -130006.64595533,\n",
              "       -117702.54117352, -116868.09266844, -108735.44714856,\n",
              "       -100392.65073801,  -98347.49800706,  -97448.05045753,\n",
              "        -90744.42708936,  -87874.52768134,  -85212.07207881,\n",
              "        -84923.99241433,  -82370.3499579 ,  -78841.52888161,\n",
              "        -78074.5020953 ,  -72043.34381243,  -68686.38662001,\n",
              "        -64845.27025024,  -64442.9845384 ,  -63306.54245218,\n",
              "        -62613.88237937,  -62021.1700206 ,  -61411.39599551,\n",
              "        -56617.99397781,  -56242.94517467,  -55557.6251559 ,\n",
              "        -54294.79663182,  -53211.39071142,  -53042.43674109,\n",
              "        -49149.99205109,  -48142.65369093,  -47609.50269611,\n",
              "        -46703.6117762 ,  -37053.45505033,  -32264.86714579,\n",
              "        -28889.69862015,  -26019.90181875,  -23531.54697291,\n",
              "        -22538.46936788,  -18887.88449922,  -17254.05528598,\n",
              "        -14891.83258676,  -14876.94848115,  -12930.92651209,\n",
              "        -10282.86549903,   -8045.17572279,   -7837.47065954,\n",
              "         -6786.49370136,   -1425.42232763,    1534.67613199,\n",
              "         13344.53534882,   13715.27993019,   14923.82938507,\n",
              "         20857.85099646,   24568.88706149,   28476.44383302,\n",
              "         39396.04526641,   42284.87200508,   44740.76899463,\n",
              "         46531.51493133,   62775.6177304 ,   64348.45233684,\n",
              "         65091.40374307,   69884.29634576,   83580.18521028,\n",
              "         88994.21546539,  100101.4107591 ,  163669.8550813 ])"
            ]
          },
          "metadata": {
            "tags": []
          },
          "execution_count": 75
        }
      ]
    },
    {
      "cell_type": "code",
      "metadata": {
        "id": "cTTdslGbWbIn",
        "colab_type": "code",
        "colab": {
          "base_uri": "https://localhost:8080/",
          "height": 34
        },
        "outputId": "b68a0f10-cc4e-408a-e611-5a0fdcb3d817"
      },
      "source": [
        "69*0.95"
      ],
      "execution_count": 77,
      "outputs": [
        {
          "output_type": "execute_result",
          "data": {
            "text/plain": [
              "65.55"
            ]
          },
          "metadata": {
            "tags": []
          },
          "execution_count": 77
        }
      ]
    },
    {
      "cell_type": "markdown",
      "metadata": {
        "id": "4EwXVeAFnb6A",
        "colab_type": "text"
      },
      "source": [
        "# **1.b) Portfolio t-distribution loss(2017.6.7-2020.4.22)**"
      ]
    },
    {
      "cell_type": "code",
      "metadata": {
        "id": "IwChP3oEqqJ8",
        "colab_type": "code",
        "outputId": "a31d53d9-8bb1-40f2-e356-290e61e3eae0",
        "colab": {
          "base_uri": "https://localhost:8080/",
          "height": 1000
        }
      },
      "source": [
        "t_period=weektime[-150:]\n",
        "t_stock=week_stock[-150:]\n",
        "len(t_stock)\n",
        "weektime[-150]\n",
        "len(t_stock)\n",
        "t_period"
      ],
      "execution_count": 86,
      "outputs": [
        {
          "output_type": "execute_result",
          "data": {
            "text/plain": [
              "[Timestamp('2017-06-07 00:00:00', freq='C'),\n",
              " Timestamp('2017-06-14 00:00:00', freq='C'),\n",
              " Timestamp('2017-06-21 00:00:00', freq='C'),\n",
              " Timestamp('2017-06-28 00:00:00', freq='C'),\n",
              " Timestamp('2017-07-05 00:00:00', freq='C'),\n",
              " Timestamp('2017-07-12 00:00:00', freq='C'),\n",
              " Timestamp('2017-07-19 00:00:00', freq='C'),\n",
              " Timestamp('2017-07-26 00:00:00', freq='C'),\n",
              " Timestamp('2017-08-02 00:00:00', freq='C'),\n",
              " Timestamp('2017-08-09 00:00:00', freq='C'),\n",
              " Timestamp('2017-08-16 00:00:00', freq='C'),\n",
              " Timestamp('2017-08-23 00:00:00', freq='C'),\n",
              " Timestamp('2017-08-30 00:00:00', freq='C'),\n",
              " Timestamp('2017-09-06 00:00:00', freq='C'),\n",
              " Timestamp('2017-09-13 00:00:00', freq='C'),\n",
              " Timestamp('2017-09-20 00:00:00', freq='C'),\n",
              " Timestamp('2017-09-27 00:00:00', freq='C'),\n",
              " Timestamp('2017-10-04 00:00:00', freq='C'),\n",
              " Timestamp('2017-10-11 00:00:00', freq='C'),\n",
              " Timestamp('2017-10-18 00:00:00', freq='C'),\n",
              " Timestamp('2017-10-25 00:00:00', freq='C'),\n",
              " Timestamp('2017-11-01 00:00:00', freq='C'),\n",
              " Timestamp('2017-11-08 00:00:00', freq='C'),\n",
              " Timestamp('2017-11-15 00:00:00', freq='C'),\n",
              " Timestamp('2017-11-22 00:00:00', freq='C'),\n",
              " Timestamp('2017-11-29 00:00:00', freq='C'),\n",
              " Timestamp('2017-12-06 00:00:00', freq='C'),\n",
              " Timestamp('2017-12-13 00:00:00', freq='C'),\n",
              " Timestamp('2017-12-20 00:00:00', freq='C'),\n",
              " Timestamp('2017-12-27 00:00:00', freq='C'),\n",
              " Timestamp('2018-01-03 00:00:00', freq='C'),\n",
              " Timestamp('2018-01-10 00:00:00', freq='C'),\n",
              " Timestamp('2018-01-17 00:00:00', freq='C'),\n",
              " Timestamp('2018-01-24 00:00:00', freq='C'),\n",
              " Timestamp('2018-01-31 00:00:00', freq='C'),\n",
              " Timestamp('2018-02-07 00:00:00', freq='C'),\n",
              " Timestamp('2018-02-14 00:00:00', freq='C'),\n",
              " Timestamp('2018-02-21 00:00:00', freq='C'),\n",
              " Timestamp('2018-02-28 00:00:00', freq='C'),\n",
              " Timestamp('2018-03-07 00:00:00', freq='C'),\n",
              " Timestamp('2018-03-14 00:00:00', freq='C'),\n",
              " Timestamp('2018-03-21 00:00:00', freq='C'),\n",
              " Timestamp('2018-03-28 00:00:00', freq='C'),\n",
              " Timestamp('2018-04-04 00:00:00', freq='C'),\n",
              " Timestamp('2018-04-11 00:00:00', freq='C'),\n",
              " Timestamp('2018-04-18 00:00:00', freq='C'),\n",
              " Timestamp('2018-04-25 00:00:00', freq='C'),\n",
              " Timestamp('2018-05-02 00:00:00', freq='C'),\n",
              " Timestamp('2018-05-09 00:00:00', freq='C'),\n",
              " Timestamp('2018-05-16 00:00:00', freq='C'),\n",
              " Timestamp('2018-05-23 00:00:00', freq='C'),\n",
              " Timestamp('2018-05-30 00:00:00', freq='C'),\n",
              " Timestamp('2018-06-06 00:00:00', freq='C'),\n",
              " Timestamp('2018-06-13 00:00:00', freq='C'),\n",
              " Timestamp('2018-06-20 00:00:00', freq='C'),\n",
              " Timestamp('2018-06-27 00:00:00', freq='C'),\n",
              " Timestamp('2018-07-03 00:00:00'),\n",
              " Timestamp('2018-07-11 00:00:00', freq='C'),\n",
              " Timestamp('2018-07-18 00:00:00', freq='C'),\n",
              " Timestamp('2018-07-25 00:00:00', freq='C'),\n",
              " Timestamp('2018-08-01 00:00:00', freq='C'),\n",
              " Timestamp('2018-08-08 00:00:00', freq='C'),\n",
              " Timestamp('2018-08-15 00:00:00', freq='C'),\n",
              " Timestamp('2018-08-22 00:00:00', freq='C'),\n",
              " Timestamp('2018-08-29 00:00:00', freq='C'),\n",
              " Timestamp('2018-09-05 00:00:00', freq='C'),\n",
              " Timestamp('2018-09-12 00:00:00', freq='C'),\n",
              " Timestamp('2018-09-19 00:00:00', freq='C'),\n",
              " Timestamp('2018-09-26 00:00:00', freq='C'),\n",
              " Timestamp('2018-10-03 00:00:00', freq='C'),\n",
              " Timestamp('2018-10-10 00:00:00', freq='C'),\n",
              " Timestamp('2018-10-17 00:00:00', freq='C'),\n",
              " Timestamp('2018-10-24 00:00:00', freq='C'),\n",
              " Timestamp('2018-10-31 00:00:00', freq='C'),\n",
              " Timestamp('2018-11-07 00:00:00', freq='C'),\n",
              " Timestamp('2018-11-14 00:00:00', freq='C'),\n",
              " Timestamp('2018-11-21 00:00:00', freq='C'),\n",
              " Timestamp('2018-11-28 00:00:00', freq='C'),\n",
              " Timestamp('2018-12-04 00:00:00'),\n",
              " Timestamp('2018-12-12 00:00:00', freq='C'),\n",
              " Timestamp('2018-12-19 00:00:00', freq='C'),\n",
              " Timestamp('2018-12-26 00:00:00', freq='C'),\n",
              " Timestamp('2019-01-02 00:00:00', freq='C'),\n",
              " Timestamp('2019-01-09 00:00:00', freq='C'),\n",
              " Timestamp('2019-01-16 00:00:00', freq='C'),\n",
              " Timestamp('2019-01-23 00:00:00', freq='C'),\n",
              " Timestamp('2019-01-30 00:00:00', freq='C'),\n",
              " Timestamp('2019-02-06 00:00:00', freq='C'),\n",
              " Timestamp('2019-02-13 00:00:00', freq='C'),\n",
              " Timestamp('2019-02-20 00:00:00', freq='C'),\n",
              " Timestamp('2019-02-27 00:00:00', freq='C'),\n",
              " Timestamp('2019-03-06 00:00:00', freq='C'),\n",
              " Timestamp('2019-03-13 00:00:00', freq='C'),\n",
              " Timestamp('2019-03-20 00:00:00', freq='C'),\n",
              " Timestamp('2019-03-27 00:00:00', freq='C'),\n",
              " Timestamp('2019-04-03 00:00:00', freq='C'),\n",
              " Timestamp('2019-04-10 00:00:00', freq='C'),\n",
              " Timestamp('2019-04-17 00:00:00', freq='C'),\n",
              " Timestamp('2019-04-24 00:00:00', freq='C'),\n",
              " Timestamp('2019-05-01 00:00:00', freq='C'),\n",
              " Timestamp('2019-05-08 00:00:00', freq='C'),\n",
              " Timestamp('2019-05-15 00:00:00', freq='C'),\n",
              " Timestamp('2019-05-22 00:00:00', freq='C'),\n",
              " Timestamp('2019-05-29 00:00:00', freq='C'),\n",
              " Timestamp('2019-06-05 00:00:00', freq='C'),\n",
              " Timestamp('2019-06-12 00:00:00', freq='C'),\n",
              " Timestamp('2019-06-19 00:00:00', freq='C'),\n",
              " Timestamp('2019-06-26 00:00:00', freq='C'),\n",
              " Timestamp('2019-07-03 00:00:00', freq='C'),\n",
              " Timestamp('2019-07-10 00:00:00', freq='C'),\n",
              " Timestamp('2019-07-17 00:00:00', freq='C'),\n",
              " Timestamp('2019-07-24 00:00:00', freq='C'),\n",
              " Timestamp('2019-07-31 00:00:00', freq='C'),\n",
              " Timestamp('2019-08-07 00:00:00', freq='C'),\n",
              " Timestamp('2019-08-14 00:00:00', freq='C'),\n",
              " Timestamp('2019-08-21 00:00:00', freq='C'),\n",
              " Timestamp('2019-08-28 00:00:00', freq='C'),\n",
              " Timestamp('2019-09-04 00:00:00', freq='C'),\n",
              " Timestamp('2019-09-11 00:00:00', freq='C'),\n",
              " Timestamp('2019-09-18 00:00:00', freq='C'),\n",
              " Timestamp('2019-09-25 00:00:00', freq='C'),\n",
              " Timestamp('2019-10-02 00:00:00', freq='C'),\n",
              " Timestamp('2019-10-09 00:00:00', freq='C'),\n",
              " Timestamp('2019-10-16 00:00:00', freq='C'),\n",
              " Timestamp('2019-10-23 00:00:00', freq='C'),\n",
              " Timestamp('2019-10-30 00:00:00', freq='C'),\n",
              " Timestamp('2019-11-06 00:00:00', freq='C'),\n",
              " Timestamp('2019-11-13 00:00:00', freq='C'),\n",
              " Timestamp('2019-11-20 00:00:00', freq='C'),\n",
              " Timestamp('2019-11-27 00:00:00', freq='C'),\n",
              " Timestamp('2019-12-04 00:00:00', freq='C'),\n",
              " Timestamp('2019-12-11 00:00:00', freq='C'),\n",
              " Timestamp('2019-12-18 00:00:00', freq='C'),\n",
              " Timestamp('2019-12-24 00:00:00'),\n",
              " Timestamp('2019-12-31 00:00:00'),\n",
              " Timestamp('2020-01-08 00:00:00', freq='C'),\n",
              " Timestamp('2020-01-15 00:00:00', freq='C'),\n",
              " Timestamp('2020-01-22 00:00:00', freq='C'),\n",
              " Timestamp('2020-01-29 00:00:00', freq='C'),\n",
              " Timestamp('2020-02-05 00:00:00', freq='C'),\n",
              " Timestamp('2020-02-12 00:00:00', freq='C'),\n",
              " Timestamp('2020-02-19 00:00:00', freq='C'),\n",
              " Timestamp('2020-02-26 00:00:00', freq='C'),\n",
              " Timestamp('2020-03-04 00:00:00', freq='C'),\n",
              " Timestamp('2020-03-11 00:00:00', freq='C'),\n",
              " Timestamp('2020-03-18 00:00:00', freq='C'),\n",
              " Timestamp('2020-03-25 00:00:00', freq='C'),\n",
              " Timestamp('2020-04-01 00:00:00', freq='C'),\n",
              " Timestamp('2020-04-08 00:00:00', freq='C'),\n",
              " Timestamp('2020-04-15 00:00:00', freq='C')]"
            ]
          },
          "metadata": {
            "tags": []
          },
          "execution_count": 86
        }
      ]
    },
    {
      "cell_type": "code",
      "metadata": {
        "id": "QA50xgI7qqGV",
        "colab_type": "code",
        "colab": {}
      },
      "source": [
        "stock_value=[]\n",
        "for i in range(150):\n",
        "  a=0\n",
        "  for j in range(15):\n",
        "    b=index_list[j]\n",
        "    a+=t_stock[i].loc[b]['Adj Close']*t_stock[i].loc[b]['Share']\n",
        "  stock_value.append(a)\n",
        "#stock_value"
      ],
      "execution_count": 0,
      "outputs": []
    },
    {
      "cell_type": "code",
      "metadata": {
        "id": "hOEp0K6wqp7d",
        "colab_type": "code",
        "colab": {}
      },
      "source": [
        "stock_loss=[]\n",
        "for i in range(len(t_stock)-1):\n",
        "  a=stock_value[i+1]-stock_value[i]\n",
        "  stock_loss.append(a)"
      ],
      "execution_count": 0,
      "outputs": []
    },
    {
      "cell_type": "code",
      "metadata": {
        "id": "rI5ztptBf0c5",
        "colab_type": "code",
        "colab": {
          "base_uri": "https://localhost:8080/",
          "height": 357
        },
        "outputId": "8bc0c828-87d0-4d54-9660-82103f1b39af"
      },
      "source": [
        "B30= drd.get_data_yahoo('^TYX','06/07/2017','05/06/2020',interval='d')\n",
        "lack_period=t_period[:-30]\n",
        "p1=pd.Timestamp(2018,7,3)\n",
        "p2=pd.Timestamp(2019,7,2)\n",
        "lack_period[56]=pd.Timestamp(2018,7,2)\n",
        "lack_period[108]=p2\n",
        "bond_yield=[]\n",
        "for i in range(len(lack_period)):\n",
        "  a=lack_period[i]\n",
        "  b=0.01*B30.loc[a,'Adj Close']\n",
        "  bond_yield.append(b)\n",
        "len(bond_yield)\n",
        "bond_yield[:20]"
      ],
      "execution_count": 103,
      "outputs": [
        {
          "output_type": "execute_result",
          "data": {
            "text/plain": [
              "[0.028369998931884768,\n",
              " 0.027829999923706054,\n",
              " 0.027239999771118163,\n",
              " 0.027739999294281007,\n",
              " 0.028550000190734864,\n",
              " 0.028949999809265138,\n",
              " 0.028450000286102294,\n",
              " 0.028910000324249268,\n",
              " 0.028450000286102294,\n",
              " 0.02816999912261963,\n",
              " 0.02808000087738037,\n",
              " 0.02749000072479248,\n",
              " 0.02747999906539917,\n",
              " 0.027239999771118163,\n",
              " 0.027950000762939454,\n",
              " 0.02821000099182129,\n",
              " 0.0286299991607666,\n",
              " 0.02877000093460083,\n",
              " 0.02875,\n",
              " 0.028499999046325684]"
            ]
          },
          "metadata": {
            "tags": []
          },
          "execution_count": 103
        }
      ]
    },
    {
      "cell_type": "code",
      "metadata": {
        "id": "_GKNv9Y9iRJF",
        "colab_type": "code",
        "colab": {}
      },
      "source": [
        "#2017.06.07\n",
        "a30=31+29+31+30+31+30+31+15+23+31+31+30+31+30+31\n",
        "c=a30/365+26\n",
        "#2018.12.26 PERIOD\n",
        "#21-40:20\n",
        "#41-43:3\n",
        "#18-20:3\n",
        "c\n",
        "d=c+3\n",
        "d\n",
        "bondprice10_lack=[np.exp(-i*c) for i in bond_yield]\n",
        "bondprice30_lack=[np.exp(-i*d) for i in bond_yield]"
      ],
      "execution_count": 0,
      "outputs": []
    },
    {
      "cell_type": "code",
      "metadata": {
        "id": "LQ1a4-pYqprx",
        "colab_type": "code",
        "outputId": "7328567c-1452-43fb-efef-0685fb08e65a",
        "colab": {
          "base_uri": "https://localhost:8080/",
          "height": 34
        }
      },
      "source": [
        "bond_price10=[0.57239,0.572375,0.598495,0.584175,0.592505,0.604465,0.63292,0.64429,0.68259,0.62449,0.694705,0.73483,0.71203,0.732635]\n",
        "bond_price30=[0.536425,0.537195,0.564690,0.548540,0.556420,0.569590,0.598885,0.613025,0.654810,0.586930,0.657060,0.702030,0.676945,0.698375]\n",
        "bond10tprice=[0.57639,0.59218,0.59413,0.57203,0.56817,0.56815,0.55983,0.55275,0.57484,0.57900,0.57290,0.57439,0.55673,0.55915,0.55142,0.55335]+bond_price10\n",
        "bond30tprice=[0.53646,0.55261,0.55369,0.53157,0.52788,0.52883,0.52192,0.51420,0.53706,0.54177,0.53544,0.53640,0.51922,0.52123,0.51292,0.51662]+bond_price30\n",
        "len(bond10tprice)"
      ],
      "execution_count": 107,
      "outputs": [
        {
          "output_type": "execute_result",
          "data": {
            "text/plain": [
              "30"
            ]
          },
          "metadata": {
            "tags": []
          },
          "execution_count": 107
        }
      ]
    },
    {
      "cell_type": "code",
      "metadata": {
        "id": "aVqxjUfqjnA3",
        "colab_type": "code",
        "colab": {
          "base_uri": "https://localhost:8080/",
          "height": 34
        },
        "outputId": "bd648dfc-3baa-4801-aca5-fb4528974291"
      },
      "source": [
        "bond_10_t=bondprice10_lack+bond10tprice\n",
        "bond_30_t=bondprice30_lack+bond30tprice\n",
        "len(bond_10_t)"
      ],
      "execution_count": 110,
      "outputs": [
        {
          "output_type": "execute_result",
          "data": {
            "text/plain": [
              "150"
            ]
          },
          "metadata": {
            "tags": []
          },
          "execution_count": 110
        }
      ]
    },
    {
      "cell_type": "code",
      "metadata": {
        "id": "V-bSaeICkuwR",
        "colab_type": "code",
        "colab": {}
      },
      "source": [
        "share1=300000/bond_10_t[0]\n",
        "share2=300000/bond_30_t[0]"
      ],
      "execution_count": 0,
      "outputs": []
    },
    {
      "cell_type": "code",
      "metadata": {
        "id": "n2TPW4Gekusz",
        "colab_type": "code",
        "colab": {
          "base_uri": "https://localhost:8080/",
          "height": 34
        },
        "outputId": "23a72e97-3dc0-40bd-c6e9-f3ac5c9f026a"
      },
      "source": [
        "bond_loss=[]\n",
        "for i in range(149):\n",
        "  a=share1*(bond_10_t[i+1]-bond_10_t[i])+share2*(bond_30_t[i+1]-bond_30_t[i])\n",
        "  bond_loss.append(a)\n",
        "len(bond_loss)"
      ],
      "execution_count": 114,
      "outputs": [
        {
          "output_type": "execute_result",
          "data": {
            "text/plain": [
              "149"
            ]
          },
          "metadata": {
            "tags": []
          },
          "execution_count": 114
        }
      ]
    },
    {
      "cell_type": "code",
      "metadata": {
        "id": "QNiz0_6LZBfj",
        "colab_type": "code",
        "colab": {}
      },
      "source": [
        "def option_finder(stock,libor,vol,k,maturity,weektime,otype):\n",
        "  option=[]\n",
        "  for i in range(len(weektime)):\n",
        "    a=weektime[i]\n",
        "    d1 = (np.log(stock.loc[a,'Adj Close'] / k) + (libor[i] + 0.5 * vol[i] ** 2) * maturity[i]) / (vol[i] * np.sqrt(maturity[i]))\n",
        "    d2 = d1 - vol[i] * np.sqrt(maturity[i])\n",
        "    price=(otype * stock.loc[a,'Adj Close'] * ss.norm.cdf(otype * d1) - otype * np.exp(-libor[i] * maturity[i]) * k * ss.norm.cdf(otype * d2))\n",
        "    option.append(price)\n",
        "  return option"
      ],
      "execution_count": 0,
      "outputs": []
    },
    {
      "cell_type": "code",
      "metadata": {
        "id": "a8JMCWqkZq0R",
        "colab_type": "code",
        "colab": {}
      },
      "source": [
        "libor_q11=[0.00931,0.00931,0.01177,0.01176,0.01174,0.01178,0.01179,0.01178,0.01177,0.01178,0.01179,0.01178,0.01178,0.01176,0.01177,0.01179,0.01180,0.01182,0.01183,0.01184,0.01184,0.01182,0.01183,0.01183,0.01183,0.01186,0.01183,0.01183,0.01434,0.01435,0.01438,0.01435,0.01438,0.01438,0.01439,0.01439,0.01444,0.01445,0.01443,0.01447,0.01445,0.01449,0.01699,0.01702,0.01702,0.01705,0.01703,0.01704,0.01705,0.01705,0.01708,0.01712,0.01714,0.01713,0.01930,0.01934,0.01928,0.01918,0.01913,0.01915,0.01916,0.01916,0.01914,0.01918,0.01915,0.01919,0.01919,0.01919,0.01915,0.02168,0.02172,0.02176,0.02175,0.02173,0.02177,0.02178,0.02181,0.02183,0.02172,0.02185,0.02182]+libor_q1"
      ],
      "execution_count": 0,
      "outputs": []
    },
    {
      "cell_type": "code",
      "metadata": {
        "id": "tM1XDEpZdHab",
        "colab_type": "code",
        "colab": {
          "base_uri": "https://localhost:8080/",
          "height": 34
        },
        "outputId": "40964adc-4c54-4226-d70e-d0e87f7cae18"
      },
      "source": [
        "len(libor_q11)"
      ],
      "execution_count": 116,
      "outputs": [
        {
          "output_type": "execute_result",
          "data": {
            "text/plain": [
              "150"
            ]
          },
          "metadata": {
            "tags": []
          },
          "execution_count": 116
        }
      ]
    },
    {
      "cell_type": "code",
      "metadata": {
        "id": "k183cArLf0aD",
        "colab_type": "code",
        "colab": {}
      },
      "source": [
        "a=5+365+31+29+31+30+31+19+365+23+31+31+30+31+30+26\n",
        "#meli 6.19, mmm 7.17, spx 5.14 2017.6.7\n",
        "b=5+365+31+29+31+30+31+30+17+365+23+31+31+30+31+30+26\n",
        "c=5+365+31+29+31+30+14+365+23+31+31+30+31+30+26\n",
        "meli_maturity=[a/365,]\n",
        "mmm_maturity=[b/365,]\n",
        "spx_maturity=[c/365,]\n",
        "for i in range(149):\n",
        "  a=a-7\n",
        "  b=b-7\n",
        "  c=c-7\n",
        "  meli_maturity.append(a/365)\n",
        "  mmm_maturity.append(b/365)\n",
        "  spx_maturity.append(c/365)"
      ],
      "execution_count": 0,
      "outputs": []
    },
    {
      "cell_type": "code",
      "metadata": {
        "id": "ZrqtcMwp652D",
        "colab_type": "code",
        "colab": {}
      },
      "source": [
        "meli=[]\n",
        "mmm=[]\n",
        "spx=[]\n",
        "for i in range(len(t_period)):\n",
        "  time=t_period[i]\n",
        "  a=MELI.loc[time]['Adj Close']\n",
        "  b=MMM.loc[time]['Adj Close']\n",
        "  c=10*SPY.loc[time]['Adj Close']\n",
        "  meli.append(a)\n",
        "  mmm.append(b)\n",
        "  spx.append(c)"
      ],
      "execution_count": 0,
      "outputs": []
    },
    {
      "cell_type": "code",
      "metadata": {
        "id": "fuOq0fb0uAl9",
        "colab_type": "code",
        "colab": {}
      },
      "source": [
        "def vol_finder(sigma,weektime):\n",
        "  len(sigma)\n",
        "  tradingdays3=sigma.index\n",
        "  vol=[]\n",
        "  for i in range(len(weektime)):\n",
        "    a=list(tradingdays3).index(weektime[i])\n",
        "    b=np.log(np.array(sigma[:a]['Adj Close'])).std()\n",
        "    vol.append(b)\n",
        "  return vol"
      ],
      "execution_count": 0,
      "outputs": []
    },
    {
      "cell_type": "code",
      "metadata": {
        "id": "Vi9K10UvuIyg",
        "colab_type": "code",
        "colab": {
          "base_uri": "https://localhost:8080/",
          "height": 34
        },
        "outputId": "a40c7e05-b8b4-4b73-c86f-d380ddf1438d"
      },
      "source": [
        "mmm_vol=drd.get_data_yahoo('MMM','01/04/2012','04/15/2020',interval='d')\n",
        "mmm_sigma=vol_finder(mmm_vol,t_period)\n",
        "spx_vol=drd.get_data_yahoo('SPY','01/04/2012','04/15/2020',interval='d')\n",
        "spx_sigma=vol_finder(spx_vol,t_period)\n",
        "meli_vol=drd.get_data_yahoo('MELI','01/04/2012','04/15/2020',interval='d')\n",
        "meli_sigma=vol_finder(meli_vol,t_period)\n",
        "len(meli_sigma)"
      ],
      "execution_count": 122,
      "outputs": [
        {
          "output_type": "execute_result",
          "data": {
            "text/plain": [
              "150"
            ]
          },
          "metadata": {
            "tags": []
          },
          "execution_count": 122
        }
      ]
    },
    {
      "cell_type": "code",
      "metadata": {
        "id": "B6hWETGsHnY2",
        "colab_type": "code",
        "colab": {}
      },
      "source": [
        "spx_delta1=delta_finder(spx,spx_maturity,2885,libor_q11,spx_sigma)\n",
        "meli_delta1=[i+1 for i in delta_finder(meli,meli_maturity,640,libor_q11,meli_sigma)]\n",
        "mmm_delta1=[i+1 for i in delta_finder(mmm,mmm_maturity,130,libor_q11,mmm_sigma)]"
      ],
      "execution_count": 0,
      "outputs": []
    },
    {
      "cell_type": "code",
      "metadata": {
        "id": "BnJvgHI6HmtU",
        "colab_type": "code",
        "colab": {}
      },
      "source": [
        "option_loss1=[]\n",
        "for i in range(149):\n",
        "  a=100*meli_delta1[i]*(meli[i+1]-meli[i])\n",
        "  b=200*mmm_delta1[i]*(mmm[i+1]-mmm[i])\n",
        "  c=-100*spx_delta1[i]*(spx[i+1]-spx[i])\n",
        "  d=a+b+c\n",
        "  option_loss1.append(d)"
      ],
      "execution_count": 0,
      "outputs": []
    },
    {
      "cell_type": "code",
      "metadata": {
        "id": "7p6l2wGM-JQF",
        "colab_type": "code",
        "outputId": "5c0eb557-13e3-4d47-9801-d40525e7492a",
        "colab": {
          "base_uri": "https://localhost:8080/",
          "height": 1000
        }
      },
      "source": [
        "option_loss1"
      ],
      "execution_count": 126,
      "outputs": [
        {
          "output_type": "execute_result",
          "data": {
            "text/plain": [
              "[931.536371049001,\n",
              " 493.20153094411137,\n",
              " -183.16670774497544,\n",
              " -698.7078294536229,\n",
              " 1203.8854075590025,\n",
              " 2012.7278299341192,\n",
              " -1774.4160133966634,\n",
              " 1006.3881084588021,\n",
              " -410.94693337364,\n",
              " -44.07040085250867,\n",
              " -2062.790007098455,\n",
              " 1072.1223351010512,\n",
              " 374.6107057906959,\n",
              " 3491.57454131113,\n",
              " 798.9272814001658,\n",
              " -510.1967454042693,\n",
              " 2917.3042512763786,\n",
              " 1188.9882531084684,\n",
              " 262.64495111055504,\n",
              " 2755.052028631063,\n",
              " 90.88176424040648,\n",
              " 1027.9296144518578,\n",
              " -1836.7375854556553,\n",
              " 2785.295818508436,\n",
              " 2727.0707663651533,\n",
              " 453.6686920761206,\n",
              " 2570.428024206948,\n",
              " 399.66770996914596,\n",
              " 106.54199947150708,\n",
              " 1720.7004611031641,\n",
              " 2979.838134426427,\n",
              " 3861.704044775023,\n",
              " 1938.2110306710365,\n",
              " 767.2075164383597,\n",
              " -10819.911540929392,\n",
              " 1600.718354399095,\n",
              " 420.12810266189894,\n",
              " 1816.0104707137257,\n",
              " 1225.0142465064469,\n",
              " 907.8532509709828,\n",
              " -3392.6481867083694,\n",
              " -8901.697326384401,\n",
              " 2557.0942115729526,\n",
              " -1217.9712150766018,\n",
              " 4732.5760476275345,\n",
              " -7059.576856961939,\n",
              " -996.6599407284856,\n",
              " 4518.665357793132,\n",
              " 346.32105199926013,\n",
              " 510.83567950440425,\n",
              " -416.51976345155094,\n",
              " 3450.140639932447,\n",
              " -89.54276374484829,\n",
              " -1399.9560429204353,\n",
              " -3840.6165789663037,\n",
              " 1142.3144898464147,\n",
              " 3346.070897067654,\n",
              " 4091.2372491591086,\n",
              " 1551.1080503753271,\n",
              " -1513.5020328933351,\n",
              " 2047.866460111375,\n",
              " -2545.3933002761987,\n",
              " 2450.054084548475,\n",
              " 4442.559877248483,\n",
              " -2364.3040036725088,\n",
              " -1107.6925025039127,\n",
              " 1942.1429266274731,\n",
              " -25.92732436521667,\n",
              " 2141.593449395045,\n",
              " -8771.682223660557,\n",
              " 992.7099109636713,\n",
              " -10427.058568665803,\n",
              " 4291.465245560953,\n",
              " 7550.2298404434205,\n",
              " -5785.509975997867,\n",
              " -2718.124453734639,\n",
              " 6588.321890209471,\n",
              " -2231.0903138324784,\n",
              " -2655.4656870474582,\n",
              " -10564.985998750124,\n",
              " -3417.3240236578,\n",
              " 3499.78510672066,\n",
              " 5664.750899116617,\n",
              " 1350.1468120243935,\n",
              " 1410.9131612982246,\n",
              " 4152.9103187308265,\n",
              " 3175.7336838366,\n",
              " 2394.848247249078,\n",
              " 1920.9143941129128,\n",
              " 2602.3107093738968,\n",
              " -1400.0384802598392,\n",
              " 4515.8396265575475,\n",
              " 484.11598050190906,\n",
              " -1675.1695508588587,\n",
              " 5281.040738887912,\n",
              " 909.0993313831846,\n",
              " 715.1588942065664,\n",
              " 870.6250312521358,\n",
              " -6206.590187757636,\n",
              " -777.823605788069,\n",
              " 62.96973770354066,\n",
              " -633.7464259302178,\n",
              " -4169.260558473327,\n",
              " 2420.005238654533,\n",
              " 6289.0024909793065,\n",
              " 3418.261873363889,\n",
              " -2326.1745702851345,\n",
              " 5472.328203205714,\n",
              " -1612.1889240260932,\n",
              " 976.6970611193997,\n",
              " 3958.4051213747625,\n",
              " -4761.5633546980225,\n",
              " -6009.613586713065,\n",
              " -2190.4029336681806,\n",
              " 5197.916930332514,\n",
              " -4603.713919285089,\n",
              " 2782.808827867214,\n",
              " 2213.4648557318833,\n",
              " -730.6643031991132,\n",
              " -898.7969931949499,\n",
              " -5503.670601114847,\n",
              " 164.0503195865997,\n",
              " 5517.055809900548,\n",
              " 1259.7057164512298,\n",
              " 2024.033998936168,\n",
              " -1316.1819867280274,\n",
              " 1248.505825998005,\n",
              " 1517.3553775639866,\n",
              " 4181.536502765396,\n",
              " -2518.8283838218968,\n",
              " 1453.483378573536,\n",
              " 1650.042979462561,\n",
              " 2807.6937078700666,\n",
              " -1087.6004949860758,\n",
              " 4379.027523355802,\n",
              " 2196.23895855823,\n",
              " 481.05537702593665,\n",
              " -3421.117147448624,\n",
              " 1703.0150388917575,\n",
              " 2479.56626523231,\n",
              " 2466.8243481976556,\n",
              " -12920.76629369964,\n",
              " 2368.0300098103594,\n",
              " -16936.199253974562,\n",
              " -27696.92551255291,\n",
              " 7607.703514369842,\n",
              " -1245.4869283185178,\n",
              " 29535.479036541663,\n",
              " 3515.4066284011355]"
            ]
          },
          "metadata": {
            "tags": []
          },
          "execution_count": 126
        }
      ]
    },
    {
      "cell_type": "code",
      "metadata": {
        "id": "5x3fex5j-JB3",
        "colab_type": "code",
        "outputId": "1cdc2258-6f53-4fff-c981-16a806339abe",
        "colab": {
          "base_uri": "https://localhost:8080/",
          "height": 867
        }
      },
      "source": [
        "portfolio_actualloss=np.sum([option_loss1,stock_loss,bond_loss], axis = 0)\n",
        "portfolio_actualloss"
      ],
      "execution_count": 127,
      "outputs": [
        {
          "output_type": "execute_result",
          "data": {
            "text/plain": [
              "array([  28157.12050247,   57337.45827543,  -31409.1143571 ,\n",
              "       -100690.65511   ,   72388.96591145,   23703.78914093,\n",
              "         25230.7289572 ,  -34781.56980999,   65918.4735681 ,\n",
              "        -30374.0635745 ,   -4025.91892511,   42840.39440198,\n",
              "         -2896.63632177,   17808.83465479,   27771.35429869,\n",
              "        -87368.7312433 ,   42323.75216816,   29513.04031874,\n",
              "         22670.64949245,  -63633.94383755,   50491.50287634,\n",
              "          9753.64229879,    5217.39727616,   23301.84996641,\n",
              "        -66748.2635277 ,   -3388.83221918,   56263.72053883,\n",
              "        -10712.99906308,    9259.28938094,   62841.03728466,\n",
              "         34693.2387273 ,   31492.81039433,   28107.31411072,\n",
              "         39751.23463718, -150150.99852321,   24175.76860151,\n",
              "           909.3752649 ,   38050.56898748,   13830.66557533,\n",
              "         32222.80356784,  -65355.01523111, -159333.16575087,\n",
              "         56474.92248567,  -28489.57245905,   46900.80821397,\n",
              "       -144658.55259179,   51208.38662235,  108879.50861715,\n",
              "        -57084.08117742,    7391.05562457,   48506.52688754,\n",
              "         64333.17687142,   14489.82135591,   27943.98362756,\n",
              "       -117588.77545465,  -12114.52679822,   71552.69555145,\n",
              "         53301.52179999,  -13883.20150745,  -54344.63226488,\n",
              "        107255.67961921,   -1697.90473019,    9181.41370577,\n",
              "         69935.33327543,  -63595.71618501,  -47142.87699984,\n",
              "          6537.83855454,   17814.10868782,   47286.908753  ,\n",
              "       -242154.82856052,   29739.75837537, -176097.53040912,\n",
              "        110317.84071183,   62328.51327147, -110198.38278393,\n",
              "       -168743.48981991,   96057.36090204,   17844.22144462,\n",
              "        -11912.08648651, -110933.00965167,  -56755.38701316,\n",
              "         25482.12220627,   96225.6121955 ,   26186.27605199,\n",
              "        -52947.22476   ,   28977.16136938,   66161.82707445,\n",
              "          -730.31486903,   35693.21807025,   36228.46071583,\n",
              "        -56102.51192043,  103613.79669589,   10734.18265599,\n",
              "         23288.31956723,   62321.11201128,    8660.77136309,\n",
              "        -46054.80015648,   15669.40087856,  -47648.98897868,\n",
              "         13166.3754635 ,  -60649.35693526,  -55965.2064869 ,\n",
              "        -38417.79104051,   35470.21041879,   65978.33061354,\n",
              "         94772.98988262,  -14576.71875514,   72172.39123491,\n",
              "        -25230.42852248,   32775.05034337,   60140.52073177,\n",
              "        -56435.07196208,  -25916.34109402,    3296.6925277 ,\n",
              "         92672.9965146 ,  -48481.35385979,   27019.85012582,\n",
              "         27663.11400642,  -25050.98776506,    9369.12436607,\n",
              "        -18254.81444032,   29332.55374507,   60224.08503515,\n",
              "         -3560.42812198,  102000.85210438,   -5090.15582918,\n",
              "         49400.99034895,   59786.71390469,   54498.2067231 ,\n",
              "        -52199.5323661 ,   51099.63926531,   52334.96413157,\n",
              "         76660.8821563 ,  -39561.84352982,  106440.81162788,\n",
              "         94357.44756843,   62096.02078872,   15238.40539488,\n",
              "        171614.62932129,  138022.60640127,  298083.44428966,\n",
              "       -346011.09283643,   56046.57563508, -316295.60022155,\n",
              "       -610150.80790008,  419370.23696249,  -14659.15883979,\n",
              "        258298.60275143,  269662.26061512])"
            ]
          },
          "metadata": {
            "tags": []
          },
          "execution_count": 127
        }
      ]
    },
    {
      "cell_type": "code",
      "metadata": {
        "id": "j9sN_BcJ-IzJ",
        "colab_type": "code",
        "colab": {}
      },
      "source": [
        "from scipy import stats\n",
        "\n",
        "t_loss_list=[]\n",
        "df_list=[]\n",
        "for j in range(69):\n",
        "  loss_for_estimate=portfolio_actualloss[j:j+81]\n",
        "  para_t=stats.t.fit(loss_for_estimate)\n",
        "  df_list.append(para_t[0])\n",
        "  a=stats.t.rvs(loc = para_t[1], df = para_t[0], scale = para_t[2])\n",
        "  t_loss_list.append(a)\n"
      ],
      "execution_count": 0,
      "outputs": []
    },
    {
      "cell_type": "code",
      "metadata": {
        "id": "WwQkqYs_-Iem",
        "colab_type": "code",
        "outputId": "13c1ead3-629a-4577-97c5-b587ab03f101",
        "colab": {
          "base_uri": "https://localhost:8080/",
          "height": 1000
        }
      },
      "source": [
        "t_loss_list"
      ],
      "execution_count": 132,
      "outputs": [
        {
          "output_type": "execute_result",
          "data": {
            "text/plain": [
              "[45741.212471181345,\n",
              " 20043.58794502233,\n",
              " 39383.92709695468,\n",
              " -32460.15122042163,\n",
              " 48083.62117935952,\n",
              " 1801.0063641842225,\n",
              " 14897.54831663064,\n",
              " -39251.35419977193,\n",
              " -55453.101622131086,\n",
              " 21360.050696030336,\n",
              " -296.0283171080591,\n",
              " -105327.13481111095,\n",
              " -94183.45654961767,\n",
              " 15951.302819924904,\n",
              " 90185.41171066649,\n",
              " 8427.946956533191,\n",
              " 23146.353831235025,\n",
              " 8723.651466020825,\n",
              " -12903.004757542218,\n",
              " 125421.75219780742,\n",
              " -1128.7471135412834,\n",
              " 12146.412319663164,\n",
              " 29003.872374011906,\n",
              " 120445.2961560796,\n",
              " -15885.58734481657,\n",
              " -138356.30021754117,\n",
              " -65818.26596722375,\n",
              " -49174.64144928668,\n",
              " -1724.44503511929,\n",
              " -1506.1346626541726,\n",
              " 23316.395275476574,\n",
              " -207837.99906613893,\n",
              " 171441.6619663295,\n",
              " 54930.96868316782,\n",
              " 19860.901082086733,\n",
              " 73763.01398586608,\n",
              " 131379.45720522798,\n",
              " 38213.42527472086,\n",
              " -994.1079406234112,\n",
              " -5938.847809493083,\n",
              " -82420.76979004462,\n",
              " -46531.2199908293,\n",
              " 5445.360419536378,\n",
              " -49202.84715631613,\n",
              " -30912.55184433873,\n",
              " 33560.276810600015,\n",
              " -9983.224490009838,\n",
              " -54522.6392355478,\n",
              " 35309.3266497464,\n",
              " -28444.288097013035,\n",
              " -60878.98926764302,\n",
              " -1107.8252943090229,\n",
              " -4639.640006869002,\n",
              " -186297.48985191048,\n",
              " -21904.25042699311,\n",
              " 59633.68062959831,\n",
              " -7352.550089005748,\n",
              " 3184.1374100599933,\n",
              " -69832.80377681964,\n",
              " -49594.0359060667,\n",
              " 70600.82147928004,\n",
              " 131610.36444223113,\n",
              " 16421.305522530554,\n",
              " -178228.29739834566,\n",
              " -51559.71744814119,\n",
              " 33646.92948817352,\n",
              " 58580.80399341076,\n",
              " 89923.12784195034,\n",
              " -157210.21011915457]"
            ]
          },
          "metadata": {
            "tags": []
          },
          "execution_count": 132
        }
      ]
    },
    {
      "cell_type": "code",
      "metadata": {
        "id": "Gn6xazVRNGoe",
        "colab_type": "code",
        "outputId": "00629345-94dc-43a1-c965-522b6dafa8cb",
        "colab": {
          "base_uri": "https://localhost:8080/",
          "height": 281
        }
      },
      "source": [
        "pdf_function1(t_loss_list,'portfolio t-dist loss pdf')"
      ],
      "execution_count": 133,
      "outputs": [
        {
          "output_type": "display_data",
          "data": {
            "image/png": "[encoded data removed]",
            "text/plain": [
              "<Figure size 432x288 with 1 Axes>"
            ]
          },
          "metadata": {
            "tags": [],
            "needs_background": "light"
          }
        }
      ]
    },
    {
      "cell_type": "markdown",
      "metadata": {
        "id": "h-nG_gpVPGOs",
        "colab_type": "text"
      },
      "source": [
        "# **Now we work on 2.stress test**\n",
        "\n"
      ]
    },
    {
      "cell_type": "markdown",
      "metadata": {
        "id": "y_ZFoyfxAzV5",
        "colab_type": "text"
      },
      "source": [
        "# **Now we work on the first scenario --- financial crisis 2008~2009**"
      ]
    },
    {
      "cell_type": "code",
      "metadata": {
        "id": "PRXIUyQg_i52",
        "colab_type": "code",
        "outputId": "2354282e-5261-4ea0-ff17-f6031f659a2e",
        "colab": {
          "base_uri": "https://localhost:8080/",
          "height": 34
        }
      },
      "source": [
        "B30= drd.get_data_yahoo('^TYX','05/07/2008','05/11/2009',interval='d')\n",
        "tradingdays2=B30.index\n",
        "tradingdays2\n",
        "len(tradingdays2)"
      ],
      "execution_count": 134,
      "outputs": [
        {
          "output_type": "execute_result",
          "data": {
            "text/plain": [
              "251"
            ]
          },
          "metadata": {
            "tags": []
          },
          "execution_count": 134
        }
      ]
    },
    {
      "cell_type": "code",
      "metadata": {
        "id": "teIvkDGv_i0f",
        "colab_type": "code",
        "outputId": "6889d5e7-5ee6-4801-8b68-f6d3cd2e700f",
        "colab": {
          "base_uri": "https://localhost:8080/",
          "height": 34
        }
      },
      "source": [
        "weektime2=[]\n",
        "for i in tradingdays2:\n",
        "  if i.weekday() == 2:\n",
        "    weektime2.append(i)\n",
        "len(weektime2)"
      ],
      "execution_count": 135,
      "outputs": [
        {
          "output_type": "execute_result",
          "data": {
            "text/plain": [
              "51"
            ]
          },
          "metadata": {
            "tags": []
          },
          "execution_count": 135
        }
      ]
    },
    {
      "cell_type": "code",
      "metadata": {
        "id": "Cb-RX45x_iel",
        "colab_type": "code",
        "outputId": "fb29885c-1130-4c1e-d69c-77f49efffade",
        "colab": {
          "base_uri": "https://localhost:8080/",
          "height": 51
        }
      },
      "source": [
        "nan_list=[]\n",
        "nan_index=[]\n",
        "for i in range(50):\n",
        "  if weektime2[i+1]-weektime2[i] != pd.Timedelta('7 days'):\n",
        "    nan_list.append(weektime2[i])\n",
        "    nan_index.append(i)\n",
        "\n",
        "\n",
        "#weektime: wednesday date list\n",
        "#weektime[-1]\n",
        "print(nan_index)\n",
        "print(nan_list)"
      ],
      "execution_count": 136,
      "outputs": [
        {
          "output_type": "stream",
          "text": [
            "[32]\n",
            "[Timestamp('2008-12-17 00:00:00')]\n"
          ],
          "name": "stdout"
        }
      ]
    },
    {
      "cell_type": "code",
      "metadata": {
        "id": "3T3lHByr_icR",
        "colab_type": "code",
        "outputId": "5a720c65-79a0-47cc-de06-32e0ec8c7702",
        "colab": {
          "base_uri": "https://localhost:8080/",
          "height": 918
        }
      },
      "source": [
        "p1=pd.Timestamp(2008,12,23)\n",
        "p2=pd.Timestamp(2008,12,30)\n",
        "weektime2.insert(33,p1)\n",
        "weektime2.insert(34,p2)\n",
        "weektime2"
      ],
      "execution_count": 137,
      "outputs": [
        {
          "output_type": "execute_result",
          "data": {
            "text/plain": [
              "[Timestamp('2008-05-07 00:00:00'),\n",
              " Timestamp('2008-05-14 00:00:00'),\n",
              " Timestamp('2008-05-21 00:00:00'),\n",
              " Timestamp('2008-05-28 00:00:00'),\n",
              " Timestamp('2008-06-04 00:00:00'),\n",
              " Timestamp('2008-06-11 00:00:00'),\n",
              " Timestamp('2008-06-18 00:00:00'),\n",
              " Timestamp('2008-06-25 00:00:00'),\n",
              " Timestamp('2008-07-02 00:00:00'),\n",
              " Timestamp('2008-07-09 00:00:00'),\n",
              " Timestamp('2008-07-16 00:00:00'),\n",
              " Timestamp('2008-07-23 00:00:00'),\n",
              " Timestamp('2008-07-30 00:00:00'),\n",
              " Timestamp('2008-08-06 00:00:00'),\n",
              " Timestamp('2008-08-13 00:00:00'),\n",
              " Timestamp('2008-08-20 00:00:00'),\n",
              " Timestamp('2008-08-27 00:00:00'),\n",
              " Timestamp('2008-09-03 00:00:00'),\n",
              " Timestamp('2008-09-10 00:00:00'),\n",
              " Timestamp('2008-09-17 00:00:00'),\n",
              " Timestamp('2008-09-24 00:00:00'),\n",
              " Timestamp('2008-10-01 00:00:00'),\n",
              " Timestamp('2008-10-08 00:00:00'),\n",
              " Timestamp('2008-10-15 00:00:00'),\n",
              " Timestamp('2008-10-22 00:00:00'),\n",
              " Timestamp('2008-10-29 00:00:00'),\n",
              " Timestamp('2008-11-05 00:00:00'),\n",
              " Timestamp('2008-11-12 00:00:00'),\n",
              " Timestamp('2008-11-19 00:00:00'),\n",
              " Timestamp('2008-11-26 00:00:00'),\n",
              " Timestamp('2008-12-03 00:00:00'),\n",
              " Timestamp('2008-12-10 00:00:00'),\n",
              " Timestamp('2008-12-17 00:00:00'),\n",
              " Timestamp('2008-12-23 00:00:00'),\n",
              " Timestamp('2008-12-30 00:00:00'),\n",
              " Timestamp('2009-01-07 00:00:00'),\n",
              " Timestamp('2009-01-14 00:00:00'),\n",
              " Timestamp('2009-01-21 00:00:00'),\n",
              " Timestamp('2009-01-28 00:00:00'),\n",
              " Timestamp('2009-02-04 00:00:00'),\n",
              " Timestamp('2009-02-11 00:00:00'),\n",
              " Timestamp('2009-02-18 00:00:00'),\n",
              " Timestamp('2009-02-25 00:00:00'),\n",
              " Timestamp('2009-03-04 00:00:00'),\n",
              " Timestamp('2009-03-11 00:00:00'),\n",
              " Timestamp('2009-03-18 00:00:00'),\n",
              " Timestamp('2009-03-25 00:00:00'),\n",
              " Timestamp('2009-04-01 00:00:00'),\n",
              " Timestamp('2009-04-08 00:00:00'),\n",
              " Timestamp('2009-04-15 00:00:00'),\n",
              " Timestamp('2009-04-22 00:00:00'),\n",
              " Timestamp('2009-04-29 00:00:00'),\n",
              " Timestamp('2009-05-06 00:00:00')]"
            ]
          },
          "metadata": {
            "tags": []
          },
          "execution_count": 137
        }
      ]
    },
    {
      "cell_type": "markdown",
      "metadata": {
        "id": "kvLJOQ0bD_Y6",
        "colab_type": "text"
      },
      "source": [
        "**Use CYTK TO SUBSTITUTE TSLA; USE ADS TO SUBSTITUTE YELP**"
      ]
    },
    {
      "cell_type": "code",
      "metadata": {
        "id": "Exo9Xd7-_h5-",
        "colab_type": "code",
        "colab": {}
      },
      "source": [
        "AAPL= drd.get_data_yahoo('AAPL','05/07/2008','05/11/2009',interval='d')\n",
        "CYTK= drd.get_data_yahoo('CYTK','05/07/2008','05/11/2009',interval='d')\n",
        "GILD= drd.get_data_yahoo('GILD','05/07/2008','05/11/2009',interval='d')\n",
        "MELI= drd.get_data_yahoo('MELI','05/07/2008','05/11/2009',interval='d')\n",
        "MSFT= drd.get_data_yahoo('MSFT','05/07/2008','05/11/2009',interval='d')\n",
        "DIS= drd.get_data_yahoo('DIS','05/07/2008','05/11/2009',interval='d')\n",
        "NVDA= drd.get_data_yahoo('NVDA','05/07/2008','05/11/2009',interval='d')\n",
        "TCO= drd.get_data_yahoo('TCO','05/07/2008','05/11/2009',interval='d')\n",
        "MMM= drd.get_data_yahoo('MMM','05/07/2008','05/11/2009',interval='d')\n",
        "INCY= drd.get_data_yahoo('INCY','05/07/2008','05/11/2009',interval='d')\n",
        "IBM= drd.get_data_yahoo('IBM','05/07/2008','05/11/2009',interval='d')\n",
        "EPC= drd.get_data_yahoo('EPC','05/07/2008','05/11/2009',interval='d')\n",
        "SPY= drd.get_data_yahoo('SPY','05/07/2008','05/11/2009',interval='d')\n",
        "ADS= drd.get_data_yahoo('ADS','05/07/2008','05/11/2009',interval='d')\n",
        "VTI= drd.get_data_yahoo('VTI','05/07/2008','05/11/2009',interval='d')"
      ],
      "execution_count": 0,
      "outputs": []
    },
    {
      "cell_type": "code",
      "metadata": {
        "id": "8T3Z-eMw_hsQ",
        "colab_type": "code",
        "outputId": "6d0f96f4-cf31-4667-e5af-942ad1df895e",
        "colab": {
          "base_uri": "https://localhost:8080/",
          "height": 450
        }
      },
      "source": [
        "for i in range(len(tradingdays2)):\n",
        "  a=tradingdays2[i]\n",
        "  b=ADS.loc[a,'Adj Close']\n",
        "  ADS.loc[a,'Adj Close']=b/2.2\n",
        "ADS"
      ],
      "execution_count": 1062,
      "outputs": [
        {
          "output_type": "execute_result",
          "data": {
            "text/html": [
              "<div>\n",
              "<style scoped>\n",
              "    .dataframe tbody tr th:only-of-type {\n",
              "        vertical-align: middle;\n",
              "    }\n",
              "\n",
              "    .dataframe tbody tr th {\n",
              "        vertical-align: top;\n",
              "    }\n",
              "\n",
              "    .dataframe thead th {\n",
              "        text-align: right;\n",
              "    }\n",
              "</style>\n",
              "<table border=\"1\" class=\"dataframe\">\n",
              "  <thead>\n",
              "    <tr style=\"text-align: right;\">\n",
              "      <th></th>\n",
              "      <th>High</th>\n",
              "      <th>Low</th>\n",
              "      <th>Open</th>\n",
              "      <th>Close</th>\n",
              "      <th>Volume</th>\n",
              "      <th>Adj Close</th>\n",
              "    </tr>\n",
              "    <tr>\n",
              "      <th>Date</th>\n",
              "      <th></th>\n",
              "      <th></th>\n",
              "      <th></th>\n",
              "      <th></th>\n",
              "      <th></th>\n",
              "      <th></th>\n",
              "    </tr>\n",
              "  </thead>\n",
              "  <tbody>\n",
              "    <tr>\n",
              "      <th>2008-05-07</th>\n",
              "      <td>59.430000</td>\n",
              "      <td>57.400002</td>\n",
              "      <td>58.000000</td>\n",
              "      <td>58.230000</td>\n",
              "      <td>1827700</td>\n",
              "      <td>25.263094</td>\n",
              "    </tr>\n",
              "    <tr>\n",
              "      <th>2008-05-08</th>\n",
              "      <td>59.099998</td>\n",
              "      <td>57.689999</td>\n",
              "      <td>59.090000</td>\n",
              "      <td>58.500000</td>\n",
              "      <td>778600</td>\n",
              "      <td>25.380239</td>\n",
              "    </tr>\n",
              "    <tr>\n",
              "      <th>2008-05-09</th>\n",
              "      <td>59.669998</td>\n",
              "      <td>57.849998</td>\n",
              "      <td>57.849998</td>\n",
              "      <td>59.110001</td>\n",
              "      <td>956400</td>\n",
              "      <td>25.644882</td>\n",
              "    </tr>\n",
              "    <tr>\n",
              "      <th>2008-05-12</th>\n",
              "      <td>59.470001</td>\n",
              "      <td>58.840000</td>\n",
              "      <td>58.930000</td>\n",
              "      <td>59.250000</td>\n",
              "      <td>1168900</td>\n",
              "      <td>25.705625</td>\n",
              "    </tr>\n",
              "    <tr>\n",
              "      <th>2008-05-13</th>\n",
              "      <td>59.930000</td>\n",
              "      <td>56.730000</td>\n",
              "      <td>59.250000</td>\n",
              "      <td>59.330002</td>\n",
              "      <td>1249100</td>\n",
              "      <td>25.740329</td>\n",
              "    </tr>\n",
              "    <tr>\n",
              "      <th>...</th>\n",
              "      <td>...</td>\n",
              "      <td>...</td>\n",
              "      <td>...</td>\n",
              "      <td>...</td>\n",
              "      <td>...</td>\n",
              "      <td>...</td>\n",
              "    </tr>\n",
              "    <tr>\n",
              "      <th>2009-05-05</th>\n",
              "      <td>42.450001</td>\n",
              "      <td>41.160000</td>\n",
              "      <td>41.590000</td>\n",
              "      <td>42.099998</td>\n",
              "      <td>1037200</td>\n",
              "      <td>18.265091</td>\n",
              "    </tr>\n",
              "    <tr>\n",
              "      <th>2009-05-06</th>\n",
              "      <td>42.900002</td>\n",
              "      <td>41.680000</td>\n",
              "      <td>42.830002</td>\n",
              "      <td>42.380001</td>\n",
              "      <td>1825500</td>\n",
              "      <td>18.386572</td>\n",
              "    </tr>\n",
              "    <tr>\n",
              "      <th>2009-05-07</th>\n",
              "      <td>43.480000</td>\n",
              "      <td>41.380001</td>\n",
              "      <td>42.840000</td>\n",
              "      <td>41.910000</td>\n",
              "      <td>1519700</td>\n",
              "      <td>18.182661</td>\n",
              "    </tr>\n",
              "    <tr>\n",
              "      <th>2009-05-08</th>\n",
              "      <td>43.869999</td>\n",
              "      <td>42.230000</td>\n",
              "      <td>42.549999</td>\n",
              "      <td>42.900002</td>\n",
              "      <td>2259300</td>\n",
              "      <td>18.612175</td>\n",
              "    </tr>\n",
              "    <tr>\n",
              "      <th>2009-05-11</th>\n",
              "      <td>43.349998</td>\n",
              "      <td>41.169998</td>\n",
              "      <td>41.169998</td>\n",
              "      <td>42.369999</td>\n",
              "      <td>1808500</td>\n",
              "      <td>18.382234</td>\n",
              "    </tr>\n",
              "  </tbody>\n",
              "</table>\n",
              "<p>255 rows × 6 columns</p>\n",
              "</div>"
            ],
            "text/plain": [
              "                 High        Low       Open      Close   Volume  Adj Close\n",
              "Date                                                                      \n",
              "2008-05-07  59.430000  57.400002  58.000000  58.230000  1827700  25.263094\n",
              "2008-05-08  59.099998  57.689999  59.090000  58.500000   778600  25.380239\n",
              "2008-05-09  59.669998  57.849998  57.849998  59.110001   956400  25.644882\n",
              "2008-05-12  59.470001  58.840000  58.930000  59.250000  1168900  25.705625\n",
              "2008-05-13  59.930000  56.730000  59.250000  59.330002  1249100  25.740329\n",
              "...               ...        ...        ...        ...      ...        ...\n",
              "2009-05-05  42.450001  41.160000  41.590000  42.099998  1037200  18.265091\n",
              "2009-05-06  42.900002  41.680000  42.830002  42.380001  1825500  18.386572\n",
              "2009-05-07  43.480000  41.380001  42.840000  41.910000  1519700  18.182661\n",
              "2009-05-08  43.869999  42.230000  42.549999  42.900002  2259300  18.612175\n",
              "2009-05-11  43.349998  41.169998  41.169998  42.369999  1808500  18.382234\n",
              "\n",
              "[255 rows x 6 columns]"
            ]
          },
          "metadata": {
            "tags": []
          },
          "execution_count": 1062
        }
      ]
    },
    {
      "cell_type": "code",
      "metadata": {
        "id": "YHRdleb5_hVx",
        "colab_type": "code",
        "colab": {}
      },
      "source": [
        "stock_list=[AAPL,CYTK,GILD,MELI,MSFT,DIS,NVDA,TCO,MMM,INCY,IBM,EPC,SPY,ADS,VTI]\n",
        "index_list=['AAPL','CYTK','GILD','MELI','MSFT','DIS','NVDA','TCO','MMM','INCY','IBM','EPC','SPY','ADS','VTI']\n"
      ],
      "execution_count": 0,
      "outputs": []
    },
    {
      "cell_type": "code",
      "metadata": {
        "id": "cZIcf-V9MqcF",
        "colab_type": "code",
        "colab": {}
      },
      "source": [
        "from datetime import date\n",
        "total_num=len(tradingdays2)\n",
        "date_list2=[]\n",
        "for i in range(total_num-1):\n",
        "  if tradingdays2[i].day > tradingdays2[i+1].day:\n",
        "    date_list2.append(tradingdays2[i])\n",
        "\n",
        "def new_portfolio():\n",
        "    res = pd.DataFrame(columns=['Share', 'Adj Close'],index=pd.Series(index_list))\n",
        "    return res\n",
        "\n",
        "my_port = new_portfolio()\n",
        "update_list=[]\n",
        "\n",
        "for j in range(len(date_list2)):\n",
        "  b=date_list2[j]\n",
        "  my_port=new_portfolio()\n",
        "  for i in range(len(index_list)):\n",
        "    a=index_list[i]\n",
        "    my_port.loc[a,'Adj Close']=stock_list[i].loc[b,'Adj Close']\n",
        "  update_list.append(my_port)\n",
        "\n",
        "for i in range(len(index_list)):\n",
        "    a=index_list[i]\n",
        "    update_list[0].loc[a,'Share']=(400000/15)/update_list[0].loc[a,'Adj Close']\n",
        "\n",
        "def total_value(portfolio1,portfolio2):\n",
        "  res=0\n",
        "  for i in range(len(index_list)):\n",
        "    a=index_list[i]\n",
        "    res+=portfolio1.loc[a,'Share']*portfolio2.loc[a,'Adj Close']\n",
        "  return res\n",
        "\n",
        "for i in range(len(update_list)-1):\n",
        "  to_value=total_value(update_list[i],update_list[i+1])\n",
        "  for j in range(len(index_list)):\n",
        "    a=index_list[j]\n",
        "    update_list[i+1].loc[a,'Share']=(to_value/15)/update_list[i+1].loc[a,'Adj Close']"
      ],
      "execution_count": 0,
      "outputs": []
    },
    {
      "cell_type": "code",
      "metadata": {
        "id": "kQoUhh2CMrVE",
        "colab_type": "code",
        "outputId": "e47f162a-23e0-4c0c-c009-4504b766b421",
        "colab": {
          "base_uri": "https://localhost:8080/",
          "height": 34
        }
      },
      "source": [
        "len(update_list)"
      ],
      "execution_count": 1065,
      "outputs": [
        {
          "output_type": "execute_result",
          "data": {
            "text/plain": [
              "12"
            ]
          },
          "metadata": {
            "tags": []
          },
          "execution_count": 1065
        }
      ]
    },
    {
      "cell_type": "code",
      "metadata": {
        "id": "fOfFvCsLOcxS",
        "colab_type": "code",
        "colab": {}
      },
      "source": [
        "week_stock2=[] #所有Wednesday的portfolio\n",
        "\n",
        "for j in range(len(weektime2)):\n",
        "  b=weektime2[j]\n",
        "  my_port=new_portfolio()\n",
        "  for i in range(len(index_list)):\n",
        "    a=index_list[i]\n",
        "    my_port.loc[a]['Adj Close']=stock_list[i].loc[b]['Adj Close']\n",
        "  week_stock2.append(my_port)\n",
        "week_stock2\n",
        "\n",
        "m=0\n",
        "for i in range(len(week_stock2)):\n",
        "  if weektime2[i].month <= date_list2[m].month:\n",
        "    for j in range(len(index_list)):\n",
        "      a=index_list[j]\n",
        "      week_stock2[i].loc[a]['Share']=update_list[m+1].loc[a]['Share']\n",
        "  else:\n",
        "    m+=1\n",
        "    for j in range(len(index_list)):\n",
        "      a=index_list[j]\n",
        "      week_stock2[i].loc[a]['Share']=update_list[m+1].loc[a]['Share']"
      ],
      "execution_count": 0,
      "outputs": []
    },
    {
      "cell_type": "code",
      "metadata": {
        "id": "HPSnvcF7PzjD",
        "colab_type": "code",
        "outputId": "accc50bb-7c61-4a2d-fed4-468a1cb517fd",
        "colab": {
          "base_uri": "https://localhost:8080/",
          "height": 34
        }
      },
      "source": [
        "len(week_stock2)"
      ],
      "execution_count": 1067,
      "outputs": [
        {
          "output_type": "execute_result",
          "data": {
            "text/plain": [
              "53"
            ]
          },
          "metadata": {
            "tags": []
          },
          "execution_count": 1067
        }
      ]
    },
    {
      "cell_type": "code",
      "metadata": {
        "id": "5yPwFVr9QK7C",
        "colab_type": "code",
        "outputId": "283dca5a-d13f-4ab6-92a7-7867d907a732",
        "colab": {
          "base_uri": "https://localhost:8080/",
          "height": 34
        }
      },
      "source": [
        "stock_value=[]\n",
        "for j in range(len(week_stock2)):\n",
        "  v=0\n",
        "  for i in range(len(index_list)):\n",
        "    a=index_list[i]\n",
        "    v+=week_stock2[j].loc[a,'Adj Close']*week_stock2[j].loc[a,'Share']\n",
        "  stock_value.append(v)\n",
        "\n",
        "len(stock_value)\n",
        "  "
      ],
      "execution_count": 1068,
      "outputs": [
        {
          "output_type": "execute_result",
          "data": {
            "text/plain": [
              "53"
            ]
          },
          "metadata": {
            "tags": []
          },
          "execution_count": 1068
        }
      ]
    },
    {
      "cell_type": "code",
      "metadata": {
        "id": "ArlFX852emZ4",
        "colab_type": "code",
        "colab": {}
      },
      "source": [
        "stock_loss=[]\n",
        "for i in range(52):\n",
        "  a=stock_value[i+1]-stock_value[i]\n",
        "  stock_loss.append(-a)"
      ],
      "execution_count": 0,
      "outputs": []
    },
    {
      "cell_type": "code",
      "metadata": {
        "id": "2KjUBvrLnM5I",
        "colab_type": "code",
        "outputId": "23c856c8-8faf-4566-85fa-5aaa9bfe8e32",
        "colab": {
          "base_uri": "https://localhost:8080/",
          "height": 34
        }
      },
      "source": [
        "np.mean(np.array(stock_loss))"
      ],
      "execution_count": 1070,
      "outputs": [
        {
          "output_type": "execute_result",
          "data": {
            "text/plain": [
              "2500.7054068791713"
            ]
          },
          "metadata": {
            "tags": []
          },
          "execution_count": 1070
        }
      ]
    },
    {
      "cell_type": "code",
      "metadata": {
        "id": "wGHydVS8e1gz",
        "colab_type": "code",
        "colab": {}
      },
      "source": [
        "bond30= drd.get_data_yahoo('^TYX','05/07/2008','05/11/2009',interval='d')"
      ],
      "execution_count": 0,
      "outputs": []
    },
    {
      "cell_type": "code",
      "metadata": {
        "id": "radmbR5DfZP8",
        "colab_type": "code",
        "outputId": "1cd1632b-a46e-46e3-d767-20611c7d49de",
        "colab": {
          "base_uri": "https://localhost:8080/",
          "height": 450
        }
      },
      "source": [
        "for i in range(len(tradingdays2)):\n",
        "  a=tradingdays2[i]\n",
        "  b=bond30.loc[a,'Adj Close']\n",
        "  bond30.loc[a,'Adj Close']=b*0.01\n",
        "bond30"
      ],
      "execution_count": 1072,
      "outputs": [
        {
          "output_type": "execute_result",
          "data": {
            "text/html": [
              "<div>\n",
              "<style scoped>\n",
              "    .dataframe tbody tr th:only-of-type {\n",
              "        vertical-align: middle;\n",
              "    }\n",
              "\n",
              "    .dataframe tbody tr th {\n",
              "        vertical-align: top;\n",
              "    }\n",
              "\n",
              "    .dataframe thead th {\n",
              "        text-align: right;\n",
              "    }\n",
              "</style>\n",
              "<table border=\"1\" class=\"dataframe\">\n",
              "  <thead>\n",
              "    <tr style=\"text-align: right;\">\n",
              "      <th></th>\n",
              "      <th>High</th>\n",
              "      <th>Low</th>\n",
              "      <th>Open</th>\n",
              "      <th>Close</th>\n",
              "      <th>Volume</th>\n",
              "      <th>Adj Close</th>\n",
              "    </tr>\n",
              "    <tr>\n",
              "      <th>Date</th>\n",
              "      <th></th>\n",
              "      <th></th>\n",
              "      <th></th>\n",
              "      <th></th>\n",
              "      <th></th>\n",
              "      <th></th>\n",
              "    </tr>\n",
              "  </thead>\n",
              "  <tbody>\n",
              "    <tr>\n",
              "      <th>2008-05-07</th>\n",
              "      <td>4.688</td>\n",
              "      <td>4.607</td>\n",
              "      <td>4.646</td>\n",
              "      <td>4.622</td>\n",
              "      <td>0.0</td>\n",
              "      <td>0.04622</td>\n",
              "    </tr>\n",
              "    <tr>\n",
              "      <th>2008-05-08</th>\n",
              "      <td>4.636</td>\n",
              "      <td>4.557</td>\n",
              "      <td>4.625</td>\n",
              "      <td>4.564</td>\n",
              "      <td>0.0</td>\n",
              "      <td>0.04564</td>\n",
              "    </tr>\n",
              "    <tr>\n",
              "      <th>2008-05-09</th>\n",
              "      <td>4.544</td>\n",
              "      <td>4.490</td>\n",
              "      <td>4.501</td>\n",
              "      <td>4.524</td>\n",
              "      <td>0.0</td>\n",
              "      <td>0.04524</td>\n",
              "    </tr>\n",
              "    <tr>\n",
              "      <th>2008-05-12</th>\n",
              "      <td>4.539</td>\n",
              "      <td>4.475</td>\n",
              "      <td>4.537</td>\n",
              "      <td>4.522</td>\n",
              "      <td>0.0</td>\n",
              "      <td>0.04522</td>\n",
              "    </tr>\n",
              "    <tr>\n",
              "      <th>2008-05-13</th>\n",
              "      <td>4.621</td>\n",
              "      <td>4.501</td>\n",
              "      <td>4.504</td>\n",
              "      <td>4.619</td>\n",
              "      <td>0.0</td>\n",
              "      <td>0.04619</td>\n",
              "    </tr>\n",
              "    <tr>\n",
              "      <th>...</th>\n",
              "      <td>...</td>\n",
              "      <td>...</td>\n",
              "      <td>...</td>\n",
              "      <td>...</td>\n",
              "      <td>...</td>\n",
              "      <td>...</td>\n",
              "    </tr>\n",
              "    <tr>\n",
              "      <th>2009-05-05</th>\n",
              "      <td>4.107</td>\n",
              "      <td>4.032</td>\n",
              "      <td>4.049</td>\n",
              "      <td>4.053</td>\n",
              "      <td>0.0</td>\n",
              "      <td>0.04053</td>\n",
              "    </tr>\n",
              "    <tr>\n",
              "      <th>2009-05-06</th>\n",
              "      <td>4.106</td>\n",
              "      <td>4.037</td>\n",
              "      <td>4.088</td>\n",
              "      <td>4.082</td>\n",
              "      <td>0.0</td>\n",
              "      <td>0.04082</td>\n",
              "    </tr>\n",
              "    <tr>\n",
              "      <th>2009-05-07</th>\n",
              "      <td>4.307</td>\n",
              "      <td>4.132</td>\n",
              "      <td>4.144</td>\n",
              "      <td>4.261</td>\n",
              "      <td>0.0</td>\n",
              "      <td>0.04261</td>\n",
              "    </tr>\n",
              "    <tr>\n",
              "      <th>2009-05-08</th>\n",
              "      <td>4.386</td>\n",
              "      <td>4.244</td>\n",
              "      <td>4.360</td>\n",
              "      <td>4.274</td>\n",
              "      <td>0.0</td>\n",
              "      <td>0.04274</td>\n",
              "    </tr>\n",
              "    <tr>\n",
              "      <th>2009-05-11</th>\n",
              "      <td>4.226</td>\n",
              "      <td>4.180</td>\n",
              "      <td>4.219</td>\n",
              "      <td>4.180</td>\n",
              "      <td>0.0</td>\n",
              "      <td>0.04180</td>\n",
              "    </tr>\n",
              "  </tbody>\n",
              "</table>\n",
              "<p>251 rows × 6 columns</p>\n",
              "</div>"
            ],
            "text/plain": [
              "             High    Low   Open  Close  Volume  Adj Close\n",
              "Date                                                     \n",
              "2008-05-07  4.688  4.607  4.646  4.622     0.0    0.04622\n",
              "2008-05-08  4.636  4.557  4.625  4.564     0.0    0.04564\n",
              "2008-05-09  4.544  4.490  4.501  4.524     0.0    0.04524\n",
              "2008-05-12  4.539  4.475  4.537  4.522     0.0    0.04522\n",
              "2008-05-13  4.621  4.501  4.504  4.619     0.0    0.04619\n",
              "...           ...    ...    ...    ...     ...        ...\n",
              "2009-05-05  4.107  4.032  4.049  4.053     0.0    0.04053\n",
              "2009-05-06  4.106  4.037  4.088  4.082     0.0    0.04082\n",
              "2009-05-07  4.307  4.132  4.144  4.261     0.0    0.04261\n",
              "2009-05-08  4.386  4.244  4.360  4.274     0.0    0.04274\n",
              "2009-05-11  4.226  4.180  4.219  4.180     0.0    0.04180\n",
              "\n",
              "[251 rows x 6 columns]"
            ]
          },
          "metadata": {
            "tags": []
          },
          "execution_count": 1072
        }
      ]
    },
    {
      "cell_type": "code",
      "metadata": {
        "id": "NbuXPRcFhYBw",
        "colab_type": "code",
        "outputId": "6d4796a1-a720-4265-e0cc-7a60e2c76ec6",
        "colab": {
          "base_uri": "https://localhost:8080/",
          "height": 918
        }
      },
      "source": [
        "week_bond=[]\n",
        "for i in range(len(weektime2)):\n",
        "  a=weektime2[i]\n",
        "  b=bond30.loc[a,'Adj Close']\n",
        "  week_bond.append(b)\n",
        "week_bond"
      ],
      "execution_count": 1073,
      "outputs": [
        {
          "output_type": "execute_result",
          "data": {
            "text/plain": [
              "[0.04622000217437744,\n",
              " 0.0463700008392334,\n",
              " 0.04558000087738037,\n",
              " 0.04697000026702881,\n",
              " 0.046849999427795413,\n",
              " 0.04702000141143799,\n",
              " 0.04730000019073487,\n",
              " 0.04657000064849853,\n",
              " 0.04502999782562256,\n",
              " 0.04427999973297119,\n",
              " 0.045819997787475586,\n",
              " 0.04699999809265137,\n",
              " 0.04638000011444092,\n",
              " 0.04690000057220459,\n",
              " 0.04576000213623047,\n",
              " 0.04442999839782715,\n",
              " 0.04382999897003174,\n",
              " 0.04317999839782715,\n",
              " 0.04224999904632568,\n",
              " 0.04080999851226807,\n",
              " 0.04377999782562256,\n",
              " 0.04248000144958496,\n",
              " 0.040630002021789555,\n",
              " 0.04248000144958496,\n",
              " 0.04087999820709229,\n",
              " 0.0423799991607666,\n",
              " 0.041539998054504396,\n",
              " 0.04190000057220459,\n",
              " 0.039719998836517334,\n",
              " 0.035629999637603764,\n",
              " 0.031840000152587894,\n",
              " 0.030950000286102296,\n",
              " 0.026649999618530273,\n",
              " 0.02632999897003174,\n",
              " 0.025829999446868895,\n",
              " 0.03065999984741211,\n",
              " 0.028949999809265138,\n",
              " 0.03138000011444092,\n",
              " 0.03434000015258789,\n",
              " 0.036730000972747805,\n",
              " 0.034519999027252196,\n",
              " 0.03525000095367432,\n",
              " 0.036010000705719,\n",
              " 0.03697999954223633,\n",
              " 0.03657000064849854,\n",
              " 0.03572000026702881,\n",
              " 0.037170000076293945,\n",
              " 0.0349399995803833,\n",
              " 0.03658999919891358,\n",
              " 0.036470000743865964,\n",
              " 0.038340001106262206,\n",
              " 0.040260000228881834,\n",
              " 0.04081999778747559]"
            ]
          },
          "metadata": {
            "tags": []
          },
          "execution_count": 1073
        }
      ]
    },
    {
      "cell_type": "code",
      "metadata": {
        "id": "O6BXyoHXiJj9",
        "colab_type": "code",
        "outputId": "9d2672fe-3cf9-4755-e54f-e1f5dc627df0",
        "colab": {
          "base_uri": "https://localhost:8080/",
          "height": 918
        }
      },
      "source": [
        "a=27\n",
        "maturity_list=[a,]\n",
        "for i in range(len(weektime2)-1):\n",
        "  a=a-7/365\n",
        "  maturity_list.append(a)\n",
        "maturity_list\n"
      ],
      "execution_count": 1074,
      "outputs": [
        {
          "output_type": "execute_result",
          "data": {
            "text/plain": [
              "[27,\n",
              " 26.980821917808218,\n",
              " 26.961643835616435,\n",
              " 26.942465753424653,\n",
              " 26.92328767123287,\n",
              " 26.904109589041088,\n",
              " 26.884931506849306,\n",
              " 26.865753424657523,\n",
              " 26.84657534246574,\n",
              " 26.82739726027396,\n",
              " 26.808219178082176,\n",
              " 26.789041095890394,\n",
              " 26.76986301369861,\n",
              " 26.75068493150683,\n",
              " 26.731506849315046,\n",
              " 26.712328767123264,\n",
              " 26.69315068493148,\n",
              " 26.6739726027397,\n",
              " 26.654794520547917,\n",
              " 26.635616438356134,\n",
              " 26.616438356164352,\n",
              " 26.59726027397257,\n",
              " 26.578082191780787,\n",
              " 26.558904109589005,\n",
              " 26.539726027397222,\n",
              " 26.52054794520544,\n",
              " 26.501369863013657,\n",
              " 26.482191780821875,\n",
              " 26.463013698630093,\n",
              " 26.44383561643831,\n",
              " 26.424657534246528,\n",
              " 26.405479452054745,\n",
              " 26.386301369862963,\n",
              " 26.36712328767118,\n",
              " 26.347945205479398,\n",
              " 26.328767123287616,\n",
              " 26.309589041095833,\n",
              " 26.29041095890405,\n",
              " 26.27123287671227,\n",
              " 26.252054794520486,\n",
              " 26.232876712328704,\n",
              " 26.21369863013692,\n",
              " 26.19452054794514,\n",
              " 26.175342465753356,\n",
              " 26.156164383561574,\n",
              " 26.13698630136979,\n",
              " 26.11780821917801,\n",
              " 26.098630136986227,\n",
              " 26.079452054794444,\n",
              " 26.060273972602662,\n",
              " 26.04109589041088,\n",
              " 26.021917808219097,\n",
              " 26.002739726027315]"
            ]
          },
          "metadata": {
            "tags": []
          },
          "execution_count": 1074
        }
      ]
    },
    {
      "cell_type": "code",
      "metadata": {
        "id": "LaAGELSIiKio",
        "colab_type": "code",
        "colab": {}
      },
      "source": [
        "bond_price=[]\n",
        "for i in range(len(weektime2)):\n",
        "  a=np.exp(-maturity_list[i]*week_bond[i])\n",
        "  bond_price.append(a)"
      ],
      "execution_count": 0,
      "outputs": []
    },
    {
      "cell_type": "code",
      "metadata": {
        "id": "utsGihQ-jdff",
        "colab_type": "code",
        "outputId": "f02ed4b5-ba00-4edc-b356-f474ee02917a",
        "colab": {
          "base_uri": "https://localhost:8080/",
          "height": 918
        }
      },
      "source": [
        "bond_price"
      ],
      "execution_count": 1076,
      "outputs": [
        {
          "output_type": "execute_result",
          "data": {
            "text/plain": [
              "[0.2870955882103808,\n",
              " 0.28618960451409126,\n",
              " 0.2926108383133809,\n",
              " 0.28210170313915467,\n",
              " 0.2832696489075728,\n",
              " 0.28223047041576943,\n",
              " 0.28036659469094216,\n",
              " 0.2861788956606537,\n",
              " 0.29852510993664105,\n",
              " 0.3048555736561417,\n",
              " 0.2927745138850059,\n",
              " 0.2839137226643739,\n",
              " 0.288925546207948,\n",
              " 0.2851878655250475,\n",
              " 0.29427699052823186,\n",
              " 0.30518756495450894,\n",
              " 0.31037911812203806,\n",
              " 0.31607299531147653,\n",
              " 0.32427445349404516,\n",
              " 0.33722683734295544,\n",
              " 0.3118391985298803,\n",
              " 0.3230811803473769,\n",
              " 0.33964051376146454,\n",
              " 0.3236080282023702,\n",
              " 0.33792072500393944,\n",
              " 0.32499652154085984,\n",
              " 0.3325826585790118,\n",
              " 0.3296895414669211,\n",
              " 0.3495492284404695,\n",
              " 0.38977179449928234,\n",
              " 0.4311233219796787,\n",
              " 0.4416446866270369,\n",
              " 0.4950012845128927,\n",
              " 0.49945072769763,\n",
              " 0.5063296143138778,\n",
              " 0.44608757221315637,\n",
              " 0.4668895318849006,\n",
              " 0.4382380167792822,\n",
              " 0.4056947939996242,\n",
              " 0.38127362028285344,\n",
              " 0.4043158584706299,\n",
              " 0.3969150894252205,\n",
              " 0.38935463077798604,\n",
              " 0.3798555795176408,\n",
              " 0.384223467721317,\n",
              " 0.39313069794125305,\n",
              " 0.3787802969163156,\n",
              " 0.4017657281492951,\n",
              " 0.3851019672376339,\n",
              " 0.3865793178559769,\n",
              " 0.3684627546784735,\n",
              " 0.3507637297056759,\n",
              " 0.3459601174392858]"
            ]
          },
          "metadata": {
            "tags": []
          },
          "execution_count": 1076
        }
      ]
    },
    {
      "cell_type": "code",
      "metadata": {
        "id": "WF8_HgjZjewR",
        "colab_type": "code",
        "outputId": "f64f41d0-a48a-4593-f7a5-29f4c81b132c",
        "colab": {
          "base_uri": "https://localhost:8080/",
          "height": 901
        }
      },
      "source": [
        "bondshare=600000/bond_price[0]\n",
        "bond_loss=[]\n",
        "for i in range(len(weektime2)-1):\n",
        "  a=bondshare*(bond_price[i+1]-bond_price[i])\n",
        "  bond_loss.append(-a)\n",
        "bond_loss"
      ],
      "execution_count": 1077,
      "outputs": [
        {
          "output_type": "execute_result",
          "data": {
            "text/plain": [
              "[1893.4119509192096,\n",
              " -13419.712589768349,\n",
              " 21963.002440550063,\n",
              " -2440.885509314587,\n",
              " 2171.77525774137,\n",
              " 3895.3069319785695,\n",
              " -12147.106138292163,\n",
              " -25802.307209834624,\n",
              " -13230.012538252731,\n",
              " 25248.161798187353,\n",
              " 18518.13455413789,\n",
              " -10474.19134821707,\n",
              " 7811.364931518766,\n",
              " -18995.328475456656,\n",
              " -22801.96883753278,\n",
              " -10849.807619596297,\n",
              " -11899.612721180645,\n",
              " -17140.19689475411,\n",
              " -27069.138741523766,\n",
              " 53057.53175378929,\n",
              " -23494.575909523006,\n",
              " -34607.28919725471,\n",
              " 33506.231828291,\n",
              " -29912.051712367684,\n",
              " 27010.244658184445,\n",
              " -15854.239527901618,\n",
              " 6046.314671970533,\n",
              " -41504.68580310349,\n",
              " -84060.99092544362,\n",
              " -86420.4031935754,\n",
              " -21988.56077087799,\n",
              " -111509.7550995942,\n",
              " -9298.874731875234,\n",
              " -14376.159506582924,\n",
              " 125899.61930709293,\n",
              " -43473.93800388347,\n",
              " 59878.69465543206,\n",
              " 68011.96002178335,\n",
              " 51037.719950350154,\n",
              " -48155.88772661598,\n",
              " 15466.8396506034,\n",
              " 15800.57435440823,\n",
              " 19852.031832793786,\n",
              " -9128.433280852987,\n",
              " -18615.18724573837,\n",
              " 29990.84962828817,\n",
              " -48037.16708346496,\n",
              " 34825.53183530674,\n",
              " -3087.509552240953,\n",
              " 37861.737877130465,\n",
              " 36989.12633898357,\n",
              " 10039.051375885409]"
            ]
          },
          "metadata": {
            "tags": []
          },
          "execution_count": 1077
        }
      ]
    },
    {
      "cell_type": "code",
      "metadata": {
        "id": "YYHM4UnPmfEl",
        "colab_type": "code",
        "outputId": "cc05ec65-a2c8-469d-8e5e-d0b39a2d6d51",
        "colab": {
          "base_uri": "https://localhost:8080/",
          "height": 34
        }
      },
      "source": [
        "np.mean(np.array(bond_loss))"
      ],
      "execution_count": 1078,
      "outputs": [
        {
          "output_type": "execute_result",
          "data": {
            "text/plain": [
              "-2365.7838517171867"
            ]
          },
          "metadata": {
            "tags": []
          },
          "execution_count": 1078
        }
      ]
    },
    {
      "cell_type": "code",
      "metadata": {
        "id": "8g55r_r2nGOa",
        "colab_type": "code",
        "colab": {}
      },
      "source": [
        "libor2008=[0.02211,0.02203,0.02109,0.02429,0.02216,0.02095,0.02091,0.02105,0.02444,0.02328,0.02194,0.02098,0.02350,0.02193,0.02184,0.02096,0.02150,0.02163,0.02130,0.05031,0.02688,0.03794,0.05375,0.02144,0.01119,0.01140,0.00323,0.00383,0.00438,0.00988,0.00881,0.00125,0.00133,0.00118,0.00139,0.00108,0.00105,0.00188,0.00224,0.00319,0.00301,0.00304,0.00270,0.00313,0.00329,0.00309,0.00288,0.00296,0.00260,0.00263,0.00206,0.00228,0.00242]"
      ],
      "execution_count": 0,
      "outputs": []
    },
    {
      "cell_type": "code",
      "metadata": {
        "id": "ZDNmCoUvqxSs",
        "colab_type": "code",
        "outputId": "c39b46e2-e0e7-4d81-c61a-6765d056d276",
        "colab": {
          "base_uri": "https://localhost:8080/",
          "height": 34
        }
      },
      "source": [
        "len(libor2008)"
      ],
      "execution_count": 1080,
      "outputs": [
        {
          "output_type": "execute_result",
          "data": {
            "text/plain": [
              "53"
            ]
          },
          "metadata": {
            "tags": []
          },
          "execution_count": 1080
        }
      ]
    },
    {
      "cell_type": "code",
      "metadata": {
        "id": "A-T40zLMq0cE",
        "colab_type": "code",
        "outputId": "836a78d0-388b-4201-b336-ec82fcabc6e2",
        "colab": {
          "base_uri": "https://localhost:8080/",
          "height": 450
        }
      },
      "source": [
        "MELI"
      ],
      "execution_count": 1081,
      "outputs": [
        {
          "output_type": "execute_result",
          "data": {
            "text/html": [
              "<div>\n",
              "<style scoped>\n",
              "    .dataframe tbody tr th:only-of-type {\n",
              "        vertical-align: middle;\n",
              "    }\n",
              "\n",
              "    .dataframe tbody tr th {\n",
              "        vertical-align: top;\n",
              "    }\n",
              "\n",
              "    .dataframe thead th {\n",
              "        text-align: right;\n",
              "    }\n",
              "</style>\n",
              "<table border=\"1\" class=\"dataframe\">\n",
              "  <thead>\n",
              "    <tr style=\"text-align: right;\">\n",
              "      <th></th>\n",
              "      <th>High</th>\n",
              "      <th>Low</th>\n",
              "      <th>Open</th>\n",
              "      <th>Close</th>\n",
              "      <th>Volume</th>\n",
              "      <th>Adj Close</th>\n",
              "    </tr>\n",
              "    <tr>\n",
              "      <th>Date</th>\n",
              "      <th></th>\n",
              "      <th></th>\n",
              "      <th></th>\n",
              "      <th></th>\n",
              "      <th></th>\n",
              "      <th></th>\n",
              "    </tr>\n",
              "  </thead>\n",
              "  <tbody>\n",
              "    <tr>\n",
              "      <th>2008-05-07</th>\n",
              "      <td>57.560001</td>\n",
              "      <td>54.000000</td>\n",
              "      <td>55.560001</td>\n",
              "      <td>56.049999</td>\n",
              "      <td>1631600</td>\n",
              "      <td>54.312321</td>\n",
              "    </tr>\n",
              "    <tr>\n",
              "      <th>2008-05-08</th>\n",
              "      <td>57.709999</td>\n",
              "      <td>54.270000</td>\n",
              "      <td>56.360001</td>\n",
              "      <td>55.000000</td>\n",
              "      <td>1597600</td>\n",
              "      <td>53.294876</td>\n",
              "    </tr>\n",
              "    <tr>\n",
              "      <th>2008-05-09</th>\n",
              "      <td>55.980000</td>\n",
              "      <td>53.650002</td>\n",
              "      <td>54.639999</td>\n",
              "      <td>54.020000</td>\n",
              "      <td>1059600</td>\n",
              "      <td>52.345264</td>\n",
              "    </tr>\n",
              "    <tr>\n",
              "      <th>2008-05-12</th>\n",
              "      <td>53.990002</td>\n",
              "      <td>50.110001</td>\n",
              "      <td>53.799999</td>\n",
              "      <td>52.259998</td>\n",
              "      <td>1473600</td>\n",
              "      <td>50.639824</td>\n",
              "    </tr>\n",
              "    <tr>\n",
              "      <th>2008-05-13</th>\n",
              "      <td>56.560001</td>\n",
              "      <td>52.590000</td>\n",
              "      <td>52.590000</td>\n",
              "      <td>55.860001</td>\n",
              "      <td>2504400</td>\n",
              "      <td>54.128220</td>\n",
              "    </tr>\n",
              "    <tr>\n",
              "      <th>...</th>\n",
              "      <td>...</td>\n",
              "      <td>...</td>\n",
              "      <td>...</td>\n",
              "      <td>...</td>\n",
              "      <td>...</td>\n",
              "      <td>...</td>\n",
              "    </tr>\n",
              "    <tr>\n",
              "      <th>2009-05-05</th>\n",
              "      <td>28.070000</td>\n",
              "      <td>27.100000</td>\n",
              "      <td>27.160000</td>\n",
              "      <td>27.889999</td>\n",
              "      <td>587300</td>\n",
              "      <td>27.025349</td>\n",
              "    </tr>\n",
              "    <tr>\n",
              "      <th>2009-05-06</th>\n",
              "      <td>29.580000</td>\n",
              "      <td>27.889999</td>\n",
              "      <td>28.299999</td>\n",
              "      <td>28.940001</td>\n",
              "      <td>1223200</td>\n",
              "      <td>28.042793</td>\n",
              "    </tr>\n",
              "    <tr>\n",
              "      <th>2009-05-07</th>\n",
              "      <td>27.750000</td>\n",
              "      <td>22.030001</td>\n",
              "      <td>27.290001</td>\n",
              "      <td>23.580000</td>\n",
              "      <td>3495900</td>\n",
              "      <td>22.848967</td>\n",
              "    </tr>\n",
              "    <tr>\n",
              "      <th>2009-05-08</th>\n",
              "      <td>24.670000</td>\n",
              "      <td>22.379999</td>\n",
              "      <td>24.120001</td>\n",
              "      <td>24.290001</td>\n",
              "      <td>1079800</td>\n",
              "      <td>23.536957</td>\n",
              "    </tr>\n",
              "    <tr>\n",
              "      <th>2009-05-11</th>\n",
              "      <td>24.799999</td>\n",
              "      <td>23.559999</td>\n",
              "      <td>23.959999</td>\n",
              "      <td>24.250000</td>\n",
              "      <td>846700</td>\n",
              "      <td>23.498199</td>\n",
              "    </tr>\n",
              "  </tbody>\n",
              "</table>\n",
              "<p>255 rows × 6 columns</p>\n",
              "</div>"
            ],
            "text/plain": [
              "                 High        Low       Open      Close   Volume  Adj Close\n",
              "Date                                                                      \n",
              "2008-05-07  57.560001  54.000000  55.560001  56.049999  1631600  54.312321\n",
              "2008-05-08  57.709999  54.270000  56.360001  55.000000  1597600  53.294876\n",
              "2008-05-09  55.980000  53.650002  54.639999  54.020000  1059600  52.345264\n",
              "2008-05-12  53.990002  50.110001  53.799999  52.259998  1473600  50.639824\n",
              "2008-05-13  56.560001  52.590000  52.590000  55.860001  2504400  54.128220\n",
              "...               ...        ...        ...        ...      ...        ...\n",
              "2009-05-05  28.070000  27.100000  27.160000  27.889999   587300  27.025349\n",
              "2009-05-06  29.580000  27.889999  28.299999  28.940001  1223200  28.042793\n",
              "2009-05-07  27.750000  22.030001  27.290001  23.580000  3495900  22.848967\n",
              "2009-05-08  24.670000  22.379999  24.120001  24.290001  1079800  23.536957\n",
              "2009-05-11  24.799999  23.559999  23.959999  24.250000   846700  23.498199\n",
              "\n",
              "[255 rows x 6 columns]"
            ]
          },
          "metadata": {
            "tags": []
          },
          "execution_count": 1081
        }
      ]
    },
    {
      "cell_type": "code",
      "metadata": {
        "id": "b6x886nurPqD",
        "colab_type": "code",
        "colab": {
          "base_uri": "https://localhost:8080/",
          "height": 918
        },
        "outputId": "091217c7-af2f-463d-eeec-611689e5742a"
      },
      "source": [
        "meli_sigma=drd.get_data_yahoo('MELI','08/09/2007','05/06/2009',interval='d')\n",
        "len(meli_sigma)\n",
        "tradingdays3=meli_sigma.index\n",
        "vol=[]\n",
        "for i in range(len(weektime2)):\n",
        "  a=list(tradingdays3).index(weektime2[i])\n",
        "  b=np.log(np.array(meli_sigma[:a]['Adj Close'])).std()\n",
        "  vol.append(b)\n",
        "vol"
      ],
      "execution_count": 1082,
      "outputs": [
        {
          "output_type": "execute_result",
          "data": {
            "text/plain": [
              "[0.23302301663852237,\n",
              " 0.23420597314925293,\n",
              " 0.23476809309319754,\n",
              " 0.2328773873577797,\n",
              " 0.23039072011432887,\n",
              " 0.22801550856125813,\n",
              " 0.2257616453257282,\n",
              " 0.22354419264913838,\n",
              " 0.22236367842798746,\n",
              " 0.22576615775610845,\n",
              " 0.2274382281998453,\n",
              " 0.22679488388530186,\n",
              " 0.22676274123466225,\n",
              " 0.22601264634591184,\n",
              " 0.22443172949162637,\n",
              " 0.2239003309988104,\n",
              " 0.22549520040033677,\n",
              " 0.22643878284044577,\n",
              " 0.2297551304690211,\n",
              " 0.2351654072620489,\n",
              " 0.23889419709318774,\n",
              " 0.24868460542422816,\n",
              " 0.2650460336823241,\n",
              " 0.2777473245399257,\n",
              " 0.2920927289292302,\n",
              " 0.32204355541654867,\n",
              " 0.3431326255840718,\n",
              " 0.3672900359778705,\n",
              " 0.39454581836615493,\n",
              " 0.4233387232593027,\n",
              " 0.43783828742287645,\n",
              " 0.45042592795541586,\n",
              " 0.45624254365264355,\n",
              " 0.4620430417577689,\n",
              " 0.4680140317580413,\n",
              " 0.4705497435169148,\n",
              " 0.4740134102294971,\n",
              " 0.4787776429950007,\n",
              " 0.4862548730449311,\n",
              " 0.49265746067398114,\n",
              " 0.49619315841258405,\n",
              " 0.4979299971043456,\n",
              " 0.5020159040987973,\n",
              " 0.5038678652181812,\n",
              " 0.506669714580742,\n",
              " 0.5072476570869936,\n",
              " 0.5078617637967253,\n",
              " 0.5069619797709621,\n",
              " 0.5058489185642507,\n",
              " 0.5043776940594418,\n",
              " 0.5021383163707627,\n",
              " 0.49954972627551114,\n",
              " 0.4967120332588555]"
            ]
          },
          "metadata": {
            "tags": []
          },
          "execution_count": 1082
        }
      ]
    },
    {
      "cell_type": "markdown",
      "metadata": {
        "id": "Z88bkvO2zbrf",
        "colab_type": "text"
      },
      "source": [
        "**K for MELI is 45, maturity date is 2009/06/01 (covered call)**\n",
        "\n",
        "**K for MMM is 45, maturity date is 2009/06/01 (covered call)**\n",
        "\n",
        "**K for SPX is 1040, maturity date is 2009/06/01 (PUT)**"
      ]
    },
    {
      "cell_type": "code",
      "metadata": {
        "id": "GAz8cUy60aUK",
        "colab_type": "code",
        "colab": {}
      },
      "source": [
        "a=24+30+31+31+30+31+30+31+31+28+31+30+31+1\n",
        "#2008.05.07---2009.06.01\n",
        "maturity=[a/365,]\n",
        "for i in range(len(weektime2)-1):\n",
        "  a=a-7\n",
        "  maturity.append(a/365)"
      ],
      "execution_count": 0,
      "outputs": []
    },
    {
      "cell_type": "code",
      "metadata": {
        "id": "9owrFUbS0aYA",
        "colab_type": "code",
        "colab": {}
      },
      "source": [
        "import scipy.stats as ss\n",
        "meli_option=[]\n",
        "otype=1\n",
        "for i in range(len(weektime2)):\n",
        "  a=weektime2[i]\n",
        "  d1 = (np.log(MELI.loc[a,'Adj Close'] / 45) + (libor2008[i] + 0.5 * vol[i] ** 2) * maturity[i]) / (vol[i] * np.sqrt(maturity[i]))\n",
        "  d2 = d1 - vol[i] * np.sqrt(maturity[i])\n",
        "  price=(otype * MELI.loc[a,'Adj Close'] * ss.norm.cdf(otype * d1) - otype * np.exp(-libor2008[i] * maturity[i]) * 45 * ss.norm.cdf(otype * d2))\n",
        "  meli_option.append(price)\n"
      ],
      "execution_count": 0,
      "outputs": []
    },
    {
      "cell_type": "code",
      "metadata": {
        "id": "PFH8d4NBOlSD",
        "colab_type": "code",
        "outputId": "58e1611e-8700-4397-c87e-b4969fb83ad4",
        "colab": {
          "base_uri": "https://localhost:8080/",
          "height": 918
        }
      },
      "source": [
        "meli_option"
      ],
      "execution_count": 1085,
      "outputs": [
        {
          "output_type": "execute_result",
          "data": {
            "text/plain": [
              "[11.585747023905796,\n",
              " 9.838117507086672,\n",
              " 7.226866749142065,\n",
              " 3.8764643882404144,\n",
              " 4.483161673690237,\n",
              " 1.0496467495940403,\n",
              " 1.4695615915343012,\n",
              " 1.1688172133967694,\n",
              " 0.22842408287165572,\n",
              " 0.12284534986347184,\n",
              " 0.3293147957014382,\n",
              " 0.2886941649893986,\n",
              " 0.22121122523165315,\n",
              " 0.3972354709894157,\n",
              " 0.2976466679570282,\n",
              " 0.06786532420284486,\n",
              " 0.040826258345392774,\n",
              " 0.022068002096400974,\n",
              " 0.003909933696076548,\n",
              " 0.0011643035889184056,\n",
              " 0.001253653521949255,\n",
              " 5.54764591628894e-05,\n",
              " 5.111994817840761e-05,\n",
              " 1.7965554336157592e-05,\n",
              " 1.2859969032074116e-07,\n",
              " 1.3099722568054024e-07,\n",
              " 2.147148748602972e-06,\n",
              " 4.505817830637363e-08,\n",
              " 9.345305805794172e-09,\n",
              " 6.970297963196118e-06,\n",
              " 5.2968440449638565e-06,\n",
              " 0.00047402942386449987,\n",
              " 0.00015259596883176064,\n",
              " 9.200626827953785e-05,\n",
              " 0.00031712098133878774,\n",
              " 0.0007889958940395913,\n",
              " 5.9742257047783014e-05,\n",
              " 9.34917504826055e-06,\n",
              " 2.4819627826401795e-05,\n",
              " 1.3801917820791047e-05,\n",
              " 0.00020201740333210868,\n",
              " 8.339527200226674e-06,\n",
              " 2.3060305779398803e-05,\n",
              " 5.539801733263751e-06,\n",
              " 1.453943379069758e-05,\n",
              " 7.123841466290655e-06,\n",
              " 3.038770497952928e-05,\n",
              " 5.697424149211504e-06,\n",
              " 4.335576055047025e-06,\n",
              " 2.3190860395423392e-05,\n",
              " 6.450932063648473e-05,\n",
              " 9.447653345717169e-05,\n",
              " 0.00021087561730272555]"
            ]
          },
          "metadata": {
            "tags": []
          },
          "execution_count": 1085
        }
      ]
    },
    {
      "cell_type": "code",
      "metadata": {
        "id": "5frz90kD0aPP",
        "colab_type": "code",
        "colab": {}
      },
      "source": [
        "a=weektime2[0]\n",
        "share_meli=400000/(15*MELI.loc[a,'Adj Close'])\n",
        "share_meli\n",
        "meli_loss=[]\n",
        "for i in range(len(meli_option)-1):\n",
        "  loss=500*(meli_option[i+1]-meli_option[i])\n",
        "  meli_loss.append(loss)"
      ],
      "execution_count": 0,
      "outputs": []
    },
    {
      "cell_type": "code",
      "metadata": {
        "id": "Yn2XNvHNOwMM",
        "colab_type": "code",
        "outputId": "bf033dc3-3799-478a-90e7-27db9fd80ca4",
        "colab": {
          "base_uri": "https://localhost:8080/",
          "height": 901
        }
      },
      "source": [
        "meli_loss"
      ],
      "execution_count": 1087,
      "outputs": [
        {
          "output_type": "execute_result",
          "data": {
            "text/plain": [
              "[-873.8147584095622,\n",
              " -1305.6253789723035,\n",
              " -1675.2011804508254,\n",
              " 303.34864272491126,\n",
              " -1716.7574620480982,\n",
              " 209.95742097013047,\n",
              " -150.37218906876592,\n",
              " -470.1965652625568,\n",
              " -52.78936650409194,\n",
              " 103.23472291898317,\n",
              " -20.310315356019792,\n",
              " -33.74146987887272,\n",
              " 88.01212287888127,\n",
              " -49.794401516193744,\n",
              " -114.89067187709168,\n",
              " -13.519532928726042,\n",
              " -9.3791281244959,\n",
              " -9.079034200162212,\n",
              " -1.372815053579071,\n",
              " 0.04467496651542474,\n",
              " -0.5990885313931829,\n",
              " -0.0021782554922408943,\n",
              " -0.01657719692112501,\n",
              " -0.008918477322918426,\n",
              " 1.198767679899541e-06,\n",
              " 0.0010080757614612157,\n",
              " -0.001051045285148299,\n",
              " -1.785643625028973e-05,\n",
              " 0.003480476328695162,\n",
              " -0.0008367269591161308,\n",
              " 0.234366289909768,\n",
              " -0.16071672751636962,\n",
              " -0.030294850276111392,\n",
              " 0.11255735652962494,\n",
              " 0.23593745635040178,\n",
              " -0.3646268184959041,\n",
              " -0.025196540999761232,\n",
              " 0.007735226389070623,\n",
              " -0.005508855002805374,\n",
              " 0.09410774275565882,\n",
              " -0.096838938065941,\n",
              " 0.007360389289586065,\n",
              " -0.008760252023067527,\n",
              " 0.0044998160287169145,\n",
              " -0.003707796162203463,\n",
              " 0.011631931756619314,\n",
              " -0.01234514041515889,\n",
              " -0.0006809240470822394,\n",
              " 0.009427642170188183,\n",
              " 0.02065923012053067,\n",
              " 0.014983606410343478,\n",
              " 0.05819954192277693]"
            ]
          },
          "metadata": {
            "tags": []
          },
          "execution_count": 1087
        }
      ]
    },
    {
      "cell_type": "code",
      "metadata": {
        "id": "qjjVd52GOwEG",
        "colab_type": "code",
        "colab": {}
      },
      "source": [
        "def vol_finder(sigma,weektime):\n",
        "  len(sigma)\n",
        "  tradingdays3=sigma.index\n",
        "  vol=[]\n",
        "  for i in range(len(weektime)):\n",
        "    a=list(tradingdays3).index(weektime[i])\n",
        "    b=np.log(np.array(sigma[:a]['Adj Close'])).std()\n",
        "    vol.append(b)\n",
        "  return vol\n",
        "  \n",
        "def option_finder(stock,libor,vol,k,maturity,weektime,otype):\n",
        "  option=[]\n",
        "  for i in range(len(weektime)):\n",
        "    a=weektime[i]\n",
        "    d1 = (np.log(stock.loc[a,'Adj Close'] / k) + (libor[i] + 0.5 * vol[i] ** 2) * maturity[i]) / (vol[i] * np.sqrt(maturity[i]))\n",
        "    d2 = d1 - vol[i] * np.sqrt(maturity[i])\n",
        "    price=(otype * stock.loc[a,'Adj Close'] * ss.norm.cdf(otype * d1) - otype * np.exp(-libor[i] * maturity[i]) * k * ss.norm.cdf(otype * d2))\n",
        "    option.append(price)\n",
        "  return option"
      ],
      "execution_count": 0,
      "outputs": []
    },
    {
      "cell_type": "code",
      "metadata": {
        "id": "vdhR8PHjOwBo",
        "colab_type": "code",
        "colab": {}
      },
      "source": [
        "mmm_sigma=drd.get_data_yahoo('MMM','08/09/2007','05/06/2009',interval='d')\n",
        "mmm_vol=vol_finder(mmm_sigma,weektime2)\n",
        "spx_sigma=drd.get_data_yahoo('SPY','08/09/2007','05/06/2009',interval='d')\n",
        "spx_vol=vol_finder(spx_sigma,weektime2)"
      ],
      "execution_count": 0,
      "outputs": []
    },
    {
      "cell_type": "code",
      "metadata": {
        "id": "zq_dmrmkUQS5",
        "colab_type": "code",
        "outputId": "1d017a0d-852b-4354-9ef3-779e29d81115",
        "colab": {
          "base_uri": "https://localhost:8080/",
          "height": 450
        }
      },
      "source": [
        "MMM"
      ],
      "execution_count": 1090,
      "outputs": [
        {
          "output_type": "execute_result",
          "data": {
            "text/html": [
              "<div>\n",
              "<style scoped>\n",
              "    .dataframe tbody tr th:only-of-type {\n",
              "        vertical-align: middle;\n",
              "    }\n",
              "\n",
              "    .dataframe tbody tr th {\n",
              "        vertical-align: top;\n",
              "    }\n",
              "\n",
              "    .dataframe thead th {\n",
              "        text-align: right;\n",
              "    }\n",
              "</style>\n",
              "<table border=\"1\" class=\"dataframe\">\n",
              "  <thead>\n",
              "    <tr style=\"text-align: right;\">\n",
              "      <th></th>\n",
              "      <th>High</th>\n",
              "      <th>Low</th>\n",
              "      <th>Open</th>\n",
              "      <th>Close</th>\n",
              "      <th>Volume</th>\n",
              "      <th>Adj Close</th>\n",
              "    </tr>\n",
              "    <tr>\n",
              "      <th>Date</th>\n",
              "      <th></th>\n",
              "      <th></th>\n",
              "      <th></th>\n",
              "      <th></th>\n",
              "      <th></th>\n",
              "      <th></th>\n",
              "    </tr>\n",
              "  </thead>\n",
              "  <tbody>\n",
              "    <tr>\n",
              "      <th>2008-05-07</th>\n",
              "      <td>78.129997</td>\n",
              "      <td>76.489998</td>\n",
              "      <td>77.949997</td>\n",
              "      <td>76.680000</td>\n",
              "      <td>4089200.0</td>\n",
              "      <td>55.537189</td>\n",
              "    </tr>\n",
              "    <tr>\n",
              "      <th>2008-05-08</th>\n",
              "      <td>77.360001</td>\n",
              "      <td>76.470001</td>\n",
              "      <td>77.120003</td>\n",
              "      <td>76.949997</td>\n",
              "      <td>3796000.0</td>\n",
              "      <td>55.732716</td>\n",
              "    </tr>\n",
              "    <tr>\n",
              "      <th>2008-05-09</th>\n",
              "      <td>76.669998</td>\n",
              "      <td>75.820000</td>\n",
              "      <td>75.989998</td>\n",
              "      <td>76.320000</td>\n",
              "      <td>3871600.0</td>\n",
              "      <td>55.276447</td>\n",
              "    </tr>\n",
              "    <tr>\n",
              "      <th>2008-05-12</th>\n",
              "      <td>77.669998</td>\n",
              "      <td>75.949997</td>\n",
              "      <td>76.669998</td>\n",
              "      <td>77.669998</td>\n",
              "      <td>3552100.0</td>\n",
              "      <td>56.254223</td>\n",
              "    </tr>\n",
              "    <tr>\n",
              "      <th>2008-05-13</th>\n",
              "      <td>78.339996</td>\n",
              "      <td>76.910004</td>\n",
              "      <td>77.720001</td>\n",
              "      <td>77.180000</td>\n",
              "      <td>3407400.0</td>\n",
              "      <td>55.899319</td>\n",
              "    </tr>\n",
              "    <tr>\n",
              "      <th>...</th>\n",
              "      <td>...</td>\n",
              "      <td>...</td>\n",
              "      <td>...</td>\n",
              "      <td>...</td>\n",
              "      <td>...</td>\n",
              "      <td>...</td>\n",
              "    </tr>\n",
              "    <tr>\n",
              "      <th>2009-05-05</th>\n",
              "      <td>58.759998</td>\n",
              "      <td>57.779999</td>\n",
              "      <td>58.419998</td>\n",
              "      <td>58.430000</td>\n",
              "      <td>4302400.0</td>\n",
              "      <td>43.712578</td>\n",
              "    </tr>\n",
              "    <tr>\n",
              "      <th>2009-05-06</th>\n",
              "      <td>59.360001</td>\n",
              "      <td>57.830002</td>\n",
              "      <td>58.740002</td>\n",
              "      <td>59.139999</td>\n",
              "      <td>5067100.0</td>\n",
              "      <td>44.243744</td>\n",
              "    </tr>\n",
              "    <tr>\n",
              "      <th>2009-05-07</th>\n",
              "      <td>59.560001</td>\n",
              "      <td>57.970001</td>\n",
              "      <td>59.009998</td>\n",
              "      <td>58.770000</td>\n",
              "      <td>5627600.0</td>\n",
              "      <td>43.966942</td>\n",
              "    </tr>\n",
              "    <tr>\n",
              "      <th>2009-05-08</th>\n",
              "      <td>60.230000</td>\n",
              "      <td>59.200001</td>\n",
              "      <td>59.209999</td>\n",
              "      <td>60.090000</td>\n",
              "      <td>5408200.0</td>\n",
              "      <td>44.954449</td>\n",
              "    </tr>\n",
              "    <tr>\n",
              "      <th>2009-05-11</th>\n",
              "      <td>59.580002</td>\n",
              "      <td>58.700001</td>\n",
              "      <td>59.410000</td>\n",
              "      <td>59.110001</td>\n",
              "      <td>3896100.0</td>\n",
              "      <td>44.221306</td>\n",
              "    </tr>\n",
              "  </tbody>\n",
              "</table>\n",
              "<p>255 rows × 6 columns</p>\n",
              "</div>"
            ],
            "text/plain": [
              "                 High        Low       Open      Close     Volume  Adj Close\n",
              "Date                                                                        \n",
              "2008-05-07  78.129997  76.489998  77.949997  76.680000  4089200.0  55.537189\n",
              "2008-05-08  77.360001  76.470001  77.120003  76.949997  3796000.0  55.732716\n",
              "2008-05-09  76.669998  75.820000  75.989998  76.320000  3871600.0  55.276447\n",
              "2008-05-12  77.669998  75.949997  76.669998  77.669998  3552100.0  56.254223\n",
              "2008-05-13  78.339996  76.910004  77.720001  77.180000  3407400.0  55.899319\n",
              "...               ...        ...        ...        ...        ...        ...\n",
              "2009-05-05  58.759998  57.779999  58.419998  58.430000  4302400.0  43.712578\n",
              "2009-05-06  59.360001  57.830002  58.740002  59.139999  5067100.0  44.243744\n",
              "2009-05-07  59.560001  57.970001  59.009998  58.770000  5627600.0  43.966942\n",
              "2009-05-08  60.230000  59.200001  59.209999  60.090000  5408200.0  44.954449\n",
              "2009-05-11  59.580002  58.700001  59.410000  59.110001  3896100.0  44.221306\n",
              "\n",
              "[255 rows x 6 columns]"
            ]
          },
          "metadata": {
            "tags": []
          },
          "execution_count": 1090
        }
      ]
    },
    {
      "cell_type": "code",
      "metadata": {
        "id": "kJN3_OKKUQQU",
        "colab_type": "code",
        "outputId": "5e5c3f18-5af8-473f-8eb1-52c74e4341ec",
        "colab": {
          "base_uri": "https://localhost:8080/",
          "height": 450
        }
      },
      "source": [
        "for i in range(len(tradingdays2)):\n",
        "  a=tradingdays2[i]\n",
        "  b=SPY.loc[a,'Adj Close']\n",
        "  SPY.loc[a,'Adj Close']=b*10\n",
        "SPY"
      ],
      "execution_count": 1091,
      "outputs": [
        {
          "output_type": "execute_result",
          "data": {
            "text/html": [
              "<div>\n",
              "<style scoped>\n",
              "    .dataframe tbody tr th:only-of-type {\n",
              "        vertical-align: middle;\n",
              "    }\n",
              "\n",
              "    .dataframe tbody tr th {\n",
              "        vertical-align: top;\n",
              "    }\n",
              "\n",
              "    .dataframe thead th {\n",
              "        text-align: right;\n",
              "    }\n",
              "</style>\n",
              "<table border=\"1\" class=\"dataframe\">\n",
              "  <thead>\n",
              "    <tr style=\"text-align: right;\">\n",
              "      <th></th>\n",
              "      <th>High</th>\n",
              "      <th>Low</th>\n",
              "      <th>Open</th>\n",
              "      <th>Close</th>\n",
              "      <th>Volume</th>\n",
              "      <th>Adj Close</th>\n",
              "    </tr>\n",
              "    <tr>\n",
              "      <th>Date</th>\n",
              "      <th></th>\n",
              "      <th></th>\n",
              "      <th></th>\n",
              "      <th></th>\n",
              "      <th></th>\n",
              "      <th></th>\n",
              "    </tr>\n",
              "  </thead>\n",
              "  <tbody>\n",
              "    <tr>\n",
              "      <th>2008-05-07</th>\n",
              "      <td>142.039993</td>\n",
              "      <td>139.130005</td>\n",
              "      <td>141.889999</td>\n",
              "      <td>139.520004</td>\n",
              "      <td>199267300.0</td>\n",
              "      <td>1089.219208</td>\n",
              "    </tr>\n",
              "    <tr>\n",
              "      <th>2008-05-08</th>\n",
              "      <td>140.320007</td>\n",
              "      <td>138.979996</td>\n",
              "      <td>139.740005</td>\n",
              "      <td>139.160004</td>\n",
              "      <td>178321200.0</td>\n",
              "      <td>1086.408615</td>\n",
              "    </tr>\n",
              "    <tr>\n",
              "      <th>2008-05-09</th>\n",
              "      <td>139.389999</td>\n",
              "      <td>138.449997</td>\n",
              "      <td>138.600006</td>\n",
              "      <td>138.899994</td>\n",
              "      <td>152588200.0</td>\n",
              "      <td>1084.379044</td>\n",
              "    </tr>\n",
              "    <tr>\n",
              "      <th>2008-05-12</th>\n",
              "      <td>140.559998</td>\n",
              "      <td>138.729996</td>\n",
              "      <td>139.250000</td>\n",
              "      <td>140.460007</td>\n",
              "      <td>147865900.0</td>\n",
              "      <td>1096.557922</td>\n",
              "    </tr>\n",
              "    <tr>\n",
              "      <th>2008-05-13</th>\n",
              "      <td>140.889999</td>\n",
              "      <td>139.729996</td>\n",
              "      <td>140.800003</td>\n",
              "      <td>140.479996</td>\n",
              "      <td>159132200.0</td>\n",
              "      <td>1096.714096</td>\n",
              "    </tr>\n",
              "    <tr>\n",
              "      <th>...</th>\n",
              "      <td>...</td>\n",
              "      <td>...</td>\n",
              "      <td>...</td>\n",
              "      <td>...</td>\n",
              "      <td>...</td>\n",
              "      <td>...</td>\n",
              "    </tr>\n",
              "    <tr>\n",
              "      <th>2009-05-05</th>\n",
              "      <td>90.930000</td>\n",
              "      <td>89.839996</td>\n",
              "      <td>90.570000</td>\n",
              "      <td>90.570000</td>\n",
              "      <td>243036300.0</td>\n",
              "      <td>725.680237</td>\n",
              "    </tr>\n",
              "    <tr>\n",
              "      <th>2009-05-06</th>\n",
              "      <td>92.199997</td>\n",
              "      <td>90.610001</td>\n",
              "      <td>91.680000</td>\n",
              "      <td>92.139999</td>\n",
              "      <td>291941000.0</td>\n",
              "      <td>738.259506</td>\n",
              "    </tr>\n",
              "    <tr>\n",
              "      <th>2009-05-07</th>\n",
              "      <td>93.150002</td>\n",
              "      <td>90.279999</td>\n",
              "      <td>93.010002</td>\n",
              "      <td>90.860001</td>\n",
              "      <td>317728000.0</td>\n",
              "      <td>728.003845</td>\n",
              "    </tr>\n",
              "    <tr>\n",
              "      <th>2009-05-08</th>\n",
              "      <td>93.220001</td>\n",
              "      <td>91.440002</td>\n",
              "      <td>92.029999</td>\n",
              "      <td>92.980003</td>\n",
              "      <td>299081700.0</td>\n",
              "      <td>744.989929</td>\n",
              "    </tr>\n",
              "    <tr>\n",
              "      <th>2009-05-11</th>\n",
              "      <td>92.110001</td>\n",
              "      <td>91.040001</td>\n",
              "      <td>91.699997</td>\n",
              "      <td>91.239998</td>\n",
              "      <td>247923600.0</td>\n",
              "      <td>731.048737</td>\n",
              "    </tr>\n",
              "  </tbody>\n",
              "</table>\n",
              "<p>255 rows × 6 columns</p>\n",
              "</div>"
            ],
            "text/plain": [
              "                  High         Low  ...       Volume    Adj Close\n",
              "Date                                ...                          \n",
              "2008-05-07  142.039993  139.130005  ...  199267300.0  1089.219208\n",
              "2008-05-08  140.320007  138.979996  ...  178321200.0  1086.408615\n",
              "2008-05-09  139.389999  138.449997  ...  152588200.0  1084.379044\n",
              "2008-05-12  140.559998  138.729996  ...  147865900.0  1096.557922\n",
              "2008-05-13  140.889999  139.729996  ...  159132200.0  1096.714096\n",
              "...                ...         ...  ...          ...          ...\n",
              "2009-05-05   90.930000   89.839996  ...  243036300.0   725.680237\n",
              "2009-05-06   92.199997   90.610001  ...  291941000.0   738.259506\n",
              "2009-05-07   93.150002   90.279999  ...  317728000.0   728.003845\n",
              "2009-05-08   93.220001   91.440002  ...  299081700.0   744.989929\n",
              "2009-05-11   92.110001   91.040001  ...  247923600.0   731.048737\n",
              "\n",
              "[255 rows x 6 columns]"
            ]
          },
          "metadata": {
            "tags": []
          },
          "execution_count": 1091
        }
      ]
    },
    {
      "cell_type": "code",
      "metadata": {
        "id": "RgIoDAXqUQNh",
        "colab_type": "code",
        "outputId": "17d01b47-d896-4658-ef88-514fc351cf9d",
        "colab": {
          "base_uri": "https://localhost:8080/",
          "height": 918
        }
      },
      "source": [
        "mmm_option=option_finder(MMM,libor2008,mmm_vol,45,maturity,weektime2,1)\n",
        "spx_option=option_finder(SPY,libor2008,spx_vol,1040,maturity,weektime2,-1)\n",
        "spx_option"
      ],
      "execution_count": 1092,
      "outputs": [
        {
          "output_type": "execute_result",
          "data": {
            "text/plain": [
              "[2.105232846713278,\n",
              " 1.326253796310077,\n",
              " 1.9454931580232113,\n",
              " 1.6878797699780392,\n",
              " 2.652301677021242,\n",
              " 8.628419108060086,\n",
              " 7.916300289916649,\n",
              " 12.35729493266274,\n",
              " 35.07345821585159,\n",
              " 44.74905576793094,\n",
              " 51.90657437226139,\n",
              " 29.13292963381423,\n",
              " 26.63713027901224,\n",
              " 25.975507881055364,\n",
              " 27.791642791927075,\n",
              " 33.26330141538676,\n",
              " 27.991508624357493,\n",
              " 31.674076529078434,\n",
              " 56.9607989747592,\n",
              " 89.49365773739498,\n",
              " 83.54312840666546,\n",
              " 98.69040230021369,\n",
              " 234.99006580051753,\n",
              " 315.72327968506306,\n",
              " 317.6723106247325,\n",
              " 298.51146038199056,\n",
              " 279.0190584546639,\n",
              " 360.571745793256,\n",
              " 394.4353369187397,\n",
              " 332.6552198667641,\n",
              " 346.41795400527405,\n",
              " 328.296770163415,\n",
              " 321.34193244652124,\n",
              " 354.02698720863,\n",
              " 331.60749608211756,\n",
              " 318.2425680453596,\n",
              " 368.3882389959624,\n",
              " 370.64500737354126,\n",
              " 343.98536788966203,\n",
              " 376.011543014862,\n",
              " 373.98354676509996,\n",
              " 410.39090347512627,\n",
              " 427.72805998989804,\n",
              " 468.56371634861785,\n",
              " 461.34921056469443,\n",
              " 403.46250438058473,\n",
              " 386.8346479901114,\n",
              " 390.0030818341545,\n",
              " 378.3393528283815,\n",
              " 356.59327622487365,\n",
              " 362.3993677427335,\n",
              " 339.58468140719367,\n",
              " 301.5612303903001]"
            ]
          },
          "metadata": {
            "tags": []
          },
          "execution_count": 1092
        }
      ]
    },
    {
      "cell_type": "code",
      "metadata": {
        "id": "nrNVvI5jUQJ9",
        "colab_type": "code",
        "outputId": "5c45a40b-fd03-4857-f335-fda5cb173239",
        "colab": {
          "base_uri": "https://localhost:8080/",
          "height": 34
        }
      },
      "source": [
        "a=weektime2[0]\n",
        "share_mmm=400000/(15*MMM.loc[a,'Adj Close'])\n",
        "share_mmm"
      ],
      "execution_count": 1093,
      "outputs": [
        {
          "output_type": "execute_result",
          "data": {
            "text/plain": [
              "480.15873533753137"
            ]
          },
          "metadata": {
            "tags": []
          },
          "execution_count": 1093
        }
      ]
    },
    {
      "cell_type": "code",
      "metadata": {
        "id": "dDqO-lqtOv29",
        "colab_type": "code",
        "outputId": "26f754d7-c054-4dcf-a631-aa9b5993d764",
        "colab": {
          "base_uri": "https://localhost:8080/",
          "height": 901
        }
      },
      "source": [
        "mmm_loss=[]\n",
        "for i in range(len(mmm_option)-1):\n",
        "  loss=500*(mmm_option[i+1]-mmm_option[i])\n",
        "  mmm_loss.append(loss)\n",
        "mmm_loss"
      ],
      "execution_count": 1094,
      "outputs": [
        {
          "output_type": "execute_result",
          "data": {
            "text/plain": [
              "[369.07291207266724,\n",
              " -434.7115710148941,\n",
              " 346.52686024302784,\n",
              " -253.50245119912174,\n",
              " -432.5466421144988,\n",
              " -363.1973102950923,\n",
              " -636.0854856856264,\n",
              " -1420.1277709362935,\n",
              " 26.693621757853947,\n",
              " -31.222911621899385,\n",
              " 748.2984965411283,\n",
              " 218.35173279630027,\n",
              " 146.73151734167078,\n",
              " 406.2148372544989,\n",
              " -666.3784406661257,\n",
              " 10.947686432054127,\n",
              " 32.795574258052795,\n",
              " -791.8723452878069,\n",
              " 491.58604129891967,\n",
              " -467.04202145621207,\n",
              " -275.14102729641013,\n",
              " -2512.1885196773883,\n",
              " -244.4104175588351,\n",
              " 237.51332043605024,\n",
              " 756.5298610982944,\n",
              " 447.6178085621143,\n",
              " -1072.0080219518495,\n",
              " -22.475103696200982,\n",
              " 1730.5476539193983,\n",
              " -1398.2313340186874,\n",
              " -486.72307792706613,\n",
              " 124.97180655293505,\n",
              " -268.8101551840938,\n",
              " 120.05661111740685,\n",
              " 85.22093809875653,\n",
              " -227.6078821266827,\n",
              " -30.331529314536088,\n",
              " 47.158005221558774,\n",
              " -98.88787761683143,\n",
              " 2.5754336218553053,\n",
              " -9.367695438827969,\n",
              " -0.17340022388981186,\n",
              " -0.2574690082130606,\n",
              " 0.39260824933844185,\n",
              " 2.5321729372129247,\n",
              " -1.0056608671742129,\n",
              " 3.4079040074326272,\n",
              " 1.1029221584928361,\n",
              " 18.84620688715055,\n",
              " -15.646146501145818,\n",
              " 137.55677819705636,\n",
              " 129.9058031155953]"
            ]
          },
          "metadata": {
            "tags": []
          },
          "execution_count": 1094
        }
      ]
    },
    {
      "cell_type": "code",
      "metadata": {
        "id": "CSnYk-MlOv0Q",
        "colab_type": "code",
        "outputId": "16f3cc16-d2a5-4378-f257-0b092fc87a5d",
        "colab": {
          "base_uri": "https://localhost:8080/",
          "height": 34
        }
      },
      "source": [
        "a=weektime2[0]\n",
        "share_spx=400000/(15*SPY.loc[a,'Adj Close'])\n",
        "share_spx"
      ],
      "execution_count": 1095,
      "outputs": [
        {
          "output_type": "execute_result",
          "data": {
            "text/plain": [
              "24.482369092092377"
            ]
          },
          "metadata": {
            "tags": []
          },
          "execution_count": 1095
        }
      ]
    },
    {
      "cell_type": "code",
      "metadata": {
        "id": "4xSnIMovOvys",
        "colab_type": "code",
        "outputId": "23d45704-c024-466c-bf23-08dd605fdef9",
        "colab": {
          "base_uri": "https://localhost:8080/",
          "height": 901
        }
      },
      "source": [
        "spx_loss=[]\n",
        "for i in range(len(spx_option)-1):\n",
        "  loss=100*(spx_option[i+1]-spx_option[i])\n",
        "  spx_loss.append(-loss)\n",
        "spx_loss"
      ],
      "execution_count": 1096,
      "outputs": [
        {
          "output_type": "execute_result",
          "data": {
            "text/plain": [
              "[77.89790504032013,\n",
              " -61.92393617131344,\n",
              " 25.76133880451721,\n",
              " -96.4421907043203,\n",
              " -597.6117431038845,\n",
              " 71.21188181434377,\n",
              " -444.0994642746091,\n",
              " -2271.616328318885,\n",
              " -967.5597552079353,\n",
              " -715.7518604330448,\n",
              " 2277.364473844716,\n",
              " 249.57993548019886,\n",
              " 66.16223979568758,\n",
              " -181.61349108717104,\n",
              " -547.1658623459689,\n",
              " 527.179279102927,\n",
              " -368.25679047209405,\n",
              " -2528.6722445680766,\n",
              " -3253.2858762635783,\n",
              " 595.0529330729523,\n",
              " -1514.7273893548231,\n",
              " -13629.966350030383,\n",
              " -8073.321388454553,\n",
              " -194.90309396694556,\n",
              " 1916.0850242741958,\n",
              " 1949.2401927326682,\n",
              " -8155.268733859213,\n",
              " -3386.359112548371,\n",
              " 6178.011705197559,\n",
              " -1376.2734138509927,\n",
              " 1812.1183841859079,\n",
              " 695.4837716893735,\n",
              " -3268.5054762108734,\n",
              " 2241.949112651241,\n",
              " 1336.4928036757988,\n",
              " -5014.5670950602835,\n",
              " -225.6768377578851,\n",
              " 2665.963948387923,\n",
              " -3202.6175125199984,\n",
              " 202.79962497620545,\n",
              " -3640.7356710026306,\n",
              " -1733.7156514771777,\n",
              " -4083.5656358719802,\n",
              " 721.4505783923414,\n",
              " 5788.67061841097,\n",
              " 1662.7856390473312,\n",
              " -316.8433844043079,\n",
              " 1166.3729005773007,\n",
              " 2174.6076603507845,\n",
              " -580.6091517859841,\n",
              " 2281.468633553982,\n",
              " 3802.3451016893546]"
            ]
          },
          "metadata": {
            "tags": []
          },
          "execution_count": 1096
        }
      ]
    },
    {
      "cell_type": "code",
      "metadata": {
        "id": "Wnm3bFNoOvvd",
        "colab_type": "code",
        "outputId": "40862a29-309e-4fdd-9b48-db6e3b469933",
        "colab": {
          "base_uri": "https://localhost:8080/",
          "height": 323
        }
      },
      "source": [
        "stress_loss=np.sum([meli_loss,spx_loss,mmm_loss,bond_loss,stock_loss], axis = 0)\n",
        "stress_loss"
      ],
      "execution_count": 1097,
      "outputs": [
        {
          "output_type": "execute_result",
          "data": {
            "text/plain": [
              "array([  -3342.55362999,   -4716.2774919 ,   18770.26301103,\n",
              "        -14901.99990196,   22772.15227733,    -485.50305535,\n",
              "         -6697.79475812,   -4296.35200371,   -1117.91533718,\n",
              "         14250.05236628,    7889.55319742,   -9465.42715738,\n",
              "         -7608.09283058,  -17654.83453418,  -19693.52049014,\n",
              "        -11155.34202598,  -19539.98683315,   -5137.72473484,\n",
              "         -2516.79053305,   43358.68375431,  -13003.64984787,\n",
              "         12966.93998418,   51699.28961872,  -35402.7352227 ,\n",
              "         39018.54192131,  -23020.65492798,   27977.24734243,\n",
              "        -26330.59328187, -102115.48669742,  -80881.99510243,\n",
              "        -40087.1300339 , -110663.89783543,   -5357.98016961,\n",
              "        -20508.16022113,  118925.06700863,  -24690.61520485,\n",
              "         59849.0062703 ,   64077.9689263 ,   57602.60418897,\n",
              "        -49924.7394894 ,   26000.89492394,   20029.85400316,\n",
              "         23717.60779393,  -12401.22728717,  -27536.71862823,\n",
              "         25519.14433018,  -48882.23529528,   27065.71964457,\n",
              "         -9561.47814334,   32591.93090439,   29080.14159982,\n",
              "          1297.50552433])"
            ]
          },
          "metadata": {
            "tags": []
          },
          "execution_count": 1097
        }
      ]
    },
    {
      "cell_type": "code",
      "metadata": {
        "id": "yzOKM9psOvs3",
        "colab_type": "code",
        "outputId": "188f298d-6e8b-46d2-da88-ea661be6da35",
        "colab": {
          "base_uri": "https://localhost:8080/",
          "height": 323
        }
      },
      "source": [
        "stress_loss.sort()\n",
        "stress_loss"
      ],
      "execution_count": 1098,
      "outputs": [
        {
          "output_type": "execute_result",
          "data": {
            "text/plain": [
              "array([-110663.89783543, -102115.48669742,  -80881.99510243,\n",
              "        -49924.7394894 ,  -48882.23529528,  -40087.1300339 ,\n",
              "        -35402.7352227 ,  -27536.71862823,  -26330.59328187,\n",
              "        -24690.61520485,  -23020.65492798,  -20508.16022113,\n",
              "        -19693.52049014,  -19539.98683315,  -17654.83453418,\n",
              "        -14901.99990196,  -13003.64984787,  -12401.22728717,\n",
              "        -11155.34202598,   -9561.47814334,   -9465.42715738,\n",
              "         -7608.09283058,   -6697.79475812,   -5357.98016961,\n",
              "         -5137.72473484,   -4716.2774919 ,   -4296.35200371,\n",
              "         -3342.55362999,   -2516.79053305,   -1117.91533718,\n",
              "          -485.50305535,    1297.50552433,    7889.55319742,\n",
              "         12966.93998418,   14250.05236628,   18770.26301103,\n",
              "         20029.85400316,   22772.15227733,   23717.60779393,\n",
              "         25519.14433018,   26000.89492394,   27065.71964457,\n",
              "         27977.24734243,   29080.14159982,   32591.93090439,\n",
              "         39018.54192131,   43358.68375431,   51699.28961872,\n",
              "         57602.60418897,   59849.0062703 ,   64077.9689263 ,\n",
              "        118925.06700863])"
            ]
          },
          "metadata": {
            "tags": []
          },
          "execution_count": 1098
        }
      ]
    },
    {
      "cell_type": "code",
      "metadata": {
        "id": "3lmc1Ag8r8GG",
        "colab_type": "code",
        "colab": {
          "base_uri": "https://localhost:8080/",
          "height": 34
        },
        "outputId": "c5448a83-7ccb-4c50-937f-f4d93fdeb918"
      },
      "source": [
        "len(stress_loss)"
      ],
      "execution_count": 1099,
      "outputs": [
        {
          "output_type": "execute_result",
          "data": {
            "text/plain": [
              "52"
            ]
          },
          "metadata": {
            "tags": []
          },
          "execution_count": 1099
        }
      ]
    },
    {
      "cell_type": "markdown",
      "metadata": {
        "id": "5VqNJ8rKWnFQ",
        "colab_type": "text"
      },
      "source": [
        "# **make PDF graph**"
      ]
    },
    {
      "cell_type": "code",
      "metadata": {
        "id": "gLLDcRShVyVk",
        "colab_type": "code",
        "colab": {
          "base_uri": "https://localhost:8080/",
          "height": 394
        },
        "outputId": "0a72ac4f-9474-430a-d9df-a1e2b7ef4b9c"
      },
      "source": [
        "sns.set_style(\"darkgrid\")\n",
        "plt.figure(figsize=(8,4),dpi=100)  \n",
        "sns.distplot(stress_loss,hist=True, kde=True, rug=False,norm_hist = True,\n",
        "kde_kws={'linestyle':'--'}, \n",
        "label='stress loss')"
      ],
      "execution_count": 1100,
      "outputs": [
        {
          "output_type": "execute_result",
          "data": {
            "text/plain": [
              "<matplotlib.axes._subplots.AxesSubplot at 0x7f46a0deefd0>"
            ]
          },
          "metadata": {
            "tags": []
          },
          "execution_count": 1100
        },
        {
          "output_type": "display_data",
          "data": {
            "image/png": "[encoded data removed]",
            "text/plain": [
              "<Figure size 800x400 with 1 Axes>"
            ]
          },
          "metadata": {
            "tags": []
          }
        }
      ]
    },
    {
      "cell_type": "markdown",
      "metadata": {
        "id": "k_SnjzKKWsaD",
        "colab_type": "text"
      },
      "source": [
        "# **Set 10 bins to make histogram**"
      ]
    },
    {
      "cell_type": "code",
      "metadata": {
        "id": "JiZvjP0SVyQ5",
        "colab_type": "code",
        "colab": {
          "base_uri": "https://localhost:8080/",
          "height": 379
        },
        "outputId": "e0a1d5da-5aef-4397-f5e3-db99be8915c0"
      },
      "source": [
        "sns.set_style(\"darkgrid\")\n",
        "plt.figure(figsize=(8,4),dpi=100)  \n",
        "sns.distplot(stress_loss, bins=10,hist=True, kde=False, rug=False,norm_hist = False,\n",
        "kde_kws={'linestyle':'--'}, \n",
        "label='stress loss')"
      ],
      "execution_count": 1101,
      "outputs": [
        {
          "output_type": "execute_result",
          "data": {
            "text/plain": [
              "<matplotlib.axes._subplots.AxesSubplot at 0x7f46a1499b70>"
            ]
          },
          "metadata": {
            "tags": []
          },
          "execution_count": 1101
        },
        {
          "output_type": "display_data",
          "data": {
            "image/png": "[encoded data removed]",
            "text/plain": [
              "<Figure size 800x400 with 1 Axes>"
            ]
          },
          "metadata": {
            "tags": []
          }
        }
      ]
    },
    {
      "cell_type": "markdown",
      "metadata": {
        "id": "qe4jSQ2jWzYw",
        "colab_type": "text"
      },
      "source": [
        "# **make Empirical loss distribution graph**"
      ]
    },
    {
      "cell_type": "code",
      "metadata": {
        "id": "QxfDAZevVyKv",
        "colab_type": "code",
        "colab": {
          "base_uri": "https://localhost:8080/",
          "height": 383
        },
        "outputId": "6f8d2767-fe90-440e-d207-ee8b2d7925f5"
      },
      "source": [
        "plt.figure(figsize=(10,4),dpi=100) \n",
        "length=len(stress_loss)\n",
        "x=np.linspace(-43000,36000,8000)\n",
        "y=[]\n",
        "for i in range(8000):\n",
        "  m=x[i]\n",
        "  function=[0]*(length+1)\n",
        "  if m<stress_loss[0]:\n",
        "    function[0]=0\n",
        "  if m>=stress_loss[(length-1)]:\n",
        "    function[length]=1\n",
        "  for j in range((length-1)):\n",
        "    if m>=stress_loss[j] and m<stress_loss[j+1]:\n",
        "      function[j+1]=(1+j)/length\n",
        "  b=0\n",
        "  for n in range((length+1)):\n",
        "    b+=function[n]\n",
        "  y.append(b)\n",
        "plt.plot(x,y)"
      ],
      "execution_count": 1102,
      "outputs": [
        {
          "output_type": "execute_result",
          "data": {
            "text/plain": [
              "[<matplotlib.lines.Line2D at 0x7f46a0d0c2e8>]"
            ]
          },
          "metadata": {
            "tags": []
          },
          "execution_count": 1102
        },
        {
          "output_type": "display_data",
          "data": {
            "image/png": "[encoded data removed]",
            "text/plain": [
              "<Figure size 1000x400 with 1 Axes>"
            ]
          },
          "metadata": {
            "tags": []
          }
        }
      ]
    },
    {
      "cell_type": "markdown",
      "metadata": {
        "id": "dH5Y-iC5XEaN",
        "colab_type": "text"
      },
      "source": [
        "# **因为python实现不了断点作图，所以在每一段端点python绘图都连上了，实际情况在每一段端点处应断开，每一段都取左端点不取右端点，写report的时候注明。**"
      ]
    },
    {
      "cell_type": "code",
      "metadata": {
        "id": "XJMtdbLdOvqi",
        "colab_type": "code",
        "outputId": "e4295fe3-67de-4daf-d81d-c8628f534cb1",
        "colab": {
          "base_uri": "https://localhost:8080/",
          "height": 34
        }
      },
      "source": [
        "0.99*53"
      ],
      "execution_count": 1103,
      "outputs": [
        {
          "output_type": "execute_result",
          "data": {
            "text/plain": [
              "52.47"
            ]
          },
          "metadata": {
            "tags": []
          },
          "execution_count": 1103
        }
      ]
    },
    {
      "cell_type": "code",
      "metadata": {
        "id": "IiPr-x7qAGY8",
        "colab_type": "code",
        "colab": {
          "base_uri": "https://localhost:8080/",
          "height": 34
        },
        "outputId": "8e2d70eb-92fe-4d40-ab43-4449cfba0a89"
      },
      "source": [
        "0.95*53"
      ],
      "execution_count": 1104,
      "outputs": [
        {
          "output_type": "execute_result",
          "data": {
            "text/plain": [
              "50.349999999999994"
            ]
          },
          "metadata": {
            "tags": []
          },
          "execution_count": 1104
        }
      ]
    },
    {
      "cell_type": "markdown",
      "metadata": {
        "id": "BMCbjnIva8h7",
        "colab_type": "text"
      },
      "source": [
        "**SVAR0.99 = 118925.06**\n",
        "\n",
        "**SVAR0.95 = 59849.01**"
      ]
    },
    {
      "cell_type": "markdown",
      "metadata": {
        "id": "6byGp-oQAJ5i",
        "colab_type": "text"
      },
      "source": [
        "# **Now we work on the second scenario --- global economic crisis 2015~2016**"
      ]
    },
    {
      "cell_type": "code",
      "metadata": {
        "id": "gRXKc9aqBCGO",
        "colab_type": "code",
        "colab": {
          "base_uri": "https://localhost:8080/",
          "height": 51
        },
        "outputId": "48b6daa7-ed10-4280-9a1f-ceef9c5b9c26"
      },
      "source": [
        "B30= drd.get_data_yahoo('^TYX','08/19/2015','08/16/2016',interval='d')\n",
        "tradingdays2=B30.index\n",
        "tradingdays2\n",
        "len(tradingdays2)\n",
        "\n",
        "weektime2=[]\n",
        "for i in tradingdays2:\n",
        "  if i.weekday() == 2:\n",
        "    weektime2.append(i)\n",
        "len(weektime2)\n",
        "\n",
        "nan_list=[]\n",
        "nan_index=[]\n",
        "for i in range(50):\n",
        "  if weektime2[i+1]-weektime2[i] != pd.Timedelta('7 days'):\n",
        "    nan_list.append(weektime2[i])\n",
        "    nan_index.append(i)\n",
        "\n",
        "\n",
        "#weektime: wednesday date list\n",
        "#weektime[-1]\n",
        "print(nan_index)\n",
        "print(nan_list)"
      ],
      "execution_count": 1105,
      "outputs": [
        {
          "output_type": "stream",
          "text": [
            "[]\n",
            "[]\n"
          ],
          "name": "stdout"
        }
      ]
    },
    {
      "cell_type": "code",
      "metadata": {
        "id": "GdWAI5aMBCDw",
        "colab_type": "code",
        "colab": {}
      },
      "source": [
        "AAPL= drd.get_data_yahoo('AAPL','08/19/2015','08/16/2016',interval='d')\n",
        "TSLA= drd.get_data_yahoo('TSLA','08/19/2015','08/16/2016',interval='d')\n",
        "GILD= drd.get_data_yahoo('GILD','08/19/2015','08/16/2016',interval='d')\n",
        "MELI= drd.get_data_yahoo('MELI','08/19/2015','08/16/2016',interval='d')\n",
        "MSFT= drd.get_data_yahoo('MSFT','08/19/2015','08/16/2016',interval='d')\n",
        "DIS= drd.get_data_yahoo('DIS','08/19/2015','08/16/2016',interval='d')\n",
        "NVDA= drd.get_data_yahoo('NVDA','08/19/2015','08/16/2016',interval='d')\n",
        "TCO= drd.get_data_yahoo('TCO','08/19/2015','08/16/2016',interval='d')\n",
        "MMM= drd.get_data_yahoo('MMM','08/19/2015','08/16/2016',interval='d')\n",
        "INCY= drd.get_data_yahoo('INCY','08/19/2015','08/16/2016',interval='d')\n",
        "IBM= drd.get_data_yahoo('IBM','08/19/2015','08/16/2016',interval='d')\n",
        "EPC= drd.get_data_yahoo('EPC','08/19/2015','08/16/2016',interval='d')\n",
        "SPY= drd.get_data_yahoo('SPY','08/19/2015','08/16/2016',interval='d')\n",
        "YELP= drd.get_data_yahoo('YELP','08/19/2015','08/16/2016',interval='d')\n",
        "VTI= drd.get_data_yahoo('VTI','08/19/2015','08/16/2016',interval='d')"
      ],
      "execution_count": 0,
      "outputs": []
    },
    {
      "cell_type": "code",
      "metadata": {
        "id": "QmD6znG9BCCC",
        "colab_type": "code",
        "colab": {}
      },
      "source": [
        "stock_list=[AAPL,TSLA,GILD,MELI,MSFT,DIS,NVDA,TCO,MMM,INCY,IBM,EPC,SPY,YELP,VTI]\n",
        "index_list=['AAPL','TSLA','GILD','MELI','MSFT','DIS','NVDA','TCO','MMM','INCY','IBM','EPC','SPY','YELP','VTI']\n",
        "\n",
        "from datetime import date\n",
        "total_num=len(tradingdays2)\n",
        "date_list2=[]\n",
        "for i in range(total_num-1):\n",
        "  if tradingdays2[i].day > tradingdays2[i+1].day:\n",
        "    date_list2.append(tradingdays2[i])\n",
        "\n",
        "def new_portfolio():\n",
        "    res = pd.DataFrame(columns=['Share', 'Adj Close'],index=pd.Series(index_list))\n",
        "    return res\n",
        "\n",
        "my_port = new_portfolio()\n",
        "update_list=[]\n",
        "\n",
        "for j in range(len(date_list2)):\n",
        "  b=date_list2[j]\n",
        "  my_port=new_portfolio()\n",
        "  for i in range(len(index_list)):\n",
        "    a=index_list[i]\n",
        "    my_port.loc[a,'Adj Close']=stock_list[i].loc[b,'Adj Close']\n",
        "  update_list.append(my_port)\n",
        "\n",
        "for i in range(len(index_list)):\n",
        "    a=index_list[i]\n",
        "    update_list[0].loc[a,'Share']=(400000/15)/update_list[0].loc[a,'Adj Close']\n",
        "\n",
        "def total_value(portfolio1,portfolio2):\n",
        "  res=0\n",
        "  for i in range(len(index_list)):\n",
        "    a=index_list[i]\n",
        "    res+=portfolio1.loc[a,'Share']*portfolio2.loc[a,'Adj Close']\n",
        "  return res\n",
        "\n",
        "for i in range(len(update_list)-1):\n",
        "  to_value=total_value(update_list[i],update_list[i+1])\n",
        "  for j in range(len(index_list)):\n",
        "    a=index_list[j]\n",
        "    update_list[i+1].loc[a,'Share']=(to_value/15)/update_list[i+1].loc[a,'Adj Close']"
      ],
      "execution_count": 0,
      "outputs": []
    },
    {
      "cell_type": "code",
      "metadata": {
        "id": "itOnddHgBCAF",
        "colab_type": "code",
        "colab": {}
      },
      "source": [
        "week_stock2=[] #所有Wednesday的portfolio\n",
        "\n",
        "for j in range(len(weektime2)):\n",
        "  b=weektime2[j]\n",
        "  my_port=new_portfolio()\n",
        "  for i in range(len(index_list)):\n",
        "    a=index_list[i]\n",
        "    my_port.loc[a]['Adj Close']=stock_list[i].loc[b]['Adj Close']\n",
        "  week_stock2.append(my_port)\n",
        "week_stock2\n",
        "\n",
        "m=0\n",
        "for i in range(len(week_stock2)):\n",
        "  if weektime2[i].month <= date_list2[m].month:\n",
        "    for j in range(len(index_list)):\n",
        "      a=index_list[j]\n",
        "      week_stock2[i].loc[a]['Share']=update_list[m+1].loc[a]['Share']\n",
        "  else:\n",
        "    m+=1\n",
        "    for j in range(len(index_list)):\n",
        "      a=index_list[j]\n",
        "      week_stock2[i].loc[a]['Share']=update_list[m+1].loc[a]['Share']"
      ],
      "execution_count": 0,
      "outputs": []
    },
    {
      "cell_type": "code",
      "metadata": {
        "id": "llqKpRMPBB6o",
        "colab_type": "code",
        "colab": {
          "base_uri": "https://localhost:8080/",
          "height": 34
        },
        "outputId": "af5d8730-1052-4a09-ac45-8b4af738f6b0"
      },
      "source": [
        "len(week_stock2)"
      ],
      "execution_count": 1109,
      "outputs": [
        {
          "output_type": "execute_result",
          "data": {
            "text/plain": [
              "52"
            ]
          },
          "metadata": {
            "tags": []
          },
          "execution_count": 1109
        }
      ]
    },
    {
      "cell_type": "code",
      "metadata": {
        "id": "c60WfoD8BB4c",
        "colab_type": "code",
        "colab": {
          "base_uri": "https://localhost:8080/",
          "height": 34
        },
        "outputId": "a93691f2-2c5e-41d0-c87b-d43628d71032"
      },
      "source": [
        "stock_value=[]\n",
        "for j in range(len(week_stock2)):\n",
        "  v=0\n",
        "  for i in range(len(index_list)):\n",
        "    a=index_list[i]\n",
        "    v+=week_stock2[j].loc[a,'Adj Close']*week_stock2[j].loc[a,'Share']\n",
        "  stock_value.append(v)\n",
        "\n",
        "len(stock_value)"
      ],
      "execution_count": 1110,
      "outputs": [
        {
          "output_type": "execute_result",
          "data": {
            "text/plain": [
              "52"
            ]
          },
          "metadata": {
            "tags": []
          },
          "execution_count": 1110
        }
      ]
    },
    {
      "cell_type": "code",
      "metadata": {
        "id": "XhLjTK86BB1q",
        "colab_type": "code",
        "colab": {}
      },
      "source": [
        "stock_loss=[]\n",
        "for i in range(51):\n",
        "  a=stock_value[i+1]-stock_value[i]\n",
        "  stock_loss.append(-a)"
      ],
      "execution_count": 0,
      "outputs": []
    },
    {
      "cell_type": "code",
      "metadata": {
        "id": "1dpoiat2BBxl",
        "colab_type": "code",
        "colab": {
          "base_uri": "https://localhost:8080/",
          "height": 884
        },
        "outputId": "275c6153-0477-4b09-f99d-6a2b0694437c"
      },
      "source": [
        "stock_loss"
      ],
      "execution_count": 1112,
      "outputs": [
        {
          "output_type": "execute_result",
          "data": {
            "text/plain": [
              "[26909.739074867044,\n",
              " -12112.154403672263,\n",
              " 3140.3714221300907,\n",
              " -15082.182201119955,\n",
              " 18446.807068374357,\n",
              " 5776.264999270323,\n",
              " -14164.339551328681,\n",
              " 3895.9510562858777,\n",
              " -4655.967937213136,\n",
              " -17234.50387136842,\n",
              " -6984.513322661107,\n",
              " 4378.605329992541,\n",
              " -6948.778489029908,\n",
              " -6885.379041238222,\n",
              " -4199.803271856916,\n",
              " 9494.310443336086,\n",
              " -4666.984390139987,\n",
              " 6222.841121778183,\n",
              " -1559.1737050380907,\n",
              " 20269.95538096543,\n",
              " 31925.696244513034,\n",
              " 12868.673080077278,\n",
              " -2156.978880024748,\n",
              " 183.3207466721069,\n",
              " 20659.66789231263,\n",
              " -21176.355889559316,\n",
              " -8550.648674973869,\n",
              " -12350.640295460063,\n",
              " -800.2868333293591,\n",
              " -6961.988439881476,\n",
              " -1125.851406067086,\n",
              " -9379.259067853971,\n",
              " -12266.650834345783,\n",
              " -2214.3853237766307,\n",
              " -1061.8406917097163,\n",
              " 5336.929371458245,\n",
              " 16019.994351083296,\n",
              " -6559.401756082661,\n",
              " -6244.994457445748,\n",
              " -12905.327954094508,\n",
              " -3902.894025369431,\n",
              " -4887.0384089203435,\n",
              " 9899.906193107949,\n",
              " -1712.483755259891,\n",
              " -1185.3545238093939,\n",
              " -8916.495358468615,\n",
              " -14258.27338664612,\n",
              " -7365.252851403609,\n",
              " -1254.274493358098,\n",
              " -1779.672032841714,\n",
              " -12983.489630667144]"
            ]
          },
          "metadata": {
            "tags": []
          },
          "execution_count": 1112
        }
      ]
    },
    {
      "cell_type": "code",
      "metadata": {
        "id": "kyVs3Je6BBvl",
        "colab_type": "code",
        "colab": {
          "base_uri": "https://localhost:8080/",
          "height": 901
        },
        "outputId": "2b3641b5-8189-4b1e-a194-dde5b830dc4d"
      },
      "source": [
        "bond30= drd.get_data_yahoo('^TYX','08/19/2015','08/16/2016',interval='d')\n",
        "\n",
        "for i in range(len(tradingdays2)):\n",
        "  a=tradingdays2[i]\n",
        "  b=bond30.loc[a,'Adj Close']\n",
        "  bond30.loc[a,'Adj Close']=b*0.01\n",
        "\n",
        "week_bond=[]\n",
        "for i in range(len(weektime2)):\n",
        "  a=weektime2[i]\n",
        "  b=bond30.loc[a,'Adj Close']\n",
        "  week_bond.append(b)\n",
        "\n",
        "a=27\n",
        "maturity_list=[a,]\n",
        "for i in range(len(weektime2)-1):\n",
        "  a=a-7/365\n",
        "  maturity_list.append(a)\n",
        "\n",
        "bond_price=[]\n",
        "for i in range(len(weektime2)):\n",
        "  a=np.exp(-maturity_list[i]*week_bond[i])\n",
        "  bond_price.append(a)\n",
        "\n",
        "bond_price"
      ],
      "execution_count": 1113,
      "outputs": [
        {
          "output_type": "execute_result",
          "data": {
            "text/plain": [
              "[0.467138261694878,\n",
              " 0.45335596039451437,\n",
              " 0.449592925068236,\n",
              " 0.45252295484362187,\n",
              " 0.4349744188567167,\n",
              " 0.4532779076604843,\n",
              " 0.461032814143225,\n",
              " 0.460544579241648,\n",
              " 0.46665069838059847,\n",
              " 0.4629137213864548,\n",
              " 0.4641630941189301,\n",
              " 0.44840255974995963,\n",
              " 0.4349419471428687,\n",
              " 0.4433089716215753,\n",
              " 0.4490555859113769,\n",
              " 0.46000063246171063,\n",
              " 0.45391271447217957,\n",
              " 0.4488711502756196,\n",
              " 0.4497287234321302,\n",
              " 0.4447444342769566,\n",
              " 0.45725077220897054,\n",
              " 0.46884175080868146,\n",
              " 0.4805818518117307,\n",
              " 0.47664017897408745,\n",
              " 0.4877757200702216,\n",
              " 0.5113481195453142,\n",
              " 0.4907468702484341,\n",
              " 0.502709661256532,\n",
              " 0.4904733638400521,\n",
              " 0.491895918422821,\n",
              " 0.48530455034246484,\n",
              " 0.4968430328478386,\n",
              " 0.49604727489603867,\n",
              " 0.5060788560017484,\n",
              " 0.5071306976524947,\n",
              " 0.49641389819032633,\n",
              " 0.4917264562757338,\n",
              " 0.49940905879222786,\n",
              " 0.5074671813811522,\n",
              " 0.4943037092305132,\n",
              " 0.49637785977225896,\n",
              " 0.502261746646881,\n",
              " 0.5177471390968476,\n",
              " 0.5303444523683104,\n",
              " 0.520692162158078,\n",
              " 0.5510535540917587,\n",
              " 0.5700363091468917,\n",
              " 0.5665628897972711,\n",
              " 0.5493360038631452,\n",
              " 0.5595497230193854,\n",
              " 0.5503932125454504,\n",
              " 0.5601738432275999]"
            ]
          },
          "metadata": {
            "tags": []
          },
          "execution_count": 1113
        }
      ]
    },
    {
      "cell_type": "code",
      "metadata": {
        "id": "9ctLPG4hBBrx",
        "colab_type": "code",
        "colab": {
          "base_uri": "https://localhost:8080/",
          "height": 884
        },
        "outputId": "67ab2dd9-3064-4dec-8546-351dff97af6d"
      },
      "source": [
        "bond_price=[]\n",
        "for i in range(len(weektime2)):\n",
        "  a=np.exp(-maturity_list[i]*week_bond[i])\n",
        "  bond_price.append(a)\n",
        "\n",
        "bondshare=600000/bond_price[0]\n",
        "bond_loss=[]\n",
        "for i in range(len(weektime2)-1):\n",
        "  a=bondshare*(bond_price[i+1]-bond_price[i])\n",
        "  bond_loss.append(-a)\n",
        "bond_loss"
      ],
      "execution_count": 1114,
      "outputs": [
        {
          "output_type": "execute_result",
          "data": {
            "text/plain": [
              "[17702.21251030708,\n",
              " 4833.30392928029,\n",
              " -3763.378017576753,\n",
              " 22539.625750074872,\n",
              " -23509.299457542096,\n",
              " -9960.528330012043,\n",
              " 627.0968682448623,\n",
              " -7842.798982206473,\n",
              " 4799.834182605942,\n",
              " -1604.7147085862084,\n",
              " 20243.087318672446,\n",
              " 17289.03030754054,\n",
              " -10746.742664601114,\n",
              " -7381.045092240989,\n",
              " -14057.996247992305,\n",
              " 7819.421129122832,\n",
              " 6475.4672566551635,\n",
              " -1101.4809449337486,\n",
              " 6401.9022596302275,\n",
              " -16063.344355444056,\n",
              " -14887.64190412024,\n",
              " -15079.177150405476,\n",
              " 5062.748861558037,\n",
              " -14302.670548627711,\n",
              " -30276.7742332648,\n",
              " 26460.580499830216,\n",
              " -15365.20382384568,\n",
              " 15716.499914287542,\n",
              " -1827.15230082962,\n",
              " 8466.060634521247,\n",
              " -14820.215064605925,\n",
              " 1022.0844881077528,\n",
              " -12884.726336883215,\n",
              " -1351.0025664736208,\n",
              " 13764.831966389003,\n",
              " 6020.626823740125,\n",
              " -9867.659936850285,\n",
              " -10349.9840407263,\n",
              " 16907.378260405094,\n",
              " -2664.0727747972846,\n",
              " -7557.360238410767,\n",
              " -19889.690551720952,\n",
              " -16180.194564783144,\n",
              " 12397.558926402404,\n",
              " -38996.66684144825,\n",
              " -24381.760106217178,\n",
              " 4461.316446678975,\n",
              " 22126.49317778818,\n",
              " -13118.667418741534,\n",
              " 11760.7713494244,\n",
              " -12562.40152112133]"
            ]
          },
          "metadata": {
            "tags": []
          },
          "execution_count": 1114
        }
      ]
    },
    {
      "cell_type": "code",
      "metadata": {
        "id": "HQFruOI5BBpY",
        "colab_type": "code",
        "colab": {}
      },
      "source": [
        "libor2015=[0.00133,0.00133,0.00133,0.00135,0.00137,0.00136,0.00116,0.00132,0.00132,0.00132,0.00132,0.00131,0.00131,0.00131,0.001305,0.001305,0.001295,0.001518,0.003673,0.003661,0.003661,0.003663,0.003655,0.003659,0.003686,0.003731,0.003700,0.003715,0.003715,0.003720,0.003743,0.003753,0.003772,0.003782,0.003802,0.003822,0.003802,0.003858,0.003850,0.003850,0.003861,0.003855,0.003876,0.003850,0.003896,0.004051,0.004112,0.004127,0.004174,0.004164,0.004174,0.004197]"
      ],
      "execution_count": 0,
      "outputs": []
    },
    {
      "cell_type": "code",
      "metadata": {
        "id": "Hpyc37wOBBnf",
        "colab_type": "code",
        "colab": {}
      },
      "source": [
        "def vol_finder(sigma,weektime):\n",
        "  len(sigma)\n",
        "  tradingdays3=sigma.index\n",
        "  vol=[]\n",
        "  for i in range(len(weektime)):\n",
        "    a=list(tradingdays3).index(weektime[i])\n",
        "    b=np.log(np.array(sigma[:a]['Adj Close'])).std()\n",
        "    vol.append(b)\n",
        "  return vol\n",
        "  \n",
        "def option_finder(stock,libor,vol,k,maturity,weektime,otype):\n",
        "  option=[]\n",
        "  for i in range(len(weektime)):\n",
        "    a=weektime[i]\n",
        "    d1 = (np.log(stock.loc[a,'Adj Close'] / k) + (libor[i] + 0.5 * vol[i] ** 2) * maturity[i]) / (vol[i] * np.sqrt(maturity[i]))\n",
        "    d2 = d1 - vol[i] * np.sqrt(maturity[i])\n",
        "    price=(otype * stock.loc[a,'Adj Close'] * ss.norm.cdf(otype * d1) - otype * np.exp(-libor[i] * maturity[i]) * k * ss.norm.cdf(otype * d2))\n",
        "    option.append(price)\n",
        "  return option"
      ],
      "execution_count": 0,
      "outputs": []
    },
    {
      "cell_type": "code",
      "metadata": {
        "id": "udFJUHtwBBkI",
        "colab_type": "code",
        "colab": {}
      },
      "source": [
        "mmm_sigma=drd.get_data_yahoo('MMM','01/15/2014','08/16/2016',interval='d')\n",
        "mmm_vol=vol_finder(mmm_sigma,weektime2)\n",
        "spx_sigma=drd.get_data_yahoo('SPY','01/15/2014','08/16/2016',interval='d')\n",
        "spx_vol=vol_finder(spx_sigma,weektime2)\n",
        "meli_sigma=drd.get_data_yahoo('MELI','01/15/2014','08/16/2016',interval='d')\n",
        "meli_vol=vol_finder(meli_sigma,weektime2)"
      ],
      "execution_count": 0,
      "outputs": []
    },
    {
      "cell_type": "code",
      "metadata": {
        "id": "d9pf3Vw4BBha",
        "colab_type": "code",
        "colab": {
          "base_uri": "https://localhost:8080/",
          "height": 450
        },
        "outputId": "67b9edcb-6dd6-49f9-8d0d-6ee5e9044468"
      },
      "source": [
        "for i in range(len(tradingdays2)):\n",
        "  a=tradingdays2[i]\n",
        "  b=SPY.loc[a,'Adj Close']\n",
        "  SPY.loc[a,'Adj Close']=b*10\n",
        "SPY"
      ],
      "execution_count": 1118,
      "outputs": [
        {
          "output_type": "execute_result",
          "data": {
            "text/html": [
              "<div>\n",
              "<style scoped>\n",
              "    .dataframe tbody tr th:only-of-type {\n",
              "        vertical-align: middle;\n",
              "    }\n",
              "\n",
              "    .dataframe tbody tr th {\n",
              "        vertical-align: top;\n",
              "    }\n",
              "\n",
              "    .dataframe thead th {\n",
              "        text-align: right;\n",
              "    }\n",
              "</style>\n",
              "<table border=\"1\" class=\"dataframe\">\n",
              "  <thead>\n",
              "    <tr style=\"text-align: right;\">\n",
              "      <th></th>\n",
              "      <th>High</th>\n",
              "      <th>Low</th>\n",
              "      <th>Open</th>\n",
              "      <th>Close</th>\n",
              "      <th>Volume</th>\n",
              "      <th>Adj Close</th>\n",
              "    </tr>\n",
              "    <tr>\n",
              "      <th>Date</th>\n",
              "      <th></th>\n",
              "      <th></th>\n",
              "      <th></th>\n",
              "      <th></th>\n",
              "      <th></th>\n",
              "      <th></th>\n",
              "    </tr>\n",
              "  </thead>\n",
              "  <tbody>\n",
              "    <tr>\n",
              "      <th>2015-08-19</th>\n",
              "      <td>210.009995</td>\n",
              "      <td>207.350006</td>\n",
              "      <td>209.089996</td>\n",
              "      <td>208.320007</td>\n",
              "      <td>172946000.0</td>\n",
              "      <td>1894.293671</td>\n",
              "    </tr>\n",
              "    <tr>\n",
              "      <th>2015-08-20</th>\n",
              "      <td>208.289993</td>\n",
              "      <td>203.899994</td>\n",
              "      <td>206.509995</td>\n",
              "      <td>203.970001</td>\n",
              "      <td>194327900.0</td>\n",
              "      <td>1854.738617</td>\n",
              "    </tr>\n",
              "    <tr>\n",
              "      <th>2015-08-21</th>\n",
              "      <td>203.940002</td>\n",
              "      <td>197.520004</td>\n",
              "      <td>201.729996</td>\n",
              "      <td>197.830002</td>\n",
              "      <td>346588500.0</td>\n",
              "      <td>1798.905792</td>\n",
              "    </tr>\n",
              "    <tr>\n",
              "      <th>2015-08-24</th>\n",
              "      <td>197.479996</td>\n",
              "      <td>182.399994</td>\n",
              "      <td>187.490005</td>\n",
              "      <td>189.500000</td>\n",
              "      <td>507244300.0</td>\n",
              "      <td>1723.159637</td>\n",
              "    </tr>\n",
              "    <tr>\n",
              "      <th>2015-08-25</th>\n",
              "      <td>195.449997</td>\n",
              "      <td>186.919998</td>\n",
              "      <td>195.429993</td>\n",
              "      <td>187.270004</td>\n",
              "      <td>369833100.0</td>\n",
              "      <td>1702.882385</td>\n",
              "    </tr>\n",
              "    <tr>\n",
              "      <th>...</th>\n",
              "      <td>...</td>\n",
              "      <td>...</td>\n",
              "      <td>...</td>\n",
              "      <td>...</td>\n",
              "      <td>...</td>\n",
              "      <td>...</td>\n",
              "    </tr>\n",
              "    <tr>\n",
              "      <th>2016-08-10</th>\n",
              "      <td>218.399994</td>\n",
              "      <td>217.229996</td>\n",
              "      <td>218.309998</td>\n",
              "      <td>217.639999</td>\n",
              "      <td>57941100.0</td>\n",
              "      <td>2021.952362</td>\n",
              "    </tr>\n",
              "    <tr>\n",
              "      <th>2016-08-11</th>\n",
              "      <td>218.940002</td>\n",
              "      <td>217.949997</td>\n",
              "      <td>218.259995</td>\n",
              "      <td>218.649994</td>\n",
              "      <td>72504300.0</td>\n",
              "      <td>2031.335602</td>\n",
              "    </tr>\n",
              "    <tr>\n",
              "      <th>2016-08-12</th>\n",
              "      <td>218.710007</td>\n",
              "      <td>217.990005</td>\n",
              "      <td>218.289993</td>\n",
              "      <td>218.460007</td>\n",
              "      <td>61313500.0</td>\n",
              "      <td>2029.570312</td>\n",
              "    </tr>\n",
              "    <tr>\n",
              "      <th>2016-08-15</th>\n",
              "      <td>219.500000</td>\n",
              "      <td>218.880005</td>\n",
              "      <td>218.889999</td>\n",
              "      <td>219.089996</td>\n",
              "      <td>49813500.0</td>\n",
              "      <td>2035.423279</td>\n",
              "    </tr>\n",
              "    <tr>\n",
              "      <th>2016-08-16</th>\n",
              "      <td>218.679993</td>\n",
              "      <td>217.960007</td>\n",
              "      <td>218.600006</td>\n",
              "      <td>217.960007</td>\n",
              "      <td>53213600.0</td>\n",
              "      <td>2024.925385</td>\n",
              "    </tr>\n",
              "  </tbody>\n",
              "</table>\n",
              "<p>251 rows × 6 columns</p>\n",
              "</div>"
            ],
            "text/plain": [
              "                  High         Low  ...       Volume    Adj Close\n",
              "Date                                ...                          \n",
              "2015-08-19  210.009995  207.350006  ...  172946000.0  1894.293671\n",
              "2015-08-20  208.289993  203.899994  ...  194327900.0  1854.738617\n",
              "2015-08-21  203.940002  197.520004  ...  346588500.0  1798.905792\n",
              "2015-08-24  197.479996  182.399994  ...  507244300.0  1723.159637\n",
              "2015-08-25  195.449997  186.919998  ...  369833100.0  1702.882385\n",
              "...                ...         ...  ...          ...          ...\n",
              "2016-08-10  218.399994  217.229996  ...   57941100.0  2021.952362\n",
              "2016-08-11  218.940002  217.949997  ...   72504300.0  2031.335602\n",
              "2016-08-12  218.710007  217.990005  ...   61313500.0  2029.570312\n",
              "2016-08-15  219.500000  218.880005  ...   49813500.0  2035.423279\n",
              "2016-08-16  218.679993  217.960007  ...   53213600.0  2024.925385\n",
              "\n",
              "[251 rows x 6 columns]"
            ]
          },
          "metadata": {
            "tags": []
          },
          "execution_count": 1118
        }
      ]
    },
    {
      "cell_type": "code",
      "metadata": {
        "id": "mZ8GEUBgBBfa",
        "colab_type": "code",
        "colab": {}
      },
      "source": [
        "a=12+30+31+30+31+31+29+31+30+31+30+31+31+1\n",
        "#2015.08.19---2016.09.01\n",
        "maturity=[a/365,]\n",
        "for i in range(len(weektime2)-1):\n",
        "  a=a-7\n",
        "  maturity.append(a/365)"
      ],
      "execution_count": 0,
      "outputs": []
    },
    {
      "cell_type": "code",
      "metadata": {
        "id": "vJSe0GviBBb6",
        "colab_type": "code",
        "colab": {
          "base_uri": "https://localhost:8080/",
          "height": 901
        },
        "outputId": "5dc918a3-6a57-4dea-a270-625bc467e652"
      },
      "source": [
        "import scipy.stats as ss\n",
        "mmm_option=option_finder(MMM,libor2015,mmm_vol,130,maturity,weektime2,1)\n",
        "spx_option=option_finder(SPY,libor2015,spx_vol,1950,maturity,weektime2,-1)\n",
        "meli_option=option_finder(MELI,libor2015,meli_vol,120,maturity,weektime2,1)\n",
        "mmm_option"
      ],
      "execution_count": 1120,
      "outputs": [
        {
          "output_type": "execute_result",
          "data": {
            "text/plain": [
              "[4.140977532504614,\n",
              " 2.8686463556187576,\n",
              " 2.3332402052519754,\n",
              " 2.167402070693086,\n",
              " 3.208791760604292,\n",
              " 1.2849520394208866,\n",
              " 2.2559625161183092,\n",
              " 4.419693186383853,\n",
              " 4.726950401482895,\n",
              " 5.4313958816536285,\n",
              " 10.70342178327337,\n",
              " 11.287712926090819,\n",
              " 11.361612436068512,\n",
              " 10.855295840367774,\n",
              " 11.005013398880791,\n",
              " 9.532786875227956,\n",
              " 9.748835354483717,\n",
              " 5.656274594777372,\n",
              " 6.4520590226861145,\n",
              " 6.87164102393821,\n",
              " 2.8469446772264604,\n",
              " 1.0494038033321758,\n",
              " 0.6953194986099831,\n",
              " 3.0936507294533584,\n",
              " 6.982092195747597,\n",
              " 7.652454606118354,\n",
              " 10.821584147517271,\n",
              " 11.281957796858507,\n",
              " 13.095441332602803,\n",
              " 13.657533647339363,\n",
              " 16.082661581349996,\n",
              " 17.288423500668813,\n",
              " 19.48181749199594,\n",
              " 19.52497762466274,\n",
              " 21.104601892674026,\n",
              " 21.408242812541346,\n",
              " 20.342515038974028,\n",
              " 19.79842669508878,\n",
              " 22.12179897656449,\n",
              " 20.466582173322706,\n",
              " 23.31241446102709,\n",
              " 22.131255973023173,\n",
              " 24.581984173946807,\n",
              " 21.309802571940537,\n",
              " 24.391933654875004,\n",
              " 24.64710461592898,\n",
              " 27.918199780969417,\n",
              " 31.557635126705833,\n",
              " 33.53948006018567,\n",
              " 30.69051024093679,\n",
              " 30.779341698304705,\n",
              " 31.16563338779241]"
            ]
          },
          "metadata": {
            "tags": []
          },
          "execution_count": 1120
        }
      ]
    },
    {
      "cell_type": "code",
      "metadata": {
        "id": "gbRgZ3lxBBZi",
        "colab_type": "code",
        "colab": {
          "base_uri": "https://localhost:8080/",
          "height": 34
        },
        "outputId": "5f1c1339-8dad-47ef-d353-0649c9c57cc8"
      },
      "source": [
        "a=weektime2[0]\n",
        "share_mmm=400000/(15*MMM.loc[a,'Adj Close'])\n",
        "share_mmm"
      ],
      "execution_count": 1121,
      "outputs": [
        {
          "output_type": "execute_result",
          "data": {
            "text/plain": [
              "207.0560372887905"
            ]
          },
          "metadata": {
            "tags": []
          },
          "execution_count": 1121
        }
      ]
    },
    {
      "cell_type": "code",
      "metadata": {
        "id": "7oK66kWbBBXu",
        "colab_type": "code",
        "colab": {
          "base_uri": "https://localhost:8080/",
          "height": 884
        },
        "outputId": "1458ca36-aaef-4006-de14-c0331072927e"
      },
      "source": [
        "mmm_loss=[]\n",
        "for i in range(len(mmm_option)-1):\n",
        "  loss=200*(mmm_option[i+1]-mmm_option[i])\n",
        "  mmm_loss.append(loss)\n",
        "mmm_loss"
      ],
      "execution_count": 1122,
      "outputs": [
        {
          "output_type": "execute_result",
          "data": {
            "text/plain": [
              "[-254.4662353771713,\n",
              " -107.08123007335644,\n",
              " -33.16762691177786,\n",
              " 208.2779379822412,\n",
              " -384.7679442366811,\n",
              " 194.20209533948452,\n",
              " 432.74613405310873,\n",
              " 61.451443019808494,\n",
              " 140.88909603414663,\n",
              " 1054.4051803239483,\n",
              " 116.85822856348977,\n",
              " 14.77990199553858,\n",
              " -101.2633191401477,\n",
              " 29.943511702603587,\n",
              " -294.44530473056716,\n",
              " 43.20969585115222,\n",
              " -818.5121519412689,\n",
              " 159.1568855817485,\n",
              " 83.91640025041909,\n",
              " -804.9392693423499,\n",
              " -359.5081747788569,\n",
              " -70.81686094443853,\n",
              " 479.66624616867506,\n",
              " 777.6882932588478,\n",
              " 134.07248207415137,\n",
              " 633.8259082797833,\n",
              " 92.07472986824712,\n",
              " 362.69670714885933,\n",
              " 112.41846294731204,\n",
              " 485.02558680212644,\n",
              " 241.15238386376348,\n",
              " 438.6787982654255,\n",
              " 8.632026533359749,\n",
              " 315.9248536022574,\n",
              " 60.728183973463956,\n",
              " -213.14555471346353,\n",
              " -108.8176687770499,\n",
              " 464.6744562951426,\n",
              " -331.04336064835707,\n",
              " 569.1664575408765,\n",
              " -236.23169760078326,\n",
              " 490.145640184727,\n",
              " -654.4363204012541,\n",
              " 616.4262165868934,\n",
              " 51.03419221079548,\n",
              " 654.2190330080871,\n",
              " 727.8870691472832,\n",
              " 396.3689866959669,\n",
              " -569.7939638497758,\n",
              " 17.76629147358335,\n",
              " 77.2583378975412]"
            ]
          },
          "metadata": {
            "tags": []
          },
          "execution_count": 1122
        }
      ]
    },
    {
      "cell_type": "code",
      "metadata": {
        "id": "tzGIKXaYBBUM",
        "colab_type": "code",
        "colab": {
          "base_uri": "https://localhost:8080/",
          "height": 34
        },
        "outputId": "9c23bd04-24f9-4778-d4d3-1138b790f554"
      },
      "source": [
        "a=weektime2[0]\n",
        "share_spx=400000/(15*SPY.loc[a,'Adj Close'])\n",
        "share_spx"
      ],
      "execution_count": 1123,
      "outputs": [
        {
          "output_type": "execute_result",
          "data": {
            "text/plain": [
              "14.077366714452406"
            ]
          },
          "metadata": {
            "tags": []
          },
          "execution_count": 1123
        }
      ]
    },
    {
      "cell_type": "code",
      "metadata": {
        "id": "4c3_zh4BBBSV",
        "colab_type": "code",
        "colab": {
          "base_uri": "https://localhost:8080/",
          "height": 884
        },
        "outputId": "f1018492-6136-44ad-ee9e-17d890093fb2"
      },
      "source": [
        "spx_loss=[]\n",
        "for i in range(len(spx_option)-1):\n",
        "  loss=100*(spx_option[i+1]-spx_option[i])\n",
        "  spx_loss.append(-loss)\n",
        "spx_loss"
      ],
      "execution_count": 1124,
      "outputs": [
        {
          "output_type": "execute_result",
          "data": {
            "text/plain": [
              "[-10471.745779214416,\n",
              " 828.8358856648074,\n",
              " -518.4160380305912,\n",
              " 4530.021770456619,\n",
              " -4667.0190314207275,\n",
              " -1768.4346175578185,\n",
              " 6717.914781373202,\n",
              " -75.37793927963321,\n",
              " 2064.4539808104355,\n",
              " 4908.151983458515,\n",
              " 821.9097252949041,\n",
              " -1500.8741727968072,\n",
              " 649.2833058958922,\n",
              " 380.615674778187,\n",
              " -435.0326950778481,\n",
              " -2069.943142023749,\n",
              " 1867.402020088366,\n",
              " -247.00651096616184,\n",
              " -27.41068752748106,\n",
              " -5371.347598609282,\n",
              " -8889.904931899058,\n",
              " -2928.854385326258,\n",
              " 2263.31896385218,\n",
              " 2891.3623918750773,\n",
              " -5535.088668956405,\n",
              " 6955.190235050827,\n",
              " 283.4157387111645,\n",
              " 5180.74691846914,\n",
              " 335.3242940827158,\n",
              " 3317.361545397489,\n",
              " 740.7737292882985,\n",
              " 2079.9394283281345,\n",
              " 307.78502402918093,\n",
              " 1042.8900177571677,\n",
              " 1186.1234284870307,\n",
              " -332.5163490788327,\n",
              " -2745.999237795354,\n",
              " 1110.693881599218,\n",
              " -1117.715479746903,\n",
              " 2961.4276988646225,\n",
              " 578.3757303932362,\n",
              " 953.8138825964438,\n",
              " -2278.544677074626,\n",
              " 956.667198679429,\n",
              " -833.1613530467848,\n",
              " 1828.238873365376,\n",
              " 1499.0084386412177,\n",
              " 176.38482084873033,\n",
              " 3.393832972955124,\n",
              " 13.792181039929119,\n",
              " 34.075231934924766]"
            ]
          },
          "metadata": {
            "tags": []
          },
          "execution_count": 1124
        }
      ]
    },
    {
      "cell_type": "code",
      "metadata": {
        "id": "1MvLHbW7BBO2",
        "colab_type": "code",
        "colab": {
          "base_uri": "https://localhost:8080/",
          "height": 34
        },
        "outputId": "835802e6-24a0-4ef9-a684-1916b91eb843"
      },
      "source": [
        "a=weektime2[0]\n",
        "share_meli=400000/(15*MELI.loc[a,'Adj Close'])\n",
        "share_meli"
      ],
      "execution_count": 1125,
      "outputs": [
        {
          "output_type": "execute_result",
          "data": {
            "text/plain": [
              "236.16290947111744"
            ]
          },
          "metadata": {
            "tags": []
          },
          "execution_count": 1125
        }
      ]
    },
    {
      "cell_type": "code",
      "metadata": {
        "id": "VpDvmLz-BBMf",
        "colab_type": "code",
        "colab": {
          "base_uri": "https://localhost:8080/",
          "height": 884
        },
        "outputId": "98088c22-f094-4870-e0d1-da53f3d0f05e"
      },
      "source": [
        "meli_loss=[]\n",
        "for i in range(len(meli_option)-1):\n",
        "  loss=300*(meli_option[i+1]-meli_option[i])\n",
        "  meli_loss.append(-loss)\n",
        "meli_loss"
      ],
      "execution_count": 1126,
      "outputs": [
        {
          "output_type": "execute_result",
          "data": {
            "text/plain": [
              "[918.8135036358644,\n",
              " -413.1744855528815,\n",
              " 204.79201295364965,\n",
              " -79.71651007888418,\n",
              " 905.8653768677785,\n",
              " 32.87484424998386,\n",
              " -73.53249400063663,\n",
              " 87.40848854339909,\n",
              " -87.30630224229029,\n",
              " -41.833124395465674,\n",
              " -491.3178073950464,\n",
              " -1411.6002590051467,\n",
              " -147.83459822644005,\n",
              " -874.2455894601158,\n",
              " 344.1867257891502,\n",
              " 1253.531234979203,\n",
              " 54.38447806102573,\n",
              " 356.20460315309754,\n",
              " -43.54727237049474,\n",
              " 658.5430458041777,\n",
              " 339.52329663540775,\n",
              " 108.07958692395125,\n",
              " -8.69148724480322,\n",
              " 33.822222922113724,\n",
              " 48.5495376327437,\n",
              " -78.70309707491066,\n",
              " -108.04425168748696,\n",
              " -92.38844605613536,\n",
              " -297.5287078922758,\n",
              " -185.63641606374617,\n",
              " 151.93567641579406,\n",
              " -541.5445213714726,\n",
              " -204.54164572322568,\n",
              " -979.1542970093907,\n",
              " -850.3275458206559,\n",
              " 815.8677494650349,\n",
              " 349.01376360732286,\n",
              " -1124.2308583437066,\n",
              " -668.7880937860982,\n",
              " -376.78116490021836,\n",
              " -616.9689126243156,\n",
              " -169.91014535471294,\n",
              " 916.3559650314824,\n",
              " -734.5659351664267,\n",
              " -758.8764820271692,\n",
              " -204.2331600266138,\n",
              " -2852.611976664751,\n",
              " -923.4324605923334,\n",
              " 292.73805499128684,\n",
              " 38.705101280969245,\n",
              " -5482.779537917334]"
            ]
          },
          "metadata": {
            "tags": []
          },
          "execution_count": 1126
        }
      ]
    },
    {
      "cell_type": "code",
      "metadata": {
        "id": "efQJGwp3BBKr",
        "colab_type": "code",
        "colab": {
          "base_uri": "https://localhost:8080/",
          "height": 34
        },
        "outputId": "b3b431bb-4c7a-4df0-f721-cf36f21b2910"
      },
      "source": [
        "stress_loss=np.sum([meli_loss,spx_loss,mmm_loss,bond_loss,stock_loss], axis = 0)\n",
        "stress_loss\n",
        "stress_loss.sort()\n",
        "len(stress_loss)"
      ],
      "execution_count": 1127,
      "outputs": [
        {
          "output_type": "execute_result",
          "data": {
            "text/plain": [
              "51"
            ]
          },
          "metadata": {
            "tags": []
          },
          "execution_count": 1127
        }
      ]
    },
    {
      "cell_type": "markdown",
      "metadata": {
        "id": "EuMHacLsKuvM",
        "colab_type": "text"
      },
      "source": [
        "# **绘制pdf**"
      ]
    },
    {
      "cell_type": "code",
      "metadata": {
        "id": "nkJJg39JHWEw",
        "colab_type": "code",
        "colab": {
          "base_uri": "https://localhost:8080/",
          "height": 394
        },
        "outputId": "6b636a26-b4ca-4f67-fbcc-b2348e97ac9b"
      },
      "source": [
        "sns.set_style(\"darkgrid\")\n",
        "plt.figure(figsize=(8,4),dpi=100)  \n",
        "sns.distplot(stress_loss,hist=True, kde=True, rug=False,norm_hist = True,\n",
        "kde_kws={'linestyle':'--'}, \n",
        "label='stress loss')"
      ],
      "execution_count": 1128,
      "outputs": [
        {
          "output_type": "execute_result",
          "data": {
            "text/plain": [
              "<matplotlib.axes._subplots.AxesSubplot at 0x7f46a14e3630>"
            ]
          },
          "metadata": {
            "tags": []
          },
          "execution_count": 1128
        },
        {
          "output_type": "display_data",
          "data": {
            "image/png": "[encoded data removed]",
            "text/plain": [
              "<Figure size 800x400 with 1 Axes>"
            ]
          },
          "metadata": {
            "tags": []
          }
        }
      ]
    },
    {
      "cell_type": "markdown",
      "metadata": {
        "id": "FUyASX8fKnFp",
        "colab_type": "text"
      },
      "source": [
        "# **设定10bins来绘制histogram**"
      ]
    },
    {
      "cell_type": "code",
      "metadata": {
        "id": "ecbR-x9EJg9q",
        "colab_type": "code",
        "colab": {
          "base_uri": "https://localhost:8080/",
          "height": 379
        },
        "outputId": "f0102d3b-eb33-4d38-ea8f-84943134a1a8"
      },
      "source": [
        "sns.set_style(\"darkgrid\")\n",
        "plt.figure(figsize=(8,4),dpi=100)  \n",
        "sns.distplot(stress_loss, bins=10,hist=True, kde=False, rug=False,norm_hist = False,\n",
        "kde_kws={'linestyle':'--'}, \n",
        "label='stress loss')"
      ],
      "execution_count": 1129,
      "outputs": [
        {
          "output_type": "execute_result",
          "data": {
            "text/plain": [
              "<matplotlib.axes._subplots.AxesSubplot at 0x7f46a0e70128>"
            ]
          },
          "metadata": {
            "tags": []
          },
          "execution_count": 1129
        },
        {
          "output_type": "display_data",
          "data": {
            "image/png": "[encoded data removed]",
            "text/plain": [
              "<Figure size 800x400 with 1 Axes>"
            ]
          },
          "metadata": {
            "tags": []
          }
        }
      ]
    },
    {
      "cell_type": "markdown",
      "metadata": {
        "id": "dbn2BZYeVM4q",
        "colab_type": "text"
      },
      "source": [
        "# **绘制empirical loss distribution**"
      ]
    },
    {
      "cell_type": "code",
      "metadata": {
        "id": "-hPOPHTzPl2H",
        "colab_type": "code",
        "colab": {
          "base_uri": "https://localhost:8080/",
          "height": 379
        },
        "outputId": "5d6d5e03-d6f4-40fd-e50c-58574c95fb94"
      },
      "source": [
        "plt.figure(figsize=(10,4),dpi=100) \n",
        "length=51\n",
        "x=np.linspace(-43000,36000,8000)\n",
        "y=[]\n",
        "for i in range(8000):\n",
        "  m=x[i]\n",
        "  function=[0]*(length+1)\n",
        "  if m<stress_loss[0]:\n",
        "    function[0]=0\n",
        "  if m>=stress_loss[(length-1)]:\n",
        "    function[length]=1\n",
        "  for j in range((length-1)):\n",
        "    if m>=stress_loss[j] and m<stress_loss[j+1]:\n",
        "      function[j+1]=(1+j)/length\n",
        "  b=0\n",
        "  for n in range((length+1)):\n",
        "    b+=function[n]\n",
        "  y.append(b)\n",
        "plt.plot(x,y)"
      ],
      "execution_count": 1130,
      "outputs": [
        {
          "output_type": "execute_result",
          "data": {
            "text/plain": [
              "[<matplotlib.lines.Line2D at 0x7f46a1034da0>]"
            ]
          },
          "metadata": {
            "tags": []
          },
          "execution_count": 1130
        },
        {
          "output_type": "display_data",
          "data": {
            "image/png": "[encoded data removed]",
            "text/plain": [
              "<Figure size 1000x400 with 1 Axes>"
            ]
          },
          "metadata": {
            "tags": []
          }
        }
      ]
    },
    {
      "cell_type": "markdown",
      "metadata": {
        "id": "by9gHcFQUkhm",
        "colab_type": "text"
      },
      "source": [
        "# **因为python实现不了断点，所以在每一段端点python绘图都连上了，实际情况在每一段端点处应断开，每一段都取左端点不取右端点，写report的时候注明。**"
      ]
    },
    {
      "cell_type": "code",
      "metadata": {
        "id": "bghcKzi1BBEX",
        "colab_type": "code",
        "colab": {
          "base_uri": "https://localhost:8080/",
          "height": 34
        },
        "outputId": "943a6fd3-cb27-4ab2-f426-ea97f8b0bd6a"
      },
      "source": [
        "0.99*52"
      ],
      "execution_count": 1131,
      "outputs": [
        {
          "output_type": "execute_result",
          "data": {
            "text/plain": [
              "51.48"
            ]
          },
          "metadata": {
            "tags": []
          },
          "execution_count": 1131
        }
      ]
    },
    {
      "cell_type": "code",
      "metadata": {
        "id": "k3q_25qFBBBA",
        "colab_type": "code",
        "colab": {
          "base_uri": "https://localhost:8080/",
          "height": 34
        },
        "outputId": "6fc3d47b-f717-4cd7-9e06-ab6028b39ed9"
      },
      "source": [
        "0.95*52"
      ],
      "execution_count": 1132,
      "outputs": [
        {
          "output_type": "execute_result",
          "data": {
            "text/plain": [
              "49.4"
            ]
          },
          "metadata": {
            "tags": []
          },
          "execution_count": 1132
        }
      ]
    },
    {
      "cell_type": "markdown",
      "metadata": {
        "id": "9QjZTgWsCPTj",
        "colab_type": "text"
      },
      "source": [
        "**SVAR0.99 = 34804.56**\n",
        "\n",
        "**SVAR0.95 = 16540.53**"
      ]
    },
    {
      "cell_type": "markdown",
      "metadata": {
        "id": "SD5BZS7bXl3F",
        "colab_type": "text"
      },
      "source": [
        "# **Now we compute stress test of the current market disaster to compare with the scenarios.**"
      ]
    },
    {
      "cell_type": "code",
      "metadata": {
        "id": "0Qh9jze2XkuR",
        "colab_type": "code",
        "colab": {
          "base_uri": "https://localhost:8080/",
          "height": 34
        },
        "outputId": "95a1f731-fb66-4ed0-9df3-c17329cabb0f"
      },
      "source": [
        "B30= drd.get_data_yahoo('^TYX','05/06/2019','05/06/2020',interval='d')\n",
        "tradingdays2=B30.index\n",
        "tradingdays2\n",
        "len(tradingdays2)"
      ],
      "execution_count": 1133,
      "outputs": [
        {
          "output_type": "execute_result",
          "data": {
            "text/plain": [
              "251"
            ]
          },
          "metadata": {
            "tags": []
          },
          "execution_count": 1133
        }
      ]
    },
    {
      "cell_type": "code",
      "metadata": {
        "id": "37YSgBA8XkpO",
        "colab_type": "code",
        "colab": {
          "base_uri": "https://localhost:8080/",
          "height": 51
        },
        "outputId": "986051db-3aef-4945-fc00-99f653b970d2"
      },
      "source": [
        "weektime2=[]\n",
        "for i in tradingdays2:\n",
        "  if i.weekday() == 2:\n",
        "    weektime2.append(i)\n",
        "len(weektime2)\n",
        "nan_list=[]\n",
        "nan_index=[]\n",
        "for i in range(49):\n",
        "  if weektime2[i+1]-weektime2[i] != pd.Timedelta('7 days'):\n",
        "    nan_list.append(weektime2[i])\n",
        "    nan_index.append(i)\n",
        "\n",
        "\n",
        "#weektime: wednesday date list\n",
        "#weektime[-1]\n",
        "print(nan_index)\n",
        "print(nan_list)"
      ],
      "execution_count": 1134,
      "outputs": [
        {
          "output_type": "stream",
          "text": [
            "[7, 31]\n",
            "[Timestamp('2019-06-26 00:00:00'), Timestamp('2019-12-18 00:00:00')]\n"
          ],
          "name": "stdout"
        }
      ]
    },
    {
      "cell_type": "code",
      "metadata": {
        "id": "LBqvUTdsXkjj",
        "colab_type": "code",
        "colab": {
          "base_uri": "https://localhost:8080/",
          "height": 34
        },
        "outputId": "3e37a0a5-a488-4872-949e-c38cd7a24bc3"
      },
      "source": [
        "p1=pd.Timestamp(2019,7,2)\n",
        "p2=pd.Timestamp(2019,12,23)\n",
        "p3=pd.Timestamp(2019,12,31)\n",
        "weektime2.insert(8,p1)\n",
        "weektime2.insert(33,p2)\n",
        "weektime2.insert(34,p3)\n",
        "len(weektime2)"
      ],
      "execution_count": 1135,
      "outputs": [
        {
          "output_type": "execute_result",
          "data": {
            "text/plain": [
              "53"
            ]
          },
          "metadata": {
            "tags": []
          },
          "execution_count": 1135
        }
      ]
    },
    {
      "cell_type": "code",
      "metadata": {
        "id": "USnbRZx2lo5x",
        "colab_type": "code",
        "colab": {
          "base_uri": "https://localhost:8080/",
          "height": 918
        },
        "outputId": "aac1f210-7750-43a1-d72f-bf118dea27fb"
      },
      "source": [
        "weektime2"
      ],
      "execution_count": 1136,
      "outputs": [
        {
          "output_type": "execute_result",
          "data": {
            "text/plain": [
              "[Timestamp('2019-05-08 00:00:00'),\n",
              " Timestamp('2019-05-15 00:00:00'),\n",
              " Timestamp('2019-05-22 00:00:00'),\n",
              " Timestamp('2019-05-29 00:00:00'),\n",
              " Timestamp('2019-06-05 00:00:00'),\n",
              " Timestamp('2019-06-12 00:00:00'),\n",
              " Timestamp('2019-06-19 00:00:00'),\n",
              " Timestamp('2019-06-26 00:00:00'),\n",
              " Timestamp('2019-07-02 00:00:00'),\n",
              " Timestamp('2019-07-10 00:00:00'),\n",
              " Timestamp('2019-07-17 00:00:00'),\n",
              " Timestamp('2019-07-24 00:00:00'),\n",
              " Timestamp('2019-07-31 00:00:00'),\n",
              " Timestamp('2019-08-07 00:00:00'),\n",
              " Timestamp('2019-08-14 00:00:00'),\n",
              " Timestamp('2019-08-21 00:00:00'),\n",
              " Timestamp('2019-08-28 00:00:00'),\n",
              " Timestamp('2019-09-04 00:00:00'),\n",
              " Timestamp('2019-09-11 00:00:00'),\n",
              " Timestamp('2019-09-18 00:00:00'),\n",
              " Timestamp('2019-09-25 00:00:00'),\n",
              " Timestamp('2019-10-02 00:00:00'),\n",
              " Timestamp('2019-10-09 00:00:00'),\n",
              " Timestamp('2019-10-16 00:00:00'),\n",
              " Timestamp('2019-10-23 00:00:00'),\n",
              " Timestamp('2019-10-30 00:00:00'),\n",
              " Timestamp('2019-11-06 00:00:00'),\n",
              " Timestamp('2019-11-13 00:00:00'),\n",
              " Timestamp('2019-11-20 00:00:00'),\n",
              " Timestamp('2019-11-27 00:00:00'),\n",
              " Timestamp('2019-12-04 00:00:00'),\n",
              " Timestamp('2019-12-11 00:00:00'),\n",
              " Timestamp('2019-12-18 00:00:00'),\n",
              " Timestamp('2019-12-23 00:00:00'),\n",
              " Timestamp('2019-12-31 00:00:00'),\n",
              " Timestamp('2020-01-08 00:00:00'),\n",
              " Timestamp('2020-01-15 00:00:00'),\n",
              " Timestamp('2020-01-22 00:00:00'),\n",
              " Timestamp('2020-01-29 00:00:00'),\n",
              " Timestamp('2020-02-05 00:00:00'),\n",
              " Timestamp('2020-02-12 00:00:00'),\n",
              " Timestamp('2020-02-19 00:00:00'),\n",
              " Timestamp('2020-02-26 00:00:00'),\n",
              " Timestamp('2020-03-04 00:00:00'),\n",
              " Timestamp('2020-03-11 00:00:00'),\n",
              " Timestamp('2020-03-18 00:00:00'),\n",
              " Timestamp('2020-03-25 00:00:00'),\n",
              " Timestamp('2020-04-01 00:00:00'),\n",
              " Timestamp('2020-04-08 00:00:00'),\n",
              " Timestamp('2020-04-15 00:00:00'),\n",
              " Timestamp('2020-04-22 00:00:00'),\n",
              " Timestamp('2020-04-29 00:00:00'),\n",
              " Timestamp('2020-05-06 00:00:00')]"
            ]
          },
          "metadata": {
            "tags": []
          },
          "execution_count": 1136
        }
      ]
    },
    {
      "cell_type": "code",
      "metadata": {
        "id": "KrXTofv0XkhG",
        "colab_type": "code",
        "colab": {}
      },
      "source": [
        "AAPL= drd.get_data_yahoo('AAPL','05/06/2019','05/06/2020',interval='d')\n",
        "TSLA= drd.get_data_yahoo('TSLA','05/06/2019','05/06/2020',interval='d')\n",
        "GILD= drd.get_data_yahoo('GILD','05/06/2019','05/06/2020',interval='d')\n",
        "MELI= drd.get_data_yahoo('MELI','05/06/2019','05/06/2020',interval='d')\n",
        "MSFT= drd.get_data_yahoo('MSFT','05/06/2019','05/06/2020',interval='d')\n",
        "DIS= drd.get_data_yahoo('DIS','05/06/2019','05/06/2020',interval='d')\n",
        "NVDA= drd.get_data_yahoo('NVDA','05/06/2019','05/06/2020',interval='d')\n",
        "TCO= drd.get_data_yahoo('TCO','05/06/2019','05/06/2020',interval='d')\n",
        "MMM= drd.get_data_yahoo('MMM','05/06/2019','05/06/2020',interval='d')\n",
        "INCY= drd.get_data_yahoo('INCY','05/06/2019','05/06/2020',interval='d')\n",
        "IBM= drd.get_data_yahoo('IBM','05/06/2019','05/06/2020',interval='d')\n",
        "EPC= drd.get_data_yahoo('EPC','05/06/2019','05/06/2020',interval='d')\n",
        "SPY= drd.get_data_yahoo('SPY','05/06/2019','05/06/2020',interval='d')\n",
        "YELP= drd.get_data_yahoo('YELP','05/06/2019','05/06/2020',interval='d')\n",
        "VTI= drd.get_data_yahoo('VTI','05/06/2019','05/06/2020',interval='d')"
      ],
      "execution_count": 0,
      "outputs": []
    },
    {
      "cell_type": "code",
      "metadata": {
        "id": "4eWm73TeXkeu",
        "colab_type": "code",
        "colab": {}
      },
      "source": [
        "stock_list=[AAPL,TSLA,GILD,MELI,MSFT,DIS,NVDA,TCO,MMM,INCY,IBM,EPC,SPY,YELP,VTI]\n",
        "index_list=['AAPL','TSLA','GILD','MELI','MSFT','DIS','NVDA','TCO','MMM','INCY','IBM','EPC','SPY','YELP','VTI']\n",
        "\n",
        "from datetime import date\n",
        "total_num=len(tradingdays2)\n",
        "date_list2=[]\n",
        "for i in range(total_num-1):\n",
        "  if tradingdays2[i].day > tradingdays2[i+1].day:\n",
        "    date_list2.append(tradingdays2[i])\n",
        "\n",
        "def new_portfolio():\n",
        "    res = pd.DataFrame(columns=['Share', 'Adj Close'],index=pd.Series(index_list))\n",
        "    return res\n",
        "\n",
        "my_port = new_portfolio()\n",
        "update_list=[]\n",
        "\n",
        "for j in range(len(date_list2)):\n",
        "  b=date_list2[j]\n",
        "  my_port=new_portfolio()\n",
        "  for i in range(len(index_list)):\n",
        "    a=index_list[i]\n",
        "    my_port.loc[a,'Adj Close']=stock_list[i].loc[b,'Adj Close']\n",
        "  update_list.append(my_port)\n",
        "\n",
        "for i in range(len(index_list)):\n",
        "    a=index_list[i]\n",
        "    update_list[0].loc[a,'Share']=(400000/15)/update_list[0].loc[a,'Adj Close']\n",
        "\n",
        "def total_value(portfolio1,portfolio2):\n",
        "  res=0\n",
        "  for i in range(len(index_list)):\n",
        "    a=index_list[i]\n",
        "    res+=portfolio1.loc[a,'Share']*portfolio2.loc[a,'Adj Close']\n",
        "  return res\n",
        "\n",
        "for i in range(len(update_list)-1):\n",
        "  to_value=total_value(update_list[i],update_list[i+1])\n",
        "  for j in range(len(index_list)):\n",
        "    a=index_list[j]\n",
        "    update_list[i+1].loc[a,'Share']=(to_value/15)/update_list[i+1].loc[a,'Adj Close']"
      ],
      "execution_count": 0,
      "outputs": []
    },
    {
      "cell_type": "code",
      "metadata": {
        "id": "6H2VNipNXkaL",
        "colab_type": "code",
        "colab": {}
      },
      "source": [
        "week_stock2=[] #所有Wednesday的portfolio\n",
        "\n",
        "for j in range(len(weektime2)):\n",
        "  b=weektime2[j]\n",
        "  my_port=new_portfolio()\n",
        "  for i in range(len(index_list)):\n",
        "    a=index_list[i]\n",
        "    my_port.loc[a]['Adj Close']=stock_list[i].loc[b]['Adj Close']\n",
        "  week_stock2.append(my_port)\n",
        "week_stock2\n",
        "\n",
        "m=0\n",
        "for i in range(len(week_stock2)):\n",
        "  if weektime2[i].month <= date_list2[m].month:\n",
        "    for j in range(len(index_list)):\n",
        "      a=index_list[j]\n",
        "      week_stock2[i].loc[a]['Share']=update_list[m+1].loc[a]['Share']\n",
        "  else:\n",
        "    m+=1\n",
        "    for j in range(len(index_list)):\n",
        "      a=index_list[j]\n",
        "      week_stock2[i].loc[a]['Share']=update_list[m+1].loc[a]['Share']"
      ],
      "execution_count": 0,
      "outputs": []
    },
    {
      "cell_type": "code",
      "metadata": {
        "id": "5DBthRCRXkVs",
        "colab_type": "code",
        "colab": {
          "base_uri": "https://localhost:8080/",
          "height": 34
        },
        "outputId": "9d716f4a-6672-415c-a15c-6a9a294c7d36"
      },
      "source": [
        "len(week_stock2)"
      ],
      "execution_count": 1140,
      "outputs": [
        {
          "output_type": "execute_result",
          "data": {
            "text/plain": [
              "53"
            ]
          },
          "metadata": {
            "tags": []
          },
          "execution_count": 1140
        }
      ]
    },
    {
      "cell_type": "code",
      "metadata": {
        "id": "QJVvm418XkTy",
        "colab_type": "code",
        "colab": {}
      },
      "source": [
        "for j in range(len(week_stock2)):\n",
        "  v=0\n",
        "  for i in range(len(index_list)):\n",
        "    a=index_list[i]\n",
        "    v+=week_stock2[j].loc[a,'Adj Close']*week_stock2[j].loc[a,'Share']\n",
        "  stock_value.append(v)\n"
      ],
      "execution_count": 0,
      "outputs": []
    },
    {
      "cell_type": "code",
      "metadata": {
        "id": "ZbbIvr2RXkO9",
        "colab_type": "code",
        "colab": {}
      },
      "source": [
        "stock_loss=[]\n",
        "for i in range(52):\n",
        "  a=stock_value[i+1]-stock_value[i]\n",
        "  stock_loss.append(-a)"
      ],
      "execution_count": 0,
      "outputs": []
    },
    {
      "cell_type": "code",
      "metadata": {
        "id": "gMRw-PCNXj_4",
        "colab_type": "code",
        "colab": {
          "base_uri": "https://localhost:8080/",
          "height": 901
        },
        "outputId": "4837e902-9ecb-4396-e32f-2217bb19253f"
      },
      "source": [
        "stock_loss"
      ],
      "execution_count": 1143,
      "outputs": [
        {
          "output_type": "execute_result",
          "data": {
            "text/plain": [
              "[26909.739074867044,\n",
              " -12112.154403672263,\n",
              " 3140.3714221300907,\n",
              " -15082.182201119955,\n",
              " 18446.807068374357,\n",
              " 5776.264999270323,\n",
              " -14164.339551328681,\n",
              " 3895.9510562858777,\n",
              " -4655.967937213136,\n",
              " -17234.50387136842,\n",
              " -6984.513322661107,\n",
              " 4378.605329992541,\n",
              " -6948.778489029908,\n",
              " -6885.379041238222,\n",
              " -4199.803271856916,\n",
              " 9494.310443336086,\n",
              " -4666.984390139987,\n",
              " 6222.841121778183,\n",
              " -1559.1737050380907,\n",
              " 20269.95538096543,\n",
              " 31925.696244513034,\n",
              " 12868.673080077278,\n",
              " -2156.978880024748,\n",
              " 183.3207466721069,\n",
              " 20659.66789231263,\n",
              " -21176.355889559316,\n",
              " -8550.648674973869,\n",
              " -12350.640295460063,\n",
              " -800.2868333293591,\n",
              " -6961.988439881476,\n",
              " -1125.851406067086,\n",
              " -9379.259067853971,\n",
              " -12266.650834345783,\n",
              " -2214.3853237766307,\n",
              " -1061.8406917097163,\n",
              " 5336.929371458245,\n",
              " 16019.994351083296,\n",
              " -6559.401756082661,\n",
              " -6244.994457445748,\n",
              " -12905.327954094508,\n",
              " -3902.894025369431,\n",
              " -4887.0384089203435,\n",
              " 9899.906193107949,\n",
              " -1712.483755259891,\n",
              " -1185.3545238093939,\n",
              " -8916.495358468615,\n",
              " -14258.27338664612,\n",
              " -7365.252851403609,\n",
              " -1254.274493358098,\n",
              " -1779.672032841714,\n",
              " -12983.489630667144,\n",
              " 24781.201057865343]"
            ]
          },
          "metadata": {
            "tags": []
          },
          "execution_count": 1143
        }
      ]
    },
    {
      "cell_type": "code",
      "metadata": {
        "id": "Gqui1IF2Xj9E",
        "colab_type": "code",
        "colab": {
          "base_uri": "https://localhost:8080/",
          "height": 34
        },
        "outputId": "0a431e48-b751-49c1-f59e-07c26ae50567"
      },
      "source": [
        "bond30= drd.get_data_yahoo('^TYX','05/06/2019','05/06/2020',interval='d')\n",
        "\n",
        "for i in range(len(tradingdays2)):\n",
        "  a=tradingdays2[i]\n",
        "  b=bond30.loc[a,'Adj Close']\n",
        "  bond30.loc[a,'Adj Close']=b*0.01\n",
        "\n",
        "week_bond=[]\n",
        "for i in range(len(weektime2)):\n",
        "  a=weektime2[i]\n",
        "  b=bond30.loc[a,'Adj Close']\n",
        "  week_bond.append(b)\n",
        "\n",
        "a=27\n",
        "maturity_list=[a,]\n",
        "for i in range(len(weektime2)-1):\n",
        "  a=a-7/365\n",
        "  maturity_list.append(a)\n",
        "\n",
        "bond_price=[]\n",
        "for i in range(len(weektime2)):\n",
        "  a=np.exp(-maturity_list[i]*week_bond[i])\n",
        "  bond_price.append(a)\n",
        "\n",
        "len(bond_price)"
      ],
      "execution_count": 1144,
      "outputs": [
        {
          "output_type": "execute_result",
          "data": {
            "text/plain": [
              "53"
            ]
          },
          "metadata": {
            "tags": []
          },
          "execution_count": 1144
        }
      ]
    },
    {
      "cell_type": "code",
      "metadata": {
        "id": "EuRWIOK4o5T-",
        "colab_type": "code",
        "colab": {
          "base_uri": "https://localhost:8080/",
          "height": 34
        },
        "outputId": "1859b60b-b2a8-48d2-9faa-fcd205cb9b3a"
      },
      "source": [
        "a=25+(23+30+31+15)/365\n",
        "#2019.5.8---2047.8.15\n",
        "maturity_list2=[a,]\n",
        "for i in range(len(weektime2)-1):\n",
        "  a=a-7/365\n",
        "  maturity_list2.append(a)\n",
        "bond_price2=[]\n",
        "for i in range(len(weektime2)):\n",
        "  a=np.exp(-maturity_list2[i]*week_bond[i])\n",
        "  bond_price2.append(a)\n",
        "len(bond_price2)\n",
        "\n",
        "a=28+(23+30+31+15)/365\n",
        "#2019.5.8---2047.8.15\n",
        "maturity_list1=[a,]\n",
        "for i in range(len(weektime2)-1):\n",
        "  a=a-7/365\n",
        "  maturity_list1.append(a)\n",
        "bond_price1=[]\n",
        "for i in range(len(weektime2)):\n",
        "  a=np.exp(-maturity_list1[i]*week_bond[i])\n",
        "  bond_price1.append(a)\n",
        "len(bond_price1)"
      ],
      "execution_count": 1145,
      "outputs": [
        {
          "output_type": "execute_result",
          "data": {
            "text/plain": [
              "53"
            ]
          },
          "metadata": {
            "tags": []
          },
          "execution_count": 1145
        }
      ]
    },
    {
      "cell_type": "code",
      "metadata": {
        "id": "QjLeZzfXXj1L",
        "colab_type": "code",
        "colab": {}
      },
      "source": [
        "bond10=bond_price1[:20]+[0.57639,0.59218,0.59413,0.57203,0.56817,0.56815,0.55983,0.55275,0.57484,0.57900,0.57290,0.57439,0.55673,0.55915,0.55142,0.55145,0.57239,0.572375,0.598495,0.584175,0.592505,0.604465,0.63292,0.64429,0.68259,0.62449,0.694705,0.73483,0.71203,0.732635,0.73774,0.72552,0.70000]"
      ],
      "execution_count": 0,
      "outputs": []
    },
    {
      "cell_type": "code",
      "metadata": {
        "id": "4_Kl-GNwXjsp",
        "colab_type": "code",
        "colab": {}
      },
      "source": [
        "bond30=bond_price2[:20]+[0.53646,0.55261,0.55369,0.53157,0.52788,0.52883,0.52192,0.51420,0.53706,0.54177,0.53544,0.53640,0.51922,0.52123,0.51292,0.51662,0.536425,0.537195,0.564690,0.548540,0.556420,0.569590,0.598885,0.613025,0.654810,0.586930,0.657060,0.702030,0.676945,0.698375,0.70697,0.69806,0.66928]"
      ],
      "execution_count": 0,
      "outputs": []
    },
    {
      "cell_type": "code",
      "metadata": {
        "id": "ObstixsQXjqm",
        "colab_type": "code",
        "colab": {
          "base_uri": "https://localhost:8080/",
          "height": 901
        },
        "outputId": "37d3ce64-2bcd-4522-d838-0c572630673b"
      },
      "source": [
        "bondshare10=300000/bond10[0]\n",
        "bondshare30=300000/bond30[0]\n",
        "bond_loss=[]\n",
        "for i in range(len(weektime2)-1):\n",
        "  a=bondshare10*(bond10[i+1]-bond10[i])+bondshare30*(bond30[i+1]-bond30[i])\n",
        "  bond_loss.append(-a)\n",
        "bond_loss"
      ],
      "execution_count": 1148,
      "outputs": [
        {
          "output_type": "execute_result",
          "data": {
            "text/plain": [
              "[-11026.635878759764,\n",
              " -1148.6382448804209,\n",
              " -24524.743751962007,\n",
              " -7166.369098428921,\n",
              " -2046.2829508732066,\n",
              " -14785.886462257844,\n",
              " 4066.613668296838,\n",
              " -10547.159613932823,\n",
              " 10949.241042780623,\n",
              " 25.34615153542901,\n",
              " 547.6658419761324,\n",
              " -9266.532764635933,\n",
              " -61198.50305958977,\n",
              " -34209.24078563218,\n",
              " 5328.168042835805,\n",
              " -23655.53224425482,\n",
              " 3412.5879495329473,\n",
              " 49706.00853700149,\n",
              " 5042.815480556648,\n",
              " -4827.358482719104,\n",
              " -20775.152038543543,\n",
              " -1996.3243100680943,\n",
              " 28776.07613723391,\n",
              " 4918.034688790082,\n",
              " -577.8699015954134,\n",
              " 9950.824165039783,\n",
              " 9613.221741662925,\n",
              " -29229.994168172863,\n",
              " -5756.747046962482,\n",
              " 8082.473855787452,\n",
              " -1609.3008365583028,\n",
              " 22686.031960487715,\n",
              " -2894.4251270501813,\n",
              " 10421.85604036157,\n",
              " -2323.9056597730137,\n",
              " -26547.2340285901,\n",
              " -469.2006416988317,\n",
              " -34851.7851948148,\n",
              " 19777.104632728784,\n",
              " -10561.513934257706,\n",
              " -16319.515803404323,\n",
              " -37557.75878892794,\n",
              " -16522.83928453458,\n",
              " -52017.955617404165,\n",
              " 81707.20718575461,\n",
              " -91333.41122310594,\n",
              " -55239.937927003906,\n",
              " 31097.27957126894,\n",
              " -27331.47655005394,\n",
              " -8817.063163337636,\n",
              " 13843.86035943026,\n",
              " 35244.43120099714]"
            ]
          },
          "metadata": {
            "tags": []
          },
          "execution_count": 1148
        }
      ]
    },
    {
      "cell_type": "code",
      "metadata": {
        "id": "rR-xk9yzXjnR",
        "colab_type": "code",
        "colab": {}
      },
      "source": [
        "libor2019=[0.02363,0.02349,0.02355,0.02356,0.02345,0.02350,0.02341,0.02354,0.02356,0.02355,0.02363,0.02352,0.02352,0.02099,0.02092,0.02093,0.02087,0.02091,0.02095,0.02185,0.01841,0.01851,0.01790,0.01823,0.01814,0.01804,0.01537,0.01539,0.01529,0.01540,0.01529,0.01525,0.01534,0.01533,0.01543,0.01533,0.01528,0.01533,0.01530,0.01575,0.01574,0.01577,0.01571,0.01088,0.01084,0.00380,0.00201,0.00109,0.00072,0.00066,0.00064,0.00055,0.00060]"
      ],
      "execution_count": 0,
      "outputs": []
    },
    {
      "cell_type": "code",
      "metadata": {
        "id": "Px7qDiTsXjlO",
        "colab_type": "code",
        "colab": {
          "base_uri": "https://localhost:8080/",
          "height": 34
        },
        "outputId": "6b13ff00-5e08-493a-c666-c0c7ae8c8027"
      },
      "source": [
        "len(libor2019)"
      ],
      "execution_count": 1150,
      "outputs": [
        {
          "output_type": "execute_result",
          "data": {
            "text/plain": [
              "53"
            ]
          },
          "metadata": {
            "tags": []
          },
          "execution_count": 1150
        }
      ]
    },
    {
      "cell_type": "code",
      "metadata": {
        "id": "p8A4li7KXjjG",
        "colab_type": "code",
        "colab": {}
      },
      "source": [
        "def vol_finder(sigma,weektime):\n",
        "  len(sigma)\n",
        "  tradingdays3=sigma.index\n",
        "  vol=[]\n",
        "  for i in range(len(weektime)):\n",
        "    a=list(tradingdays3).index(weektime[i])\n",
        "    b=np.log(np.array(sigma[:a]['Adj Close'])).std()\n",
        "    vol.append(b)\n",
        "  return vol\n",
        "  \n",
        "def option_finder(stock,libor,vol,k,maturity,weektime,otype):\n",
        "  option=[]\n",
        "  for i in range(len(weektime)):\n",
        "    a=weektime[i]\n",
        "    d1 = (np.log(stock.loc[a,'Adj Close'] / k) + (libor[i] + 0.5 * vol[i] ** 2) * maturity[i]) / (vol[i] * np.sqrt(maturity[i]))\n",
        "    d2 = d1 - vol[i] * np.sqrt(maturity[i])\n",
        "    price=(otype * stock.loc[a,'Adj Close'] * ss.norm.cdf(otype * d1) - otype * np.exp(-libor[i] * maturity[i]) * k * ss.norm.cdf(otype * d2))\n",
        "    option.append(price)\n",
        "  return option"
      ],
      "execution_count": 0,
      "outputs": []
    },
    {
      "cell_type": "code",
      "metadata": {
        "id": "hnJZC3zqXjhI",
        "colab_type": "code",
        "colab": {
          "base_uri": "https://localhost:8080/",
          "height": 34
        },
        "outputId": "24604dc6-74f9-4469-a1a3-b96ef5551f43"
      },
      "source": [
        "mmm_sigma=drd.get_data_yahoo('MMM','01/03/2018','05/06/2020',interval='d')\n",
        "mmm_vol=vol_finder(mmm_sigma,weektime2)\n",
        "spx_sigma=drd.get_data_yahoo('SPY','01/03/2018','05/06/2020',interval='d')\n",
        "spx_vol=vol_finder(spx_sigma,weektime2)\n",
        "meli_sigma=drd.get_data_yahoo('MELI','01/03/2018','05/06/2020',interval='d')\n",
        "meli_vol=vol_finder(meli_sigma,weektime2)\n",
        "len(meli_vol)"
      ],
      "execution_count": 1152,
      "outputs": [
        {
          "output_type": "execute_result",
          "data": {
            "text/plain": [
              "53"
            ]
          },
          "metadata": {
            "tags": []
          },
          "execution_count": 1152
        }
      ]
    },
    {
      "cell_type": "code",
      "metadata": {
        "id": "vPJsY2xQXjc6",
        "colab_type": "code",
        "colab": {
          "base_uri": "https://localhost:8080/",
          "height": 450
        },
        "outputId": "5bff5e90-a8aa-4fea-aac3-1cdd8d25a20f"
      },
      "source": [
        "for i in range(len(tradingdays2)):\n",
        "  a=tradingdays2[i]\n",
        "  b=SPY.loc[a,'Adj Close']\n",
        "  SPY.loc[a,'Adj Close']=b*10\n",
        "SPY"
      ],
      "execution_count": 1153,
      "outputs": [
        {
          "output_type": "execute_result",
          "data": {
            "text/html": [
              "<div>\n",
              "<style scoped>\n",
              "    .dataframe tbody tr th:only-of-type {\n",
              "        vertical-align: middle;\n",
              "    }\n",
              "\n",
              "    .dataframe tbody tr th {\n",
              "        vertical-align: top;\n",
              "    }\n",
              "\n",
              "    .dataframe thead th {\n",
              "        text-align: right;\n",
              "    }\n",
              "</style>\n",
              "<table border=\"1\" class=\"dataframe\">\n",
              "  <thead>\n",
              "    <tr style=\"text-align: right;\">\n",
              "      <th></th>\n",
              "      <th>High</th>\n",
              "      <th>Low</th>\n",
              "      <th>Open</th>\n",
              "      <th>Close</th>\n",
              "      <th>Volume</th>\n",
              "      <th>Adj Close</th>\n",
              "    </tr>\n",
              "    <tr>\n",
              "      <th>Date</th>\n",
              "      <th></th>\n",
              "      <th></th>\n",
              "      <th></th>\n",
              "      <th></th>\n",
              "      <th></th>\n",
              "      <th></th>\n",
              "    </tr>\n",
              "  </thead>\n",
              "  <tbody>\n",
              "    <tr>\n",
              "      <th>2019-05-06</th>\n",
              "      <td>293.309998</td>\n",
              "      <td>288.899994</td>\n",
              "      <td>289.250000</td>\n",
              "      <td>292.820007</td>\n",
              "      <td>107198100.0</td>\n",
              "      <td>2869.566956</td>\n",
              "    </tr>\n",
              "    <tr>\n",
              "      <th>2019-05-07</th>\n",
              "      <td>290.809998</td>\n",
              "      <td>285.809998</td>\n",
              "      <td>290.149994</td>\n",
              "      <td>287.929993</td>\n",
              "      <td>144729900.0</td>\n",
              "      <td>2821.646118</td>\n",
              "    </tr>\n",
              "    <tr>\n",
              "      <th>2019-05-08</th>\n",
              "      <td>289.429993</td>\n",
              "      <td>286.869995</td>\n",
              "      <td>287.529999</td>\n",
              "      <td>287.529999</td>\n",
              "      <td>91568300.0</td>\n",
              "      <td>2817.725830</td>\n",
              "    </tr>\n",
              "    <tr>\n",
              "      <th>2019-05-09</th>\n",
              "      <td>287.329987</td>\n",
              "      <td>283.299988</td>\n",
              "      <td>285.230011</td>\n",
              "      <td>286.660004</td>\n",
              "      <td>103471100.0</td>\n",
              "      <td>2809.200439</td>\n",
              "    </tr>\n",
              "    <tr>\n",
              "      <th>2019-05-10</th>\n",
              "      <td>288.940002</td>\n",
              "      <td>282.299988</td>\n",
              "      <td>285.619995</td>\n",
              "      <td>288.100006</td>\n",
              "      <td>112429300.0</td>\n",
              "      <td>2823.312073</td>\n",
              "    </tr>\n",
              "    <tr>\n",
              "      <th>...</th>\n",
              "      <td>...</td>\n",
              "      <td>...</td>\n",
              "      <td>...</td>\n",
              "      <td>...</td>\n",
              "      <td>...</td>\n",
              "      <td>...</td>\n",
              "    </tr>\n",
              "    <tr>\n",
              "      <th>2020-04-30</th>\n",
              "      <td>293.320007</td>\n",
              "      <td>288.589996</td>\n",
              "      <td>291.709991</td>\n",
              "      <td>290.480011</td>\n",
              "      <td>122901700.0</td>\n",
              "      <td>2904.800110</td>\n",
              "    </tr>\n",
              "    <tr>\n",
              "      <th>2020-05-01</th>\n",
              "      <td>290.660004</td>\n",
              "      <td>281.519989</td>\n",
              "      <td>285.309998</td>\n",
              "      <td>282.790009</td>\n",
              "      <td>125180000.0</td>\n",
              "      <td>2827.900085</td>\n",
              "    </tr>\n",
              "    <tr>\n",
              "      <th>2020-05-04</th>\n",
              "      <td>283.899994</td>\n",
              "      <td>279.130005</td>\n",
              "      <td>280.739990</td>\n",
              "      <td>283.570007</td>\n",
              "      <td>80873200.0</td>\n",
              "      <td>2835.700073</td>\n",
              "    </tr>\n",
              "    <tr>\n",
              "      <th>2020-05-05</th>\n",
              "      <td>289.250000</td>\n",
              "      <td>283.709991</td>\n",
              "      <td>286.640015</td>\n",
              "      <td>286.190002</td>\n",
              "      <td>79569900.0</td>\n",
              "      <td>2861.900024</td>\n",
              "    </tr>\n",
              "    <tr>\n",
              "      <th>2020-05-06</th>\n",
              "      <td>288.459991</td>\n",
              "      <td>283.779999</td>\n",
              "      <td>288.040009</td>\n",
              "      <td>284.250000</td>\n",
              "      <td>73632600.0</td>\n",
              "      <td>2842.500000</td>\n",
              "    </tr>\n",
              "  </tbody>\n",
              "</table>\n",
              "<p>254 rows × 6 columns</p>\n",
              "</div>"
            ],
            "text/plain": [
              "                  High         Low  ...       Volume    Adj Close\n",
              "Date                                ...                          \n",
              "2019-05-06  293.309998  288.899994  ...  107198100.0  2869.566956\n",
              "2019-05-07  290.809998  285.809998  ...  144729900.0  2821.646118\n",
              "2019-05-08  289.429993  286.869995  ...   91568300.0  2817.725830\n",
              "2019-05-09  287.329987  283.299988  ...  103471100.0  2809.200439\n",
              "2019-05-10  288.940002  282.299988  ...  112429300.0  2823.312073\n",
              "...                ...         ...  ...          ...          ...\n",
              "2020-04-30  293.320007  288.589996  ...  122901700.0  2904.800110\n",
              "2020-05-01  290.660004  281.519989  ...  125180000.0  2827.900085\n",
              "2020-05-04  283.899994  279.130005  ...   80873200.0  2835.700073\n",
              "2020-05-05  289.250000  283.709991  ...   79569900.0  2861.900024\n",
              "2020-05-06  288.459991  283.779999  ...   73632600.0  2842.500000\n",
              "\n",
              "[254 rows x 6 columns]"
            ]
          },
          "metadata": {
            "tags": []
          },
          "execution_count": 1153
        }
      ]
    },
    {
      "cell_type": "code",
      "metadata": {
        "id": "lfUm0Jk3XjaV",
        "colab_type": "code",
        "colab": {
          "base_uri": "https://localhost:8080/",
          "height": 34
        },
        "outputId": "b33ca9d1-b03a-426f-cb74-e8d60dda7f5a"
      },
      "source": [
        "a=23+30+31+31+30+31+30+31+31+29+31+30+31+30+17\n",
        "#2019.5.8---2020.7.17\n",
        "maturity1=[a/365,]\n",
        "for i in range(len(weektime2)-1):\n",
        "  a=a-7\n",
        "  maturity1.append(a/365)\n",
        "\n",
        "a=23+30+31+31+30+31+30+31+31+29+31+30+14\n",
        "#2019.5.8---2020.5.14\n",
        "maturity2=[a/365,]\n",
        "for i in range(len(weektime2)-1):\n",
        "  a=a-7\n",
        "  maturity2.append(a/365)\n",
        "\n",
        "a=23+30+31+31+30+31+30+31+31+29+31+30+31+19\n",
        "#2019.5.8---2020.6.19\n",
        "maturity3=[a/365,]\n",
        "for i in range(len(weektime2)-1):\n",
        "  a=a-7\n",
        "  maturity3.append(a/365)\n",
        "\n",
        "len(maturity3)"
      ],
      "execution_count": 1154,
      "outputs": [
        {
          "output_type": "execute_result",
          "data": {
            "text/plain": [
              "53"
            ]
          },
          "metadata": {
            "tags": []
          },
          "execution_count": 1154
        }
      ]
    },
    {
      "cell_type": "code",
      "metadata": {
        "id": "qe-2AW2gwll9",
        "colab_type": "code",
        "colab": {
          "base_uri": "https://localhost:8080/",
          "height": 34
        },
        "outputId": "cb86a40e-36ba-4d07-9a01-0c0b2757e08a"
      },
      "source": [
        "len(weektime2)"
      ],
      "execution_count": 1155,
      "outputs": [
        {
          "output_type": "execute_result",
          "data": {
            "text/plain": [
              "53"
            ]
          },
          "metadata": {
            "tags": []
          },
          "execution_count": 1155
        }
      ]
    },
    {
      "cell_type": "code",
      "metadata": {
        "id": "UQVN7g-vXjX_",
        "colab_type": "code",
        "colab": {}
      },
      "source": [
        "import scipy.stats as ss\n",
        "mmm_option=option_finder(MMM,libor2019,mmm_vol,160,maturity1,weektime2,1)\n",
        "spx_option=option_finder(SPY,libor2019,spx_vol,2800,maturity2,weektime2,-1)\n",
        "meli_option=option_finder(MELI,libor2019,meli_vol,550,maturity3,weektime2,1)"
      ],
      "execution_count": 0,
      "outputs": []
    },
    {
      "cell_type": "code",
      "metadata": {
        "id": "0tC-X3zNXjQq",
        "colab_type": "code",
        "colab": {
          "base_uri": "https://localhost:8080/",
          "height": 34
        },
        "outputId": "f5c3001a-6fe7-4693-c0b1-153dc66d1f44"
      },
      "source": [
        "a=weektime2[0]\n",
        "share_mmm=400000/(15*MMM.loc[a,'Adj Close'])\n",
        "share_mmm"
      ],
      "execution_count": 1157,
      "outputs": [
        {
          "output_type": "execute_result",
          "data": {
            "text/plain": [
              "154.67723936200125"
            ]
          },
          "metadata": {
            "tags": []
          },
          "execution_count": 1157
        }
      ]
    },
    {
      "cell_type": "code",
      "metadata": {
        "id": "HVIjeZIjXjNm",
        "colab_type": "code",
        "colab": {}
      },
      "source": [
        "mmm_loss=[]\n",
        "for i in range(len(mmm_option)-1):\n",
        "  loss=200*(mmm_option[i+1]-mmm_option[i])\n",
        "  mmm_loss.append(loss)"
      ],
      "execution_count": 0,
      "outputs": []
    },
    {
      "cell_type": "code",
      "metadata": {
        "id": "aDh8EIrgXjL0",
        "colab_type": "code",
        "colab": {
          "base_uri": "https://localhost:8080/",
          "height": 34
        },
        "outputId": "647ae1b4-ef85-4148-8252-4704d018ce61"
      },
      "source": [
        "a=weektime2[0]\n",
        "share_spx=400000/(15*SPY.loc[a,'Adj Close'])\n",
        "share_spx"
      ],
      "execution_count": 1159,
      "outputs": [
        {
          "output_type": "execute_result",
          "data": {
            "text/plain": [
              "9.463896871019314"
            ]
          },
          "metadata": {
            "tags": []
          },
          "execution_count": 1159
        }
      ]
    },
    {
      "cell_type": "code",
      "metadata": {
        "id": "DJE2YVxcXjJl",
        "colab_type": "code",
        "colab": {}
      },
      "source": [
        "spx_loss=[]\n",
        "for i in range(len(spx_option)-1):\n",
        "  loss=100*(spx_option[i+1]-spx_option[i])\n",
        "  spx_loss.append(-loss)"
      ],
      "execution_count": 0,
      "outputs": []
    },
    {
      "cell_type": "code",
      "metadata": {
        "id": "xkKwrh4kXjFr",
        "colab_type": "code",
        "colab": {
          "base_uri": "https://localhost:8080/",
          "height": 34
        },
        "outputId": "d8034ec7-3345-4088-9111-e1f89e41d512"
      },
      "source": [
        "a=weektime2[0]\n",
        "share_meli=400000/(15*MELI.loc[a,'Adj Close'])\n",
        "share_meli"
      ],
      "execution_count": 1161,
      "outputs": [
        {
          "output_type": "execute_result",
          "data": {
            "text/plain": [
              "49.74567546191857"
            ]
          },
          "metadata": {
            "tags": []
          },
          "execution_count": 1161
        }
      ]
    },
    {
      "cell_type": "code",
      "metadata": {
        "id": "Ej4ZGz-vXjDQ",
        "colab_type": "code",
        "colab": {
          "base_uri": "https://localhost:8080/",
          "height": 34
        },
        "outputId": "4db55831-6c7b-4f43-de5e-53e29ea51118"
      },
      "source": [
        "meli_loss=[]\n",
        "for i in range(len(meli_option)-1):\n",
        "  loss=100*(meli_option[i+1]-meli_option[i])\n",
        "  meli_loss.append(-loss)\n",
        "len(meli_loss)"
      ],
      "execution_count": 1162,
      "outputs": [
        {
          "output_type": "execute_result",
          "data": {
            "text/plain": [
              "52"
            ]
          },
          "metadata": {
            "tags": []
          },
          "execution_count": 1162
        }
      ]
    },
    {
      "cell_type": "code",
      "metadata": {
        "id": "WElGB4DkXi_6",
        "colab_type": "code",
        "colab": {
          "base_uri": "https://localhost:8080/",
          "height": 238
        },
        "outputId": "5875d522-0245-404d-f814-75dd3f8c5847"
      },
      "source": [
        "stress_loss=np.sum([meli_loss,spx_loss,mmm_loss,bond_loss,stock_loss], axis = 0)\n",
        "stress_loss\n",
        "stress_loss.sort()\n",
        "stress_loss"
      ],
      "execution_count": 1163,
      "outputs": [
        {
          "output_type": "execute_result",
          "data": {
            "text/plain": [
              "array([-92517.12078737, -70415.16521585, -69684.95607023, -54072.4462018 ,\n",
              "       -44366.17103988, -43579.85458324, -43278.87834584, -32893.09532302,\n",
              "       -28327.05849941, -25520.03832684, -25485.89780696, -24680.31800691,\n",
              "       -23589.52624037, -19660.5299372 , -15877.86816335, -14345.74713459,\n",
              "       -13684.74127771, -12028.83998087, -10341.90136628,  -9604.22244896,\n",
              "        -8448.5116386 ,  -8125.33970516,  -7881.4685094 ,  -7615.23977276,\n",
              "        -7283.56419822,  -7211.91365634,  -7074.06741992,  -2796.61727935,\n",
              "        -2777.64885706,   -543.45842067,   -296.50123891,   1588.94506581,\n",
              "         2758.00491761,   3805.42373414,   4520.74439628,   4577.99432016,\n",
              "         6464.39428595,   9386.96382116,   9640.84279714,  11871.42436288,\n",
              "        12092.96168025,  12941.13841493,  13293.3590413 ,  14405.93411707,\n",
              "        14523.9794941 ,  14981.32878233,  19648.10145163,  27323.14491326,\n",
              "        46119.45556904,  48773.52828372,  50074.84017381,  59248.12799021])"
            ]
          },
          "metadata": {
            "tags": []
          },
          "execution_count": 1163
        }
      ]
    },
    {
      "cell_type": "code",
      "metadata": {
        "id": "tYi-_f4H0gY3",
        "colab_type": "code",
        "colab": {
          "base_uri": "https://localhost:8080/",
          "height": 394
        },
        "outputId": "09bccb4e-f37a-486c-ea0d-9fd76f8e363f"
      },
      "source": [
        "sns.set_style(\"darkgrid\")\n",
        "plt.figure(figsize=(8,4),dpi=100)  \n",
        "sns.distplot(stress_loss,hist=True, kde=True, rug=False,norm_hist = True,\n",
        "kde_kws={'linestyle':'--'}, \n",
        "label='stress loss')"
      ],
      "execution_count": 1164,
      "outputs": [
        {
          "output_type": "execute_result",
          "data": {
            "text/plain": [
              "<matplotlib.axes._subplots.AxesSubplot at 0x7f46a1485390>"
            ]
          },
          "metadata": {
            "tags": []
          },
          "execution_count": 1164
        },
        {
          "output_type": "display_data",
          "data": {
            "image/png": "[encoded data removed]",
            "text/plain": [
              "<Figure size 800x400 with 1 Axes>"
            ]
          },
          "metadata": {
            "tags": []
          }
        }
      ]
    },
    {
      "cell_type": "code",
      "metadata": {
        "id": "27xKoXtW0gWP",
        "colab_type": "code",
        "colab": {
          "base_uri": "https://localhost:8080/",
          "height": 379
        },
        "outputId": "a4475415-2d6e-44c0-ee54-cea1ddf8412d"
      },
      "source": [
        "sns.set_style(\"darkgrid\")\n",
        "plt.figure(figsize=(8,4),dpi=100)  \n",
        "sns.distplot(stress_loss, bins=10,hist=True, kde=False, rug=False,norm_hist = False,\n",
        "kde_kws={'linestyle':'--'}, \n",
        "label='stress loss')"
      ],
      "execution_count": 1165,
      "outputs": [
        {
          "output_type": "execute_result",
          "data": {
            "text/plain": [
              "<matplotlib.axes._subplots.AxesSubplot at 0x7f46a13a8f60>"
            ]
          },
          "metadata": {
            "tags": []
          },
          "execution_count": 1165
        },
        {
          "output_type": "display_data",
          "data": {
            "image/png": "[encoded data removed]",
            "text/plain": [
              "<Figure size 800x400 with 1 Axes>"
            ]
          },
          "metadata": {
            "tags": []
          }
        }
      ]
    },
    {
      "cell_type": "code",
      "metadata": {
        "id": "x4ZsmWLC0gTa",
        "colab_type": "code",
        "colab": {
          "base_uri": "https://localhost:8080/",
          "height": 379
        },
        "outputId": "f06b0a4e-105a-4604-b0b7-e849647871c5"
      },
      "source": [
        "\n",
        "plt.figure(figsize=(10,4),dpi=100) \n",
        "length=len(stress_loss)\n",
        "x=np.linspace(-43000,36000,8000)\n",
        "y=[]\n",
        "for i in range(8000):\n",
        "  m=x[i]\n",
        "  function=[0]*(length+1)\n",
        "  if m<stress_loss[0]:\n",
        "    function[0]=0\n",
        "  if m>=stress_loss[(length-1)]:\n",
        "    function[length]=1\n",
        "  for j in range((length-1)):\n",
        "    if m>=stress_loss[j] and m<stress_loss[j+1]:\n",
        "      function[j+1]=(1+j)/length\n",
        "  b=0\n",
        "  for n in range((length+1)):\n",
        "    b+=function[n]\n",
        "  y.append(b)\n",
        "plt.plot(x,y)"
      ],
      "execution_count": 1166,
      "outputs": [
        {
          "output_type": "execute_result",
          "data": {
            "text/plain": [
              "[<matplotlib.lines.Line2D at 0x7f46a11c5b38>]"
            ]
          },
          "metadata": {
            "tags": []
          },
          "execution_count": 1166
        },
        {
          "output_type": "display_data",
          "data": {
            "image/png": "[encoded data removed]",
            "text/plain": [
              "<Figure size 1000x400 with 1 Axes>"
            ]
          },
          "metadata": {
            "tags": []
          }
        }
      ]
    },
    {
      "cell_type": "code",
      "metadata": {
        "id": "GV53XsGgXi8G",
        "colab_type": "code",
        "colab": {
          "base_uri": "https://localhost:8080/",
          "height": 34
        },
        "outputId": "5fb3ff1f-ea17-4c7e-8254-e6f82e1c53e9"
      },
      "source": [
        "52*0.99"
      ],
      "execution_count": 1167,
      "outputs": [
        {
          "output_type": "execute_result",
          "data": {
            "text/plain": [
              "51.48"
            ]
          },
          "metadata": {
            "tags": []
          },
          "execution_count": 1167
        }
      ]
    },
    {
      "cell_type": "code",
      "metadata": {
        "id": "DuDIQ49MXi3v",
        "colab_type": "code",
        "colab": {
          "base_uri": "https://localhost:8080/",
          "height": 34
        },
        "outputId": "3f9e4b6c-a6f3-4f12-9f71-0b000ce9a489"
      },
      "source": [
        "52*0.95"
      ],
      "execution_count": 1168,
      "outputs": [
        {
          "output_type": "execute_result",
          "data": {
            "text/plain": [
              "49.4"
            ]
          },
          "metadata": {
            "tags": []
          },
          "execution_count": 1168
        }
      ]
    },
    {
      "cell_type": "markdown",
      "metadata": {
        "id": "bzWlL61x0Mpb",
        "colab_type": "text"
      },
      "source": [
        " **SVAR0.99=59248.12**\n",
        "\n",
        " **SVAR0.95=48773.52**"
      ]
    },
    {
      "cell_type": "markdown",
      "metadata": {
        "id": "x2xrguHJ1TAj",
        "colab_type": "text"
      },
      "source": [
        "# **Compare all three conditions above and give your own conclusion.**"
      ]
    },
    {
      "cell_type": "markdown",
      "metadata": {
        "id": "290LZ4FabQuy",
        "colab_type": "text"
      },
      "source": [
        "# **Now we work on 3.reduce risk**"
      ]
    },
    {
      "cell_type": "code",
      "metadata": {
        "id": "eoWfqIftOvna",
        "colab_type": "code",
        "colab": {}
      },
      "source": [
        ""
      ],
      "execution_count": 0,
      "outputs": []
    },
    {
      "cell_type": "code",
      "metadata": {
        "id": "9H6PLo0SOvjX",
        "colab_type": "code",
        "colab": {}
      },
      "source": [
        ""
      ],
      "execution_count": 0,
      "outputs": []
    },
    {
      "cell_type": "code",
      "metadata": {
        "id": "46WMnlzLOvg-",
        "colab_type": "code",
        "colab": {}
      },
      "source": [
        ""
      ],
      "execution_count": 0,
      "outputs": []
    },
    {
      "cell_type": "code",
      "metadata": {
        "id": "dOhrNNiOOvec",
        "colab_type": "code",
        "colab": {}
      },
      "source": [
        ""
      ],
      "execution_count": 0,
      "outputs": []
    },
    {
      "cell_type": "code",
      "metadata": {
        "id": "3rjHDCOKOvcG",
        "colab_type": "code",
        "colab": {
          "base_uri": "https://localhost:8080/",
          "height": 34
        },
        "outputId": "f48c2836-27f4-40a6-eaca-e98b68326ebc"
      },
      "source": [
        "m=-45000\n",
        "if m<stress_loss[0]:\n",
        "  a=0 \n",
        "a"
      ],
      "execution_count": 1169,
      "outputs": [
        {
          "output_type": "execute_result",
          "data": {
            "text/plain": [
              "Timestamp('2019-05-08 00:00:00')"
            ]
          },
          "metadata": {
            "tags": []
          },
          "execution_count": 1169
        }
      ]
    },
    {
      "cell_type": "code",
      "metadata": {
        "id": "tVDRrAD9OvZL",
        "colab_type": "code",
        "colab": {}
      },
      "source": [
        ""
      ],
      "execution_count": 0,
      "outputs": []
    },
    {
      "cell_type": "code",
      "metadata": {
        "id": "sRENdMoTOvW7",
        "colab_type": "code",
        "colab": {}
      },
      "source": [
        ""
      ],
      "execution_count": 0,
      "outputs": []
    },
    {
      "cell_type": "code",
      "metadata": {
        "id": "Hd7sE7hFOvUq",
        "colab_type": "code",
        "colab": {}
      },
      "source": [
        ""
      ],
      "execution_count": 0,
      "outputs": []
    },
    {
      "cell_type": "code",
      "metadata": {
        "id": "I01MrgV6OvRE",
        "colab_type": "code",
        "colab": {}
      },
      "source": [
        ""
      ],
      "execution_count": 0,
      "outputs": []
    },
    {
      "cell_type": "code",
      "metadata": {
        "id": "YoO383yi0aM2",
        "colab_type": "code",
        "colab": {}
      },
      "source": [
        "spx_delta1=delta_finder(spx,spx_maturity1,2885,libor_list2,spx_sigma1)\n",
        "meli_delta1=[i+1 for i in delta_finder(meli,meli_maturity1,640,libor_list2,meli_sigma1)]\n",
        "mmm_delta1=[i+1 for i in delta_finder(mmm,mmm_maturity1,130,libor_list2,mmm_sigma1)]"
      ],
      "execution_count": 0,
      "outputs": []
    },
    {
      "cell_type": "code",
      "metadata": {
        "id": "XMvo3Zg50aLP",
        "colab_type": "code",
        "colab": {}
      },
      "source": [
        "meli_delta1=[i+1 for i in delta_finder(meli,meli_maturity1,640,libor_list2,meli_sigma1)]"
      ],
      "execution_count": 0,
      "outputs": []
    },
    {
      "cell_type": "code",
      "metadata": {
        "id": "TXcYTAcc0aJV",
        "colab_type": "code",
        "outputId": "2f33a943-9974-433d-e6f1-55efaae4b073",
        "colab": {
          "base_uri": "https://localhost:8080/",
          "height": 321
        }
      },
      "source": [
        "meli=[MELI.loc[a,'Adj Close'] for a in weektime2]\n",
        "meli_delta=[i+1 for i in delta_finder(meli,maturity,45,libor2008,vol)]\n",
        "meli_delta"
      ],
      "execution_count": 1172,
      "outputs": [
        {
          "output_type": "error",
          "ename": "IndexError",
          "evalue": "ignored",
          "traceback": [
            "\u001b[0;31m---------------------------------------------------------------------------\u001b[0m",
            "\u001b[0;31mIndexError\u001b[0m                                Traceback (most recent call last)",
            "\u001b[0;32m<ipython-input-1172-23eea0364f51>\u001b[0m in \u001b[0;36m<module>\u001b[0;34m()\u001b[0m\n\u001b[1;32m      1\u001b[0m \u001b[0mmeli\u001b[0m\u001b[0;34m=\u001b[0m\u001b[0;34m[\u001b[0m\u001b[0mMELI\u001b[0m\u001b[0;34m.\u001b[0m\u001b[0mloc\u001b[0m\u001b[0;34m[\u001b[0m\u001b[0ma\u001b[0m\u001b[0;34m,\u001b[0m\u001b[0;34m'Adj Close'\u001b[0m\u001b[0;34m]\u001b[0m \u001b[0;32mfor\u001b[0m \u001b[0ma\u001b[0m \u001b[0;32min\u001b[0m \u001b[0mweektime2\u001b[0m\u001b[0;34m]\u001b[0m\u001b[0;34m\u001b[0m\u001b[0;34m\u001b[0m\u001b[0m\n\u001b[0;32m----> 2\u001b[0;31m \u001b[0mmeli_delta\u001b[0m\u001b[0;34m=\u001b[0m\u001b[0;34m[\u001b[0m\u001b[0mi\u001b[0m\u001b[0;34m+\u001b[0m\u001b[0;36m1\u001b[0m \u001b[0;32mfor\u001b[0m \u001b[0mi\u001b[0m \u001b[0;32min\u001b[0m \u001b[0mdelta_finder\u001b[0m\u001b[0;34m(\u001b[0m\u001b[0mmeli\u001b[0m\u001b[0;34m,\u001b[0m\u001b[0mmaturity\u001b[0m\u001b[0;34m,\u001b[0m\u001b[0;36m45\u001b[0m\u001b[0;34m,\u001b[0m\u001b[0mlibor2008\u001b[0m\u001b[0;34m,\u001b[0m\u001b[0mvol\u001b[0m\u001b[0;34m)\u001b[0m\u001b[0;34m]\u001b[0m\u001b[0;34m\u001b[0m\u001b[0;34m\u001b[0m\u001b[0m\n\u001b[0m\u001b[1;32m      3\u001b[0m \u001b[0mmeli_delta\u001b[0m\u001b[0;34m\u001b[0m\u001b[0;34m\u001b[0m\u001b[0m\n",
            "\u001b[0;32m<ipython-input-1028-58db823aa1c6>\u001b[0m in \u001b[0;36mdelta_finder\u001b[0;34m(S, T, K, r, sigma)\u001b[0m\n\u001b[1;32m      4\u001b[0m   \u001b[0mdelta_list\u001b[0m\u001b[0;34m=\u001b[0m\u001b[0;34m[\u001b[0m\u001b[0;34m]\u001b[0m\u001b[0;34m\u001b[0m\u001b[0;34m\u001b[0m\u001b[0m\n\u001b[1;32m      5\u001b[0m   \u001b[0;32mfor\u001b[0m \u001b[0mi\u001b[0m \u001b[0;32min\u001b[0m \u001b[0mrange\u001b[0m\u001b[0;34m(\u001b[0m\u001b[0mn\u001b[0m\u001b[0;34m)\u001b[0m\u001b[0;34m:\u001b[0m\u001b[0;34m\u001b[0m\u001b[0;34m\u001b[0m\u001b[0m\n\u001b[0;32m----> 6\u001b[0;31m     \u001b[0md1\u001b[0m\u001b[0;34m=\u001b[0m \u001b[0;34m(\u001b[0m\u001b[0mnp\u001b[0m\u001b[0;34m.\u001b[0m\u001b[0mlog\u001b[0m\u001b[0;34m(\u001b[0m\u001b[0mS\u001b[0m\u001b[0;34m[\u001b[0m\u001b[0mi\u001b[0m\u001b[0;34m]\u001b[0m \u001b[0;34m/\u001b[0m \u001b[0mK\u001b[0m\u001b[0;34m)\u001b[0m \u001b[0;34m+\u001b[0m \u001b[0;34m(\u001b[0m\u001b[0mr\u001b[0m\u001b[0;34m[\u001b[0m\u001b[0mi\u001b[0m\u001b[0;34m]\u001b[0m \u001b[0;34m+\u001b[0m \u001b[0;36m0.5\u001b[0m \u001b[0;34m*\u001b[0m \u001b[0msigma\u001b[0m\u001b[0;34m[\u001b[0m\u001b[0mi\u001b[0m\u001b[0;34m]\u001b[0m \u001b[0;34m**\u001b[0m \u001b[0;36m2\u001b[0m\u001b[0;34m)\u001b[0m \u001b[0;34m*\u001b[0m \u001b[0mT\u001b[0m\u001b[0;34m[\u001b[0m\u001b[0mi\u001b[0m\u001b[0;34m]\u001b[0m\u001b[0;34m)\u001b[0m \u001b[0;34m/\u001b[0m \u001b[0;34m(\u001b[0m\u001b[0msigma\u001b[0m\u001b[0;34m[\u001b[0m\u001b[0mi\u001b[0m\u001b[0;34m]\u001b[0m \u001b[0;34m*\u001b[0m \u001b[0mnp\u001b[0m\u001b[0;34m.\u001b[0m\u001b[0msqrt\u001b[0m\u001b[0;34m(\u001b[0m\u001b[0mT\u001b[0m\u001b[0;34m[\u001b[0m\u001b[0mi\u001b[0m\u001b[0;34m]\u001b[0m\u001b[0;34m)\u001b[0m\u001b[0;34m)\u001b[0m\u001b[0;34m\u001b[0m\u001b[0;34m\u001b[0m\u001b[0m\n\u001b[0m\u001b[1;32m      7\u001b[0m     \u001b[0mdelta\u001b[0m\u001b[0;34m=\u001b[0m\u001b[0mnorm\u001b[0m\u001b[0;34m.\u001b[0m\u001b[0mcdf\u001b[0m\u001b[0;34m(\u001b[0m\u001b[0md1\u001b[0m\u001b[0;34m)\u001b[0m\u001b[0;34m-\u001b[0m\u001b[0;36m1\u001b[0m\u001b[0;34m\u001b[0m\u001b[0;34m\u001b[0m\u001b[0m\n\u001b[1;32m      8\u001b[0m     \u001b[0mdelta_list\u001b[0m\u001b[0;34m.\u001b[0m\u001b[0mappend\u001b[0m\u001b[0;34m(\u001b[0m\u001b[0mdelta\u001b[0m\u001b[0;34m)\u001b[0m\u001b[0;34m\u001b[0m\u001b[0;34m\u001b[0m\u001b[0m\n",
            "\u001b[0;31mIndexError\u001b[0m: list index out of range"
          ]
        }
      ]
    },
    {
      "cell_type": "code",
      "metadata": {
        "id": "VAKBRu940aFo",
        "colab_type": "code",
        "colab": {}
      },
      "source": [
        "meli_loss=[]\n",
        "for i in range(len(meli)-1):\n",
        "  a=500*meli_delta[i]*(meli[i+1]-meli[i])\n",
        "  meli_loss.append(a)\n",
        "meli_loss"
      ],
      "execution_count": 0,
      "outputs": []
    },
    {
      "cell_type": "code",
      "metadata": {
        "id": "gp2GAGuC0aBc",
        "colab_type": "code",
        "colab": {}
      },
      "source": [
        ""
      ],
      "execution_count": 0,
      "outputs": []
    },
    {
      "cell_type": "code",
      "metadata": {
        "id": "Adv0KRT00Z_m",
        "colab_type": "code",
        "colab": {}
      },
      "source": [
        ""
      ],
      "execution_count": 0,
      "outputs": []
    },
    {
      "cell_type": "code",
      "metadata": {
        "id": "ocdrQ5IH0Z7S",
        "colab_type": "code",
        "colab": {}
      },
      "source": [
        ""
      ],
      "execution_count": 0,
      "outputs": []
    },
    {
      "cell_type": "code",
      "metadata": {
        "id": "9D_SR2oy0Z2K",
        "colab_type": "code",
        "colab": {}
      },
      "source": [
        ""
      ],
      "execution_count": 0,
      "outputs": []
    }
  ]
}