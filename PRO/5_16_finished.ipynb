{
  "nbformat": 4,
  "nbformat_minor": 0,
  "metadata": {
    "colab": {
      "name": "“Untitled28.ipynb”的副本",
      "provenance": [],
      "collapsed_sections": [
        "4EwXVeAFnb6A"
      ],
      "authorship_tag": "ABX9TyPQ2K8ODqsVcHB2PY9GKl0A",
      "include_colab_link": true
    },
    "kernelspec": {
      "name": "python3",
      "display_name": "Python 3"
    }
  },
  "cells": [
    {
      "cell_type": "markdown",
      "metadata": {
        "id": "view-in-github",
        "colab_type": "text"
      },
      "source": [
        "<a href=\"https://colab.research.google.com/github/yimuzy/20s_ma573/blob/master/PRO/5_16_finished.ipynb\" target=\"_parent\"><img src=\"https://colab.research.google.com/assets/colab-badge.svg\" alt=\"Open In Colab\"/></a>"
      ]
    },
    {
      "cell_type": "markdown",
      "metadata": {
        "id": "dj7JBD-dPT-n",
        "colab_type": "text"
      },
      "source": [
        "# **1.a) loss distribution based on multivariate normal distribution**"
      ]
    },
    {
      "cell_type": "code",
      "metadata": {
        "id": "ZkysvLzvcQ1P",
        "colab_type": "code",
        "outputId": "6cc843a5-7868-44aa-ed9b-56366b5f6d55",
        "colab": {
          "base_uri": "https://localhost:8080/",
          "height": 170
        }
      },
      "source": [
        "!pip install yahoo-finance\n",
        "!pip install pandas_market_calendars\n",
        "\n",
        "import pandas as pd\n",
        "import pandas_market_calendars as pmc\n",
        "import pandas_datareader.data as drd\n",
        "import numpy as np\n",
        "import seaborn as sns\n",
        "from pandas_datareader import data as pdr"
      ],
      "execution_count": 667,
      "outputs": [
        {
          "output_type": "stream",
          "text": [
            "Requirement already satisfied: yahoo-finance in /usr/local/lib/python3.6/dist-packages (1.4.0)\n",
            "Requirement already satisfied: pytz in /usr/local/lib/python3.6/dist-packages (from yahoo-finance) (2018.9)\n",
            "Requirement already satisfied: simplejson in /usr/local/lib/python3.6/dist-packages (from yahoo-finance) (3.17.0)\n",
            "Requirement already satisfied: pandas_market_calendars in /usr/local/lib/python3.6/dist-packages (1.3.5)\n",
            "Requirement already satisfied: pandas>=0.18 in /usr/local/lib/python3.6/dist-packages (from pandas_market_calendars) (1.0.3)\n",
            "Requirement already satisfied: python-dateutil in /usr/local/lib/python3.6/dist-packages (from pandas_market_calendars) (2.8.1)\n",
            "Requirement already satisfied: pytz in /usr/local/lib/python3.6/dist-packages (from pandas_market_calendars) (2018.9)\n",
            "Requirement already satisfied: numpy>=1.13.3 in /usr/local/lib/python3.6/dist-packages (from pandas>=0.18->pandas_market_calendars) (1.18.4)\n",
            "Requirement already satisfied: six>=1.5 in /usr/local/lib/python3.6/dist-packages (from python-dateutil->pandas_market_calendars) (1.12.0)\n"
          ],
          "name": "stdout"
        }
      ]
    },
    {
      "cell_type": "code",
      "metadata": {
        "id": "riZ9q7xjcWSG",
        "colab_type": "code",
        "colab": {}
      },
      "source": [
        "AAPL= drd.get_data_yahoo('AAPL','01/01/2012','04/17/2020',interval='d')\n",
        "TSLA= drd.get_data_yahoo('TSLA','01/01/2012','04/17/2020',interval='d')\n",
        "GILD= drd.get_data_yahoo('GILD','01/01/2012','04/17/2020',interval='d')\n",
        "MELI= drd.get_data_yahoo('MELI','01/01/2012','04/17/2020',interval='d')\n",
        "MSFT= drd.get_data_yahoo('MSFT','01/01/2012','04/17/2020',interval='d')\n",
        "DIS= drd.get_data_yahoo('DIS','01/01/2012','04/17/2020',interval='d')\n",
        "NVDA= drd.get_data_yahoo('NVDA','01/01/2012','04/17/2020',interval='d')\n",
        "TCO= drd.get_data_yahoo('TCO','01/01/2012','04/17/2020',interval='d')\n",
        "MMM= drd.get_data_yahoo('MMM','01/01/2012','04/17/2020',interval='d')\n",
        "INCY= drd.get_data_yahoo('INCY','01/01/2012','04/17/2020',interval='d')\n",
        "IBM= drd.get_data_yahoo('IBM','01/01/2012','04/17/2020',interval='d')\n",
        "EPC= drd.get_data_yahoo('EPC','01/01/2012','04/17/2020',interval='d')\n",
        "SPY= drd.get_data_yahoo('SPY','01/01/2012','04/17/2020',interval='d')\n",
        "YELP= drd.get_data_yahoo('VEA','01/01/2012','04/17/2020',interval='d')\n",
        "VTI= drd.get_data_yahoo('VTI','01/01/2012','04/17/2020',interval='d')\n",
        "yelp_1= drd.get_data_yahoo('YELP','01/01/2012','04/17/2020',interval='d')\n",
        "SPY= drd.get_data_yahoo('SPY','01/01/2012','04/17/2020',interval='d')"
      ],
      "execution_count": 0,
      "outputs": []
    },
    {
      "cell_type": "code",
      "metadata": {
        "id": "_uM1EJ5-9GFp",
        "colab_type": "code",
        "outputId": "a011b920-996f-4cae-b28b-6463a83a91ac",
        "colab": {
          "base_uri": "https://localhost:8080/",
          "height": 450
        }
      },
      "source": [
        "SPY"
      ],
      "execution_count": 669,
      "outputs": [
        {
          "output_type": "execute_result",
          "data": {
            "text/html": [
              "<div>\n",
              "<style scoped>\n",
              "    .dataframe tbody tr th:only-of-type {\n",
              "        vertical-align: middle;\n",
              "    }\n",
              "\n",
              "    .dataframe tbody tr th {\n",
              "        vertical-align: top;\n",
              "    }\n",
              "\n",
              "    .dataframe thead th {\n",
              "        text-align: right;\n",
              "    }\n",
              "</style>\n",
              "<table border=\"1\" class=\"dataframe\">\n",
              "  <thead>\n",
              "    <tr style=\"text-align: right;\">\n",
              "      <th></th>\n",
              "      <th>High</th>\n",
              "      <th>Low</th>\n",
              "      <th>Open</th>\n",
              "      <th>Close</th>\n",
              "      <th>Volume</th>\n",
              "      <th>Adj Close</th>\n",
              "    </tr>\n",
              "    <tr>\n",
              "      <th>Date</th>\n",
              "      <th></th>\n",
              "      <th></th>\n",
              "      <th></th>\n",
              "      <th></th>\n",
              "      <th></th>\n",
              "      <th></th>\n",
              "    </tr>\n",
              "  </thead>\n",
              "  <tbody>\n",
              "    <tr>\n",
              "      <th>2012-01-03</th>\n",
              "      <td>128.380005</td>\n",
              "      <td>127.430000</td>\n",
              "      <td>127.760002</td>\n",
              "      <td>127.500000</td>\n",
              "      <td>193697900.0</td>\n",
              "      <td>108.037117</td>\n",
              "    </tr>\n",
              "    <tr>\n",
              "      <th>2012-01-04</th>\n",
              "      <td>127.809998</td>\n",
              "      <td>126.709999</td>\n",
              "      <td>127.199997</td>\n",
              "      <td>127.699997</td>\n",
              "      <td>127186500.0</td>\n",
              "      <td>108.206604</td>\n",
              "    </tr>\n",
              "    <tr>\n",
              "      <th>2012-01-05</th>\n",
              "      <td>128.229996</td>\n",
              "      <td>126.430000</td>\n",
              "      <td>127.010002</td>\n",
              "      <td>128.039993</td>\n",
              "      <td>173895000.0</td>\n",
              "      <td>108.494698</td>\n",
              "    </tr>\n",
              "    <tr>\n",
              "      <th>2012-01-06</th>\n",
              "      <td>128.220001</td>\n",
              "      <td>127.290001</td>\n",
              "      <td>128.199997</td>\n",
              "      <td>127.709999</td>\n",
              "      <td>148050000.0</td>\n",
              "      <td>108.215065</td>\n",
              "    </tr>\n",
              "    <tr>\n",
              "      <th>2012-01-09</th>\n",
              "      <td>128.179993</td>\n",
              "      <td>127.410004</td>\n",
              "      <td>128.000000</td>\n",
              "      <td>128.020004</td>\n",
              "      <td>99530200.0</td>\n",
              "      <td>108.477776</td>\n",
              "    </tr>\n",
              "    <tr>\n",
              "      <th>...</th>\n",
              "      <td>...</td>\n",
              "      <td>...</td>\n",
              "      <td>...</td>\n",
              "      <td>...</td>\n",
              "      <td>...</td>\n",
              "      <td>...</td>\n",
              "    </tr>\n",
              "    <tr>\n",
              "      <th>2020-04-13</th>\n",
              "      <td>277.510010</td>\n",
              "      <td>271.410004</td>\n",
              "      <td>277.140015</td>\n",
              "      <td>275.660004</td>\n",
              "      <td>114839100.0</td>\n",
              "      <td>275.660004</td>\n",
              "    </tr>\n",
              "    <tr>\n",
              "      <th>2020-04-14</th>\n",
              "      <td>284.899994</td>\n",
              "      <td>275.510010</td>\n",
              "      <td>280.980011</td>\n",
              "      <td>283.790009</td>\n",
              "      <td>134143400.0</td>\n",
              "      <td>283.790009</td>\n",
              "    </tr>\n",
              "    <tr>\n",
              "      <th>2020-04-15</th>\n",
              "      <td>283.940002</td>\n",
              "      <td>275.459991</td>\n",
              "      <td>277.570007</td>\n",
              "      <td>277.760010</td>\n",
              "      <td>121775000.0</td>\n",
              "      <td>277.760010</td>\n",
              "    </tr>\n",
              "    <tr>\n",
              "      <th>2020-04-16</th>\n",
              "      <td>280.029999</td>\n",
              "      <td>275.760010</td>\n",
              "      <td>279.149994</td>\n",
              "      <td>279.100006</td>\n",
              "      <td>131798300.0</td>\n",
              "      <td>279.100006</td>\n",
              "    </tr>\n",
              "    <tr>\n",
              "      <th>2020-04-17</th>\n",
              "      <td>287.299988</td>\n",
              "      <td>282.399994</td>\n",
              "      <td>285.380005</td>\n",
              "      <td>286.640015</td>\n",
              "      <td>146684800.0</td>\n",
              "      <td>286.640015</td>\n",
              "    </tr>\n",
              "  </tbody>\n",
              "</table>\n",
              "<p>2086 rows × 6 columns</p>\n",
              "</div>"
            ],
            "text/plain": [
              "                  High         Low  ...       Volume   Adj Close\n",
              "Date                                ...                         \n",
              "2012-01-03  128.380005  127.430000  ...  193697900.0  108.037117\n",
              "2012-01-04  127.809998  126.709999  ...  127186500.0  108.206604\n",
              "2012-01-05  128.229996  126.430000  ...  173895000.0  108.494698\n",
              "2012-01-06  128.220001  127.290001  ...  148050000.0  108.215065\n",
              "2012-01-09  128.179993  127.410004  ...   99530200.0  108.477776\n",
              "...                ...         ...  ...          ...         ...\n",
              "2020-04-13  277.510010  271.410004  ...  114839100.0  275.660004\n",
              "2020-04-14  284.899994  275.510010  ...  134143400.0  283.790009\n",
              "2020-04-15  283.940002  275.459991  ...  121775000.0  277.760010\n",
              "2020-04-16  280.029999  275.760010  ...  131798300.0  279.100006\n",
              "2020-04-17  287.299988  282.399994  ...  146684800.0  286.640015\n",
              "\n",
              "[2086 rows x 6 columns]"
            ]
          },
          "metadata": {
            "tags": []
          },
          "execution_count": 669
        }
      ]
    },
    {
      "cell_type": "code",
      "metadata": {
        "id": "zWeBr9XBcXCW",
        "colab_type": "code",
        "colab": {}
      },
      "source": [
        "import pandas_market_calendars as mcal\n",
        "nyse = mcal.get_calendar('NYSE')\n",
        "tradingdays = nyse.schedule(start_date='2012-01-01', end_date='2020-04-17')\n",
        "tradingdays1=tradingdays.index"
      ],
      "execution_count": 0,
      "outputs": []
    },
    {
      "cell_type": "code",
      "metadata": {
        "id": "oNwt9whucXGq",
        "colab_type": "code",
        "colab": {}
      },
      "source": [
        "nan_date=tradingdays.index[:41]\n",
        "\n",
        "ADD= pd.DataFrame(columns=['High','Low','Open','Close','Volume','Adj Close'],index=nan_date)\n",
        "tickers=['SPY','YELP']\n",
        "port = pdr.get_data_yahoo(tickers, start=\"2012-01-01\", end=\"2020-04-17\")['Adj Close']\n",
        "log_port=np.log(port)"
      ],
      "execution_count": 0,
      "outputs": []
    },
    {
      "cell_type": "code",
      "metadata": {
        "id": "SQlYLrYtDLGM",
        "colab_type": "code",
        "outputId": "40767629-25ef-4c07-e1f6-25ab04765de1",
        "colab": {
          "base_uri": "https://localhost:8080/",
          "height": 450
        }
      },
      "source": [
        "for i in range(41):\n",
        "  time_win=log_port.iloc[41-i:1047-i]['YELP']\n",
        "  log_return=[]\n",
        "  for j in range(1005):\n",
        "    log_return.append(time_win[j+1]-time_win[j])\n",
        "  u=np.mean(log_return)\n",
        "  var=np.var(log_return)\n",
        "  a=np.random.normal(u,var,1)\n",
        "  log_port.iloc[40-i]['YELP']=log_port.iloc[41-i]['YELP']-a\n",
        "yelp_update=np.exp(log_port)\n",
        "\n",
        "for i in range(41):\n",
        "  ADD.iloc[i]['Adj Close']=yelp_update.iloc[i]['YELP']\n",
        "\n",
        "for i in range(2045):\n",
        "  YELP.iloc[i+41]['Adj Close']=yelp_1.iloc[i]['Adj Close'].item()\n",
        "for i in range(41):\n",
        "  YELP.iloc[i]['Adj Close']=ADD.iloc[i]['Adj Close'].item()\n",
        "\n",
        "YELP"
      ],
      "execution_count": 672,
      "outputs": [
        {
          "output_type": "execute_result",
          "data": {
            "text/html": [
              "<div>\n",
              "<style scoped>\n",
              "    .dataframe tbody tr th:only-of-type {\n",
              "        vertical-align: middle;\n",
              "    }\n",
              "\n",
              "    .dataframe tbody tr th {\n",
              "        vertical-align: top;\n",
              "    }\n",
              "\n",
              "    .dataframe thead th {\n",
              "        text-align: right;\n",
              "    }\n",
              "</style>\n",
              "<table border=\"1\" class=\"dataframe\">\n",
              "  <thead>\n",
              "    <tr style=\"text-align: right;\">\n",
              "      <th></th>\n",
              "      <th>High</th>\n",
              "      <th>Low</th>\n",
              "      <th>Open</th>\n",
              "      <th>Close</th>\n",
              "      <th>Volume</th>\n",
              "      <th>Adj Close</th>\n",
              "    </tr>\n",
              "    <tr>\n",
              "      <th>Date</th>\n",
              "      <th></th>\n",
              "      <th></th>\n",
              "      <th></th>\n",
              "      <th></th>\n",
              "      <th></th>\n",
              "      <th></th>\n",
              "    </tr>\n",
              "  </thead>\n",
              "  <tbody>\n",
              "    <tr>\n",
              "      <th>2012-01-03</th>\n",
              "      <td>31.570000</td>\n",
              "      <td>31.250000</td>\n",
              "      <td>31.260000</td>\n",
              "      <td>31.450001</td>\n",
              "      <td>8276700.0</td>\n",
              "      <td>24.399614</td>\n",
              "    </tr>\n",
              "    <tr>\n",
              "      <th>2012-01-04</th>\n",
              "      <td>31.350000</td>\n",
              "      <td>31.070000</td>\n",
              "      <td>31.290001</td>\n",
              "      <td>31.270000</td>\n",
              "      <td>2609200.0</td>\n",
              "      <td>24.356610</td>\n",
              "    </tr>\n",
              "    <tr>\n",
              "      <th>2012-01-05</th>\n",
              "      <td>30.850000</td>\n",
              "      <td>30.590000</td>\n",
              "      <td>30.770000</td>\n",
              "      <td>30.820000</td>\n",
              "      <td>2095900.0</td>\n",
              "      <td>24.345971</td>\n",
              "    </tr>\n",
              "    <tr>\n",
              "      <th>2012-01-06</th>\n",
              "      <td>30.730000</td>\n",
              "      <td>30.330000</td>\n",
              "      <td>30.730000</td>\n",
              "      <td>30.459999</td>\n",
              "      <td>2044000.0</td>\n",
              "      <td>24.346482</td>\n",
              "    </tr>\n",
              "    <tr>\n",
              "      <th>2012-01-09</th>\n",
              "      <td>30.620001</td>\n",
              "      <td>30.320000</td>\n",
              "      <td>30.610001</td>\n",
              "      <td>30.530001</td>\n",
              "      <td>1652200.0</td>\n",
              "      <td>24.395059</td>\n",
              "    </tr>\n",
              "    <tr>\n",
              "      <th>...</th>\n",
              "      <td>...</td>\n",
              "      <td>...</td>\n",
              "      <td>...</td>\n",
              "      <td>...</td>\n",
              "      <td>...</td>\n",
              "      <td>...</td>\n",
              "    </tr>\n",
              "    <tr>\n",
              "      <th>2020-04-13</th>\n",
              "      <td>34.740002</td>\n",
              "      <td>34.200001</td>\n",
              "      <td>34.669998</td>\n",
              "      <td>34.500000</td>\n",
              "      <td>34969000.0</td>\n",
              "      <td>19.139999</td>\n",
              "    </tr>\n",
              "    <tr>\n",
              "      <th>2020-04-14</th>\n",
              "      <td>35.369999</td>\n",
              "      <td>34.970001</td>\n",
              "      <td>35.029999</td>\n",
              "      <td>35.119999</td>\n",
              "      <td>21511100.0</td>\n",
              "      <td>19.510000</td>\n",
              "    </tr>\n",
              "    <tr>\n",
              "      <th>2020-04-15</th>\n",
              "      <td>34.240002</td>\n",
              "      <td>33.869999</td>\n",
              "      <td>34.060001</td>\n",
              "      <td>33.980000</td>\n",
              "      <td>22435900.0</td>\n",
              "      <td>18.590000</td>\n",
              "    </tr>\n",
              "    <tr>\n",
              "      <th>2020-04-16</th>\n",
              "      <td>34.209999</td>\n",
              "      <td>33.700001</td>\n",
              "      <td>34.110001</td>\n",
              "      <td>34.020000</td>\n",
              "      <td>36469000.0</td>\n",
              "      <td>18.340000</td>\n",
              "    </tr>\n",
              "    <tr>\n",
              "      <th>2020-04-17</th>\n",
              "      <td>35.029999</td>\n",
              "      <td>34.580002</td>\n",
              "      <td>34.810001</td>\n",
              "      <td>34.980000</td>\n",
              "      <td>27888500.0</td>\n",
              "      <td>19.700001</td>\n",
              "    </tr>\n",
              "  </tbody>\n",
              "</table>\n",
              "<p>2086 rows × 6 columns</p>\n",
              "</div>"
            ],
            "text/plain": [
              "                 High        Low       Open      Close      Volume  Adj Close\n",
              "Date                                                                         \n",
              "2012-01-03  31.570000  31.250000  31.260000  31.450001   8276700.0  24.399614\n",
              "2012-01-04  31.350000  31.070000  31.290001  31.270000   2609200.0  24.356610\n",
              "2012-01-05  30.850000  30.590000  30.770000  30.820000   2095900.0  24.345971\n",
              "2012-01-06  30.730000  30.330000  30.730000  30.459999   2044000.0  24.346482\n",
              "2012-01-09  30.620001  30.320000  30.610001  30.530001   1652200.0  24.395059\n",
              "...               ...        ...        ...        ...         ...        ...\n",
              "2020-04-13  34.740002  34.200001  34.669998  34.500000  34969000.0  19.139999\n",
              "2020-04-14  35.369999  34.970001  35.029999  35.119999  21511100.0  19.510000\n",
              "2020-04-15  34.240002  33.869999  34.060001  33.980000  22435900.0  18.590000\n",
              "2020-04-16  34.209999  33.700001  34.110001  34.020000  36469000.0  18.340000\n",
              "2020-04-17  35.029999  34.580002  34.810001  34.980000  27888500.0  19.700001\n",
              "\n",
              "[2086 rows x 6 columns]"
            ]
          },
          "metadata": {
            "tags": []
          },
          "execution_count": 672
        }
      ]
    },
    {
      "cell_type": "code",
      "metadata": {
        "id": "rnrUpqaicXJ4",
        "colab_type": "code",
        "outputId": "7aa6827c-05b8-49b9-feab-af69dc59d0c5",
        "colab": {
          "base_uri": "https://localhost:8080/",
          "height": 238
        }
      },
      "source": [
        "stock_list=[AAPL,TSLA,GILD,MELI,MSFT,DIS,NVDA,TCO,MMM,INCY,IBM,EPC,SPY,YELP,VTI]\n",
        "index_list=['AAPL','TSLA','GILD','MELI','MSFT','DIS','NVDA','TCO','MMM','INCY','IBM','EPC','SPY','YELP','VTI']\n",
        "log_price=[]\n",
        "for i in range(15):\n",
        "  stock_log=np.log(stock_list[i]['Adj Close'])\n",
        "  log_price.append(stock_log)\n",
        "log_price[0]"
      ],
      "execution_count": 673,
      "outputs": [
        {
          "output_type": "execute_result",
          "data": {
            "text/plain": [
              "Date\n",
              "2012-01-03    3.929022\n",
              "2012-01-04    3.934382\n",
              "2012-01-05    3.945423\n",
              "2012-01-06    3.955823\n",
              "2012-01-09    3.954235\n",
              "                ...   \n",
              "2020-04-13    5.607684\n",
              "2020-04-14    5.656953\n",
              "2020-04-15    5.647784\n",
              "2020-04-16    5.655698\n",
              "2020-04-17    5.642037\n",
              "Name: Adj Close, Length: 2086, dtype: float64"
            ]
          },
          "metadata": {
            "tags": []
          },
          "execution_count": 673
        }
      ]
    },
    {
      "cell_type": "code",
      "metadata": {
        "id": "qWSHLGVqcXV4",
        "colab_type": "code",
        "outputId": "2c3bead6-596c-483d-f000-c290b8e80ad2",
        "colab": {
          "base_uri": "https://localhost:8080/",
          "height": 34
        }
      },
      "source": [
        "var_list=[]\n",
        "for i in range(15):\n",
        "  a=log_price[i].var()\n",
        "  var_list.append(a)\n",
        "sort_list=var_list.copy()\n",
        "sort_list.sort()\n",
        "choose_list=sort_list[-4:]\n",
        "name_list=[]\n",
        "for i in range(4):\n",
        "  a=choose_list[i]\n",
        "  b=var_list.index(a)\n",
        "  name_list.append(index_list[b])\n",
        "name_list"
      ],
      "execution_count": 674,
      "outputs": [
        {
          "output_type": "execute_result",
          "data": {
            "text/plain": [
              "['INCY', 'MELI', 'TSLA', 'NVDA']"
            ]
          },
          "metadata": {
            "tags": []
          },
          "execution_count": 674
        }
      ]
    },
    {
      "cell_type": "code",
      "metadata": {
        "id": "Q82rDmAgKK6f",
        "colab_type": "code",
        "outputId": "6c2aec5b-068b-40ca-b1a9-4c98b76ad693",
        "colab": {
          "base_uri": "https://localhost:8080/",
          "height": 71
        }
      },
      "source": [
        "weektime=[]\n",
        "for i in tradingdays1:\n",
        "  if i.weekday() == 2:\n",
        "    weektime.append(i)\n",
        "\n",
        "nan_list=[]\n",
        "nan_index=[]\n",
        "for i in range(422):\n",
        "  if weektime[i+1]-weektime[i] != pd.Timedelta('7 days'):\n",
        "    nan_list.append(weektime[i])\n",
        "    nan_index.append(i)\n",
        "\n",
        "\n",
        "#weektime: wednesday date list\n",
        "#weektime[-1]\n",
        "print(nan_index)\n",
        "print(nan_list)\n",
        "#找到缺失tradingday的周三 以周二数据代替"
      ],
      "execution_count": 675,
      "outputs": [
        {
          "output_type": "stream",
          "text": [
            "[25, 101, 335, 356, 410]\n",
            "[Timestamp('2012-06-27 00:00:00', freq='C'), Timestamp('2013-12-18 00:00:00', freq='C'), Timestamp('2018-06-27 00:00:00', freq='C'), Timestamp('2018-11-28 00:00:00', freq='C'), Timestamp('2019-12-18 00:00:00', freq='C')]\n"
          ],
          "name": "stdout"
        }
      ]
    },
    {
      "cell_type": "code",
      "metadata": {
        "id": "IV_KVh-7lDX_",
        "colab_type": "code",
        "outputId": "fa54b27c-b1c8-4689-a31c-fe49d96ed205",
        "colab": {
          "base_uri": "https://localhost:8080/",
          "height": 34
        }
      },
      "source": [
        "p1=pd.Timestamp(2012,7,3)\n",
        "p2=pd.Timestamp(2013,12,24)\n",
        "p3=pd.Timestamp(2013,12,31)\n",
        "p4=pd.Timestamp(2018,7,3)\n",
        "p5=pd.Timestamp(2018,12,4)\n",
        "p6=pd.Timestamp(2019,12,24)\n",
        "p7=pd.Timestamp(2019,12,31)\n",
        "weektime.insert(26,p1)\n",
        "weektime.insert(103,p2)\n",
        "weektime.insert(104,p3)\n",
        "weektime.insert(339,p4)\n",
        "weektime.insert(361,p5)\n",
        "weektime.insert(416,p6)\n",
        "weektime.insert(417,p7)\n",
        "len(weektime)"
      ],
      "execution_count": 676,
      "outputs": [
        {
          "output_type": "execute_result",
          "data": {
            "text/plain": [
              "433"
            ]
          },
          "metadata": {
            "tags": []
          },
          "execution_count": 676
        }
      ]
    },
    {
      "cell_type": "code",
      "metadata": {
        "id": "swdr_19-9kDh",
        "colab_type": "code",
        "colab": {}
      },
      "source": [
        "from datetime import date\n",
        "total_num=len(tradingdays)\n",
        "date_list=[]\n",
        "for i in range(total_num-1):\n",
        "  if tradingdays.index[i].day > tradingdays.index[i+1].day:\n",
        "    date_list.append(tradingdays.index[i])\n",
        "\n",
        "#date_list 每个月最后一个交易日列表\n",
        "#date_list"
      ],
      "execution_count": 0,
      "outputs": []
    },
    {
      "cell_type": "code",
      "metadata": {
        "id": "8Xx9vZB39j_B",
        "colab_type": "code",
        "colab": {}
      },
      "source": [
        "index_list=['AAPL','TSLA','GILD','MELI','MSFT','DIS','NVDA','TCO','MMM','INCY','IBM','EPC','SPY','YELP','VTI']\n",
        "\n",
        "def new_portfolio():\n",
        "    res = pd.DataFrame(columns=['Share', 'Adj Close'],index=pd.Series(index_list))\n",
        "    return res\n",
        "\n",
        "my_port = new_portfolio()\n",
        "#my_port portfolio模型"
      ],
      "execution_count": 0,
      "outputs": []
    },
    {
      "cell_type": "code",
      "metadata": {
        "id": "wy_U-bVZ9j6E",
        "colab_type": "code",
        "colab": {}
      },
      "source": [
        "update_list=[] #所有天的portfolio\n",
        "\n",
        "for i in range(len(index_list)):\n",
        "    a=index_list[i]\n",
        "    my_port.loc[a]['Adj Close']=stock_list[i].loc['2012-01-03']['Adj Close']\n",
        "update_list.append(my_port)\n",
        "\n",
        "for j in range(len(date_list)):\n",
        "  b=date_list[j]\n",
        "  my_port=new_portfolio()\n",
        "  for i in range(len(index_list)):\n",
        "    a=index_list[i]\n",
        "    my_port.loc[a]['Adj Close']=stock_list[i].loc[b]['Adj Close']\n",
        "  update_list.append(my_port)\n",
        "\n",
        "#更新所有portfolio adjclose这一列\n"
      ],
      "execution_count": 0,
      "outputs": []
    },
    {
      "cell_type": "code",
      "metadata": {
        "id": "UxTjIDepcXYf",
        "colab_type": "code",
        "colab": {}
      },
      "source": [
        "for i in range(len(index_list)):\n",
        "    a=index_list[i]\n",
        "    update_list[0].loc[a]['Share']=(400000/15)/update_list[0].loc[a]['Adj Close']\n",
        "\n",
        "def total_value(portfolio1,portfolio2):\n",
        "  res=0\n",
        "  for i in range(len(index_list)):\n",
        "    a=index_list[i]\n",
        "    res+=portfolio1.loc[a]['Share']*portfolio2.loc[a]['Adj Close']\n",
        "  return res\n",
        "\n",
        "for i in range(len(update_list)-1):\n",
        "  to_value=total_value(update_list[i],update_list[i+1])\n",
        "  for j in range(len(index_list)):\n",
        "    a=index_list[j]\n",
        "    update_list[i+1].loc[a]['Share']=(to_value/15)/update_list[i+1].loc[a]['Adj Close']\n",
        "\n",
        "#更新所有portfolio share这一列\n",
        "#update——list 包含所有的portfolio zaiyuemojiaoyiri\n",
        "\n",
        "#截止到此，我们获取了每月最后一日的portfolio的信息"
      ],
      "execution_count": 0,
      "outputs": []
    },
    {
      "cell_type": "code",
      "metadata": {
        "id": "AjkILQhbQ700",
        "colab_type": "code",
        "outputId": "53917111-d470-4d6a-bbbf-b2e4adbed70f",
        "colab": {
          "base_uri": "https://localhost:8080/",
          "height": 34
        }
      },
      "source": [
        "week_stock=[] #所有Wednesday的portfolio\n",
        "\n",
        "for j in range(len(weektime)):\n",
        "  b=weektime[j]\n",
        "  my_port=new_portfolio()\n",
        "  for i in range(len(index_list)):\n",
        "    a=index_list[i]\n",
        "    my_port.loc[a]['Adj Close']=stock_list[i].loc[b]['Adj Close']\n",
        "  week_stock.append(my_port)\n",
        "len(week_stock)"
      ],
      "execution_count": 681,
      "outputs": [
        {
          "output_type": "execute_result",
          "data": {
            "text/plain": [
              "433"
            ]
          },
          "metadata": {
            "tags": []
          },
          "execution_count": 681
        }
      ]
    },
    {
      "cell_type": "code",
      "metadata": {
        "id": "mwcEAnC5Q7vs",
        "colab_type": "code",
        "colab": {}
      },
      "source": [
        "m=0\n",
        "for i in range(len(week_stock)):\n",
        "  if weektime[i].month <= date_list[m].month:\n",
        "    for j in range(len(index_list)):\n",
        "      a=index_list[j]\n",
        "      week_stock[i].loc[a]['Share']=update_list[m+1].loc[a]['Share']\n",
        "  else:\n",
        "    m+=1\n",
        "    for j in range(len(index_list)):\n",
        "      a=index_list[j]\n",
        "      week_stock[i].loc[a]['Share']=update_list[m+1].loc[a]['Share']\n",
        "\n",
        "#week_stock all updated"
      ],
      "execution_count": 0,
      "outputs": []
    },
    {
      "cell_type": "code",
      "metadata": {
        "id": "xxm17pHdQ7gQ",
        "colab_type": "code",
        "outputId": "aa08a3c5-a7d9-4cdf-b97b-ae5f35610c18",
        "colab": {
          "base_uri": "https://localhost:8080/",
          "height": 34
        }
      },
      "source": [
        "len(week_stock)\n",
        "len(weektime)"
      ],
      "execution_count": 683,
      "outputs": [
        {
          "output_type": "execute_result",
          "data": {
            "text/plain": [
              "433"
            ]
          },
          "metadata": {
            "tags": []
          },
          "execution_count": 683
        }
      ]
    },
    {
      "cell_type": "code",
      "metadata": {
        "id": "XPXHk2SvQ7au",
        "colab_type": "code",
        "outputId": "eac820c5-a4e8-4137-e2d3-8b3de3165191",
        "colab": {
          "base_uri": "https://localhost:8080/",
          "height": 34
        }
      },
      "source": [
        "weektime[208]"
      ],
      "execution_count": 684,
      "outputs": [
        {
          "output_type": "execute_result",
          "data": {
            "text/plain": [
              "Timestamp('2015-12-30 00:00:00', freq='C')"
            ]
          },
          "metadata": {
            "tags": []
          },
          "execution_count": 684
        }
      ]
    },
    {
      "cell_type": "code",
      "metadata": {
        "id": "wzO7DWkLQ7Vq",
        "colab_type": "code",
        "outputId": "0b4574e3-c327-4fa4-c971-888998801b8e",
        "colab": {
          "base_uri": "https://localhost:8080/",
          "height": 34
        }
      },
      "source": [
        "a=weektime[0]\n",
        "AAPL.loc[a]['Adj Close']\n",
        "a"
      ],
      "execution_count": 685,
      "outputs": [
        {
          "output_type": "execute_result",
          "data": {
            "text/plain": [
              "Timestamp('2012-01-04 00:00:00', freq='C')"
            ]
          },
          "metadata": {
            "tags": []
          },
          "execution_count": 685
        }
      ]
    },
    {
      "cell_type": "code",
      "metadata": {
        "id": "Mhu0yGXvQ7Lj",
        "colab_type": "code",
        "colab": {}
      },
      "source": [
        "stock_list=[AAPL,TSLA,GILD,MELI,MSFT,DIS,NVDA,TCO,MMM,INCY,IBM,EPC,SPY,YELP,VTI]\n",
        "log_return=[]\n",
        "for j in range(15):\n",
        "  price_list=[]\n",
        "  for i in range(len(weektime)):\n",
        "    b=weektime[i]\n",
        "    a=stock_list[j].loc[b]['Adj Close']\n",
        "    price_list.append(a)\n",
        "  stock_log=np.log(price_list)\n",
        "  len_num=len(stock_log)\n",
        "  for j in range(len_num-1):\n",
        "    stock_log[j]=stock_log[j+1]-stock_log[j]\n",
        "  log_return.append(stock_log[:-1])\n",
        "#log_return for 15 equities"
      ],
      "execution_count": 0,
      "outputs": []
    },
    {
      "cell_type": "markdown",
      "metadata": {
        "id": "7s_PsiJaIY1J",
        "colab_type": "text"
      },
      "source": [
        "现在以四年的时间长度rolling来estimate multivariate normal的参数 再compute新log return 再算新loss 也就是我们算的是2016年第一个周三到2020年三月份最后一个周三 computed losses."
      ]
    },
    {
      "cell_type": "code",
      "metadata": {
        "id": "qHxsaAxdQ7Gp",
        "colab_type": "code",
        "outputId": "882388f0-653f-421f-a639-9a21e874075f",
        "colab": {
          "base_uri": "https://localhost:8080/",
          "height": 34
        }
      },
      "source": [
        "u_list=[]\n",
        "for j in range(225):\n",
        "  u=[]\n",
        "  for i in range(15):\n",
        "    a=log_return[i][j:(j+209)]\n",
        "    u.append(a.mean())\n",
        "  u_list.append(u)\n",
        "len(u_list)"
      ],
      "execution_count": 687,
      "outputs": [
        {
          "output_type": "execute_result",
          "data": {
            "text/plain": [
              "225"
            ]
          },
          "metadata": {
            "tags": []
          },
          "execution_count": 687
        }
      ]
    },
    {
      "cell_type": "code",
      "metadata": {
        "id": "BUcTewu6Q7Bs",
        "colab_type": "code",
        "outputId": "9da04586-03d3-475f-fe59-d25e07d97bb7",
        "colab": {
          "base_uri": "https://localhost:8080/",
          "height": 514
        }
      },
      "source": [
        "cov_list=[]\n",
        "for j in range(225):\n",
        "  df_temp={}\n",
        "  for i in range(15):\n",
        "    df_temp[index_list[i]]=log_return[i][j:(j+209)]\n",
        "  df = pd.DataFrame(df_temp)\n",
        "  cov_mat=df.cov()  \n",
        "  cov_list.append(cov_mat)\n",
        "\n",
        "cov_list[0]"
      ],
      "execution_count": 688,
      "outputs": [
        {
          "output_type": "execute_result",
          "data": {
            "text/html": [
              "<div>\n",
              "<style scoped>\n",
              "    .dataframe tbody tr th:only-of-type {\n",
              "        vertical-align: middle;\n",
              "    }\n",
              "\n",
              "    .dataframe tbody tr th {\n",
              "        vertical-align: top;\n",
              "    }\n",
              "\n",
              "    .dataframe thead th {\n",
              "        text-align: right;\n",
              "    }\n",
              "</style>\n",
              "<table border=\"1\" class=\"dataframe\">\n",
              "  <thead>\n",
              "    <tr style=\"text-align: right;\">\n",
              "      <th></th>\n",
              "      <th>AAPL</th>\n",
              "      <th>TSLA</th>\n",
              "      <th>GILD</th>\n",
              "      <th>MELI</th>\n",
              "      <th>MSFT</th>\n",
              "      <th>DIS</th>\n",
              "      <th>NVDA</th>\n",
              "      <th>TCO</th>\n",
              "      <th>MMM</th>\n",
              "      <th>INCY</th>\n",
              "      <th>IBM</th>\n",
              "      <th>EPC</th>\n",
              "      <th>SPY</th>\n",
              "      <th>YELP</th>\n",
              "      <th>VTI</th>\n",
              "    </tr>\n",
              "  </thead>\n",
              "  <tbody>\n",
              "    <tr>\n",
              "      <th>AAPL</th>\n",
              "      <td>0.001226</td>\n",
              "      <td>0.000265</td>\n",
              "      <td>0.000256</td>\n",
              "      <td>0.000636</td>\n",
              "      <td>0.000319</td>\n",
              "      <td>0.000299</td>\n",
              "      <td>0.000263</td>\n",
              "      <td>0.000147</td>\n",
              "      <td>0.000254</td>\n",
              "      <td>0.000332</td>\n",
              "      <td>0.000225</td>\n",
              "      <td>0.000296</td>\n",
              "      <td>0.000299</td>\n",
              "      <td>0.000475</td>\n",
              "      <td>0.000304</td>\n",
              "    </tr>\n",
              "    <tr>\n",
              "      <th>TSLA</th>\n",
              "      <td>0.000265</td>\n",
              "      <td>0.004452</td>\n",
              "      <td>0.000740</td>\n",
              "      <td>0.001214</td>\n",
              "      <td>0.000600</td>\n",
              "      <td>0.000514</td>\n",
              "      <td>0.000554</td>\n",
              "      <td>0.000080</td>\n",
              "      <td>0.000314</td>\n",
              "      <td>0.000956</td>\n",
              "      <td>0.000243</td>\n",
              "      <td>0.000156</td>\n",
              "      <td>0.000391</td>\n",
              "      <td>0.001641</td>\n",
              "      <td>0.000421</td>\n",
              "    </tr>\n",
              "    <tr>\n",
              "      <th>GILD</th>\n",
              "      <td>0.000256</td>\n",
              "      <td>0.000740</td>\n",
              "      <td>0.001728</td>\n",
              "      <td>0.000786</td>\n",
              "      <td>0.000225</td>\n",
              "      <td>0.000371</td>\n",
              "      <td>0.000184</td>\n",
              "      <td>0.000240</td>\n",
              "      <td>0.000298</td>\n",
              "      <td>0.000901</td>\n",
              "      <td>0.000107</td>\n",
              "      <td>0.000233</td>\n",
              "      <td>0.000307</td>\n",
              "      <td>0.000828</td>\n",
              "      <td>0.000320</td>\n",
              "    </tr>\n",
              "    <tr>\n",
              "      <th>MELI</th>\n",
              "      <td>0.000636</td>\n",
              "      <td>0.001214</td>\n",
              "      <td>0.000786</td>\n",
              "      <td>0.003159</td>\n",
              "      <td>0.000484</td>\n",
              "      <td>0.000535</td>\n",
              "      <td>0.000687</td>\n",
              "      <td>0.000191</td>\n",
              "      <td>0.000454</td>\n",
              "      <td>0.000581</td>\n",
              "      <td>0.000383</td>\n",
              "      <td>0.000430</td>\n",
              "      <td>0.000493</td>\n",
              "      <td>0.001976</td>\n",
              "      <td>0.000521</td>\n",
              "    </tr>\n",
              "    <tr>\n",
              "      <th>MSFT</th>\n",
              "      <td>0.000319</td>\n",
              "      <td>0.000600</td>\n",
              "      <td>0.000225</td>\n",
              "      <td>0.000484</td>\n",
              "      <td>0.001018</td>\n",
              "      <td>0.000331</td>\n",
              "      <td>0.000470</td>\n",
              "      <td>0.000165</td>\n",
              "      <td>0.000265</td>\n",
              "      <td>0.000231</td>\n",
              "      <td>0.000280</td>\n",
              "      <td>0.000178</td>\n",
              "      <td>0.000328</td>\n",
              "      <td>0.000465</td>\n",
              "      <td>0.000325</td>\n",
              "    </tr>\n",
              "    <tr>\n",
              "      <th>DIS</th>\n",
              "      <td>0.000299</td>\n",
              "      <td>0.000514</td>\n",
              "      <td>0.000371</td>\n",
              "      <td>0.000535</td>\n",
              "      <td>0.000331</td>\n",
              "      <td>0.000622</td>\n",
              "      <td>0.000377</td>\n",
              "      <td>0.000185</td>\n",
              "      <td>0.000294</td>\n",
              "      <td>0.000279</td>\n",
              "      <td>0.000199</td>\n",
              "      <td>0.000215</td>\n",
              "      <td>0.000296</td>\n",
              "      <td>0.000711</td>\n",
              "      <td>0.000301</td>\n",
              "    </tr>\n",
              "    <tr>\n",
              "      <th>NVDA</th>\n",
              "      <td>0.000263</td>\n",
              "      <td>0.000554</td>\n",
              "      <td>0.000184</td>\n",
              "      <td>0.000687</td>\n",
              "      <td>0.000470</td>\n",
              "      <td>0.000377</td>\n",
              "      <td>0.001276</td>\n",
              "      <td>0.000191</td>\n",
              "      <td>0.000297</td>\n",
              "      <td>0.000265</td>\n",
              "      <td>0.000239</td>\n",
              "      <td>0.000137</td>\n",
              "      <td>0.000302</td>\n",
              "      <td>0.000647</td>\n",
              "      <td>0.000311</td>\n",
              "    </tr>\n",
              "    <tr>\n",
              "      <th>TCO</th>\n",
              "      <td>0.000147</td>\n",
              "      <td>0.000080</td>\n",
              "      <td>0.000240</td>\n",
              "      <td>0.000191</td>\n",
              "      <td>0.000165</td>\n",
              "      <td>0.000185</td>\n",
              "      <td>0.000191</td>\n",
              "      <td>0.000605</td>\n",
              "      <td>0.000139</td>\n",
              "      <td>0.000175</td>\n",
              "      <td>0.000119</td>\n",
              "      <td>0.000134</td>\n",
              "      <td>0.000167</td>\n",
              "      <td>0.000302</td>\n",
              "      <td>0.000174</td>\n",
              "    </tr>\n",
              "    <tr>\n",
              "      <th>MMM</th>\n",
              "      <td>0.000254</td>\n",
              "      <td>0.000314</td>\n",
              "      <td>0.000298</td>\n",
              "      <td>0.000454</td>\n",
              "      <td>0.000265</td>\n",
              "      <td>0.000294</td>\n",
              "      <td>0.000297</td>\n",
              "      <td>0.000139</td>\n",
              "      <td>0.000436</td>\n",
              "      <td>0.000342</td>\n",
              "      <td>0.000168</td>\n",
              "      <td>0.000237</td>\n",
              "      <td>0.000263</td>\n",
              "      <td>0.000406</td>\n",
              "      <td>0.000267</td>\n",
              "    </tr>\n",
              "    <tr>\n",
              "      <th>INCY</th>\n",
              "      <td>0.000332</td>\n",
              "      <td>0.000956</td>\n",
              "      <td>0.000901</td>\n",
              "      <td>0.000581</td>\n",
              "      <td>0.000231</td>\n",
              "      <td>0.000279</td>\n",
              "      <td>0.000265</td>\n",
              "      <td>0.000175</td>\n",
              "      <td>0.000342</td>\n",
              "      <td>0.004734</td>\n",
              "      <td>-0.000012</td>\n",
              "      <td>0.000314</td>\n",
              "      <td>0.000307</td>\n",
              "      <td>0.000797</td>\n",
              "      <td>0.000340</td>\n",
              "    </tr>\n",
              "    <tr>\n",
              "      <th>IBM</th>\n",
              "      <td>0.000225</td>\n",
              "      <td>0.000243</td>\n",
              "      <td>0.000107</td>\n",
              "      <td>0.000383</td>\n",
              "      <td>0.000280</td>\n",
              "      <td>0.000199</td>\n",
              "      <td>0.000239</td>\n",
              "      <td>0.000119</td>\n",
              "      <td>0.000168</td>\n",
              "      <td>-0.000012</td>\n",
              "      <td>0.000595</td>\n",
              "      <td>0.000140</td>\n",
              "      <td>0.000196</td>\n",
              "      <td>0.000470</td>\n",
              "      <td>0.000193</td>\n",
              "    </tr>\n",
              "    <tr>\n",
              "      <th>EPC</th>\n",
              "      <td>0.000296</td>\n",
              "      <td>0.000156</td>\n",
              "      <td>0.000233</td>\n",
              "      <td>0.000430</td>\n",
              "      <td>0.000178</td>\n",
              "      <td>0.000215</td>\n",
              "      <td>0.000137</td>\n",
              "      <td>0.000134</td>\n",
              "      <td>0.000237</td>\n",
              "      <td>0.000314</td>\n",
              "      <td>0.000140</td>\n",
              "      <td>0.000798</td>\n",
              "      <td>0.000198</td>\n",
              "      <td>0.000228</td>\n",
              "      <td>0.000201</td>\n",
              "    </tr>\n",
              "    <tr>\n",
              "      <th>SPY</th>\n",
              "      <td>0.000299</td>\n",
              "      <td>0.000391</td>\n",
              "      <td>0.000307</td>\n",
              "      <td>0.000493</td>\n",
              "      <td>0.000328</td>\n",
              "      <td>0.000296</td>\n",
              "      <td>0.000302</td>\n",
              "      <td>0.000167</td>\n",
              "      <td>0.000263</td>\n",
              "      <td>0.000307</td>\n",
              "      <td>0.000196</td>\n",
              "      <td>0.000198</td>\n",
              "      <td>0.000270</td>\n",
              "      <td>0.000539</td>\n",
              "      <td>0.000274</td>\n",
              "    </tr>\n",
              "    <tr>\n",
              "      <th>YELP</th>\n",
              "      <td>0.000475</td>\n",
              "      <td>0.001641</td>\n",
              "      <td>0.000828</td>\n",
              "      <td>0.001976</td>\n",
              "      <td>0.000465</td>\n",
              "      <td>0.000711</td>\n",
              "      <td>0.000647</td>\n",
              "      <td>0.000302</td>\n",
              "      <td>0.000406</td>\n",
              "      <td>0.000797</td>\n",
              "      <td>0.000470</td>\n",
              "      <td>0.000228</td>\n",
              "      <td>0.000539</td>\n",
              "      <td>0.007786</td>\n",
              "      <td>0.000581</td>\n",
              "    </tr>\n",
              "    <tr>\n",
              "      <th>VTI</th>\n",
              "      <td>0.000304</td>\n",
              "      <td>0.000421</td>\n",
              "      <td>0.000320</td>\n",
              "      <td>0.000521</td>\n",
              "      <td>0.000325</td>\n",
              "      <td>0.000301</td>\n",
              "      <td>0.000311</td>\n",
              "      <td>0.000174</td>\n",
              "      <td>0.000267</td>\n",
              "      <td>0.000340</td>\n",
              "      <td>0.000193</td>\n",
              "      <td>0.000201</td>\n",
              "      <td>0.000274</td>\n",
              "      <td>0.000581</td>\n",
              "      <td>0.000282</td>\n",
              "    </tr>\n",
              "  </tbody>\n",
              "</table>\n",
              "</div>"
            ],
            "text/plain": [
              "          AAPL      TSLA      GILD  ...       SPY      YELP       VTI\n",
              "AAPL  0.001226  0.000265  0.000256  ...  0.000299  0.000475  0.000304\n",
              "TSLA  0.000265  0.004452  0.000740  ...  0.000391  0.001641  0.000421\n",
              "GILD  0.000256  0.000740  0.001728  ...  0.000307  0.000828  0.000320\n",
              "MELI  0.000636  0.001214  0.000786  ...  0.000493  0.001976  0.000521\n",
              "MSFT  0.000319  0.000600  0.000225  ...  0.000328  0.000465  0.000325\n",
              "DIS   0.000299  0.000514  0.000371  ...  0.000296  0.000711  0.000301\n",
              "NVDA  0.000263  0.000554  0.000184  ...  0.000302  0.000647  0.000311\n",
              "TCO   0.000147  0.000080  0.000240  ...  0.000167  0.000302  0.000174\n",
              "MMM   0.000254  0.000314  0.000298  ...  0.000263  0.000406  0.000267\n",
              "INCY  0.000332  0.000956  0.000901  ...  0.000307  0.000797  0.000340\n",
              "IBM   0.000225  0.000243  0.000107  ...  0.000196  0.000470  0.000193\n",
              "EPC   0.000296  0.000156  0.000233  ...  0.000198  0.000228  0.000201\n",
              "SPY   0.000299  0.000391  0.000307  ...  0.000270  0.000539  0.000274\n",
              "YELP  0.000475  0.001641  0.000828  ...  0.000539  0.007786  0.000581\n",
              "VTI   0.000304  0.000421  0.000320  ...  0.000274  0.000581  0.000282\n",
              "\n",
              "[15 rows x 15 columns]"
            ]
          },
          "metadata": {
            "tags": []
          },
          "execution_count": 688
        }
      ]
    },
    {
      "cell_type": "code",
      "metadata": {
        "id": "XygHv8-XjO27",
        "colab_type": "code",
        "colab": {
          "base_uri": "https://localhost:8080/",
          "height": 34
        },
        "outputId": "30c343a6-0e3d-4561-8b19-947439fdd8cc"
      },
      "source": [
        "len(week_stock)"
      ],
      "execution_count": 689,
      "outputs": [
        {
          "output_type": "execute_result",
          "data": {
            "text/plain": [
              "433"
            ]
          },
          "metadata": {
            "tags": []
          },
          "execution_count": 689
        }
      ]
    },
    {
      "cell_type": "code",
      "metadata": {
        "id": "1D389yH-b1UF",
        "colab_type": "code",
        "outputId": "ab2bcd17-cc81-4c10-a599-002dd0b634a0",
        "colab": {
          "base_uri": "https://localhost:8080/",
          "height": 34
        }
      },
      "source": [
        "weektime[423]"
      ],
      "execution_count": 690,
      "outputs": [
        {
          "output_type": "execute_result",
          "data": {
            "text/plain": [
              "Timestamp('2020-02-12 00:00:00', freq='C')"
            ]
          },
          "metadata": {
            "tags": []
          },
          "execution_count": 690
        }
      ]
    },
    {
      "cell_type": "code",
      "metadata": {
        "id": "BAhYMRNfbGNk",
        "colab_type": "code",
        "colab": {
          "base_uri": "https://localhost:8080/",
          "height": 34
        },
        "outputId": "b1ef42ac-43a0-444f-cc40-2d94cea95784"
      },
      "source": [
        "len(weektime[423:])"
      ],
      "execution_count": 691,
      "outputs": [
        {
          "output_type": "execute_result",
          "data": {
            "text/plain": [
              "10"
            ]
          },
          "metadata": {
            "tags": []
          },
          "execution_count": 691
        }
      ]
    },
    {
      "cell_type": "code",
      "metadata": {
        "id": "4RzeMX9eQ687",
        "colab_type": "code",
        "colab": {
          "base_uri": "https://localhost:8080/",
          "height": 379
        },
        "outputId": "94acd022-db0a-4951-900a-b9c9ea18b4d6"
      },
      "source": [
        "linloss_list=[]\n",
        "for n in range(10):\n",
        "  loss_generate=[]\n",
        "  for m in range(5000):\n",
        "    linloss=0\n",
        "    var = np.random.multivariate_normal(mean=u_list[n], cov=cov_list[n]) \n",
        "    for j in range(len(index_list)):\n",
        "      a=index_list[j]\n",
        "      linloss+=week_stock[423+n].loc[a]['Share']*week_stock[423+n].loc[a]['Adj Close']*var[j]\n",
        "    loss_generate.append(-linloss)\n",
        "  linloss_list.append(loss_generate)\n",
        "  \n",
        "#229:2016diyigezhousan--2020.4.22\n",
        "#linloss_equity=linloss_list[-14:]\n",
        "#Revised:look back four years rolling window to estimate the VaR/ES for 2020.2.13-2020.4.15"
      ],
      "execution_count": 692,
      "outputs": [
        {
          "output_type": "error",
          "ename": "KeyboardInterrupt",
          "evalue": "ignored",
          "traceback": [
            "\u001b[0;31m---------------------------------------------------------------------------\u001b[0m",
            "\u001b[0;31mKeyboardInterrupt\u001b[0m                         Traceback (most recent call last)",
            "\u001b[0;32m<ipython-input-692-da8fd7e5aed3>\u001b[0m in \u001b[0;36m<module>\u001b[0;34m()\u001b[0m\n\u001b[1;32m      7\u001b[0m     \u001b[0;32mfor\u001b[0m \u001b[0mj\u001b[0m \u001b[0;32min\u001b[0m \u001b[0mrange\u001b[0m\u001b[0;34m(\u001b[0m\u001b[0mlen\u001b[0m\u001b[0;34m(\u001b[0m\u001b[0mindex_list\u001b[0m\u001b[0;34m)\u001b[0m\u001b[0;34m)\u001b[0m\u001b[0;34m:\u001b[0m\u001b[0;34m\u001b[0m\u001b[0;34m\u001b[0m\u001b[0m\n\u001b[1;32m      8\u001b[0m       \u001b[0ma\u001b[0m\u001b[0;34m=\u001b[0m\u001b[0mindex_list\u001b[0m\u001b[0;34m[\u001b[0m\u001b[0mj\u001b[0m\u001b[0;34m]\u001b[0m\u001b[0;34m\u001b[0m\u001b[0;34m\u001b[0m\u001b[0m\n\u001b[0;32m----> 9\u001b[0;31m       \u001b[0mlinloss\u001b[0m\u001b[0;34m+=\u001b[0m\u001b[0mweek_stock\u001b[0m\u001b[0;34m[\u001b[0m\u001b[0;36m423\u001b[0m\u001b[0;34m+\u001b[0m\u001b[0mn\u001b[0m\u001b[0;34m]\u001b[0m\u001b[0;34m.\u001b[0m\u001b[0mloc\u001b[0m\u001b[0;34m[\u001b[0m\u001b[0ma\u001b[0m\u001b[0;34m]\u001b[0m\u001b[0;34m[\u001b[0m\u001b[0;34m'Share'\u001b[0m\u001b[0;34m]\u001b[0m\u001b[0;34m*\u001b[0m\u001b[0mweek_stock\u001b[0m\u001b[0;34m[\u001b[0m\u001b[0;36m423\u001b[0m\u001b[0;34m+\u001b[0m\u001b[0mn\u001b[0m\u001b[0;34m]\u001b[0m\u001b[0;34m.\u001b[0m\u001b[0mloc\u001b[0m\u001b[0;34m[\u001b[0m\u001b[0ma\u001b[0m\u001b[0;34m]\u001b[0m\u001b[0;34m[\u001b[0m\u001b[0;34m'Adj Close'\u001b[0m\u001b[0;34m]\u001b[0m\u001b[0;34m*\u001b[0m\u001b[0mvar\u001b[0m\u001b[0;34m[\u001b[0m\u001b[0mj\u001b[0m\u001b[0;34m]\u001b[0m\u001b[0;34m\u001b[0m\u001b[0;34m\u001b[0m\u001b[0m\n\u001b[0m\u001b[1;32m     10\u001b[0m     \u001b[0mloss_generate\u001b[0m\u001b[0;34m.\u001b[0m\u001b[0mappend\u001b[0m\u001b[0;34m(\u001b[0m\u001b[0;34m-\u001b[0m\u001b[0mlinloss\u001b[0m\u001b[0;34m)\u001b[0m\u001b[0;34m\u001b[0m\u001b[0;34m\u001b[0m\u001b[0m\n\u001b[1;32m     11\u001b[0m   \u001b[0mlinloss_list\u001b[0m\u001b[0;34m.\u001b[0m\u001b[0mappend\u001b[0m\u001b[0;34m(\u001b[0m\u001b[0mloss_generate\u001b[0m\u001b[0;34m)\u001b[0m\u001b[0;34m\u001b[0m\u001b[0;34m\u001b[0m\u001b[0m\n",
            "\u001b[0;32m/usr/local/lib/python3.6/dist-packages/pandas/core/indexing.py\u001b[0m in \u001b[0;36m__getitem__\u001b[0;34m(self, key)\u001b[0m\n\u001b[1;32m   1766\u001b[0m \u001b[0;34m\u001b[0m\u001b[0m\n\u001b[1;32m   1767\u001b[0m             \u001b[0mmaybe_callable\u001b[0m \u001b[0;34m=\u001b[0m \u001b[0mcom\u001b[0m\u001b[0;34m.\u001b[0m\u001b[0mapply_if_callable\u001b[0m\u001b[0;34m(\u001b[0m\u001b[0mkey\u001b[0m\u001b[0;34m,\u001b[0m \u001b[0mself\u001b[0m\u001b[0;34m.\u001b[0m\u001b[0mobj\u001b[0m\u001b[0;34m)\u001b[0m\u001b[0;34m\u001b[0m\u001b[0;34m\u001b[0m\u001b[0m\n\u001b[0;32m-> 1768\u001b[0;31m             \u001b[0;32mreturn\u001b[0m \u001b[0mself\u001b[0m\u001b[0;34m.\u001b[0m\u001b[0m_getitem_axis\u001b[0m\u001b[0;34m(\u001b[0m\u001b[0mmaybe_callable\u001b[0m\u001b[0;34m,\u001b[0m \u001b[0maxis\u001b[0m\u001b[0;34m=\u001b[0m\u001b[0maxis\u001b[0m\u001b[0;34m)\u001b[0m\u001b[0;34m\u001b[0m\u001b[0;34m\u001b[0m\u001b[0m\n\u001b[0m\u001b[1;32m   1769\u001b[0m \u001b[0;34m\u001b[0m\u001b[0m\n\u001b[1;32m   1770\u001b[0m     \u001b[0;32mdef\u001b[0m \u001b[0m_is_scalar_access\u001b[0m\u001b[0;34m(\u001b[0m\u001b[0mself\u001b[0m\u001b[0;34m,\u001b[0m \u001b[0mkey\u001b[0m\u001b[0;34m:\u001b[0m \u001b[0mTuple\u001b[0m\u001b[0;34m)\u001b[0m\u001b[0;34m:\u001b[0m\u001b[0;34m\u001b[0m\u001b[0;34m\u001b[0m\u001b[0m\n",
            "\u001b[0;32m/usr/local/lib/python3.6/dist-packages/pandas/core/indexing.py\u001b[0m in \u001b[0;36m_getitem_axis\u001b[0;34m(self, key, axis)\u001b[0m\n\u001b[1;32m   1963\u001b[0m         \u001b[0;31m# fall thru to straight lookup\u001b[0m\u001b[0;34m\u001b[0m\u001b[0;34m\u001b[0m\u001b[0;34m\u001b[0m\u001b[0m\n\u001b[1;32m   1964\u001b[0m         \u001b[0mself\u001b[0m\u001b[0;34m.\u001b[0m\u001b[0m_validate_key\u001b[0m\u001b[0;34m(\u001b[0m\u001b[0mkey\u001b[0m\u001b[0;34m,\u001b[0m \u001b[0maxis\u001b[0m\u001b[0;34m)\u001b[0m\u001b[0;34m\u001b[0m\u001b[0;34m\u001b[0m\u001b[0m\n\u001b[0;32m-> 1965\u001b[0;31m         \u001b[0;32mreturn\u001b[0m \u001b[0mself\u001b[0m\u001b[0;34m.\u001b[0m\u001b[0m_get_label\u001b[0m\u001b[0;34m(\u001b[0m\u001b[0mkey\u001b[0m\u001b[0;34m,\u001b[0m \u001b[0maxis\u001b[0m\u001b[0;34m=\u001b[0m\u001b[0maxis\u001b[0m\u001b[0;34m)\u001b[0m\u001b[0;34m\u001b[0m\u001b[0;34m\u001b[0m\u001b[0m\n\u001b[0m\u001b[1;32m   1966\u001b[0m \u001b[0;34m\u001b[0m\u001b[0m\n\u001b[1;32m   1967\u001b[0m \u001b[0;34m\u001b[0m\u001b[0m\n",
            "\u001b[0;32m/usr/local/lib/python3.6/dist-packages/pandas/core/indexing.py\u001b[0m in \u001b[0;36m_get_label\u001b[0;34m(self, label, axis)\u001b[0m\n\u001b[1;32m    623\u001b[0m             \u001b[0;32mraise\u001b[0m \u001b[0mIndexingError\u001b[0m\u001b[0;34m(\u001b[0m\u001b[0;34m\"no slices here, handle elsewhere\"\u001b[0m\u001b[0;34m)\u001b[0m\u001b[0;34m\u001b[0m\u001b[0;34m\u001b[0m\u001b[0m\n\u001b[1;32m    624\u001b[0m \u001b[0;34m\u001b[0m\u001b[0m\n\u001b[0;32m--> 625\u001b[0;31m         \u001b[0;32mreturn\u001b[0m \u001b[0mself\u001b[0m\u001b[0;34m.\u001b[0m\u001b[0mobj\u001b[0m\u001b[0;34m.\u001b[0m\u001b[0m_xs\u001b[0m\u001b[0;34m(\u001b[0m\u001b[0mlabel\u001b[0m\u001b[0;34m,\u001b[0m \u001b[0maxis\u001b[0m\u001b[0;34m=\u001b[0m\u001b[0maxis\u001b[0m\u001b[0;34m)\u001b[0m\u001b[0;34m\u001b[0m\u001b[0;34m\u001b[0m\u001b[0m\n\u001b[0m\u001b[1;32m    626\u001b[0m \u001b[0;34m\u001b[0m\u001b[0m\n\u001b[1;32m    627\u001b[0m     \u001b[0;32mdef\u001b[0m \u001b[0m_get_loc\u001b[0m\u001b[0;34m(\u001b[0m\u001b[0mself\u001b[0m\u001b[0;34m,\u001b[0m \u001b[0mkey\u001b[0m\u001b[0;34m:\u001b[0m \u001b[0mint\u001b[0m\u001b[0;34m,\u001b[0m \u001b[0maxis\u001b[0m\u001b[0;34m:\u001b[0m \u001b[0mint\u001b[0m\u001b[0;34m)\u001b[0m\u001b[0;34m:\u001b[0m\u001b[0;34m\u001b[0m\u001b[0;34m\u001b[0m\u001b[0m\n",
            "\u001b[0;32m/usr/local/lib/python3.6/dist-packages/pandas/core/generic.py\u001b[0m in \u001b[0;36mxs\u001b[0;34m(self, key, axis, level, drop_level)\u001b[0m\n\u001b[1;32m   3562\u001b[0m                 \u001b[0mindex\u001b[0m\u001b[0;34m=\u001b[0m\u001b[0mself\u001b[0m\u001b[0;34m.\u001b[0m\u001b[0mcolumns\u001b[0m\u001b[0;34m,\u001b[0m\u001b[0;34m\u001b[0m\u001b[0;34m\u001b[0m\u001b[0m\n\u001b[1;32m   3563\u001b[0m                 \u001b[0mname\u001b[0m\u001b[0;34m=\u001b[0m\u001b[0mself\u001b[0m\u001b[0;34m.\u001b[0m\u001b[0mindex\u001b[0m\u001b[0;34m[\u001b[0m\u001b[0mloc\u001b[0m\u001b[0;34m]\u001b[0m\u001b[0;34m,\u001b[0m\u001b[0;34m\u001b[0m\u001b[0;34m\u001b[0m\u001b[0m\n\u001b[0;32m-> 3564\u001b[0;31m                 \u001b[0mdtype\u001b[0m\u001b[0;34m=\u001b[0m\u001b[0mnew_values\u001b[0m\u001b[0;34m.\u001b[0m\u001b[0mdtype\u001b[0m\u001b[0;34m,\u001b[0m\u001b[0;34m\u001b[0m\u001b[0;34m\u001b[0m\u001b[0m\n\u001b[0m\u001b[1;32m   3565\u001b[0m             )\n\u001b[1;32m   3566\u001b[0m \u001b[0;34m\u001b[0m\u001b[0m\n",
            "\u001b[0;32m/usr/local/lib/python3.6/dist-packages/pandas/core/series.py\u001b[0m in \u001b[0;36m__init__\u001b[0;34m(self, data, index, dtype, name, copy, fastpath)\u001b[0m\n\u001b[1;32m    303\u001b[0m                     \u001b[0mdata\u001b[0m \u001b[0;34m=\u001b[0m \u001b[0mdata\u001b[0m\u001b[0;34m.\u001b[0m\u001b[0mcopy\u001b[0m\u001b[0;34m(\u001b[0m\u001b[0;34m)\u001b[0m\u001b[0;34m\u001b[0m\u001b[0;34m\u001b[0m\u001b[0m\n\u001b[1;32m    304\u001b[0m             \u001b[0;32melse\u001b[0m\u001b[0;34m:\u001b[0m\u001b[0;34m\u001b[0m\u001b[0;34m\u001b[0m\u001b[0m\n\u001b[0;32m--> 305\u001b[0;31m                 \u001b[0mdata\u001b[0m \u001b[0;34m=\u001b[0m \u001b[0msanitize_array\u001b[0m\u001b[0;34m(\u001b[0m\u001b[0mdata\u001b[0m\u001b[0;34m,\u001b[0m \u001b[0mindex\u001b[0m\u001b[0;34m,\u001b[0m \u001b[0mdtype\u001b[0m\u001b[0;34m,\u001b[0m \u001b[0mcopy\u001b[0m\u001b[0;34m,\u001b[0m \u001b[0mraise_cast_failure\u001b[0m\u001b[0;34m=\u001b[0m\u001b[0;32mTrue\u001b[0m\u001b[0;34m)\u001b[0m\u001b[0;34m\u001b[0m\u001b[0;34m\u001b[0m\u001b[0m\n\u001b[0m\u001b[1;32m    306\u001b[0m \u001b[0;34m\u001b[0m\u001b[0m\n\u001b[1;32m    307\u001b[0m                 \u001b[0mdata\u001b[0m \u001b[0;34m=\u001b[0m \u001b[0mSingleBlockManager\u001b[0m\u001b[0;34m(\u001b[0m\u001b[0mdata\u001b[0m\u001b[0;34m,\u001b[0m \u001b[0mindex\u001b[0m\u001b[0;34m,\u001b[0m \u001b[0mfastpath\u001b[0m\u001b[0;34m=\u001b[0m\u001b[0;32mTrue\u001b[0m\u001b[0;34m)\u001b[0m\u001b[0;34m\u001b[0m\u001b[0;34m\u001b[0m\u001b[0m\n",
            "\u001b[0;32m/usr/local/lib/python3.6/dist-packages/pandas/core/construction.py\u001b[0m in \u001b[0;36msanitize_array\u001b[0;34m(data, index, dtype, copy, raise_cast_failure)\u001b[0m\n\u001b[1;32m    396\u001b[0m         \u001b[0mdtype\u001b[0m \u001b[0;34m=\u001b[0m \u001b[0mpandas_dtype\u001b[0m\u001b[0;34m(\u001b[0m\u001b[0mdtype\u001b[0m\u001b[0;34m)\u001b[0m\u001b[0;34m\u001b[0m\u001b[0;34m\u001b[0m\u001b[0m\n\u001b[1;32m    397\u001b[0m \u001b[0;34m\u001b[0m\u001b[0m\n\u001b[0;32m--> 398\u001b[0;31m     \u001b[0;32mif\u001b[0m \u001b[0misinstance\u001b[0m\u001b[0;34m(\u001b[0m\u001b[0mdata\u001b[0m\u001b[0;34m,\u001b[0m \u001b[0mma\u001b[0m\u001b[0;34m.\u001b[0m\u001b[0mMaskedArray\u001b[0m\u001b[0;34m)\u001b[0m\u001b[0;34m:\u001b[0m\u001b[0;34m\u001b[0m\u001b[0;34m\u001b[0m\u001b[0m\n\u001b[0m\u001b[1;32m    399\u001b[0m         \u001b[0mmask\u001b[0m \u001b[0;34m=\u001b[0m \u001b[0mma\u001b[0m\u001b[0;34m.\u001b[0m\u001b[0mgetmaskarray\u001b[0m\u001b[0;34m(\u001b[0m\u001b[0mdata\u001b[0m\u001b[0;34m)\u001b[0m\u001b[0;34m\u001b[0m\u001b[0;34m\u001b[0m\u001b[0m\n\u001b[1;32m    400\u001b[0m         \u001b[0;32mif\u001b[0m \u001b[0mmask\u001b[0m\u001b[0;34m.\u001b[0m\u001b[0many\u001b[0m\u001b[0;34m(\u001b[0m\u001b[0;34m)\u001b[0m\u001b[0;34m:\u001b[0m\u001b[0;34m\u001b[0m\u001b[0;34m\u001b[0m\u001b[0m\n",
            "\u001b[0;31mKeyboardInterrupt\u001b[0m: "
          ]
        }
      ]
    },
    {
      "cell_type": "code",
      "metadata": {
        "id": "NVH0XDUrsuvk",
        "colab_type": "code",
        "colab": {}
      },
      "source": [
        "def VaR(loss,alpha):\n",
        "  choose_num=int(len(loss[1])*alpha)\n",
        "  a=loss.copy()\n",
        "  VaR_list_loss=[]\n",
        "  for i in range(10):\n",
        "    b=a[i]\n",
        "    b.sort()\n",
        "    res=b[choose_num]\n",
        "    VaR_list_loss.append(res)\n",
        "  return VaR_list_loss \n",
        "\n",
        "def CVaR(loss,alpha):\n",
        "  choose_num=int(len(loss[1])*alpha)\n",
        "  a=loss.copy()\n",
        "  CVaR_list_loss=[]\n",
        "  for i in range(10):\n",
        "    b=a[i]\n",
        "    b.sort()\n",
        "    res=np.mean(b[choose_num:])\n",
        "    CVaR_list_loss.append(res)\n",
        "  return CVaR_list_loss"
      ],
      "execution_count": 0,
      "outputs": []
    },
    {
      "cell_type": "code",
      "metadata": {
        "id": "6ZgTMCMNvvg6",
        "colab_type": "code",
        "colab": {}
      },
      "source": [
        "equity_var95=VaR(linloss_list,0.95)\n",
        "equity_var99=VaR(linloss_list,0.99)\n",
        "equity_es95=CVaR(linloss_list,0.95)\n",
        "equity_es99=CVaR(linloss_list,0.99)"
      ],
      "execution_count": 0,
      "outputs": []
    },
    {
      "cell_type": "code",
      "metadata": {
        "id": "5KXtzMeDQ62F",
        "colab_type": "code",
        "colab": {}
      },
      "source": [
        "import seaborn as sns \n",
        "import matplotlib.pyplot as plt\n",
        "def pdf_function1(loss,title):\n",
        "  sns.distplot(loss,color=\"black\",bins=50,kde=True)\n",
        "  plt.title(title)\n",
        "  plt.show()"
      ],
      "execution_count": 0,
      "outputs": []
    },
    {
      "cell_type": "markdown",
      "metadata": {
        "id": "ZNZVKlbactyQ",
        "colab_type": "text"
      },
      "source": [
        "**Above all,we use 4-year rolling window to approximate the equity loss from 2019.01.02 to 2020.4.22.**"
      ]
    },
    {
      "cell_type": "markdown",
      "metadata": {
        "id": "0DkacXUcdd7e",
        "colab_type": "text"
      },
      "source": [
        "# **Now we work on bond loss approximation**"
      ]
    },
    {
      "cell_type": "code",
      "metadata": {
        "id": "1gDKSZM5vIr-",
        "colab_type": "code",
        "colab": {}
      },
      "source": [
        "bond1=[2.258,2.310,2.324,2.383,2.233,2.209,2.242,2.245,2.365,2.376,2.396,2.368,2.273,2.264,2.108,2.175,2.126,2.044,1.858,1.712,1.423,1.870,1.375,1.257,1.330,1.260]\n",
        "bond3=[2.271,2.322,2.321,2.380,2.233,2.207,2.238,2.246,2.355,2.372,2.388,2.352,2.258,2.241,2.088,2.162,2.119,2.033,1.851,1.690,1.387,1.853,1.412,1.283,1.359,1.296]"
      ],
      "execution_count": 0,
      "outputs": []
    },
    {
      "cell_type": "code",
      "metadata": {
        "id": "-8FAV5LGz1qy",
        "colab_type": "code",
        "outputId": "65317ff6-946b-4dda-ef73-e156228d0040",
        "colab": {
          "base_uri": "https://localhost:8080/",
          "height": 34
        }
      },
      "source": [
        "weektime[283]"
      ],
      "execution_count": 413,
      "outputs": [
        {
          "output_type": "execute_result",
          "data": {
            "text/plain": [
              "Timestamp('2017-06-07 00:00:00', freq='C')"
            ]
          },
          "metadata": {
            "tags": []
          },
          "execution_count": 413
        }
      ]
    },
    {
      "cell_type": "code",
      "metadata": {
        "id": "08tS7_fD0_SW",
        "colab_type": "code",
        "outputId": "85ee11ba-599a-4141-9956-bcdde0b2f8e8",
        "colab": {
          "base_uri": "https://localhost:8080/",
          "height": 34
        }
      },
      "source": [
        "weektime[364]"
      ],
      "execution_count": 414,
      "outputs": [
        {
          "output_type": "execute_result",
          "data": {
            "text/plain": [
              "Timestamp('2018-12-26 00:00:00', freq='C')"
            ]
          },
          "metadata": {
            "tags": []
          },
          "execution_count": 414
        }
      ]
    },
    {
      "cell_type": "markdown",
      "metadata": {
        "id": "w4gk4-kW0vVg",
        "colab_type": "text"
      },
      "source": [
        "**use data of 19 months----starts from 2017.6.7 to 2018.12.26-----to estimate risk factor yield, and  then approximate data from 2019.01.02 to 2020.4.22**"
      ]
    },
    {
      "cell_type": "code",
      "metadata": {
        "id": "1wUxk9Wl0uj4",
        "colab_type": "code",
        "outputId": "93fb2c79-e200-4ea5-ed64-72289d7adc09",
        "colab": {
          "base_uri": "https://localhost:8080/",
          "height": 34
        }
      },
      "source": [
        "q1_time=weektime[283:]\n",
        "q1_time[81]\n",
        "len(q1_time[82:])\n",
        "#calculating from 2017.6.7 to 2018.12.26 we have 68 values and we need to approximate 69 values.we have total 150 data."
      ],
      "execution_count": 415,
      "outputs": [
        {
          "output_type": "execute_result",
          "data": {
            "text/plain": [
              "68"
            ]
          },
          "metadata": {
            "tags": []
          },
          "execution_count": 415
        }
      ]
    },
    {
      "cell_type": "code",
      "metadata": {
        "id": "fwzDDt2M2aKj",
        "colab_type": "code",
        "colab": {}
      },
      "source": [
        "lack_time=q1_time[:124]\n",
        "lack_time[56]=pd.Timestamp(2018,7,2)\n",
        "lack_time[108]=pd.Timestamp(2019,7,2)\n"
      ],
      "execution_count": 0,
      "outputs": []
    },
    {
      "cell_type": "code",
      "metadata": {
        "id": "7kC5KBE219Hv",
        "colab_type": "code",
        "outputId": "b27e765a-78b7-42cf-9bc7-79b5c8b28248",
        "colab": {
          "base_uri": "https://localhost:8080/",
          "height": 34
        }
      },
      "source": [
        "B30= drd.get_data_yahoo('^TYX','06/07/2017','10/16/2019',interval='d')\n",
        "bond_lack=[]\n",
        "for i in range(len(lack_time)):\n",
        "  a=lack_time[i]\n",
        "  b=B30.loc[a,'Adj Close']\n",
        "  bond_lack.append(b)\n",
        "len(bond_lack)"
      ],
      "execution_count": 417,
      "outputs": [
        {
          "output_type": "execute_result",
          "data": {
            "text/plain": [
              "124"
            ]
          },
          "metadata": {
            "tags": []
          },
          "execution_count": 417
        }
      ]
    },
    {
      "cell_type": "code",
      "metadata": {
        "id": "Z7t-FOIYiXQ7",
        "colab_type": "code",
        "outputId": "800a57b6-6159-4e06-ff3d-3e4a7cee336c",
        "colab": {
          "base_uri": "https://localhost:8080/",
          "height": 34
        }
      },
      "source": [
        "bond33=[c*0.01 for c in bond3]\n",
        "bond11=[c*0.01 for c in bond1]\n",
        "bond_lack1=[c*0.01 for c in bond_lack]\n",
        "bond30=bond_lack1+bond33\n",
        "bond10=bond_lack1+bond11\n",
        "len(bond10)"
      ],
      "execution_count": 418,
      "outputs": [
        {
          "output_type": "execute_result",
          "data": {
            "text/plain": [
              "150"
            ]
          },
          "metadata": {
            "tags": []
          },
          "execution_count": 418
        }
      ]
    },
    {
      "cell_type": "code",
      "metadata": {
        "id": "Chciazlx5W2K",
        "colab_type": "code",
        "outputId": "072b2126-4cbf-48df-bf8e-e5bc91ed23f3",
        "colab": {
          "base_uri": "https://localhost:8080/",
          "height": 34
        }
      },
      "source": [
        "len(q1_time)"
      ],
      "execution_count": 419,
      "outputs": [
        {
          "output_type": "execute_result",
          "data": {
            "text/plain": [
              "150"
            ]
          },
          "metadata": {
            "tags": []
          },
          "execution_count": 419
        }
      ]
    },
    {
      "cell_type": "code",
      "metadata": {
        "id": "Uk-2ndyLk8Sb",
        "colab_type": "code",
        "outputId": "384f09ca-aa5f-4a39-c414-71628aecac91",
        "colab": {
          "base_uri": "https://localhost:8080/",
          "height": 34
        }
      },
      "source": [
        "len(bond10)"
      ],
      "execution_count": 420,
      "outputs": [
        {
          "output_type": "execute_result",
          "data": {
            "text/plain": [
              "150"
            ]
          },
          "metadata": {
            "tags": []
          },
          "execution_count": 420
        }
      ]
    },
    {
      "cell_type": "code",
      "metadata": {
        "id": "OddwdFMyzqEh",
        "colab_type": "code",
        "colab": {}
      },
      "source": [
        "a30=5+31+29+31+30+31+30+31+15\n",
        "c=a30/365+25\n",
        "#2018.12.26 PERIOD\n",
        "#21-40:20\n",
        "#41-43:3\n",
        "#19-20:2"
      ],
      "execution_count": 0,
      "outputs": []
    },
    {
      "cell_type": "code",
      "metadata": {
        "id": "IpuMmZQyAu4W",
        "colab_type": "code",
        "outputId": "fc46fb64-1f7f-43f4-fedf-a79233046485",
        "colab": {
          "base_uri": "https://localhost:8080/",
          "height": 34
        }
      },
      "source": [
        "period_list1=[c,]\n",
        "period_list2=[c,]\n",
        "for i in range(68):\n",
        "  a30=a30-7\n",
        "  b1=a30/365+28\n",
        "  b2=a30/365+25\n",
        "  period_list1.append(b1)\n",
        "  period_list2.append(b2)\n",
        "\n",
        "period30=period_list1\n",
        "period10=period_list2\n",
        "len(period30)"
      ],
      "execution_count": 422,
      "outputs": [
        {
          "output_type": "execute_result",
          "data": {
            "text/plain": [
              "69"
            ]
          },
          "metadata": {
            "tags": []
          },
          "execution_count": 422
        }
      ]
    },
    {
      "cell_type": "code",
      "metadata": {
        "id": "-cNkFGGNC1Xk",
        "colab_type": "code",
        "colab": {}
      },
      "source": [
        "yield_change10=[]\n",
        "yield_change30=[]\n",
        "for i in range(len(bond10)-1):\n",
        "  a=bond30[i+1]-bond30[i]\n",
        "  b=bond10[i+1]-bond10[i]\n",
        "  yield_change10.append(b)\n",
        "  yield_change30.append(a)\n",
        "#yield_change30\n",
        "#yield_change10\n",
        "yieldchange=[np.array(yield_change10),np.array(yield_change30)]\n"
      ],
      "execution_count": 0,
      "outputs": []
    },
    {
      "cell_type": "code",
      "metadata": {
        "id": "-vDUXjXBEq6-",
        "colab_type": "code",
        "colab": {}
      },
      "source": [
        "u_list=[]\n",
        "for j in range(69):\n",
        "  u=[]\n",
        "  for i in range(2):\n",
        "    a=yieldchange[i][j:(j+82)]\n",
        "    u.append(a.mean())\n",
        "  u_list.append(u)"
      ],
      "execution_count": 0,
      "outputs": []
    },
    {
      "cell_type": "code",
      "metadata": {
        "id": "Ni02Vt1dEs1d",
        "colab_type": "code",
        "outputId": "ff4c2cba-b7bd-496d-b41e-fdea06a03123",
        "colab": {
          "base_uri": "https://localhost:8080/",
          "height": 111
        }
      },
      "source": [
        "cov_list=[]\n",
        "bond_index=['bond10','bond30']\n",
        "for j in range(69):\n",
        "  df_temp={}\n",
        "  for i in range(2):\n",
        "    df_temp[bond_index[i]]=yieldchange[i][j:(j+82)]\n",
        "  df = pd.DataFrame(df_temp)\n",
        "  cov_mat=df.cov()  \n",
        "  cov_list.append(cov_mat)\n",
        "\n",
        "cov_list[0]"
      ],
      "execution_count": 425,
      "outputs": [
        {
          "output_type": "execute_result",
          "data": {
            "text/html": [
              "<div>\n",
              "<style scoped>\n",
              "    .dataframe tbody tr th:only-of-type {\n",
              "        vertical-align: middle;\n",
              "    }\n",
              "\n",
              "    .dataframe tbody tr th {\n",
              "        vertical-align: top;\n",
              "    }\n",
              "\n",
              "    .dataframe thead th {\n",
              "        text-align: right;\n",
              "    }\n",
              "</style>\n",
              "<table border=\"1\" class=\"dataframe\">\n",
              "  <thead>\n",
              "    <tr style=\"text-align: right;\">\n",
              "      <th></th>\n",
              "      <th>bond10</th>\n",
              "      <th>bond30</th>\n",
              "    </tr>\n",
              "  </thead>\n",
              "  <tbody>\n",
              "    <tr>\n",
              "      <th>bond10</th>\n",
              "      <td>5.317687e-07</td>\n",
              "      <td>5.317687e-07</td>\n",
              "    </tr>\n",
              "    <tr>\n",
              "      <th>bond30</th>\n",
              "      <td>5.317687e-07</td>\n",
              "      <td>5.317687e-07</td>\n",
              "    </tr>\n",
              "  </tbody>\n",
              "</table>\n",
              "</div>"
            ],
            "text/plain": [
              "              bond10        bond30\n",
              "bond10  5.317687e-07  5.317687e-07\n",
              "bond30  5.317687e-07  5.317687e-07"
            ]
          },
          "metadata": {
            "tags": []
          },
          "execution_count": 425
        }
      ]
    },
    {
      "cell_type": "code",
      "metadata": {
        "id": "z2YC8xBN-0nB",
        "colab_type": "code",
        "outputId": "da8688b2-6a4b-4ffa-f745-7fe60a137cb0",
        "colab": {
          "base_uri": "https://localhost:8080/",
          "height": 34
        }
      },
      "source": [
        "#2017.06.07\n",
        "a30=31+29+31+30+31+30+31+15+23+31+31+30+31+30+31\n",
        "c=a30/365+26\n",
        "#2018.12.26 PERIOD\n",
        "#21-40:20\n",
        "#41-43:3\n",
        "#18-20:3\n",
        "c\n",
        "d=c+3\n",
        "d\n",
        "p1=np.exp(-bond10[0]*c)\n",
        "p2=np.exp(-bond30[0]*d)\n",
        "p2"
      ],
      "execution_count": 426,
      "outputs": [
        {
          "output_type": "execute_result",
          "data": {
            "text/plain": [
              "0.4246284236937901"
            ]
          },
          "metadata": {
            "tags": []
          },
          "execution_count": 426
        }
      ]
    },
    {
      "cell_type": "code",
      "metadata": {
        "id": "5yqWvFxjSvjm",
        "colab_type": "code",
        "colab": {}
      },
      "source": [
        "share1=300000/p1 #2017.06.07 bond10 price=p1/share; 300000 capital\n",
        "share2=300000/p2  #2017.06.07 bond30 price=p2/share; 300000 capital\n",
        "linloss_bond=[]\n",
        "for i in range(10):\n",
        "  loss_generate=[]\n",
        "  for m in range(5000):\n",
        "    var = np.random.multivariate_normal(mean=u_list[i], cov=cov_list[i])\n",
        "    a=share1*np.exp(-bond10[-10+i]*period10[i])*(bond10[-10+i]-(period10[i]*var[0]))+share2*np.exp(-bond30[-10+i]*period30[i])*(bond30[-10+i]-(period30[i]*var[1]))\n",
        "    loss_generate.append(-a)\n",
        "  linloss_bond.append(loss_generate)\n",
        "\n",
        "#linloss_bond"
      ],
      "execution_count": 0,
      "outputs": []
    },
    {
      "cell_type": "code",
      "metadata": {
        "id": "mik_TC2izpqK",
        "colab_type": "code",
        "colab": {}
      },
      "source": [
        "bond_var95=VaR(linloss_bond,0.95)\n",
        "bond_var99=VaR(linloss_bond,0.99)\n",
        "bond_es95=CVaR(linloss_bond,0.95)\n",
        "bond_es99=CVaR(linloss_bond,0.99)"
      ],
      "execution_count": 0,
      "outputs": []
    },
    {
      "cell_type": "code",
      "metadata": {
        "id": "2FOFEimkEFfz",
        "colab_type": "code",
        "colab": {}
      },
      "source": [
        "import seaborn as sns \n",
        "import matplotlib.pyplot as plt\n",
        "sns.set_style(\"darkgrid\")\n",
        "def pdf_function1(loss,title):\n",
        "  sns.distplot(loss,color=\"black\",bins=50,kde=True)\n",
        "  plt.title(title)\n",
        "  plt.show()"
      ],
      "execution_count": 0,
      "outputs": []
    },
    {
      "cell_type": "markdown",
      "metadata": {
        "id": "F8mNAbT1Bn7p",
        "colab_type": "text"
      },
      "source": [
        "# **Now we work on option loss approximation**"
      ]
    },
    {
      "cell_type": "code",
      "metadata": {
        "id": "fHZSzWWbGTfu",
        "colab_type": "code",
        "colab": {}
      },
      "source": [
        "libor2019=[0.02363,0.02349,0.02355,0.02356,0.02345,0.02350,0.02341,0.02354,0.02356,0.02355,0.02363,0.02352,0.02352,0.02099,0.02092,0.02093,0.02087,0.02091,0.02095,0.02185,0.01841,0.01851,0.01790,0.01823,0.01814,0.01804,0.01537,0.01539,0.01529,0.01540,0.01529,0.01525,0.01534,0.01533,0.01543,0.01533,0.01528,0.01533,0.01530,0.01575,0.01574,0.01577,0.01571,0.01088,0.01084,0.00380,0.00201,0.00109,0.00072,0.00066,0.00064,0.00055,0.00060]"
      ],
      "execution_count": 0,
      "outputs": []
    },
    {
      "cell_type": "code",
      "metadata": {
        "id": "b-5YyY3jGc4Q",
        "colab_type": "code",
        "colab": {}
      },
      "source": [
        "libor_q1=[0.02390,0.02387,0.02391,0.02385,0.02384,0.02384,0.02383,0.02384,0.02385,0.02388,0.02391,0.02390,0.02386,0.02392,0.02386,0.02389,0.02386,0.02384,0.02392]+libor2019[:-3]"
      ],
      "execution_count": 0,
      "outputs": []
    },
    {
      "cell_type": "code",
      "metadata": {
        "id": "bdOzrKbcJEXZ",
        "colab_type": "code",
        "outputId": "1fa95cfd-61ee-4148-bd83-eb81974746e4",
        "colab": {
          "base_uri": "https://localhost:8080/",
          "height": 34
        }
      },
      "source": [
        "len(libor_q1)"
      ],
      "execution_count": 663,
      "outputs": [
        {
          "output_type": "execute_result",
          "data": {
            "text/plain": [
              "69"
            ]
          },
          "metadata": {
            "tags": []
          },
          "execution_count": 663
        }
      ]
    },
    {
      "cell_type": "code",
      "metadata": {
        "id": "3YDOM0SVKEfU",
        "colab_type": "code",
        "outputId": "b7d4c954-7311-4dbf-98de-17640f5d3d15",
        "colab": {
          "base_uri": "https://localhost:8080/",
          "height": 34
        }
      },
      "source": [
        "weektime2=q1_time[81:]\n",
        "#calculating from 2019.1.2 to 2020.4.15 we have 68 values and we need to approximate 69 values.we have total 150 data.\n",
        "len(weektime2)"
      ],
      "execution_count": 664,
      "outputs": [
        {
          "output_type": "execute_result",
          "data": {
            "text/plain": [
              "69"
            ]
          },
          "metadata": {
            "tags": []
          },
          "execution_count": 664
        }
      ]
    },
    {
      "cell_type": "code",
      "metadata": {
        "id": "KZVRUwrA6_hf",
        "colab_type": "code",
        "colab": {}
      },
      "source": [
        "meli=[]\n",
        "mmm=[]\n",
        "spx=[]\n",
        "incy=[]\n",
        "meli_put=[]\n",
        "tsla=[]\n",
        "nvda=[]\n",
        "for i in range(len(q1_time)):\n",
        "  time=q1_time[i]\n",
        "  a=MELI.loc[time]['Adj Close']\n",
        "  b=MMM.loc[time]['Adj Close']\n",
        "  c=10*SPY.loc[time]['Adj Close']\n",
        "  d=INCY.loc[time]['Adj Close']\n",
        "  e=MELI.loc[time]['Adj Close']\n",
        "  f=TSLA.loc[time]['Adj Close']\n",
        "  g=NVDA.loc[time]['Adj Close']\n",
        "  meli.append(a)\n",
        "  mmm.append(b)\n",
        "  spx.append(c)\n",
        "  incy.append(a)\n",
        "  meli_put.append(a)\n",
        "  tsla.append(a)\n",
        "  nvda.append(a)"
      ],
      "execution_count": 0,
      "outputs": []
    },
    {
      "cell_type": "code",
      "metadata": {
        "id": "IwNROzJS8pe9",
        "colab_type": "code",
        "outputId": "c67c5b5a-41ed-45e6-c74c-88160f8262c2",
        "colab": {
          "base_uri": "https://localhost:8080/",
          "height": 34
        }
      },
      "source": [
        "meli_price1=meli[81:]\n",
        "mmm_price1=mmm[81:]\n",
        "spx_price1=spx[81:]\n",
        "meli_put_price1=meli_put[81:]\n",
        "incy_price1=incy[81:]\n",
        "tsla_price1=tsla[81:]\n",
        "nvda_price1=nvda[81:]\n",
        "\n",
        "len(meli_put_price1)"
      ],
      "execution_count": 436,
      "outputs": [
        {
          "output_type": "execute_result",
          "data": {
            "text/plain": [
              "69"
            ]
          },
          "metadata": {
            "tags": []
          },
          "execution_count": 436
        }
      ]
    },
    {
      "cell_type": "code",
      "metadata": {
        "id": "vGQqDzw7NaCW",
        "colab_type": "code",
        "colab": {}
      },
      "source": [
        "def vol_finder(sigma,weektime):\n",
        "  len(sigma)\n",
        "  tradingdays3=sigma.index\n",
        "  vol=[]\n",
        "  for i in range(len(weektime)):\n",
        "    a=list(tradingdays3).index(weektime[i])\n",
        "    b=np.log(np.array(sigma[:a]['Adj Close'])).std()\n",
        "    vol.append(b)\n",
        "  return vol"
      ],
      "execution_count": 0,
      "outputs": []
    },
    {
      "cell_type": "code",
      "metadata": {
        "id": "YtXTNUH_N5km",
        "colab_type": "code",
        "colab": {}
      },
      "source": [
        "mmm_vol=drd.get_data_yahoo('MMM','01/05/2000','04/15/2020',interval='d')\n",
        "mmm_sigma=vol_finder(mmm_vol,weektime2)\n",
        "spx_vol=drd.get_data_yahoo('SPY','01/05/2000','04/15/2020',interval='d')\n",
        "spx_sigma=vol_finder(spx_vol,weektime2)\n",
        "meli_vol=drd.get_data_yahoo('MELI','08/09/2007','04/15/2020',interval='d')\n",
        "meli_sigma=vol_finder(meli_vol,weektime2)\n",
        "incy_vol=drd.get_data_yahoo('INCY','01/05/2000','04/15/2020',interval='d')\n",
        "incy_sigma=vol_finder(incy_vol,weektime2)\n",
        "tsla_vol=drd.get_data_yahoo('TSLA','06/28/2010','04/15/2020',interval='d')\n",
        "tsla_sigma=vol_finder(tsla_vol,weektime2)\n",
        "nvda_vol=drd.get_data_yahoo('NVDA','01/05/2000','04/15/2020',interval='d')\n",
        "nvda_sigma=vol_finder(nvda_vol,weektime2)\n",
        "meli_put_sigma=meli_sigma"
      ],
      "execution_count": 0,
      "outputs": []
    },
    {
      "cell_type": "code",
      "metadata": {
        "id": "uENpuXuEx5e0",
        "colab_type": "code",
        "colab": {}
      },
      "source": [
        "a=5+365+31+29+31+30+31+19\n",
        "#meli 6.19, mmm 7.17, spx 5.14 2018.12.26 incy 5.15 meli_put 5.15 nvda 5.15 tsla 5.15\n",
        "b=5+365+31+29+31+30+31+30+17\n",
        "c=5+365+31+29+31+30+14\n",
        "d=5+365+31+29+31+30+15\n",
        "meli_maturity=[a/365,]\n",
        "mmm_maturity=[b/365,]\n",
        "spx_maturity=[c/365,]\n",
        "incy_maturity=[d/365,]\n",
        "meli_put_maturity=[d/365,]\n",
        "nvda_maturity=[d/365,]\n",
        "tsla_maturity=[d/365,]\n",
        "for i in range(68):\n",
        "  a=a-7\n",
        "  b=b-7\n",
        "  c=c-7\n",
        "  d=d-7\n",
        "  meli_maturity.append(a/365)\n",
        "  mmm_maturity.append(b/365)\n",
        "  spx_maturity.append(c/365)\n",
        "  incy_maturity.append(d/365)\n",
        "  meli_put_maturity.append(d/365)\n",
        "  nvda_maturity.append(d/365)\n",
        "  tsla_maturity.append(d/365)"
      ],
      "execution_count": 0,
      "outputs": []
    },
    {
      "cell_type": "code",
      "metadata": {
        "id": "3mPFedx-JiYM",
        "colab_type": "code",
        "colab": {}
      },
      "source": [
        "from scipy.stats import norm\n",
        "def delta_finder(S,T,K,r,sigma):\n",
        "  n=len(S)\n",
        "  delta_list=[]\n",
        "  for i in range(n):\n",
        "    d1= (np.log(S[i] / K) + (r[i] + 0.5 * sigma[i] ** 2) * T[i]) / (sigma[i] * np.sqrt(T[i]))\n",
        "    delta=norm.cdf(d1)-1\n",
        "    delta_list.append(delta)\n",
        "  return delta_list"
      ],
      "execution_count": 0,
      "outputs": []
    },
    {
      "cell_type": "code",
      "metadata": {
        "id": "ndZPLUUHQuuq",
        "colab_type": "code",
        "colab": {}
      },
      "source": [
        "spx_delta=delta_finder(spx_price1,spx_maturity,2885,libor_q1,spx_sigma)\n",
        "meli_delta=[i+1 for i in delta_finder(meli_price1,meli_maturity,640,libor_q1,meli_sigma)]\n",
        "mmm_delta=[i+1 for i in delta_finder(mmm_price1,mmm_maturity,130,libor_q1,mmm_sigma)]\n",
        "spx_delta\n",
        "incy_delta=delta_finder(incy_price1,incy_maturity,85,libor_q1,incy_sigma)\n",
        "meli_put_delta=delta_finder(meli_put_price1,meli_put_maturity,570,libor_q1,meli_put_sigma)\n",
        "nvda_delta=delta_finder(nvda_price1,nvda_maturity,280,libor_q1,nvda_sigma)\n",
        "tsla_delta=delta_finder(tsla_price1,tsla_maturity,650,libor_q1,tsla_sigma)"
      ],
      "execution_count": 0,
      "outputs": []
    },
    {
      "cell_type": "code",
      "metadata": {
        "id": "-2L-vfXW6oi6",
        "colab_type": "code",
        "outputId": "9860fccd-aad8-4b70-b755-990c90002a9a",
        "colab": {
          "base_uri": "https://localhost:8080/",
          "height": 1000
        }
      },
      "source": [
        "mmm_delta"
      ],
      "execution_count": 442,
      "outputs": [
        {
          "output_type": "execute_result",
          "data": {
            "text/plain": [
              "[0.8041439797056374,\n",
              " 0.8138878688475686,\n",
              " 0.8167220820800154,\n",
              " 0.8110743198449536,\n",
              " 0.8169297542931733,\n",
              " 0.8305966846054453,\n",
              " 0.8368398999725253,\n",
              " 0.8494311289162823,\n",
              " 0.8501819704865607,\n",
              " 0.8513513138256326,\n",
              " 0.8409019093940929,\n",
              " 0.8480350909755328,\n",
              " 0.8511845784028598,\n",
              " 0.8496389557150816,\n",
              " 0.8599970821364875,\n",
              " 0.8587899910870906,\n",
              " 0.8680253994597558,\n",
              " 0.8707453427492906,\n",
              " 0.8089211828671228,\n",
              " 0.7907168241457225,\n",
              " 0.7789139450981348,\n",
              " 0.7666234831180582,\n",
              " 0.7452359024144829,\n",
              " 0.752961395837832,\n",
              " 0.7689227546402633,\n",
              " 0.7741711189656282,\n",
              " 0.7777408513631904,\n",
              " 0.7869188973951244,\n",
              " 0.7590543902844569,\n",
              " 0.786716113642475,\n",
              " 0.8003896982303802,\n",
              " 0.7875358920558493,\n",
              " 0.7512252706320885,\n",
              " 0.7339448218194053,\n",
              " 0.7479121193654568,\n",
              " 0.7346261160843867,\n",
              " 0.7442615067381197,\n",
              " 0.7729899067332244,\n",
              " 0.7717249353270572,\n",
              " 0.7583672323384966,\n",
              " 0.7261745269516047,\n",
              " 0.7057675619695001,\n",
              " 0.7528124144147369,\n",
              " 0.7778173491623033,\n",
              " 0.7771936412353595,\n",
              " 0.7966523469852242,\n",
              " 0.7858011829257132,\n",
              " 0.7765896010043561,\n",
              " 0.7936469612408839,\n",
              " 0.7819552566258017,\n",
              " 0.7893649573274321,\n",
              " 0.791949322023026,\n",
              " 0.8212204476933702,\n",
              " 0.8223422819024877,\n",
              " 0.8384545350009149,\n",
              " 0.838013325090325,\n",
              " 0.8346185731236873,\n",
              " 0.7723114333212402,\n",
              " 0.7760139154480061,\n",
              " 0.7851475051095587,\n",
              " 0.7729533048034383,\n",
              " 0.716427316339143,\n",
              " 0.7469392280423117,\n",
              " 0.7066128533993842,\n",
              " 0.6286579236949809,\n",
              " 0.5798464234969678,\n",
              " 0.5928150236331333,\n",
              " 0.7253398256245859,\n",
              " 0.6990003919287866]"
            ]
          },
          "metadata": {
            "tags": []
          },
          "execution_count": 442
        }
      ]
    },
    {
      "cell_type": "code",
      "metadata": {
        "id": "wPaNpj7xF-fk",
        "colab_type": "code",
        "colab": {}
      },
      "source": [
        "meli_price1.append(601.05)\n",
        "mmm_price1.append(143.61)\n",
        "spx_price1.append(2791)\n",
        "incy_price1.append(100.97)\n",
        "meli_put_price1.append(601.05)\n",
        "nvda_price1.append(286.15)\n",
        "tsla_price1.append(732.11)"
      ],
      "execution_count": 0,
      "outputs": []
    },
    {
      "cell_type": "code",
      "metadata": {
        "id": "XrtpIQIdqrDM",
        "colab_type": "code",
        "outputId": "09b8500b-55c2-4b86-9794-c723d1d7c90d",
        "colab": {
          "base_uri": "https://localhost:8080/",
          "height": 34
        }
      },
      "source": [
        "len(incy_price1)"
      ],
      "execution_count": 444,
      "outputs": [
        {
          "output_type": "execute_result",
          "data": {
            "text/plain": [
              "70"
            ]
          },
          "metadata": {
            "tags": []
          },
          "execution_count": 444
        }
      ]
    },
    {
      "cell_type": "code",
      "metadata": {
        "id": "A7BJlXARqq5p",
        "colab_type": "code",
        "colab": {}
      },
      "source": [
        "option_loss=[]\n",
        "for i in range(69):\n",
        "  a=100*meli_delta[i]*(meli_price1[i+1]-meli_price1[i])\n",
        "  b=200*mmm_delta[i]*(mmm_price1[i+1]-mmm_price1[i])\n",
        "  c=-100*spx_delta[i]*(spx_price1[i+1]-spx_price1[i])\n",
        "  d=a+b+c\n",
        "  option_loss.append(d)"
      ],
      "execution_count": 0,
      "outputs": []
    },
    {
      "cell_type": "code",
      "metadata": {
        "id": "pZzUOJGvqqpi",
        "colab_type": "code",
        "outputId": "05f2cadb-9935-4184-b588-1e7cbaf8631c",
        "colab": {
          "base_uri": "https://localhost:8080/",
          "height": 1000
        }
      },
      "source": [
        "option_loss"
      ],
      "execution_count": 446,
      "outputs": [
        {
          "output_type": "execute_result",
          "data": {
            "text/plain": [
              "[3394.510975743759,\n",
              " 5787.144363324902,\n",
              " 1230.1500461608357,\n",
              " 880.8405562176273,\n",
              " 4439.769726653315,\n",
              " 2739.5431138560766,\n",
              " 2215.7482363319095,\n",
              " 1882.8137635012927,\n",
              " 4009.5337080170243,\n",
              " -1017.6560640605911,\n",
              " 4921.524306390045,\n",
              " 287.9021195912519,\n",
              " -1741.0681742931674,\n",
              " 5209.726995966064,\n",
              " 929.1756817560636,\n",
              " 438.4667523561017,\n",
              " 637.5943505159119,\n",
              " -5785.933686907137,\n",
              " 22.794498525473728,\n",
              " 534.2591353624574,\n",
              " -638.0148114620688,\n",
              " -3835.818065194726,\n",
              " 2148.3741013533972,\n",
              " 6464.189124501543,\n",
              " 3370.079789089975,\n",
              " -2464.2869253347108,\n",
              " 5408.40062296764,\n",
              " -1506.2312953373175,\n",
              " 890.3263249587791,\n",
              " 4013.787715704419,\n",
              " -4845.2701015315615,\n",
              " -5851.6376088372135,\n",
              " -2002.0288585971416,\n",
              " 4916.319629746018,\n",
              " -4701.496479208814,\n",
              " 2646.3215668211105,\n",
              " 1873.1436707182397,\n",
              " -858.6426992544823,\n",
              " -783.8310302903975,\n",
              " -5434.052262030584,\n",
              " 28.61910916562715,\n",
              " 5468.774674331378,\n",
              " 1122.8847181978279,\n",
              " 2119.726102300785,\n",
              " -1877.6283187340835,\n",
              " 1668.6372321114632,\n",
              " 1916.9078622947602,\n",
              " 4569.511972062415,\n",
              " -2695.742328183146,\n",
              " 1552.294302471408,\n",
              " 1850.526352334033,\n",
              " 2912.1339542464584,\n",
              " -1170.4881436118726,\n",
              " 4850.37899367055,\n",
              " 2540.373529052751,\n",
              " 738.4801609303147,\n",
              " -3466.290873482164,\n",
              " 2151.95453003284,\n",
              " 2845.589391961849,\n",
              " 2608.350836765315,\n",
              " -14844.523792642254,\n",
              " 2439.837911492704,\n",
              " -19302.097154753534,\n",
              " -25835.560917380524,\n",
              " 7089.600695309551,\n",
              " -1541.4562719718601,\n",
              " 27593.94313682144,\n",
              " 3637.525837205006,\n",
              " 1189.6288562426832]"
            ]
          },
          "metadata": {
            "tags": []
          },
          "execution_count": 446
        }
      ]
    },
    {
      "cell_type": "code",
      "metadata": {
        "id": "Koszv2__3aM1",
        "colab_type": "code",
        "colab": {
          "base_uri": "https://localhost:8080/",
          "height": 34
        },
        "outputId": "541e099c-cd19-441a-f243-aee08118c189"
      },
      "source": [
        "a=[1,2,3]\n",
        "b=np.sum(a)\n",
        "b"
      ],
      "execution_count": 447,
      "outputs": [
        {
          "output_type": "execute_result",
          "data": {
            "text/plain": [
              "6"
            ]
          },
          "metadata": {
            "tags": []
          },
          "execution_count": 447
        }
      ]
    },
    {
      "cell_type": "code",
      "metadata": {
        "id": "2ot5Ae862KYx",
        "colab_type": "code",
        "colab": {}
      },
      "source": [
        "option_var95=[]\n",
        "option_var99=[]\n",
        "option_es95=[]\n",
        "option_es99=[]\n",
        "for i in range(10):\n",
        "  dist=option_loss[i:i+60].copy()\n",
        "  dist.sort()\n",
        "  var95=dist[57]\n",
        "  var99=dist[59]\n",
        "  es95=np.sum(dist[57:])\n",
        "  es99=np.sum(dist[59:])\n",
        "  option_var95.append(var95)\n",
        "  option_var99.append(var99)\n",
        "  option_es95.append(es95)\n",
        "  option_es99.append(es95)"
      ],
      "execution_count": 0,
      "outputs": []
    },
    {
      "cell_type": "code",
      "metadata": {
        "id": "tLgowhR7qqeA",
        "colab_type": "code",
        "colab": {}
      },
      "source": [
        "portfolio_var95=np.sum([equity_var95,bond_var95,option_var95], axis = 0)\n",
        "portfolio_var99=np.sum([equity_var99,bond_var99,option_var99], axis = 0)\n",
        "portfolio_es95=np.sum([equity_es95,bond_es95,option_es95], axis = 0)\n",
        "portfolio_es99=np.sum([equity_es99,bond_es99,option_es99], axis = 0)\n",
        "\n",
        "for i in range(4):\n",
        "  portfolio_var95[i]=portfolio_var95[i]/2\n",
        "  portfolio_var99[i]=portfolio_var99[i]/2\n",
        "  portfolio_es95[i]=portfolio_es95[i]/2\n",
        "  portfolio_es99[i]=portfolio_es99[i]/2\n",
        "\n",
        "i=4\n",
        "portfolio_var95[i]=portfolio_var95[i]/1.2\n",
        "portfolio_var99[i]=portfolio_var99[i]/1.2\n",
        "portfolio_es95[i]=portfolio_es95[i]/1.2\n",
        "portfolio_es99[i]=portfolio_es99[i]/1.2\n"
      ],
      "execution_count": 0,
      "outputs": []
    },
    {
      "cell_type": "code",
      "metadata": {
        "id": "wwb3-iL87-4M",
        "colab_type": "code",
        "colab": {
          "base_uri": "https://localhost:8080/",
          "height": 187
        },
        "outputId": "1be80be0-6537-489e-927c-9ece3317945a"
      },
      "source": [
        "index_list111=weektime[-10:]\n",
        "index_list111\n",
        "#len(portfolio_es95)"
      ],
      "execution_count": 516,
      "outputs": [
        {
          "output_type": "execute_result",
          "data": {
            "text/plain": [
              "[Timestamp('2020-02-12 00:00:00', freq='C'),\n",
              " Timestamp('2020-02-19 00:00:00', freq='C'),\n",
              " Timestamp('2020-02-26 00:00:00', freq='C'),\n",
              " Timestamp('2020-03-04 00:00:00', freq='C'),\n",
              " Timestamp('2020-03-11 00:00:00', freq='C'),\n",
              " Timestamp('2020-03-18 00:00:00', freq='C'),\n",
              " Timestamp('2020-03-25 00:00:00', freq='C'),\n",
              " Timestamp('2020-04-01 00:00:00', freq='C'),\n",
              " Timestamp('2020-04-08 00:00:00', freq='C'),\n",
              " Timestamp('2020-04-15 00:00:00', freq='C')]"
            ]
          },
          "metadata": {
            "tags": []
          },
          "execution_count": 516
        }
      ]
    },
    {
      "cell_type": "code",
      "metadata": {
        "id": "Ry_Iy5pz6tak",
        "colab_type": "code",
        "colab": {
          "base_uri": "https://localhost:8080/",
          "height": 572
        },
        "outputId": "21088315-396a-4b9c-9206-67bf79364cd1"
      },
      "source": [
        "import matplotlib.dates as mdates\n",
        "from matplotlib.dates import MO, TU, WE, TH, FR, SA, SU\n",
        "sns.set_style(\"darkgrid\")\n",
        "plt.figure(figsize=(12,6),dpi=100)\n",
        "plt.gca().xaxis.set_major_formatter(mdates.DateFormatter('%m/%d/%Y'))\n",
        "plt.gca().xaxis.set_major_locator(mdates.WeekdayLocator(WE))\n",
        "plt.plot(index_list111,portfolio_var95,'r', label='norm-dist VaR0.95')\n",
        "plt.plot(index_list111,portfolio_var99,'c', label='norm-dist VaR0.99')\n",
        "plt.plot(index_list111,portfolio_es95,'b', label='norm-dist ES0.95')\n",
        "plt.plot(index_list111,portfolio_es99,'m', label='norm-dist ES0.99')\n",
        "\n",
        "#plt.xticks(index_list)\n",
        "plt.title('Norm-dist VaR/ES versus Time')\n",
        "plt.ylabel('Loss')\n",
        "plt.xlabel('Time')\n",
        "plt.legend()"
      ],
      "execution_count": 693,
      "outputs": [
        {
          "output_type": "execute_result",
          "data": {
            "text/plain": [
              "<matplotlib.legend.Legend at 0x7f7060306d30>"
            ]
          },
          "metadata": {
            "tags": []
          },
          "execution_count": 693
        },
        {
          "output_type": "display_data",
          "data": {
            "image/png": "[encoded data removed]",
            "text/plain": [
              "<Figure size 1200x600 with 1 Axes>"
            ]
          },
          "metadata": {
            "tags": []
          }
        }
      ]
    },
    {
      "cell_type": "markdown",
      "metadata": {
        "id": "4GhCRgzas8xG",
        "colab_type": "text"
      },
      "source": [
        "# **Now we work on question3 reduced risk**"
      ]
    },
    {
      "cell_type": "code",
      "metadata": {
        "id": "TQEiR5Y1s78g",
        "colab_type": "code",
        "colab": {}
      },
      "source": [
        "option_loss=[]\n",
        "for i in range(69):\n",
        "  a=100*meli_delta[i]*(meli_price1[i+1]-meli_price1[i])\n",
        "  b=200*mmm_delta[i]*(mmm_price1[i+1]-mmm_price1[i])\n",
        "  c=-100*spx_delta[i]*(spx_price1[i+1]-spx_price1[i])\n",
        "  d=-100*incy_delta[i]*(incy_price1[i+1]-incy_price1[i])\n",
        "  e=-100*meli_put_delta[i]*(meli_put_price1[i+1]-meli_put_price1[i])\n",
        "  f=-100*tsla_delta[i]*(tsla_price1[i+1]-tsla_price1[i])\n",
        "  g=-100*nvda_delta[i]*(nvda_price1[i+1]-nvda_price1[i])\n",
        "  h=a+b+c+e+f+g+d\n",
        "  option_loss.append(h)"
      ],
      "execution_count": 0,
      "outputs": []
    },
    {
      "cell_type": "code",
      "metadata": {
        "id": "Uvi7ZcRmtxgu",
        "colab_type": "code",
        "colab": {}
      },
      "source": [
        "portfolio_linloss1=np.sum([option_loss,linloss_equity,linloss_bond], axis = 0)"
      ],
      "execution_count": 0,
      "outputs": []
    },
    {
      "cell_type": "code",
      "metadata": {
        "id": "R2wveGksagWj",
        "colab_type": "code",
        "colab": {}
      },
      "source": [
        ""
      ],
      "execution_count": 0,
      "outputs": []
    },
    {
      "cell_type": "markdown",
      "metadata": {
        "id": "4EwXVeAFnb6A",
        "colab_type": "text"
      },
      "source": [
        "# **1.b) Portfolio t-distribution loss(2017.6.7-2020.4.22)**"
      ]
    },
    {
      "cell_type": "code",
      "metadata": {
        "id": "IwChP3oEqqJ8",
        "colab_type": "code",
        "outputId": "6f00bbbc-23e9-4189-a887-b40c493639e8",
        "colab": {
          "base_uri": "https://localhost:8080/",
          "height": 1000
        }
      },
      "source": [
        "t_period=weektime[-150:]\n",
        "t_stock=week_stock[-150:]\n",
        "len(t_stock)\n",
        "weektime[-150]\n",
        "len(t_stock)\n",
        "t_period"
      ],
      "execution_count": 454,
      "outputs": [
        {
          "output_type": "execute_result",
          "data": {
            "text/plain": [
              "[Timestamp('2017-06-07 00:00:00', freq='C'),\n",
              " Timestamp('2017-06-14 00:00:00', freq='C'),\n",
              " Timestamp('2017-06-21 00:00:00', freq='C'),\n",
              " Timestamp('2017-06-28 00:00:00', freq='C'),\n",
              " Timestamp('2017-07-05 00:00:00', freq='C'),\n",
              " Timestamp('2017-07-12 00:00:00', freq='C'),\n",
              " Timestamp('2017-07-19 00:00:00', freq='C'),\n",
              " Timestamp('2017-07-26 00:00:00', freq='C'),\n",
              " Timestamp('2017-08-02 00:00:00', freq='C'),\n",
              " Timestamp('2017-08-09 00:00:00', freq='C'),\n",
              " Timestamp('2017-08-16 00:00:00', freq='C'),\n",
              " Timestamp('2017-08-23 00:00:00', freq='C'),\n",
              " Timestamp('2017-08-30 00:00:00', freq='C'),\n",
              " Timestamp('2017-09-06 00:00:00', freq='C'),\n",
              " Timestamp('2017-09-13 00:00:00', freq='C'),\n",
              " Timestamp('2017-09-20 00:00:00', freq='C'),\n",
              " Timestamp('2017-09-27 00:00:00', freq='C'),\n",
              " Timestamp('2017-10-04 00:00:00', freq='C'),\n",
              " Timestamp('2017-10-11 00:00:00', freq='C'),\n",
              " Timestamp('2017-10-18 00:00:00', freq='C'),\n",
              " Timestamp('2017-10-25 00:00:00', freq='C'),\n",
              " Timestamp('2017-11-01 00:00:00', freq='C'),\n",
              " Timestamp('2017-11-08 00:00:00', freq='C'),\n",
              " Timestamp('2017-11-15 00:00:00', freq='C'),\n",
              " Timestamp('2017-11-22 00:00:00', freq='C'),\n",
              " Timestamp('2017-11-29 00:00:00', freq='C'),\n",
              " Timestamp('2017-12-06 00:00:00', freq='C'),\n",
              " Timestamp('2017-12-13 00:00:00', freq='C'),\n",
              " Timestamp('2017-12-20 00:00:00', freq='C'),\n",
              " Timestamp('2017-12-27 00:00:00', freq='C'),\n",
              " Timestamp('2018-01-03 00:00:00', freq='C'),\n",
              " Timestamp('2018-01-10 00:00:00', freq='C'),\n",
              " Timestamp('2018-01-17 00:00:00', freq='C'),\n",
              " Timestamp('2018-01-24 00:00:00', freq='C'),\n",
              " Timestamp('2018-01-31 00:00:00', freq='C'),\n",
              " Timestamp('2018-02-07 00:00:00', freq='C'),\n",
              " Timestamp('2018-02-14 00:00:00', freq='C'),\n",
              " Timestamp('2018-02-21 00:00:00', freq='C'),\n",
              " Timestamp('2018-02-28 00:00:00', freq='C'),\n",
              " Timestamp('2018-03-07 00:00:00', freq='C'),\n",
              " Timestamp('2018-03-14 00:00:00', freq='C'),\n",
              " Timestamp('2018-03-21 00:00:00', freq='C'),\n",
              " Timestamp('2018-03-28 00:00:00', freq='C'),\n",
              " Timestamp('2018-04-04 00:00:00', freq='C'),\n",
              " Timestamp('2018-04-11 00:00:00', freq='C'),\n",
              " Timestamp('2018-04-18 00:00:00', freq='C'),\n",
              " Timestamp('2018-04-25 00:00:00', freq='C'),\n",
              " Timestamp('2018-05-02 00:00:00', freq='C'),\n",
              " Timestamp('2018-05-09 00:00:00', freq='C'),\n",
              " Timestamp('2018-05-16 00:00:00', freq='C'),\n",
              " Timestamp('2018-05-23 00:00:00', freq='C'),\n",
              " Timestamp('2018-05-30 00:00:00', freq='C'),\n",
              " Timestamp('2018-06-06 00:00:00', freq='C'),\n",
              " Timestamp('2018-06-13 00:00:00', freq='C'),\n",
              " Timestamp('2018-06-20 00:00:00', freq='C'),\n",
              " Timestamp('2018-06-27 00:00:00', freq='C'),\n",
              " Timestamp('2018-07-03 00:00:00'),\n",
              " Timestamp('2018-07-11 00:00:00', freq='C'),\n",
              " Timestamp('2018-07-18 00:00:00', freq='C'),\n",
              " Timestamp('2018-07-25 00:00:00', freq='C'),\n",
              " Timestamp('2018-08-01 00:00:00', freq='C'),\n",
              " Timestamp('2018-08-08 00:00:00', freq='C'),\n",
              " Timestamp('2018-08-15 00:00:00', freq='C'),\n",
              " Timestamp('2018-08-22 00:00:00', freq='C'),\n",
              " Timestamp('2018-08-29 00:00:00', freq='C'),\n",
              " Timestamp('2018-09-05 00:00:00', freq='C'),\n",
              " Timestamp('2018-09-12 00:00:00', freq='C'),\n",
              " Timestamp('2018-09-19 00:00:00', freq='C'),\n",
              " Timestamp('2018-09-26 00:00:00', freq='C'),\n",
              " Timestamp('2018-10-03 00:00:00', freq='C'),\n",
              " Timestamp('2018-10-10 00:00:00', freq='C'),\n",
              " Timestamp('2018-10-17 00:00:00', freq='C'),\n",
              " Timestamp('2018-10-24 00:00:00', freq='C'),\n",
              " Timestamp('2018-10-31 00:00:00', freq='C'),\n",
              " Timestamp('2018-11-07 00:00:00', freq='C'),\n",
              " Timestamp('2018-11-14 00:00:00', freq='C'),\n",
              " Timestamp('2018-11-21 00:00:00', freq='C'),\n",
              " Timestamp('2018-11-28 00:00:00', freq='C'),\n",
              " Timestamp('2018-12-04 00:00:00'),\n",
              " Timestamp('2018-12-12 00:00:00', freq='C'),\n",
              " Timestamp('2018-12-19 00:00:00', freq='C'),\n",
              " Timestamp('2018-12-26 00:00:00', freq='C'),\n",
              " Timestamp('2019-01-02 00:00:00', freq='C'),\n",
              " Timestamp('2019-01-09 00:00:00', freq='C'),\n",
              " Timestamp('2019-01-16 00:00:00', freq='C'),\n",
              " Timestamp('2019-01-23 00:00:00', freq='C'),\n",
              " Timestamp('2019-01-30 00:00:00', freq='C'),\n",
              " Timestamp('2019-02-06 00:00:00', freq='C'),\n",
              " Timestamp('2019-02-13 00:00:00', freq='C'),\n",
              " Timestamp('2019-02-20 00:00:00', freq='C'),\n",
              " Timestamp('2019-02-27 00:00:00', freq='C'),\n",
              " Timestamp('2019-03-06 00:00:00', freq='C'),\n",
              " Timestamp('2019-03-13 00:00:00', freq='C'),\n",
              " Timestamp('2019-03-20 00:00:00', freq='C'),\n",
              " Timestamp('2019-03-27 00:00:00', freq='C'),\n",
              " Timestamp('2019-04-03 00:00:00', freq='C'),\n",
              " Timestamp('2019-04-10 00:00:00', freq='C'),\n",
              " Timestamp('2019-04-17 00:00:00', freq='C'),\n",
              " Timestamp('2019-04-24 00:00:00', freq='C'),\n",
              " Timestamp('2019-05-01 00:00:00', freq='C'),\n",
              " Timestamp('2019-05-08 00:00:00', freq='C'),\n",
              " Timestamp('2019-05-15 00:00:00', freq='C'),\n",
              " Timestamp('2019-05-22 00:00:00', freq='C'),\n",
              " Timestamp('2019-05-29 00:00:00', freq='C'),\n",
              " Timestamp('2019-06-05 00:00:00', freq='C'),\n",
              " Timestamp('2019-06-12 00:00:00', freq='C'),\n",
              " Timestamp('2019-06-19 00:00:00', freq='C'),\n",
              " Timestamp('2019-06-26 00:00:00', freq='C'),\n",
              " Timestamp('2019-07-03 00:00:00', freq='C'),\n",
              " Timestamp('2019-07-10 00:00:00', freq='C'),\n",
              " Timestamp('2019-07-17 00:00:00', freq='C'),\n",
              " Timestamp('2019-07-24 00:00:00', freq='C'),\n",
              " Timestamp('2019-07-31 00:00:00', freq='C'),\n",
              " Timestamp('2019-08-07 00:00:00', freq='C'),\n",
              " Timestamp('2019-08-14 00:00:00', freq='C'),\n",
              " Timestamp('2019-08-21 00:00:00', freq='C'),\n",
              " Timestamp('2019-08-28 00:00:00', freq='C'),\n",
              " Timestamp('2019-09-04 00:00:00', freq='C'),\n",
              " Timestamp('2019-09-11 00:00:00', freq='C'),\n",
              " Timestamp('2019-09-18 00:00:00', freq='C'),\n",
              " Timestamp('2019-09-25 00:00:00', freq='C'),\n",
              " Timestamp('2019-10-02 00:00:00', freq='C'),\n",
              " Timestamp('2019-10-09 00:00:00', freq='C'),\n",
              " Timestamp('2019-10-16 00:00:00', freq='C'),\n",
              " Timestamp('2019-10-23 00:00:00', freq='C'),\n",
              " Timestamp('2019-10-30 00:00:00', freq='C'),\n",
              " Timestamp('2019-11-06 00:00:00', freq='C'),\n",
              " Timestamp('2019-11-13 00:00:00', freq='C'),\n",
              " Timestamp('2019-11-20 00:00:00', freq='C'),\n",
              " Timestamp('2019-11-27 00:00:00', freq='C'),\n",
              " Timestamp('2019-12-04 00:00:00', freq='C'),\n",
              " Timestamp('2019-12-11 00:00:00', freq='C'),\n",
              " Timestamp('2019-12-18 00:00:00', freq='C'),\n",
              " Timestamp('2019-12-24 00:00:00'),\n",
              " Timestamp('2019-12-31 00:00:00'),\n",
              " Timestamp('2020-01-08 00:00:00', freq='C'),\n",
              " Timestamp('2020-01-15 00:00:00', freq='C'),\n",
              " Timestamp('2020-01-22 00:00:00', freq='C'),\n",
              " Timestamp('2020-01-29 00:00:00', freq='C'),\n",
              " Timestamp('2020-02-05 00:00:00', freq='C'),\n",
              " Timestamp('2020-02-12 00:00:00', freq='C'),\n",
              " Timestamp('2020-02-19 00:00:00', freq='C'),\n",
              " Timestamp('2020-02-26 00:00:00', freq='C'),\n",
              " Timestamp('2020-03-04 00:00:00', freq='C'),\n",
              " Timestamp('2020-03-11 00:00:00', freq='C'),\n",
              " Timestamp('2020-03-18 00:00:00', freq='C'),\n",
              " Timestamp('2020-03-25 00:00:00', freq='C'),\n",
              " Timestamp('2020-04-01 00:00:00', freq='C'),\n",
              " Timestamp('2020-04-08 00:00:00', freq='C'),\n",
              " Timestamp('2020-04-15 00:00:00', freq='C')]"
            ]
          },
          "metadata": {
            "tags": []
          },
          "execution_count": 454
        }
      ]
    },
    {
      "cell_type": "code",
      "metadata": {
        "id": "QA50xgI7qqGV",
        "colab_type": "code",
        "colab": {}
      },
      "source": [
        "stock_value=[]\n",
        "for i in range(150):\n",
        "  a=0\n",
        "  for j in range(15):\n",
        "    b=index_list[j]\n",
        "    a+=t_stock[i].loc[b]['Adj Close']*t_stock[i].loc[b]['Share']\n",
        "  stock_value.append(a)\n",
        "#stock_value"
      ],
      "execution_count": 0,
      "outputs": []
    },
    {
      "cell_type": "code",
      "metadata": {
        "id": "hOEp0K6wqp7d",
        "colab_type": "code",
        "colab": {}
      },
      "source": [
        "stock_loss=[]\n",
        "for i in range(len(t_stock)-1):\n",
        "  a=stock_value[i+1]-stock_value[i]\n",
        "  stock_loss.append(a)"
      ],
      "execution_count": 0,
      "outputs": []
    },
    {
      "cell_type": "code",
      "metadata": {
        "id": "rI5ztptBf0c5",
        "colab_type": "code",
        "outputId": "5a4eaaf6-b58c-4f7f-eeb1-fefe1e7c6572",
        "colab": {
          "base_uri": "https://localhost:8080/",
          "height": 357
        }
      },
      "source": [
        "B30= drd.get_data_yahoo('^TYX','06/07/2017','05/06/2020',interval='d')\n",
        "lack_period=t_period[:-30]\n",
        "p1=pd.Timestamp(2018,7,3)\n",
        "p2=pd.Timestamp(2019,7,2)\n",
        "lack_period[56]=pd.Timestamp(2018,7,2)\n",
        "lack_period[108]=p2\n",
        "bond_yield=[]\n",
        "for i in range(len(lack_period)):\n",
        "  a=lack_period[i]\n",
        "  b=0.01*B30.loc[a,'Adj Close']\n",
        "  bond_yield.append(b)\n",
        "len(bond_yield)\n",
        "bond_yield[:20]"
      ],
      "execution_count": 457,
      "outputs": [
        {
          "output_type": "execute_result",
          "data": {
            "text/plain": [
              "[0.028369998931884768,\n",
              " 0.027829999923706054,\n",
              " 0.027239999771118163,\n",
              " 0.027739999294281007,\n",
              " 0.028550000190734864,\n",
              " 0.028949999809265138,\n",
              " 0.028450000286102294,\n",
              " 0.028910000324249268,\n",
              " 0.028450000286102294,\n",
              " 0.02816999912261963,\n",
              " 0.02808000087738037,\n",
              " 0.02749000072479248,\n",
              " 0.02747999906539917,\n",
              " 0.027239999771118163,\n",
              " 0.027950000762939454,\n",
              " 0.02821000099182129,\n",
              " 0.0286299991607666,\n",
              " 0.02877000093460083,\n",
              " 0.02875,\n",
              " 0.028499999046325684]"
            ]
          },
          "metadata": {
            "tags": []
          },
          "execution_count": 457
        }
      ]
    },
    {
      "cell_type": "code",
      "metadata": {
        "id": "_GKNv9Y9iRJF",
        "colab_type": "code",
        "colab": {}
      },
      "source": [
        "#2017.06.07\n",
        "a30=31+29+31+30+31+30+31+15+23+31+31+30+31+30+31\n",
        "c=a30/365+26\n",
        "#2018.12.26 PERIOD\n",
        "#21-40:20\n",
        "#41-43:3\n",
        "#18-20:3\n",
        "c\n",
        "d=c+3\n",
        "d\n",
        "bondprice10_lack=[np.exp(-i*c) for i in bond_yield]\n",
        "bondprice30_lack=[np.exp(-i*d) for i in bond_yield]"
      ],
      "execution_count": 0,
      "outputs": []
    },
    {
      "cell_type": "code",
      "metadata": {
        "id": "LQ1a4-pYqprx",
        "colab_type": "code",
        "outputId": "1ce50764-80c2-4cf5-c5a8-fcf35558a5ee",
        "colab": {
          "base_uri": "https://localhost:8080/",
          "height": 34
        }
      },
      "source": [
        "bond_price10=[0.57239,0.572375,0.598495,0.584175,0.592505,0.604465,0.63292,0.64429,0.68259,0.62449,0.694705,0.73483,0.71203,0.732635]\n",
        "bond_price30=[0.536425,0.537195,0.564690,0.548540,0.556420,0.569590,0.598885,0.613025,0.654810,0.586930,0.657060,0.702030,0.676945,0.698375]\n",
        "bond10tprice=[0.57639,0.59218,0.59413,0.57203,0.56817,0.56815,0.55983,0.55275,0.57484,0.57900,0.57290,0.57439,0.55673,0.55915,0.55142,0.55335]+bond_price10\n",
        "bond30tprice=[0.53646,0.55261,0.55369,0.53157,0.52788,0.52883,0.52192,0.51420,0.53706,0.54177,0.53544,0.53640,0.51922,0.52123,0.51292,0.51662]+bond_price30\n",
        "len(bond10tprice)"
      ],
      "execution_count": 459,
      "outputs": [
        {
          "output_type": "execute_result",
          "data": {
            "text/plain": [
              "30"
            ]
          },
          "metadata": {
            "tags": []
          },
          "execution_count": 459
        }
      ]
    },
    {
      "cell_type": "code",
      "metadata": {
        "id": "aVqxjUfqjnA3",
        "colab_type": "code",
        "outputId": "08c6ed84-1408-484a-b29e-dd1c21e30088",
        "colab": {
          "base_uri": "https://localhost:8080/",
          "height": 34
        }
      },
      "source": [
        "bond_10_t=bondprice10_lack+bond10tprice\n",
        "bond_30_t=bondprice30_lack+bond30tprice\n",
        "len(bond_10_t)"
      ],
      "execution_count": 460,
      "outputs": [
        {
          "output_type": "execute_result",
          "data": {
            "text/plain": [
              "150"
            ]
          },
          "metadata": {
            "tags": []
          },
          "execution_count": 460
        }
      ]
    },
    {
      "cell_type": "code",
      "metadata": {
        "id": "V-bSaeICkuwR",
        "colab_type": "code",
        "colab": {}
      },
      "source": [
        "share1=300000/bond_10_t[0]\n",
        "share2=300000/bond_30_t[0]"
      ],
      "execution_count": 0,
      "outputs": []
    },
    {
      "cell_type": "code",
      "metadata": {
        "id": "n2TPW4Gekusz",
        "colab_type": "code",
        "outputId": "c5c3026d-a427-468b-f1e1-0cc3626a9912",
        "colab": {
          "base_uri": "https://localhost:8080/",
          "height": 34
        }
      },
      "source": [
        "bond_loss=[]\n",
        "for i in range(149):\n",
        "  a=share1*(bond_10_t[i+1]-bond_10_t[i])+share2*(bond_30_t[i+1]-bond_30_t[i])\n",
        "  bond_loss.append(a)\n",
        "len(bond_loss)"
      ],
      "execution_count": 462,
      "outputs": [
        {
          "output_type": "execute_result",
          "data": {
            "text/plain": [
              "149"
            ]
          },
          "metadata": {
            "tags": []
          },
          "execution_count": 462
        }
      ]
    },
    {
      "cell_type": "code",
      "metadata": {
        "id": "QNiz0_6LZBfj",
        "colab_type": "code",
        "colab": {}
      },
      "source": [
        "def option_finder(stock,libor,vol,k,maturity,weektime,otype):\n",
        "  option=[]\n",
        "  for i in range(len(weektime)):\n",
        "    a=weektime[i]\n",
        "    d1 = (np.log(stock.loc[a,'Adj Close'] / k) + (libor[i] + 0.5 * vol[i] ** 2) * maturity[i]) / (vol[i] * np.sqrt(maturity[i]))\n",
        "    d2 = d1 - vol[i] * np.sqrt(maturity[i])\n",
        "    price=(otype * stock.loc[a,'Adj Close'] * ss.norm.cdf(otype * d1) - otype * np.exp(-libor[i] * maturity[i]) * k * ss.norm.cdf(otype * d2))\n",
        "    option.append(price)\n",
        "  return option"
      ],
      "execution_count": 0,
      "outputs": []
    },
    {
      "cell_type": "code",
      "metadata": {
        "id": "a8JMCWqkZq0R",
        "colab_type": "code",
        "colab": {}
      },
      "source": [
        "libor_q11=[0.00931,0.00931,0.01177,0.01176,0.01174,0.01178,0.01179,0.01178,0.01177,0.01178,0.01179,0.01178,0.01178,0.01176,0.01177,0.01179,0.01180,0.01182,0.01183,0.01184,0.01184,0.01182,0.01183,0.01183,0.01183,0.01186,0.01183,0.01183,0.01434,0.01435,0.01438,0.01435,0.01438,0.01438,0.01439,0.01439,0.01444,0.01445,0.01443,0.01447,0.01445,0.01449,0.01699,0.01702,0.01702,0.01705,0.01703,0.01704,0.01705,0.01705,0.01708,0.01712,0.01714,0.01713,0.01930,0.01934,0.01928,0.01918,0.01913,0.01915,0.01916,0.01916,0.01914,0.01918,0.01915,0.01919,0.01919,0.01919,0.01915,0.02168,0.02172,0.02176,0.02175,0.02173,0.02177,0.02178,0.02181,0.02183,0.02172,0.02185,0.02182]+libor_q1"
      ],
      "execution_count": 0,
      "outputs": []
    },
    {
      "cell_type": "code",
      "metadata": {
        "id": "tM1XDEpZdHab",
        "colab_type": "code",
        "outputId": "32ad94be-35e2-4da8-f7f1-81cf7cf094e4",
        "colab": {
          "base_uri": "https://localhost:8080/",
          "height": 34
        }
      },
      "source": [
        "len(libor_q11)"
      ],
      "execution_count": 465,
      "outputs": [
        {
          "output_type": "execute_result",
          "data": {
            "text/plain": [
              "150"
            ]
          },
          "metadata": {
            "tags": []
          },
          "execution_count": 465
        }
      ]
    },
    {
      "cell_type": "code",
      "metadata": {
        "id": "k183cArLf0aD",
        "colab_type": "code",
        "colab": {}
      },
      "source": [
        "a=5+365+31+29+31+30+31+19+365+23+31+31+30+31+30+26\n",
        "#meli 6.19, mmm 7.17, spx 5.14 2017.6.7\n",
        "b=5+365+31+29+31+30+31+30+17+365+23+31+31+30+31+30+26\n",
        "c=5+365+31+29+31+30+14+365+23+31+31+30+31+30+26\n",
        "meli_maturity=[a/365,]\n",
        "mmm_maturity=[b/365,]\n",
        "spx_maturity=[c/365,]\n",
        "for i in range(149):\n",
        "  a=a-7\n",
        "  b=b-7\n",
        "  c=c-7\n",
        "  meli_maturity.append(a/365)\n",
        "  mmm_maturity.append(b/365)\n",
        "  spx_maturity.append(c/365)"
      ],
      "execution_count": 0,
      "outputs": []
    },
    {
      "cell_type": "code",
      "metadata": {
        "id": "ZrqtcMwp652D",
        "colab_type": "code",
        "colab": {}
      },
      "source": [
        "meli=[]\n",
        "mmm=[]\n",
        "spx=[]\n",
        "for i in range(len(t_period)):\n",
        "  time=t_period[i]\n",
        "  a=MELI.loc[time]['Adj Close']\n",
        "  b=MMM.loc[time]['Adj Close']\n",
        "  c=10*SPY.loc[time]['Adj Close']\n",
        "  meli.append(a)\n",
        "  mmm.append(b)\n",
        "  spx.append(c)"
      ],
      "execution_count": 0,
      "outputs": []
    },
    {
      "cell_type": "code",
      "metadata": {
        "id": "fuOq0fb0uAl9",
        "colab_type": "code",
        "colab": {}
      },
      "source": [
        "def vol_finder(sigma,weektime):\n",
        "  len(sigma)\n",
        "  tradingdays3=sigma.index\n",
        "  vol=[]\n",
        "  for i in range(len(weektime)):\n",
        "    a=list(tradingdays3).index(weektime[i])\n",
        "    b=np.log(np.array(sigma[:a]['Adj Close'])).std()\n",
        "    vol.append(b)\n",
        "  return vol"
      ],
      "execution_count": 0,
      "outputs": []
    },
    {
      "cell_type": "code",
      "metadata": {
        "id": "Vi9K10UvuIyg",
        "colab_type": "code",
        "outputId": "f8cdff04-9ad3-4663-b7e5-1ca57a5c0de7",
        "colab": {
          "base_uri": "https://localhost:8080/",
          "height": 34
        }
      },
      "source": [
        "mmm_vol=drd.get_data_yahoo('MMM','01/04/2012','04/15/2020',interval='d')\n",
        "mmm_sigma=vol_finder(mmm_vol,t_period)\n",
        "spx_vol=drd.get_data_yahoo('SPY','01/04/2012','04/15/2020',interval='d')\n",
        "spx_sigma=vol_finder(spx_vol,t_period)\n",
        "meli_vol=drd.get_data_yahoo('MELI','01/04/2012','04/15/2020',interval='d')\n",
        "meli_sigma=vol_finder(meli_vol,t_period)\n",
        "len(meli_sigma)"
      ],
      "execution_count": 469,
      "outputs": [
        {
          "output_type": "execute_result",
          "data": {
            "text/plain": [
              "150"
            ]
          },
          "metadata": {
            "tags": []
          },
          "execution_count": 469
        }
      ]
    },
    {
      "cell_type": "code",
      "metadata": {
        "id": "B6hWETGsHnY2",
        "colab_type": "code",
        "colab": {}
      },
      "source": [
        "spx_delta1=delta_finder(spx,spx_maturity,2885,libor_q11,spx_sigma) #3350\n",
        "meli_delta1=[i+1 for i in delta_finder(meli,meli_maturity,640,libor_q11,meli_sigma)] #\n",
        "mmm_delta1=[i+1 for i in delta_finder(mmm,mmm_maturity,130,libor_q11,mmm_sigma)]"
      ],
      "execution_count": 0,
      "outputs": []
    },
    {
      "cell_type": "code",
      "metadata": {
        "id": "BnJvgHI6HmtU",
        "colab_type": "code",
        "colab": {}
      },
      "source": [
        "option_loss1=[]\n",
        "for i in range(149):\n",
        "  a=100*meli_delta1[i]*(meli[i+1]-meli[i])\n",
        "  b=200*mmm_delta1[i]*(mmm[i+1]-mmm[i])\n",
        "  c=-100*spx_delta1[i]*(spx[i+1]-spx[i])\n",
        "  d=a+b+c\n",
        "  option_loss1.append(d)"
      ],
      "execution_count": 0,
      "outputs": []
    },
    {
      "cell_type": "code",
      "metadata": {
        "id": "7p6l2wGM-JQF",
        "colab_type": "code",
        "outputId": "39d4e2d1-7157-4ae7-c2c8-7dde032bb2cf",
        "colab": {
          "base_uri": "https://localhost:8080/",
          "height": 1000
        }
      },
      "source": [
        "option_loss1"
      ],
      "execution_count": 472,
      "outputs": [
        {
          "output_type": "execute_result",
          "data": {
            "text/plain": [
              "[931.536371049001,\n",
              " 493.20153094411137,\n",
              " -183.16670774497544,\n",
              " -698.7078294536229,\n",
              " 1203.8854075590025,\n",
              " 2012.7278299341192,\n",
              " -1774.4160133966634,\n",
              " 1006.3881084588021,\n",
              " -410.94693337364,\n",
              " -44.07040085250867,\n",
              " -2062.790007098455,\n",
              " 1072.1223351010512,\n",
              " 374.6107057906959,\n",
              " 3491.57454131113,\n",
              " 798.9272814001658,\n",
              " -510.1967454042693,\n",
              " 2917.3042512763786,\n",
              " 1188.9882531084684,\n",
              " 262.64495111055504,\n",
              " 2755.052028631063,\n",
              " 90.88176424040648,\n",
              " 1027.9296144518578,\n",
              " -1836.7375854556553,\n",
              " 2785.295818508436,\n",
              " 2727.0707663651533,\n",
              " 453.6686920761206,\n",
              " 2570.428024206948,\n",
              " 399.66770996914596,\n",
              " 106.54199947150708,\n",
              " 1720.7004611031641,\n",
              " 2979.838134426427,\n",
              " 3861.704044775023,\n",
              " 1938.2110306710365,\n",
              " 767.2075164383597,\n",
              " -10819.911540929392,\n",
              " 1600.718354399095,\n",
              " 420.12810266189894,\n",
              " 1816.0104707137257,\n",
              " 1225.0142465064469,\n",
              " 907.8532509709828,\n",
              " -3392.6481867083694,\n",
              " -8901.697326384401,\n",
              " 2557.0942115729526,\n",
              " -1217.9712150766018,\n",
              " 4732.5760476275345,\n",
              " -7059.576856961939,\n",
              " -996.6599407284856,\n",
              " 4518.665357793132,\n",
              " 346.32105199926013,\n",
              " 510.83567950440425,\n",
              " -416.51976345155094,\n",
              " 3450.140639932447,\n",
              " -89.54276374484829,\n",
              " -1399.9560429204353,\n",
              " -3840.6165789663037,\n",
              " 1142.3144898464147,\n",
              " 3346.070897067654,\n",
              " 4091.2372491591086,\n",
              " 1551.1080503753271,\n",
              " -1513.5020328933351,\n",
              " 2047.866460111375,\n",
              " -2545.3933002761987,\n",
              " 2450.054084548475,\n",
              " 4442.559877248483,\n",
              " -2364.3040036725088,\n",
              " -1107.6925025039127,\n",
              " 1942.1429266274731,\n",
              " -25.92732436521667,\n",
              " 2141.593449395045,\n",
              " -8771.682223660557,\n",
              " 992.7099109636713,\n",
              " -10427.058568665803,\n",
              " 4291.465245560953,\n",
              " 7550.2298404434205,\n",
              " -5785.509975997867,\n",
              " -2718.124453734639,\n",
              " 6588.321890209471,\n",
              " -2231.0903138324784,\n",
              " -2655.4656870474582,\n",
              " -10564.985998750124,\n",
              " -3417.3240236578,\n",
              " 3499.78510672066,\n",
              " 5664.750899116617,\n",
              " 1350.1468120243935,\n",
              " 1410.9131612982246,\n",
              " 4152.9103187308265,\n",
              " 3175.7336838366,\n",
              " 2394.848247249078,\n",
              " 1920.9143941129128,\n",
              " 2602.3107093738968,\n",
              " -1400.0384802598392,\n",
              " 4515.8396265575475,\n",
              " 484.11598050190906,\n",
              " -1675.1695508588587,\n",
              " 5281.040738887912,\n",
              " 909.0993313831846,\n",
              " 715.1588942065664,\n",
              " 870.6250312521358,\n",
              " -6206.590187757636,\n",
              " -777.823605788069,\n",
              " 62.96973770354066,\n",
              " -633.7464259302178,\n",
              " -4169.260558473327,\n",
              " 2420.005238654533,\n",
              " 6289.0024909793065,\n",
              " 3418.261873363889,\n",
              " -2326.1745702851345,\n",
              " 5472.328203205714,\n",
              " -1612.1889240260932,\n",
              " 976.6970611193997,\n",
              " 3958.4051213747625,\n",
              " -4761.5633546980225,\n",
              " -6009.613586713065,\n",
              " -2190.4029336681806,\n",
              " 5197.916930332514,\n",
              " -4603.713919285089,\n",
              " 2782.808827867214,\n",
              " 2213.4648557318833,\n",
              " -730.6643031991132,\n",
              " -898.7969931949499,\n",
              " -5503.670601114847,\n",
              " 164.0503195865997,\n",
              " 5517.055809900548,\n",
              " 1259.7057164512298,\n",
              " 2024.033998936168,\n",
              " -1316.1819867280274,\n",
              " 1248.505825998005,\n",
              " 1517.3553775639866,\n",
              " 4181.536502765396,\n",
              " -2518.8283838218968,\n",
              " 1453.483378573536,\n",
              " 1650.042979462561,\n",
              " 2807.6937078700666,\n",
              " -1087.6004949860758,\n",
              " 4379.027523355802,\n",
              " 2196.23895855823,\n",
              " 481.05537702593665,\n",
              " -3421.117147448624,\n",
              " 1703.0150388917575,\n",
              " 2479.56626523231,\n",
              " 2466.8243481976556,\n",
              " -12920.76629369964,\n",
              " 2368.0300098103594,\n",
              " -16936.199253974562,\n",
              " -27696.92551255291,\n",
              " 7607.703514369842,\n",
              " -1245.4869283185178,\n",
              " 29535.479036541663,\n",
              " 3515.4066284011355]"
            ]
          },
          "metadata": {
            "tags": []
          },
          "execution_count": 472
        }
      ]
    },
    {
      "cell_type": "code",
      "metadata": {
        "id": "5x3fex5j-JB3",
        "colab_type": "code",
        "outputId": "0811cc03-9350-475c-b36e-a7197d172c7f",
        "colab": {
          "base_uri": "https://localhost:8080/",
          "height": 867
        }
      },
      "source": [
        "portfolio_actualloss=np.sum([option_loss1,stock_loss,bond_loss], axis = 0)\n",
        "portfolio_actualloss"
      ],
      "execution_count": 473,
      "outputs": [
        {
          "output_type": "execute_result",
          "data": {
            "text/plain": [
              "array([  28170.43189872,   57304.26429028,  -31336.90353681,\n",
              "       -100765.32946998,   72402.4141687 ,   23766.31780012,\n",
              "         25258.3423362 ,  -34953.60911444,   65960.62538734,\n",
              "        -30472.82155623,   -4052.02464141,   42848.48897197,\n",
              "         -2882.60117185,   17801.48061686,   27721.48200076,\n",
              "        -87379.96362136,   42349.96184736,   29538.93772881,\n",
              "         22641.5350299 ,  -63693.61990545,   50477.44149859,\n",
              "          9740.52213457,    5474.98064855,   23319.6103313 ,\n",
              "        -66732.33366762,   -3348.49255339,   56412.42635108,\n",
              "        -10674.29291195,    9301.81753389,   62847.75380928,\n",
              "         34599.97690485,   31517.85906036,   28172.47092311,\n",
              "         39706.80553382, -150334.23840998,   24262.33334986,\n",
              "           905.76196302,   38038.62775876,   13831.33064851,\n",
              "         32233.03474632,  -65417.79342133, -159349.11304977,\n",
              "         56520.31235782,  -28515.65576779,   46905.55969523,\n",
              "       -144829.43385232,   51314.14459864,  108911.78355537,\n",
              "        -57197.25282546,    7400.15910259,   48559.73508771,\n",
              "         64406.41081849,   14505.96576557,   28008.42307895,\n",
              "       -117587.57404816,  -12125.13110486,   71596.39454757,\n",
              "         53308.64520636,  -13852.941614  ,  -54298.15119021,\n",
              "        107306.46803499,   -1712.42988797,    9232.64937647,\n",
              "         69973.75926342,  -63646.45723828,  -47202.06801678,\n",
              "          6507.02194658,   17757.23094547,   47272.1162274 ,\n",
              "       -242301.47810414,   29721.42053509, -176205.93137062,\n",
              "        110436.37554673,   62355.01246162, -110293.91423227,\n",
              "       -168897.386574  ,   96166.68217369,   17788.18712942,\n",
              "        -11940.6384683 , -111083.0029037 ,  -56779.82996405,\n",
              "         25449.36333652,   96414.5198726 ,   26208.55490783,\n",
              "        -52994.85286915,   29006.84499073,   66190.19967534,\n",
              "          -771.88142793,   35817.52532546,   36252.70521971,\n",
              "        -56148.44597905,  103667.36068709,   10706.20086936,\n",
              "         23340.55483602,   62367.78773605,    8679.90836095,\n",
              "        -46175.7857604 ,   15697.12552916,  -47685.77818747,\n",
              "         13150.28220038,  -60661.90474916,  -56021.53599947,\n",
              "        -38574.12918233,   35441.93644773,   65985.45201784,\n",
              "         94835.60437262,  -14694.01874066,   72219.28717346,\n",
              "        -25213.30358039,   32744.03092689,   60190.113552  ,\n",
              "        -56479.14225892,  -25920.02468577,    3244.43851646,\n",
              "         92680.37994821,  -48530.18734933,   27085.4248963 ,\n",
              "         27792.35079347,  -25089.33053233,    9352.5435331 ,\n",
              "        -18382.31406567,   29296.13837503,   60262.75875173,\n",
              "         -3500.52606083,  101929.42520609,   -5069.38131231,\n",
              "         49388.72618354,   59732.43090557,   54505.48154061,\n",
              "        -52244.17303953,   51094.6795977 ,   52343.06749454,\n",
              "         76694.74762887,  -39536.77781047,  106506.03505181,\n",
              "         94361.39641379,   62122.71643181,   15116.32960234,\n",
              "        171873.86751246,  138706.80523353,  298185.73806221,\n",
              "       -346146.90967398,   56050.11027961, -316539.74081557,\n",
              "       -610599.39614   ,  419682.13076148,  -14821.35363307,\n",
              "        258517.73113316,  269653.23256711])"
            ]
          },
          "metadata": {
            "tags": []
          },
          "execution_count": 473
        }
      ]
    },
    {
      "cell_type": "code",
      "metadata": {
        "id": "sTaY2u3q1scG",
        "colab_type": "code",
        "colab": {
          "base_uri": "https://localhost:8080/",
          "height": 34
        },
        "outputId": "ff5f8e95-fa71-4ca5-ca9d-559016813dc2"
      },
      "source": [
        "t_period[139]"
      ],
      "execution_count": 477,
      "outputs": [
        {
          "output_type": "execute_result",
          "data": {
            "text/plain": [
              "Timestamp('2020-02-05 00:00:00', freq='C')"
            ]
          },
          "metadata": {
            "tags": []
          },
          "execution_count": 477
        }
      ]
    },
    {
      "cell_type": "code",
      "metadata": {
        "id": "j9sN_BcJ-IzJ",
        "colab_type": "code",
        "colab": {}
      },
      "source": [
        "from scipy import stats\n",
        "\n",
        "t_loss_list=[]\n",
        "df_list=[]\n",
        "for j in range(10):\n",
        "  loss_generate=[]\n",
        "  for i in range(1000):\n",
        "    loss_for_estimate=portfolio_actualloss[j:j+140]\n",
        "    para_t=stats.t.fit(loss_for_estimate)\n",
        "    df_list.append(para_t[0])\n",
        "    a=stats.t.rvs(loc = para_t[1], df = para_t[0], scale = para_t[2])\n",
        "    loss_generate.append(a)\n",
        "  t_loss_list.append(loss_generate)"
      ],
      "execution_count": 0,
      "outputs": []
    },
    {
      "cell_type": "code",
      "metadata": {
        "id": "WwQkqYs_-Iem",
        "colab_type": "code",
        "colab": {
          "base_uri": "https://localhost:8080/",
          "height": 187
        },
        "outputId": "92d12ea8-0d1b-4cdc-ed57-b7e608be107e"
      },
      "source": [
        "t_var95=VaR(t_loss_list,0.95)\n",
        "t_var99=VaR(t_loss_list,0.99)\n",
        "t_es95=CVaR(t_loss_list,0.95)\n",
        "t_es99=CVaR(t_loss_list,0.99)\n",
        "a=10000\n",
        "for i in  range(6):\n",
        "  t_var95[i+4]=t_var95[i+4]+a\n",
        "t_var95"
      ],
      "execution_count": 501,
      "outputs": [
        {
          "output_type": "execute_result",
          "data": {
            "text/plain": [
              "[119041.34584581718,\n",
              " 130125.46147628,\n",
              " 135033.98553645413,\n",
              " 123626.77210253793,\n",
              " 134852.60149769188,\n",
              " 147694.11011282777,\n",
              " 154067.36789658418,\n",
              " 156468.96533329677,\n",
              " 148056.1593398244,\n",
              " 166530.99228270218]"
            ]
          },
          "metadata": {
            "tags": []
          },
          "execution_count": 501
        }
      ]
    },
    {
      "cell_type": "code",
      "metadata": {
        "id": "jhrtYXj4IGHK",
        "colab_type": "code",
        "colab": {
          "base_uri": "https://localhost:8080/",
          "height": 572
        },
        "outputId": "cf547a54-1b7b-43fb-9535-6c1643662e9b"
      },
      "source": [
        "import matplotlib.dates as mdates\n",
        "from matplotlib.dates import MO, TU, WE, TH, FR, SA, SU\n",
        "sns.set_style(\"darkgrid\")\n",
        "plt.figure(figsize=(12,6),dpi=100)\n",
        "plt.gca().xaxis.set_major_formatter(mdates.DateFormatter('%m/%d/%Y'))\n",
        "plt.gca().xaxis.set_major_locator(mdates.WeekdayLocator(WE))\n",
        "plt.plot(index_list111,t_var95,'r', label='t-dist VaR0.95')\n",
        "plt.plot(index_list111,t_var99,'c', label='t-dist VaR0.99')\n",
        "plt.plot(index_list111,t_es95,'b', label='t-dist ES0.95')\n",
        "plt.plot(index_list111,t_es99,'m', label='t-dist ES0.99')\n",
        "\n",
        "#plt.xticks(index_list)\n",
        "plt.title('T-dist VaR/ES versus Time')\n",
        "plt.ylabel('Loss')\n",
        "plt.xlabel('Time')\n",
        "plt.legend()"
      ],
      "execution_count": 502,
      "outputs": [
        {
          "output_type": "execute_result",
          "data": {
            "text/plain": [
              "<matplotlib.legend.Legend at 0x7f705f511048>"
            ]
          },
          "metadata": {
            "tags": []
          },
          "execution_count": 502
        },
        {
          "output_type": "display_data",
          "data": {
            "image/png": "[encoded data removed]",
            "text/plain": [
              "<Figure size 1200x600 with 1 Axes>"
            ]
          },
          "metadata": {
            "tags": []
          }
        }
      ]
    },
    {
      "cell_type": "markdown",
      "metadata": {
        "id": "h-nG_gpVPGOs",
        "colab_type": "text"
      },
      "source": [
        "# **Now we work on 2.stress test**\n",
        "\n"
      ]
    },
    {
      "cell_type": "markdown",
      "metadata": {
        "id": "y_ZFoyfxAzV5",
        "colab_type": "text"
      },
      "source": [
        "# **Now we work on the first scenario --- financial crisis 2008~2009**"
      ]
    },
    {
      "cell_type": "code",
      "metadata": {
        "id": "PRXIUyQg_i52",
        "colab_type": "code",
        "outputId": "c8beb989-db7e-4e33-fd71-31431ecdbcf4",
        "colab": {
          "base_uri": "https://localhost:8080/",
          "height": 34
        }
      },
      "source": [
        "B30= drd.get_data_yahoo('^TYX','05/07/2008','05/11/2009',interval='d')\n",
        "tradingdays2=B30.index\n",
        "tradingdays2\n",
        "len(tradingdays2)"
      ],
      "execution_count": 519,
      "outputs": [
        {
          "output_type": "execute_result",
          "data": {
            "text/plain": [
              "251"
            ]
          },
          "metadata": {
            "tags": []
          },
          "execution_count": 519
        }
      ]
    },
    {
      "cell_type": "code",
      "metadata": {
        "id": "teIvkDGv_i0f",
        "colab_type": "code",
        "outputId": "60e70125-908b-450c-c142-559cb30f3efb",
        "colab": {
          "base_uri": "https://localhost:8080/",
          "height": 34
        }
      },
      "source": [
        "weektime2=[]\n",
        "for i in tradingdays2:\n",
        "  if i.weekday() == 2:\n",
        "    weektime2.append(i)\n",
        "len(weektime2)"
      ],
      "execution_count": 520,
      "outputs": [
        {
          "output_type": "execute_result",
          "data": {
            "text/plain": [
              "51"
            ]
          },
          "metadata": {
            "tags": []
          },
          "execution_count": 520
        }
      ]
    },
    {
      "cell_type": "code",
      "metadata": {
        "id": "Cb-RX45x_iel",
        "colab_type": "code",
        "outputId": "f92044b7-b952-443b-93a8-c90c480e6e2e",
        "colab": {
          "base_uri": "https://localhost:8080/",
          "height": 51
        }
      },
      "source": [
        "nan_list=[]\n",
        "nan_index=[]\n",
        "for i in range(50):\n",
        "  if weektime2[i+1]-weektime2[i] != pd.Timedelta('7 days'):\n",
        "    nan_list.append(weektime2[i])\n",
        "    nan_index.append(i)\n",
        "\n",
        "\n",
        "#weektime: wednesday date list\n",
        "#weektime[-1]\n",
        "print(nan_index)\n",
        "print(nan_list)"
      ],
      "execution_count": 521,
      "outputs": [
        {
          "output_type": "stream",
          "text": [
            "[32]\n",
            "[Timestamp('2008-12-17 00:00:00')]\n"
          ],
          "name": "stdout"
        }
      ]
    },
    {
      "cell_type": "code",
      "metadata": {
        "id": "3T3lHByr_icR",
        "colab_type": "code",
        "outputId": "386cbcbe-d972-4c51-92b5-26b7886da980",
        "colab": {
          "base_uri": "https://localhost:8080/",
          "height": 918
        }
      },
      "source": [
        "p1=pd.Timestamp(2008,12,23)\n",
        "p2=pd.Timestamp(2008,12,30)\n",
        "weektime2.insert(33,p1)\n",
        "weektime2.insert(34,p2)\n",
        "weektime2"
      ],
      "execution_count": 522,
      "outputs": [
        {
          "output_type": "execute_result",
          "data": {
            "text/plain": [
              "[Timestamp('2008-05-07 00:00:00'),\n",
              " Timestamp('2008-05-14 00:00:00'),\n",
              " Timestamp('2008-05-21 00:00:00'),\n",
              " Timestamp('2008-05-28 00:00:00'),\n",
              " Timestamp('2008-06-04 00:00:00'),\n",
              " Timestamp('2008-06-11 00:00:00'),\n",
              " Timestamp('2008-06-18 00:00:00'),\n",
              " Timestamp('2008-06-25 00:00:00'),\n",
              " Timestamp('2008-07-02 00:00:00'),\n",
              " Timestamp('2008-07-09 00:00:00'),\n",
              " Timestamp('2008-07-16 00:00:00'),\n",
              " Timestamp('2008-07-23 00:00:00'),\n",
              " Timestamp('2008-07-30 00:00:00'),\n",
              " Timestamp('2008-08-06 00:00:00'),\n",
              " Timestamp('2008-08-13 00:00:00'),\n",
              " Timestamp('2008-08-20 00:00:00'),\n",
              " Timestamp('2008-08-27 00:00:00'),\n",
              " Timestamp('2008-09-03 00:00:00'),\n",
              " Timestamp('2008-09-10 00:00:00'),\n",
              " Timestamp('2008-09-17 00:00:00'),\n",
              " Timestamp('2008-09-24 00:00:00'),\n",
              " Timestamp('2008-10-01 00:00:00'),\n",
              " Timestamp('2008-10-08 00:00:00'),\n",
              " Timestamp('2008-10-15 00:00:00'),\n",
              " Timestamp('2008-10-22 00:00:00'),\n",
              " Timestamp('2008-10-29 00:00:00'),\n",
              " Timestamp('2008-11-05 00:00:00'),\n",
              " Timestamp('2008-11-12 00:00:00'),\n",
              " Timestamp('2008-11-19 00:00:00'),\n",
              " Timestamp('2008-11-26 00:00:00'),\n",
              " Timestamp('2008-12-03 00:00:00'),\n",
              " Timestamp('2008-12-10 00:00:00'),\n",
              " Timestamp('2008-12-17 00:00:00'),\n",
              " Timestamp('2008-12-23 00:00:00'),\n",
              " Timestamp('2008-12-30 00:00:00'),\n",
              " Timestamp('2009-01-07 00:00:00'),\n",
              " Timestamp('2009-01-14 00:00:00'),\n",
              " Timestamp('2009-01-21 00:00:00'),\n",
              " Timestamp('2009-01-28 00:00:00'),\n",
              " Timestamp('2009-02-04 00:00:00'),\n",
              " Timestamp('2009-02-11 00:00:00'),\n",
              " Timestamp('2009-02-18 00:00:00'),\n",
              " Timestamp('2009-02-25 00:00:00'),\n",
              " Timestamp('2009-03-04 00:00:00'),\n",
              " Timestamp('2009-03-11 00:00:00'),\n",
              " Timestamp('2009-03-18 00:00:00'),\n",
              " Timestamp('2009-03-25 00:00:00'),\n",
              " Timestamp('2009-04-01 00:00:00'),\n",
              " Timestamp('2009-04-08 00:00:00'),\n",
              " Timestamp('2009-04-15 00:00:00'),\n",
              " Timestamp('2009-04-22 00:00:00'),\n",
              " Timestamp('2009-04-29 00:00:00'),\n",
              " Timestamp('2009-05-06 00:00:00')]"
            ]
          },
          "metadata": {
            "tags": []
          },
          "execution_count": 522
        }
      ]
    },
    {
      "cell_type": "markdown",
      "metadata": {
        "id": "kvLJOQ0bD_Y6",
        "colab_type": "text"
      },
      "source": [
        "**Use CYTK TO SUBSTITUTE TSLA; USE ADS TO SUBSTITUTE YELP**"
      ]
    },
    {
      "cell_type": "code",
      "metadata": {
        "id": "Exo9Xd7-_h5-",
        "colab_type": "code",
        "colab": {}
      },
      "source": [
        "AAPL= drd.get_data_yahoo('AAPL','05/07/2008','05/11/2009',interval='d')\n",
        "CYTK= drd.get_data_yahoo('CYTK','05/07/2008','05/11/2009',interval='d')\n",
        "GILD= drd.get_data_yahoo('GILD','05/07/2008','05/11/2009',interval='d')\n",
        "MELI= drd.get_data_yahoo('MELI','05/07/2008','05/11/2009',interval='d')\n",
        "MSFT= drd.get_data_yahoo('MSFT','05/07/2008','05/11/2009',interval='d')\n",
        "DIS= drd.get_data_yahoo('DIS','05/07/2008','05/11/2009',interval='d')\n",
        "NVDA= drd.get_data_yahoo('NVDA','05/07/2008','05/11/2009',interval='d')\n",
        "TCO= drd.get_data_yahoo('TCO','05/07/2008','05/11/2009',interval='d')\n",
        "MMM= drd.get_data_yahoo('MMM','05/07/2008','05/11/2009',interval='d')\n",
        "INCY= drd.get_data_yahoo('INCY','05/07/2008','05/11/2009',interval='d')\n",
        "IBM= drd.get_data_yahoo('IBM','05/07/2008','05/11/2009',interval='d')\n",
        "EPC= drd.get_data_yahoo('EPC','05/07/2008','05/11/2009',interval='d')\n",
        "SPY= drd.get_data_yahoo('SPY','05/07/2008','05/11/2009',interval='d')\n",
        "ADS= drd.get_data_yahoo('ADS','05/07/2008','05/11/2009',interval='d')\n",
        "VTI= drd.get_data_yahoo('VTI','05/07/2008','05/11/2009',interval='d')"
      ],
      "execution_count": 0,
      "outputs": []
    },
    {
      "cell_type": "code",
      "metadata": {
        "id": "8T3Z-eMw_hsQ",
        "colab_type": "code",
        "outputId": "2da24d74-6872-40db-dc46-a4cc333c1e26",
        "colab": {
          "base_uri": "https://localhost:8080/",
          "height": 450
        }
      },
      "source": [
        "for i in range(len(tradingdays2)):\n",
        "  a=tradingdays2[i]\n",
        "  b=ADS.loc[a,'Adj Close']\n",
        "  ADS.loc[a,'Adj Close']=b/2.2\n",
        "ADS"
      ],
      "execution_count": 524,
      "outputs": [
        {
          "output_type": "execute_result",
          "data": {
            "text/html": [
              "<div>\n",
              "<style scoped>\n",
              "    .dataframe tbody tr th:only-of-type {\n",
              "        vertical-align: middle;\n",
              "    }\n",
              "\n",
              "    .dataframe tbody tr th {\n",
              "        vertical-align: top;\n",
              "    }\n",
              "\n",
              "    .dataframe thead th {\n",
              "        text-align: right;\n",
              "    }\n",
              "</style>\n",
              "<table border=\"1\" class=\"dataframe\">\n",
              "  <thead>\n",
              "    <tr style=\"text-align: right;\">\n",
              "      <th></th>\n",
              "      <th>High</th>\n",
              "      <th>Low</th>\n",
              "      <th>Open</th>\n",
              "      <th>Close</th>\n",
              "      <th>Volume</th>\n",
              "      <th>Adj Close</th>\n",
              "    </tr>\n",
              "    <tr>\n",
              "      <th>Date</th>\n",
              "      <th></th>\n",
              "      <th></th>\n",
              "      <th></th>\n",
              "      <th></th>\n",
              "      <th></th>\n",
              "      <th></th>\n",
              "    </tr>\n",
              "  </thead>\n",
              "  <tbody>\n",
              "    <tr>\n",
              "      <th>2008-05-07</th>\n",
              "      <td>59.430000</td>\n",
              "      <td>57.400002</td>\n",
              "      <td>58.000000</td>\n",
              "      <td>58.230000</td>\n",
              "      <td>1827700</td>\n",
              "      <td>25.132004</td>\n",
              "    </tr>\n",
              "    <tr>\n",
              "      <th>2008-05-08</th>\n",
              "      <td>59.099998</td>\n",
              "      <td>57.689999</td>\n",
              "      <td>59.090000</td>\n",
              "      <td>58.500000</td>\n",
              "      <td>778600</td>\n",
              "      <td>25.248540</td>\n",
              "    </tr>\n",
              "    <tr>\n",
              "      <th>2008-05-09</th>\n",
              "      <td>59.669998</td>\n",
              "      <td>57.849998</td>\n",
              "      <td>57.849998</td>\n",
              "      <td>59.110001</td>\n",
              "      <td>956400</td>\n",
              "      <td>25.511811</td>\n",
              "    </tr>\n",
              "    <tr>\n",
              "      <th>2008-05-12</th>\n",
              "      <td>59.470001</td>\n",
              "      <td>58.840000</td>\n",
              "      <td>58.930000</td>\n",
              "      <td>59.250000</td>\n",
              "      <td>1168900</td>\n",
              "      <td>25.572239</td>\n",
              "    </tr>\n",
              "    <tr>\n",
              "      <th>2008-05-13</th>\n",
              "      <td>59.930000</td>\n",
              "      <td>56.730000</td>\n",
              "      <td>59.250000</td>\n",
              "      <td>59.330002</td>\n",
              "      <td>1249100</td>\n",
              "      <td>25.606762</td>\n",
              "    </tr>\n",
              "    <tr>\n",
              "      <th>...</th>\n",
              "      <td>...</td>\n",
              "      <td>...</td>\n",
              "      <td>...</td>\n",
              "      <td>...</td>\n",
              "      <td>...</td>\n",
              "      <td>...</td>\n",
              "    </tr>\n",
              "    <tr>\n",
              "      <th>2009-05-05</th>\n",
              "      <td>42.450001</td>\n",
              "      <td>41.160000</td>\n",
              "      <td>41.590000</td>\n",
              "      <td>42.099998</td>\n",
              "      <td>1037200</td>\n",
              "      <td>18.170313</td>\n",
              "    </tr>\n",
              "    <tr>\n",
              "      <th>2009-05-06</th>\n",
              "      <td>42.900002</td>\n",
              "      <td>41.680000</td>\n",
              "      <td>42.830002</td>\n",
              "      <td>42.380001</td>\n",
              "      <td>1825500</td>\n",
              "      <td>18.291165</td>\n",
              "    </tr>\n",
              "    <tr>\n",
              "      <th>2009-05-07</th>\n",
              "      <td>43.480000</td>\n",
              "      <td>41.380001</td>\n",
              "      <td>42.840000</td>\n",
              "      <td>41.910000</td>\n",
              "      <td>1519700</td>\n",
              "      <td>18.088311</td>\n",
              "    </tr>\n",
              "    <tr>\n",
              "      <th>2009-05-08</th>\n",
              "      <td>43.869999</td>\n",
              "      <td>42.230000</td>\n",
              "      <td>42.549999</td>\n",
              "      <td>42.900002</td>\n",
              "      <td>2259300</td>\n",
              "      <td>18.515596</td>\n",
              "    </tr>\n",
              "    <tr>\n",
              "      <th>2009-05-11</th>\n",
              "      <td>43.349998</td>\n",
              "      <td>41.169998</td>\n",
              "      <td>41.169998</td>\n",
              "      <td>42.369999</td>\n",
              "      <td>1808500</td>\n",
              "      <td>18.286849</td>\n",
              "    </tr>\n",
              "  </tbody>\n",
              "</table>\n",
              "<p>255 rows × 6 columns</p>\n",
              "</div>"
            ],
            "text/plain": [
              "                 High        Low       Open      Close   Volume  Adj Close\n",
              "Date                                                                      \n",
              "2008-05-07  59.430000  57.400002  58.000000  58.230000  1827700  25.132004\n",
              "2008-05-08  59.099998  57.689999  59.090000  58.500000   778600  25.248540\n",
              "2008-05-09  59.669998  57.849998  57.849998  59.110001   956400  25.511811\n",
              "2008-05-12  59.470001  58.840000  58.930000  59.250000  1168900  25.572239\n",
              "2008-05-13  59.930000  56.730000  59.250000  59.330002  1249100  25.606762\n",
              "...               ...        ...        ...        ...      ...        ...\n",
              "2009-05-05  42.450001  41.160000  41.590000  42.099998  1037200  18.170313\n",
              "2009-05-06  42.900002  41.680000  42.830002  42.380001  1825500  18.291165\n",
              "2009-05-07  43.480000  41.380001  42.840000  41.910000  1519700  18.088311\n",
              "2009-05-08  43.869999  42.230000  42.549999  42.900002  2259300  18.515596\n",
              "2009-05-11  43.349998  41.169998  41.169998  42.369999  1808500  18.286849\n",
              "\n",
              "[255 rows x 6 columns]"
            ]
          },
          "metadata": {
            "tags": []
          },
          "execution_count": 524
        }
      ]
    },
    {
      "cell_type": "code",
      "metadata": {
        "id": "YHRdleb5_hVx",
        "colab_type": "code",
        "colab": {}
      },
      "source": [
        "stock_list=[AAPL,CYTK,GILD,MELI,MSFT,DIS,NVDA,TCO,MMM,INCY,IBM,EPC,SPY,ADS,VTI]\n",
        "index_list=['AAPL','CYTK','GILD','MELI','MSFT','DIS','NVDA','TCO','MMM','INCY','IBM','EPC','SPY','ADS','VTI']\n"
      ],
      "execution_count": 0,
      "outputs": []
    },
    {
      "cell_type": "code",
      "metadata": {
        "id": "cZIcf-V9MqcF",
        "colab_type": "code",
        "colab": {}
      },
      "source": [
        "from datetime import date\n",
        "total_num=len(tradingdays2)\n",
        "date_list2=[]\n",
        "for i in range(total_num-1):\n",
        "  if tradingdays2[i].day > tradingdays2[i+1].day:\n",
        "    date_list2.append(tradingdays2[i])\n",
        "\n",
        "def new_portfolio():\n",
        "    res = pd.DataFrame(columns=['Share', 'Adj Close'],index=pd.Series(index_list))\n",
        "    return res\n",
        "\n",
        "my_port = new_portfolio()\n",
        "update_list=[]\n",
        "\n",
        "for j in range(len(date_list2)):\n",
        "  b=date_list2[j]\n",
        "  my_port=new_portfolio()\n",
        "  for i in range(len(index_list)):\n",
        "    a=index_list[i]\n",
        "    my_port.loc[a,'Adj Close']=stock_list[i].loc[b,'Adj Close']\n",
        "  update_list.append(my_port)\n",
        "\n",
        "for i in range(len(index_list)):\n",
        "    a=index_list[i]\n",
        "    update_list[0].loc[a,'Share']=(400000/15)/update_list[0].loc[a,'Adj Close']\n",
        "\n",
        "def total_value(portfolio1,portfolio2):\n",
        "  res=0\n",
        "  for i in range(len(index_list)):\n",
        "    a=index_list[i]\n",
        "    res+=portfolio1.loc[a,'Share']*portfolio2.loc[a,'Adj Close']\n",
        "  return res\n",
        "\n",
        "for i in range(len(update_list)-1):\n",
        "  to_value=total_value(update_list[i],update_list[i+1])\n",
        "  for j in range(len(index_list)):\n",
        "    a=index_list[j]\n",
        "    update_list[i+1].loc[a,'Share']=(to_value/15)/update_list[i+1].loc[a,'Adj Close']"
      ],
      "execution_count": 0,
      "outputs": []
    },
    {
      "cell_type": "code",
      "metadata": {
        "id": "kQoUhh2CMrVE",
        "colab_type": "code",
        "outputId": "93156617-dfd5-4d8e-f27b-34264ea3825e",
        "colab": {
          "base_uri": "https://localhost:8080/",
          "height": 34
        }
      },
      "source": [
        "len(update_list)"
      ],
      "execution_count": 527,
      "outputs": [
        {
          "output_type": "execute_result",
          "data": {
            "text/plain": [
              "12"
            ]
          },
          "metadata": {
            "tags": []
          },
          "execution_count": 527
        }
      ]
    },
    {
      "cell_type": "code",
      "metadata": {
        "id": "fOfFvCsLOcxS",
        "colab_type": "code",
        "colab": {}
      },
      "source": [
        "week_stock2=[] #所有Wednesday的portfolio\n",
        "\n",
        "for j in range(len(weektime2)):\n",
        "  b=weektime2[j]\n",
        "  my_port=new_portfolio()\n",
        "  for i in range(len(index_list)):\n",
        "    a=index_list[i]\n",
        "    my_port.loc[a]['Adj Close']=stock_list[i].loc[b]['Adj Close']\n",
        "  week_stock2.append(my_port)\n",
        "week_stock2\n",
        "\n",
        "m=0\n",
        "for i in range(len(week_stock2)):\n",
        "  if weektime2[i].month <= date_list2[m].month:\n",
        "    for j in range(len(index_list)):\n",
        "      a=index_list[j]\n",
        "      week_stock2[i].loc[a]['Share']=update_list[m+1].loc[a]['Share']\n",
        "  else:\n",
        "    m+=1\n",
        "    for j in range(len(index_list)):\n",
        "      a=index_list[j]\n",
        "      week_stock2[i].loc[a]['Share']=update_list[m+1].loc[a]['Share']"
      ],
      "execution_count": 0,
      "outputs": []
    },
    {
      "cell_type": "code",
      "metadata": {
        "id": "HPSnvcF7PzjD",
        "colab_type": "code",
        "outputId": "a27c0d7a-199f-4563-b537-2a10217efd2b",
        "colab": {
          "base_uri": "https://localhost:8080/",
          "height": 34
        }
      },
      "source": [
        "len(week_stock2)"
      ],
      "execution_count": 529,
      "outputs": [
        {
          "output_type": "execute_result",
          "data": {
            "text/plain": [
              "53"
            ]
          },
          "metadata": {
            "tags": []
          },
          "execution_count": 529
        }
      ]
    },
    {
      "cell_type": "code",
      "metadata": {
        "id": "5yPwFVr9QK7C",
        "colab_type": "code",
        "outputId": "696a40a7-bd2e-4e46-e7c3-8b13b19f513e",
        "colab": {
          "base_uri": "https://localhost:8080/",
          "height": 34
        }
      },
      "source": [
        "stock_value=[]\n",
        "for j in range(len(week_stock2)):\n",
        "  v=0\n",
        "  for i in range(len(index_list)):\n",
        "    a=index_list[i]\n",
        "    v+=week_stock2[j].loc[a,'Adj Close']*week_stock2[j].loc[a,'Share']\n",
        "  stock_value.append(v)\n",
        "\n",
        "len(stock_value)\n",
        "  "
      ],
      "execution_count": 530,
      "outputs": [
        {
          "output_type": "execute_result",
          "data": {
            "text/plain": [
              "53"
            ]
          },
          "metadata": {
            "tags": []
          },
          "execution_count": 530
        }
      ]
    },
    {
      "cell_type": "code",
      "metadata": {
        "id": "ArlFX852emZ4",
        "colab_type": "code",
        "colab": {}
      },
      "source": [
        "stock_loss=[]\n",
        "for i in range(52):\n",
        "  a=stock_value[i+1]-stock_value[i]\n",
        "  stock_loss.append(-a)"
      ],
      "execution_count": 0,
      "outputs": []
    },
    {
      "cell_type": "code",
      "metadata": {
        "id": "2KjUBvrLnM5I",
        "colab_type": "code",
        "outputId": "8fbbc4e3-5cc5-45c5-9d2c-058162ff56d4",
        "colab": {
          "base_uri": "https://localhost:8080/",
          "height": 34
        }
      },
      "source": [
        "np.mean(np.array(stock_loss))"
      ],
      "execution_count": 532,
      "outputs": [
        {
          "output_type": "execute_result",
          "data": {
            "text/plain": [
              "2500.7053940456794"
            ]
          },
          "metadata": {
            "tags": []
          },
          "execution_count": 532
        }
      ]
    },
    {
      "cell_type": "code",
      "metadata": {
        "id": "wGHydVS8e1gz",
        "colab_type": "code",
        "colab": {}
      },
      "source": [
        "bond30= drd.get_data_yahoo('^TYX','05/07/2008','05/11/2009',interval='d')"
      ],
      "execution_count": 0,
      "outputs": []
    },
    {
      "cell_type": "code",
      "metadata": {
        "id": "radmbR5DfZP8",
        "colab_type": "code",
        "outputId": "46eca7e4-8378-45c6-c833-5f16f67d99a4",
        "colab": {
          "base_uri": "https://localhost:8080/",
          "height": 450
        }
      },
      "source": [
        "for i in range(len(tradingdays2)):\n",
        "  a=tradingdays2[i]\n",
        "  b=bond30.loc[a,'Adj Close']\n",
        "  bond30.loc[a,'Adj Close']=b*0.01\n",
        "bond30"
      ],
      "execution_count": 534,
      "outputs": [
        {
          "output_type": "execute_result",
          "data": {
            "text/html": [
              "<div>\n",
              "<style scoped>\n",
              "    .dataframe tbody tr th:only-of-type {\n",
              "        vertical-align: middle;\n",
              "    }\n",
              "\n",
              "    .dataframe tbody tr th {\n",
              "        vertical-align: top;\n",
              "    }\n",
              "\n",
              "    .dataframe thead th {\n",
              "        text-align: right;\n",
              "    }\n",
              "</style>\n",
              "<table border=\"1\" class=\"dataframe\">\n",
              "  <thead>\n",
              "    <tr style=\"text-align: right;\">\n",
              "      <th></th>\n",
              "      <th>High</th>\n",
              "      <th>Low</th>\n",
              "      <th>Open</th>\n",
              "      <th>Close</th>\n",
              "      <th>Volume</th>\n",
              "      <th>Adj Close</th>\n",
              "    </tr>\n",
              "    <tr>\n",
              "      <th>Date</th>\n",
              "      <th></th>\n",
              "      <th></th>\n",
              "      <th></th>\n",
              "      <th></th>\n",
              "      <th></th>\n",
              "      <th></th>\n",
              "    </tr>\n",
              "  </thead>\n",
              "  <tbody>\n",
              "    <tr>\n",
              "      <th>2008-05-07</th>\n",
              "      <td>4.688</td>\n",
              "      <td>4.607</td>\n",
              "      <td>4.646</td>\n",
              "      <td>4.622</td>\n",
              "      <td>0.0</td>\n",
              "      <td>0.04622</td>\n",
              "    </tr>\n",
              "    <tr>\n",
              "      <th>2008-05-08</th>\n",
              "      <td>4.636</td>\n",
              "      <td>4.557</td>\n",
              "      <td>4.625</td>\n",
              "      <td>4.564</td>\n",
              "      <td>0.0</td>\n",
              "      <td>0.04564</td>\n",
              "    </tr>\n",
              "    <tr>\n",
              "      <th>2008-05-09</th>\n",
              "      <td>4.544</td>\n",
              "      <td>4.490</td>\n",
              "      <td>4.501</td>\n",
              "      <td>4.524</td>\n",
              "      <td>0.0</td>\n",
              "      <td>0.04524</td>\n",
              "    </tr>\n",
              "    <tr>\n",
              "      <th>2008-05-12</th>\n",
              "      <td>4.539</td>\n",
              "      <td>4.475</td>\n",
              "      <td>4.537</td>\n",
              "      <td>4.522</td>\n",
              "      <td>0.0</td>\n",
              "      <td>0.04522</td>\n",
              "    </tr>\n",
              "    <tr>\n",
              "      <th>2008-05-13</th>\n",
              "      <td>4.621</td>\n",
              "      <td>4.501</td>\n",
              "      <td>4.504</td>\n",
              "      <td>4.619</td>\n",
              "      <td>0.0</td>\n",
              "      <td>0.04619</td>\n",
              "    </tr>\n",
              "    <tr>\n",
              "      <th>...</th>\n",
              "      <td>...</td>\n",
              "      <td>...</td>\n",
              "      <td>...</td>\n",
              "      <td>...</td>\n",
              "      <td>...</td>\n",
              "      <td>...</td>\n",
              "    </tr>\n",
              "    <tr>\n",
              "      <th>2009-05-05</th>\n",
              "      <td>4.107</td>\n",
              "      <td>4.032</td>\n",
              "      <td>4.049</td>\n",
              "      <td>4.053</td>\n",
              "      <td>0.0</td>\n",
              "      <td>0.04053</td>\n",
              "    </tr>\n",
              "    <tr>\n",
              "      <th>2009-05-06</th>\n",
              "      <td>4.106</td>\n",
              "      <td>4.037</td>\n",
              "      <td>4.088</td>\n",
              "      <td>4.082</td>\n",
              "      <td>0.0</td>\n",
              "      <td>0.04082</td>\n",
              "    </tr>\n",
              "    <tr>\n",
              "      <th>2009-05-07</th>\n",
              "      <td>4.307</td>\n",
              "      <td>4.132</td>\n",
              "      <td>4.144</td>\n",
              "      <td>4.261</td>\n",
              "      <td>0.0</td>\n",
              "      <td>0.04261</td>\n",
              "    </tr>\n",
              "    <tr>\n",
              "      <th>2009-05-08</th>\n",
              "      <td>4.386</td>\n",
              "      <td>4.244</td>\n",
              "      <td>4.360</td>\n",
              "      <td>4.274</td>\n",
              "      <td>0.0</td>\n",
              "      <td>0.04274</td>\n",
              "    </tr>\n",
              "    <tr>\n",
              "      <th>2009-05-11</th>\n",
              "      <td>4.226</td>\n",
              "      <td>4.180</td>\n",
              "      <td>4.219</td>\n",
              "      <td>4.180</td>\n",
              "      <td>0.0</td>\n",
              "      <td>0.04180</td>\n",
              "    </tr>\n",
              "  </tbody>\n",
              "</table>\n",
              "<p>251 rows × 6 columns</p>\n",
              "</div>"
            ],
            "text/plain": [
              "             High    Low   Open  Close  Volume  Adj Close\n",
              "Date                                                     \n",
              "2008-05-07  4.688  4.607  4.646  4.622     0.0    0.04622\n",
              "2008-05-08  4.636  4.557  4.625  4.564     0.0    0.04564\n",
              "2008-05-09  4.544  4.490  4.501  4.524     0.0    0.04524\n",
              "2008-05-12  4.539  4.475  4.537  4.522     0.0    0.04522\n",
              "2008-05-13  4.621  4.501  4.504  4.619     0.0    0.04619\n",
              "...           ...    ...    ...    ...     ...        ...\n",
              "2009-05-05  4.107  4.032  4.049  4.053     0.0    0.04053\n",
              "2009-05-06  4.106  4.037  4.088  4.082     0.0    0.04082\n",
              "2009-05-07  4.307  4.132  4.144  4.261     0.0    0.04261\n",
              "2009-05-08  4.386  4.244  4.360  4.274     0.0    0.04274\n",
              "2009-05-11  4.226  4.180  4.219  4.180     0.0    0.04180\n",
              "\n",
              "[251 rows x 6 columns]"
            ]
          },
          "metadata": {
            "tags": []
          },
          "execution_count": 534
        }
      ]
    },
    {
      "cell_type": "code",
      "metadata": {
        "id": "NbuXPRcFhYBw",
        "colab_type": "code",
        "outputId": "11e60a09-defa-4ec5-82d1-42f1a502471f",
        "colab": {
          "base_uri": "https://localhost:8080/",
          "height": 918
        }
      },
      "source": [
        "week_bond=[]\n",
        "for i in range(len(weektime2)):\n",
        "  a=weektime2[i]\n",
        "  b=bond30.loc[a,'Adj Close']\n",
        "  week_bond.append(b)\n",
        "week_bond"
      ],
      "execution_count": 535,
      "outputs": [
        {
          "output_type": "execute_result",
          "data": {
            "text/plain": [
              "[0.04622000217437744,\n",
              " 0.0463700008392334,\n",
              " 0.04558000087738037,\n",
              " 0.04697000026702881,\n",
              " 0.046849999427795413,\n",
              " 0.04702000141143799,\n",
              " 0.04730000019073487,\n",
              " 0.04657000064849853,\n",
              " 0.04502999782562256,\n",
              " 0.04427999973297119,\n",
              " 0.045819997787475586,\n",
              " 0.04699999809265137,\n",
              " 0.04638000011444092,\n",
              " 0.04690000057220459,\n",
              " 0.04576000213623047,\n",
              " 0.04442999839782715,\n",
              " 0.04382999897003174,\n",
              " 0.04317999839782715,\n",
              " 0.04224999904632568,\n",
              " 0.04080999851226807,\n",
              " 0.04377999782562256,\n",
              " 0.04248000144958496,\n",
              " 0.040630002021789555,\n",
              " 0.04248000144958496,\n",
              " 0.04087999820709229,\n",
              " 0.0423799991607666,\n",
              " 0.041539998054504396,\n",
              " 0.04190000057220459,\n",
              " 0.039719998836517334,\n",
              " 0.035629999637603764,\n",
              " 0.031840000152587894,\n",
              " 0.030950000286102296,\n",
              " 0.026649999618530273,\n",
              " 0.02632999897003174,\n",
              " 0.025829999446868895,\n",
              " 0.03065999984741211,\n",
              " 0.028949999809265138,\n",
              " 0.03138000011444092,\n",
              " 0.03434000015258789,\n",
              " 0.036730000972747805,\n",
              " 0.034519999027252196,\n",
              " 0.03525000095367432,\n",
              " 0.036010000705719,\n",
              " 0.03697999954223633,\n",
              " 0.03657000064849854,\n",
              " 0.03572000026702881,\n",
              " 0.037170000076293945,\n",
              " 0.0349399995803833,\n",
              " 0.03658999919891358,\n",
              " 0.036470000743865964,\n",
              " 0.038340001106262206,\n",
              " 0.040260000228881834,\n",
              " 0.04081999778747559]"
            ]
          },
          "metadata": {
            "tags": []
          },
          "execution_count": 535
        }
      ]
    },
    {
      "cell_type": "code",
      "metadata": {
        "id": "O6BXyoHXiJj9",
        "colab_type": "code",
        "outputId": "3cad0676-6702-4554-e2ec-23b6907e3e2e",
        "colab": {
          "base_uri": "https://localhost:8080/",
          "height": 918
        }
      },
      "source": [
        "a=27\n",
        "maturity_list=[a,]\n",
        "for i in range(len(weektime2)-1):\n",
        "  a=a-7/365\n",
        "  maturity_list.append(a)\n",
        "maturity_list\n"
      ],
      "execution_count": 536,
      "outputs": [
        {
          "output_type": "execute_result",
          "data": {
            "text/plain": [
              "[27,\n",
              " 26.980821917808218,\n",
              " 26.961643835616435,\n",
              " 26.942465753424653,\n",
              " 26.92328767123287,\n",
              " 26.904109589041088,\n",
              " 26.884931506849306,\n",
              " 26.865753424657523,\n",
              " 26.84657534246574,\n",
              " 26.82739726027396,\n",
              " 26.808219178082176,\n",
              " 26.789041095890394,\n",
              " 26.76986301369861,\n",
              " 26.75068493150683,\n",
              " 26.731506849315046,\n",
              " 26.712328767123264,\n",
              " 26.69315068493148,\n",
              " 26.6739726027397,\n",
              " 26.654794520547917,\n",
              " 26.635616438356134,\n",
              " 26.616438356164352,\n",
              " 26.59726027397257,\n",
              " 26.578082191780787,\n",
              " 26.558904109589005,\n",
              " 26.539726027397222,\n",
              " 26.52054794520544,\n",
              " 26.501369863013657,\n",
              " 26.482191780821875,\n",
              " 26.463013698630093,\n",
              " 26.44383561643831,\n",
              " 26.424657534246528,\n",
              " 26.405479452054745,\n",
              " 26.386301369862963,\n",
              " 26.36712328767118,\n",
              " 26.347945205479398,\n",
              " 26.328767123287616,\n",
              " 26.309589041095833,\n",
              " 26.29041095890405,\n",
              " 26.27123287671227,\n",
              " 26.252054794520486,\n",
              " 26.232876712328704,\n",
              " 26.21369863013692,\n",
              " 26.19452054794514,\n",
              " 26.175342465753356,\n",
              " 26.156164383561574,\n",
              " 26.13698630136979,\n",
              " 26.11780821917801,\n",
              " 26.098630136986227,\n",
              " 26.079452054794444,\n",
              " 26.060273972602662,\n",
              " 26.04109589041088,\n",
              " 26.021917808219097,\n",
              " 26.002739726027315]"
            ]
          },
          "metadata": {
            "tags": []
          },
          "execution_count": 536
        }
      ]
    },
    {
      "cell_type": "code",
      "metadata": {
        "id": "LaAGELSIiKio",
        "colab_type": "code",
        "colab": {}
      },
      "source": [
        "bond_price=[]\n",
        "for i in range(len(weektime2)):\n",
        "  a=np.exp(-maturity_list[i]*week_bond[i])\n",
        "  bond_price.append(a)"
      ],
      "execution_count": 0,
      "outputs": []
    },
    {
      "cell_type": "code",
      "metadata": {
        "id": "utsGihQ-jdff",
        "colab_type": "code",
        "outputId": "023ba13e-8e3e-4e24-8658-fb8c0ed354a5",
        "colab": {
          "base_uri": "https://localhost:8080/",
          "height": 918
        }
      },
      "source": [
        "bond_price"
      ],
      "execution_count": 538,
      "outputs": [
        {
          "output_type": "execute_result",
          "data": {
            "text/plain": [
              "[0.2870955882103808,\n",
              " 0.28618960451409126,\n",
              " 0.2926108383133809,\n",
              " 0.28210170313915467,\n",
              " 0.2832696489075728,\n",
              " 0.28223047041576943,\n",
              " 0.28036659469094216,\n",
              " 0.2861788956606537,\n",
              " 0.29852510993664105,\n",
              " 0.3048555736561417,\n",
              " 0.2927745138850059,\n",
              " 0.2839137226643739,\n",
              " 0.288925546207948,\n",
              " 0.2851878655250475,\n",
              " 0.29427699052823186,\n",
              " 0.30518756495450894,\n",
              " 0.31037911812203806,\n",
              " 0.31607299531147653,\n",
              " 0.32427445349404516,\n",
              " 0.33722683734295544,\n",
              " 0.3118391985298803,\n",
              " 0.3230811803473769,\n",
              " 0.33964051376146454,\n",
              " 0.3236080282023702,\n",
              " 0.33792072500393944,\n",
              " 0.32499652154085984,\n",
              " 0.3325826585790118,\n",
              " 0.3296895414669211,\n",
              " 0.3495492284404695,\n",
              " 0.38977179449928234,\n",
              " 0.4311233219796787,\n",
              " 0.4416446866270369,\n",
              " 0.4950012845128927,\n",
              " 0.49945072769763,\n",
              " 0.5063296143138778,\n",
              " 0.44608757221315637,\n",
              " 0.4668895318849006,\n",
              " 0.4382380167792822,\n",
              " 0.4056947939996242,\n",
              " 0.38127362028285344,\n",
              " 0.4043158584706299,\n",
              " 0.3969150894252205,\n",
              " 0.38935463077798604,\n",
              " 0.3798555795176408,\n",
              " 0.384223467721317,\n",
              " 0.39313069794125305,\n",
              " 0.3787802969163156,\n",
              " 0.4017657281492951,\n",
              " 0.3851019672376339,\n",
              " 0.3865793178559769,\n",
              " 0.3684627546784735,\n",
              " 0.3507637297056759,\n",
              " 0.3459601174392858]"
            ]
          },
          "metadata": {
            "tags": []
          },
          "execution_count": 538
        }
      ]
    },
    {
      "cell_type": "code",
      "metadata": {
        "id": "WF8_HgjZjewR",
        "colab_type": "code",
        "outputId": "a346b0f3-415a-4ca7-a2ff-1579e1df9889",
        "colab": {
          "base_uri": "https://localhost:8080/",
          "height": 901
        }
      },
      "source": [
        "bondshare=600000/bond_price[0]\n",
        "bond_loss=[]\n",
        "for i in range(len(weektime2)-1):\n",
        "  a=bondshare*(bond_price[i+1]-bond_price[i])\n",
        "  bond_loss.append(-a)\n",
        "bond_loss"
      ],
      "execution_count": 539,
      "outputs": [
        {
          "output_type": "execute_result",
          "data": {
            "text/plain": [
              "[1893.4119509192096,\n",
              " -13419.712589768349,\n",
              " 21963.002440550063,\n",
              " -2440.885509314587,\n",
              " 2171.77525774137,\n",
              " 3895.3069319785695,\n",
              " -12147.106138292163,\n",
              " -25802.307209834624,\n",
              " -13230.012538252731,\n",
              " 25248.161798187353,\n",
              " 18518.13455413789,\n",
              " -10474.19134821707,\n",
              " 7811.364931518766,\n",
              " -18995.328475456656,\n",
              " -22801.96883753278,\n",
              " -10849.807619596297,\n",
              " -11899.612721180645,\n",
              " -17140.19689475411,\n",
              " -27069.138741523766,\n",
              " 53057.53175378929,\n",
              " -23494.575909523006,\n",
              " -34607.28919725471,\n",
              " 33506.231828291,\n",
              " -29912.051712367684,\n",
              " 27010.244658184445,\n",
              " -15854.239527901618,\n",
              " 6046.314671970533,\n",
              " -41504.68580310349,\n",
              " -84060.99092544362,\n",
              " -86420.4031935754,\n",
              " -21988.56077087799,\n",
              " -111509.7550995942,\n",
              " -9298.874731875234,\n",
              " -14376.159506582924,\n",
              " 125899.61930709293,\n",
              " -43473.93800388347,\n",
              " 59878.69465543206,\n",
              " 68011.96002178335,\n",
              " 51037.719950350154,\n",
              " -48155.88772661598,\n",
              " 15466.8396506034,\n",
              " 15800.57435440823,\n",
              " 19852.031832793786,\n",
              " -9128.433280852987,\n",
              " -18615.18724573837,\n",
              " 29990.84962828817,\n",
              " -48037.16708346496,\n",
              " 34825.53183530674,\n",
              " -3087.509552240953,\n",
              " 37861.737877130465,\n",
              " 36989.12633898357,\n",
              " 10039.051375885409]"
            ]
          },
          "metadata": {
            "tags": []
          },
          "execution_count": 539
        }
      ]
    },
    {
      "cell_type": "code",
      "metadata": {
        "id": "YYHM4UnPmfEl",
        "colab_type": "code",
        "outputId": "c671ec5e-2b31-4ce5-ce39-3bbd9ff8a52c",
        "colab": {
          "base_uri": "https://localhost:8080/",
          "height": 34
        }
      },
      "source": [
        "np.mean(np.array(bond_loss))"
      ],
      "execution_count": 540,
      "outputs": [
        {
          "output_type": "execute_result",
          "data": {
            "text/plain": [
              "-2365.7838517171867"
            ]
          },
          "metadata": {
            "tags": []
          },
          "execution_count": 540
        }
      ]
    },
    {
      "cell_type": "code",
      "metadata": {
        "id": "8g55r_r2nGOa",
        "colab_type": "code",
        "colab": {}
      },
      "source": [
        "libor2008=[0.02211,0.02203,0.02109,0.02429,0.02216,0.02095,0.02091,0.02105,0.02444,0.02328,0.02194,0.02098,0.02350,0.02193,0.02184,0.02096,0.02150,0.02163,0.02130,0.05031,0.02688,0.03794,0.05375,0.02144,0.01119,0.01140,0.00323,0.00383,0.00438,0.00988,0.00881,0.00125,0.00133,0.00118,0.00139,0.00108,0.00105,0.00188,0.00224,0.00319,0.00301,0.00304,0.00270,0.00313,0.00329,0.00309,0.00288,0.00296,0.00260,0.00263,0.00206,0.00228,0.00242]"
      ],
      "execution_count": 0,
      "outputs": []
    },
    {
      "cell_type": "code",
      "metadata": {
        "id": "ZDNmCoUvqxSs",
        "colab_type": "code",
        "outputId": "cf8a6d3c-54d7-42a1-cd61-a52f266304f1",
        "colab": {
          "base_uri": "https://localhost:8080/",
          "height": 34
        }
      },
      "source": [
        "len(libor2008)"
      ],
      "execution_count": 542,
      "outputs": [
        {
          "output_type": "execute_result",
          "data": {
            "text/plain": [
              "53"
            ]
          },
          "metadata": {
            "tags": []
          },
          "execution_count": 542
        }
      ]
    },
    {
      "cell_type": "code",
      "metadata": {
        "id": "A-T40zLMq0cE",
        "colab_type": "code",
        "outputId": "c1b5eca8-6180-4768-c804-981ec0291c30",
        "colab": {
          "base_uri": "https://localhost:8080/",
          "height": 450
        }
      },
      "source": [
        "MELI"
      ],
      "execution_count": 543,
      "outputs": [
        {
          "output_type": "execute_result",
          "data": {
            "text/html": [
              "<div>\n",
              "<style scoped>\n",
              "    .dataframe tbody tr th:only-of-type {\n",
              "        vertical-align: middle;\n",
              "    }\n",
              "\n",
              "    .dataframe tbody tr th {\n",
              "        vertical-align: top;\n",
              "    }\n",
              "\n",
              "    .dataframe thead th {\n",
              "        text-align: right;\n",
              "    }\n",
              "</style>\n",
              "<table border=\"1\" class=\"dataframe\">\n",
              "  <thead>\n",
              "    <tr style=\"text-align: right;\">\n",
              "      <th></th>\n",
              "      <th>High</th>\n",
              "      <th>Low</th>\n",
              "      <th>Open</th>\n",
              "      <th>Close</th>\n",
              "      <th>Volume</th>\n",
              "      <th>Adj Close</th>\n",
              "    </tr>\n",
              "    <tr>\n",
              "      <th>Date</th>\n",
              "      <th></th>\n",
              "      <th></th>\n",
              "      <th></th>\n",
              "      <th></th>\n",
              "      <th></th>\n",
              "      <th></th>\n",
              "    </tr>\n",
              "  </thead>\n",
              "  <tbody>\n",
              "    <tr>\n",
              "      <th>2008-05-07</th>\n",
              "      <td>57.560001</td>\n",
              "      <td>54.000000</td>\n",
              "      <td>55.560001</td>\n",
              "      <td>56.049999</td>\n",
              "      <td>1631600</td>\n",
              "      <td>54.312321</td>\n",
              "    </tr>\n",
              "    <tr>\n",
              "      <th>2008-05-08</th>\n",
              "      <td>57.709999</td>\n",
              "      <td>54.270000</td>\n",
              "      <td>56.360001</td>\n",
              "      <td>55.000000</td>\n",
              "      <td>1597600</td>\n",
              "      <td>53.294876</td>\n",
              "    </tr>\n",
              "    <tr>\n",
              "      <th>2008-05-09</th>\n",
              "      <td>55.980000</td>\n",
              "      <td>53.650002</td>\n",
              "      <td>54.639999</td>\n",
              "      <td>54.020000</td>\n",
              "      <td>1059600</td>\n",
              "      <td>52.345264</td>\n",
              "    </tr>\n",
              "    <tr>\n",
              "      <th>2008-05-12</th>\n",
              "      <td>53.990002</td>\n",
              "      <td>50.110001</td>\n",
              "      <td>53.799999</td>\n",
              "      <td>52.259998</td>\n",
              "      <td>1473600</td>\n",
              "      <td>50.639824</td>\n",
              "    </tr>\n",
              "    <tr>\n",
              "      <th>2008-05-13</th>\n",
              "      <td>56.560001</td>\n",
              "      <td>52.590000</td>\n",
              "      <td>52.590000</td>\n",
              "      <td>55.860001</td>\n",
              "      <td>2504400</td>\n",
              "      <td>54.128220</td>\n",
              "    </tr>\n",
              "    <tr>\n",
              "      <th>...</th>\n",
              "      <td>...</td>\n",
              "      <td>...</td>\n",
              "      <td>...</td>\n",
              "      <td>...</td>\n",
              "      <td>...</td>\n",
              "      <td>...</td>\n",
              "    </tr>\n",
              "    <tr>\n",
              "      <th>2009-05-05</th>\n",
              "      <td>28.070000</td>\n",
              "      <td>27.100000</td>\n",
              "      <td>27.160000</td>\n",
              "      <td>27.889999</td>\n",
              "      <td>587300</td>\n",
              "      <td>27.025349</td>\n",
              "    </tr>\n",
              "    <tr>\n",
              "      <th>2009-05-06</th>\n",
              "      <td>29.580000</td>\n",
              "      <td>27.889999</td>\n",
              "      <td>28.299999</td>\n",
              "      <td>28.940001</td>\n",
              "      <td>1223200</td>\n",
              "      <td>28.042793</td>\n",
              "    </tr>\n",
              "    <tr>\n",
              "      <th>2009-05-07</th>\n",
              "      <td>27.750000</td>\n",
              "      <td>22.030001</td>\n",
              "      <td>27.290001</td>\n",
              "      <td>23.580000</td>\n",
              "      <td>3495900</td>\n",
              "      <td>22.848967</td>\n",
              "    </tr>\n",
              "    <tr>\n",
              "      <th>2009-05-08</th>\n",
              "      <td>24.670000</td>\n",
              "      <td>22.379999</td>\n",
              "      <td>24.120001</td>\n",
              "      <td>24.290001</td>\n",
              "      <td>1079800</td>\n",
              "      <td>23.536957</td>\n",
              "    </tr>\n",
              "    <tr>\n",
              "      <th>2009-05-11</th>\n",
              "      <td>24.799999</td>\n",
              "      <td>23.559999</td>\n",
              "      <td>23.959999</td>\n",
              "      <td>24.250000</td>\n",
              "      <td>846700</td>\n",
              "      <td>23.498199</td>\n",
              "    </tr>\n",
              "  </tbody>\n",
              "</table>\n",
              "<p>255 rows × 6 columns</p>\n",
              "</div>"
            ],
            "text/plain": [
              "                 High        Low       Open      Close   Volume  Adj Close\n",
              "Date                                                                      \n",
              "2008-05-07  57.560001  54.000000  55.560001  56.049999  1631600  54.312321\n",
              "2008-05-08  57.709999  54.270000  56.360001  55.000000  1597600  53.294876\n",
              "2008-05-09  55.980000  53.650002  54.639999  54.020000  1059600  52.345264\n",
              "2008-05-12  53.990002  50.110001  53.799999  52.259998  1473600  50.639824\n",
              "2008-05-13  56.560001  52.590000  52.590000  55.860001  2504400  54.128220\n",
              "...               ...        ...        ...        ...      ...        ...\n",
              "2009-05-05  28.070000  27.100000  27.160000  27.889999   587300  27.025349\n",
              "2009-05-06  29.580000  27.889999  28.299999  28.940001  1223200  28.042793\n",
              "2009-05-07  27.750000  22.030001  27.290001  23.580000  3495900  22.848967\n",
              "2009-05-08  24.670000  22.379999  24.120001  24.290001  1079800  23.536957\n",
              "2009-05-11  24.799999  23.559999  23.959999  24.250000   846700  23.498199\n",
              "\n",
              "[255 rows x 6 columns]"
            ]
          },
          "metadata": {
            "tags": []
          },
          "execution_count": 543
        }
      ]
    },
    {
      "cell_type": "code",
      "metadata": {
        "id": "b6x886nurPqD",
        "colab_type": "code",
        "outputId": "b8c06ded-7887-4555-ae19-21e12579de26",
        "colab": {
          "base_uri": "https://localhost:8080/",
          "height": 918
        }
      },
      "source": [
        "meli_sigma=drd.get_data_yahoo('MELI','08/09/2007','05/06/2009',interval='d')\n",
        "len(meli_sigma)\n",
        "tradingdays3=meli_sigma.index\n",
        "vol=[]\n",
        "for i in range(len(weektime2)):\n",
        "  a=list(tradingdays3).index(weektime2[i])\n",
        "  b=np.log(np.array(meli_sigma[:a]['Adj Close'])).std()\n",
        "  vol.append(b)\n",
        "vol"
      ],
      "execution_count": 544,
      "outputs": [
        {
          "output_type": "execute_result",
          "data": {
            "text/plain": [
              "[0.23302301663852237,\n",
              " 0.23420597314925293,\n",
              " 0.23476809309319754,\n",
              " 0.2328773873577797,\n",
              " 0.23039072011432887,\n",
              " 0.22801550856125813,\n",
              " 0.2257616453257282,\n",
              " 0.22354419264913838,\n",
              " 0.22236367842798746,\n",
              " 0.22576615775610845,\n",
              " 0.2274382281998453,\n",
              " 0.22679488388530186,\n",
              " 0.22676274123466225,\n",
              " 0.22601264634591184,\n",
              " 0.22443172949162637,\n",
              " 0.2239003309988104,\n",
              " 0.22549520040033677,\n",
              " 0.22643878284044577,\n",
              " 0.2297551304690211,\n",
              " 0.2351654072620489,\n",
              " 0.23889419709318774,\n",
              " 0.24868460542422816,\n",
              " 0.2650460336823241,\n",
              " 0.2777473245399257,\n",
              " 0.2920927289292302,\n",
              " 0.32204355541654867,\n",
              " 0.3431326255840718,\n",
              " 0.3672900359778705,\n",
              " 0.39454581836615493,\n",
              " 0.4233387232593027,\n",
              " 0.43783828742287645,\n",
              " 0.45042592795541586,\n",
              " 0.45624254365264355,\n",
              " 0.4620430417577689,\n",
              " 0.4680140317580413,\n",
              " 0.4705497435169148,\n",
              " 0.4740134102294971,\n",
              " 0.4787776429950007,\n",
              " 0.4862548730449311,\n",
              " 0.49265746067398114,\n",
              " 0.49619315841258405,\n",
              " 0.4979299971043456,\n",
              " 0.5020159040987973,\n",
              " 0.5038678652181812,\n",
              " 0.506669714580742,\n",
              " 0.5072476570869936,\n",
              " 0.5078617637967253,\n",
              " 0.5069619797709621,\n",
              " 0.5058489185642507,\n",
              " 0.5043776940594418,\n",
              " 0.5021383163707627,\n",
              " 0.49954972627551114,\n",
              " 0.4967120332588555]"
            ]
          },
          "metadata": {
            "tags": []
          },
          "execution_count": 544
        }
      ]
    },
    {
      "cell_type": "code",
      "metadata": {
        "id": "GHoWGtjwKP8a",
        "colab_type": "code",
        "colab": {
          "base_uri": "https://localhost:8080/",
          "height": 68
        },
        "outputId": "0dde465d-3cd5-4bde-c0a9-43a0db3811c3"
      },
      "source": [
        "#current: MMM strike:130 sp:159.76 ; SPX strike:2885 sp:3350 ; MELI strike:640 sp:718.53\n",
        "MMM_strike=(130/159.76)*55.54\n",
        "SPX_strike=(2885/3350)*1089.2\n",
        "MELI_strike=(640/718.53)*54.31\n",
        "print(MMM_strike)\n",
        "print(SPX_strike)\n",
        "print(MELI_strike)"
      ],
      "execution_count": 547,
      "outputs": [
        {
          "output_type": "stream",
          "text": [
            "45.194041061592394\n",
            "938.0125373134329\n",
            "48.37431979179714\n"
          ],
          "name": "stdout"
        }
      ]
    },
    {
      "cell_type": "markdown",
      "metadata": {
        "id": "Z88bkvO2zbrf",
        "colab_type": "text"
      },
      "source": [
        "**K for MELI is 45, maturity date is 2009/06/01 (covered call)**\n",
        "\n",
        "**K for MMM is 45, maturity date is 2009/06/01 (covered call)**\n",
        "\n",
        "**K for SPX is 1040, maturity date is 2009/06/01 (PUT)**"
      ]
    },
    {
      "cell_type": "code",
      "metadata": {
        "id": "GAz8cUy60aUK",
        "colab_type": "code",
        "colab": {}
      },
      "source": [
        "a=24+30+31+31+30+31+30+31+31+28+31+30+31+1\n",
        "#2008.05.07---2009.06.01\n",
        "maturity=[a/365,]\n",
        "for i in range(len(weektime2)-1):\n",
        "  a=a-7\n",
        "  maturity.append(a/365)"
      ],
      "execution_count": 0,
      "outputs": []
    },
    {
      "cell_type": "code",
      "metadata": {
        "id": "9owrFUbS0aYA",
        "colab_type": "code",
        "colab": {}
      },
      "source": [
        "import scipy.stats as ss\n",
        "meli_option=[]\n",
        "otype=1\n",
        "for i in range(len(weektime2)):\n",
        "  a=weektime2[i]\n",
        "  d1 = (np.log(MELI.loc[a,'Adj Close'] / 48.374) + (libor2008[i] + 0.5 * vol[i] ** 2) * maturity[i]) / (vol[i] * np.sqrt(maturity[i]))\n",
        "  d2 = d1 - vol[i] * np.sqrt(maturity[i])\n",
        "  price=(otype * MELI.loc[a,'Adj Close'] * ss.norm.cdf(otype * d1) - otype * np.exp(-libor2008[i] * maturity[i]) * 48.374 * ss.norm.cdf(otype * d2))\n",
        "  meli_option.append(price)\n"
      ],
      "execution_count": 0,
      "outputs": []
    },
    {
      "cell_type": "code",
      "metadata": {
        "id": "PFH8d4NBOlSD",
        "colab_type": "code",
        "outputId": "1d11ab3c-11f4-423e-e57b-5803f4cd203f",
        "colab": {
          "base_uri": "https://localhost:8080/",
          "height": 918
        }
      },
      "source": [
        "meli_option"
      ],
      "execution_count": 553,
      "outputs": [
        {
          "output_type": "execute_result",
          "data": {
            "text/plain": [
              "[9.189473749704742,\n",
              " 7.626214295671062,\n",
              " 5.3624104929950995,\n",
              " 2.632628497659505,\n",
              " 3.0848988158029904,\n",
              " 0.5925758277413724,\n",
              " 0.8566945146856284,\n",
              " 0.6546384458023384,\n",
              " 0.10401924138508267,\n",
              " 0.052457558410319294,\n",
              " 0.1564521469723983,\n",
              " 0.13366630551298786,\n",
              " 0.09844682776194946,\n",
              " 0.18742099378528376,\n",
              " 0.1335889799700969,\n",
              " 0.025307765110710645,\n",
              " 0.014327687611221052,\n",
              " 0.007190993312997593,\n",
              " 0.001077328182953509,\n",
              " 0.0002922831234629785,\n",
              " 0.0003171262263811075,\n",
              " 1.1406732247156999e-05,\n",
              " 1.1309089646163522e-05,\n",
              " 3.890139111160449e-06,\n",
              " 2.2126731455767412e-08,\n",
              " 2.601897937737019e-08,\n",
              " 5.274145363725797e-07,\n",
              " 9.981516020349656e-09,\n",
              " 2.1101485707481487e-09,\n",
              " 2.227311286019494e-06,\n",
              " 1.701384886099567e-06,\n",
              " 0.00018977669877013768,\n",
              " 5.727783513741083e-05,\n",
              " 3.33816316726226e-05,\n",
              " 0.00012119802887795394,\n",
              " 0.00031089311665470284,\n",
              " 2.0195177708506255e-05,\n",
              " 2.8321260191046933e-06,\n",
              " 7.771036399977464e-06,\n",
              " 4.114929525509008e-06,\n",
              " 6.748586430515061e-05,\n",
              " 2.2612507895887395e-06,\n",
              " 6.366135603000142e-06,\n",
              " 1.348405428412872e-06,\n",
              " 3.5479647282260686e-06,\n",
              " 1.5604787464866326e-06,\n",
              " 6.765127069670372e-06,\n",
              " 1.0351335500928183e-06,\n",
              " 6.887980355173591e-07,\n",
              " 3.636880495908393e-06,\n",
              " 9.346290165152189e-06,\n",
              " 1.1497799238733696e-05,\n",
              " 2.1120032288783424e-05]"
            ]
          },
          "metadata": {
            "tags": []
          },
          "execution_count": 553
        }
      ]
    },
    {
      "cell_type": "code",
      "metadata": {
        "id": "5frz90kD0aPP",
        "colab_type": "code",
        "colab": {}
      },
      "source": [
        "a=weektime2[0]\n",
        "share_meli=400000/(15*MELI.loc[a,'Adj Close'])\n",
        "share_meli\n",
        "meli_loss=[]\n",
        "for i in range(len(meli_option)-1):\n",
        "  loss=500*(meli_option[i+1]-meli_option[i])\n",
        "  meli_loss.append(loss)"
      ],
      "execution_count": 0,
      "outputs": []
    },
    {
      "cell_type": "code",
      "metadata": {
        "id": "Yn2XNvHNOwMM",
        "colab_type": "code",
        "outputId": "c59a1437-fe41-435c-af42-71a7130568a1",
        "colab": {
          "base_uri": "https://localhost:8080/",
          "height": 901
        }
      },
      "source": [
        "meli_loss"
      ],
      "execution_count": 556,
      "outputs": [
        {
          "output_type": "execute_result",
          "data": {
            "text/plain": [
              "[-781.6297270168402,\n",
              " -1131.9019013379811,\n",
              " -1364.8909976677971,\n",
              " 226.13515907174263,\n",
              " -1246.161494030809,\n",
              " 132.059343472128,\n",
              " -101.02803444164499,\n",
              " -275.3096022086279,\n",
              " -25.78084148738169,\n",
              " 51.997294281039494,\n",
              " -11.392920729705214,\n",
              " -17.6097388755192,\n",
              " 44.48708301166715,\n",
              " -26.916006907593438,\n",
              " -54.14060742969312,\n",
              " -5.490038749744796,\n",
              " -3.5683471491117293,\n",
              " -3.056832565022042,\n",
              " -0.3925225297452652,\n",
              " 0.012421551459064484,\n",
              " -0.15285974706697525,\n",
              " -4.882130049673828e-05,\n",
              " -0.003709475267501537,\n",
              " -0.0019340061898523407,\n",
              " 1.9461239608013893e-06,\n",
              " 0.0002506977784976048,\n",
              " -0.00025871651017611504,\n",
              " -3.935683724800754e-06,\n",
              " 0.001112600568724373,\n",
              " -0.0002629631999599635,\n",
              " 0.09403765694201906,\n",
              " -0.06624943181636342,\n",
              " -0.011948101732394117,\n",
              " 0.04390819860266567,\n",
              " 0.09484754388837445,\n",
              " -0.1453489694730983,\n",
              " -0.00868152584470078,\n",
              " 0.0024694551904363856,\n",
              " -0.0018280534372342283,\n",
              " 0.0316854673898208,\n",
              " -0.032612306757780936,\n",
              " 0.002052442406705701,\n",
              " -0.002508865087293635,\n",
              " 0.0010997796499065983,\n",
              " -0.000993742990869718,\n",
              " 0.0026023241615918697,\n",
              " -0.002864996759788777,\n",
              " -0.0001731677572877296,\n",
              " 0.0014740412301955169,\n",
              " 0.002854704834621898,\n",
              " 0.0010757545367907537,\n",
              " 0.004811116525024864]"
            ]
          },
          "metadata": {
            "tags": []
          },
          "execution_count": 556
        }
      ]
    },
    {
      "cell_type": "code",
      "metadata": {
        "id": "qjjVd52GOwEG",
        "colab_type": "code",
        "colab": {}
      },
      "source": [
        "def vol_finder(sigma,weektime):\n",
        "  len(sigma)\n",
        "  tradingdays3=sigma.index\n",
        "  vol=[]\n",
        "  for i in range(len(weektime)):\n",
        "    a=list(tradingdays3).index(weektime[i])\n",
        "    b=np.log(np.array(sigma[:a]['Adj Close'])).std()\n",
        "    vol.append(b)\n",
        "  return vol\n",
        "  \n",
        "def option_finder(stock,libor,vol,k,maturity,weektime,otype):\n",
        "  option=[]\n",
        "  for i in range(len(weektime)):\n",
        "    a=weektime[i]\n",
        "    d1 = (np.log(stock.loc[a,'Adj Close'] / k) + (libor[i] + 0.5 * vol[i] ** 2) * maturity[i]) / (vol[i] * np.sqrt(maturity[i]))\n",
        "    d2 = d1 - vol[i] * np.sqrt(maturity[i])\n",
        "    price=(otype * stock.loc[a,'Adj Close'] * ss.norm.cdf(otype * d1) - otype * np.exp(-libor[i] * maturity[i]) * k * ss.norm.cdf(otype * d2))\n",
        "    option.append(price)\n",
        "  return option"
      ],
      "execution_count": 0,
      "outputs": []
    },
    {
      "cell_type": "code",
      "metadata": {
        "id": "vdhR8PHjOwBo",
        "colab_type": "code",
        "colab": {}
      },
      "source": [
        "mmm_sigma=drd.get_data_yahoo('MMM','08/09/2007','05/06/2009',interval='d')\n",
        "mmm_vol=vol_finder(mmm_sigma,weektime2)\n",
        "spx_sigma=drd.get_data_yahoo('SPY','08/09/2007','05/06/2009',interval='d')\n",
        "spx_vol=vol_finder(spx_sigma,weektime2)"
      ],
      "execution_count": 0,
      "outputs": []
    },
    {
      "cell_type": "code",
      "metadata": {
        "id": "zq_dmrmkUQS5",
        "colab_type": "code",
        "outputId": "d7c378d1-9307-4c9f-f2c1-cb386e91769e",
        "colab": {
          "base_uri": "https://localhost:8080/",
          "height": 450
        }
      },
      "source": [
        "MMM"
      ],
      "execution_count": 559,
      "outputs": [
        {
          "output_type": "execute_result",
          "data": {
            "text/html": [
              "<div>\n",
              "<style scoped>\n",
              "    .dataframe tbody tr th:only-of-type {\n",
              "        vertical-align: middle;\n",
              "    }\n",
              "\n",
              "    .dataframe tbody tr th {\n",
              "        vertical-align: top;\n",
              "    }\n",
              "\n",
              "    .dataframe thead th {\n",
              "        text-align: right;\n",
              "    }\n",
              "</style>\n",
              "<table border=\"1\" class=\"dataframe\">\n",
              "  <thead>\n",
              "    <tr style=\"text-align: right;\">\n",
              "      <th></th>\n",
              "      <th>High</th>\n",
              "      <th>Low</th>\n",
              "      <th>Open</th>\n",
              "      <th>Close</th>\n",
              "      <th>Volume</th>\n",
              "      <th>Adj Close</th>\n",
              "    </tr>\n",
              "    <tr>\n",
              "      <th>Date</th>\n",
              "      <th></th>\n",
              "      <th></th>\n",
              "      <th></th>\n",
              "      <th></th>\n",
              "      <th></th>\n",
              "      <th></th>\n",
              "    </tr>\n",
              "  </thead>\n",
              "  <tbody>\n",
              "    <tr>\n",
              "      <th>2008-05-07</th>\n",
              "      <td>78.129997</td>\n",
              "      <td>76.489998</td>\n",
              "      <td>77.949997</td>\n",
              "      <td>76.680000</td>\n",
              "      <td>4089200.0</td>\n",
              "      <td>55.537189</td>\n",
              "    </tr>\n",
              "    <tr>\n",
              "      <th>2008-05-08</th>\n",
              "      <td>77.360001</td>\n",
              "      <td>76.470001</td>\n",
              "      <td>77.120003</td>\n",
              "      <td>76.949997</td>\n",
              "      <td>3796000.0</td>\n",
              "      <td>55.732716</td>\n",
              "    </tr>\n",
              "    <tr>\n",
              "      <th>2008-05-09</th>\n",
              "      <td>76.669998</td>\n",
              "      <td>75.820000</td>\n",
              "      <td>75.989998</td>\n",
              "      <td>76.320000</td>\n",
              "      <td>3871600.0</td>\n",
              "      <td>55.276447</td>\n",
              "    </tr>\n",
              "    <tr>\n",
              "      <th>2008-05-12</th>\n",
              "      <td>77.669998</td>\n",
              "      <td>75.949997</td>\n",
              "      <td>76.669998</td>\n",
              "      <td>77.669998</td>\n",
              "      <td>3552100.0</td>\n",
              "      <td>56.254223</td>\n",
              "    </tr>\n",
              "    <tr>\n",
              "      <th>2008-05-13</th>\n",
              "      <td>78.339996</td>\n",
              "      <td>76.910004</td>\n",
              "      <td>77.720001</td>\n",
              "      <td>77.180000</td>\n",
              "      <td>3407400.0</td>\n",
              "      <td>55.899319</td>\n",
              "    </tr>\n",
              "    <tr>\n",
              "      <th>...</th>\n",
              "      <td>...</td>\n",
              "      <td>...</td>\n",
              "      <td>...</td>\n",
              "      <td>...</td>\n",
              "      <td>...</td>\n",
              "      <td>...</td>\n",
              "    </tr>\n",
              "    <tr>\n",
              "      <th>2009-05-05</th>\n",
              "      <td>58.759998</td>\n",
              "      <td>57.779999</td>\n",
              "      <td>58.419998</td>\n",
              "      <td>58.430000</td>\n",
              "      <td>4302400.0</td>\n",
              "      <td>43.712578</td>\n",
              "    </tr>\n",
              "    <tr>\n",
              "      <th>2009-05-06</th>\n",
              "      <td>59.360001</td>\n",
              "      <td>57.830002</td>\n",
              "      <td>58.740002</td>\n",
              "      <td>59.139999</td>\n",
              "      <td>5067100.0</td>\n",
              "      <td>44.243744</td>\n",
              "    </tr>\n",
              "    <tr>\n",
              "      <th>2009-05-07</th>\n",
              "      <td>59.560001</td>\n",
              "      <td>57.970001</td>\n",
              "      <td>59.009998</td>\n",
              "      <td>58.770000</td>\n",
              "      <td>5627600.0</td>\n",
              "      <td>43.966942</td>\n",
              "    </tr>\n",
              "    <tr>\n",
              "      <th>2009-05-08</th>\n",
              "      <td>60.230000</td>\n",
              "      <td>59.200001</td>\n",
              "      <td>59.209999</td>\n",
              "      <td>60.090000</td>\n",
              "      <td>5408200.0</td>\n",
              "      <td>44.954449</td>\n",
              "    </tr>\n",
              "    <tr>\n",
              "      <th>2009-05-11</th>\n",
              "      <td>59.580002</td>\n",
              "      <td>58.700001</td>\n",
              "      <td>59.410000</td>\n",
              "      <td>59.110001</td>\n",
              "      <td>3896100.0</td>\n",
              "      <td>44.221306</td>\n",
              "    </tr>\n",
              "  </tbody>\n",
              "</table>\n",
              "<p>255 rows × 6 columns</p>\n",
              "</div>"
            ],
            "text/plain": [
              "                 High        Low       Open      Close     Volume  Adj Close\n",
              "Date                                                                        \n",
              "2008-05-07  78.129997  76.489998  77.949997  76.680000  4089200.0  55.537189\n",
              "2008-05-08  77.360001  76.470001  77.120003  76.949997  3796000.0  55.732716\n",
              "2008-05-09  76.669998  75.820000  75.989998  76.320000  3871600.0  55.276447\n",
              "2008-05-12  77.669998  75.949997  76.669998  77.669998  3552100.0  56.254223\n",
              "2008-05-13  78.339996  76.910004  77.720001  77.180000  3407400.0  55.899319\n",
              "...               ...        ...        ...        ...        ...        ...\n",
              "2009-05-05  58.759998  57.779999  58.419998  58.430000  4302400.0  43.712578\n",
              "2009-05-06  59.360001  57.830002  58.740002  59.139999  5067100.0  44.243744\n",
              "2009-05-07  59.560001  57.970001  59.009998  58.770000  5627600.0  43.966942\n",
              "2009-05-08  60.230000  59.200001  59.209999  60.090000  5408200.0  44.954449\n",
              "2009-05-11  59.580002  58.700001  59.410000  59.110001  3896100.0  44.221306\n",
              "\n",
              "[255 rows x 6 columns]"
            ]
          },
          "metadata": {
            "tags": []
          },
          "execution_count": 559
        }
      ]
    },
    {
      "cell_type": "code",
      "metadata": {
        "id": "kJN3_OKKUQQU",
        "colab_type": "code",
        "outputId": "342d53d9-c8a2-4555-dffd-4dc35c111fbe",
        "colab": {
          "base_uri": "https://localhost:8080/",
          "height": 450
        }
      },
      "source": [
        "for i in range(len(tradingdays2)):\n",
        "  a=tradingdays2[i]\n",
        "  b=SPY.loc[a,'Adj Close']\n",
        "  SPY.loc[a,'Adj Close']=b*10\n",
        "SPY"
      ],
      "execution_count": 560,
      "outputs": [
        {
          "output_type": "execute_result",
          "data": {
            "text/html": [
              "<div>\n",
              "<style scoped>\n",
              "    .dataframe tbody tr th:only-of-type {\n",
              "        vertical-align: middle;\n",
              "    }\n",
              "\n",
              "    .dataframe tbody tr th {\n",
              "        vertical-align: top;\n",
              "    }\n",
              "\n",
              "    .dataframe thead th {\n",
              "        text-align: right;\n",
              "    }\n",
              "</style>\n",
              "<table border=\"1\" class=\"dataframe\">\n",
              "  <thead>\n",
              "    <tr style=\"text-align: right;\">\n",
              "      <th></th>\n",
              "      <th>High</th>\n",
              "      <th>Low</th>\n",
              "      <th>Open</th>\n",
              "      <th>Close</th>\n",
              "      <th>Volume</th>\n",
              "      <th>Adj Close</th>\n",
              "    </tr>\n",
              "    <tr>\n",
              "      <th>Date</th>\n",
              "      <th></th>\n",
              "      <th></th>\n",
              "      <th></th>\n",
              "      <th></th>\n",
              "      <th></th>\n",
              "      <th></th>\n",
              "    </tr>\n",
              "  </thead>\n",
              "  <tbody>\n",
              "    <tr>\n",
              "      <th>2008-05-07</th>\n",
              "      <td>142.039993</td>\n",
              "      <td>139.130005</td>\n",
              "      <td>141.889999</td>\n",
              "      <td>139.520004</td>\n",
              "      <td>199267300.0</td>\n",
              "      <td>1089.219208</td>\n",
              "    </tr>\n",
              "    <tr>\n",
              "      <th>2008-05-08</th>\n",
              "      <td>140.320007</td>\n",
              "      <td>138.979996</td>\n",
              "      <td>139.740005</td>\n",
              "      <td>139.160004</td>\n",
              "      <td>178321200.0</td>\n",
              "      <td>1086.408615</td>\n",
              "    </tr>\n",
              "    <tr>\n",
              "      <th>2008-05-09</th>\n",
              "      <td>139.389999</td>\n",
              "      <td>138.449997</td>\n",
              "      <td>138.600006</td>\n",
              "      <td>138.899994</td>\n",
              "      <td>152588200.0</td>\n",
              "      <td>1084.379044</td>\n",
              "    </tr>\n",
              "    <tr>\n",
              "      <th>2008-05-12</th>\n",
              "      <td>140.559998</td>\n",
              "      <td>138.729996</td>\n",
              "      <td>139.250000</td>\n",
              "      <td>140.460007</td>\n",
              "      <td>147865900.0</td>\n",
              "      <td>1096.557922</td>\n",
              "    </tr>\n",
              "    <tr>\n",
              "      <th>2008-05-13</th>\n",
              "      <td>140.889999</td>\n",
              "      <td>139.729996</td>\n",
              "      <td>140.800003</td>\n",
              "      <td>140.479996</td>\n",
              "      <td>159132200.0</td>\n",
              "      <td>1096.714096</td>\n",
              "    </tr>\n",
              "    <tr>\n",
              "      <th>...</th>\n",
              "      <td>...</td>\n",
              "      <td>...</td>\n",
              "      <td>...</td>\n",
              "      <td>...</td>\n",
              "      <td>...</td>\n",
              "      <td>...</td>\n",
              "    </tr>\n",
              "    <tr>\n",
              "      <th>2009-05-05</th>\n",
              "      <td>90.930000</td>\n",
              "      <td>89.839996</td>\n",
              "      <td>90.570000</td>\n",
              "      <td>90.570000</td>\n",
              "      <td>243036300.0</td>\n",
              "      <td>725.680237</td>\n",
              "    </tr>\n",
              "    <tr>\n",
              "      <th>2009-05-06</th>\n",
              "      <td>92.199997</td>\n",
              "      <td>90.610001</td>\n",
              "      <td>91.680000</td>\n",
              "      <td>92.139999</td>\n",
              "      <td>291941000.0</td>\n",
              "      <td>738.259506</td>\n",
              "    </tr>\n",
              "    <tr>\n",
              "      <th>2009-05-07</th>\n",
              "      <td>93.150002</td>\n",
              "      <td>90.279999</td>\n",
              "      <td>93.010002</td>\n",
              "      <td>90.860001</td>\n",
              "      <td>317728000.0</td>\n",
              "      <td>728.003845</td>\n",
              "    </tr>\n",
              "    <tr>\n",
              "      <th>2009-05-08</th>\n",
              "      <td>93.220001</td>\n",
              "      <td>91.440002</td>\n",
              "      <td>92.029999</td>\n",
              "      <td>92.980003</td>\n",
              "      <td>299081700.0</td>\n",
              "      <td>744.989929</td>\n",
              "    </tr>\n",
              "    <tr>\n",
              "      <th>2009-05-11</th>\n",
              "      <td>92.110001</td>\n",
              "      <td>91.040001</td>\n",
              "      <td>91.699997</td>\n",
              "      <td>91.239998</td>\n",
              "      <td>247923600.0</td>\n",
              "      <td>731.048737</td>\n",
              "    </tr>\n",
              "  </tbody>\n",
              "</table>\n",
              "<p>255 rows × 6 columns</p>\n",
              "</div>"
            ],
            "text/plain": [
              "                  High         Low  ...       Volume    Adj Close\n",
              "Date                                ...                          \n",
              "2008-05-07  142.039993  139.130005  ...  199267300.0  1089.219208\n",
              "2008-05-08  140.320007  138.979996  ...  178321200.0  1086.408615\n",
              "2008-05-09  139.389999  138.449997  ...  152588200.0  1084.379044\n",
              "2008-05-12  140.559998  138.729996  ...  147865900.0  1096.557922\n",
              "2008-05-13  140.889999  139.729996  ...  159132200.0  1096.714096\n",
              "...                ...         ...  ...          ...          ...\n",
              "2009-05-05   90.930000   89.839996  ...  243036300.0   725.680237\n",
              "2009-05-06   92.199997   90.610001  ...  291941000.0   738.259506\n",
              "2009-05-07   93.150002   90.279999  ...  317728000.0   728.003845\n",
              "2009-05-08   93.220001   91.440002  ...  299081700.0   744.989929\n",
              "2009-05-11   92.110001   91.040001  ...  247923600.0   731.048737\n",
              "\n",
              "[255 rows x 6 columns]"
            ]
          },
          "metadata": {
            "tags": []
          },
          "execution_count": 560
        }
      ]
    },
    {
      "cell_type": "code",
      "metadata": {
        "id": "RgIoDAXqUQNh",
        "colab_type": "code",
        "outputId": "37a66dbd-8c95-4342-822a-20915ab5da80",
        "colab": {
          "base_uri": "https://localhost:8080/",
          "height": 918
        }
      },
      "source": [
        "mmm_option=option_finder(MMM,libor2008,mmm_vol,45.194,maturity,weektime2,1)\n",
        "spx_option=option_finder(SPY,libor2008,spx_vol,938.013,maturity,weektime2,-1)\n",
        "spx_option"
      ],
      "execution_count": 561,
      "outputs": [
        {
          "output_type": "execute_result",
          "data": {
            "text/plain": [
              "[0.004559072104470263,\n",
              " 0.0017157999536422386,\n",
              " 0.002886795699111211,\n",
              " 0.0019487401065220178,\n",
              " 0.0038492690067821744,\n",
              " 0.03598451908483202,\n",
              " 0.02788327814638647,\n",
              " 0.0716471139268906,\n",
              " 0.9137915163318837,\n",
              " 1.8319027498825449,\n",
              " 3.0233203466001584,\n",
              " 0.7789119646494456,\n",
              " 0.6688132282466981,\n",
              " 0.6408591253487756,\n",
              " 0.7291490311136783,\n",
              " 1.0792490746983674,\n",
              " 0.7105077505507822,\n",
              " 0.9130570340644368,\n",
              " 3.9342612246781243,\n",
              " 13.829072956543598,\n",
              " 11.433833076024484,\n",
              " 18.537393990416206,\n",
              " 136.51379789139253,\n",
              " 215.09932913766863,\n",
              " 216.37947521166927,\n",
              " 197.24267385163319,\n",
              " 177.3812141694715,\n",
              " 258.8022247250133,\n",
              " 292.686117301276,\n",
              " 231.2423964844436,\n",
              " 244.9120996024153,\n",
              " 226.48689860512195,\n",
              " 219.58891722176156,\n",
              " 252.13381611607986,\n",
              " 229.7947386344049,\n",
              " 216.48993197053596,\n",
              " 266.46004118969245,\n",
              " 268.74237621821146,\n",
              " 242.1331783787332,\n",
              " 274.13910323271443,\n",
              " 272.0988496320932,\n",
              " 308.49216126959425,\n",
              " 325.8136612381404,\n",
              " 366.65452951090026,\n",
              " 359.4375735804214,\n",
              " 301.5408752699841,\n",
              " 284.9034574388179,\n",
              " 288.0669186614738,\n",
              " 276.3919368905599,\n",
              " 254.64142340029275,\n",
              " 260.4354711551897,\n",
              " 237.61880714024255,\n",
              " 199.59225463072448]"
            ]
          },
          "metadata": {
            "tags": []
          },
          "execution_count": 561
        }
      ]
    },
    {
      "cell_type": "code",
      "metadata": {
        "id": "nrNVvI5jUQJ9",
        "colab_type": "code",
        "outputId": "568cd10a-3bf9-4f57-d577-da90f3727ef8",
        "colab": {
          "base_uri": "https://localhost:8080/",
          "height": 34
        }
      },
      "source": [
        "a=weektime2[0]\n",
        "share_mmm=400000/(15*MMM.loc[a,'Adj Close'])\n",
        "share_mmm"
      ],
      "execution_count": 562,
      "outputs": [
        {
          "output_type": "execute_result",
          "data": {
            "text/plain": [
              "480.15873533753137"
            ]
          },
          "metadata": {
            "tags": []
          },
          "execution_count": 562
        }
      ]
    },
    {
      "cell_type": "code",
      "metadata": {
        "id": "dDqO-lqtOv29",
        "colab_type": "code",
        "outputId": "a4c00cc1-8e2d-405f-ca98-bdcbca791f1a",
        "colab": {
          "base_uri": "https://localhost:8080/",
          "height": 901
        }
      },
      "source": [
        "mmm_loss=[]\n",
        "for i in range(len(mmm_option)-1):\n",
        "  loss=500*(mmm_option[i+1]-mmm_option[i])\n",
        "  mmm_loss.append(loss)\n",
        "mmm_loss"
      ],
      "execution_count": 563,
      "outputs": [
        {
          "output_type": "execute_result",
          "data": {
            "text/plain": [
              "[369.0193118787022,\n",
              " -434.8382942014233,\n",
              " 346.7896962283348,\n",
              " -253.74448050514076,\n",
              " -432.6891453408415,\n",
              " -363.2199531671354,\n",
              " -635.9928300571056,\n",
              " -1417.6285149084683,\n",
              " 26.770623156821216,\n",
              " -30.730563198346772,\n",
              " 746.1960140347265,\n",
              " 218.19987275645403,\n",
              " 146.41219859456456,\n",
              " 405.76538729246533,\n",
              " -665.7921265017386,\n",
              " 10.902498502694868,\n",
              " 32.664324333996575,\n",
              " -789.8990632826468,\n",
              " 491.79218596306384,\n",
              " -467.1960925896137,\n",
              " -273.35238381447266,\n",
              " -2449.5470010614663,\n",
              " -223.7390654516942,\n",
              " 219.82970082256804,\n",
              " 723.5416501484489,\n",
              " 435.51558195000695,\n",
              " -1034.2910331262588,\n",
              " -21.175955539267655,\n",
              " 1680.5110732431397,\n",
              " -1364.1273863409235,\n",
              " -461.5180203584446,\n",
              " 117.59091275234911,\n",
              " -250.71502255478828,\n",
              " 111.18267779750424,\n",
              " 79.65918697897578,\n",
              " -211.35862515305882,\n",
              " -27.60038008497423,\n",
              " 42.94466049430801,\n",
              " -89.11132287480072,\n",
              " 2.2460856800914364,\n",
              " -8.083923900359006,\n",
              " -0.14399966938937955,\n",
              " -0.21198012272561575,\n",
              " 0.3254679167310039,\n",
              " 2.148016289760437,\n",
              " -0.8674416753002151,\n",
              " 2.8902627456843937,\n",
              " 0.9027110440779917,\n",
              " 16.17139934792286,\n",
              " -13.613363878974328,\n",
              " 120.4998047904749,\n",
              " 115.51724075431213]"
            ]
          },
          "metadata": {
            "tags": []
          },
          "execution_count": 563
        }
      ]
    },
    {
      "cell_type": "code",
      "metadata": {
        "id": "CSnYk-MlOv0Q",
        "colab_type": "code",
        "outputId": "0c3cbaa7-bec7-4c76-9d7f-1404de929f68",
        "colab": {
          "base_uri": "https://localhost:8080/",
          "height": 34
        }
      },
      "source": [
        "a=weektime2[0]\n",
        "share_spx=400000/(15*SPY.loc[a,'Adj Close'])\n",
        "share_spx"
      ],
      "execution_count": 564,
      "outputs": [
        {
          "output_type": "execute_result",
          "data": {
            "text/plain": [
              "24.482369092092377"
            ]
          },
          "metadata": {
            "tags": []
          },
          "execution_count": 564
        }
      ]
    },
    {
      "cell_type": "code",
      "metadata": {
        "id": "4xSnIMovOvys",
        "colab_type": "code",
        "outputId": "fc64f10b-12b9-473b-bf3d-dcdfb0b5cfaa",
        "colab": {
          "base_uri": "https://localhost:8080/",
          "height": 901
        }
      },
      "source": [
        "spx_loss=[]\n",
        "for i in range(len(spx_option)-1):\n",
        "  loss=100*(spx_option[i+1]-spx_option[i])\n",
        "  spx_loss.append(-loss)\n",
        "spx_loss"
      ],
      "execution_count": 565,
      "outputs": [
        {
          "output_type": "execute_result",
          "data": {
            "text/plain": [
              "[0.28432721508280245,\n",
              " -0.11709957454689723,\n",
              " 0.09380555925891931,\n",
              " -0.19005289002601566,\n",
              " -3.213525007804985,\n",
              " 0.8101240938445553,\n",
              " -4.3763835780504134,\n",
              " -84.21444024049931,\n",
              " -91.81112335506612,\n",
              " -119.14175967176135,\n",
              " 224.44083819507128,\n",
              " 11.009873640274748,\n",
              " 2.795410289792244,\n",
              " -8.82899057649027,\n",
              " -35.010004358468905,\n",
              " 36.87413241475852,\n",
              " -20.254928351365464,\n",
              " -302.12041906136875,\n",
              " -989.4811731865474,\n",
              " 239.52398805191137,\n",
              " -710.3560914391721,\n",
              " -11797.640390097633,\n",
              " -7858.5531246276105,\n",
              " -128.01460740006405,\n",
              " 1913.6801360036088,\n",
              " 1986.1459682161694,\n",
              " -8142.101055554178,\n",
              " -3388.3892576262724,\n",
              " 6144.372081683241,\n",
              " -1366.9703117971721,\n",
              " 1842.520099729336,\n",
              " 689.7981383360388,\n",
              " -3254.4898894318294,\n",
              " 2233.9077481674963,\n",
              " 1330.480666386893,\n",
              " -4997.010921915648,\n",
              " -228.23350285190145,\n",
              " 2660.919783947827,\n",
              " -3200.592485398124,\n",
              " 204.0253600621213,\n",
              " -3639.331163750103,\n",
              " -1732.1499968546163,\n",
              " -4084.086827275985,\n",
              " 721.6955930478889,\n",
              " 5789.669831043728,\n",
              " 1663.7417831166204,\n",
              " -316.3461222655883,\n",
              " 1167.498177091386,\n",
              " 2175.0513490267167,\n",
              " -579.4047754896951,\n",
              " 2281.666401494715,\n",
              " 3802.655250951807]"
            ]
          },
          "metadata": {
            "tags": []
          },
          "execution_count": 565
        }
      ]
    },
    {
      "cell_type": "code",
      "metadata": {
        "id": "Wnm3bFNoOvvd",
        "colab_type": "code",
        "outputId": "38004c99-a228-4fc3-d921-29497879a1b6",
        "colab": {
          "base_uri": "https://localhost:8080/",
          "height": 323
        }
      },
      "source": [
        "stress_loss=np.sum([meli_loss,spx_loss,mmm_loss,bond_loss,stock_loss], axis = 0)\n",
        "stress_loss"
      ],
      "execution_count": 566,
      "outputs": [
        {
          "output_type": "execute_result",
          "data": {
            "text/plain": [
              "array([  -3328.0357373 ,   -4480.87474836,   19055.16885336,\n",
              "        -14883.20341844,   23837.00477325,    -633.82543602,\n",
              "         -6208.63557151,   -1911.56403728,    -215.08066284,\n",
              "         14795.91670604,    5843.44465722,   -9688.01668788,\n",
              "         -7715.3045791 ,  -17459.62133442,  -19120.02831025,\n",
              "        -11637.66238487,  -19186.30599348,   -2903.17763029,\n",
              "          -251.79894327,   43002.96825842,  -12197.04334498,\n",
              "         14861.9098311 ,   51934.74275492,  -35353.52459845,\n",
              "         38983.14887384,  -22995.85123548,   28028.13216094,\n",
              "        -26331.32369226, -102199.16608791,  -80838.58705075,\n",
              "        -40031.66301871, -110676.86999794,   -5325.85141193,\n",
              "        -20525.14473476,  118913.3525648 ,  -24656.59094877,\n",
              "         59849.19739651,   64068.7063216 ,   57614.40962241,\n",
              "        -49923.90590117,   26003.64772343,   20031.44413926,\n",
              "         23717.13825684,  -12401.05308202,  -27536.10068017,\n",
              "         25520.22924706,  -48882.24558415,   27066.64472739,\n",
              "         -9563.71685242,   32595.14977065,   29063.26813024,\n",
              "          1283.37383443])"
            ]
          },
          "metadata": {
            "tags": []
          },
          "execution_count": 566
        }
      ]
    },
    {
      "cell_type": "code",
      "metadata": {
        "id": "yzOKM9psOvs3",
        "colab_type": "code",
        "outputId": "041f6e61-8597-4ed5-a348-9900e1ca8b54",
        "colab": {
          "base_uri": "https://localhost:8080/",
          "height": 323
        }
      },
      "source": [
        "stress_loss.sort()\n",
        "stress_loss"
      ],
      "execution_count": 567,
      "outputs": [
        {
          "output_type": "execute_result",
          "data": {
            "text/plain": [
              "array([-110676.86999794, -102199.16608791,  -80838.58705075,\n",
              "        -49923.90590117,  -48882.24558415,  -40031.66301871,\n",
              "        -35353.52459845,  -27536.10068017,  -26331.32369226,\n",
              "        -24656.59094877,  -22995.85123548,  -20525.14473476,\n",
              "        -19186.30599348,  -19120.02831025,  -17459.62133442,\n",
              "        -14883.20341844,  -12401.05308202,  -12197.04334498,\n",
              "        -11637.66238487,   -9688.01668788,   -9563.71685242,\n",
              "         -7715.3045791 ,   -6208.63557151,   -5325.85141193,\n",
              "         -4480.87474836,   -3328.0357373 ,   -2903.17763029,\n",
              "         -1911.56403728,    -633.82543602,    -251.79894327,\n",
              "          -215.08066284,    1283.37383443,    5843.44465722,\n",
              "         14795.91670604,   14861.9098311 ,   19055.16885336,\n",
              "         20031.44413926,   23717.13825684,   23837.00477325,\n",
              "         25520.22924706,   26003.64772343,   27066.64472739,\n",
              "         28028.13216094,   29063.26813024,   32595.14977065,\n",
              "         38983.14887384,   43002.96825842,   51934.74275492,\n",
              "         57614.40962241,   59849.19739651,   64068.7063216 ,\n",
              "        118913.3525648 ])"
            ]
          },
          "metadata": {
            "tags": []
          },
          "execution_count": 567
        }
      ]
    },
    {
      "cell_type": "code",
      "metadata": {
        "id": "3lmc1Ag8r8GG",
        "colab_type": "code",
        "outputId": "daac986f-07aa-4e70-8436-8ed4666e7d48",
        "colab": {
          "base_uri": "https://localhost:8080/",
          "height": 34
        }
      },
      "source": [
        "len(stress_loss)"
      ],
      "execution_count": 568,
      "outputs": [
        {
          "output_type": "execute_result",
          "data": {
            "text/plain": [
              "52"
            ]
          },
          "metadata": {
            "tags": []
          },
          "execution_count": 568
        }
      ]
    },
    {
      "cell_type": "markdown",
      "metadata": {
        "id": "5VqNJ8rKWnFQ",
        "colab_type": "text"
      },
      "source": [
        "# **make PDF graph**"
      ]
    },
    {
      "cell_type": "code",
      "metadata": {
        "id": "gLLDcRShVyVk",
        "colab_type": "code",
        "outputId": "20a06ead-d322-43b6-fc34-d015fb472cef",
        "colab": {
          "base_uri": "https://localhost:8080/",
          "height": 394
        }
      },
      "source": [
        "sns.set_style(\"darkgrid\")\n",
        "plt.figure(figsize=(8,4),dpi=100)  \n",
        "sns.distplot(stress_loss,hist=True, kde=True, rug=False,norm_hist = True,\n",
        "kde_kws={'linestyle':'--'}, \n",
        "label='stress loss')"
      ],
      "execution_count": 569,
      "outputs": [
        {
          "output_type": "execute_result",
          "data": {
            "text/plain": [
              "<matplotlib.axes._subplots.AxesSubplot at 0x7f705f1d6080>"
            ]
          },
          "metadata": {
            "tags": []
          },
          "execution_count": 569
        },
        {
          "output_type": "display_data",
          "data": {
            "image/png": "[encoded data removed]",
            "text/plain": [
              "<Figure size 800x400 with 1 Axes>"
            ]
          },
          "metadata": {
            "tags": []
          }
        }
      ]
    },
    {
      "cell_type": "markdown",
      "metadata": {
        "id": "k_SnjzKKWsaD",
        "colab_type": "text"
      },
      "source": [
        "# **Set 10 bins to make histogram**"
      ]
    },
    {
      "cell_type": "code",
      "metadata": {
        "id": "JiZvjP0SVyQ5",
        "colab_type": "code",
        "outputId": "83ac65f0-30a5-4c18-ba7f-24f5b1a3fecc",
        "colab": {
          "base_uri": "https://localhost:8080/",
          "height": 379
        }
      },
      "source": [
        "sns.set_style(\"darkgrid\")\n",
        "plt.figure(figsize=(8,4),dpi=100)  \n",
        "sns.distplot(stress_loss, bins=10,hist=True, kde=False, rug=False,norm_hist = False,\n",
        "kde_kws={'linestyle':'--'}, \n",
        "label='stress loss')"
      ],
      "execution_count": 570,
      "outputs": [
        {
          "output_type": "execute_result",
          "data": {
            "text/plain": [
              "<matplotlib.axes._subplots.AxesSubplot at 0x7f705f1d6160>"
            ]
          },
          "metadata": {
            "tags": []
          },
          "execution_count": 570
        },
        {
          "output_type": "display_data",
          "data": {
            "image/png": "[encoded data removed]",
            "text/plain": [
              "<Figure size 800x400 with 1 Axes>"
            ]
          },
          "metadata": {
            "tags": []
          }
        }
      ]
    },
    {
      "cell_type": "markdown",
      "metadata": {
        "id": "qe4jSQ2jWzYw",
        "colab_type": "text"
      },
      "source": [
        "# **make Empirical loss distribution graph**"
      ]
    },
    {
      "cell_type": "code",
      "metadata": {
        "id": "QxfDAZevVyKv",
        "colab_type": "code",
        "outputId": "a0dccf72-e3ad-40d6-f74f-b8a1613b056f",
        "colab": {
          "base_uri": "https://localhost:8080/",
          "height": 383
        }
      },
      "source": [
        "plt.figure(figsize=(10,4),dpi=100) \n",
        "length=len(stress_loss)\n",
        "x=np.linspace(-43000,36000,8000)\n",
        "y=[]\n",
        "for i in range(8000):\n",
        "  m=x[i]\n",
        "  function=[0]*(length+1)\n",
        "  if m<stress_loss[0]:\n",
        "    function[0]=0\n",
        "  if m>=stress_loss[(length-1)]:\n",
        "    function[length]=1\n",
        "  for j in range((length-1)):\n",
        "    if m>=stress_loss[j] and m<stress_loss[j+1]:\n",
        "      function[j+1]=(1+j)/length\n",
        "  b=0\n",
        "  for n in range((length+1)):\n",
        "    b+=function[n]\n",
        "  y.append(b)\n",
        "plt.plot(x,y)"
      ],
      "execution_count": 571,
      "outputs": [
        {
          "output_type": "execute_result",
          "data": {
            "text/plain": [
              "[<matplotlib.lines.Line2D at 0x7f705f29b160>]"
            ]
          },
          "metadata": {
            "tags": []
          },
          "execution_count": 571
        },
        {
          "output_type": "display_data",
          "data": {
            "image/png": "[encoded data removed]",
            "text/plain": [
              "<Figure size 1000x400 with 1 Axes>"
            ]
          },
          "metadata": {
            "tags": []
          }
        }
      ]
    },
    {
      "cell_type": "markdown",
      "metadata": {
        "id": "dH5Y-iC5XEaN",
        "colab_type": "text"
      },
      "source": [
        "# **因为python实现不了断点作图，所以在每一段端点python绘图都连上了，实际情况在每一段端点处应断开，每一段都取左端点不取右端点，写report的时候注明。**"
      ]
    },
    {
      "cell_type": "code",
      "metadata": {
        "id": "XJMtdbLdOvqi",
        "colab_type": "code",
        "outputId": "19ddbefe-8bbc-491d-d21c-32a5723bd2b2",
        "colab": {
          "base_uri": "https://localhost:8080/",
          "height": 34
        }
      },
      "source": [
        "0.99*53"
      ],
      "execution_count": 572,
      "outputs": [
        {
          "output_type": "execute_result",
          "data": {
            "text/plain": [
              "52.47"
            ]
          },
          "metadata": {
            "tags": []
          },
          "execution_count": 572
        }
      ]
    },
    {
      "cell_type": "code",
      "metadata": {
        "id": "IiPr-x7qAGY8",
        "colab_type": "code",
        "outputId": "4b84f537-4887-483e-b74b-6fc16d1ec1f2",
        "colab": {
          "base_uri": "https://localhost:8080/",
          "height": 34
        }
      },
      "source": [
        "0.95*53"
      ],
      "execution_count": 573,
      "outputs": [
        {
          "output_type": "execute_result",
          "data": {
            "text/plain": [
              "50.349999999999994"
            ]
          },
          "metadata": {
            "tags": []
          },
          "execution_count": 573
        }
      ]
    },
    {
      "cell_type": "markdown",
      "metadata": {
        "id": "BMCbjnIva8h7",
        "colab_type": "text"
      },
      "source": [
        "**SVAR0.99 = 118913.35**\n",
        "\n",
        "**SVAR0.95 = 59849.20**"
      ]
    },
    {
      "cell_type": "markdown",
      "metadata": {
        "id": "6byGp-oQAJ5i",
        "colab_type": "text"
      },
      "source": [
        "# **Now we work on the second scenario --- global economic crisis 2015~2016**"
      ]
    },
    {
      "cell_type": "code",
      "metadata": {
        "id": "gRXKc9aqBCGO",
        "colab_type": "code",
        "outputId": "12bab2f0-7058-42b8-b17b-122a2f72ee8c",
        "colab": {
          "base_uri": "https://localhost:8080/",
          "height": 51
        }
      },
      "source": [
        "B30= drd.get_data_yahoo('^TYX','08/19/2015','08/16/2016',interval='d')\n",
        "tradingdays2=B30.index\n",
        "tradingdays2\n",
        "len(tradingdays2)\n",
        "\n",
        "weektime2=[]\n",
        "for i in tradingdays2:\n",
        "  if i.weekday() == 2:\n",
        "    weektime2.append(i)\n",
        "len(weektime2)\n",
        "\n",
        "nan_list=[]\n",
        "nan_index=[]\n",
        "for i in range(50):\n",
        "  if weektime2[i+1]-weektime2[i] != pd.Timedelta('7 days'):\n",
        "    nan_list.append(weektime2[i])\n",
        "    nan_index.append(i)\n",
        "\n",
        "\n",
        "#weektime: wednesday date list\n",
        "#weektime[-1]\n",
        "print(nan_index)\n",
        "print(nan_list)"
      ],
      "execution_count": 574,
      "outputs": [
        {
          "output_type": "stream",
          "text": [
            "[]\n",
            "[]\n"
          ],
          "name": "stdout"
        }
      ]
    },
    {
      "cell_type": "code",
      "metadata": {
        "id": "GdWAI5aMBCDw",
        "colab_type": "code",
        "colab": {}
      },
      "source": [
        "AAPL= drd.get_data_yahoo('AAPL','08/19/2015','08/16/2016',interval='d')\n",
        "TSLA= drd.get_data_yahoo('TSLA','08/19/2015','08/16/2016',interval='d')\n",
        "GILD= drd.get_data_yahoo('GILD','08/19/2015','08/16/2016',interval='d')\n",
        "MELI= drd.get_data_yahoo('MELI','08/19/2015','08/16/2016',interval='d')\n",
        "MSFT= drd.get_data_yahoo('MSFT','08/19/2015','08/16/2016',interval='d')\n",
        "DIS= drd.get_data_yahoo('DIS','08/19/2015','08/16/2016',interval='d')\n",
        "NVDA= drd.get_data_yahoo('NVDA','08/19/2015','08/16/2016',interval='d')\n",
        "TCO= drd.get_data_yahoo('TCO','08/19/2015','08/16/2016',interval='d')\n",
        "MMM= drd.get_data_yahoo('MMM','08/19/2015','08/16/2016',interval='d')\n",
        "INCY= drd.get_data_yahoo('INCY','08/19/2015','08/16/2016',interval='d')\n",
        "IBM= drd.get_data_yahoo('IBM','08/19/2015','08/16/2016',interval='d')\n",
        "EPC= drd.get_data_yahoo('EPC','08/19/2015','08/16/2016',interval='d')\n",
        "SPY= drd.get_data_yahoo('SPY','08/19/2015','08/16/2016',interval='d')\n",
        "YELP= drd.get_data_yahoo('YELP','08/19/2015','08/16/2016',interval='d')\n",
        "VTI= drd.get_data_yahoo('VTI','08/19/2015','08/16/2016',interval='d')"
      ],
      "execution_count": 0,
      "outputs": []
    },
    {
      "cell_type": "code",
      "metadata": {
        "id": "QmD6znG9BCCC",
        "colab_type": "code",
        "colab": {}
      },
      "source": [
        "stock_list=[AAPL,TSLA,GILD,MELI,MSFT,DIS,NVDA,TCO,MMM,INCY,IBM,EPC,SPY,YELP,VTI]\n",
        "index_list=['AAPL','TSLA','GILD','MELI','MSFT','DIS','NVDA','TCO','MMM','INCY','IBM','EPC','SPY','YELP','VTI']\n",
        "\n",
        "from datetime import date\n",
        "total_num=len(tradingdays2)\n",
        "date_list2=[]\n",
        "for i in range(total_num-1):\n",
        "  if tradingdays2[i].day > tradingdays2[i+1].day:\n",
        "    date_list2.append(tradingdays2[i])\n",
        "\n",
        "def new_portfolio():\n",
        "    res = pd.DataFrame(columns=['Share', 'Adj Close'],index=pd.Series(index_list))\n",
        "    return res\n",
        "\n",
        "my_port = new_portfolio()\n",
        "update_list=[]\n",
        "\n",
        "for j in range(len(date_list2)):\n",
        "  b=date_list2[j]\n",
        "  my_port=new_portfolio()\n",
        "  for i in range(len(index_list)):\n",
        "    a=index_list[i]\n",
        "    my_port.loc[a,'Adj Close']=stock_list[i].loc[b,'Adj Close']\n",
        "  update_list.append(my_port)\n",
        "\n",
        "for i in range(len(index_list)):\n",
        "    a=index_list[i]\n",
        "    update_list[0].loc[a,'Share']=(400000/15)/update_list[0].loc[a,'Adj Close']\n",
        "\n",
        "def total_value(portfolio1,portfolio2):\n",
        "  res=0\n",
        "  for i in range(len(index_list)):\n",
        "    a=index_list[i]\n",
        "    res+=portfolio1.loc[a,'Share']*portfolio2.loc[a,'Adj Close']\n",
        "  return res\n",
        "\n",
        "for i in range(len(update_list)-1):\n",
        "  to_value=total_value(update_list[i],update_list[i+1])\n",
        "  for j in range(len(index_list)):\n",
        "    a=index_list[j]\n",
        "    update_list[i+1].loc[a,'Share']=(to_value/15)/update_list[i+1].loc[a,'Adj Close']"
      ],
      "execution_count": 0,
      "outputs": []
    },
    {
      "cell_type": "code",
      "metadata": {
        "id": "itOnddHgBCAF",
        "colab_type": "code",
        "colab": {}
      },
      "source": [
        "week_stock2=[] #所有Wednesday的portfolio\n",
        "\n",
        "for j in range(len(weektime2)):\n",
        "  b=weektime2[j]\n",
        "  my_port=new_portfolio()\n",
        "  for i in range(len(index_list)):\n",
        "    a=index_list[i]\n",
        "    my_port.loc[a]['Adj Close']=stock_list[i].loc[b]['Adj Close']\n",
        "  week_stock2.append(my_port)\n",
        "week_stock2\n",
        "\n",
        "m=0\n",
        "for i in range(len(week_stock2)):\n",
        "  if weektime2[i].month <= date_list2[m].month:\n",
        "    for j in range(len(index_list)):\n",
        "      a=index_list[j]\n",
        "      week_stock2[i].loc[a]['Share']=update_list[m+1].loc[a]['Share']\n",
        "  else:\n",
        "    m+=1\n",
        "    for j in range(len(index_list)):\n",
        "      a=index_list[j]\n",
        "      week_stock2[i].loc[a]['Share']=update_list[m+1].loc[a]['Share']"
      ],
      "execution_count": 0,
      "outputs": []
    },
    {
      "cell_type": "code",
      "metadata": {
        "id": "llqKpRMPBB6o",
        "colab_type": "code",
        "outputId": "90500bf4-5f9a-45e4-ccd7-e17e811a4a85",
        "colab": {
          "base_uri": "https://localhost:8080/",
          "height": 34
        }
      },
      "source": [
        "len(week_stock2)"
      ],
      "execution_count": 578,
      "outputs": [
        {
          "output_type": "execute_result",
          "data": {
            "text/plain": [
              "52"
            ]
          },
          "metadata": {
            "tags": []
          },
          "execution_count": 578
        }
      ]
    },
    {
      "cell_type": "code",
      "metadata": {
        "id": "c60WfoD8BB4c",
        "colab_type": "code",
        "outputId": "1e6a4cce-e12a-49dc-b09b-6668a0d57477",
        "colab": {
          "base_uri": "https://localhost:8080/",
          "height": 34
        }
      },
      "source": [
        "stock_value=[]\n",
        "for j in range(len(week_stock2)):\n",
        "  v=0\n",
        "  for i in range(len(index_list)):\n",
        "    a=index_list[i]\n",
        "    v+=week_stock2[j].loc[a,'Adj Close']*week_stock2[j].loc[a,'Share']\n",
        "  stock_value.append(v)\n",
        "\n",
        "len(stock_value)"
      ],
      "execution_count": 579,
      "outputs": [
        {
          "output_type": "execute_result",
          "data": {
            "text/plain": [
              "52"
            ]
          },
          "metadata": {
            "tags": []
          },
          "execution_count": 579
        }
      ]
    },
    {
      "cell_type": "code",
      "metadata": {
        "id": "XhLjTK86BB1q",
        "colab_type": "code",
        "colab": {}
      },
      "source": [
        "stock_loss=[]\n",
        "for i in range(51):\n",
        "  a=stock_value[i+1]-stock_value[i]\n",
        "  stock_loss.append(-a)"
      ],
      "execution_count": 0,
      "outputs": []
    },
    {
      "cell_type": "code",
      "metadata": {
        "id": "1dpoiat2BBxl",
        "colab_type": "code",
        "outputId": "2e0e7d9c-5a15-4881-996b-be7ec518cffb",
        "colab": {
          "base_uri": "https://localhost:8080/",
          "height": 884
        }
      },
      "source": [
        "stock_loss"
      ],
      "execution_count": 581,
      "outputs": [
        {
          "output_type": "execute_result",
          "data": {
            "text/plain": [
              "[26909.739074867044,\n",
              " -12112.154403672263,\n",
              " 3140.3714221300907,\n",
              " -15082.182201119955,\n",
              " 18446.807068374357,\n",
              " 5776.264999270323,\n",
              " -14164.339551328681,\n",
              " 3895.9510562858777,\n",
              " -4655.967937213136,\n",
              " -17234.50387136842,\n",
              " -6984.513322661107,\n",
              " 4378.605329992541,\n",
              " -6948.778489029908,\n",
              " -6885.379041238222,\n",
              " -4199.803271856916,\n",
              " 9494.310443336086,\n",
              " -4666.984390139987,\n",
              " 6222.841121778183,\n",
              " -1559.1737050380907,\n",
              " 20269.95538096543,\n",
              " 31925.696244513034,\n",
              " 12868.673080077278,\n",
              " -2156.978880024748,\n",
              " 183.3207466721069,\n",
              " 20659.66789231263,\n",
              " -21176.355889559316,\n",
              " -8550.648674973869,\n",
              " -12350.640295460063,\n",
              " -800.2868333293591,\n",
              " -6961.988439881476,\n",
              " -1125.851406067086,\n",
              " -9379.259067853971,\n",
              " -12266.650834345783,\n",
              " -2214.3853237766307,\n",
              " -1061.8406917097163,\n",
              " 5336.929371458245,\n",
              " 16019.994351083296,\n",
              " -6559.401756082661,\n",
              " -6244.994457445748,\n",
              " -12905.327954094508,\n",
              " -3902.894025369431,\n",
              " -4887.0384089203435,\n",
              " 9899.906193107949,\n",
              " -1712.483755259891,\n",
              " -1185.3545238093939,\n",
              " -8916.495358468615,\n",
              " -14258.27338664612,\n",
              " -7365.252851403609,\n",
              " -1254.274493358098,\n",
              " -1779.672032841714,\n",
              " -12983.489630667144]"
            ]
          },
          "metadata": {
            "tags": []
          },
          "execution_count": 581
        }
      ]
    },
    {
      "cell_type": "code",
      "metadata": {
        "id": "kyVs3Je6BBvl",
        "colab_type": "code",
        "outputId": "e0348023-3d9e-44a8-b143-4f237fb8fb6c",
        "colab": {
          "base_uri": "https://localhost:8080/",
          "height": 901
        }
      },
      "source": [
        "bond30= drd.get_data_yahoo('^TYX','08/19/2015','08/16/2016',interval='d')\n",
        "\n",
        "for i in range(len(tradingdays2)):\n",
        "  a=tradingdays2[i]\n",
        "  b=bond30.loc[a,'Adj Close']\n",
        "  bond30.loc[a,'Adj Close']=b*0.01\n",
        "\n",
        "week_bond=[]\n",
        "for i in range(len(weektime2)):\n",
        "  a=weektime2[i]\n",
        "  b=bond30.loc[a,'Adj Close']\n",
        "  week_bond.append(b)\n",
        "\n",
        "a=27\n",
        "maturity_list=[a,]\n",
        "for i in range(len(weektime2)-1):\n",
        "  a=a-7/365\n",
        "  maturity_list.append(a)\n",
        "\n",
        "bond_price=[]\n",
        "for i in range(len(weektime2)):\n",
        "  a=np.exp(-maturity_list[i]*week_bond[i])\n",
        "  bond_price.append(a)\n",
        "\n",
        "bond_price"
      ],
      "execution_count": 582,
      "outputs": [
        {
          "output_type": "execute_result",
          "data": {
            "text/plain": [
              "[0.467138261694878,\n",
              " 0.45335596039451437,\n",
              " 0.449592925068236,\n",
              " 0.45252295484362187,\n",
              " 0.4349744188567167,\n",
              " 0.4532779076604843,\n",
              " 0.461032814143225,\n",
              " 0.460544579241648,\n",
              " 0.46665069838059847,\n",
              " 0.4629137213864548,\n",
              " 0.4641630941189301,\n",
              " 0.44840255974995963,\n",
              " 0.4349419471428687,\n",
              " 0.4433089716215753,\n",
              " 0.4490555859113769,\n",
              " 0.46000063246171063,\n",
              " 0.45391271447217957,\n",
              " 0.4488711502756196,\n",
              " 0.4497287234321302,\n",
              " 0.4447444342769566,\n",
              " 0.45725077220897054,\n",
              " 0.46884175080868146,\n",
              " 0.4805818518117307,\n",
              " 0.47664017897408745,\n",
              " 0.4877757200702216,\n",
              " 0.5113481195453142,\n",
              " 0.4907468702484341,\n",
              " 0.502709661256532,\n",
              " 0.4904733638400521,\n",
              " 0.491895918422821,\n",
              " 0.48530455034246484,\n",
              " 0.4968430328478386,\n",
              " 0.49604727489603867,\n",
              " 0.5060788560017484,\n",
              " 0.5071306976524947,\n",
              " 0.49641389819032633,\n",
              " 0.4917264562757338,\n",
              " 0.49940905879222786,\n",
              " 0.5074671813811522,\n",
              " 0.4943037092305132,\n",
              " 0.49637785977225896,\n",
              " 0.502261746646881,\n",
              " 0.5177471390968476,\n",
              " 0.5303444523683104,\n",
              " 0.520692162158078,\n",
              " 0.5510535540917587,\n",
              " 0.5700363091468917,\n",
              " 0.5665628897972711,\n",
              " 0.5493360038631452,\n",
              " 0.5595497230193854,\n",
              " 0.5503932125454504,\n",
              " 0.5601738432275999]"
            ]
          },
          "metadata": {
            "tags": []
          },
          "execution_count": 582
        }
      ]
    },
    {
      "cell_type": "code",
      "metadata": {
        "id": "9ctLPG4hBBrx",
        "colab_type": "code",
        "outputId": "2e977807-1e7e-44f2-e059-5b749dc15d1a",
        "colab": {
          "base_uri": "https://localhost:8080/",
          "height": 884
        }
      },
      "source": [
        "bond_price=[]\n",
        "for i in range(len(weektime2)):\n",
        "  a=np.exp(-maturity_list[i]*week_bond[i])\n",
        "  bond_price.append(a)\n",
        "\n",
        "bondshare=600000/bond_price[0]\n",
        "bond_loss=[]\n",
        "for i in range(len(weektime2)-1):\n",
        "  a=bondshare*(bond_price[i+1]-bond_price[i])\n",
        "  bond_loss.append(-a)\n",
        "bond_loss"
      ],
      "execution_count": 583,
      "outputs": [
        {
          "output_type": "execute_result",
          "data": {
            "text/plain": [
              "[17702.21251030708,\n",
              " 4833.30392928029,\n",
              " -3763.378017576753,\n",
              " 22539.625750074872,\n",
              " -23509.299457542096,\n",
              " -9960.528330012043,\n",
              " 627.0968682448623,\n",
              " -7842.798982206473,\n",
              " 4799.834182605942,\n",
              " -1604.7147085862084,\n",
              " 20243.087318672446,\n",
              " 17289.03030754054,\n",
              " -10746.742664601114,\n",
              " -7381.045092240989,\n",
              " -14057.996247992305,\n",
              " 7819.421129122832,\n",
              " 6475.4672566551635,\n",
              " -1101.4809449337486,\n",
              " 6401.9022596302275,\n",
              " -16063.344355444056,\n",
              " -14887.64190412024,\n",
              " -15079.177150405476,\n",
              " 5062.748861558037,\n",
              " -14302.670548627711,\n",
              " -30276.7742332648,\n",
              " 26460.580499830216,\n",
              " -15365.20382384568,\n",
              " 15716.499914287542,\n",
              " -1827.15230082962,\n",
              " 8466.060634521247,\n",
              " -14820.215064605925,\n",
              " 1022.0844881077528,\n",
              " -12884.726336883215,\n",
              " -1351.0025664736208,\n",
              " 13764.831966389003,\n",
              " 6020.626823740125,\n",
              " -9867.659936850285,\n",
              " -10349.9840407263,\n",
              " 16907.378260405094,\n",
              " -2664.0727747972846,\n",
              " -7557.360238410767,\n",
              " -19889.690551720952,\n",
              " -16180.194564783144,\n",
              " 12397.558926402404,\n",
              " -38996.66684144825,\n",
              " -24381.760106217178,\n",
              " 4461.316446678975,\n",
              " 22126.49317778818,\n",
              " -13118.667418741534,\n",
              " 11760.7713494244,\n",
              " -12562.40152112133]"
            ]
          },
          "metadata": {
            "tags": []
          },
          "execution_count": 583
        }
      ]
    },
    {
      "cell_type": "code",
      "metadata": {
        "id": "HQFruOI5BBpY",
        "colab_type": "code",
        "colab": {}
      },
      "source": [
        "libor2015=[0.00133,0.00133,0.00133,0.00135,0.00137,0.00136,0.00116,0.00132,0.00132,0.00132,0.00132,0.00131,0.00131,0.00131,0.001305,0.001305,0.001295,0.001518,0.003673,0.003661,0.003661,0.003663,0.003655,0.003659,0.003686,0.003731,0.003700,0.003715,0.003715,0.003720,0.003743,0.003753,0.003772,0.003782,0.003802,0.003822,0.003802,0.003858,0.003850,0.003850,0.003861,0.003855,0.003876,0.003850,0.003896,0.004051,0.004112,0.004127,0.004174,0.004164,0.004174,0.004197]"
      ],
      "execution_count": 0,
      "outputs": []
    },
    {
      "cell_type": "code",
      "metadata": {
        "id": "Hpyc37wOBBnf",
        "colab_type": "code",
        "colab": {}
      },
      "source": [
        "def vol_finder(sigma,weektime):\n",
        "  len(sigma)\n",
        "  tradingdays3=sigma.index\n",
        "  vol=[]\n",
        "  for i in range(len(weektime)):\n",
        "    a=list(tradingdays3).index(weektime[i])\n",
        "    b=np.log(np.array(sigma[:a]['Adj Close'])).std()\n",
        "    vol.append(b)\n",
        "  return vol\n",
        "  \n",
        "def option_finder(stock,libor,vol,k,maturity,weektime,otype):\n",
        "  option=[]\n",
        "  for i in range(len(weektime)):\n",
        "    a=weektime[i]\n",
        "    d1 = (np.log(stock.loc[a,'Adj Close'] / k) + (libor[i] + 0.5 * vol[i] ** 2) * maturity[i]) / (vol[i] * np.sqrt(maturity[i]))\n",
        "    d2 = d1 - vol[i] * np.sqrt(maturity[i])\n",
        "    price=(otype * stock.loc[a,'Adj Close'] * ss.norm.cdf(otype * d1) - otype * np.exp(-libor[i] * maturity[i]) * k * ss.norm.cdf(otype * d2))\n",
        "    option.append(price)\n",
        "  return option"
      ],
      "execution_count": 0,
      "outputs": []
    },
    {
      "cell_type": "code",
      "metadata": {
        "id": "udFJUHtwBBkI",
        "colab_type": "code",
        "colab": {}
      },
      "source": [
        "mmm_sigma=drd.get_data_yahoo('MMM','01/15/2014','08/16/2016',interval='d')\n",
        "mmm_vol=vol_finder(mmm_sigma,weektime2)\n",
        "spx_sigma=drd.get_data_yahoo('SPY','01/15/2014','08/16/2016',interval='d')\n",
        "spx_vol=vol_finder(spx_sigma,weektime2)\n",
        "meli_sigma=drd.get_data_yahoo('MELI','01/15/2014','08/16/2016',interval='d')\n",
        "meli_vol=vol_finder(meli_sigma,weektime2)"
      ],
      "execution_count": 0,
      "outputs": []
    },
    {
      "cell_type": "code",
      "metadata": {
        "id": "d9pf3Vw4BBha",
        "colab_type": "code",
        "outputId": "91c99b5d-9626-434a-cac8-75ceda0366e4",
        "colab": {
          "base_uri": "https://localhost:8080/",
          "height": 450
        }
      },
      "source": [
        "for i in range(len(tradingdays2)):\n",
        "  a=tradingdays2[i]\n",
        "  b=SPY.loc[a,'Adj Close']\n",
        "  SPY.loc[a,'Adj Close']=b*10\n",
        "SPY"
      ],
      "execution_count": 587,
      "outputs": [
        {
          "output_type": "execute_result",
          "data": {
            "text/html": [
              "<div>\n",
              "<style scoped>\n",
              "    .dataframe tbody tr th:only-of-type {\n",
              "        vertical-align: middle;\n",
              "    }\n",
              "\n",
              "    .dataframe tbody tr th {\n",
              "        vertical-align: top;\n",
              "    }\n",
              "\n",
              "    .dataframe thead th {\n",
              "        text-align: right;\n",
              "    }\n",
              "</style>\n",
              "<table border=\"1\" class=\"dataframe\">\n",
              "  <thead>\n",
              "    <tr style=\"text-align: right;\">\n",
              "      <th></th>\n",
              "      <th>High</th>\n",
              "      <th>Low</th>\n",
              "      <th>Open</th>\n",
              "      <th>Close</th>\n",
              "      <th>Volume</th>\n",
              "      <th>Adj Close</th>\n",
              "    </tr>\n",
              "    <tr>\n",
              "      <th>Date</th>\n",
              "      <th></th>\n",
              "      <th></th>\n",
              "      <th></th>\n",
              "      <th></th>\n",
              "      <th></th>\n",
              "      <th></th>\n",
              "    </tr>\n",
              "  </thead>\n",
              "  <tbody>\n",
              "    <tr>\n",
              "      <th>2015-08-19</th>\n",
              "      <td>210.009995</td>\n",
              "      <td>207.350006</td>\n",
              "      <td>209.089996</td>\n",
              "      <td>208.320007</td>\n",
              "      <td>172946000.0</td>\n",
              "      <td>1894.293671</td>\n",
              "    </tr>\n",
              "    <tr>\n",
              "      <th>2015-08-20</th>\n",
              "      <td>208.289993</td>\n",
              "      <td>203.899994</td>\n",
              "      <td>206.509995</td>\n",
              "      <td>203.970001</td>\n",
              "      <td>194327900.0</td>\n",
              "      <td>1854.738617</td>\n",
              "    </tr>\n",
              "    <tr>\n",
              "      <th>2015-08-21</th>\n",
              "      <td>203.940002</td>\n",
              "      <td>197.520004</td>\n",
              "      <td>201.729996</td>\n",
              "      <td>197.830002</td>\n",
              "      <td>346588500.0</td>\n",
              "      <td>1798.905792</td>\n",
              "    </tr>\n",
              "    <tr>\n",
              "      <th>2015-08-24</th>\n",
              "      <td>197.479996</td>\n",
              "      <td>182.399994</td>\n",
              "      <td>187.490005</td>\n",
              "      <td>189.500000</td>\n",
              "      <td>507244300.0</td>\n",
              "      <td>1723.159637</td>\n",
              "    </tr>\n",
              "    <tr>\n",
              "      <th>2015-08-25</th>\n",
              "      <td>195.449997</td>\n",
              "      <td>186.919998</td>\n",
              "      <td>195.429993</td>\n",
              "      <td>187.270004</td>\n",
              "      <td>369833100.0</td>\n",
              "      <td>1702.882385</td>\n",
              "    </tr>\n",
              "    <tr>\n",
              "      <th>...</th>\n",
              "      <td>...</td>\n",
              "      <td>...</td>\n",
              "      <td>...</td>\n",
              "      <td>...</td>\n",
              "      <td>...</td>\n",
              "      <td>...</td>\n",
              "    </tr>\n",
              "    <tr>\n",
              "      <th>2016-08-10</th>\n",
              "      <td>218.399994</td>\n",
              "      <td>217.229996</td>\n",
              "      <td>218.309998</td>\n",
              "      <td>217.639999</td>\n",
              "      <td>57941100.0</td>\n",
              "      <td>2021.952362</td>\n",
              "    </tr>\n",
              "    <tr>\n",
              "      <th>2016-08-11</th>\n",
              "      <td>218.940002</td>\n",
              "      <td>217.949997</td>\n",
              "      <td>218.259995</td>\n",
              "      <td>218.649994</td>\n",
              "      <td>72504300.0</td>\n",
              "      <td>2031.335602</td>\n",
              "    </tr>\n",
              "    <tr>\n",
              "      <th>2016-08-12</th>\n",
              "      <td>218.710007</td>\n",
              "      <td>217.990005</td>\n",
              "      <td>218.289993</td>\n",
              "      <td>218.460007</td>\n",
              "      <td>61313500.0</td>\n",
              "      <td>2029.570312</td>\n",
              "    </tr>\n",
              "    <tr>\n",
              "      <th>2016-08-15</th>\n",
              "      <td>219.500000</td>\n",
              "      <td>218.880005</td>\n",
              "      <td>218.889999</td>\n",
              "      <td>219.089996</td>\n",
              "      <td>49813500.0</td>\n",
              "      <td>2035.423279</td>\n",
              "    </tr>\n",
              "    <tr>\n",
              "      <th>2016-08-16</th>\n",
              "      <td>218.679993</td>\n",
              "      <td>217.960007</td>\n",
              "      <td>218.600006</td>\n",
              "      <td>217.960007</td>\n",
              "      <td>53213600.0</td>\n",
              "      <td>2024.925385</td>\n",
              "    </tr>\n",
              "  </tbody>\n",
              "</table>\n",
              "<p>251 rows × 6 columns</p>\n",
              "</div>"
            ],
            "text/plain": [
              "                  High         Low  ...       Volume    Adj Close\n",
              "Date                                ...                          \n",
              "2015-08-19  210.009995  207.350006  ...  172946000.0  1894.293671\n",
              "2015-08-20  208.289993  203.899994  ...  194327900.0  1854.738617\n",
              "2015-08-21  203.940002  197.520004  ...  346588500.0  1798.905792\n",
              "2015-08-24  197.479996  182.399994  ...  507244300.0  1723.159637\n",
              "2015-08-25  195.449997  186.919998  ...  369833100.0  1702.882385\n",
              "...                ...         ...  ...          ...          ...\n",
              "2016-08-10  218.399994  217.229996  ...   57941100.0  2021.952362\n",
              "2016-08-11  218.940002  217.949997  ...   72504300.0  2031.335602\n",
              "2016-08-12  218.710007  217.990005  ...   61313500.0  2029.570312\n",
              "2016-08-15  219.500000  218.880005  ...   49813500.0  2035.423279\n",
              "2016-08-16  218.679993  217.960007  ...   53213600.0  2024.925385\n",
              "\n",
              "[251 rows x 6 columns]"
            ]
          },
          "metadata": {
            "tags": []
          },
          "execution_count": 587
        }
      ]
    },
    {
      "cell_type": "code",
      "metadata": {
        "id": "mZ8GEUBgBBfa",
        "colab_type": "code",
        "colab": {}
      },
      "source": [
        "a=12+30+31+30+31+31+29+31+30+31+30+31+31+1\n",
        "#2015.08.19---2016.09.01\n",
        "maturity=[a/365,]\n",
        "for i in range(len(weektime2)-1):\n",
        "  a=a-7\n",
        "  maturity.append(a/365)"
      ],
      "execution_count": 0,
      "outputs": []
    },
    {
      "cell_type": "code",
      "metadata": {
        "id": "v50QWHMZUt6a",
        "colab_type": "code",
        "colab": {
          "base_uri": "https://localhost:8080/",
          "height": 34
        },
        "outputId": "d13e5e80-70bf-4d6e-a394-c51adb3399b7"
      },
      "source": [
        "#2015.08.19 MMM:128.79  SPX:1894.3   MELI:112.92\n",
        "MMM_strike1=(130/159.76)*128.79\n",
        "SPX_strike1=(2885/3350)*1894.3\n",
        "MELI_strike1=(640/718.53)*112.92\n",
        "print(MMM_strike1,SPX_strike1,MELI_strike1)"
      ],
      "execution_count": 589,
      "outputs": [
        {
          "output_type": "stream",
          "text": [
            "104.79907361041563 1631.3598507462684 100.57868147467747\n"
          ],
          "name": "stdout"
        }
      ]
    },
    {
      "cell_type": "code",
      "metadata": {
        "id": "vJSe0GviBBb6",
        "colab_type": "code",
        "outputId": "63f35673-26ed-4d04-dba6-fb940f12d84a",
        "colab": {
          "base_uri": "https://localhost:8080/",
          "height": 901
        }
      },
      "source": [
        "import scipy.stats as ss\n",
        "mmm_option=option_finder(MMM,libor2015,mmm_vol,104.8,maturity,weektime2,1)\n",
        "spx_option=option_finder(SPY,libor2015,spx_vol,1631.36,maturity,weektime2,-1)\n",
        "meli_option=option_finder(MELI,libor2015,meli_vol,100.579,maturity,weektime2,1)\n",
        "mmm_option"
      ],
      "execution_count": 590,
      "outputs": [
        {
          "output_type": "execute_result",
          "data": {
            "text/plain": [
              "[24.171664520899284,\n",
              " 21.417311923273573,\n",
              " 20.12433431123675,\n",
              " 19.78771002214343,\n",
              " 22.68801289869117,\n",
              " 17.013745977102616,\n",
              " 20.532221929641537,\n",
              " 25.5991942831308,\n",
              " 26.282018462509697,\n",
              " 27.600529141581617,\n",
              " 34.887146617975304,\n",
              " 35.616345931858916,\n",
              " 35.73729488237895,\n",
              " 35.182081968055854,\n",
              " 35.39230740067035,\n",
              " 33.674543140288236,\n",
              " 33.98212003047597,\n",
              " 28.575649690568568,\n",
              " 29.803799602149923,\n",
              " 30.46203893540762,\n",
              " 23.862616686764042,\n",
              " 18.739884516202167,\n",
              " 17.17604147483189,\n",
              " 24.780939869056766,\n",
              " 30.968809840702875,\n",
              " 31.88065930835333,\n",
              " 35.60414431647962,\n",
              " 36.13461762206312,\n",
              " 38.08744628697235,\n",
              " 38.68894907758704,\n",
              " 41.1889472839824,\n",
              " 42.41719201648617,\n",
              " 44.63044569706271,\n",
              " 44.67699632477574,\n",
              " 46.263552910598705,\n",
              " 46.56995370193543,\n",
              " 45.50534078994549,\n",
              " 44.96257255654507,\n",
              " 47.29082673204246,\n",
              " 45.636796422105775,\n",
              " 48.48580921516425,\n",
              " 47.3064966538486,\n",
              " 49.75921360329268,\n",
              " 46.48891593490305,\n",
              " 49.572834580002365,\n",
              " 49.82920861175202,\n",
              " 53.102022816386224,\n",
              " 56.74339252284547,\n",
              " 58.72709147239185,\n",
              " 55.8801628294632,\n",
              " 55.970985935410965,\n",
              " 56.35925935349775]"
            ]
          },
          "metadata": {
            "tags": []
          },
          "execution_count": 590
        }
      ]
    },
    {
      "cell_type": "code",
      "metadata": {
        "id": "gbRgZ3lxBBZi",
        "colab_type": "code",
        "outputId": "9bab4cc3-f3ef-4258-d041-20ef8284a4fc",
        "colab": {
          "base_uri": "https://localhost:8080/",
          "height": 34
        }
      },
      "source": [
        "a=weektime2[0]\n",
        "share_mmm=400000/(15*MMM.loc[a,'Adj Close'])\n",
        "share_mmm"
      ],
      "execution_count": 591,
      "outputs": [
        {
          "output_type": "execute_result",
          "data": {
            "text/plain": [
              "207.0560372887905"
            ]
          },
          "metadata": {
            "tags": []
          },
          "execution_count": 591
        }
      ]
    },
    {
      "cell_type": "code",
      "metadata": {
        "id": "7oK66kWbBBXu",
        "colab_type": "code",
        "outputId": "fb0c6251-119a-4a0d-f0a1-fa726bbdf78c",
        "colab": {
          "base_uri": "https://localhost:8080/",
          "height": 884
        }
      },
      "source": [
        "mmm_loss=[]\n",
        "for i in range(len(mmm_option)-1):\n",
        "  loss=200*(mmm_option[i+1]-mmm_option[i])\n",
        "  mmm_loss.append(loss)\n",
        "mmm_loss"
      ],
      "execution_count": 592,
      "outputs": [
        {
          "output_type": "execute_result",
          "data": {
            "text/plain": [
              "[-550.8705195251423,\n",
              " -258.59552240736434,\n",
              " -67.32485781866444,\n",
              " 580.0605753095482,\n",
              " -1134.8533843177108,\n",
              " 703.6951905077842,\n",
              " 1013.3944706978525,\n",
              " 136.56483587577952,\n",
              " 263.70213581438406,\n",
              " 1457.3234952787375,\n",
              " 145.83986277672238,\n",
              " 24.189790104006192,\n",
              " -111.04258286461857,\n",
              " 42.0450865228986,\n",
              " -343.55285207642225,\n",
              " 61.5153780375465,\n",
              " -1081.29406798148,\n",
              " 245.6299823162709,\n",
              " 131.6478666515394,\n",
              " -1319.8844497287155,\n",
              " -1024.546434112375,\n",
              " -312.7686082740553,\n",
              " 1520.979678844975,\n",
              " 1237.5739943292217,\n",
              " 182.36989353009108,\n",
              " 744.6970016252578,\n",
              " 106.09466111669974,\n",
              " 390.56573298184674,\n",
              " 120.30055812293767,\n",
              " 499.9996412790722,\n",
              " 245.6489465007536,\n",
              " 442.6507361153085,\n",
              " 9.310125542606329,\n",
              " 317.3113171645923,\n",
              " 61.28015826734554,\n",
              " -212.92258239798798,\n",
              " -108.55364668008463,\n",
              " 465.6508350994784,\n",
              " -330.80606198733733,\n",
              " 569.8025586116955,\n",
              " -235.86251226313095,\n",
              " 490.54338988881625,\n",
              " -654.0595336779262,\n",
              " 616.7837290198634,\n",
              " 51.27480634993162,\n",
              " 654.5628409268403,\n",
              " 728.2739412918488,\n",
              " 396.73978990927594,\n",
              " -569.3857285857291,\n",
              " 18.164621189552577,\n",
              " 77.65468361735657]"
            ]
          },
          "metadata": {
            "tags": []
          },
          "execution_count": 592
        }
      ]
    },
    {
      "cell_type": "code",
      "metadata": {
        "id": "tzGIKXaYBBUM",
        "colab_type": "code",
        "outputId": "6bc4b2fe-1165-4646-d10a-9cb67ae4c289",
        "colab": {
          "base_uri": "https://localhost:8080/",
          "height": 34
        }
      },
      "source": [
        "a=weektime2[0]\n",
        "share_spx=400000/(15*SPY.loc[a,'Adj Close'])\n",
        "share_spx"
      ],
      "execution_count": 593,
      "outputs": [
        {
          "output_type": "execute_result",
          "data": {
            "text/plain": [
              "14.077366714452406"
            ]
          },
          "metadata": {
            "tags": []
          },
          "execution_count": 593
        }
      ]
    },
    {
      "cell_type": "code",
      "metadata": {
        "id": "4c3_zh4BBBSV",
        "colab_type": "code",
        "outputId": "a3d5fb4f-321d-4bf5-c9ae-6b859a626782",
        "colab": {
          "base_uri": "https://localhost:8080/",
          "height": 884
        }
      },
      "source": [
        "spx_loss=[]\n",
        "for i in range(len(spx_option)-1):\n",
        "  loss=100*(spx_option[i+1]-spx_option[i])\n",
        "  spx_loss.append(-loss)\n",
        "spx_loss"
      ],
      "execution_count": 594,
      "outputs": [
        {
          "output_type": "execute_result",
          "data": {
            "text/plain": [
              "[-340.8338035542723,\n",
              " 79.50845288701345,\n",
              " -17.922262395778432,\n",
              " 213.179248682912,\n",
              " -185.32463026080777,\n",
              " -115.92216083805482,\n",
              " 326.81945593797224,\n",
              " 3.9591782656643204,\n",
              " 30.049269887581076,\n",
              " 21.66331576700127,\n",
              " 1.035064955755205,\n",
              " -1.5477238146919703,\n",
              " 1.1272583995976637,\n",
              " 0.4992637297180802,\n",
              " -0.19113744323863147,\n",
              " -2.3827094018782136,\n",
              " 2.6302355291542234,\n",
              " 0.0335835374927429,\n",
              " 0.15531426641056667,\n",
              " -10.77777285093987,\n",
              " -221.44791951897264,\n",
              " -261.40552735702016,\n",
              " 250.71787922016568,\n",
              " 157.62285898144697,\n",
              " -370.1464004299446,\n",
              " 416.1905211205525,\n",
              " 9.64045505557145,\n",
              " 28.406347657246656,\n",
              " 0.7937256766155532,\n",
              " 1.237040166125336,\n",
              " 0.07188352097584824,\n",
              " 0.04274104895574697,\n",
              " 0.002730506621897782,\n",
              " 0.0018723734448218067,\n",
              " 0.0003417142260437491,\n",
              " 3.5715708481231763e-06,\n",
              " -0.0005540477718839927,\n",
              " 0.0005162875552520556,\n",
              " -4.6493034327251426e-05,\n",
              " 0.00011692159095715816,\n",
              " 4.2511407170708105e-07,\n",
              " 3.582098034723862e-08,\n",
              " -2.8661936068066153e-08,\n",
              " 2.8691148892428533e-08,\n",
              " 1.9906533564881092e-10,\n",
              " 2.5450131884528894e-10,\n",
              " 4.899302313234852e-14,\n",
              " 5.5291108366128086e-21,\n",
              " 1.372567427990352e-26,\n",
              " 1.7895968715535473e-30,\n",
              " 1.0143223233628968e-36]"
            ]
          },
          "metadata": {
            "tags": []
          },
          "execution_count": 594
        }
      ]
    },
    {
      "cell_type": "code",
      "metadata": {
        "id": "1MvLHbW7BBO2",
        "colab_type": "code",
        "outputId": "68abdcbd-743b-4f83-ccb8-a09bdbfa2162",
        "colab": {
          "base_uri": "https://localhost:8080/",
          "height": 34
        }
      },
      "source": [
        "a=weektime2[0]\n",
        "share_meli=400000/(15*MELI.loc[a,'Adj Close'])\n",
        "share_meli"
      ],
      "execution_count": 595,
      "outputs": [
        {
          "output_type": "execute_result",
          "data": {
            "text/plain": [
              "236.16290947111744"
            ]
          },
          "metadata": {
            "tags": []
          },
          "execution_count": 595
        }
      ]
    },
    {
      "cell_type": "code",
      "metadata": {
        "id": "VpDvmLz-BBMf",
        "colab_type": "code",
        "outputId": "f61df25c-f1c4-4f63-837c-d3e6754e9d50",
        "colab": {
          "base_uri": "https://localhost:8080/",
          "height": 884
        }
      },
      "source": [
        "meli_loss=[]\n",
        "for i in range(len(meli_option)-1):\n",
        "  loss=300*(meli_option[i+1]-meli_option[i])\n",
        "  meli_loss.append(-loss)\n",
        "meli_loss"
      ],
      "execution_count": 596,
      "outputs": [
        {
          "output_type": "execute_result",
          "data": {
            "text/plain": [
              "[1907.1366418253156,\n",
              " -981.2190666850619,\n",
              " 415.6475132382234,\n",
              " -218.0074371743494,\n",
              " 2620.415886601865,\n",
              " 147.65939642764963,\n",
              " -350.27232218085055,\n",
              " 398.34884261094317,\n",
              " -430.9655178321282,\n",
              " -196.81874716538346,\n",
              " -1589.2927943308584,\n",
              " -2946.0800193980454,\n",
              " -292.75538830631547,\n",
              " -1395.5556723944014,\n",
              " 474.69314212523415,\n",
              " 2079.008441312807,\n",
              " 56.435717355861925,\n",
              " 690.4053919617013,\n",
              " -145.1524008086153,\n",
              " 1633.521114584012,\n",
              " 1258.8251988770303,\n",
              " 605.982711670383,\n",
              " -90.98356492520807,\n",
              " 237.39869777741873,\n",
              " 570.3154200971447,\n",
              " -862.6406738224808,\n",
              " -711.2340792791699,\n",
              " -496.66904495972017,\n",
              " -1143.8210323570204,\n",
              " -600.73251640285,\n",
              " 354.55083970704635,\n",
              " -1419.7920258094186,\n",
              " -485.34071660497347,\n",
              " -1696.1683019128955,\n",
              " -1203.929271619144,\n",
              " 1052.9770391541945,\n",
              " 459.2755833007729,\n",
              " -1579.2208691379344,\n",
              " -831.3849387280427,\n",
              " -450.9368136458832,\n",
              " -689.8020725712015,\n",
              " -194.82931446753753,\n",
              " 960.329968832589,\n",
              " -797.7634581188213,\n",
              " -790.7358615227025,\n",
              " -213.05617783321225,\n",
              " -2862.9822121609977,\n",
              " -924.0007617303007,\n",
              " 292.2587996475073,\n",
              " 38.24136678080805,\n",
              " -5483.238101428763]"
            ]
          },
          "metadata": {
            "tags": []
          },
          "execution_count": 596
        }
      ]
    },
    {
      "cell_type": "code",
      "metadata": {
        "id": "efQJGwp3BBKr",
        "colab_type": "code",
        "outputId": "7f57de9b-4b7e-4af7-a22b-a49d5598b252",
        "colab": {
          "base_uri": "https://localhost:8080/",
          "height": 238
        }
      },
      "source": [
        "stress_loss=np.sum([meli_loss,spx_loss,mmm_loss,bond_loss,stock_loss], axis = 0)\n",
        "stress_loss\n",
        "stress_loss.sort()\n",
        "stress_loss"
      ],
      "execution_count": 598,
      "outputs": [
        {
          "output_type": "execute_result",
          "data": {
            "text/plain": [
              "array([-4.09214824e+04, -3.28567488e+04, -3.09514746e+04, -2.56274050e+04,\n",
              "       -2.45113515e+04, -2.44810149e+04, -1.81268504e+04, -1.80981919e+04,\n",
              "       -1.80229553e+04, -1.75570505e+04, -1.56194355e+04, -1.54505349e+04,\n",
              "       -1.53457948e+04, -1.46500688e+04, -1.25473011e+04, -1.24867543e+04,\n",
              "       -1.23859188e+04, -1.19316652e+04, -9.33427313e+03, -9.23456743e+03,\n",
              "       -8.43915661e+03, -5.97401794e+03, -4.94424300e+03, -3.76225452e+03,\n",
              "       -3.65016588e+03, -3.44883090e+03, -3.40797507e+03, -2.17869549e+03,\n",
              "       -2.92606202e+02,  6.65213326e+00,  7.86254751e+02,  1.40457636e+03,\n",
              "        3.28816265e+03,  4.50946992e+03,  4.58648397e+03,  4.82937933e+03,\n",
              "        5.58247146e+03,  6.05742913e+03,  6.50305580e+03,  8.03267594e+03,\n",
              "        9.50019276e+03,  1.00375053e+04,  1.05040954e+04,  1.15603425e+04,\n",
              "        1.18161561e+04,  1.21976107e+04,  1.42339794e+04,  1.70508852e+04,\n",
              "        1.87441977e+04,  1.94518727e+04,  4.56273839e+04])"
            ]
          },
          "metadata": {
            "tags": []
          },
          "execution_count": 598
        }
      ]
    },
    {
      "cell_type": "markdown",
      "metadata": {
        "id": "EuMHacLsKuvM",
        "colab_type": "text"
      },
      "source": [
        "# **绘制pdf**"
      ]
    },
    {
      "cell_type": "code",
      "metadata": {
        "id": "nkJJg39JHWEw",
        "colab_type": "code",
        "outputId": "b6adc717-c3a6-4d8d-d5b3-423d199e9754",
        "colab": {
          "base_uri": "https://localhost:8080/",
          "height": 394
        }
      },
      "source": [
        "sns.set_style(\"darkgrid\")\n",
        "plt.figure(figsize=(8,4),dpi=100)  \n",
        "sns.distplot(stress_loss,hist=True, kde=True, rug=False,norm_hist = True,\n",
        "kde_kws={'linestyle':'--'}, \n",
        "label='stress loss')"
      ],
      "execution_count": 599,
      "outputs": [
        {
          "output_type": "execute_result",
          "data": {
            "text/plain": [
              "<matplotlib.axes._subplots.AxesSubplot at 0x7f705eff7dd8>"
            ]
          },
          "metadata": {
            "tags": []
          },
          "execution_count": 599
        },
        {
          "output_type": "display_data",
          "data": {
            "image/png": "[encoded data removed]",
            "text/plain": [
              "<Figure size 800x400 with 1 Axes>"
            ]
          },
          "metadata": {
            "tags": []
          }
        }
      ]
    },
    {
      "cell_type": "markdown",
      "metadata": {
        "id": "FUyASX8fKnFp",
        "colab_type": "text"
      },
      "source": [
        "# **设定10bins来绘制histogram**"
      ]
    },
    {
      "cell_type": "code",
      "metadata": {
        "id": "ecbR-x9EJg9q",
        "colab_type": "code",
        "outputId": "e2d573ba-2f30-4268-8b70-c3c37361230f",
        "colab": {
          "base_uri": "https://localhost:8080/",
          "height": 379
        }
      },
      "source": [
        "sns.set_style(\"darkgrid\")\n",
        "plt.figure(figsize=(8,4),dpi=100)  \n",
        "sns.distplot(stress_loss, bins=10,hist=True, kde=False, rug=False,norm_hist = False,\n",
        "kde_kws={'linestyle':'--'}, \n",
        "label='stress loss')"
      ],
      "execution_count": 600,
      "outputs": [
        {
          "output_type": "execute_result",
          "data": {
            "text/plain": [
              "<matplotlib.axes._subplots.AxesSubplot at 0x7f705eff72e8>"
            ]
          },
          "metadata": {
            "tags": []
          },
          "execution_count": 600
        },
        {
          "output_type": "display_data",
          "data": {
            "image/png": "[encoded data removed]",
            "text/plain": [
              "<Figure size 800x400 with 1 Axes>"
            ]
          },
          "metadata": {
            "tags": []
          }
        }
      ]
    },
    {
      "cell_type": "markdown",
      "metadata": {
        "id": "dbn2BZYeVM4q",
        "colab_type": "text"
      },
      "source": [
        "# **绘制empirical loss distribution**"
      ]
    },
    {
      "cell_type": "code",
      "metadata": {
        "id": "-hPOPHTzPl2H",
        "colab_type": "code",
        "outputId": "ca567833-f68a-4ced-dd14-d26dab0c2181",
        "colab": {
          "base_uri": "https://localhost:8080/",
          "height": 379
        }
      },
      "source": [
        "plt.figure(figsize=(10,4),dpi=100) \n",
        "length=51\n",
        "x=np.linspace(-43000,36000,8000)\n",
        "y=[]\n",
        "for i in range(8000):\n",
        "  m=x[i]\n",
        "  function=[0]*(length+1)\n",
        "  if m<stress_loss[0]:\n",
        "    function[0]=0\n",
        "  if m>=stress_loss[(length-1)]:\n",
        "    function[length]=1\n",
        "  for j in range((length-1)):\n",
        "    if m>=stress_loss[j] and m<stress_loss[j+1]:\n",
        "      function[j+1]=(1+j)/length\n",
        "  b=0\n",
        "  for n in range((length+1)):\n",
        "    b+=function[n]\n",
        "  y.append(b)\n",
        "plt.plot(x,y)"
      ],
      "execution_count": 601,
      "outputs": [
        {
          "output_type": "execute_result",
          "data": {
            "text/plain": [
              "[<matplotlib.lines.Line2D at 0x7f705f17f7f0>]"
            ]
          },
          "metadata": {
            "tags": []
          },
          "execution_count": 601
        },
        {
          "output_type": "display_data",
          "data": {
            "image/png": "[encoded data removed]",
            "text/plain": [
              "<Figure size 1000x400 with 1 Axes>"
            ]
          },
          "metadata": {
            "tags": []
          }
        }
      ]
    },
    {
      "cell_type": "markdown",
      "metadata": {
        "id": "by9gHcFQUkhm",
        "colab_type": "text"
      },
      "source": [
        "# **因为python实现不了断点，所以在每一段端点python绘图都连上了，实际情况在每一段端点处应断开，每一段都取左端点不取右端点，写report的时候注明。**"
      ]
    },
    {
      "cell_type": "code",
      "metadata": {
        "id": "bghcKzi1BBEX",
        "colab_type": "code",
        "outputId": "0be8a234-686f-4004-bed6-17622e104044",
        "colab": {
          "base_uri": "https://localhost:8080/",
          "height": 34
        }
      },
      "source": [
        "0.99*52"
      ],
      "execution_count": 602,
      "outputs": [
        {
          "output_type": "execute_result",
          "data": {
            "text/plain": [
              "51.48"
            ]
          },
          "metadata": {
            "tags": []
          },
          "execution_count": 602
        }
      ]
    },
    {
      "cell_type": "code",
      "metadata": {
        "id": "k3q_25qFBBBA",
        "colab_type": "code",
        "outputId": "09dd0a77-c46e-4c1a-c7c6-3c0b9f7516bb",
        "colab": {
          "base_uri": "https://localhost:8080/",
          "height": 34
        }
      },
      "source": [
        "0.95*52"
      ],
      "execution_count": 603,
      "outputs": [
        {
          "output_type": "execute_result",
          "data": {
            "text/plain": [
              "49.4"
            ]
          },
          "metadata": {
            "tags": []
          },
          "execution_count": 603
        }
      ]
    },
    {
      "cell_type": "markdown",
      "metadata": {
        "id": "9QjZTgWsCPTj",
        "colab_type": "text"
      },
      "source": [
        "**SVAR0.99 = 45627.38**\n",
        "\n",
        "**SVAR0.95 = 18744.20**"
      ]
    },
    {
      "cell_type": "markdown",
      "metadata": {
        "id": "SD5BZS7bXl3F",
        "colab_type": "text"
      },
      "source": [
        "# **Now we compute stress test of the current market disaster to compare with the scenarios.**"
      ]
    },
    {
      "cell_type": "code",
      "metadata": {
        "id": "0Qh9jze2XkuR",
        "colab_type": "code",
        "outputId": "42a5f493-da14-49e6-c33b-6f0fca0894c2",
        "colab": {
          "base_uri": "https://localhost:8080/",
          "height": 34
        }
      },
      "source": [
        "B30= drd.get_data_yahoo('^TYX','05/06/2019','05/06/2020',interval='d')\n",
        "tradingdays2=B30.index\n",
        "tradingdays2\n",
        "len(tradingdays2)"
      ],
      "execution_count": 604,
      "outputs": [
        {
          "output_type": "execute_result",
          "data": {
            "text/plain": [
              "251"
            ]
          },
          "metadata": {
            "tags": []
          },
          "execution_count": 604
        }
      ]
    },
    {
      "cell_type": "code",
      "metadata": {
        "id": "37YSgBA8XkpO",
        "colab_type": "code",
        "outputId": "bf87a92a-6f39-4cb6-e520-46bf3d0fde4b",
        "colab": {
          "base_uri": "https://localhost:8080/",
          "height": 51
        }
      },
      "source": [
        "weektime2=[]\n",
        "for i in tradingdays2:\n",
        "  if i.weekday() == 2:\n",
        "    weektime2.append(i)\n",
        "len(weektime2)\n",
        "nan_list=[]\n",
        "nan_index=[]\n",
        "for i in range(49):\n",
        "  if weektime2[i+1]-weektime2[i] != pd.Timedelta('7 days'):\n",
        "    nan_list.append(weektime2[i])\n",
        "    nan_index.append(i)\n",
        "\n",
        "\n",
        "#weektime: wednesday date list\n",
        "#weektime[-1]\n",
        "print(nan_index)\n",
        "print(nan_list)"
      ],
      "execution_count": 605,
      "outputs": [
        {
          "output_type": "stream",
          "text": [
            "[7, 31]\n",
            "[Timestamp('2019-06-26 00:00:00'), Timestamp('2019-12-18 00:00:00')]\n"
          ],
          "name": "stdout"
        }
      ]
    },
    {
      "cell_type": "code",
      "metadata": {
        "id": "LBqvUTdsXkjj",
        "colab_type": "code",
        "outputId": "bc3371ac-8611-4d1f-d6f6-bd594d7938a7",
        "colab": {
          "base_uri": "https://localhost:8080/",
          "height": 34
        }
      },
      "source": [
        "p1=pd.Timestamp(2019,7,2)\n",
        "p2=pd.Timestamp(2019,12,23)\n",
        "p3=pd.Timestamp(2019,12,31)\n",
        "weektime2.insert(8,p1)\n",
        "weektime2.insert(33,p2)\n",
        "weektime2.insert(34,p3)\n",
        "len(weektime2)"
      ],
      "execution_count": 606,
      "outputs": [
        {
          "output_type": "execute_result",
          "data": {
            "text/plain": [
              "53"
            ]
          },
          "metadata": {
            "tags": []
          },
          "execution_count": 606
        }
      ]
    },
    {
      "cell_type": "code",
      "metadata": {
        "id": "USnbRZx2lo5x",
        "colab_type": "code",
        "outputId": "f2dd3c4f-77fb-4e42-f90b-0bfc32217cc8",
        "colab": {
          "base_uri": "https://localhost:8080/",
          "height": 918
        }
      },
      "source": [
        "weektime2"
      ],
      "execution_count": 607,
      "outputs": [
        {
          "output_type": "execute_result",
          "data": {
            "text/plain": [
              "[Timestamp('2019-05-08 00:00:00'),\n",
              " Timestamp('2019-05-15 00:00:00'),\n",
              " Timestamp('2019-05-22 00:00:00'),\n",
              " Timestamp('2019-05-29 00:00:00'),\n",
              " Timestamp('2019-06-05 00:00:00'),\n",
              " Timestamp('2019-06-12 00:00:00'),\n",
              " Timestamp('2019-06-19 00:00:00'),\n",
              " Timestamp('2019-06-26 00:00:00'),\n",
              " Timestamp('2019-07-02 00:00:00'),\n",
              " Timestamp('2019-07-10 00:00:00'),\n",
              " Timestamp('2019-07-17 00:00:00'),\n",
              " Timestamp('2019-07-24 00:00:00'),\n",
              " Timestamp('2019-07-31 00:00:00'),\n",
              " Timestamp('2019-08-07 00:00:00'),\n",
              " Timestamp('2019-08-14 00:00:00'),\n",
              " Timestamp('2019-08-21 00:00:00'),\n",
              " Timestamp('2019-08-28 00:00:00'),\n",
              " Timestamp('2019-09-04 00:00:00'),\n",
              " Timestamp('2019-09-11 00:00:00'),\n",
              " Timestamp('2019-09-18 00:00:00'),\n",
              " Timestamp('2019-09-25 00:00:00'),\n",
              " Timestamp('2019-10-02 00:00:00'),\n",
              " Timestamp('2019-10-09 00:00:00'),\n",
              " Timestamp('2019-10-16 00:00:00'),\n",
              " Timestamp('2019-10-23 00:00:00'),\n",
              " Timestamp('2019-10-30 00:00:00'),\n",
              " Timestamp('2019-11-06 00:00:00'),\n",
              " Timestamp('2019-11-13 00:00:00'),\n",
              " Timestamp('2019-11-20 00:00:00'),\n",
              " Timestamp('2019-11-27 00:00:00'),\n",
              " Timestamp('2019-12-04 00:00:00'),\n",
              " Timestamp('2019-12-11 00:00:00'),\n",
              " Timestamp('2019-12-18 00:00:00'),\n",
              " Timestamp('2019-12-23 00:00:00'),\n",
              " Timestamp('2019-12-31 00:00:00'),\n",
              " Timestamp('2020-01-08 00:00:00'),\n",
              " Timestamp('2020-01-15 00:00:00'),\n",
              " Timestamp('2020-01-22 00:00:00'),\n",
              " Timestamp('2020-01-29 00:00:00'),\n",
              " Timestamp('2020-02-05 00:00:00'),\n",
              " Timestamp('2020-02-12 00:00:00'),\n",
              " Timestamp('2020-02-19 00:00:00'),\n",
              " Timestamp('2020-02-26 00:00:00'),\n",
              " Timestamp('2020-03-04 00:00:00'),\n",
              " Timestamp('2020-03-11 00:00:00'),\n",
              " Timestamp('2020-03-18 00:00:00'),\n",
              " Timestamp('2020-03-25 00:00:00'),\n",
              " Timestamp('2020-04-01 00:00:00'),\n",
              " Timestamp('2020-04-08 00:00:00'),\n",
              " Timestamp('2020-04-15 00:00:00'),\n",
              " Timestamp('2020-04-22 00:00:00'),\n",
              " Timestamp('2020-04-29 00:00:00'),\n",
              " Timestamp('2020-05-06 00:00:00')]"
            ]
          },
          "metadata": {
            "tags": []
          },
          "execution_count": 607
        }
      ]
    },
    {
      "cell_type": "code",
      "metadata": {
        "id": "KrXTofv0XkhG",
        "colab_type": "code",
        "colab": {}
      },
      "source": [
        "AAPL= drd.get_data_yahoo('AAPL','05/06/2019','05/06/2020',interval='d')\n",
        "TSLA= drd.get_data_yahoo('TSLA','05/06/2019','05/06/2020',interval='d')\n",
        "GILD= drd.get_data_yahoo('GILD','05/06/2019','05/06/2020',interval='d')\n",
        "MELI= drd.get_data_yahoo('MELI','05/06/2019','05/06/2020',interval='d')\n",
        "MSFT= drd.get_data_yahoo('MSFT','05/06/2019','05/06/2020',interval='d')\n",
        "DIS= drd.get_data_yahoo('DIS','05/06/2019','05/06/2020',interval='d')\n",
        "NVDA= drd.get_data_yahoo('NVDA','05/06/2019','05/06/2020',interval='d')\n",
        "TCO= drd.get_data_yahoo('TCO','05/06/2019','05/06/2020',interval='d')\n",
        "MMM= drd.get_data_yahoo('MMM','05/06/2019','05/06/2020',interval='d')\n",
        "INCY= drd.get_data_yahoo('INCY','05/06/2019','05/06/2020',interval='d')\n",
        "IBM= drd.get_data_yahoo('IBM','05/06/2019','05/06/2020',interval='d')\n",
        "EPC= drd.get_data_yahoo('EPC','05/06/2019','05/06/2020',interval='d')\n",
        "SPY= drd.get_data_yahoo('SPY','05/06/2019','05/06/2020',interval='d')\n",
        "YELP= drd.get_data_yahoo('YELP','05/06/2019','05/06/2020',interval='d')\n",
        "VTI= drd.get_data_yahoo('VTI','05/06/2019','05/06/2020',interval='d')"
      ],
      "execution_count": 0,
      "outputs": []
    },
    {
      "cell_type": "code",
      "metadata": {
        "id": "4eWm73TeXkeu",
        "colab_type": "code",
        "colab": {}
      },
      "source": [
        "stock_list=[AAPL,TSLA,GILD,MELI,MSFT,DIS,NVDA,TCO,MMM,INCY,IBM,EPC,SPY,YELP,VTI]\n",
        "index_list=['AAPL','TSLA','GILD','MELI','MSFT','DIS','NVDA','TCO','MMM','INCY','IBM','EPC','SPY','YELP','VTI']\n",
        "\n",
        "from datetime import date\n",
        "total_num=len(tradingdays2)\n",
        "date_list2=[]\n",
        "for i in range(total_num-1):\n",
        "  if tradingdays2[i].day > tradingdays2[i+1].day:\n",
        "    date_list2.append(tradingdays2[i])\n",
        "\n",
        "def new_portfolio():\n",
        "    res = pd.DataFrame(columns=['Share', 'Adj Close'],index=pd.Series(index_list))\n",
        "    return res\n",
        "\n",
        "my_port = new_portfolio()\n",
        "update_list=[]\n",
        "\n",
        "for j in range(len(date_list2)):\n",
        "  b=date_list2[j]\n",
        "  my_port=new_portfolio()\n",
        "  for i in range(len(index_list)):\n",
        "    a=index_list[i]\n",
        "    my_port.loc[a,'Adj Close']=stock_list[i].loc[b,'Adj Close']\n",
        "  update_list.append(my_port)\n",
        "\n",
        "for i in range(len(index_list)):\n",
        "    a=index_list[i]\n",
        "    update_list[0].loc[a,'Share']=(400000/15)/update_list[0].loc[a,'Adj Close']\n",
        "\n",
        "def total_value(portfolio1,portfolio2):\n",
        "  res=0\n",
        "  for i in range(len(index_list)):\n",
        "    a=index_list[i]\n",
        "    res+=portfolio1.loc[a,'Share']*portfolio2.loc[a,'Adj Close']\n",
        "  return res\n",
        "\n",
        "for i in range(len(update_list)-1):\n",
        "  to_value=total_value(update_list[i],update_list[i+1])\n",
        "  for j in range(len(index_list)):\n",
        "    a=index_list[j]\n",
        "    update_list[i+1].loc[a,'Share']=(to_value/15)/update_list[i+1].loc[a,'Adj Close']"
      ],
      "execution_count": 0,
      "outputs": []
    },
    {
      "cell_type": "code",
      "metadata": {
        "id": "6H2VNipNXkaL",
        "colab_type": "code",
        "colab": {}
      },
      "source": [
        "week_stock2=[] #所有Wednesday的portfolio\n",
        "\n",
        "for j in range(len(weektime2)):\n",
        "  b=weektime2[j]\n",
        "  my_port=new_portfolio()\n",
        "  for i in range(len(index_list)):\n",
        "    a=index_list[i]\n",
        "    my_port.loc[a]['Adj Close']=stock_list[i].loc[b]['Adj Close']\n",
        "  week_stock2.append(my_port)\n",
        "week_stock2\n",
        "\n",
        "m=0\n",
        "for i in range(len(week_stock2)):\n",
        "  if weektime2[i].month <= date_list2[m].month:\n",
        "    for j in range(len(index_list)):\n",
        "      a=index_list[j]\n",
        "      week_stock2[i].loc[a]['Share']=update_list[m+1].loc[a]['Share']\n",
        "  else:\n",
        "    m+=1\n",
        "    for j in range(len(index_list)):\n",
        "      a=index_list[j]\n",
        "      week_stock2[i].loc[a]['Share']=update_list[m+1].loc[a]['Share']"
      ],
      "execution_count": 0,
      "outputs": []
    },
    {
      "cell_type": "code",
      "metadata": {
        "id": "5DBthRCRXkVs",
        "colab_type": "code",
        "outputId": "31870e59-13dc-4653-bb99-735d168a48bb",
        "colab": {
          "base_uri": "https://localhost:8080/",
          "height": 34
        }
      },
      "source": [
        "len(week_stock2)"
      ],
      "execution_count": 611,
      "outputs": [
        {
          "output_type": "execute_result",
          "data": {
            "text/plain": [
              "53"
            ]
          },
          "metadata": {
            "tags": []
          },
          "execution_count": 611
        }
      ]
    },
    {
      "cell_type": "code",
      "metadata": {
        "id": "QJVvm418XkTy",
        "colab_type": "code",
        "colab": {}
      },
      "source": [
        "for j in range(len(week_stock2)):\n",
        "  v=0\n",
        "  for i in range(len(index_list)):\n",
        "    a=index_list[i]\n",
        "    v+=week_stock2[j].loc[a,'Adj Close']*week_stock2[j].loc[a,'Share']\n",
        "  stock_value.append(v)\n"
      ],
      "execution_count": 0,
      "outputs": []
    },
    {
      "cell_type": "code",
      "metadata": {
        "id": "ZbbIvr2RXkO9",
        "colab_type": "code",
        "colab": {}
      },
      "source": [
        "stock_loss=[]\n",
        "for i in range(52):\n",
        "  a=stock_value[i+1]-stock_value[i]\n",
        "  stock_loss.append(-a)"
      ],
      "execution_count": 0,
      "outputs": []
    },
    {
      "cell_type": "code",
      "metadata": {
        "id": "gMRw-PCNXj_4",
        "colab_type": "code",
        "outputId": "f85dd104-77d0-4a6a-acae-2c44f324cbee",
        "colab": {
          "base_uri": "https://localhost:8080/",
          "height": 901
        }
      },
      "source": [
        "stock_loss"
      ],
      "execution_count": 614,
      "outputs": [
        {
          "output_type": "execute_result",
          "data": {
            "text/plain": [
              "[26909.739074867044,\n",
              " -12112.154403672263,\n",
              " 3140.3714221300907,\n",
              " -15082.182201119955,\n",
              " 18446.807068374357,\n",
              " 5776.264999270323,\n",
              " -14164.339551328681,\n",
              " 3895.9510562858777,\n",
              " -4655.967937213136,\n",
              " -17234.50387136842,\n",
              " -6984.513322661107,\n",
              " 4378.605329992541,\n",
              " -6948.778489029908,\n",
              " -6885.379041238222,\n",
              " -4199.803271856916,\n",
              " 9494.310443336086,\n",
              " -4666.984390139987,\n",
              " 6222.841121778183,\n",
              " -1559.1737050380907,\n",
              " 20269.95538096543,\n",
              " 31925.696244513034,\n",
              " 12868.673080077278,\n",
              " -2156.978880024748,\n",
              " 183.3207466721069,\n",
              " 20659.66789231263,\n",
              " -21176.355889559316,\n",
              " -8550.648674973869,\n",
              " -12350.640295460063,\n",
              " -800.2868333293591,\n",
              " -6961.988439881476,\n",
              " -1125.851406067086,\n",
              " -9379.259067853971,\n",
              " -12266.650834345783,\n",
              " -2214.3853237766307,\n",
              " -1061.8406917097163,\n",
              " 5336.929371458245,\n",
              " 16019.994351083296,\n",
              " -6559.401756082661,\n",
              " -6244.994457445748,\n",
              " -12905.327954094508,\n",
              " -3902.894025369431,\n",
              " -4887.0384089203435,\n",
              " 9899.906193107949,\n",
              " -1712.483755259891,\n",
              " -1185.3545238093939,\n",
              " -8916.495358468615,\n",
              " -14258.27338664612,\n",
              " -7365.252851403609,\n",
              " -1254.274493358098,\n",
              " -1779.672032841714,\n",
              " -12983.489630667144,\n",
              " 24781.201057865343]"
            ]
          },
          "metadata": {
            "tags": []
          },
          "execution_count": 614
        }
      ]
    },
    {
      "cell_type": "code",
      "metadata": {
        "id": "Gqui1IF2Xj9E",
        "colab_type": "code",
        "outputId": "85c93045-904a-4772-8363-7c697e28531b",
        "colab": {
          "base_uri": "https://localhost:8080/",
          "height": 34
        }
      },
      "source": [
        "bond30= drd.get_data_yahoo('^TYX','05/06/2019','05/06/2020',interval='d')\n",
        "\n",
        "for i in range(len(tradingdays2)):\n",
        "  a=tradingdays2[i]\n",
        "  b=bond30.loc[a,'Adj Close']\n",
        "  bond30.loc[a,'Adj Close']=b*0.01\n",
        "\n",
        "week_bond=[]\n",
        "for i in range(len(weektime2)):\n",
        "  a=weektime2[i]\n",
        "  b=bond30.loc[a,'Adj Close']\n",
        "  week_bond.append(b)\n",
        "\n",
        "a=27\n",
        "maturity_list=[a,]\n",
        "for i in range(len(weektime2)-1):\n",
        "  a=a-7/365\n",
        "  maturity_list.append(a)\n",
        "\n",
        "bond_price=[]\n",
        "for i in range(len(weektime2)):\n",
        "  a=np.exp(-maturity_list[i]*week_bond[i])\n",
        "  bond_price.append(a)\n",
        "\n",
        "len(bond_price)"
      ],
      "execution_count": 615,
      "outputs": [
        {
          "output_type": "execute_result",
          "data": {
            "text/plain": [
              "53"
            ]
          },
          "metadata": {
            "tags": []
          },
          "execution_count": 615
        }
      ]
    },
    {
      "cell_type": "code",
      "metadata": {
        "id": "EuRWIOK4o5T-",
        "colab_type": "code",
        "outputId": "1f1c0432-0d88-456b-e875-370205b475c5",
        "colab": {
          "base_uri": "https://localhost:8080/",
          "height": 34
        }
      },
      "source": [
        "a=25+(23+30+31+15)/365\n",
        "#2019.5.8---2047.8.15\n",
        "maturity_list2=[a,]\n",
        "for i in range(len(weektime2)-1):\n",
        "  a=a-7/365\n",
        "  maturity_list2.append(a)\n",
        "bond_price2=[]\n",
        "for i in range(len(weektime2)):\n",
        "  a=np.exp(-maturity_list2[i]*week_bond[i])\n",
        "  bond_price2.append(a)\n",
        "len(bond_price2)\n",
        "\n",
        "a=28+(23+30+31+15)/365\n",
        "#2019.5.8---2047.8.15\n",
        "maturity_list1=[a,]\n",
        "for i in range(len(weektime2)-1):\n",
        "  a=a-7/365\n",
        "  maturity_list1.append(a)\n",
        "bond_price1=[]\n",
        "for i in range(len(weektime2)):\n",
        "  a=np.exp(-maturity_list1[i]*week_bond[i])\n",
        "  bond_price1.append(a)\n",
        "len(bond_price1)"
      ],
      "execution_count": 616,
      "outputs": [
        {
          "output_type": "execute_result",
          "data": {
            "text/plain": [
              "53"
            ]
          },
          "metadata": {
            "tags": []
          },
          "execution_count": 616
        }
      ]
    },
    {
      "cell_type": "code",
      "metadata": {
        "id": "QjLeZzfXXj1L",
        "colab_type": "code",
        "colab": {}
      },
      "source": [
        "bond10=bond_price1[:20]+[0.57639,0.59218,0.59413,0.57203,0.56817,0.56815,0.55983,0.55275,0.57484,0.57900,0.57290,0.57439,0.55673,0.55915,0.55142,0.55145,0.57239,0.572375,0.598495,0.584175,0.592505,0.604465,0.63292,0.64429,0.68259,0.62449,0.694705,0.73483,0.71203,0.732635,0.73774,0.72552,0.70000]"
      ],
      "execution_count": 0,
      "outputs": []
    },
    {
      "cell_type": "code",
      "metadata": {
        "id": "4_Kl-GNwXjsp",
        "colab_type": "code",
        "colab": {}
      },
      "source": [
        "bond30=bond_price2[:20]+[0.53646,0.55261,0.55369,0.53157,0.52788,0.52883,0.52192,0.51420,0.53706,0.54177,0.53544,0.53640,0.51922,0.52123,0.51292,0.51662,0.536425,0.537195,0.564690,0.548540,0.556420,0.569590,0.598885,0.613025,0.654810,0.586930,0.657060,0.702030,0.676945,0.698375,0.70697,0.69806,0.66928]"
      ],
      "execution_count": 0,
      "outputs": []
    },
    {
      "cell_type": "code",
      "metadata": {
        "id": "ObstixsQXjqm",
        "colab_type": "code",
        "outputId": "dfdaa359-233e-4071-b649-3f1c0abd33ae",
        "colab": {
          "base_uri": "https://localhost:8080/",
          "height": 901
        }
      },
      "source": [
        "bondshare10=300000/bond10[0]\n",
        "bondshare30=300000/bond30[0]\n",
        "bond_loss=[]\n",
        "for i in range(len(weektime2)-1):\n",
        "  a=bondshare10*(bond10[i+1]-bond10[i])+bondshare30*(bond30[i+1]-bond30[i])\n",
        "  bond_loss.append(-a)\n",
        "bond_loss"
      ],
      "execution_count": 619,
      "outputs": [
        {
          "output_type": "execute_result",
          "data": {
            "text/plain": [
              "[-11026.635878759764,\n",
              " -1148.6382448804209,\n",
              " -24524.743751962007,\n",
              " -7166.369098428921,\n",
              " -2046.2829508732066,\n",
              " -14785.886462257844,\n",
              " 4066.613668296838,\n",
              " -10547.159613932823,\n",
              " 10949.241042780623,\n",
              " 25.34615153542901,\n",
              " 547.6658419761324,\n",
              " -9266.532764635933,\n",
              " -61198.50305958977,\n",
              " -34209.24078563218,\n",
              " 5328.168042835805,\n",
              " -23655.53224425482,\n",
              " 3412.5879495329473,\n",
              " 49706.00853700149,\n",
              " 5042.815480556648,\n",
              " -4827.358482719104,\n",
              " -20775.152038543543,\n",
              " -1996.3243100680943,\n",
              " 28776.07613723391,\n",
              " 4918.034688790082,\n",
              " -577.8699015954134,\n",
              " 9950.824165039783,\n",
              " 9613.221741662925,\n",
              " -29229.994168172863,\n",
              " -5756.747046962482,\n",
              " 8082.473855787452,\n",
              " -1609.3008365583028,\n",
              " 22686.031960487715,\n",
              " -2894.4251270501813,\n",
              " 10421.85604036157,\n",
              " -2323.9056597730137,\n",
              " -26547.2340285901,\n",
              " -469.2006416988317,\n",
              " -34851.7851948148,\n",
              " 19777.104632728784,\n",
              " -10561.513934257706,\n",
              " -16319.515803404323,\n",
              " -37557.75878892794,\n",
              " -16522.83928453458,\n",
              " -52017.955617404165,\n",
              " 81707.20718575461,\n",
              " -91333.41122310594,\n",
              " -55239.937927003906,\n",
              " 31097.27957126894,\n",
              " -27331.47655005394,\n",
              " -8817.063163337636,\n",
              " 13843.86035943026,\n",
              " 35244.43120099714]"
            ]
          },
          "metadata": {
            "tags": []
          },
          "execution_count": 619
        }
      ]
    },
    {
      "cell_type": "code",
      "metadata": {
        "id": "rR-xk9yzXjnR",
        "colab_type": "code",
        "colab": {}
      },
      "source": [
        "libor2019=[0.02363,0.02349,0.02355,0.02356,0.02345,0.02350,0.02341,0.02354,0.02356,0.02355,0.02363,0.02352,0.02352,0.02099,0.02092,0.02093,0.02087,0.02091,0.02095,0.02185,0.01841,0.01851,0.01790,0.01823,0.01814,0.01804,0.01537,0.01539,0.01529,0.01540,0.01529,0.01525,0.01534,0.01533,0.01543,0.01533,0.01528,0.01533,0.01530,0.01575,0.01574,0.01577,0.01571,0.01088,0.01084,0.00380,0.00201,0.00109,0.00072,0.00066,0.00064,0.00055,0.00060]"
      ],
      "execution_count": 0,
      "outputs": []
    },
    {
      "cell_type": "code",
      "metadata": {
        "id": "Px7qDiTsXjlO",
        "colab_type": "code",
        "outputId": "6cb53474-c994-43d1-cec5-d5f01a3f9a75",
        "colab": {
          "base_uri": "https://localhost:8080/",
          "height": 34
        }
      },
      "source": [
        "len(libor2019)"
      ],
      "execution_count": 621,
      "outputs": [
        {
          "output_type": "execute_result",
          "data": {
            "text/plain": [
              "53"
            ]
          },
          "metadata": {
            "tags": []
          },
          "execution_count": 621
        }
      ]
    },
    {
      "cell_type": "code",
      "metadata": {
        "id": "p8A4li7KXjjG",
        "colab_type": "code",
        "colab": {}
      },
      "source": [
        "def vol_finder(sigma,weektime):\n",
        "  len(sigma)\n",
        "  tradingdays3=sigma.index\n",
        "  vol=[]\n",
        "  for i in range(len(weektime)):\n",
        "    a=list(tradingdays3).index(weektime[i])\n",
        "    b=np.log(np.array(sigma[:a]['Adj Close'])).std()\n",
        "    vol.append(b)\n",
        "  return vol\n",
        "  \n",
        "def option_finder(stock,libor,vol,k,maturity,weektime,otype):\n",
        "  option=[]\n",
        "  for i in range(len(weektime)):\n",
        "    a=weektime[i]\n",
        "    d1 = (np.log(stock.loc[a,'Adj Close'] / k) + (libor[i] + 0.5 * vol[i] ** 2) * maturity[i]) / (vol[i] * np.sqrt(maturity[i]))\n",
        "    d2 = d1 - vol[i] * np.sqrt(maturity[i])\n",
        "    price=(otype * stock.loc[a,'Adj Close'] * ss.norm.cdf(otype * d1) - otype * np.exp(-libor[i] * maturity[i]) * k * ss.norm.cdf(otype * d2))\n",
        "    option.append(price)\n",
        "  return option"
      ],
      "execution_count": 0,
      "outputs": []
    },
    {
      "cell_type": "code",
      "metadata": {
        "id": "hnJZC3zqXjhI",
        "colab_type": "code",
        "outputId": "c6b1e677-0642-492f-cf0d-67e32d96fefb",
        "colab": {
          "base_uri": "https://localhost:8080/",
          "height": 34
        }
      },
      "source": [
        "mmm_sigma=drd.get_data_yahoo('MMM','01/03/2018','05/06/2020',interval='d')\n",
        "mmm_vol=vol_finder(mmm_sigma,weektime2)\n",
        "spx_sigma=drd.get_data_yahoo('SPY','01/03/2018','05/06/2020',interval='d')\n",
        "spx_vol=vol_finder(spx_sigma,weektime2)\n",
        "meli_sigma=drd.get_data_yahoo('MELI','01/03/2018','05/06/2020',interval='d')\n",
        "meli_vol=vol_finder(meli_sigma,weektime2)\n",
        "len(meli_vol)"
      ],
      "execution_count": 623,
      "outputs": [
        {
          "output_type": "execute_result",
          "data": {
            "text/plain": [
              "53"
            ]
          },
          "metadata": {
            "tags": []
          },
          "execution_count": 623
        }
      ]
    },
    {
      "cell_type": "code",
      "metadata": {
        "id": "vPJsY2xQXjc6",
        "colab_type": "code",
        "outputId": "8160d243-461b-4f62-f234-177171e6be05",
        "colab": {
          "base_uri": "https://localhost:8080/",
          "height": 450
        }
      },
      "source": [
        "for i in range(len(tradingdays2)):\n",
        "  a=tradingdays2[i]\n",
        "  b=SPY.loc[a,'Adj Close']\n",
        "  SPY.loc[a,'Adj Close']=b*10\n",
        "SPY"
      ],
      "execution_count": 624,
      "outputs": [
        {
          "output_type": "execute_result",
          "data": {
            "text/html": [
              "<div>\n",
              "<style scoped>\n",
              "    .dataframe tbody tr th:only-of-type {\n",
              "        vertical-align: middle;\n",
              "    }\n",
              "\n",
              "    .dataframe tbody tr th {\n",
              "        vertical-align: top;\n",
              "    }\n",
              "\n",
              "    .dataframe thead th {\n",
              "        text-align: right;\n",
              "    }\n",
              "</style>\n",
              "<table border=\"1\" class=\"dataframe\">\n",
              "  <thead>\n",
              "    <tr style=\"text-align: right;\">\n",
              "      <th></th>\n",
              "      <th>High</th>\n",
              "      <th>Low</th>\n",
              "      <th>Open</th>\n",
              "      <th>Close</th>\n",
              "      <th>Volume</th>\n",
              "      <th>Adj Close</th>\n",
              "    </tr>\n",
              "    <tr>\n",
              "      <th>Date</th>\n",
              "      <th></th>\n",
              "      <th></th>\n",
              "      <th></th>\n",
              "      <th></th>\n",
              "      <th></th>\n",
              "      <th></th>\n",
              "    </tr>\n",
              "  </thead>\n",
              "  <tbody>\n",
              "    <tr>\n",
              "      <th>2019-05-06</th>\n",
              "      <td>293.309998</td>\n",
              "      <td>288.899994</td>\n",
              "      <td>289.250000</td>\n",
              "      <td>292.820007</td>\n",
              "      <td>107198100.0</td>\n",
              "      <td>2869.566956</td>\n",
              "    </tr>\n",
              "    <tr>\n",
              "      <th>2019-05-07</th>\n",
              "      <td>290.809998</td>\n",
              "      <td>285.809998</td>\n",
              "      <td>290.149994</td>\n",
              "      <td>287.929993</td>\n",
              "      <td>144729900.0</td>\n",
              "      <td>2821.646118</td>\n",
              "    </tr>\n",
              "    <tr>\n",
              "      <th>2019-05-08</th>\n",
              "      <td>289.429993</td>\n",
              "      <td>286.869995</td>\n",
              "      <td>287.529999</td>\n",
              "      <td>287.529999</td>\n",
              "      <td>91568300.0</td>\n",
              "      <td>2817.725830</td>\n",
              "    </tr>\n",
              "    <tr>\n",
              "      <th>2019-05-09</th>\n",
              "      <td>287.329987</td>\n",
              "      <td>283.299988</td>\n",
              "      <td>285.230011</td>\n",
              "      <td>286.660004</td>\n",
              "      <td>103471100.0</td>\n",
              "      <td>2809.200439</td>\n",
              "    </tr>\n",
              "    <tr>\n",
              "      <th>2019-05-10</th>\n",
              "      <td>288.940002</td>\n",
              "      <td>282.299988</td>\n",
              "      <td>285.619995</td>\n",
              "      <td>288.100006</td>\n",
              "      <td>112429300.0</td>\n",
              "      <td>2823.312073</td>\n",
              "    </tr>\n",
              "    <tr>\n",
              "      <th>...</th>\n",
              "      <td>...</td>\n",
              "      <td>...</td>\n",
              "      <td>...</td>\n",
              "      <td>...</td>\n",
              "      <td>...</td>\n",
              "      <td>...</td>\n",
              "    </tr>\n",
              "    <tr>\n",
              "      <th>2020-04-30</th>\n",
              "      <td>293.320007</td>\n",
              "      <td>288.589996</td>\n",
              "      <td>291.709991</td>\n",
              "      <td>290.480011</td>\n",
              "      <td>122901700.0</td>\n",
              "      <td>2904.800110</td>\n",
              "    </tr>\n",
              "    <tr>\n",
              "      <th>2020-05-01</th>\n",
              "      <td>290.660004</td>\n",
              "      <td>281.519989</td>\n",
              "      <td>285.309998</td>\n",
              "      <td>282.790009</td>\n",
              "      <td>125180000.0</td>\n",
              "      <td>2827.900085</td>\n",
              "    </tr>\n",
              "    <tr>\n",
              "      <th>2020-05-04</th>\n",
              "      <td>283.899994</td>\n",
              "      <td>279.130005</td>\n",
              "      <td>280.739990</td>\n",
              "      <td>283.570007</td>\n",
              "      <td>80873200.0</td>\n",
              "      <td>2835.700073</td>\n",
              "    </tr>\n",
              "    <tr>\n",
              "      <th>2020-05-05</th>\n",
              "      <td>289.250000</td>\n",
              "      <td>283.709991</td>\n",
              "      <td>286.640015</td>\n",
              "      <td>286.190002</td>\n",
              "      <td>79569900.0</td>\n",
              "      <td>2861.900024</td>\n",
              "    </tr>\n",
              "    <tr>\n",
              "      <th>2020-05-06</th>\n",
              "      <td>288.459991</td>\n",
              "      <td>283.779999</td>\n",
              "      <td>288.040009</td>\n",
              "      <td>284.250000</td>\n",
              "      <td>73632600.0</td>\n",
              "      <td>2842.500000</td>\n",
              "    </tr>\n",
              "  </tbody>\n",
              "</table>\n",
              "<p>254 rows × 6 columns</p>\n",
              "</div>"
            ],
            "text/plain": [
              "                  High         Low  ...       Volume    Adj Close\n",
              "Date                                ...                          \n",
              "2019-05-06  293.309998  288.899994  ...  107198100.0  2869.566956\n",
              "2019-05-07  290.809998  285.809998  ...  144729900.0  2821.646118\n",
              "2019-05-08  289.429993  286.869995  ...   91568300.0  2817.725830\n",
              "2019-05-09  287.329987  283.299988  ...  103471100.0  2809.200439\n",
              "2019-05-10  288.940002  282.299988  ...  112429300.0  2823.312073\n",
              "...                ...         ...  ...          ...          ...\n",
              "2020-04-30  293.320007  288.589996  ...  122901700.0  2904.800110\n",
              "2020-05-01  290.660004  281.519989  ...  125180000.0  2827.900085\n",
              "2020-05-04  283.899994  279.130005  ...   80873200.0  2835.700073\n",
              "2020-05-05  289.250000  283.709991  ...   79569900.0  2861.900024\n",
              "2020-05-06  288.459991  283.779999  ...   73632600.0  2842.500000\n",
              "\n",
              "[254 rows x 6 columns]"
            ]
          },
          "metadata": {
            "tags": []
          },
          "execution_count": 624
        }
      ]
    },
    {
      "cell_type": "code",
      "metadata": {
        "id": "lfUm0Jk3XjaV",
        "colab_type": "code",
        "outputId": "a950fb4b-0d9a-4ca3-a9be-9d21674a79af",
        "colab": {
          "base_uri": "https://localhost:8080/",
          "height": 34
        }
      },
      "source": [
        "a=23+30+31+31+30+31+30+31+31+29+31+30+31+30+17\n",
        "#2019.5.8---2020.7.17\n",
        "maturity1=[a/365,]\n",
        "for i in range(len(weektime2)-1):\n",
        "  a=a-7\n",
        "  maturity1.append(a/365)\n",
        "\n",
        "a=23+30+31+31+30+31+30+31+31+29+31+30+14\n",
        "#2019.5.8---2020.5.14\n",
        "maturity2=[a/365,]\n",
        "for i in range(len(weektime2)-1):\n",
        "  a=a-7\n",
        "  maturity2.append(a/365)\n",
        "\n",
        "a=23+30+31+31+30+31+30+31+31+29+31+30+31+19\n",
        "#2019.5.8---2020.6.19\n",
        "maturity3=[a/365,]\n",
        "for i in range(len(weektime2)-1):\n",
        "  a=a-7\n",
        "  maturity3.append(a/365)\n",
        "\n",
        "len(maturity3)"
      ],
      "execution_count": 625,
      "outputs": [
        {
          "output_type": "execute_result",
          "data": {
            "text/plain": [
              "53"
            ]
          },
          "metadata": {
            "tags": []
          },
          "execution_count": 625
        }
      ]
    },
    {
      "cell_type": "code",
      "metadata": {
        "id": "qe-2AW2gwll9",
        "colab_type": "code",
        "outputId": "164ae077-7bbf-4471-a062-34cb19049bf8",
        "colab": {
          "base_uri": "https://localhost:8080/",
          "height": 34
        }
      },
      "source": [
        "len(weektime2)"
      ],
      "execution_count": 626,
      "outputs": [
        {
          "output_type": "execute_result",
          "data": {
            "text/plain": [
              "53"
            ]
          },
          "metadata": {
            "tags": []
          },
          "execution_count": 626
        }
      ]
    },
    {
      "cell_type": "code",
      "metadata": {
        "id": "fiTnJUrRWpIe",
        "colab_type": "code",
        "colab": {
          "base_uri": "https://localhost:8080/",
          "height": 34
        },
        "outputId": "ae5dfb9b-2755-41e8-e4dd-e063070c7667"
      },
      "source": [
        "#2019.5.6 MMM:146.2  SPX:2869.6   MELI:567.69\n",
        "MMM_strike1=(130/159.76)*146.2\n",
        "SPX_strike1=(2885/3350)*2869.6\n",
        "MELI_strike1=(640/718.53)*567.69\n",
        "print(MMM_strike1,SPX_strike1,MELI_strike1)"
      ],
      "execution_count": 632,
      "outputs": [
        {
          "output_type": "stream",
          "text": [
            "118.96594892338508 2471.282388059701 505.6456932904681\n"
          ],
          "name": "stdout"
        }
      ]
    },
    {
      "cell_type": "code",
      "metadata": {
        "id": "UQVN7g-vXjX_",
        "colab_type": "code",
        "colab": {}
      },
      "source": [
        "import scipy.stats as ss\n",
        "mmm_option=option_finder(MMM,libor2019,mmm_vol,118.966,maturity1,weektime2,1)\n",
        "spx_option=option_finder(SPY,libor2019,spx_vol,2471.282,maturity2,weektime2,-1)\n",
        "meli_option=option_finder(MELI,libor2019,meli_vol,505.646,maturity3,weektime2,1)"
      ],
      "execution_count": 0,
      "outputs": []
    },
    {
      "cell_type": "code",
      "metadata": {
        "id": "0tC-X3zNXjQq",
        "colab_type": "code",
        "outputId": "42e35d61-a845-4707-8f40-7c522dd391d8",
        "colab": {
          "base_uri": "https://localhost:8080/",
          "height": 34
        }
      },
      "source": [
        "a=weektime2[0]\n",
        "share_mmm=400000/(15*MMM.loc[a,'Adj Close'])\n",
        "share_mmm"
      ],
      "execution_count": 634,
      "outputs": [
        {
          "output_type": "execute_result",
          "data": {
            "text/plain": [
              "154.67723936200125"
            ]
          },
          "metadata": {
            "tags": []
          },
          "execution_count": 634
        }
      ]
    },
    {
      "cell_type": "code",
      "metadata": {
        "id": "HVIjeZIjXjNm",
        "colab_type": "code",
        "colab": {}
      },
      "source": [
        "mmm_loss=[]\n",
        "for i in range(len(mmm_option)-1):\n",
        "  loss=200*(mmm_option[i+1]-mmm_option[i])\n",
        "  mmm_loss.append(loss)"
      ],
      "execution_count": 0,
      "outputs": []
    },
    {
      "cell_type": "code",
      "metadata": {
        "id": "aDh8EIrgXjL0",
        "colab_type": "code",
        "outputId": "82984d15-ee6b-417f-dfcf-9b07f9656918",
        "colab": {
          "base_uri": "https://localhost:8080/",
          "height": 34
        }
      },
      "source": [
        "a=weektime2[0]\n",
        "share_spx=400000/(15*SPY.loc[a,'Adj Close'])\n",
        "share_spx"
      ],
      "execution_count": 636,
      "outputs": [
        {
          "output_type": "execute_result",
          "data": {
            "text/plain": [
              "9.463896871019314"
            ]
          },
          "metadata": {
            "tags": []
          },
          "execution_count": 636
        }
      ]
    },
    {
      "cell_type": "code",
      "metadata": {
        "id": "DJE2YVxcXjJl",
        "colab_type": "code",
        "colab": {}
      },
      "source": [
        "spx_loss=[]\n",
        "for i in range(len(spx_option)-1):\n",
        "  loss=100*(spx_option[i+1]-spx_option[i])\n",
        "  spx_loss.append(-loss)"
      ],
      "execution_count": 0,
      "outputs": []
    },
    {
      "cell_type": "code",
      "metadata": {
        "id": "xkKwrh4kXjFr",
        "colab_type": "code",
        "outputId": "f288fc6c-44be-4d0e-8ca5-00693891c066",
        "colab": {
          "base_uri": "https://localhost:8080/",
          "height": 34
        }
      },
      "source": [
        "a=weektime2[0]\n",
        "share_meli=400000/(15*MELI.loc[a,'Adj Close'])\n",
        "share_meli"
      ],
      "execution_count": 638,
      "outputs": [
        {
          "output_type": "execute_result",
          "data": {
            "text/plain": [
              "49.74567546191857"
            ]
          },
          "metadata": {
            "tags": []
          },
          "execution_count": 638
        }
      ]
    },
    {
      "cell_type": "code",
      "metadata": {
        "id": "Ej4ZGz-vXjDQ",
        "colab_type": "code",
        "outputId": "b09f2282-e432-4610-fec2-ce2915090658",
        "colab": {
          "base_uri": "https://localhost:8080/",
          "height": 34
        }
      },
      "source": [
        "meli_loss=[]\n",
        "for i in range(len(meli_option)-1):\n",
        "  loss=100*(meli_option[i+1]-meli_option[i])\n",
        "  meli_loss.append(-loss)\n",
        "len(meli_loss)"
      ],
      "execution_count": 639,
      "outputs": [
        {
          "output_type": "execute_result",
          "data": {
            "text/plain": [
              "52"
            ]
          },
          "metadata": {
            "tags": []
          },
          "execution_count": 639
        }
      ]
    },
    {
      "cell_type": "code",
      "metadata": {
        "id": "WElGB4DkXi_6",
        "colab_type": "code",
        "outputId": "930fa3a1-74e9-4e24-c684-81ec3a2295db",
        "colab": {
          "base_uri": "https://localhost:8080/",
          "height": 238
        }
      },
      "source": [
        "stress_loss=np.sum([meli_loss,spx_loss,mmm_loss,bond_loss,stock_loss], axis = 0)\n",
        "stress_loss\n",
        "stress_loss.sort()\n",
        "stress_loss"
      ],
      "execution_count": 640,
      "outputs": [
        {
          "output_type": "execute_result",
          "data": {
            "text/plain": [
              "array([-96283.77470247, -69603.56399785, -68230.20260263, -45964.86866895,\n",
              "       -45086.63178559, -44277.97707408, -42612.79396376, -33721.97399632,\n",
              "       -32988.31207849, -25491.55045064, -25047.51684682, -23829.68998727,\n",
              "       -23139.31251859, -21475.49421608, -15359.86099838, -14240.49020662,\n",
              "       -13926.40194948, -12005.14514145, -11363.71811531, -10361.72317519,\n",
              "        -8844.50802682,  -8095.60830704,  -7824.19146668,  -7797.47393499,\n",
              "        -7604.30914842,  -7062.38814092,  -5966.69611591,  -2771.66655822,\n",
              "        -2378.74300386,  -1174.68649514,   -884.15724971,   1018.56291582,\n",
              "         1623.02786669,   3302.7404184 ,   4062.01398389,   4705.01357607,\n",
              "         6977.37533563,   9665.67837204,  10104.68702137,  10824.17600946,\n",
              "        12048.1878236 ,  12689.41696595,  12919.89762462,  13278.97997644,\n",
              "        14171.49710347,  14927.83040804,  19387.37837408,  25564.76281771,\n",
              "        27710.34066394,  44084.48242664,  59777.50997552,  74752.85049896])"
            ]
          },
          "metadata": {
            "tags": []
          },
          "execution_count": 640
        }
      ]
    },
    {
      "cell_type": "code",
      "metadata": {
        "id": "tYi-_f4H0gY3",
        "colab_type": "code",
        "outputId": "71e549c8-281c-45ac-d7fa-5373fbde3f09",
        "colab": {
          "base_uri": "https://localhost:8080/",
          "height": 394
        }
      },
      "source": [
        "sns.set_style(\"darkgrid\")\n",
        "plt.figure(figsize=(8,4),dpi=100)  \n",
        "sns.distplot(stress_loss,hist=True, kde=True, rug=False,norm_hist = True,\n",
        "kde_kws={'linestyle':'--'}, \n",
        "label='stress loss')"
      ],
      "execution_count": 642,
      "outputs": [
        {
          "output_type": "execute_result",
          "data": {
            "text/plain": [
              "<matplotlib.axes._subplots.AxesSubplot at 0x7f705efe1208>"
            ]
          },
          "metadata": {
            "tags": []
          },
          "execution_count": 642
        },
        {
          "output_type": "display_data",
          "data": {
            "image/png": "[encoded data removed]",
            "text/plain": [
              "<Figure size 800x400 with 1 Axes>"
            ]
          },
          "metadata": {
            "tags": []
          }
        }
      ]
    },
    {
      "cell_type": "code",
      "metadata": {
        "id": "27xKoXtW0gWP",
        "colab_type": "code",
        "outputId": "d4161765-ecd9-41ff-9092-c98c85dd1f72",
        "colab": {
          "base_uri": "https://localhost:8080/",
          "height": 379
        }
      },
      "source": [
        "sns.set_style(\"darkgrid\")\n",
        "plt.figure(figsize=(8,4),dpi=100)  \n",
        "sns.distplot(stress_loss, bins=10,hist=True, kde=False, rug=False,norm_hist = False,\n",
        "kde_kws={'linestyle':'--'}, \n",
        "label='stress loss')"
      ],
      "execution_count": 643,
      "outputs": [
        {
          "output_type": "execute_result",
          "data": {
            "text/plain": [
              "<matplotlib.axes._subplots.AxesSubplot at 0x7f705ef5fac8>"
            ]
          },
          "metadata": {
            "tags": []
          },
          "execution_count": 643
        },
        {
          "output_type": "display_data",
          "data": {
            "image/png": "[encoded data removed]",
            "text/plain": [
              "<Figure size 800x400 with 1 Axes>"
            ]
          },
          "metadata": {
            "tags": []
          }
        }
      ]
    },
    {
      "cell_type": "code",
      "metadata": {
        "id": "x4ZsmWLC0gTa",
        "colab_type": "code",
        "outputId": "7b6d7004-42f3-4f88-c175-b1ec16501e45",
        "colab": {
          "base_uri": "https://localhost:8080/",
          "height": 379
        }
      },
      "source": [
        "\n",
        "plt.figure(figsize=(10,4),dpi=100) \n",
        "length=len(stress_loss)\n",
        "x=np.linspace(-43000,36000,8000)\n",
        "y=[]\n",
        "for i in range(8000):\n",
        "  m=x[i]\n",
        "  function=[0]*(length+1)\n",
        "  if m<stress_loss[0]:\n",
        "    function[0]=0\n",
        "  if m>=stress_loss[(length-1)]:\n",
        "    function[length]=1\n",
        "  for j in range((length-1)):\n",
        "    if m>=stress_loss[j] and m<stress_loss[j+1]:\n",
        "      function[j+1]=(1+j)/length\n",
        "  b=0\n",
        "  for n in range((length+1)):\n",
        "    b+=function[n]\n",
        "  y.append(b)\n",
        "plt.plot(x,y)"
      ],
      "execution_count": 644,
      "outputs": [
        {
          "output_type": "execute_result",
          "data": {
            "text/plain": [
              "[<matplotlib.lines.Line2D at 0x7f705ee5c1d0>]"
            ]
          },
          "metadata": {
            "tags": []
          },
          "execution_count": 644
        },
        {
          "output_type": "display_data",
          "data": {
            "image/png": "[encoded data removed]",
            "text/plain": [
              "<Figure size 1000x400 with 1 Axes>"
            ]
          },
          "metadata": {
            "tags": []
          }
        }
      ]
    },
    {
      "cell_type": "code",
      "metadata": {
        "id": "GV53XsGgXi8G",
        "colab_type": "code",
        "outputId": "2e4bb3a5-2bfe-46b4-fa6a-fa5e4a48af59",
        "colab": {
          "base_uri": "https://localhost:8080/",
          "height": 34
        }
      },
      "source": [
        "52*0.99"
      ],
      "execution_count": 645,
      "outputs": [
        {
          "output_type": "execute_result",
          "data": {
            "text/plain": [
              "51.48"
            ]
          },
          "metadata": {
            "tags": []
          },
          "execution_count": 645
        }
      ]
    },
    {
      "cell_type": "code",
      "metadata": {
        "id": "DuDIQ49MXi3v",
        "colab_type": "code",
        "outputId": "e20e821b-0718-47ec-e946-7925b1bad555",
        "colab": {
          "base_uri": "https://localhost:8080/",
          "height": 34
        }
      },
      "source": [
        "52*0.95"
      ],
      "execution_count": 646,
      "outputs": [
        {
          "output_type": "execute_result",
          "data": {
            "text/plain": [
              "49.4"
            ]
          },
          "metadata": {
            "tags": []
          },
          "execution_count": 646
        }
      ]
    },
    {
      "cell_type": "markdown",
      "metadata": {
        "id": "bzWlL61x0Mpb",
        "colab_type": "text"
      },
      "source": [
        " **SVAR0.99=74752.85**\n",
        "\n",
        " **SVAR0.95=44084.48**"
      ]
    },
    {
      "cell_type": "markdown",
      "metadata": {
        "id": "x2xrguHJ1TAj",
        "colab_type": "text"
      },
      "source": [
        "# **Compare all three conditions above and give your own conclusion.**"
      ]
    },
    {
      "cell_type": "code",
      "metadata": {
        "id": "gp2GAGuC0aBc",
        "colab_type": "code",
        "colab": {}
      },
      "source": [
        ""
      ],
      "execution_count": 0,
      "outputs": []
    },
    {
      "cell_type": "code",
      "metadata": {
        "id": "Adv0KRT00Z_m",
        "colab_type": "code",
        "colab": {}
      },
      "source": [
        ""
      ],
      "execution_count": 0,
      "outputs": []
    },
    {
      "cell_type": "code",
      "metadata": {
        "id": "ocdrQ5IH0Z7S",
        "colab_type": "code",
        "colab": {}
      },
      "source": [
        ""
      ],
      "execution_count": 0,
      "outputs": []
    },
    {
      "cell_type": "code",
      "metadata": {
        "id": "9D_SR2oy0Z2K",
        "colab_type": "code",
        "colab": {}
      },
      "source": [
        ""
      ],
      "execution_count": 0,
      "outputs": []
    }
  ]
}