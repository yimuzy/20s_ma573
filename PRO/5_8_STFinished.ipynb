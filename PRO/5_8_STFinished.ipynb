{
  "nbformat": 4,
  "nbformat_minor": 0,
  "metadata": {
    "colab": {
      "name": "Untitled28.ipynb",
      "provenance": [],
      "authorship_tag": "ABX9TyOfACFt5A1kNfFW4ET3TOGo",
      "include_colab_link": true
    },
    "kernelspec": {
      "name": "python3",
      "display_name": "Python 3"
    }
  },
  "cells": [
    {
      "cell_type": "markdown",
      "metadata": {
        "id": "view-in-github",
        "colab_type": "text"
      },
      "source": [
        "<a href=\"https://colab.research.google.com/github/yimuzy/20s_ma573/blob/master/PRO/5_8_STFinished.ipynb\" target=\"_parent\"><img src=\"https://colab.research.google.com/assets/colab-badge.svg\" alt=\"Open In Colab\"/></a>"
      ]
    },
    {
      "cell_type": "markdown",
      "metadata": {
        "id": "dj7JBD-dPT-n",
        "colab_type": "text"
      },
      "source": [
        "# **1.a) loss distribution based on multivariate normal distribution**"
      ]
    },
    {
      "cell_type": "code",
      "metadata": {
        "id": "ZkysvLzvcQ1P",
        "colab_type": "code",
        "outputId": "2618d38c-3ebd-4bf1-a1dc-1f753c953378",
        "colab": {
          "base_uri": "https://localhost:8080/",
          "height": 170
        }
      },
      "source": [
        "!pip install yahoo-finance\n",
        "!pip install pandas_market_calendars\n",
        "\n",
        "import pandas as pd\n",
        "import pandas_market_calendars as pmc\n",
        "import pandas_datareader.data as drd\n",
        "import numpy as np\n",
        "import seaborn as sns\n",
        "from pandas_datareader import data as pdr"
      ],
      "execution_count": 162,
      "outputs": [
        {
          "output_type": "stream",
          "text": [
            "Requirement already satisfied: yahoo-finance in /usr/local/lib/python3.6/dist-packages (1.4.0)\n",
            "Requirement already satisfied: simplejson in /usr/local/lib/python3.6/dist-packages (from yahoo-finance) (3.17.0)\n",
            "Requirement already satisfied: pytz in /usr/local/lib/python3.6/dist-packages (from yahoo-finance) (2018.9)\n",
            "Requirement already satisfied: pandas_market_calendars in /usr/local/lib/python3.6/dist-packages (1.3.5)\n",
            "Requirement already satisfied: python-dateutil in /usr/local/lib/python3.6/dist-packages (from pandas_market_calendars) (2.8.1)\n",
            "Requirement already satisfied: pytz in /usr/local/lib/python3.6/dist-packages (from pandas_market_calendars) (2018.9)\n",
            "Requirement already satisfied: pandas>=0.18 in /usr/local/lib/python3.6/dist-packages (from pandas_market_calendars) (1.0.3)\n",
            "Requirement already satisfied: six>=1.5 in /usr/local/lib/python3.6/dist-packages (from python-dateutil->pandas_market_calendars) (1.12.0)\n",
            "Requirement already satisfied: numpy>=1.13.3 in /usr/local/lib/python3.6/dist-packages (from pandas>=0.18->pandas_market_calendars) (1.18.3)\n"
          ],
          "name": "stdout"
        }
      ]
    },
    {
      "cell_type": "code",
      "metadata": {
        "id": "riZ9q7xjcWSG",
        "colab_type": "code",
        "colab": {}
      },
      "source": [
        "AAPL= drd.get_data_yahoo('AAPL','01/01/2012','04/17/2020',interval='d')\n",
        "TSLA= drd.get_data_yahoo('TSLA','01/01/2012','04/17/2020',interval='d')\n",
        "GILD= drd.get_data_yahoo('GILD','01/01/2012','04/17/2020',interval='d')\n",
        "MELI= drd.get_data_yahoo('MELI','01/01/2012','04/17/2020',interval='d')\n",
        "MSFT= drd.get_data_yahoo('MSFT','01/01/2012','04/17/2020',interval='d')\n",
        "DIS= drd.get_data_yahoo('DIS','01/01/2012','04/17/2020',interval='d')\n",
        "NVDA= drd.get_data_yahoo('NVDA','01/01/2012','04/17/2020',interval='d')\n",
        "TCO= drd.get_data_yahoo('TCO','01/01/2012','04/17/2020',interval='d')\n",
        "MMM= drd.get_data_yahoo('MMM','01/01/2012','04/17/2020',interval='d')\n",
        "INCY= drd.get_data_yahoo('INCY','01/01/2012','04/17/2020',interval='d')\n",
        "IBM= drd.get_data_yahoo('IBM','01/01/2012','04/17/2020',interval='d')\n",
        "EPC= drd.get_data_yahoo('EPC','01/01/2012','04/17/2020',interval='d')\n",
        "SPY= drd.get_data_yahoo('SPY','01/01/2012','04/17/2020',interval='d')\n",
        "YELP= drd.get_data_yahoo('VEA','01/01/2012','04/17/2020',interval='d')\n",
        "VTI= drd.get_data_yahoo('VTI','01/01/2012','04/17/2020',interval='d')\n",
        "yelp_1= drd.get_data_yahoo('YELP','01/01/2012','04/17/2020',interval='d')\n",
        "SPY= drd.get_data_yahoo('SPY','01/01/2012','04/17/2020',interval='d')"
      ],
      "execution_count": 0,
      "outputs": []
    },
    {
      "cell_type": "code",
      "metadata": {
        "id": "_uM1EJ5-9GFp",
        "colab_type": "code",
        "outputId": "25e74879-7e7e-4ca8-f7a5-290e4fff1648",
        "colab": {
          "base_uri": "https://localhost:8080/",
          "height": 450
        }
      },
      "source": [
        "SPY"
      ],
      "execution_count": 3,
      "outputs": [
        {
          "output_type": "execute_result",
          "data": {
            "text/html": [
              "<div>\n",
              "<style scoped>\n",
              "    .dataframe tbody tr th:only-of-type {\n",
              "        vertical-align: middle;\n",
              "    }\n",
              "\n",
              "    .dataframe tbody tr th {\n",
              "        vertical-align: top;\n",
              "    }\n",
              "\n",
              "    .dataframe thead th {\n",
              "        text-align: right;\n",
              "    }\n",
              "</style>\n",
              "<table border=\"1\" class=\"dataframe\">\n",
              "  <thead>\n",
              "    <tr style=\"text-align: right;\">\n",
              "      <th></th>\n",
              "      <th>High</th>\n",
              "      <th>Low</th>\n",
              "      <th>Open</th>\n",
              "      <th>Close</th>\n",
              "      <th>Volume</th>\n",
              "      <th>Adj Close</th>\n",
              "    </tr>\n",
              "    <tr>\n",
              "      <th>Date</th>\n",
              "      <th></th>\n",
              "      <th></th>\n",
              "      <th></th>\n",
              "      <th></th>\n",
              "      <th></th>\n",
              "      <th></th>\n",
              "    </tr>\n",
              "  </thead>\n",
              "  <tbody>\n",
              "    <tr>\n",
              "      <th>2012-01-03</th>\n",
              "      <td>128.380005</td>\n",
              "      <td>127.430000</td>\n",
              "      <td>127.760002</td>\n",
              "      <td>127.500000</td>\n",
              "      <td>193697900.0</td>\n",
              "      <td>108.037117</td>\n",
              "    </tr>\n",
              "    <tr>\n",
              "      <th>2012-01-04</th>\n",
              "      <td>127.809998</td>\n",
              "      <td>126.709999</td>\n",
              "      <td>127.199997</td>\n",
              "      <td>127.699997</td>\n",
              "      <td>127186500.0</td>\n",
              "      <td>108.206604</td>\n",
              "    </tr>\n",
              "    <tr>\n",
              "      <th>2012-01-05</th>\n",
              "      <td>128.229996</td>\n",
              "      <td>126.430000</td>\n",
              "      <td>127.010002</td>\n",
              "      <td>128.039993</td>\n",
              "      <td>173895000.0</td>\n",
              "      <td>108.494698</td>\n",
              "    </tr>\n",
              "    <tr>\n",
              "      <th>2012-01-06</th>\n",
              "      <td>128.220001</td>\n",
              "      <td>127.290001</td>\n",
              "      <td>128.199997</td>\n",
              "      <td>127.709999</td>\n",
              "      <td>148050000.0</td>\n",
              "      <td>108.215065</td>\n",
              "    </tr>\n",
              "    <tr>\n",
              "      <th>2012-01-09</th>\n",
              "      <td>128.179993</td>\n",
              "      <td>127.410004</td>\n",
              "      <td>128.000000</td>\n",
              "      <td>128.020004</td>\n",
              "      <td>99530200.0</td>\n",
              "      <td>108.477776</td>\n",
              "    </tr>\n",
              "    <tr>\n",
              "      <th>...</th>\n",
              "      <td>...</td>\n",
              "      <td>...</td>\n",
              "      <td>...</td>\n",
              "      <td>...</td>\n",
              "      <td>...</td>\n",
              "      <td>...</td>\n",
              "    </tr>\n",
              "    <tr>\n",
              "      <th>2020-04-13</th>\n",
              "      <td>277.510010</td>\n",
              "      <td>271.410004</td>\n",
              "      <td>277.140015</td>\n",
              "      <td>275.660004</td>\n",
              "      <td>114839100.0</td>\n",
              "      <td>275.660004</td>\n",
              "    </tr>\n",
              "    <tr>\n",
              "      <th>2020-04-14</th>\n",
              "      <td>284.899994</td>\n",
              "      <td>275.510010</td>\n",
              "      <td>280.980011</td>\n",
              "      <td>283.790009</td>\n",
              "      <td>134143400.0</td>\n",
              "      <td>283.790009</td>\n",
              "    </tr>\n",
              "    <tr>\n",
              "      <th>2020-04-15</th>\n",
              "      <td>283.940002</td>\n",
              "      <td>275.459991</td>\n",
              "      <td>277.570007</td>\n",
              "      <td>277.760010</td>\n",
              "      <td>121775000.0</td>\n",
              "      <td>277.760010</td>\n",
              "    </tr>\n",
              "    <tr>\n",
              "      <th>2020-04-16</th>\n",
              "      <td>280.029999</td>\n",
              "      <td>275.760010</td>\n",
              "      <td>279.149994</td>\n",
              "      <td>279.100006</td>\n",
              "      <td>131798300.0</td>\n",
              "      <td>279.100006</td>\n",
              "    </tr>\n",
              "    <tr>\n",
              "      <th>2020-04-17</th>\n",
              "      <td>287.299988</td>\n",
              "      <td>282.399994</td>\n",
              "      <td>285.380005</td>\n",
              "      <td>286.640015</td>\n",
              "      <td>146684800.0</td>\n",
              "      <td>286.640015</td>\n",
              "    </tr>\n",
              "  </tbody>\n",
              "</table>\n",
              "<p>2086 rows × 6 columns</p>\n",
              "</div>"
            ],
            "text/plain": [
              "                  High         Low  ...       Volume   Adj Close\n",
              "Date                                ...                         \n",
              "2012-01-03  128.380005  127.430000  ...  193697900.0  108.037117\n",
              "2012-01-04  127.809998  126.709999  ...  127186500.0  108.206604\n",
              "2012-01-05  128.229996  126.430000  ...  173895000.0  108.494698\n",
              "2012-01-06  128.220001  127.290001  ...  148050000.0  108.215065\n",
              "2012-01-09  128.179993  127.410004  ...   99530200.0  108.477776\n",
              "...                ...         ...  ...          ...         ...\n",
              "2020-04-13  277.510010  271.410004  ...  114839100.0  275.660004\n",
              "2020-04-14  284.899994  275.510010  ...  134143400.0  283.790009\n",
              "2020-04-15  283.940002  275.459991  ...  121775000.0  277.760010\n",
              "2020-04-16  280.029999  275.760010  ...  131798300.0  279.100006\n",
              "2020-04-17  287.299988  282.399994  ...  146684800.0  286.640015\n",
              "\n",
              "[2086 rows x 6 columns]"
            ]
          },
          "metadata": {
            "tags": []
          },
          "execution_count": 3
        }
      ]
    },
    {
      "cell_type": "code",
      "metadata": {
        "id": "zWeBr9XBcXCW",
        "colab_type": "code",
        "colab": {}
      },
      "source": [
        "import pandas_market_calendars as mcal\n",
        "nyse = mcal.get_calendar('NYSE')\n",
        "tradingdays = nyse.schedule(start_date='2012-01-01', end_date='2020-04-17')\n",
        "tradingdays1=tradingdays.index"
      ],
      "execution_count": 0,
      "outputs": []
    },
    {
      "cell_type": "code",
      "metadata": {
        "id": "oNwt9whucXGq",
        "colab_type": "code",
        "colab": {}
      },
      "source": [
        "nan_date=tradingdays.index[:41]\n",
        "\n",
        "ADD= pd.DataFrame(columns=['High','Low','Open','Close','Volume','Adj Close'],index=nan_date)\n",
        "tickers=['SPY','YELP']\n",
        "port = pdr.get_data_yahoo(tickers, start=\"2012-01-01\", end=\"2020-04-17\")['Adj Close']\n",
        "log_port=np.log(port)"
      ],
      "execution_count": 0,
      "outputs": []
    },
    {
      "cell_type": "code",
      "metadata": {
        "id": "SQlYLrYtDLGM",
        "colab_type": "code",
        "outputId": "e49c17b7-15ae-4113-a502-a8b4d5d1b713",
        "colab": {
          "base_uri": "https://localhost:8080/",
          "height": 450
        }
      },
      "source": [
        "for i in range(41):\n",
        "  time_win=log_port.iloc[41-i:1047-i]['YELP']\n",
        "  log_return=[]\n",
        "  for j in range(1005):\n",
        "    log_return.append(time_win[j+1]-time_win[j])\n",
        "  u=np.mean(log_return)\n",
        "  var=np.var(log_return)\n",
        "  a=np.random.normal(u,var,1)\n",
        "  log_port.iloc[40-i]['YELP']=log_port.iloc[41-i]['YELP']-a\n",
        "yelp_update=np.exp(log_port)\n",
        "\n",
        "for i in range(41):\n",
        "  ADD.iloc[i]['Adj Close']=yelp_update.iloc[i]['YELP']\n",
        "\n",
        "for i in range(2045):\n",
        "  YELP.iloc[i+41]['Adj Close']=yelp_1.iloc[i]['Adj Close'].item()\n",
        "for i in range(41):\n",
        "  YELP.iloc[i]['Adj Close']=ADD.iloc[i]['Adj Close'].item()\n",
        "\n",
        "YELP"
      ],
      "execution_count": 6,
      "outputs": [
        {
          "output_type": "execute_result",
          "data": {
            "text/html": [
              "<div>\n",
              "<style scoped>\n",
              "    .dataframe tbody tr th:only-of-type {\n",
              "        vertical-align: middle;\n",
              "    }\n",
              "\n",
              "    .dataframe tbody tr th {\n",
              "        vertical-align: top;\n",
              "    }\n",
              "\n",
              "    .dataframe thead th {\n",
              "        text-align: right;\n",
              "    }\n",
              "</style>\n",
              "<table border=\"1\" class=\"dataframe\">\n",
              "  <thead>\n",
              "    <tr style=\"text-align: right;\">\n",
              "      <th></th>\n",
              "      <th>High</th>\n",
              "      <th>Low</th>\n",
              "      <th>Open</th>\n",
              "      <th>Close</th>\n",
              "      <th>Volume</th>\n",
              "      <th>Adj Close</th>\n",
              "    </tr>\n",
              "    <tr>\n",
              "      <th>Date</th>\n",
              "      <th></th>\n",
              "      <th></th>\n",
              "      <th></th>\n",
              "      <th></th>\n",
              "      <th></th>\n",
              "      <th></th>\n",
              "    </tr>\n",
              "  </thead>\n",
              "  <tbody>\n",
              "    <tr>\n",
              "      <th>2012-01-03</th>\n",
              "      <td>31.570000</td>\n",
              "      <td>31.250000</td>\n",
              "      <td>31.260000</td>\n",
              "      <td>31.450001</td>\n",
              "      <td>8276700.0</td>\n",
              "      <td>25.165395</td>\n",
              "    </tr>\n",
              "    <tr>\n",
              "      <th>2012-01-04</th>\n",
              "      <td>31.350000</td>\n",
              "      <td>31.070000</td>\n",
              "      <td>31.290001</td>\n",
              "      <td>31.270000</td>\n",
              "      <td>2609200.0</td>\n",
              "      <td>25.222378</td>\n",
              "    </tr>\n",
              "    <tr>\n",
              "      <th>2012-01-05</th>\n",
              "      <td>30.850000</td>\n",
              "      <td>30.590000</td>\n",
              "      <td>30.770000</td>\n",
              "      <td>30.820000</td>\n",
              "      <td>2095900.0</td>\n",
              "      <td>25.214946</td>\n",
              "    </tr>\n",
              "    <tr>\n",
              "      <th>2012-01-06</th>\n",
              "      <td>30.730000</td>\n",
              "      <td>30.330000</td>\n",
              "      <td>30.730000</td>\n",
              "      <td>30.459999</td>\n",
              "      <td>2044000.0</td>\n",
              "      <td>25.169600</td>\n",
              "    </tr>\n",
              "    <tr>\n",
              "      <th>2012-01-09</th>\n",
              "      <td>30.620001</td>\n",
              "      <td>30.320000</td>\n",
              "      <td>30.610001</td>\n",
              "      <td>30.530001</td>\n",
              "      <td>1652200.0</td>\n",
              "      <td>25.232457</td>\n",
              "    </tr>\n",
              "    <tr>\n",
              "      <th>...</th>\n",
              "      <td>...</td>\n",
              "      <td>...</td>\n",
              "      <td>...</td>\n",
              "      <td>...</td>\n",
              "      <td>...</td>\n",
              "      <td>...</td>\n",
              "    </tr>\n",
              "    <tr>\n",
              "      <th>2020-04-13</th>\n",
              "      <td>34.740002</td>\n",
              "      <td>34.200001</td>\n",
              "      <td>34.669998</td>\n",
              "      <td>34.500000</td>\n",
              "      <td>34969000.0</td>\n",
              "      <td>19.139999</td>\n",
              "    </tr>\n",
              "    <tr>\n",
              "      <th>2020-04-14</th>\n",
              "      <td>35.369999</td>\n",
              "      <td>34.970001</td>\n",
              "      <td>35.029999</td>\n",
              "      <td>35.119999</td>\n",
              "      <td>21511100.0</td>\n",
              "      <td>19.510000</td>\n",
              "    </tr>\n",
              "    <tr>\n",
              "      <th>2020-04-15</th>\n",
              "      <td>34.240002</td>\n",
              "      <td>33.869999</td>\n",
              "      <td>34.060001</td>\n",
              "      <td>33.980000</td>\n",
              "      <td>22435900.0</td>\n",
              "      <td>18.590000</td>\n",
              "    </tr>\n",
              "    <tr>\n",
              "      <th>2020-04-16</th>\n",
              "      <td>34.209999</td>\n",
              "      <td>33.700001</td>\n",
              "      <td>34.110001</td>\n",
              "      <td>34.020000</td>\n",
              "      <td>36469000.0</td>\n",
              "      <td>18.340000</td>\n",
              "    </tr>\n",
              "    <tr>\n",
              "      <th>2020-04-17</th>\n",
              "      <td>35.029999</td>\n",
              "      <td>34.580002</td>\n",
              "      <td>34.810001</td>\n",
              "      <td>34.980000</td>\n",
              "      <td>27888500.0</td>\n",
              "      <td>19.700001</td>\n",
              "    </tr>\n",
              "  </tbody>\n",
              "</table>\n",
              "<p>2086 rows × 6 columns</p>\n",
              "</div>"
            ],
            "text/plain": [
              "                 High        Low       Open      Close      Volume  Adj Close\n",
              "Date                                                                         \n",
              "2012-01-03  31.570000  31.250000  31.260000  31.450001   8276700.0  25.165395\n",
              "2012-01-04  31.350000  31.070000  31.290001  31.270000   2609200.0  25.222378\n",
              "2012-01-05  30.850000  30.590000  30.770000  30.820000   2095900.0  25.214946\n",
              "2012-01-06  30.730000  30.330000  30.730000  30.459999   2044000.0  25.169600\n",
              "2012-01-09  30.620001  30.320000  30.610001  30.530001   1652200.0  25.232457\n",
              "...               ...        ...        ...        ...         ...        ...\n",
              "2020-04-13  34.740002  34.200001  34.669998  34.500000  34969000.0  19.139999\n",
              "2020-04-14  35.369999  34.970001  35.029999  35.119999  21511100.0  19.510000\n",
              "2020-04-15  34.240002  33.869999  34.060001  33.980000  22435900.0  18.590000\n",
              "2020-04-16  34.209999  33.700001  34.110001  34.020000  36469000.0  18.340000\n",
              "2020-04-17  35.029999  34.580002  34.810001  34.980000  27888500.0  19.700001\n",
              "\n",
              "[2086 rows x 6 columns]"
            ]
          },
          "metadata": {
            "tags": []
          },
          "execution_count": 6
        }
      ]
    },
    {
      "cell_type": "code",
      "metadata": {
        "id": "rnrUpqaicXJ4",
        "colab_type": "code",
        "outputId": "4aace9a6-b753-415f-8db3-bd7257276414",
        "colab": {
          "base_uri": "https://localhost:8080/",
          "height": 238
        }
      },
      "source": [
        "stock_list=[AAPL,TSLA,GILD,MELI,MSFT,DIS,NVDA,TCO,MMM,INCY,IBM,EPC,SPY,YELP,VTI]\n",
        "index_list=['AAPL','TSLA','GILD','MELI','MSFT','DIS','NVDA','TCO','MMM','INCY','IBM','EPC','SPY','YELP','VTI']\n",
        "log_price=[]\n",
        "for i in range(15):\n",
        "  stock_log=np.log(stock_list[i]['Adj Close'])\n",
        "  log_price.append(stock_log)\n",
        "log_price[0]"
      ],
      "execution_count": 7,
      "outputs": [
        {
          "output_type": "execute_result",
          "data": {
            "text/plain": [
              "Date\n",
              "2012-01-03    3.931726\n",
              "2012-01-04    3.937086\n",
              "2012-01-05    3.948127\n",
              "2012-01-06    3.958526\n",
              "2012-01-09    3.956938\n",
              "                ...   \n",
              "2020-04-13    5.610387\n",
              "2020-04-14    5.659656\n",
              "2020-04-15    5.650487\n",
              "2020-04-16    5.658402\n",
              "2020-04-17    5.644740\n",
              "Name: Adj Close, Length: 2086, dtype: float64"
            ]
          },
          "metadata": {
            "tags": []
          },
          "execution_count": 7
        }
      ]
    },
    {
      "cell_type": "code",
      "metadata": {
        "id": "qWSHLGVqcXV4",
        "colab_type": "code",
        "outputId": "184fd84f-5af3-46ab-b20a-59fab380a6d4",
        "colab": {
          "base_uri": "https://localhost:8080/",
          "height": 34
        }
      },
      "source": [
        "var_list=[]\n",
        "for i in range(15):\n",
        "  a=log_price[i].var()\n",
        "  var_list.append(a)\n",
        "sort_list=var_list.copy()\n",
        "sort_list.sort()\n",
        "choose_list=sort_list[-4:]\n",
        "name_list=[]\n",
        "for i in range(4):\n",
        "  a=choose_list[i]\n",
        "  b=var_list.index(a)\n",
        "  name_list.append(index_list[b])\n",
        "name_list"
      ],
      "execution_count": 8,
      "outputs": [
        {
          "output_type": "execute_result",
          "data": {
            "text/plain": [
              "['INCY', 'MELI', 'TSLA', 'NVDA']"
            ]
          },
          "metadata": {
            "tags": []
          },
          "execution_count": 8
        }
      ]
    },
    {
      "cell_type": "code",
      "metadata": {
        "id": "Q82rDmAgKK6f",
        "colab_type": "code",
        "outputId": "280fab6d-3d8a-4dde-cb06-a026ac9a8c10",
        "colab": {
          "base_uri": "https://localhost:8080/",
          "height": 71
        }
      },
      "source": [
        "weektime=[]\n",
        "for i in tradingdays1:\n",
        "  if i.weekday() == 2:\n",
        "    weektime.append(i)\n",
        "\n",
        "nan_list=[]\n",
        "nan_index=[]\n",
        "for i in range(422):\n",
        "  if weektime[i+1]-weektime[i] != pd.Timedelta('7 days'):\n",
        "    nan_list.append(weektime[i])\n",
        "    nan_index.append(i)\n",
        "\n",
        "\n",
        "#weektime: wednesday date list\n",
        "#weektime[-1]\n",
        "print(nan_index)\n",
        "print(nan_list)\n",
        "#找到缺失tradingday的周三 以周二数据代替"
      ],
      "execution_count": 9,
      "outputs": [
        {
          "output_type": "stream",
          "text": [
            "[25, 101, 335, 356, 410]\n",
            "[Timestamp('2012-06-27 00:00:00', freq='C'), Timestamp('2013-12-18 00:00:00', freq='C'), Timestamp('2018-06-27 00:00:00', freq='C'), Timestamp('2018-11-28 00:00:00', freq='C'), Timestamp('2019-12-18 00:00:00', freq='C')]\n"
          ],
          "name": "stdout"
        }
      ]
    },
    {
      "cell_type": "code",
      "metadata": {
        "id": "IV_KVh-7lDX_",
        "colab_type": "code",
        "outputId": "ab845db0-193f-4a4d-fac3-ff0d19957699",
        "colab": {
          "base_uri": "https://localhost:8080/",
          "height": 34
        }
      },
      "source": [
        "p1=pd.Timestamp(2012,7,3)\n",
        "p2=pd.Timestamp(2013,12,24)\n",
        "p3=pd.Timestamp(2013,12,31)\n",
        "p4=pd.Timestamp(2018,7,3)\n",
        "p5=pd.Timestamp(2018,12,4)\n",
        "p6=pd.Timestamp(2019,12,24)\n",
        "p7=pd.Timestamp(2019,12,31)\n",
        "weektime.insert(26,p1)\n",
        "weektime.insert(103,p2)\n",
        "weektime.insert(104,p3)\n",
        "weektime.insert(339,p4)\n",
        "weektime.insert(361,p5)\n",
        "weektime.insert(416,p6)\n",
        "weektime.insert(417,p7)\n",
        "len(weektime)"
      ],
      "execution_count": 10,
      "outputs": [
        {
          "output_type": "execute_result",
          "data": {
            "text/plain": [
              "433"
            ]
          },
          "metadata": {
            "tags": []
          },
          "execution_count": 10
        }
      ]
    },
    {
      "cell_type": "code",
      "metadata": {
        "id": "swdr_19-9kDh",
        "colab_type": "code",
        "colab": {}
      },
      "source": [
        "from datetime import date\n",
        "total_num=len(tradingdays)\n",
        "date_list=[]\n",
        "for i in range(total_num-1):\n",
        "  if tradingdays.index[i].day > tradingdays.index[i+1].day:\n",
        "    date_list.append(tradingdays.index[i])\n",
        "\n",
        "#date_list 每个月最后一个交易日列表\n",
        "#date_list"
      ],
      "execution_count": 0,
      "outputs": []
    },
    {
      "cell_type": "code",
      "metadata": {
        "id": "8Xx9vZB39j_B",
        "colab_type": "code",
        "colab": {}
      },
      "source": [
        "index_list=['AAPL','TSLA','GILD','MELI','MSFT','DIS','NVDA','TCO','MMM','INCY','IBM','EPC','SPY','YELP','VTI']\n",
        "\n",
        "def new_portfolio():\n",
        "    res = pd.DataFrame(columns=['Share', 'Adj Close'],index=pd.Series(index_list))\n",
        "    return res\n",
        "\n",
        "my_port = new_portfolio()\n",
        "#my_port portfolio模型"
      ],
      "execution_count": 0,
      "outputs": []
    },
    {
      "cell_type": "code",
      "metadata": {
        "id": "wy_U-bVZ9j6E",
        "colab_type": "code",
        "colab": {}
      },
      "source": [
        "update_list=[] #所有天的portfolio\n",
        "\n",
        "for i in range(len(index_list)):\n",
        "    a=index_list[i]\n",
        "    my_port.loc[a]['Adj Close']=stock_list[i].loc['2012-01-03']['Adj Close']\n",
        "update_list.append(my_port)\n",
        "\n",
        "for j in range(len(date_list)):\n",
        "  b=date_list[j]\n",
        "  my_port=new_portfolio()\n",
        "  for i in range(len(index_list)):\n",
        "    a=index_list[i]\n",
        "    my_port.loc[a]['Adj Close']=stock_list[i].loc[b]['Adj Close']\n",
        "  update_list.append(my_port)\n",
        "\n",
        "#更新所有portfolio adjclose这一列\n"
      ],
      "execution_count": 0,
      "outputs": []
    },
    {
      "cell_type": "code",
      "metadata": {
        "id": "UxTjIDepcXYf",
        "colab_type": "code",
        "colab": {}
      },
      "source": [
        "for i in range(len(index_list)):\n",
        "    a=index_list[i]\n",
        "    update_list[0].loc[a]['Share']=(400000/15)/update_list[0].loc[a]['Adj Close']\n",
        "\n",
        "def total_value(portfolio1,portfolio2):\n",
        "  res=0\n",
        "  for i in range(len(index_list)):\n",
        "    a=index_list[i]\n",
        "    res+=portfolio1.loc[a]['Share']*portfolio2.loc[a]['Adj Close']\n",
        "  return res\n",
        "\n",
        "for i in range(len(update_list)-1):\n",
        "  to_value=total_value(update_list[i],update_list[i+1])\n",
        "  for j in range(len(index_list)):\n",
        "    a=index_list[j]\n",
        "    update_list[i+1].loc[a]['Share']=(to_value/15)/update_list[i+1].loc[a]['Adj Close']\n",
        "\n",
        "#更新所有portfolio share这一列\n",
        "#update——list 包含所有的portfolio zaiyuemojiaoyiri\n",
        "\n",
        "#截止到此，我们获取了每月最后一日的portfolio的信息"
      ],
      "execution_count": 0,
      "outputs": []
    },
    {
      "cell_type": "code",
      "metadata": {
        "id": "AjkILQhbQ700",
        "colab_type": "code",
        "outputId": "c00d8e13-828c-40fb-b723-9d449eaa8cd4",
        "colab": {
          "base_uri": "https://localhost:8080/",
          "height": 34
        }
      },
      "source": [
        "week_stock=[] #所有Wednesday的portfolio\n",
        "\n",
        "for j in range(len(weektime)):\n",
        "  b=weektime[j]\n",
        "  my_port=new_portfolio()\n",
        "  for i in range(len(index_list)):\n",
        "    a=index_list[i]\n",
        "    my_port.loc[a]['Adj Close']=stock_list[i].loc[b]['Adj Close']\n",
        "  week_stock.append(my_port)\n",
        "len(week_stock)"
      ],
      "execution_count": 15,
      "outputs": [
        {
          "output_type": "execute_result",
          "data": {
            "text/plain": [
              "433"
            ]
          },
          "metadata": {
            "tags": []
          },
          "execution_count": 15
        }
      ]
    },
    {
      "cell_type": "code",
      "metadata": {
        "id": "mwcEAnC5Q7vs",
        "colab_type": "code",
        "colab": {}
      },
      "source": [
        "m=0\n",
        "for i in range(len(week_stock)):\n",
        "  if weektime[i].month <= date_list[m].month:\n",
        "    for j in range(len(index_list)):\n",
        "      a=index_list[j]\n",
        "      week_stock[i].loc[a]['Share']=update_list[m+1].loc[a]['Share']\n",
        "  else:\n",
        "    m+=1\n",
        "    for j in range(len(index_list)):\n",
        "      a=index_list[j]\n",
        "      week_stock[i].loc[a]['Share']=update_list[m+1].loc[a]['Share']\n",
        "\n",
        "#week_stock all updated"
      ],
      "execution_count": 0,
      "outputs": []
    },
    {
      "cell_type": "code",
      "metadata": {
        "id": "xxm17pHdQ7gQ",
        "colab_type": "code",
        "outputId": "8d259525-d3f5-4f9f-ac60-6ca5c8d71dd5",
        "colab": {
          "base_uri": "https://localhost:8080/",
          "height": 34
        }
      },
      "source": [
        "len(week_stock)\n",
        "len(weektime)"
      ],
      "execution_count": 17,
      "outputs": [
        {
          "output_type": "execute_result",
          "data": {
            "text/plain": [
              "433"
            ]
          },
          "metadata": {
            "tags": []
          },
          "execution_count": 17
        }
      ]
    },
    {
      "cell_type": "code",
      "metadata": {
        "id": "XPXHk2SvQ7au",
        "colab_type": "code",
        "outputId": "9e19e723-1aa6-4598-ece8-f06406f3d878",
        "colab": {
          "base_uri": "https://localhost:8080/",
          "height": 34
        }
      },
      "source": [
        "weektime[208]"
      ],
      "execution_count": 18,
      "outputs": [
        {
          "output_type": "execute_result",
          "data": {
            "text/plain": [
              "Timestamp('2015-12-30 00:00:00', freq='C')"
            ]
          },
          "metadata": {
            "tags": []
          },
          "execution_count": 18
        }
      ]
    },
    {
      "cell_type": "code",
      "metadata": {
        "id": "wzO7DWkLQ7Vq",
        "colab_type": "code",
        "outputId": "8f32bc2c-86e6-4a39-b4ff-e3ee786786c6",
        "colab": {
          "base_uri": "https://localhost:8080/",
          "height": 34
        }
      },
      "source": [
        "a=weektime[0]\n",
        "AAPL.loc[a]['Adj Close']\n",
        "a"
      ],
      "execution_count": 19,
      "outputs": [
        {
          "output_type": "execute_result",
          "data": {
            "text/plain": [
              "Timestamp('2012-01-04 00:00:00', freq='C')"
            ]
          },
          "metadata": {
            "tags": []
          },
          "execution_count": 19
        }
      ]
    },
    {
      "cell_type": "code",
      "metadata": {
        "id": "Mhu0yGXvQ7Lj",
        "colab_type": "code",
        "colab": {}
      },
      "source": [
        "stock_list=[AAPL,TSLA,GILD,MELI,MSFT,DIS,NVDA,TCO,MMM,INCY,IBM,EPC,SPY,YELP,VTI]\n",
        "log_return=[]\n",
        "for j in range(15):\n",
        "  price_list=[]\n",
        "  for i in range(len(weektime)):\n",
        "    b=weektime[i]\n",
        "    a=stock_list[j].loc[b]['Adj Close']\n",
        "    price_list.append(a)\n",
        "  stock_log=np.log(price_list)\n",
        "  len_num=len(stock_log)\n",
        "  for j in range(len_num-1):\n",
        "    stock_log[j]=stock_log[j+1]-stock_log[j]\n",
        "  log_return.append(stock_log[:-1])\n",
        "#log_return for 15 equities"
      ],
      "execution_count": 0,
      "outputs": []
    },
    {
      "cell_type": "markdown",
      "metadata": {
        "id": "7s_PsiJaIY1J",
        "colab_type": "text"
      },
      "source": [
        "现在以四年的时间长度rolling来estimate multivariate normal的参数 再compute新log return 再算新loss 也就是我们算的是2016年第一个周三到2020年三月份最后一个周三 computed losses."
      ]
    },
    {
      "cell_type": "code",
      "metadata": {
        "id": "qHxsaAxdQ7Gp",
        "colab_type": "code",
        "outputId": "e1f95e49-e55e-4e7a-a5aa-2d3fde4b7683",
        "colab": {
          "base_uri": "https://localhost:8080/",
          "height": 34
        }
      },
      "source": [
        "u_list=[]\n",
        "for j in range(225):\n",
        "  u=[]\n",
        "  for i in range(15):\n",
        "    a=log_return[i][j:(j+209)]\n",
        "    u.append(a.mean())\n",
        "  u_list.append(u)\n",
        "len(u_list)"
      ],
      "execution_count": 21,
      "outputs": [
        {
          "output_type": "execute_result",
          "data": {
            "text/plain": [
              "225"
            ]
          },
          "metadata": {
            "tags": []
          },
          "execution_count": 21
        }
      ]
    },
    {
      "cell_type": "code",
      "metadata": {
        "id": "BUcTewu6Q7Bs",
        "colab_type": "code",
        "outputId": "2b2967cb-9e5e-4b01-c42a-a5dbd52495d5",
        "colab": {
          "base_uri": "https://localhost:8080/",
          "height": 514
        }
      },
      "source": [
        "cov_list=[]\n",
        "for j in range(225):\n",
        "  df_temp={}\n",
        "  for i in range(15):\n",
        "    df_temp[index_list[i]]=log_return[i][j:(j+209)]\n",
        "  df = pd.DataFrame(df_temp)\n",
        "  cov_mat=df.cov()  \n",
        "  cov_list.append(cov_mat)\n",
        "\n",
        "cov_list[0]"
      ],
      "execution_count": 22,
      "outputs": [
        {
          "output_type": "execute_result",
          "data": {
            "text/html": [
              "<div>\n",
              "<style scoped>\n",
              "    .dataframe tbody tr th:only-of-type {\n",
              "        vertical-align: middle;\n",
              "    }\n",
              "\n",
              "    .dataframe tbody tr th {\n",
              "        vertical-align: top;\n",
              "    }\n",
              "\n",
              "    .dataframe thead th {\n",
              "        text-align: right;\n",
              "    }\n",
              "</style>\n",
              "<table border=\"1\" class=\"dataframe\">\n",
              "  <thead>\n",
              "    <tr style=\"text-align: right;\">\n",
              "      <th></th>\n",
              "      <th>AAPL</th>\n",
              "      <th>TSLA</th>\n",
              "      <th>GILD</th>\n",
              "      <th>MELI</th>\n",
              "      <th>MSFT</th>\n",
              "      <th>DIS</th>\n",
              "      <th>NVDA</th>\n",
              "      <th>TCO</th>\n",
              "      <th>MMM</th>\n",
              "      <th>INCY</th>\n",
              "      <th>IBM</th>\n",
              "      <th>EPC</th>\n",
              "      <th>SPY</th>\n",
              "      <th>YELP</th>\n",
              "      <th>VTI</th>\n",
              "    </tr>\n",
              "  </thead>\n",
              "  <tbody>\n",
              "    <tr>\n",
              "      <th>AAPL</th>\n",
              "      <td>0.001226</td>\n",
              "      <td>0.000265</td>\n",
              "      <td>0.000256</td>\n",
              "      <td>0.000636</td>\n",
              "      <td>0.000319</td>\n",
              "      <td>0.000299</td>\n",
              "      <td>0.000263</td>\n",
              "      <td>0.000155</td>\n",
              "      <td>0.000254</td>\n",
              "      <td>0.000332</td>\n",
              "      <td>0.000225</td>\n",
              "      <td>0.000296</td>\n",
              "      <td>0.000299</td>\n",
              "      <td>0.000468</td>\n",
              "      <td>0.000304</td>\n",
              "    </tr>\n",
              "    <tr>\n",
              "      <th>TSLA</th>\n",
              "      <td>0.000265</td>\n",
              "      <td>0.004452</td>\n",
              "      <td>0.000740</td>\n",
              "      <td>0.001214</td>\n",
              "      <td>0.000600</td>\n",
              "      <td>0.000514</td>\n",
              "      <td>0.000554</td>\n",
              "      <td>0.000089</td>\n",
              "      <td>0.000314</td>\n",
              "      <td>0.000956</td>\n",
              "      <td>0.000243</td>\n",
              "      <td>0.000156</td>\n",
              "      <td>0.000391</td>\n",
              "      <td>0.001640</td>\n",
              "      <td>0.000421</td>\n",
              "    </tr>\n",
              "    <tr>\n",
              "      <th>GILD</th>\n",
              "      <td>0.000256</td>\n",
              "      <td>0.000740</td>\n",
              "      <td>0.001728</td>\n",
              "      <td>0.000786</td>\n",
              "      <td>0.000225</td>\n",
              "      <td>0.000371</td>\n",
              "      <td>0.000184</td>\n",
              "      <td>0.000249</td>\n",
              "      <td>0.000298</td>\n",
              "      <td>0.000901</td>\n",
              "      <td>0.000107</td>\n",
              "      <td>0.000233</td>\n",
              "      <td>0.000307</td>\n",
              "      <td>0.000829</td>\n",
              "      <td>0.000320</td>\n",
              "    </tr>\n",
              "    <tr>\n",
              "      <th>MELI</th>\n",
              "      <td>0.000636</td>\n",
              "      <td>0.001214</td>\n",
              "      <td>0.000786</td>\n",
              "      <td>0.003159</td>\n",
              "      <td>0.000484</td>\n",
              "      <td>0.000535</td>\n",
              "      <td>0.000687</td>\n",
              "      <td>0.000206</td>\n",
              "      <td>0.000454</td>\n",
              "      <td>0.000581</td>\n",
              "      <td>0.000383</td>\n",
              "      <td>0.000430</td>\n",
              "      <td>0.000493</td>\n",
              "      <td>0.001974</td>\n",
              "      <td>0.000521</td>\n",
              "    </tr>\n",
              "    <tr>\n",
              "      <th>MSFT</th>\n",
              "      <td>0.000319</td>\n",
              "      <td>0.000600</td>\n",
              "      <td>0.000225</td>\n",
              "      <td>0.000484</td>\n",
              "      <td>0.001018</td>\n",
              "      <td>0.000331</td>\n",
              "      <td>0.000470</td>\n",
              "      <td>0.000174</td>\n",
              "      <td>0.000265</td>\n",
              "      <td>0.000231</td>\n",
              "      <td>0.000280</td>\n",
              "      <td>0.000178</td>\n",
              "      <td>0.000328</td>\n",
              "      <td>0.000461</td>\n",
              "      <td>0.000325</td>\n",
              "    </tr>\n",
              "    <tr>\n",
              "      <th>DIS</th>\n",
              "      <td>0.000299</td>\n",
              "      <td>0.000514</td>\n",
              "      <td>0.000371</td>\n",
              "      <td>0.000535</td>\n",
              "      <td>0.000331</td>\n",
              "      <td>0.000622</td>\n",
              "      <td>0.000377</td>\n",
              "      <td>0.000183</td>\n",
              "      <td>0.000294</td>\n",
              "      <td>0.000279</td>\n",
              "      <td>0.000199</td>\n",
              "      <td>0.000215</td>\n",
              "      <td>0.000296</td>\n",
              "      <td>0.000710</td>\n",
              "      <td>0.000301</td>\n",
              "    </tr>\n",
              "    <tr>\n",
              "      <th>NVDA</th>\n",
              "      <td>0.000263</td>\n",
              "      <td>0.000554</td>\n",
              "      <td>0.000184</td>\n",
              "      <td>0.000687</td>\n",
              "      <td>0.000470</td>\n",
              "      <td>0.000377</td>\n",
              "      <td>0.001276</td>\n",
              "      <td>0.000194</td>\n",
              "      <td>0.000297</td>\n",
              "      <td>0.000265</td>\n",
              "      <td>0.000239</td>\n",
              "      <td>0.000137</td>\n",
              "      <td>0.000302</td>\n",
              "      <td>0.000647</td>\n",
              "      <td>0.000311</td>\n",
              "    </tr>\n",
              "    <tr>\n",
              "      <th>TCO</th>\n",
              "      <td>0.000155</td>\n",
              "      <td>0.000089</td>\n",
              "      <td>0.000249</td>\n",
              "      <td>0.000206</td>\n",
              "      <td>0.000174</td>\n",
              "      <td>0.000183</td>\n",
              "      <td>0.000194</td>\n",
              "      <td>0.000625</td>\n",
              "      <td>0.000136</td>\n",
              "      <td>0.000184</td>\n",
              "      <td>0.000136</td>\n",
              "      <td>0.000131</td>\n",
              "      <td>0.000170</td>\n",
              "      <td>0.000300</td>\n",
              "      <td>0.000176</td>\n",
              "    </tr>\n",
              "    <tr>\n",
              "      <th>MMM</th>\n",
              "      <td>0.000254</td>\n",
              "      <td>0.000314</td>\n",
              "      <td>0.000298</td>\n",
              "      <td>0.000454</td>\n",
              "      <td>0.000265</td>\n",
              "      <td>0.000294</td>\n",
              "      <td>0.000297</td>\n",
              "      <td>0.000136</td>\n",
              "      <td>0.000436</td>\n",
              "      <td>0.000342</td>\n",
              "      <td>0.000168</td>\n",
              "      <td>0.000237</td>\n",
              "      <td>0.000263</td>\n",
              "      <td>0.000405</td>\n",
              "      <td>0.000267</td>\n",
              "    </tr>\n",
              "    <tr>\n",
              "      <th>INCY</th>\n",
              "      <td>0.000332</td>\n",
              "      <td>0.000956</td>\n",
              "      <td>0.000901</td>\n",
              "      <td>0.000581</td>\n",
              "      <td>0.000231</td>\n",
              "      <td>0.000279</td>\n",
              "      <td>0.000265</td>\n",
              "      <td>0.000184</td>\n",
              "      <td>0.000342</td>\n",
              "      <td>0.004734</td>\n",
              "      <td>-0.000012</td>\n",
              "      <td>0.000314</td>\n",
              "      <td>0.000307</td>\n",
              "      <td>0.000795</td>\n",
              "      <td>0.000340</td>\n",
              "    </tr>\n",
              "    <tr>\n",
              "      <th>IBM</th>\n",
              "      <td>0.000225</td>\n",
              "      <td>0.000243</td>\n",
              "      <td>0.000107</td>\n",
              "      <td>0.000383</td>\n",
              "      <td>0.000280</td>\n",
              "      <td>0.000199</td>\n",
              "      <td>0.000239</td>\n",
              "      <td>0.000136</td>\n",
              "      <td>0.000168</td>\n",
              "      <td>-0.000012</td>\n",
              "      <td>0.000595</td>\n",
              "      <td>0.000140</td>\n",
              "      <td>0.000196</td>\n",
              "      <td>0.000468</td>\n",
              "      <td>0.000193</td>\n",
              "    </tr>\n",
              "    <tr>\n",
              "      <th>EPC</th>\n",
              "      <td>0.000296</td>\n",
              "      <td>0.000156</td>\n",
              "      <td>0.000233</td>\n",
              "      <td>0.000430</td>\n",
              "      <td>0.000178</td>\n",
              "      <td>0.000215</td>\n",
              "      <td>0.000137</td>\n",
              "      <td>0.000131</td>\n",
              "      <td>0.000237</td>\n",
              "      <td>0.000314</td>\n",
              "      <td>0.000140</td>\n",
              "      <td>0.000798</td>\n",
              "      <td>0.000198</td>\n",
              "      <td>0.000230</td>\n",
              "      <td>0.000201</td>\n",
              "    </tr>\n",
              "    <tr>\n",
              "      <th>SPY</th>\n",
              "      <td>0.000299</td>\n",
              "      <td>0.000391</td>\n",
              "      <td>0.000307</td>\n",
              "      <td>0.000493</td>\n",
              "      <td>0.000328</td>\n",
              "      <td>0.000296</td>\n",
              "      <td>0.000302</td>\n",
              "      <td>0.000170</td>\n",
              "      <td>0.000263</td>\n",
              "      <td>0.000307</td>\n",
              "      <td>0.000196</td>\n",
              "      <td>0.000198</td>\n",
              "      <td>0.000270</td>\n",
              "      <td>0.000537</td>\n",
              "      <td>0.000274</td>\n",
              "    </tr>\n",
              "    <tr>\n",
              "      <th>YELP</th>\n",
              "      <td>0.000468</td>\n",
              "      <td>0.001640</td>\n",
              "      <td>0.000829</td>\n",
              "      <td>0.001974</td>\n",
              "      <td>0.000461</td>\n",
              "      <td>0.000710</td>\n",
              "      <td>0.000647</td>\n",
              "      <td>0.000300</td>\n",
              "      <td>0.000405</td>\n",
              "      <td>0.000795</td>\n",
              "      <td>0.000468</td>\n",
              "      <td>0.000230</td>\n",
              "      <td>0.000537</td>\n",
              "      <td>0.007777</td>\n",
              "      <td>0.000579</td>\n",
              "    </tr>\n",
              "    <tr>\n",
              "      <th>VTI</th>\n",
              "      <td>0.000304</td>\n",
              "      <td>0.000421</td>\n",
              "      <td>0.000320</td>\n",
              "      <td>0.000521</td>\n",
              "      <td>0.000325</td>\n",
              "      <td>0.000301</td>\n",
              "      <td>0.000311</td>\n",
              "      <td>0.000176</td>\n",
              "      <td>0.000267</td>\n",
              "      <td>0.000340</td>\n",
              "      <td>0.000193</td>\n",
              "      <td>0.000201</td>\n",
              "      <td>0.000274</td>\n",
              "      <td>0.000579</td>\n",
              "      <td>0.000282</td>\n",
              "    </tr>\n",
              "  </tbody>\n",
              "</table>\n",
              "</div>"
            ],
            "text/plain": [
              "          AAPL      TSLA      GILD  ...       SPY      YELP       VTI\n",
              "AAPL  0.001226  0.000265  0.000256  ...  0.000299  0.000468  0.000304\n",
              "TSLA  0.000265  0.004452  0.000740  ...  0.000391  0.001640  0.000421\n",
              "GILD  0.000256  0.000740  0.001728  ...  0.000307  0.000829  0.000320\n",
              "MELI  0.000636  0.001214  0.000786  ...  0.000493  0.001974  0.000521\n",
              "MSFT  0.000319  0.000600  0.000225  ...  0.000328  0.000461  0.000325\n",
              "DIS   0.000299  0.000514  0.000371  ...  0.000296  0.000710  0.000301\n",
              "NVDA  0.000263  0.000554  0.000184  ...  0.000302  0.000647  0.000311\n",
              "TCO   0.000155  0.000089  0.000249  ...  0.000170  0.000300  0.000176\n",
              "MMM   0.000254  0.000314  0.000298  ...  0.000263  0.000405  0.000267\n",
              "INCY  0.000332  0.000956  0.000901  ...  0.000307  0.000795  0.000340\n",
              "IBM   0.000225  0.000243  0.000107  ...  0.000196  0.000468  0.000193\n",
              "EPC   0.000296  0.000156  0.000233  ...  0.000198  0.000230  0.000201\n",
              "SPY   0.000299  0.000391  0.000307  ...  0.000270  0.000537  0.000274\n",
              "YELP  0.000468  0.001640  0.000829  ...  0.000537  0.007777  0.000579\n",
              "VTI   0.000304  0.000421  0.000320  ...  0.000274  0.000579  0.000282\n",
              "\n",
              "[15 rows x 15 columns]"
            ]
          },
          "metadata": {
            "tags": []
          },
          "execution_count": 22
        }
      ]
    },
    {
      "cell_type": "code",
      "metadata": {
        "id": "4RzeMX9eQ687",
        "colab_type": "code",
        "colab": {}
      },
      "source": [
        "linloss_list=[]\n",
        "for n in range(225):\n",
        "  linloss=0\n",
        "  var = np.random.multivariate_normal(mean=u_list[n], cov=cov_list[n]) \n",
        "  for j in range(len(index_list)):\n",
        "    a=index_list[j]\n",
        "    linloss+=week_stock[208+n].loc[a]['Share']*week_stock[208+n].loc[a]['Adj Close']*var[j]\n",
        "  linloss_list.append(-linloss)\n",
        "len(linloss_list)\n",
        "#229:2016diyigezhousan--2020.4.22\n",
        "linloss_equity=linloss_list[-14:]"
      ],
      "execution_count": 0,
      "outputs": []
    },
    {
      "cell_type": "code",
      "metadata": {
        "id": "5KXtzMeDQ62F",
        "colab_type": "code",
        "colab": {}
      },
      "source": [
        "import seaborn as sns \n",
        "import matplotlib.pyplot as plt\n",
        "def pdf_function1(loss,title):\n",
        "  sns.distplot(loss,color=\"black\",bins=50,kde=True)\n",
        "  plt.title(title)\n",
        "  plt.show()"
      ],
      "execution_count": 0,
      "outputs": []
    },
    {
      "cell_type": "code",
      "metadata": {
        "id": "xJVqMk4nQhvB",
        "colab_type": "code",
        "outputId": "0e724ef1-00ef-4729-8d46-dae77d4e1dd1",
        "colab": {
          "base_uri": "https://localhost:8080/",
          "height": 281
        }
      },
      "source": [
        "pdf_function1(linloss_equity,'equity linearized loss pdf')"
      ],
      "execution_count": 25,
      "outputs": [
        {
          "output_type": "display_data",
          "data": {
            "image/png": "[encoded data removed]",
            "text/plain": [
              "<Figure size 432x288 with 1 Axes>"
            ]
          },
          "metadata": {
            "tags": [],
            "needs_background": "light"
          }
        }
      ]
    },
    {
      "cell_type": "code",
      "metadata": {
        "id": "1gDKSZM5vIr-",
        "colab_type": "code",
        "colab": {}
      },
      "source": [
        "bond1=[2.258,2.310,2.324,2.383,2.233,2.209,2.242,2.245,2.365,2.376,2.396,2.368,2.273,2.264,2.108,2.175,2.126,2.044,1.858,1.712,1.423,1.870,1.375,1.257,1.330,1.260]\n",
        "bond3=[2.271,2.322,2.321,2.380,2.233,2.207,2.238,2.246,2.355,2.372,2.388,2.352,2.258,2.241,2.088,2.162,2.119,2.033,1.851,1.690,1.387,1.853,1.412,1.283,1.359,1.296]"
      ],
      "execution_count": 0,
      "outputs": []
    },
    {
      "cell_type": "code",
      "metadata": {
        "id": "Z7t-FOIYiXQ7",
        "colab_type": "code",
        "colab": {}
      },
      "source": [
        "bond30=[c*0.01 for c in bond3]\n",
        "bond10=[c*0.01 for c in bond1]"
      ],
      "execution_count": 0,
      "outputs": []
    },
    {
      "cell_type": "code",
      "metadata": {
        "id": "Uk-2ndyLk8Sb",
        "colab_type": "code",
        "outputId": "1b74851d-756c-4038-e402-af6020af912f",
        "colab": {
          "base_uri": "https://localhost:8080/",
          "height": 34
        }
      },
      "source": [
        "len(bond10)"
      ],
      "execution_count": 28,
      "outputs": [
        {
          "output_type": "execute_result",
          "data": {
            "text/plain": [
              "26"
            ]
          },
          "metadata": {
            "tags": []
          },
          "execution_count": 28
        }
      ]
    },
    {
      "cell_type": "code",
      "metadata": {
        "id": "OddwdFMyzqEh",
        "colab_type": "code",
        "colab": {}
      },
      "source": [
        "a30=15+9+30+31+31+29+31+30+31+30+31\n",
        "c=a30/365+27\n",
        "#2019.10.23 PERIOD"
      ],
      "execution_count": 0,
      "outputs": []
    },
    {
      "cell_type": "code",
      "metadata": {
        "id": "IpuMmZQyAu4W",
        "colab_type": "code",
        "colab": {}
      },
      "source": [
        "period_list1=[c,]\n",
        "period_list2=[c,]\n",
        "for i in range(25):\n",
        "  a30=a30-7\n",
        "  b1=a30/365+27\n",
        "  b2=a30/365+24\n",
        "  period_list1.append(b1)\n",
        "  period_list2.append(b2)\n",
        "\n",
        "period30=period_list1[12:]\n",
        "period10=period_list2[12:]"
      ],
      "execution_count": 0,
      "outputs": []
    },
    {
      "cell_type": "code",
      "metadata": {
        "id": "-cNkFGGNC1Xk",
        "colab_type": "code",
        "colab": {}
      },
      "source": [
        "yield_change10=[]\n",
        "yield_change30=[]\n",
        "for i in range(25):\n",
        "  a=bond30[i+1]-bond30[i]\n",
        "  b=bond10[i+1]-bond10[i]\n",
        "  yield_change10.append(b)\n",
        "  yield_change30.append(a)\n",
        "#yield_change30\n",
        "#yield_change10\n",
        "yieldchange=[np.array(yield_change10),np.array(yield_change30)]"
      ],
      "execution_count": 0,
      "outputs": []
    },
    {
      "cell_type": "code",
      "metadata": {
        "id": "-vDUXjXBEq6-",
        "colab_type": "code",
        "colab": {}
      },
      "source": [
        "u_list=[]\n",
        "for j in range(14):\n",
        "  u=[]\n",
        "  for i in range(2):\n",
        "    a=yieldchange[i][j:(j+12)]\n",
        "    u.append(a.mean())\n",
        "  u_list.append(u)"
      ],
      "execution_count": 0,
      "outputs": []
    },
    {
      "cell_type": "code",
      "metadata": {
        "id": "Ni02Vt1dEs1d",
        "colab_type": "code",
        "outputId": "07e1be71-99b0-4146-db4e-725d0b245082",
        "colab": {
          "base_uri": "https://localhost:8080/",
          "height": 111
        }
      },
      "source": [
        "cov_list=[]\n",
        "bond_index=['bond10','bond30']\n",
        "for j in range(14):\n",
        "  df_temp={}\n",
        "  for i in range(2):\n",
        "    df_temp[bond_index[i]]=yieldchange[i][j:(j+12)]\n",
        "  df = pd.DataFrame(df_temp)\n",
        "  cov_mat=df.cov()  \n",
        "  cov_list.append(cov_mat)\n",
        "\n",
        "cov_list[0]"
      ],
      "execution_count": 33,
      "outputs": [
        {
          "output_type": "execute_result",
          "data": {
            "text/html": [
              "<div>\n",
              "<style scoped>\n",
              "    .dataframe tbody tr th:only-of-type {\n",
              "        vertical-align: middle;\n",
              "    }\n",
              "\n",
              "    .dataframe tbody tr th {\n",
              "        vertical-align: top;\n",
              "    }\n",
              "\n",
              "    .dataframe thead th {\n",
              "        text-align: right;\n",
              "    }\n",
              "</style>\n",
              "<table border=\"1\" class=\"dataframe\">\n",
              "  <thead>\n",
              "    <tr style=\"text-align: right;\">\n",
              "      <th></th>\n",
              "      <th>bond10</th>\n",
              "      <th>bond30</th>\n",
              "    </tr>\n",
              "  </thead>\n",
              "  <tbody>\n",
              "    <tr>\n",
              "      <th>bond10</th>\n",
              "      <td>5.024205e-07</td>\n",
              "      <td>4.852841e-07</td>\n",
              "    </tr>\n",
              "    <tr>\n",
              "      <th>bond30</th>\n",
              "      <td>4.852841e-07</td>\n",
              "      <td>4.721538e-07</td>\n",
              "    </tr>\n",
              "  </tbody>\n",
              "</table>\n",
              "</div>"
            ],
            "text/plain": [
              "              bond10        bond30\n",
              "bond10  5.024205e-07  4.852841e-07\n",
              "bond30  4.852841e-07  4.721538e-07"
            ]
          },
          "metadata": {
            "tags": []
          },
          "execution_count": 33
        }
      ]
    },
    {
      "cell_type": "code",
      "metadata": {
        "id": "IDjofHhYNp_U",
        "colab_type": "code",
        "colab": {}
      },
      "source": [
        "bond_price10=[0.57239,0.572375,0.598495,0.584175,0.592505,0.604465,0.63292,0.64429,0.68259,0.62449,0.694705,0.73483,0.71203,0.732635]\n",
        "bond_price30=[0.536425,0.537195,0.564690,0.548540,0.556420,0.569590,0.598885,0.613025,0.654810,0.586930,0.657060,0.702030,0.676945,0.698375]"
      ],
      "execution_count": 0,
      "outputs": []
    },
    {
      "cell_type": "code",
      "metadata": {
        "id": "5yqWvFxjSvjm",
        "colab_type": "code",
        "outputId": "a03edaa4-7c5c-44da-a974-898d857e21c9",
        "colab": {
          "base_uri": "https://localhost:8080/",
          "height": 255
        }
      },
      "source": [
        "share1=300000/0.56817  #2019.10.23 bond10 price=0.56817/share; 300000 capital\n",
        "share2=300000/0.527875  #2019.10.23 bond30 price=0.527875/share; 300000 capital\n",
        "linloss_bond=[]\n",
        "for i in range(14):\n",
        "  var = np.random.multivariate_normal(mean=u_list[i], cov=cov_list[i])\n",
        "  a=share1*bond_price10[i]*(bond10[12+i]-(period10[i]*var[0]))+share2*bond_price30[i]*(bond30[12+i]-(period30[i]*var[1]))\n",
        "  linloss_bond.append(-a)\n",
        "\n",
        "linloss_bond"
      ],
      "execution_count": 35,
      "outputs": [
        {
          "output_type": "execute_result",
          "data": {
            "text/plain": [
              "[-27876.99339179221,\n",
              " -37562.11524555991,\n",
              " 729.0791724586205,\n",
              " 5838.199285859189,\n",
              " -8427.372635466161,\n",
              " -27099.682416323376,\n",
              " -36638.45446700507,\n",
              " -1601.0411591905518,\n",
              " -23507.258086619186,\n",
              " -5910.671134593162,\n",
              " -2390.152011022244,\n",
              " -8141.542614212451,\n",
              " -68021.59465985816,\n",
              " -63503.5531288683]"
            ]
          },
          "metadata": {
            "tags": []
          },
          "execution_count": 35
        }
      ]
    },
    {
      "cell_type": "code",
      "metadata": {
        "id": "4oCtk842oTqO",
        "colab_type": "code",
        "outputId": "4224e275-8f51-4c81-fcdb-d95ea82edde1",
        "colab": {
          "base_uri": "https://localhost:8080/",
          "height": 281
        }
      },
      "source": [
        "pdf_function1(linloss_bond,'bond linearized loss pdf')"
      ],
      "execution_count": 36,
      "outputs": [
        {
          "output_type": "display_data",
          "data": {
            "image/png": "[encoded data removed]",
            "text/plain": [
              "<Figure size 432x288 with 1 Axes>"
            ]
          },
          "metadata": {
            "tags": [],
            "needs_background": "light"
          }
        }
      ]
    },
    {
      "cell_type": "code",
      "metadata": {
        "id": "wD7kSQ1632Nn",
        "colab_type": "code",
        "outputId": "ec9b913d-a8ac-44f0-989c-28712cd467a3",
        "colab": {
          "base_uri": "https://localhost:8080/",
          "height": 459
        }
      },
      "source": [
        "magic_period=weektime[-26:]\n",
        "magic_period"
      ],
      "execution_count": 37,
      "outputs": [
        {
          "output_type": "execute_result",
          "data": {
            "text/plain": [
              "[Timestamp('2019-10-23 00:00:00', freq='C'),\n",
              " Timestamp('2019-10-30 00:00:00', freq='C'),\n",
              " Timestamp('2019-11-06 00:00:00', freq='C'),\n",
              " Timestamp('2019-11-13 00:00:00', freq='C'),\n",
              " Timestamp('2019-11-20 00:00:00', freq='C'),\n",
              " Timestamp('2019-11-27 00:00:00', freq='C'),\n",
              " Timestamp('2019-12-04 00:00:00', freq='C'),\n",
              " Timestamp('2019-12-11 00:00:00', freq='C'),\n",
              " Timestamp('2019-12-18 00:00:00', freq='C'),\n",
              " Timestamp('2019-12-24 00:00:00'),\n",
              " Timestamp('2019-12-31 00:00:00'),\n",
              " Timestamp('2020-01-08 00:00:00', freq='C'),\n",
              " Timestamp('2020-01-15 00:00:00', freq='C'),\n",
              " Timestamp('2020-01-22 00:00:00', freq='C'),\n",
              " Timestamp('2020-01-29 00:00:00', freq='C'),\n",
              " Timestamp('2020-02-05 00:00:00', freq='C'),\n",
              " Timestamp('2020-02-12 00:00:00', freq='C'),\n",
              " Timestamp('2020-02-19 00:00:00', freq='C'),\n",
              " Timestamp('2020-02-26 00:00:00', freq='C'),\n",
              " Timestamp('2020-03-04 00:00:00', freq='C'),\n",
              " Timestamp('2020-03-11 00:00:00', freq='C'),\n",
              " Timestamp('2020-03-18 00:00:00', freq='C'),\n",
              " Timestamp('2020-03-25 00:00:00', freq='C'),\n",
              " Timestamp('2020-04-01 00:00:00', freq='C'),\n",
              " Timestamp('2020-04-08 00:00:00', freq='C'),\n",
              " Timestamp('2020-04-15 00:00:00', freq='C')]"
            ]
          },
          "metadata": {
            "tags": []
          },
          "execution_count": 37
        }
      ]
    },
    {
      "cell_type": "code",
      "metadata": {
        "id": "KZVRUwrA6_hf",
        "colab_type": "code",
        "colab": {}
      },
      "source": [
        "meli=[]\n",
        "mmm=[]\n",
        "spx=[]\n",
        "for i in range(len(magic_period)):\n",
        "  time=magic_period[i]\n",
        "  a=MELI.loc[time]['Adj Close']\n",
        "  b=MMM.loc[time]['Adj Close']\n",
        "  c=10*SPY.loc[time]['Adj Close']\n",
        "  meli.append(a)\n",
        "  mmm.append(b)\n",
        "  spx.append(c)"
      ],
      "execution_count": 0,
      "outputs": []
    },
    {
      "cell_type": "code",
      "metadata": {
        "id": "IwNROzJS8pe9",
        "colab_type": "code",
        "outputId": "1eca6964-7b21-4e5e-df1a-9fc78488e44d",
        "colab": {
          "base_uri": "https://localhost:8080/",
          "height": 255
        }
      },
      "source": [
        "meli_price1=meli[12:]\n",
        "meli_price1"
      ],
      "execution_count": 39,
      "outputs": [
        {
          "output_type": "execute_result",
          "data": {
            "text/plain": [
              "[659.97998046875,\n",
              " 663.1500244140625,\n",
              " 668.6099853515625,\n",
              " 675.8400268554688,\n",
              " 699.8200073242188,\n",
              " 742.739990234375,\n",
              " 632.0499877929688,\n",
              " 653.6300048828125,\n",
              " 550.719970703125,\n",
              " 452.1700134277344,\n",
              " 482.6499938964844,\n",
              " 447.3399963378906,\n",
              " 544.0,\n",
              " 588.6400146484375]"
            ]
          },
          "metadata": {
            "tags": []
          },
          "execution_count": 39
        }
      ]
    },
    {
      "cell_type": "code",
      "metadata": {
        "id": "4z31dlm-Cka1",
        "colab_type": "code",
        "outputId": "9f370572-7e7d-493a-b387-32923490f751",
        "colab": {
          "base_uri": "https://localhost:8080/",
          "height": 255
        }
      },
      "source": [
        "mmm_price1=mmm[12:]\n",
        "mmm_price1"
      ],
      "execution_count": 40,
      "outputs": [
        {
          "output_type": "execute_result",
          "data": {
            "text/plain": [
              "[178.1665802001953,\n",
              " 176.4322967529297,\n",
              " 160.54615783691406,\n",
              " 160.87318420410156,\n",
              " 162.3300018310547,\n",
              " 159.33999633789062,\n",
              " 148.9600067138672,\n",
              " 153.97999572753906,\n",
              " 147.24000549316406,\n",
              " 137.02000427246094,\n",
              " 131.5399932861328,\n",
              " 133.13999938964844,\n",
              " 148.99000549316406,\n",
              " 145.16000366210938]"
            ]
          },
          "metadata": {
            "tags": []
          },
          "execution_count": 40
        }
      ]
    },
    {
      "cell_type": "code",
      "metadata": {
        "id": "NlORkVQzE6gc",
        "colab_type": "code",
        "outputId": "47b4ee12-cd12-43a9-b2a1-da21bff30601",
        "colab": {
          "base_uri": "https://localhost:8080/",
          "height": 255
        }
      },
      "source": [
        "spx_price1=spx[12:]\n",
        "spx_price1"
      ],
      "execution_count": 41,
      "outputs": [
        {
          "output_type": "execute_result",
          "data": {
            "text/plain": [
              "[3262.7142333984375,\n",
              " 3294.0301513671875,\n",
              " 3247.1060180664062,\n",
              " 3309.1412353515625,\n",
              " 3354.4747924804688,\n",
              " 3363.6209106445312,\n",
              " 3096.7898559570312,\n",
              " 3110.3103637695312,\n",
              " 2727.56103515625,\n",
              " 2385.9698486328125,\n",
              " 2467.899932861328,\n",
              " 2461.4999389648438,\n",
              " 2740.2999877929688,\n",
              " 2777.60009765625]"
            ]
          },
          "metadata": {
            "tags": []
          },
          "execution_count": 41
        }
      ]
    },
    {
      "cell_type": "code",
      "metadata": {
        "id": "uENpuXuEx5e0",
        "colab_type": "code",
        "outputId": "4429b5cd-ceb2-4e31-848e-8f2deaca1d9f",
        "colab": {
          "base_uri": "https://localhost:8080/",
          "height": 255
        }
      },
      "source": [
        "meli_sigma=[0.286,0.295,0.3,0.318,0.393,0.389,0.466,0.529,0.719,1.123,1.213,1.245,1.269,1.267]\n",
        "mmm_sigma=[0.195,0.171,0.179,0.197,0.206,0.201,0.225,0.317,0.41,0.603,0.696,0.723,0.747,0.722]\n",
        "a=16+29+31+30+31+19\n",
        "b=a-19+30+17\n",
        "meli_maturity=[a/365,]\n",
        "mmm_maturity=[b/365,]\n",
        "for i in range(13):\n",
        "  a=a-7\n",
        "  b=b-7\n",
        "  meli_maturity.append(a/365)\n",
        "  mmm_maturity.append(b/365)\n",
        "spx_sigma=[0.078,0.072,0.089,0.105,0.108,0.103,0.148,0.232,0.317,0.522,0.586,0.615,0.632,0.617]\n",
        "libor_list1=[0.01528,0.01533,0.01530,0.01575,0.01574,0.01577,0.01572,0.01088,0.01084,0.00380,0.00201,0.00109,0.00072,0.00066]\n",
        "a=16+29+31+30+14\n",
        "#2020.1.15--2020.5.14\n",
        "spx_maturity=[a/365,]\n",
        "for i in range(13):\n",
        "  a=a-7\n",
        "  spx_maturity.append(a/365)\n",
        "spx_maturity"
      ],
      "execution_count": 42,
      "outputs": [
        {
          "output_type": "execute_result",
          "data": {
            "text/plain": [
              "[0.3287671232876712,\n",
              " 0.3095890410958904,\n",
              " 0.29041095890410956,\n",
              " 0.27123287671232876,\n",
              " 0.25205479452054796,\n",
              " 0.2328767123287671,\n",
              " 0.2136986301369863,\n",
              " 0.19452054794520549,\n",
              " 0.17534246575342466,\n",
              " 0.15616438356164383,\n",
              " 0.136986301369863,\n",
              " 0.1178082191780822,\n",
              " 0.09863013698630137,\n",
              " 0.07945205479452055]"
            ]
          },
          "metadata": {
            "tags": []
          },
          "execution_count": 42
        }
      ]
    },
    {
      "cell_type": "code",
      "metadata": {
        "id": "3mPFedx-JiYM",
        "colab_type": "code",
        "colab": {}
      },
      "source": [
        "from scipy.stats import norm\n",
        "def delta_finder(S,T,K,r,sigma):\n",
        "  n=len(S)\n",
        "  delta_list=[]\n",
        "  for i in range(n):\n",
        "    d1= (np.log(S[i] / K) + (r[i] + 0.5 * sigma[i] ** 2) * T[i]) / (sigma[i] * np.sqrt(T[i]))\n",
        "    delta=norm.cdf(d1)-1\n",
        "    delta_list.append(delta)\n",
        "  return delta_list"
      ],
      "execution_count": 0,
      "outputs": []
    },
    {
      "cell_type": "code",
      "metadata": {
        "id": "ndZPLUUHQuuq",
        "colab_type": "code",
        "outputId": "de977b93-03fa-4774-c293-9cb31d42afb5",
        "colab": {
          "base_uri": "https://localhost:8080/",
          "height": 255
        }
      },
      "source": [
        "spx_delta=delta_finder(spx_price1,spx_maturity,2885,libor_list1,spx_sigma)\n",
        "meli_delta=[i+1 for i in delta_finder(meli_price1,meli_maturity,640,libor_list1,meli_sigma)]\n",
        "mmm_delta=[i+1 for i in delta_finder(mmm_price1,mmm_maturity,130,libor_list1,mmm_sigma)]\n",
        "spx_delta"
      ],
      "execution_count": 44,
      "outputs": [
        {
          "output_type": "execute_result",
          "data": {
            "text/plain": [
              "[-0.0019529002881616409,\n",
              " -0.00028227529103130866,\n",
              " -0.004912950677353978,\n",
              " -0.004477599463927895,\n",
              " -0.001982588263144902,\n",
              " -0.0007192336662726895,\n",
              " -0.13162449544672872,\n",
              " -0.209904310039277,\n",
              " -0.6338506103096607,\n",
              " -0.7923663591254462,\n",
              " -0.729160475227884,\n",
              " -0.7408356819984154,\n",
              " -0.563423903035916,\n",
              " -0.5520646270795397]"
            ]
          },
          "metadata": {
            "tags": []
          },
          "execution_count": 44
        }
      ]
    },
    {
      "cell_type": "code",
      "metadata": {
        "id": "-2L-vfXW6oi6",
        "colab_type": "code",
        "outputId": "bcf58bdf-1ff3-417f-9967-40a02c114580",
        "colab": {
          "base_uri": "https://localhost:8080/",
          "height": 255
        }
      },
      "source": [
        "mmm_delta"
      ],
      "execution_count": 45,
      "outputs": [
        {
          "output_type": "execute_result",
          "data": {
            "text/plain": [
              "[0.9918329080579453,\n",
              " 0.9963915797522677,\n",
              " 0.9676288566927,\n",
              " 0.9588793258103406,\n",
              " 0.9613386197417249,\n",
              " 0.9553396800016629,\n",
              " 0.8607837960748768,\n",
              " 0.8402226744385954,\n",
              " 0.7421382829590759,\n",
              " 0.6288101320433375,\n",
              " 0.5895450014910025,\n",
              " 0.601608878601685,\n",
              " 0.7070246367872849,\n",
              " 0.6862830293672841]"
            ]
          },
          "metadata": {
            "tags": []
          },
          "execution_count": 45
        }
      ]
    },
    {
      "cell_type": "code",
      "metadata": {
        "id": "wPaNpj7xF-fk",
        "colab_type": "code",
        "colab": {}
      },
      "source": [
        "meli_price1.append(601.05)\n",
        "mmm_price1.append(143.61)\n",
        "spx_price1.append(2791)"
      ],
      "execution_count": 0,
      "outputs": []
    },
    {
      "cell_type": "code",
      "metadata": {
        "id": "XrtpIQIdqrDM",
        "colab_type": "code",
        "outputId": "ee3e7d48-1359-4b6f-83e4-ab200210d456",
        "colab": {
          "base_uri": "https://localhost:8080/",
          "height": 34
        }
      },
      "source": [
        "len(meli_price1)"
      ],
      "execution_count": 47,
      "outputs": [
        {
          "output_type": "execute_result",
          "data": {
            "text/plain": [
              "15"
            ]
          },
          "metadata": {
            "tags": []
          },
          "execution_count": 47
        }
      ]
    },
    {
      "cell_type": "code",
      "metadata": {
        "id": "A7BJlXARqq5p",
        "colab_type": "code",
        "outputId": "59454d6d-1eb6-4085-90ef-6070d3525130",
        "colab": {
          "base_uri": "https://localhost:8080/",
          "height": 255
        }
      },
      "source": [
        "option_loss=[]\n",
        "for i in range(14):\n",
        "  a=100*meli_delta[i]*(meli_price1[i+1]-meli_price1[i])\n",
        "  b=200*mmm_delta[i]*(mmm_price1[i+1]-mmm_price1[i])\n",
        "  c=-100*spx_delta[i]*(spx_price1[i+1]-spx_price1[i])\n",
        "  d=a+b+c\n",
        "  print(a,b,c)\n",
        "  option_loss.append(d)"
      ],
      "execution_count": 48,
      "outputs": [
        {
          "output_type": "stream",
          "text": [
            "195.01282451463706 -344.0238789796446 6.115686522521818\n",
            "340.69379110039193 -3165.763010138557 -1.324552338386995\n",
            "462.8921822917758 63.28802995800155 30.47759627809096\n",
            "1579.2496353061765 279.38246079228657 20.29855110983352\n",
            "3003.840039622788 -574.8815507637031 1.8132986525406714\n",
            "-8724.104800347883 -1983.2831931670266 -19.191387773829913\n",
            "1165.8673673808448 864.2250398885305 177.96300190038662\n",
            "-6073.192676535839 -1132.6185240833156 -8034.07337405673\n",
            "-4134.243627324718 -1516.9308315544554 -21651.7782054282\n",
            "1132.5062796157001 -689.1772863823857 6491.8642542990065\n",
            "-1507.7010563193771 188.65512013654646 -466.6622591016104\n",
            "3589.2945546019414 1907.1008795531795 20654.502431477547\n",
            "2220.793874662146 -541.5811306992154 2101.577348283839\n",
            "675.3894389490819 -212.74824175255938 739.7612090304594\n"
          ],
          "name": "stdout"
        }
      ]
    },
    {
      "cell_type": "code",
      "metadata": {
        "id": "pZzUOJGvqqpi",
        "colab_type": "code",
        "outputId": "656d7129-b46a-412b-e306-a23d33b6e26d",
        "colab": {
          "base_uri": "https://localhost:8080/",
          "height": 255
        }
      },
      "source": [
        "option_loss"
      ],
      "execution_count": 49,
      "outputs": [
        {
          "output_type": "execute_result",
          "data": {
            "text/plain": [
              "[-142.89536794248573,\n",
              " -2826.393771376552,\n",
              " 556.6578085278683,\n",
              " 1878.9306472082967,\n",
              " 2430.7717875116255,\n",
              " -10726.579381288739,\n",
              " 2208.055409169762,\n",
              " -15239.884574675885,\n",
              " -27302.952664307373,\n",
              " 6935.193247532321,\n",
              " -1785.708195284441,\n",
              " 26150.89786563267,\n",
              " 3780.7900922467697,\n",
              " 1202.4024062269818]"
            ]
          },
          "metadata": {
            "tags": []
          },
          "execution_count": 49
        }
      ]
    },
    {
      "cell_type": "code",
      "metadata": {
        "id": "vPl1gWLZqqgO",
        "colab_type": "code",
        "outputId": "f6b82132-a673-48dd-b8a9-cad8ae9c7dc7",
        "colab": {
          "base_uri": "https://localhost:8080/",
          "height": 281
        }
      },
      "source": [
        "pdf_function1(option_loss,'option linearized loss pdf')"
      ],
      "execution_count": 50,
      "outputs": [
        {
          "output_type": "display_data",
          "data": {
            "image/png": "[encoded data removed]",
            "text/plain": [
              "<Figure size 432x288 with 1 Axes>"
            ]
          },
          "metadata": {
            "tags": [],
            "needs_background": "light"
          }
        }
      ]
    },
    {
      "cell_type": "code",
      "metadata": {
        "id": "tLgowhR7qqeA",
        "colab_type": "code",
        "colab": {}
      },
      "source": [
        "portfolio_linloss1=np.sum([option_loss,linloss_equity,linloss_bond], axis = 0)"
      ],
      "execution_count": 0,
      "outputs": []
    },
    {
      "cell_type": "code",
      "metadata": {
        "id": "uqSrTvmIqqTe",
        "colab_type": "code",
        "outputId": "ee118a3e-500e-4d80-d5a0-757e17cab36d",
        "colab": {
          "base_uri": "https://localhost:8080/",
          "height": 281
        }
      },
      "source": [
        "pdf_function1(portfolio_linloss1,'portfolio linearized loss pdf')"
      ],
      "execution_count": 52,
      "outputs": [
        {
          "output_type": "display_data",
          "data": {
            "image/png": "[encoded data removed]",
            "text/plain": [
              "<Figure size 432x288 with 1 Axes>"
            ]
          },
          "metadata": {
            "tags": [],
            "needs_background": "light"
          }
        }
      ]
    },
    {
      "cell_type": "markdown",
      "metadata": {
        "id": "4EwXVeAFnb6A",
        "colab_type": "text"
      },
      "source": [
        "# **1.b) Portfolio t-distribution loss(2019.9.25-2020.4.22)**"
      ]
    },
    {
      "cell_type": "code",
      "metadata": {
        "id": "IwChP3oEqqJ8",
        "colab_type": "code",
        "outputId": "5afb10a2-1733-4c9f-f595-276764b509a7",
        "colab": {
          "base_uri": "https://localhost:8080/",
          "height": 527
        }
      },
      "source": [
        "t_period=weektime[-30:]\n",
        "t_stock=week_stock[-30:]\n",
        "len(t_stock)\n",
        "t_period"
      ],
      "execution_count": 53,
      "outputs": [
        {
          "output_type": "execute_result",
          "data": {
            "text/plain": [
              "[Timestamp('2019-09-25 00:00:00', freq='C'),\n",
              " Timestamp('2019-10-02 00:00:00', freq='C'),\n",
              " Timestamp('2019-10-09 00:00:00', freq='C'),\n",
              " Timestamp('2019-10-16 00:00:00', freq='C'),\n",
              " Timestamp('2019-10-23 00:00:00', freq='C'),\n",
              " Timestamp('2019-10-30 00:00:00', freq='C'),\n",
              " Timestamp('2019-11-06 00:00:00', freq='C'),\n",
              " Timestamp('2019-11-13 00:00:00', freq='C'),\n",
              " Timestamp('2019-11-20 00:00:00', freq='C'),\n",
              " Timestamp('2019-11-27 00:00:00', freq='C'),\n",
              " Timestamp('2019-12-04 00:00:00', freq='C'),\n",
              " Timestamp('2019-12-11 00:00:00', freq='C'),\n",
              " Timestamp('2019-12-18 00:00:00', freq='C'),\n",
              " Timestamp('2019-12-24 00:00:00'),\n",
              " Timestamp('2019-12-31 00:00:00'),\n",
              " Timestamp('2020-01-08 00:00:00', freq='C'),\n",
              " Timestamp('2020-01-15 00:00:00', freq='C'),\n",
              " Timestamp('2020-01-22 00:00:00', freq='C'),\n",
              " Timestamp('2020-01-29 00:00:00', freq='C'),\n",
              " Timestamp('2020-02-05 00:00:00', freq='C'),\n",
              " Timestamp('2020-02-12 00:00:00', freq='C'),\n",
              " Timestamp('2020-02-19 00:00:00', freq='C'),\n",
              " Timestamp('2020-02-26 00:00:00', freq='C'),\n",
              " Timestamp('2020-03-04 00:00:00', freq='C'),\n",
              " Timestamp('2020-03-11 00:00:00', freq='C'),\n",
              " Timestamp('2020-03-18 00:00:00', freq='C'),\n",
              " Timestamp('2020-03-25 00:00:00', freq='C'),\n",
              " Timestamp('2020-04-01 00:00:00', freq='C'),\n",
              " Timestamp('2020-04-08 00:00:00', freq='C'),\n",
              " Timestamp('2020-04-15 00:00:00', freq='C')]"
            ]
          },
          "metadata": {
            "tags": []
          },
          "execution_count": 53
        }
      ]
    },
    {
      "cell_type": "code",
      "metadata": {
        "id": "QA50xgI7qqGV",
        "colab_type": "code",
        "colab": {}
      },
      "source": [
        "stock_value=[]\n",
        "for i in range(30):\n",
        "  a=0\n",
        "  for j in range(15):\n",
        "    b=index_list[j]\n",
        "    a+=t_stock[i].loc[b]['Adj Close']*t_stock[i].loc[b]['Share']\n",
        "  stock_value.append(a)\n",
        "#stock_value"
      ],
      "execution_count": 0,
      "outputs": []
    },
    {
      "cell_type": "code",
      "metadata": {
        "id": "hOEp0K6wqp7d",
        "colab_type": "code",
        "colab": {}
      },
      "source": [
        "stock_loss=[]\n",
        "for i in range(29):\n",
        "  a=stock_value[i+1]-stock_value[i]\n",
        "  stock_loss.append(a)"
      ],
      "execution_count": 0,
      "outputs": []
    },
    {
      "cell_type": "code",
      "metadata": {
        "id": "LQ1a4-pYqprx",
        "colab_type": "code",
        "outputId": "eccf41c2-1bbe-44de-ec3c-3eda31579b2c",
        "colab": {
          "base_uri": "https://localhost:8080/",
          "height": 34
        }
      },
      "source": [
        "bond10tprice=[0.57639,0.59218,0.59413,0.57203,0.56817,0.56815,0.55983,0.55275,0.57484,0.57900,0.57290,0.57439,0.55673,0.55915,0.55142,0.55335]+bond_price10\n",
        "bond30tprice=[0.53646,0.55261,0.55369,0.53157,0.52788,0.52883,0.52192,0.51420,0.53706,0.54177,0.53544,0.53640,0.51922,0.52123,0.51292,0.51662]+bond_price30\n",
        "len(bond10tprice)"
      ],
      "execution_count": 56,
      "outputs": [
        {
          "output_type": "execute_result",
          "data": {
            "text/plain": [
              "30"
            ]
          },
          "metadata": {
            "tags": []
          },
          "execution_count": 56
        }
      ]
    },
    {
      "cell_type": "code",
      "metadata": {
        "id": "IEZ8q4hp66fL",
        "colab_type": "code",
        "colab": {}
      },
      "source": [
        "share1=300000/0.57639\n",
        "share2=300000/0.53646"
      ],
      "execution_count": 0,
      "outputs": []
    },
    {
      "cell_type": "code",
      "metadata": {
        "id": "6miex8oy66P2",
        "colab_type": "code",
        "colab": {}
      },
      "source": [
        "bond_loss=[]\n",
        "for i in range(29):\n",
        "  a=share1*(bond10tprice[i+1]-bond10tprice[i])+share2*(bond30tprice[i+1]-bond30tprice[i])\n",
        "  bond_loss.append(a)"
      ],
      "execution_count": 0,
      "outputs": []
    },
    {
      "cell_type": "code",
      "metadata": {
        "id": "WC2wqlzB66EH",
        "colab_type": "code",
        "outputId": "29a89656-5b7e-479d-82dd-745d1f1404ef",
        "colab": {
          "base_uri": "https://localhost:8080/",
          "height": 34
        }
      },
      "source": [
        "len(bond_loss)"
      ],
      "execution_count": 59,
      "outputs": [
        {
          "output_type": "execute_result",
          "data": {
            "text/plain": [
              "29"
            ]
          },
          "metadata": {
            "tags": []
          },
          "execution_count": 59
        }
      ]
    },
    {
      "cell_type": "code",
      "metadata": {
        "id": "ZrqtcMwp652D",
        "colab_type": "code",
        "colab": {}
      },
      "source": [
        "meli=[]\n",
        "mmm=[]\n",
        "spx=[]\n",
        "for i in range(len(t_period)):\n",
        "  time=t_period[i]\n",
        "  a=MELI.loc[time]['Adj Close']\n",
        "  b=MMM.loc[time]['Adj Close']\n",
        "  c=10*SPY.loc[time]['Adj Close']\n",
        "  meli.append(a)\n",
        "  mmm.append(b)\n",
        "  spx.append(c)"
      ],
      "execution_count": 0,
      "outputs": []
    },
    {
      "cell_type": "code",
      "metadata": {
        "id": "clN63oQo-Kjy",
        "colab_type": "code",
        "colab": {}
      },
      "source": [
        "meli_sigma1=[0.421,0.396,0.396,0.391,0.316,0.311,0.381,0.374,0.365,0.358,0.371,0.367,0.298,0.282,0.27,0.275]+meli_sigma\n",
        "mmm_sigma1=[0.216,0.204,0.204,0.214,0.207,0.219,0.224,0.222,0.217,0.197,0.193,0.186,0.187,0.19,0.19,0.196,]+mmm_sigma\n",
        "spx_sigma1=[0.126,0.123,0.114,0.11,0.107,0.106,0.099,0.09,0.076,0.066,0.071,0.071,0.071,0.069,0.068,0.077]+spx_sigma"
      ],
      "execution_count": 0,
      "outputs": []
    },
    {
      "cell_type": "code",
      "metadata": {
        "id": "x6VsTHAT-KR8",
        "colab_type": "code",
        "outputId": "6f442375-f8a3-4278-f398-1ffe294a587a",
        "colab": {
          "base_uri": "https://localhost:8080/",
          "height": 527
        }
      },
      "source": [
        "a=16+29+31+30+31+19+15+31+30+31+5\n",
        "b=a-19+30+17\n",
        "meli_maturity1=[a/365,]\n",
        "mmm_maturity1=[b/365,]\n",
        "for i in range(29):\n",
        "  a=a-7\n",
        "  b=b-7\n",
        "  meli_maturity1.append(a/365)\n",
        "  mmm_maturity1.append(b/365)\n",
        "a=16+29+31+30+14+15+31+30+31+5\n",
        "#2020.1.15--2020.5.14\n",
        "spx_maturity1=[a/365,]\n",
        "for i in range(29):\n",
        "  a=a-7\n",
        "  spx_maturity1.append(a/365)\n",
        "spx_maturity1"
      ],
      "execution_count": 62,
      "outputs": [
        {
          "output_type": "execute_result",
          "data": {
            "text/plain": [
              "[0.6356164383561644,\n",
              " 0.6164383561643836,\n",
              " 0.5972602739726027,\n",
              " 0.5780821917808219,\n",
              " 0.5589041095890411,\n",
              " 0.5397260273972603,\n",
              " 0.5205479452054794,\n",
              " 0.5013698630136987,\n",
              " 0.4821917808219178,\n",
              " 0.46301369863013697,\n",
              " 0.4438356164383562,\n",
              " 0.4246575342465753,\n",
              " 0.4054794520547945,\n",
              " 0.3863013698630137,\n",
              " 0.36712328767123287,\n",
              " 0.34794520547945207,\n",
              " 0.3287671232876712,\n",
              " 0.3095890410958904,\n",
              " 0.29041095890410956,\n",
              " 0.27123287671232876,\n",
              " 0.25205479452054796,\n",
              " 0.2328767123287671,\n",
              " 0.2136986301369863,\n",
              " 0.19452054794520549,\n",
              " 0.17534246575342466,\n",
              " 0.15616438356164383,\n",
              " 0.136986301369863,\n",
              " 0.1178082191780822,\n",
              " 0.09863013698630137,\n",
              " 0.07945205479452055]"
            ]
          },
          "metadata": {
            "tags": []
          },
          "execution_count": 62
        }
      ]
    },
    {
      "cell_type": "code",
      "metadata": {
        "id": "H_apvsTC-Jwx",
        "colab_type": "code",
        "colab": {}
      },
      "source": [
        "libor_list2=[0.01841,0.01851,0.01790,0.01826,0.01814,0.01804,0.01537,0.01539,0.01529,0.01540,0.01530,0.01525,0.01534,0.01533,0.01543,0.01533]+libor_list1"
      ],
      "execution_count": 0,
      "outputs": []
    },
    {
      "cell_type": "code",
      "metadata": {
        "id": "SprM8gRr-JeV",
        "colab_type": "code",
        "outputId": "d1fe661f-bc1d-48ca-bc78-df18742e5500",
        "colab": {
          "base_uri": "https://localhost:8080/",
          "height": 34
        }
      },
      "source": [
        "len(libor_list2)"
      ],
      "execution_count": 64,
      "outputs": [
        {
          "output_type": "execute_result",
          "data": {
            "text/plain": [
              "30"
            ]
          },
          "metadata": {
            "tags": []
          },
          "execution_count": 64
        }
      ]
    },
    {
      "cell_type": "code",
      "metadata": {
        "id": "B6hWETGsHnY2",
        "colab_type": "code",
        "colab": {}
      },
      "source": [
        "spx_delta1=delta_finder(spx,spx_maturity1,2885,libor_list2,spx_sigma1)\n",
        "meli_delta1=[i+1 for i in delta_finder(meli,meli_maturity1,640,libor_list2,meli_sigma1)]\n",
        "mmm_delta1=[i+1 for i in delta_finder(mmm,mmm_maturity1,130,libor_list2,mmm_sigma1)]"
      ],
      "execution_count": 0,
      "outputs": []
    },
    {
      "cell_type": "code",
      "metadata": {
        "id": "BnJvgHI6HmtU",
        "colab_type": "code",
        "colab": {}
      },
      "source": [
        "option_loss1=[]\n",
        "for i in range(29):\n",
        "  a=100*meli_delta1[i]*(meli[i+1]-meli[i])\n",
        "  b=200*mmm_delta1[i]*(mmm[i+1]-mmm[i])\n",
        "  c=-100*spx_delta1[i]*(spx[i+1]-spx[i])\n",
        "  d=a+b+c\n",
        "  option_loss1.append(d)"
      ],
      "execution_count": 0,
      "outputs": []
    },
    {
      "cell_type": "code",
      "metadata": {
        "id": "7p6l2wGM-JQF",
        "colab_type": "code",
        "outputId": "00203c17-f43e-4ea5-e552-cccb0bc37eb0",
        "colab": {
          "base_uri": "https://localhost:8080/",
          "height": 510
        }
      },
      "source": [
        "option_loss1"
      ],
      "execution_count": 67,
      "outputs": [
        {
          "output_type": "execute_result",
          "data": {
            "text/plain": [
              "[-5171.4527176857155,\n",
              " 282.59513980236443,\n",
              " 5509.203797632263,\n",
              " 1345.3518448058835,\n",
              " 1510.006725629094,\n",
              " -535.446712543237,\n",
              " 427.89613267610093,\n",
              " 680.5315583379402,\n",
              " 2638.2620670534434,\n",
              " -1398.5609147950317,\n",
              " 687.0624705573507,\n",
              " 314.3705234909279,\n",
              " 1995.4804271721746,\n",
              " -963.2051345843889,\n",
              " 2777.0048412690085,\n",
              " 1254.7716580071317,\n",
              " -142.89536794248573,\n",
              " -2826.393771376552,\n",
              " 556.6578085278683,\n",
              " 1878.9306472082967,\n",
              " 2430.7717875116255,\n",
              " -10726.579381288739,\n",
              " 2208.055409169762,\n",
              " -15239.884574675885,\n",
              " -27302.952664307373,\n",
              " 6935.193247532321,\n",
              " -1785.708195284441,\n",
              " 26150.89786563267,\n",
              " 3780.7900922467697]"
            ]
          },
          "metadata": {
            "tags": []
          },
          "execution_count": 67
        }
      ]
    },
    {
      "cell_type": "code",
      "metadata": {
        "id": "5x3fex5j-JB3",
        "colab_type": "code",
        "outputId": "49da058e-a174-4320-bfd3-bd44cc96d8e7",
        "colab": {
          "base_uri": "https://localhost:8080/",
          "height": 187
        }
      },
      "source": [
        "portfolio_actualloss=np.sum([option_loss1,stock_loss,bond_loss], axis = 0)\n",
        "portfolio_actualloss"
      ],
      "execution_count": 68,
      "outputs": [
        {
          "output_type": "execute_result",
          "data": {
            "text/plain": [
              "array([ -22295.74099716,   29016.08504651,   66231.23684833,\n",
              "         -2436.0682607 ,  101255.7393476 ,   -2229.77508978,\n",
              "         50571.33537766,   52721.03668011,   51685.40814876,\n",
              "        -49324.96801291,   49955.24332521,   55726.56020303,\n",
              "         75175.08441963,  -37195.17047854,  103953.40753702,\n",
              "         87992.71306566,   61302.93411651,    8447.22808526,\n",
              "        174505.25792702,  135074.45873224,  294309.42527405,\n",
              "       -351433.01672441,   52310.15875793, -325336.26334793,\n",
              "       -591831.96602437,  399056.23658538,  -26906.38620072,\n",
              "        261288.86991762,  263901.96134053])"
            ]
          },
          "metadata": {
            "tags": []
          },
          "execution_count": 68
        }
      ]
    },
    {
      "cell_type": "code",
      "metadata": {
        "id": "j9sN_BcJ-IzJ",
        "colab_type": "code",
        "colab": {}
      },
      "source": [
        "from scipy import stats\n",
        "\n",
        "t_loss_list=[]\n",
        "df_list=[]\n",
        "for j in range(16):\n",
        "  loss_for_estimate=portfolio_actualloss[j:j+13]\n",
        "  para_t=stats.t.fit(loss_for_estimate)\n",
        "  df_list.append(para_t[0])\n",
        "  a=stats.t.rvs(loc = para_t[1], df = para_t[0], scale = para_t[2])\n",
        "  t_loss_list.append(a)\n"
      ],
      "execution_count": 0,
      "outputs": []
    },
    {
      "cell_type": "code",
      "metadata": {
        "id": "WwQkqYs_-Iem",
        "colab_type": "code",
        "outputId": "dc9815e0-8dea-4f14-e4d9-ce3d165fdc00",
        "colab": {
          "base_uri": "https://localhost:8080/",
          "height": 289
        }
      },
      "source": [
        "t_loss_list"
      ],
      "execution_count": 70,
      "outputs": [
        {
          "output_type": "execute_result",
          "data": {
            "text/plain": [
              "[-82.55589797895664,\n",
              " 42944.92842363721,\n",
              " 52126.01136258124,\n",
              " 35753.15157165822,\n",
              " 119558.02421231562,\n",
              " 106702.83056004341,\n",
              " 98322.01649080601,\n",
              " 34606.35179909236,\n",
              " 158951.75798722153,\n",
              " 171690.4478498447,\n",
              " 72667.30281371064,\n",
              " -132437.07604597192,\n",
              " 116479.77522971982,\n",
              " 101130.88676594647,\n",
              " 249299.95667372472,\n",
              " 323253.3837733869]"
            ]
          },
          "metadata": {
            "tags": []
          },
          "execution_count": 70
        }
      ]
    },
    {
      "cell_type": "code",
      "metadata": {
        "id": "Gn6xazVRNGoe",
        "colab_type": "code",
        "outputId": "7203fefa-a8c4-4074-ab9b-db98e92813a7",
        "colab": {
          "base_uri": "https://localhost:8080/",
          "height": 281
        }
      },
      "source": [
        "pdf_function1(t_loss_list,'portfolio t-dist loss pdf')"
      ],
      "execution_count": 71,
      "outputs": [
        {
          "output_type": "display_data",
          "data": {
            "image/png": "[encoded data removed]",
            "text/plain": [
              "<Figure size 432x288 with 1 Axes>"
            ]
          },
          "metadata": {
            "tags": [],
            "needs_background": "light"
          }
        }
      ]
    },
    {
      "cell_type": "markdown",
      "metadata": {
        "id": "h-nG_gpVPGOs",
        "colab_type": "text"
      },
      "source": [
        "# **Now we work on 2.stress test**\n",
        "\n"
      ]
    },
    {
      "cell_type": "code",
      "metadata": {
        "id": "PRXIUyQg_i52",
        "colab_type": "code",
        "outputId": "eebe8c40-d75a-4780-9b8a-4afa8462b30a",
        "colab": {
          "base_uri": "https://localhost:8080/",
          "height": 34
        }
      },
      "source": [
        "B30= drd.get_data_yahoo('^TYX','05/07/2008','05/11/2009',interval='d')\n",
        "tradingdays2=B30.index\n",
        "tradingdays2\n",
        "len(tradingdays2)"
      ],
      "execution_count": 238,
      "outputs": [
        {
          "output_type": "execute_result",
          "data": {
            "text/plain": [
              "251"
            ]
          },
          "metadata": {
            "tags": []
          },
          "execution_count": 238
        }
      ]
    },
    {
      "cell_type": "code",
      "metadata": {
        "id": "teIvkDGv_i0f",
        "colab_type": "code",
        "colab": {
          "base_uri": "https://localhost:8080/",
          "height": 34
        },
        "outputId": "f83b4db9-b612-4a67-ad36-7fcdfe8266d3"
      },
      "source": [
        "weektime2=[]\n",
        "for i in tradingdays2:\n",
        "  if i.weekday() == 2:\n",
        "    weektime2.append(i)\n",
        "len(weektime2)"
      ],
      "execution_count": 239,
      "outputs": [
        {
          "output_type": "execute_result",
          "data": {
            "text/plain": [
              "51"
            ]
          },
          "metadata": {
            "tags": []
          },
          "execution_count": 239
        }
      ]
    },
    {
      "cell_type": "code",
      "metadata": {
        "id": "Cb-RX45x_iel",
        "colab_type": "code",
        "colab": {
          "base_uri": "https://localhost:8080/",
          "height": 51
        },
        "outputId": "508b601f-56a2-4fa7-83b9-2c4e8bb0635d"
      },
      "source": [
        "nan_list=[]\n",
        "nan_index=[]\n",
        "for i in range(50):\n",
        "  if weektime2[i+1]-weektime2[i] != pd.Timedelta('7 days'):\n",
        "    nan_list.append(weektime2[i])\n",
        "    nan_index.append(i)\n",
        "\n",
        "\n",
        "#weektime: wednesday date list\n",
        "#weektime[-1]\n",
        "print(nan_index)\n",
        "print(nan_list)"
      ],
      "execution_count": 240,
      "outputs": [
        {
          "output_type": "stream",
          "text": [
            "[32]\n",
            "[Timestamp('2008-12-17 00:00:00')]\n"
          ],
          "name": "stdout"
        }
      ]
    },
    {
      "cell_type": "code",
      "metadata": {
        "id": "3T3lHByr_icR",
        "colab_type": "code",
        "colab": {
          "base_uri": "https://localhost:8080/",
          "height": 918
        },
        "outputId": "0a15caa7-8c2b-467a-ee47-1cbd8cbaeb21"
      },
      "source": [
        "p1=pd.Timestamp(2008,12,23)\n",
        "p2=pd.Timestamp(2008,12,30)\n",
        "weektime2.insert(33,p1)\n",
        "weektime2.insert(34,p2)\n",
        "weektime2"
      ],
      "execution_count": 241,
      "outputs": [
        {
          "output_type": "execute_result",
          "data": {
            "text/plain": [
              "[Timestamp('2008-05-07 00:00:00'),\n",
              " Timestamp('2008-05-14 00:00:00'),\n",
              " Timestamp('2008-05-21 00:00:00'),\n",
              " Timestamp('2008-05-28 00:00:00'),\n",
              " Timestamp('2008-06-04 00:00:00'),\n",
              " Timestamp('2008-06-11 00:00:00'),\n",
              " Timestamp('2008-06-18 00:00:00'),\n",
              " Timestamp('2008-06-25 00:00:00'),\n",
              " Timestamp('2008-07-02 00:00:00'),\n",
              " Timestamp('2008-07-09 00:00:00'),\n",
              " Timestamp('2008-07-16 00:00:00'),\n",
              " Timestamp('2008-07-23 00:00:00'),\n",
              " Timestamp('2008-07-30 00:00:00'),\n",
              " Timestamp('2008-08-06 00:00:00'),\n",
              " Timestamp('2008-08-13 00:00:00'),\n",
              " Timestamp('2008-08-20 00:00:00'),\n",
              " Timestamp('2008-08-27 00:00:00'),\n",
              " Timestamp('2008-09-03 00:00:00'),\n",
              " Timestamp('2008-09-10 00:00:00'),\n",
              " Timestamp('2008-09-17 00:00:00'),\n",
              " Timestamp('2008-09-24 00:00:00'),\n",
              " Timestamp('2008-10-01 00:00:00'),\n",
              " Timestamp('2008-10-08 00:00:00'),\n",
              " Timestamp('2008-10-15 00:00:00'),\n",
              " Timestamp('2008-10-22 00:00:00'),\n",
              " Timestamp('2008-10-29 00:00:00'),\n",
              " Timestamp('2008-11-05 00:00:00'),\n",
              " Timestamp('2008-11-12 00:00:00'),\n",
              " Timestamp('2008-11-19 00:00:00'),\n",
              " Timestamp('2008-11-26 00:00:00'),\n",
              " Timestamp('2008-12-03 00:00:00'),\n",
              " Timestamp('2008-12-10 00:00:00'),\n",
              " Timestamp('2008-12-17 00:00:00'),\n",
              " Timestamp('2008-12-23 00:00:00'),\n",
              " Timestamp('2008-12-30 00:00:00'),\n",
              " Timestamp('2009-01-07 00:00:00'),\n",
              " Timestamp('2009-01-14 00:00:00'),\n",
              " Timestamp('2009-01-21 00:00:00'),\n",
              " Timestamp('2009-01-28 00:00:00'),\n",
              " Timestamp('2009-02-04 00:00:00'),\n",
              " Timestamp('2009-02-11 00:00:00'),\n",
              " Timestamp('2009-02-18 00:00:00'),\n",
              " Timestamp('2009-02-25 00:00:00'),\n",
              " Timestamp('2009-03-04 00:00:00'),\n",
              " Timestamp('2009-03-11 00:00:00'),\n",
              " Timestamp('2009-03-18 00:00:00'),\n",
              " Timestamp('2009-03-25 00:00:00'),\n",
              " Timestamp('2009-04-01 00:00:00'),\n",
              " Timestamp('2009-04-08 00:00:00'),\n",
              " Timestamp('2009-04-15 00:00:00'),\n",
              " Timestamp('2009-04-22 00:00:00'),\n",
              " Timestamp('2009-04-29 00:00:00'),\n",
              " Timestamp('2009-05-06 00:00:00')]"
            ]
          },
          "metadata": {
            "tags": []
          },
          "execution_count": 241
        }
      ]
    },
    {
      "cell_type": "markdown",
      "metadata": {
        "id": "kvLJOQ0bD_Y6",
        "colab_type": "text"
      },
      "source": [
        "**Use CYTK TO SUBSTITUTE TSLA; USE ADS TO SUBSTITUTE YELP**"
      ]
    },
    {
      "cell_type": "code",
      "metadata": {
        "id": "Exo9Xd7-_h5-",
        "colab_type": "code",
        "colab": {}
      },
      "source": [
        "AAPL= drd.get_data_yahoo('AAPL','05/07/2008','05/11/2009',interval='d')\n",
        "CYTK= drd.get_data_yahoo('CYTK','05/07/2008','05/11/2009',interval='d')\n",
        "GILD= drd.get_data_yahoo('GILD','05/07/2008','05/11/2009',interval='d')\n",
        "MELI= drd.get_data_yahoo('MELI','05/07/2008','05/11/2009',interval='d')\n",
        "MSFT= drd.get_data_yahoo('MSFT','05/07/2008','05/11/2009',interval='d')\n",
        "DIS= drd.get_data_yahoo('DIS','05/07/2008','05/11/2009',interval='d')\n",
        "NVDA= drd.get_data_yahoo('NVDA','05/07/2008','05/11/2009',interval='d')\n",
        "TCO= drd.get_data_yahoo('TCO','05/07/2008','05/11/2009',interval='d')\n",
        "MMM= drd.get_data_yahoo('MMM','05/07/2008','05/11/2009',interval='d')\n",
        "INCY= drd.get_data_yahoo('INCY','05/07/2008','05/11/2009',interval='d')\n",
        "IBM= drd.get_data_yahoo('IBM','05/07/2008','05/11/2009',interval='d')\n",
        "EPC= drd.get_data_yahoo('EPC','05/07/2008','05/11/2009',interval='d')\n",
        "SPY= drd.get_data_yahoo('SPY','05/07/2008','05/11/2009',interval='d')\n",
        "ADS= drd.get_data_yahoo('ADS','05/07/2008','05/11/2009',interval='d')\n",
        "VTI= drd.get_data_yahoo('VTI','05/07/2008','05/11/2009',interval='d')"
      ],
      "execution_count": 0,
      "outputs": []
    },
    {
      "cell_type": "code",
      "metadata": {
        "id": "8T3Z-eMw_hsQ",
        "colab_type": "code",
        "colab": {
          "base_uri": "https://localhost:8080/",
          "height": 450
        },
        "outputId": "93e4a749-7e4c-4529-bc46-55dc7636472e"
      },
      "source": [
        "for i in range(len(tradingdays2)):\n",
        "  a=tradingdays2[i]\n",
        "  b=ADS.loc[a,'Adj Close']\n",
        "  ADS.loc[a,'Adj Close']=b/2.2\n",
        "ADS"
      ],
      "execution_count": 243,
      "outputs": [
        {
          "output_type": "execute_result",
          "data": {
            "text/html": [
              "<div>\n",
              "<style scoped>\n",
              "    .dataframe tbody tr th:only-of-type {\n",
              "        vertical-align: middle;\n",
              "    }\n",
              "\n",
              "    .dataframe tbody tr th {\n",
              "        vertical-align: top;\n",
              "    }\n",
              "\n",
              "    .dataframe thead th {\n",
              "        text-align: right;\n",
              "    }\n",
              "</style>\n",
              "<table border=\"1\" class=\"dataframe\">\n",
              "  <thead>\n",
              "    <tr style=\"text-align: right;\">\n",
              "      <th></th>\n",
              "      <th>High</th>\n",
              "      <th>Low</th>\n",
              "      <th>Open</th>\n",
              "      <th>Close</th>\n",
              "      <th>Volume</th>\n",
              "      <th>Adj Close</th>\n",
              "    </tr>\n",
              "    <tr>\n",
              "      <th>Date</th>\n",
              "      <th></th>\n",
              "      <th></th>\n",
              "      <th></th>\n",
              "      <th></th>\n",
              "      <th></th>\n",
              "      <th></th>\n",
              "    </tr>\n",
              "  </thead>\n",
              "  <tbody>\n",
              "    <tr>\n",
              "      <th>2008-05-07</th>\n",
              "      <td>59.430000</td>\n",
              "      <td>57.400002</td>\n",
              "      <td>58.000000</td>\n",
              "      <td>58.230000</td>\n",
              "      <td>1827700</td>\n",
              "      <td>25.263094</td>\n",
              "    </tr>\n",
              "    <tr>\n",
              "      <th>2008-05-08</th>\n",
              "      <td>59.099998</td>\n",
              "      <td>57.689999</td>\n",
              "      <td>59.090000</td>\n",
              "      <td>58.500000</td>\n",
              "      <td>778600</td>\n",
              "      <td>25.380239</td>\n",
              "    </tr>\n",
              "    <tr>\n",
              "      <th>2008-05-09</th>\n",
              "      <td>59.669998</td>\n",
              "      <td>57.849998</td>\n",
              "      <td>57.849998</td>\n",
              "      <td>59.110001</td>\n",
              "      <td>956400</td>\n",
              "      <td>25.644882</td>\n",
              "    </tr>\n",
              "    <tr>\n",
              "      <th>2008-05-12</th>\n",
              "      <td>59.470001</td>\n",
              "      <td>58.840000</td>\n",
              "      <td>58.930000</td>\n",
              "      <td>59.250000</td>\n",
              "      <td>1168900</td>\n",
              "      <td>25.705625</td>\n",
              "    </tr>\n",
              "    <tr>\n",
              "      <th>2008-05-13</th>\n",
              "      <td>59.930000</td>\n",
              "      <td>56.730000</td>\n",
              "      <td>59.250000</td>\n",
              "      <td>59.330002</td>\n",
              "      <td>1249100</td>\n",
              "      <td>25.740329</td>\n",
              "    </tr>\n",
              "    <tr>\n",
              "      <th>...</th>\n",
              "      <td>...</td>\n",
              "      <td>...</td>\n",
              "      <td>...</td>\n",
              "      <td>...</td>\n",
              "      <td>...</td>\n",
              "      <td>...</td>\n",
              "    </tr>\n",
              "    <tr>\n",
              "      <th>2009-05-05</th>\n",
              "      <td>42.450001</td>\n",
              "      <td>41.160000</td>\n",
              "      <td>41.590000</td>\n",
              "      <td>42.099998</td>\n",
              "      <td>1037200</td>\n",
              "      <td>18.265091</td>\n",
              "    </tr>\n",
              "    <tr>\n",
              "      <th>2009-05-06</th>\n",
              "      <td>42.900002</td>\n",
              "      <td>41.680000</td>\n",
              "      <td>42.830002</td>\n",
              "      <td>42.380001</td>\n",
              "      <td>1825500</td>\n",
              "      <td>18.386572</td>\n",
              "    </tr>\n",
              "    <tr>\n",
              "      <th>2009-05-07</th>\n",
              "      <td>43.480000</td>\n",
              "      <td>41.380001</td>\n",
              "      <td>42.840000</td>\n",
              "      <td>41.910000</td>\n",
              "      <td>1519700</td>\n",
              "      <td>18.182661</td>\n",
              "    </tr>\n",
              "    <tr>\n",
              "      <th>2009-05-08</th>\n",
              "      <td>43.869999</td>\n",
              "      <td>42.230000</td>\n",
              "      <td>42.549999</td>\n",
              "      <td>42.900002</td>\n",
              "      <td>2259300</td>\n",
              "      <td>18.612175</td>\n",
              "    </tr>\n",
              "    <tr>\n",
              "      <th>2009-05-11</th>\n",
              "      <td>43.349998</td>\n",
              "      <td>41.169998</td>\n",
              "      <td>41.169998</td>\n",
              "      <td>42.369999</td>\n",
              "      <td>1808500</td>\n",
              "      <td>18.382234</td>\n",
              "    </tr>\n",
              "  </tbody>\n",
              "</table>\n",
              "<p>255 rows × 6 columns</p>\n",
              "</div>"
            ],
            "text/plain": [
              "                 High        Low       Open      Close   Volume  Adj Close\n",
              "Date                                                                      \n",
              "2008-05-07  59.430000  57.400002  58.000000  58.230000  1827700  25.263094\n",
              "2008-05-08  59.099998  57.689999  59.090000  58.500000   778600  25.380239\n",
              "2008-05-09  59.669998  57.849998  57.849998  59.110001   956400  25.644882\n",
              "2008-05-12  59.470001  58.840000  58.930000  59.250000  1168900  25.705625\n",
              "2008-05-13  59.930000  56.730000  59.250000  59.330002  1249100  25.740329\n",
              "...               ...        ...        ...        ...      ...        ...\n",
              "2009-05-05  42.450001  41.160000  41.590000  42.099998  1037200  18.265091\n",
              "2009-05-06  42.900002  41.680000  42.830002  42.380001  1825500  18.386572\n",
              "2009-05-07  43.480000  41.380001  42.840000  41.910000  1519700  18.182661\n",
              "2009-05-08  43.869999  42.230000  42.549999  42.900002  2259300  18.612175\n",
              "2009-05-11  43.349998  41.169998  41.169998  42.369999  1808500  18.382234\n",
              "\n",
              "[255 rows x 6 columns]"
            ]
          },
          "metadata": {
            "tags": []
          },
          "execution_count": 243
        }
      ]
    },
    {
      "cell_type": "code",
      "metadata": {
        "id": "YHRdleb5_hVx",
        "colab_type": "code",
        "colab": {}
      },
      "source": [
        "stock_list=[AAPL,CYTK,GILD,MELI,MSFT,DIS,NVDA,TCO,MMM,INCY,IBM,EPC,SPY,ADS,VTI]\n",
        "index_list=['AAPL','CYTK','GILD','MELI','MSFT','DIS','NVDA','TCO','MMM','INCY','IBM','EPC','SPY','ADS','VTI']\n"
      ],
      "execution_count": 0,
      "outputs": []
    },
    {
      "cell_type": "code",
      "metadata": {
        "id": "cZIcf-V9MqcF",
        "colab_type": "code",
        "colab": {}
      },
      "source": [
        "from datetime import date\n",
        "total_num=len(tradingdays2)\n",
        "date_list2=[]\n",
        "for i in range(total_num-1):\n",
        "  if tradingdays2[i].day > tradingdays2[i+1].day:\n",
        "    date_list2.append(tradingdays2[i])\n",
        "\n",
        "def new_portfolio():\n",
        "    res = pd.DataFrame(columns=['Share', 'Adj Close'],index=pd.Series(index_list))\n",
        "    return res\n",
        "\n",
        "my_port = new_portfolio()\n",
        "update_list=[]\n",
        "\n",
        "for j in range(len(date_list2)):\n",
        "  b=date_list2[j]\n",
        "  my_port=new_portfolio()\n",
        "  for i in range(len(index_list)):\n",
        "    a=index_list[i]\n",
        "    my_port.loc[a,'Adj Close']=stock_list[i].loc[b,'Adj Close']\n",
        "  update_list.append(my_port)\n",
        "\n",
        "for i in range(len(index_list)):\n",
        "    a=index_list[i]\n",
        "    update_list[0].loc[a,'Share']=(400000/15)/update_list[0].loc[a,'Adj Close']\n",
        "\n",
        "def total_value(portfolio1,portfolio2):\n",
        "  res=0\n",
        "  for i in range(len(index_list)):\n",
        "    a=index_list[i]\n",
        "    res+=portfolio1.loc[a,'Share']*portfolio2.loc[a,'Adj Close']\n",
        "  return res\n",
        "\n",
        "for i in range(len(update_list)-1):\n",
        "  to_value=total_value(update_list[i],update_list[i+1])\n",
        "  for j in range(len(index_list)):\n",
        "    a=index_list[j]\n",
        "    update_list[i+1].loc[a,'Share']=(to_value/15)/update_list[i+1].loc[a,'Adj Close']"
      ],
      "execution_count": 0,
      "outputs": []
    },
    {
      "cell_type": "code",
      "metadata": {
        "id": "kQoUhh2CMrVE",
        "colab_type": "code",
        "colab": {
          "base_uri": "https://localhost:8080/",
          "height": 34
        },
        "outputId": "18d8363a-e361-4ca8-8b87-dcdac2953f59"
      },
      "source": [
        "len(update_list)"
      ],
      "execution_count": 246,
      "outputs": [
        {
          "output_type": "execute_result",
          "data": {
            "text/plain": [
              "12"
            ]
          },
          "metadata": {
            "tags": []
          },
          "execution_count": 246
        }
      ]
    },
    {
      "cell_type": "code",
      "metadata": {
        "id": "fOfFvCsLOcxS",
        "colab_type": "code",
        "colab": {}
      },
      "source": [
        "week_stock2=[] #所有Wednesday的portfolio\n",
        "\n",
        "for j in range(len(weektime2)):\n",
        "  b=weektime2[j]\n",
        "  my_port=new_portfolio()\n",
        "  for i in range(len(index_list)):\n",
        "    a=index_list[i]\n",
        "    my_port.loc[a]['Adj Close']=stock_list[i].loc[b]['Adj Close']\n",
        "  week_stock2.append(my_port)\n",
        "week_stock2\n",
        "\n",
        "m=0\n",
        "for i in range(len(week_stock2)):\n",
        "  if weektime2[i].month <= date_list2[m].month:\n",
        "    for j in range(len(index_list)):\n",
        "      a=index_list[j]\n",
        "      week_stock2[i].loc[a]['Share']=update_list[m+1].loc[a]['Share']\n",
        "  else:\n",
        "    m+=1\n",
        "    for j in range(len(index_list)):\n",
        "      a=index_list[j]\n",
        "      week_stock2[i].loc[a]['Share']=update_list[m+1].loc[a]['Share']"
      ],
      "execution_count": 0,
      "outputs": []
    },
    {
      "cell_type": "code",
      "metadata": {
        "id": "HPSnvcF7PzjD",
        "colab_type": "code",
        "colab": {
          "base_uri": "https://localhost:8080/",
          "height": 34
        },
        "outputId": "85ecc2ff-811d-4c07-8ac1-0a28c46877e8"
      },
      "source": [
        "len(week_stock2)"
      ],
      "execution_count": 248,
      "outputs": [
        {
          "output_type": "execute_result",
          "data": {
            "text/plain": [
              "53"
            ]
          },
          "metadata": {
            "tags": []
          },
          "execution_count": 248
        }
      ]
    },
    {
      "cell_type": "code",
      "metadata": {
        "id": "5yPwFVr9QK7C",
        "colab_type": "code",
        "colab": {
          "base_uri": "https://localhost:8080/",
          "height": 34
        },
        "outputId": "87381583-881a-4cde-ae99-5bc7f8f62cf2"
      },
      "source": [
        "stock_value=[]\n",
        "for j in range(len(week_stock2)):\n",
        "  v=0\n",
        "  for i in range(len(index_list)):\n",
        "    a=index_list[i]\n",
        "    v+=week_stock2[j].loc[a,'Adj Close']*week_stock2[j].loc[a,'Share']\n",
        "  stock_value.append(v)\n",
        "\n",
        "len(stock_value)\n",
        "  "
      ],
      "execution_count": 249,
      "outputs": [
        {
          "output_type": "execute_result",
          "data": {
            "text/plain": [
              "53"
            ]
          },
          "metadata": {
            "tags": []
          },
          "execution_count": 249
        }
      ]
    },
    {
      "cell_type": "code",
      "metadata": {
        "id": "ArlFX852emZ4",
        "colab_type": "code",
        "colab": {}
      },
      "source": [
        "stock_loss=[]\n",
        "for i in range(52):\n",
        "  a=stock_value[i+1]-stock_value[i]\n",
        "  stock_loss.append(-a)"
      ],
      "execution_count": 0,
      "outputs": []
    },
    {
      "cell_type": "code",
      "metadata": {
        "id": "2KjUBvrLnM5I",
        "colab_type": "code",
        "colab": {
          "base_uri": "https://localhost:8080/",
          "height": 34
        },
        "outputId": "3ea9c9a4-b6f9-4bec-f2f8-07ac45ff9397"
      },
      "source": [
        "np.mean(np.array(stock_loss))"
      ],
      "execution_count": 251,
      "outputs": [
        {
          "output_type": "execute_result",
          "data": {
            "text/plain": [
              "2500.705300410661"
            ]
          },
          "metadata": {
            "tags": []
          },
          "execution_count": 251
        }
      ]
    },
    {
      "cell_type": "code",
      "metadata": {
        "id": "wGHydVS8e1gz",
        "colab_type": "code",
        "colab": {}
      },
      "source": [
        "bond30= drd.get_data_yahoo('^TYX','05/07/2008','05/11/2009',interval='d')"
      ],
      "execution_count": 0,
      "outputs": []
    },
    {
      "cell_type": "code",
      "metadata": {
        "id": "radmbR5DfZP8",
        "colab_type": "code",
        "colab": {
          "base_uri": "https://localhost:8080/",
          "height": 450
        },
        "outputId": "808634a3-9044-4d83-fb0f-3f4abdd4894f"
      },
      "source": [
        "for i in range(len(tradingdays2)):\n",
        "  a=tradingdays2[i]\n",
        "  b=bond30.loc[a,'Adj Close']\n",
        "  bond30.loc[a,'Adj Close']=b*0.01\n",
        "bond30"
      ],
      "execution_count": 253,
      "outputs": [
        {
          "output_type": "execute_result",
          "data": {
            "text/html": [
              "<div>\n",
              "<style scoped>\n",
              "    .dataframe tbody tr th:only-of-type {\n",
              "        vertical-align: middle;\n",
              "    }\n",
              "\n",
              "    .dataframe tbody tr th {\n",
              "        vertical-align: top;\n",
              "    }\n",
              "\n",
              "    .dataframe thead th {\n",
              "        text-align: right;\n",
              "    }\n",
              "</style>\n",
              "<table border=\"1\" class=\"dataframe\">\n",
              "  <thead>\n",
              "    <tr style=\"text-align: right;\">\n",
              "      <th></th>\n",
              "      <th>High</th>\n",
              "      <th>Low</th>\n",
              "      <th>Open</th>\n",
              "      <th>Close</th>\n",
              "      <th>Volume</th>\n",
              "      <th>Adj Close</th>\n",
              "    </tr>\n",
              "    <tr>\n",
              "      <th>Date</th>\n",
              "      <th></th>\n",
              "      <th></th>\n",
              "      <th></th>\n",
              "      <th></th>\n",
              "      <th></th>\n",
              "      <th></th>\n",
              "    </tr>\n",
              "  </thead>\n",
              "  <tbody>\n",
              "    <tr>\n",
              "      <th>2008-05-07</th>\n",
              "      <td>4.688</td>\n",
              "      <td>4.607</td>\n",
              "      <td>4.646</td>\n",
              "      <td>4.622</td>\n",
              "      <td>0.0</td>\n",
              "      <td>0.04622</td>\n",
              "    </tr>\n",
              "    <tr>\n",
              "      <th>2008-05-08</th>\n",
              "      <td>4.636</td>\n",
              "      <td>4.557</td>\n",
              "      <td>4.625</td>\n",
              "      <td>4.564</td>\n",
              "      <td>0.0</td>\n",
              "      <td>0.04564</td>\n",
              "    </tr>\n",
              "    <tr>\n",
              "      <th>2008-05-09</th>\n",
              "      <td>4.544</td>\n",
              "      <td>4.490</td>\n",
              "      <td>4.501</td>\n",
              "      <td>4.524</td>\n",
              "      <td>0.0</td>\n",
              "      <td>0.04524</td>\n",
              "    </tr>\n",
              "    <tr>\n",
              "      <th>2008-05-12</th>\n",
              "      <td>4.539</td>\n",
              "      <td>4.475</td>\n",
              "      <td>4.537</td>\n",
              "      <td>4.522</td>\n",
              "      <td>0.0</td>\n",
              "      <td>0.04522</td>\n",
              "    </tr>\n",
              "    <tr>\n",
              "      <th>2008-05-13</th>\n",
              "      <td>4.621</td>\n",
              "      <td>4.501</td>\n",
              "      <td>4.504</td>\n",
              "      <td>4.619</td>\n",
              "      <td>0.0</td>\n",
              "      <td>0.04619</td>\n",
              "    </tr>\n",
              "    <tr>\n",
              "      <th>...</th>\n",
              "      <td>...</td>\n",
              "      <td>...</td>\n",
              "      <td>...</td>\n",
              "      <td>...</td>\n",
              "      <td>...</td>\n",
              "      <td>...</td>\n",
              "    </tr>\n",
              "    <tr>\n",
              "      <th>2009-05-05</th>\n",
              "      <td>4.107</td>\n",
              "      <td>4.032</td>\n",
              "      <td>4.049</td>\n",
              "      <td>4.053</td>\n",
              "      <td>0.0</td>\n",
              "      <td>0.04053</td>\n",
              "    </tr>\n",
              "    <tr>\n",
              "      <th>2009-05-06</th>\n",
              "      <td>4.106</td>\n",
              "      <td>4.037</td>\n",
              "      <td>4.088</td>\n",
              "      <td>4.082</td>\n",
              "      <td>0.0</td>\n",
              "      <td>0.04082</td>\n",
              "    </tr>\n",
              "    <tr>\n",
              "      <th>2009-05-07</th>\n",
              "      <td>4.307</td>\n",
              "      <td>4.132</td>\n",
              "      <td>4.144</td>\n",
              "      <td>4.261</td>\n",
              "      <td>0.0</td>\n",
              "      <td>0.04261</td>\n",
              "    </tr>\n",
              "    <tr>\n",
              "      <th>2009-05-08</th>\n",
              "      <td>4.386</td>\n",
              "      <td>4.244</td>\n",
              "      <td>4.360</td>\n",
              "      <td>4.274</td>\n",
              "      <td>0.0</td>\n",
              "      <td>0.04274</td>\n",
              "    </tr>\n",
              "    <tr>\n",
              "      <th>2009-05-11</th>\n",
              "      <td>4.226</td>\n",
              "      <td>4.180</td>\n",
              "      <td>4.219</td>\n",
              "      <td>4.180</td>\n",
              "      <td>0.0</td>\n",
              "      <td>0.04180</td>\n",
              "    </tr>\n",
              "  </tbody>\n",
              "</table>\n",
              "<p>251 rows × 6 columns</p>\n",
              "</div>"
            ],
            "text/plain": [
              "             High    Low   Open  Close  Volume  Adj Close\n",
              "Date                                                     \n",
              "2008-05-07  4.688  4.607  4.646  4.622     0.0    0.04622\n",
              "2008-05-08  4.636  4.557  4.625  4.564     0.0    0.04564\n",
              "2008-05-09  4.544  4.490  4.501  4.524     0.0    0.04524\n",
              "2008-05-12  4.539  4.475  4.537  4.522     0.0    0.04522\n",
              "2008-05-13  4.621  4.501  4.504  4.619     0.0    0.04619\n",
              "...           ...    ...    ...    ...     ...        ...\n",
              "2009-05-05  4.107  4.032  4.049  4.053     0.0    0.04053\n",
              "2009-05-06  4.106  4.037  4.088  4.082     0.0    0.04082\n",
              "2009-05-07  4.307  4.132  4.144  4.261     0.0    0.04261\n",
              "2009-05-08  4.386  4.244  4.360  4.274     0.0    0.04274\n",
              "2009-05-11  4.226  4.180  4.219  4.180     0.0    0.04180\n",
              "\n",
              "[251 rows x 6 columns]"
            ]
          },
          "metadata": {
            "tags": []
          },
          "execution_count": 253
        }
      ]
    },
    {
      "cell_type": "code",
      "metadata": {
        "id": "NbuXPRcFhYBw",
        "colab_type": "code",
        "colab": {
          "base_uri": "https://localhost:8080/",
          "height": 918
        },
        "outputId": "d4e684af-4f63-4fed-d08f-ebc0db3daed2"
      },
      "source": [
        "week_bond=[]\n",
        "for i in range(len(weektime2)):\n",
        "  a=weektime2[i]\n",
        "  b=bond30.loc[a,'Adj Close']\n",
        "  week_bond.append(b)\n",
        "week_bond"
      ],
      "execution_count": 254,
      "outputs": [
        {
          "output_type": "execute_result",
          "data": {
            "text/plain": [
              "[0.04622000217437744,\n",
              " 0.0463700008392334,\n",
              " 0.04558000087738037,\n",
              " 0.04697000026702881,\n",
              " 0.046849999427795413,\n",
              " 0.04702000141143799,\n",
              " 0.04730000019073487,\n",
              " 0.04657000064849853,\n",
              " 0.04502999782562256,\n",
              " 0.04427999973297119,\n",
              " 0.045819997787475586,\n",
              " 0.04699999809265137,\n",
              " 0.04638000011444092,\n",
              " 0.04690000057220459,\n",
              " 0.04576000213623047,\n",
              " 0.04442999839782715,\n",
              " 0.04382999897003174,\n",
              " 0.04317999839782715,\n",
              " 0.04224999904632568,\n",
              " 0.04080999851226807,\n",
              " 0.04377999782562256,\n",
              " 0.04248000144958496,\n",
              " 0.040630002021789555,\n",
              " 0.04248000144958496,\n",
              " 0.04087999820709229,\n",
              " 0.0423799991607666,\n",
              " 0.041539998054504396,\n",
              " 0.04190000057220459,\n",
              " 0.039719998836517334,\n",
              " 0.035629999637603764,\n",
              " 0.031840000152587894,\n",
              " 0.030950000286102296,\n",
              " 0.026649999618530273,\n",
              " 0.02632999897003174,\n",
              " 0.025829999446868895,\n",
              " 0.03065999984741211,\n",
              " 0.028949999809265138,\n",
              " 0.03138000011444092,\n",
              " 0.03434000015258789,\n",
              " 0.036730000972747805,\n",
              " 0.034519999027252196,\n",
              " 0.03525000095367432,\n",
              " 0.036010000705719,\n",
              " 0.03697999954223633,\n",
              " 0.03657000064849854,\n",
              " 0.03572000026702881,\n",
              " 0.037170000076293945,\n",
              " 0.0349399995803833,\n",
              " 0.03658999919891358,\n",
              " 0.036470000743865964,\n",
              " 0.038340001106262206,\n",
              " 0.040260000228881834,\n",
              " 0.04081999778747559]"
            ]
          },
          "metadata": {
            "tags": []
          },
          "execution_count": 254
        }
      ]
    },
    {
      "cell_type": "code",
      "metadata": {
        "id": "O6BXyoHXiJj9",
        "colab_type": "code",
        "colab": {
          "base_uri": "https://localhost:8080/",
          "height": 34
        },
        "outputId": "471398ad-1824-4d8e-e243-2f408e79fe05"
      },
      "source": [
        "a=27\n",
        "maturity_list=[a,]\n",
        "for i in range(len(weektime2)-1):\n",
        "  a=a-7/365\n",
        "  maturity_list.append(a)\n",
        "len(maturity_list)\n"
      ],
      "execution_count": 255,
      "outputs": [
        {
          "output_type": "execute_result",
          "data": {
            "text/plain": [
              "53"
            ]
          },
          "metadata": {
            "tags": []
          },
          "execution_count": 255
        }
      ]
    },
    {
      "cell_type": "code",
      "metadata": {
        "id": "LaAGELSIiKio",
        "colab_type": "code",
        "colab": {}
      },
      "source": [
        "bond_price=[]\n",
        "for i in range(len(weektime2)):\n",
        "  a=np.exp(-maturity_list[i]*week_bond[i])\n",
        "  bond_price.append(a)"
      ],
      "execution_count": 0,
      "outputs": []
    },
    {
      "cell_type": "code",
      "metadata": {
        "id": "utsGihQ-jdff",
        "colab_type": "code",
        "colab": {
          "base_uri": "https://localhost:8080/",
          "height": 918
        },
        "outputId": "c83135bb-7d05-4179-908e-738a42df5797"
      },
      "source": [
        "bond_price"
      ],
      "execution_count": 257,
      "outputs": [
        {
          "output_type": "execute_result",
          "data": {
            "text/plain": [
              "[0.2870955882103808,\n",
              " 0.28618960451409126,\n",
              " 0.2926108383133809,\n",
              " 0.28210170313915467,\n",
              " 0.2832696489075728,\n",
              " 0.28223047041576943,\n",
              " 0.28036659469094216,\n",
              " 0.2861788956606537,\n",
              " 0.29852510993664105,\n",
              " 0.3048555736561417,\n",
              " 0.2927745138850059,\n",
              " 0.2839137226643739,\n",
              " 0.288925546207948,\n",
              " 0.2851878655250475,\n",
              " 0.29427699052823186,\n",
              " 0.30518756495450894,\n",
              " 0.31037911812203806,\n",
              " 0.31607299531147653,\n",
              " 0.32427445349404516,\n",
              " 0.33722683734295544,\n",
              " 0.3118391985298803,\n",
              " 0.3230811803473769,\n",
              " 0.33964051376146454,\n",
              " 0.3236080282023702,\n",
              " 0.33792072500393944,\n",
              " 0.32499652154085984,\n",
              " 0.3325826585790118,\n",
              " 0.3296895414669211,\n",
              " 0.3495492284404695,\n",
              " 0.38977179449928234,\n",
              " 0.4311233219796787,\n",
              " 0.4416446866270369,\n",
              " 0.4950012845128927,\n",
              " 0.49945072769763,\n",
              " 0.5063296143138778,\n",
              " 0.44608757221315637,\n",
              " 0.4668895318849006,\n",
              " 0.4382380167792822,\n",
              " 0.4056947939996242,\n",
              " 0.38127362028285344,\n",
              " 0.4043158584706299,\n",
              " 0.3969150894252205,\n",
              " 0.38935463077798604,\n",
              " 0.3798555795176408,\n",
              " 0.384223467721317,\n",
              " 0.39313069794125305,\n",
              " 0.3787802969163156,\n",
              " 0.4017657281492951,\n",
              " 0.3851019672376339,\n",
              " 0.3865793178559769,\n",
              " 0.3684627546784735,\n",
              " 0.3507637297056759,\n",
              " 0.3459601174392858]"
            ]
          },
          "metadata": {
            "tags": []
          },
          "execution_count": 257
        }
      ]
    },
    {
      "cell_type": "code",
      "metadata": {
        "id": "WF8_HgjZjewR",
        "colab_type": "code",
        "colab": {
          "base_uri": "https://localhost:8080/",
          "height": 901
        },
        "outputId": "adc9aee1-4d1c-4d13-96d4-f8b2a0c1a25c"
      },
      "source": [
        "bondshare=600000/bond_price[0]\n",
        "bond_loss=[]\n",
        "for i in range(len(weektime2)-1):\n",
        "  a=bondshare*(bond_price[i+1]-bond_price[i])\n",
        "  bond_loss.append(-a)\n",
        "bond_loss"
      ],
      "execution_count": 258,
      "outputs": [
        {
          "output_type": "execute_result",
          "data": {
            "text/plain": [
              "[1893.4119509192096,\n",
              " -13419.712589768349,\n",
              " 21963.002440550063,\n",
              " -2440.885509314587,\n",
              " 2171.77525774137,\n",
              " 3895.3069319785695,\n",
              " -12147.106138292163,\n",
              " -25802.307209834624,\n",
              " -13230.012538252731,\n",
              " 25248.161798187353,\n",
              " 18518.13455413789,\n",
              " -10474.19134821707,\n",
              " 7811.364931518766,\n",
              " -18995.328475456656,\n",
              " -22801.96883753278,\n",
              " -10849.807619596297,\n",
              " -11899.612721180645,\n",
              " -17140.19689475411,\n",
              " -27069.138741523766,\n",
              " 53057.53175378929,\n",
              " -23494.575909523006,\n",
              " -34607.28919725471,\n",
              " 33506.231828291,\n",
              " -29912.051712367684,\n",
              " 27010.244658184445,\n",
              " -15854.239527901618,\n",
              " 6046.314671970533,\n",
              " -41504.68580310349,\n",
              " -84060.99092544362,\n",
              " -86420.4031935754,\n",
              " -21988.56077087799,\n",
              " -111509.7550995942,\n",
              " -9298.874731875234,\n",
              " -14376.159506582924,\n",
              " 125899.61930709293,\n",
              " -43473.93800388347,\n",
              " 59878.69465543206,\n",
              " 68011.96002178335,\n",
              " 51037.719950350154,\n",
              " -48155.88772661598,\n",
              " 15466.8396506034,\n",
              " 15800.57435440823,\n",
              " 19852.031832793786,\n",
              " -9128.433280852987,\n",
              " -18615.18724573837,\n",
              " 29990.84962828817,\n",
              " -48037.16708346496,\n",
              " 34825.53183530674,\n",
              " -3087.509552240953,\n",
              " 37861.737877130465,\n",
              " 36989.12633898357,\n",
              " 10039.051375885409]"
            ]
          },
          "metadata": {
            "tags": []
          },
          "execution_count": 258
        }
      ]
    },
    {
      "cell_type": "code",
      "metadata": {
        "id": "YYHM4UnPmfEl",
        "colab_type": "code",
        "colab": {
          "base_uri": "https://localhost:8080/",
          "height": 34
        },
        "outputId": "a26ae3fe-6cd1-4487-cc0f-d6efec648734"
      },
      "source": [
        "np.mean(np.array(bond_loss))"
      ],
      "execution_count": 259,
      "outputs": [
        {
          "output_type": "execute_result",
          "data": {
            "text/plain": [
              "-2365.7838517171867"
            ]
          },
          "metadata": {
            "tags": []
          },
          "execution_count": 259
        }
      ]
    },
    {
      "cell_type": "code",
      "metadata": {
        "id": "8g55r_r2nGOa",
        "colab_type": "code",
        "colab": {}
      },
      "source": [
        "libor2008=[0.02211,0.02203,0.02109,0.02429,0.02216,0.02095,0.02091,0.02105,0.02444,0.02328,0.02194,0.02098,0.02350,0.02193,0.02184,0.02096,0.02150,0.02163,0.02130,0.05031,0.02688,0.03794,0.05375,0.02144,0.01119,0.01140,0.00323,0.00383,0.00438,0.00988,0.00881,0.00125,0.00133,0.00118,0.00139,0.00108,0.00105,0.00188,0.00224,0.00319,0.00301,0.00304,0.00270,0.00313,0.00329,0.00309,0.00288,0.00296,0.00260,0.00263,0.00206,0.00228,0.00242]"
      ],
      "execution_count": 0,
      "outputs": []
    },
    {
      "cell_type": "code",
      "metadata": {
        "id": "ZDNmCoUvqxSs",
        "colab_type": "code",
        "colab": {
          "base_uri": "https://localhost:8080/",
          "height": 34
        },
        "outputId": "7095ac53-d142-49b2-b2c4-2f1803e7f8e3"
      },
      "source": [
        "len(libor2008)"
      ],
      "execution_count": 261,
      "outputs": [
        {
          "output_type": "execute_result",
          "data": {
            "text/plain": [
              "53"
            ]
          },
          "metadata": {
            "tags": []
          },
          "execution_count": 261
        }
      ]
    },
    {
      "cell_type": "code",
      "metadata": {
        "id": "A-T40zLMq0cE",
        "colab_type": "code",
        "colab": {
          "base_uri": "https://localhost:8080/",
          "height": 450
        },
        "outputId": "0d948dde-3fbf-4eac-ee61-fd74ca323fb4"
      },
      "source": [
        "MELI"
      ],
      "execution_count": 262,
      "outputs": [
        {
          "output_type": "execute_result",
          "data": {
            "text/html": [
              "<div>\n",
              "<style scoped>\n",
              "    .dataframe tbody tr th:only-of-type {\n",
              "        vertical-align: middle;\n",
              "    }\n",
              "\n",
              "    .dataframe tbody tr th {\n",
              "        vertical-align: top;\n",
              "    }\n",
              "\n",
              "    .dataframe thead th {\n",
              "        text-align: right;\n",
              "    }\n",
              "</style>\n",
              "<table border=\"1\" class=\"dataframe\">\n",
              "  <thead>\n",
              "    <tr style=\"text-align: right;\">\n",
              "      <th></th>\n",
              "      <th>High</th>\n",
              "      <th>Low</th>\n",
              "      <th>Open</th>\n",
              "      <th>Close</th>\n",
              "      <th>Volume</th>\n",
              "      <th>Adj Close</th>\n",
              "    </tr>\n",
              "    <tr>\n",
              "      <th>Date</th>\n",
              "      <th></th>\n",
              "      <th></th>\n",
              "      <th></th>\n",
              "      <th></th>\n",
              "      <th></th>\n",
              "      <th></th>\n",
              "    </tr>\n",
              "  </thead>\n",
              "  <tbody>\n",
              "    <tr>\n",
              "      <th>2008-05-07</th>\n",
              "      <td>57.560001</td>\n",
              "      <td>54.000000</td>\n",
              "      <td>55.560001</td>\n",
              "      <td>56.049999</td>\n",
              "      <td>1631600</td>\n",
              "      <td>54.312321</td>\n",
              "    </tr>\n",
              "    <tr>\n",
              "      <th>2008-05-08</th>\n",
              "      <td>57.709999</td>\n",
              "      <td>54.270000</td>\n",
              "      <td>56.360001</td>\n",
              "      <td>55.000000</td>\n",
              "      <td>1597600</td>\n",
              "      <td>53.294876</td>\n",
              "    </tr>\n",
              "    <tr>\n",
              "      <th>2008-05-09</th>\n",
              "      <td>55.980000</td>\n",
              "      <td>53.650002</td>\n",
              "      <td>54.639999</td>\n",
              "      <td>54.020000</td>\n",
              "      <td>1059600</td>\n",
              "      <td>52.345264</td>\n",
              "    </tr>\n",
              "    <tr>\n",
              "      <th>2008-05-12</th>\n",
              "      <td>53.990002</td>\n",
              "      <td>50.110001</td>\n",
              "      <td>53.799999</td>\n",
              "      <td>52.259998</td>\n",
              "      <td>1473600</td>\n",
              "      <td>50.639824</td>\n",
              "    </tr>\n",
              "    <tr>\n",
              "      <th>2008-05-13</th>\n",
              "      <td>56.560001</td>\n",
              "      <td>52.590000</td>\n",
              "      <td>52.590000</td>\n",
              "      <td>55.860001</td>\n",
              "      <td>2504400</td>\n",
              "      <td>54.128220</td>\n",
              "    </tr>\n",
              "    <tr>\n",
              "      <th>...</th>\n",
              "      <td>...</td>\n",
              "      <td>...</td>\n",
              "      <td>...</td>\n",
              "      <td>...</td>\n",
              "      <td>...</td>\n",
              "      <td>...</td>\n",
              "    </tr>\n",
              "    <tr>\n",
              "      <th>2009-05-05</th>\n",
              "      <td>28.070000</td>\n",
              "      <td>27.100000</td>\n",
              "      <td>27.160000</td>\n",
              "      <td>27.889999</td>\n",
              "      <td>587300</td>\n",
              "      <td>27.025349</td>\n",
              "    </tr>\n",
              "    <tr>\n",
              "      <th>2009-05-06</th>\n",
              "      <td>29.580000</td>\n",
              "      <td>27.889999</td>\n",
              "      <td>28.299999</td>\n",
              "      <td>28.940001</td>\n",
              "      <td>1223200</td>\n",
              "      <td>28.042793</td>\n",
              "    </tr>\n",
              "    <tr>\n",
              "      <th>2009-05-07</th>\n",
              "      <td>27.750000</td>\n",
              "      <td>22.030001</td>\n",
              "      <td>27.290001</td>\n",
              "      <td>23.580000</td>\n",
              "      <td>3495900</td>\n",
              "      <td>22.848967</td>\n",
              "    </tr>\n",
              "    <tr>\n",
              "      <th>2009-05-08</th>\n",
              "      <td>24.670000</td>\n",
              "      <td>22.379999</td>\n",
              "      <td>24.120001</td>\n",
              "      <td>24.290001</td>\n",
              "      <td>1079800</td>\n",
              "      <td>23.536957</td>\n",
              "    </tr>\n",
              "    <tr>\n",
              "      <th>2009-05-11</th>\n",
              "      <td>24.799999</td>\n",
              "      <td>23.559999</td>\n",
              "      <td>23.959999</td>\n",
              "      <td>24.250000</td>\n",
              "      <td>846700</td>\n",
              "      <td>23.498199</td>\n",
              "    </tr>\n",
              "  </tbody>\n",
              "</table>\n",
              "<p>255 rows × 6 columns</p>\n",
              "</div>"
            ],
            "text/plain": [
              "                 High        Low       Open      Close   Volume  Adj Close\n",
              "Date                                                                      \n",
              "2008-05-07  57.560001  54.000000  55.560001  56.049999  1631600  54.312321\n",
              "2008-05-08  57.709999  54.270000  56.360001  55.000000  1597600  53.294876\n",
              "2008-05-09  55.980000  53.650002  54.639999  54.020000  1059600  52.345264\n",
              "2008-05-12  53.990002  50.110001  53.799999  52.259998  1473600  50.639824\n",
              "2008-05-13  56.560001  52.590000  52.590000  55.860001  2504400  54.128220\n",
              "...               ...        ...        ...        ...      ...        ...\n",
              "2009-05-05  28.070000  27.100000  27.160000  27.889999   587300  27.025349\n",
              "2009-05-06  29.580000  27.889999  28.299999  28.940001  1223200  28.042793\n",
              "2009-05-07  27.750000  22.030001  27.290001  23.580000  3495900  22.848967\n",
              "2009-05-08  24.670000  22.379999  24.120001  24.290001  1079800  23.536957\n",
              "2009-05-11  24.799999  23.559999  23.959999  24.250000   846700  23.498199\n",
              "\n",
              "[255 rows x 6 columns]"
            ]
          },
          "metadata": {
            "tags": []
          },
          "execution_count": 262
        }
      ]
    },
    {
      "cell_type": "code",
      "metadata": {
        "id": "b6x886nurPqD",
        "colab_type": "code",
        "colab": {}
      },
      "source": [
        "meli_sigma=drd.get_data_yahoo('MELI','08/09/2007','05/06/2009',interval='d')\n",
        "len(meli_sigma)\n",
        "tradingdays3=meli_sigma.index\n",
        "vol=[]\n",
        "for i in range(len(weektime2)):\n",
        "  a=list(tradingdays3).index(weektime2[i])\n",
        "  b=np.log(np.array(meli_sigma[:a]['Adj Close'])).std()\n",
        "  vol.append(b)\n",
        "vol"
      ],
      "execution_count": 0,
      "outputs": []
    },
    {
      "cell_type": "markdown",
      "metadata": {
        "id": "Z88bkvO2zbrf",
        "colab_type": "text"
      },
      "source": [
        "**K for MELI is 45, maturity date is 2009/06/01 (covered call)**\n",
        "\n",
        "**K for MMM is 45, maturity date is 2009/06/01 (covered call)**\n",
        "\n",
        "**K for SPX is 1040, maturity date is 2009/06/01 (PUT)**"
      ]
    },
    {
      "cell_type": "code",
      "metadata": {
        "id": "GAz8cUy60aUK",
        "colab_type": "code",
        "colab": {}
      },
      "source": [
        "a=24+30+31+31+30+31+30+31+31+28+31+30+31+1\n",
        "#2008.05.07---2009.06.01\n",
        "maturity=[a/365,]\n",
        "for i in range(len(weektime2)-1):\n",
        "  a=a-7\n",
        "  maturity.append(a/365)"
      ],
      "execution_count": 0,
      "outputs": []
    },
    {
      "cell_type": "code",
      "metadata": {
        "id": "9owrFUbS0aYA",
        "colab_type": "code",
        "colab": {}
      },
      "source": [
        "import scipy.stats as ss\n",
        "meli_option=[]\n",
        "for i in range(len(weektime2)):\n",
        "  a=weektime2[i]\n",
        "  d1 = (np.log(MELI.loc[a,'Adj Close'] / 45) + (libor2008[i] + 0.5 * vol[i] ** 2) * maturity[i]) / (vol[i] * np.sqrt(maturity[i]))\n",
        "  d2 = d1 - vol[i] * np.sqrt(maturity[i])\n",
        "  price=(otype * MELI.loc[a,'Adj Close'] * ss.norm.cdf(otype * d1) - otype * np.exp(-libor2008[i] * maturity[i]) * 45 * ss.norm.cdf(otype * d2))\n",
        "  meli_option.append(price)\n"
      ],
      "execution_count": 0,
      "outputs": []
    },
    {
      "cell_type": "code",
      "metadata": {
        "id": "PFH8d4NBOlSD",
        "colab_type": "code",
        "colab": {
          "base_uri": "https://localhost:8080/",
          "height": 918
        },
        "outputId": "cf051892-e064-473d-fccb-d8e452f20367"
      },
      "source": [
        "meli_option"
      ],
      "execution_count": 294,
      "outputs": [
        {
          "output_type": "execute_result",
          "data": {
            "text/plain": [
              "[11.585747023905796,\n",
              " 9.838117507086672,\n",
              " 7.226866749142065,\n",
              " 3.8764643882404144,\n",
              " 4.483161673690237,\n",
              " 1.0496467495940403,\n",
              " 1.4695615915343012,\n",
              " 1.1688172133967694,\n",
              " 0.22842408287165572,\n",
              " 0.12284534986347184,\n",
              " 0.3293147957014382,\n",
              " 0.2886941649893986,\n",
              " 0.22121122523165315,\n",
              " 0.3972354709894157,\n",
              " 0.2976466679570282,\n",
              " 0.06786532420284486,\n",
              " 0.040826258345392774,\n",
              " 0.022068002096400974,\n",
              " 0.003909933696076548,\n",
              " 0.0011643035889184056,\n",
              " 0.001253653521949255,\n",
              " 5.54764591628894e-05,\n",
              " 5.111994817840761e-05,\n",
              " 1.7965554336157592e-05,\n",
              " 1.2859969032074116e-07,\n",
              " 1.3099722568054024e-07,\n",
              " 2.147148748602972e-06,\n",
              " 4.505817830637363e-08,\n",
              " 9.345305805794172e-09,\n",
              " 6.970297963196118e-06,\n",
              " 5.2968440449638565e-06,\n",
              " 0.00047402942386449987,\n",
              " 0.00015259596883176064,\n",
              " 9.200626827953785e-05,\n",
              " 0.00031712098133878774,\n",
              " 0.0007889958940395913,\n",
              " 5.9742257047783014e-05,\n",
              " 9.34917504826055e-06,\n",
              " 2.4819627826401795e-05,\n",
              " 1.3801917820791047e-05,\n",
              " 0.00020201740333210868,\n",
              " 8.339527200226674e-06,\n",
              " 2.3060305779398803e-05,\n",
              " 5.539801733263751e-06,\n",
              " 1.453943379069758e-05,\n",
              " 7.123841466290655e-06,\n",
              " 3.038770497952928e-05,\n",
              " 5.697424149211504e-06,\n",
              " 4.335576055047025e-06,\n",
              " 2.3190860395423392e-05,\n",
              " 6.450932063648473e-05,\n",
              " 9.447653345717169e-05,\n",
              " 0.00021087561730272555]"
            ]
          },
          "metadata": {
            "tags": []
          },
          "execution_count": 294
        }
      ]
    },
    {
      "cell_type": "code",
      "metadata": {
        "id": "5frz90kD0aPP",
        "colab_type": "code",
        "colab": {
          "base_uri": "https://localhost:8080/",
          "height": 34
        },
        "outputId": "b4a36558-757a-4fb8-e453-6fd250063480"
      },
      "source": [
        "a=weektime2[0]\n",
        "share_meli=400000/(15*MELI.loc[a,'Adj Close'])\n",
        "share_meli\n",
        "meli_loss=[]\n",
        "for i in range(len(meli_option)-1):\n",
        "  loss=500*(meli_option[i+1]-meli_option[i])\n",
        "  meli_loss.append(loss)"
      ],
      "execution_count": 295,
      "outputs": [
        {
          "output_type": "execute_result",
          "data": {
            "text/plain": [
              "490.9874282380937"
            ]
          },
          "metadata": {
            "tags": []
          },
          "execution_count": 295
        }
      ]
    },
    {
      "cell_type": "code",
      "metadata": {
        "id": "Yn2XNvHNOwMM",
        "colab_type": "code",
        "colab": {
          "base_uri": "https://localhost:8080/",
          "height": 901
        },
        "outputId": "c1cafede-9758-4c6b-a2e8-ddeb4af570a5"
      },
      "source": [
        "meli_loss"
      ],
      "execution_count": 297,
      "outputs": [
        {
          "output_type": "execute_result",
          "data": {
            "text/plain": [
              "[-873.8147584095622,\n",
              " -1305.6253789723035,\n",
              " -1675.2011804508254,\n",
              " 303.34864272491126,\n",
              " -1716.7574620480982,\n",
              " 209.95742097013047,\n",
              " -150.37218906876592,\n",
              " -470.1965652625568,\n",
              " -52.78936650409194,\n",
              " 103.23472291898317,\n",
              " -20.310315356019792,\n",
              " -33.74146987887272,\n",
              " 88.01212287888127,\n",
              " -49.794401516193744,\n",
              " -114.89067187709168,\n",
              " -13.519532928726042,\n",
              " -9.3791281244959,\n",
              " -9.079034200162212,\n",
              " -1.372815053579071,\n",
              " 0.04467496651542474,\n",
              " -0.5990885313931829,\n",
              " -0.0021782554922408943,\n",
              " -0.01657719692112501,\n",
              " -0.008918477322918426,\n",
              " 1.198767679899541e-06,\n",
              " 0.0010080757614612157,\n",
              " -0.001051045285148299,\n",
              " -1.785643625028973e-05,\n",
              " 0.003480476328695162,\n",
              " -0.0008367269591161308,\n",
              " 0.234366289909768,\n",
              " -0.16071672751636962,\n",
              " -0.030294850276111392,\n",
              " 0.11255735652962494,\n",
              " 0.23593745635040178,\n",
              " -0.3646268184959041,\n",
              " -0.025196540999761232,\n",
              " 0.007735226389070623,\n",
              " -0.005508855002805374,\n",
              " 0.09410774275565882,\n",
              " -0.096838938065941,\n",
              " 0.007360389289586065,\n",
              " -0.008760252023067527,\n",
              " 0.0044998160287169145,\n",
              " -0.003707796162203463,\n",
              " 0.011631931756619314,\n",
              " -0.01234514041515889,\n",
              " -0.0006809240470822394,\n",
              " 0.009427642170188183,\n",
              " 0.02065923012053067,\n",
              " 0.014983606410343478,\n",
              " 0.05819954192277693]"
            ]
          },
          "metadata": {
            "tags": []
          },
          "execution_count": 297
        }
      ]
    },
    {
      "cell_type": "code",
      "metadata": {
        "id": "qjjVd52GOwEG",
        "colab_type": "code",
        "colab": {}
      },
      "source": [
        "def vol_finder(sigma,weektime):\n",
        "  len(sigma)\n",
        "  tradingdays3=sigma.index\n",
        "  vol=[]\n",
        "  for i in range(len(weektime)):\n",
        "    a=list(tradingdays3).index(weektime[i])\n",
        "    b=np.log(np.array(sigma[:a]['Adj Close'])).std()\n",
        "    vol.append(b)\n",
        "  return vol\n",
        "  \n",
        "def option_finder(stock,libor,vol,k,maturity,weektime,otype):\n",
        "  option=[]\n",
        "  for i in range(len(weektime)):\n",
        "    a=weektime[i]\n",
        "    d1 = (np.log(stock.loc[a,'Adj Close'] / k) + (libor[i] + 0.5 * vol[i] ** 2) * maturity[i]) / (vol[i] * np.sqrt(maturity[i]))\n",
        "    d2 = d1 - vol[i] * np.sqrt(maturity[i])\n",
        "    price=(otype * stock.loc[a,'Adj Close'] * ss.norm.cdf(otype * d1) - otype * np.exp(-libor[i] * maturity[i]) * k * ss.norm.cdf(otype * d2))\n",
        "    option.append(price)\n",
        "  return option"
      ],
      "execution_count": 0,
      "outputs": []
    },
    {
      "cell_type": "code",
      "metadata": {
        "id": "vdhR8PHjOwBo",
        "colab_type": "code",
        "colab": {}
      },
      "source": [
        "mmm_sigma=drd.get_data_yahoo('MMM','08/09/2007','05/06/2009',interval='d')\n",
        "mmm_vol=vol_finder(mmm_sigma,weektime2)\n",
        "spx_sigma=drd.get_data_yahoo('SPY','08/09/2007','05/06/2009',interval='d')\n",
        "spx_vol=vol_finder(spx_sigma,weektime2)"
      ],
      "execution_count": 0,
      "outputs": []
    },
    {
      "cell_type": "code",
      "metadata": {
        "id": "zq_dmrmkUQS5",
        "colab_type": "code",
        "colab": {
          "base_uri": "https://localhost:8080/",
          "height": 450
        },
        "outputId": "c9053ce8-c1d9-4e1a-d414-254da0336d54"
      },
      "source": [
        "MMM"
      ],
      "execution_count": 311,
      "outputs": [
        {
          "output_type": "execute_result",
          "data": {
            "text/html": [
              "<div>\n",
              "<style scoped>\n",
              "    .dataframe tbody tr th:only-of-type {\n",
              "        vertical-align: middle;\n",
              "    }\n",
              "\n",
              "    .dataframe tbody tr th {\n",
              "        vertical-align: top;\n",
              "    }\n",
              "\n",
              "    .dataframe thead th {\n",
              "        text-align: right;\n",
              "    }\n",
              "</style>\n",
              "<table border=\"1\" class=\"dataframe\">\n",
              "  <thead>\n",
              "    <tr style=\"text-align: right;\">\n",
              "      <th></th>\n",
              "      <th>High</th>\n",
              "      <th>Low</th>\n",
              "      <th>Open</th>\n",
              "      <th>Close</th>\n",
              "      <th>Volume</th>\n",
              "      <th>Adj Close</th>\n",
              "    </tr>\n",
              "    <tr>\n",
              "      <th>Date</th>\n",
              "      <th></th>\n",
              "      <th></th>\n",
              "      <th></th>\n",
              "      <th></th>\n",
              "      <th></th>\n",
              "      <th></th>\n",
              "    </tr>\n",
              "  </thead>\n",
              "  <tbody>\n",
              "    <tr>\n",
              "      <th>2008-05-07</th>\n",
              "      <td>78.129997</td>\n",
              "      <td>76.489998</td>\n",
              "      <td>77.949997</td>\n",
              "      <td>76.680000</td>\n",
              "      <td>4089200.0</td>\n",
              "      <td>55.537189</td>\n",
              "    </tr>\n",
              "    <tr>\n",
              "      <th>2008-05-08</th>\n",
              "      <td>77.360001</td>\n",
              "      <td>76.470001</td>\n",
              "      <td>77.120003</td>\n",
              "      <td>76.949997</td>\n",
              "      <td>3796000.0</td>\n",
              "      <td>55.732716</td>\n",
              "    </tr>\n",
              "    <tr>\n",
              "      <th>2008-05-09</th>\n",
              "      <td>76.669998</td>\n",
              "      <td>75.820000</td>\n",
              "      <td>75.989998</td>\n",
              "      <td>76.320000</td>\n",
              "      <td>3871600.0</td>\n",
              "      <td>55.276447</td>\n",
              "    </tr>\n",
              "    <tr>\n",
              "      <th>2008-05-12</th>\n",
              "      <td>77.669998</td>\n",
              "      <td>75.949997</td>\n",
              "      <td>76.669998</td>\n",
              "      <td>77.669998</td>\n",
              "      <td>3552100.0</td>\n",
              "      <td>56.254223</td>\n",
              "    </tr>\n",
              "    <tr>\n",
              "      <th>2008-05-13</th>\n",
              "      <td>78.339996</td>\n",
              "      <td>76.910004</td>\n",
              "      <td>77.720001</td>\n",
              "      <td>77.180000</td>\n",
              "      <td>3407400.0</td>\n",
              "      <td>55.899319</td>\n",
              "    </tr>\n",
              "    <tr>\n",
              "      <th>...</th>\n",
              "      <td>...</td>\n",
              "      <td>...</td>\n",
              "      <td>...</td>\n",
              "      <td>...</td>\n",
              "      <td>...</td>\n",
              "      <td>...</td>\n",
              "    </tr>\n",
              "    <tr>\n",
              "      <th>2009-05-05</th>\n",
              "      <td>58.759998</td>\n",
              "      <td>57.779999</td>\n",
              "      <td>58.419998</td>\n",
              "      <td>58.430000</td>\n",
              "      <td>4302400.0</td>\n",
              "      <td>43.712578</td>\n",
              "    </tr>\n",
              "    <tr>\n",
              "      <th>2009-05-06</th>\n",
              "      <td>59.360001</td>\n",
              "      <td>57.830002</td>\n",
              "      <td>58.740002</td>\n",
              "      <td>59.139999</td>\n",
              "      <td>5067100.0</td>\n",
              "      <td>44.243744</td>\n",
              "    </tr>\n",
              "    <tr>\n",
              "      <th>2009-05-07</th>\n",
              "      <td>59.560001</td>\n",
              "      <td>57.970001</td>\n",
              "      <td>59.009998</td>\n",
              "      <td>58.770000</td>\n",
              "      <td>5627600.0</td>\n",
              "      <td>43.966942</td>\n",
              "    </tr>\n",
              "    <tr>\n",
              "      <th>2009-05-08</th>\n",
              "      <td>60.230000</td>\n",
              "      <td>59.200001</td>\n",
              "      <td>59.209999</td>\n",
              "      <td>60.090000</td>\n",
              "      <td>5408200.0</td>\n",
              "      <td>44.954449</td>\n",
              "    </tr>\n",
              "    <tr>\n",
              "      <th>2009-05-11</th>\n",
              "      <td>59.580002</td>\n",
              "      <td>58.700001</td>\n",
              "      <td>59.410000</td>\n",
              "      <td>59.110001</td>\n",
              "      <td>3896100.0</td>\n",
              "      <td>44.221306</td>\n",
              "    </tr>\n",
              "  </tbody>\n",
              "</table>\n",
              "<p>255 rows × 6 columns</p>\n",
              "</div>"
            ],
            "text/plain": [
              "                 High        Low       Open      Close     Volume  Adj Close\n",
              "Date                                                                        \n",
              "2008-05-07  78.129997  76.489998  77.949997  76.680000  4089200.0  55.537189\n",
              "2008-05-08  77.360001  76.470001  77.120003  76.949997  3796000.0  55.732716\n",
              "2008-05-09  76.669998  75.820000  75.989998  76.320000  3871600.0  55.276447\n",
              "2008-05-12  77.669998  75.949997  76.669998  77.669998  3552100.0  56.254223\n",
              "2008-05-13  78.339996  76.910004  77.720001  77.180000  3407400.0  55.899319\n",
              "...               ...        ...        ...        ...        ...        ...\n",
              "2009-05-05  58.759998  57.779999  58.419998  58.430000  4302400.0  43.712578\n",
              "2009-05-06  59.360001  57.830002  58.740002  59.139999  5067100.0  44.243744\n",
              "2009-05-07  59.560001  57.970001  59.009998  58.770000  5627600.0  43.966942\n",
              "2009-05-08  60.230000  59.200001  59.209999  60.090000  5408200.0  44.954449\n",
              "2009-05-11  59.580002  58.700001  59.410000  59.110001  3896100.0  44.221306\n",
              "\n",
              "[255 rows x 6 columns]"
            ]
          },
          "metadata": {
            "tags": []
          },
          "execution_count": 311
        }
      ]
    },
    {
      "cell_type": "code",
      "metadata": {
        "id": "kJN3_OKKUQQU",
        "colab_type": "code",
        "colab": {
          "base_uri": "https://localhost:8080/",
          "height": 450
        },
        "outputId": "413fa568-3c95-4118-fa96-fbe6868b9c1a"
      },
      "source": [
        "for i in range(len(tradingdays2)):\n",
        "  a=tradingdays2[i]\n",
        "  b=SPY.loc[a,'Adj Close']\n",
        "  SPY.loc[a,'Adj Close']=b*10\n",
        "SPY"
      ],
      "execution_count": 310,
      "outputs": [
        {
          "output_type": "execute_result",
          "data": {
            "text/html": [
              "<div>\n",
              "<style scoped>\n",
              "    .dataframe tbody tr th:only-of-type {\n",
              "        vertical-align: middle;\n",
              "    }\n",
              "\n",
              "    .dataframe tbody tr th {\n",
              "        vertical-align: top;\n",
              "    }\n",
              "\n",
              "    .dataframe thead th {\n",
              "        text-align: right;\n",
              "    }\n",
              "</style>\n",
              "<table border=\"1\" class=\"dataframe\">\n",
              "  <thead>\n",
              "    <tr style=\"text-align: right;\">\n",
              "      <th></th>\n",
              "      <th>High</th>\n",
              "      <th>Low</th>\n",
              "      <th>Open</th>\n",
              "      <th>Close</th>\n",
              "      <th>Volume</th>\n",
              "      <th>Adj Close</th>\n",
              "    </tr>\n",
              "    <tr>\n",
              "      <th>Date</th>\n",
              "      <th></th>\n",
              "      <th></th>\n",
              "      <th></th>\n",
              "      <th></th>\n",
              "      <th></th>\n",
              "      <th></th>\n",
              "    </tr>\n",
              "  </thead>\n",
              "  <tbody>\n",
              "    <tr>\n",
              "      <th>2008-05-07</th>\n",
              "      <td>142.039993</td>\n",
              "      <td>139.130005</td>\n",
              "      <td>141.889999</td>\n",
              "      <td>139.520004</td>\n",
              "      <td>199267300.0</td>\n",
              "      <td>1089.219208</td>\n",
              "    </tr>\n",
              "    <tr>\n",
              "      <th>2008-05-08</th>\n",
              "      <td>140.320007</td>\n",
              "      <td>138.979996</td>\n",
              "      <td>139.740005</td>\n",
              "      <td>139.160004</td>\n",
              "      <td>178321200.0</td>\n",
              "      <td>1086.408615</td>\n",
              "    </tr>\n",
              "    <tr>\n",
              "      <th>2008-05-09</th>\n",
              "      <td>139.389999</td>\n",
              "      <td>138.449997</td>\n",
              "      <td>138.600006</td>\n",
              "      <td>138.899994</td>\n",
              "      <td>152588200.0</td>\n",
              "      <td>1084.379044</td>\n",
              "    </tr>\n",
              "    <tr>\n",
              "      <th>2008-05-12</th>\n",
              "      <td>140.559998</td>\n",
              "      <td>138.729996</td>\n",
              "      <td>139.250000</td>\n",
              "      <td>140.460007</td>\n",
              "      <td>147865900.0</td>\n",
              "      <td>1096.557922</td>\n",
              "    </tr>\n",
              "    <tr>\n",
              "      <th>2008-05-13</th>\n",
              "      <td>140.889999</td>\n",
              "      <td>139.729996</td>\n",
              "      <td>140.800003</td>\n",
              "      <td>140.479996</td>\n",
              "      <td>159132200.0</td>\n",
              "      <td>1096.714096</td>\n",
              "    </tr>\n",
              "    <tr>\n",
              "      <th>...</th>\n",
              "      <td>...</td>\n",
              "      <td>...</td>\n",
              "      <td>...</td>\n",
              "      <td>...</td>\n",
              "      <td>...</td>\n",
              "      <td>...</td>\n",
              "    </tr>\n",
              "    <tr>\n",
              "      <th>2009-05-05</th>\n",
              "      <td>90.930000</td>\n",
              "      <td>89.839996</td>\n",
              "      <td>90.570000</td>\n",
              "      <td>90.570000</td>\n",
              "      <td>243036300.0</td>\n",
              "      <td>725.680237</td>\n",
              "    </tr>\n",
              "    <tr>\n",
              "      <th>2009-05-06</th>\n",
              "      <td>92.199997</td>\n",
              "      <td>90.610001</td>\n",
              "      <td>91.680000</td>\n",
              "      <td>92.139999</td>\n",
              "      <td>291941000.0</td>\n",
              "      <td>738.259506</td>\n",
              "    </tr>\n",
              "    <tr>\n",
              "      <th>2009-05-07</th>\n",
              "      <td>93.150002</td>\n",
              "      <td>90.279999</td>\n",
              "      <td>93.010002</td>\n",
              "      <td>90.860001</td>\n",
              "      <td>317728000.0</td>\n",
              "      <td>728.003845</td>\n",
              "    </tr>\n",
              "    <tr>\n",
              "      <th>2009-05-08</th>\n",
              "      <td>93.220001</td>\n",
              "      <td>91.440002</td>\n",
              "      <td>92.029999</td>\n",
              "      <td>92.980003</td>\n",
              "      <td>299081700.0</td>\n",
              "      <td>744.989929</td>\n",
              "    </tr>\n",
              "    <tr>\n",
              "      <th>2009-05-11</th>\n",
              "      <td>92.110001</td>\n",
              "      <td>91.040001</td>\n",
              "      <td>91.699997</td>\n",
              "      <td>91.239998</td>\n",
              "      <td>247923600.0</td>\n",
              "      <td>731.048737</td>\n",
              "    </tr>\n",
              "  </tbody>\n",
              "</table>\n",
              "<p>255 rows × 6 columns</p>\n",
              "</div>"
            ],
            "text/plain": [
              "                  High         Low  ...       Volume    Adj Close\n",
              "Date                                ...                          \n",
              "2008-05-07  142.039993  139.130005  ...  199267300.0  1089.219208\n",
              "2008-05-08  140.320007  138.979996  ...  178321200.0  1086.408615\n",
              "2008-05-09  139.389999  138.449997  ...  152588200.0  1084.379044\n",
              "2008-05-12  140.559998  138.729996  ...  147865900.0  1096.557922\n",
              "2008-05-13  140.889999  139.729996  ...  159132200.0  1096.714096\n",
              "...                ...         ...  ...          ...          ...\n",
              "2009-05-05   90.930000   89.839996  ...  243036300.0   725.680237\n",
              "2009-05-06   92.199997   90.610001  ...  291941000.0   738.259506\n",
              "2009-05-07   93.150002   90.279999  ...  317728000.0   728.003845\n",
              "2009-05-08   93.220001   91.440002  ...  299081700.0   744.989929\n",
              "2009-05-11   92.110001   91.040001  ...  247923600.0   731.048737\n",
              "\n",
              "[255 rows x 6 columns]"
            ]
          },
          "metadata": {
            "tags": []
          },
          "execution_count": 310
        }
      ]
    },
    {
      "cell_type": "code",
      "metadata": {
        "id": "RgIoDAXqUQNh",
        "colab_type": "code",
        "colab": {
          "base_uri": "https://localhost:8080/",
          "height": 918
        },
        "outputId": "bf10dfc3-2137-4715-ddf6-772d9f1c7aa1"
      },
      "source": [
        "mmm_option=option_finder(MMM,libor2008,mmm_vol,45,maturity,weektime2,1)\n",
        "spx_option=option_finder(SPY,libor2008,spx_vol,1040,maturity,weektime2,-1)\n",
        "spx_option"
      ],
      "execution_count": 318,
      "outputs": [
        {
          "output_type": "execute_result",
          "data": {
            "text/plain": [
              "[2.105232846713278,\n",
              " 1.326253796310077,\n",
              " 1.9454931580232113,\n",
              " 1.6878797699780392,\n",
              " 2.652301677021242,\n",
              " 8.628419108060086,\n",
              " 7.916300289916649,\n",
              " 12.35729493266274,\n",
              " 35.07345821585159,\n",
              " 44.74905576793094,\n",
              " 51.90657437226139,\n",
              " 29.13292963381423,\n",
              " 26.63713027901224,\n",
              " 25.975507881055364,\n",
              " 27.791642791927075,\n",
              " 33.26330141538676,\n",
              " 27.991508624357493,\n",
              " 31.674076529078434,\n",
              " 56.9607989747592,\n",
              " 89.49365773739498,\n",
              " 83.54312840666546,\n",
              " 98.69040230021369,\n",
              " 234.99006580051753,\n",
              " 315.72327968506306,\n",
              " 317.6723106247325,\n",
              " 298.51146038199056,\n",
              " 279.0190584546639,\n",
              " 360.571745793256,\n",
              " 394.4353369187397,\n",
              " 332.6552198667641,\n",
              " 346.41795400527405,\n",
              " 328.296770163415,\n",
              " 321.34193244652124,\n",
              " 354.02698720863,\n",
              " 331.60749608211756,\n",
              " 318.2425680453596,\n",
              " 368.3882389959624,\n",
              " 370.64500737354126,\n",
              " 343.98536788966203,\n",
              " 376.011543014862,\n",
              " 373.98354676509996,\n",
              " 410.39090347512627,\n",
              " 427.72805998989804,\n",
              " 468.56371634861785,\n",
              " 461.34921056469443,\n",
              " 403.46250438058473,\n",
              " 386.8346479901114,\n",
              " 390.0030818341545,\n",
              " 378.3393528283815,\n",
              " 356.59327622487365,\n",
              " 362.3993677427335,\n",
              " 339.58468140719367,\n",
              " 301.5612303903001]"
            ]
          },
          "metadata": {
            "tags": []
          },
          "execution_count": 318
        }
      ]
    },
    {
      "cell_type": "code",
      "metadata": {
        "id": "nrNVvI5jUQJ9",
        "colab_type": "code",
        "colab": {
          "base_uri": "https://localhost:8080/",
          "height": 34
        },
        "outputId": "38fa114b-b988-4467-dbc1-aad772f7b9ab"
      },
      "source": [
        "a=weektime2[0]\n",
        "share_mmm=400000/(15*MMM.loc[a,'Adj Close'])\n",
        "share_mmm"
      ],
      "execution_count": 319,
      "outputs": [
        {
          "output_type": "execute_result",
          "data": {
            "text/plain": [
              "480.15873533753137"
            ]
          },
          "metadata": {
            "tags": []
          },
          "execution_count": 319
        }
      ]
    },
    {
      "cell_type": "code",
      "metadata": {
        "id": "dDqO-lqtOv29",
        "colab_type": "code",
        "colab": {
          "base_uri": "https://localhost:8080/",
          "height": 901
        },
        "outputId": "4e030a80-af22-47b2-e43b-ce141824796b"
      },
      "source": [
        "mmm_loss=[]\n",
        "for i in range(len(mmm_option)-1):\n",
        "  loss=500*(mmm_option[i+1]-mmm_option[i])\n",
        "  mmm_loss.append(loss)\n",
        "mmm_loss"
      ],
      "execution_count": 320,
      "outputs": [
        {
          "output_type": "execute_result",
          "data": {
            "text/plain": [
              "[369.07291207266724,\n",
              " -434.7115710148941,\n",
              " 346.52686024302784,\n",
              " -253.50245119912174,\n",
              " -432.5466421144988,\n",
              " -363.1973102950923,\n",
              " -636.0854856856264,\n",
              " -1420.1277709362935,\n",
              " 26.693621757853947,\n",
              " -31.222911621899385,\n",
              " 748.2984965411283,\n",
              " 218.35173279630027,\n",
              " 146.73151734167078,\n",
              " 406.2148372544989,\n",
              " -666.3784406661257,\n",
              " 10.947686432054127,\n",
              " 32.795574258052795,\n",
              " -791.8723452878069,\n",
              " 491.58604129891967,\n",
              " -467.04202145621207,\n",
              " -275.14102729641013,\n",
              " -2512.1885196773883,\n",
              " -244.4104175588351,\n",
              " 237.51332043605024,\n",
              " 756.5298610982944,\n",
              " 447.6178085621143,\n",
              " -1072.0080219518495,\n",
              " -22.475103696200982,\n",
              " 1730.5476539193983,\n",
              " -1398.2313340186874,\n",
              " -486.72307792706613,\n",
              " 124.97180655293505,\n",
              " -268.8101551840938,\n",
              " 120.05661111740685,\n",
              " 85.22093809875653,\n",
              " -227.6078821266827,\n",
              " -30.331529314536088,\n",
              " 47.158005221558774,\n",
              " -98.88787761683143,\n",
              " 2.5754336218553053,\n",
              " -9.367695438827969,\n",
              " -0.17340022388981186,\n",
              " -0.2574690082130606,\n",
              " 0.39260824933844185,\n",
              " 2.5321729372129247,\n",
              " -1.0056608671742129,\n",
              " 3.4079040074326272,\n",
              " 1.1029221584928361,\n",
              " 18.84620688715055,\n",
              " -15.646146501145818,\n",
              " 137.55677819705636,\n",
              " 129.9058031155953]"
            ]
          },
          "metadata": {
            "tags": []
          },
          "execution_count": 320
        }
      ]
    },
    {
      "cell_type": "code",
      "metadata": {
        "id": "CSnYk-MlOv0Q",
        "colab_type": "code",
        "colab": {
          "base_uri": "https://localhost:8080/",
          "height": 34
        },
        "outputId": "8180f01c-4e57-4355-f6a6-2b4fbcdd9c01"
      },
      "source": [
        "a=weektime2[0]\n",
        "share_spx=400000/(15*SPY.loc[a,'Adj Close'])\n",
        "share_spx"
      ],
      "execution_count": 321,
      "outputs": [
        {
          "output_type": "execute_result",
          "data": {
            "text/plain": [
              "24.482369092092377"
            ]
          },
          "metadata": {
            "tags": []
          },
          "execution_count": 321
        }
      ]
    },
    {
      "cell_type": "code",
      "metadata": {
        "id": "4xSnIMovOvys",
        "colab_type": "code",
        "colab": {
          "base_uri": "https://localhost:8080/",
          "height": 901
        },
        "outputId": "2bcecea6-f1e6-448e-e6a7-f4a8161fd2b3"
      },
      "source": [
        "spx_loss=[]\n",
        "for i in range(len(spx_option)-1):\n",
        "  loss=100*(spx_option[i+1]-spx_option[i])\n",
        "  spx_loss.append(-loss)\n",
        "spx_loss"
      ],
      "execution_count": 324,
      "outputs": [
        {
          "output_type": "execute_result",
          "data": {
            "text/plain": [
              "[77.89790504032013,\n",
              " -61.92393617131344,\n",
              " 25.76133880451721,\n",
              " -96.4421907043203,\n",
              " -597.6117431038845,\n",
              " 71.21188181434377,\n",
              " -444.0994642746091,\n",
              " -2271.616328318885,\n",
              " -967.5597552079353,\n",
              " -715.7518604330448,\n",
              " 2277.364473844716,\n",
              " 249.57993548019886,\n",
              " 66.16223979568758,\n",
              " -181.61349108717104,\n",
              " -547.1658623459689,\n",
              " 527.179279102927,\n",
              " -368.25679047209405,\n",
              " -2528.6722445680766,\n",
              " -3253.2858762635783,\n",
              " 595.0529330729523,\n",
              " -1514.7273893548231,\n",
              " -13629.966350030383,\n",
              " -8073.321388454553,\n",
              " -194.90309396694556,\n",
              " 1916.0850242741958,\n",
              " 1949.2401927326682,\n",
              " -8155.268733859213,\n",
              " -3386.359112548371,\n",
              " 6178.011705197559,\n",
              " -1376.2734138509927,\n",
              " 1812.1183841859079,\n",
              " 695.4837716893735,\n",
              " -3268.5054762108734,\n",
              " 2241.949112651241,\n",
              " 1336.4928036757988,\n",
              " -5014.5670950602835,\n",
              " -225.6768377578851,\n",
              " 2665.963948387923,\n",
              " -3202.6175125199984,\n",
              " 202.79962497620545,\n",
              " -3640.7356710026306,\n",
              " -1733.7156514771777,\n",
              " -4083.5656358719802,\n",
              " 721.4505783923414,\n",
              " 5788.67061841097,\n",
              " 1662.7856390473312,\n",
              " -316.8433844043079,\n",
              " 1166.3729005773007,\n",
              " 2174.6076603507845,\n",
              " -580.6091517859841,\n",
              " 2281.468633553982,\n",
              " 3802.3451016893546]"
            ]
          },
          "metadata": {
            "tags": []
          },
          "execution_count": 324
        }
      ]
    },
    {
      "cell_type": "code",
      "metadata": {
        "id": "Wnm3bFNoOvvd",
        "colab_type": "code",
        "colab": {
          "base_uri": "https://localhost:8080/",
          "height": 323
        },
        "outputId": "f806b423-524b-43c6-da9c-b050d685f5ef"
      },
      "source": [
        "stress_loss=np.sum([meli_loss,spx_loss,mmm_loss,bond_loss,stock_loss], axis = 0)\n",
        "stress_loss"
      ],
      "execution_count": 325,
      "outputs": [
        {
          "output_type": "execute_result",
          "data": {
            "text/plain": [
              "array([  -3342.54824451,   -4716.29839914,   18770.28135656,\n",
              "        -14902.00242967,   22772.14798613,    -485.49872364,\n",
              "         -6697.80660336,   -4296.35515311,   -1117.90280883,\n",
              "         14250.05193989,    7889.56110898,   -9465.43029546,\n",
              "         -7608.09944768,  -17654.83990464,  -19693.51491371,\n",
              "        -11155.3414095 ,  -19539.98472796,   -5137.72569336,\n",
              "         -2516.79106781,   43358.67973558,  -13003.64141029,\n",
              "         12966.9414903 ,   51699.29016285,  -35402.73618198,\n",
              "         39018.54418172,  -23020.65998162,   27977.24540098,\n",
              "        -26330.58998022, -102115.50096643,  -80881.98252628,\n",
              "        -40087.12232833, -110663.91259813,   -5357.97566919,\n",
              "        -20508.14228432,  118925.05523577,  -24690.61971688,\n",
              "         59849.00669189,   64077.97436113,   57602.60033675,\n",
              "        -49924.73292912,   26000.89010411,   20029.85230136,\n",
              "         23717.60802173,  -12401.22737517,  -27536.72264451,\n",
              "         25519.1498343 ,  -48882.2344188 ,   27065.71745932,\n",
              "         -9561.47464798,   32591.92822975,   29080.14217986,\n",
              "          1297.49771175])"
            ]
          },
          "metadata": {
            "tags": []
          },
          "execution_count": 325
        }
      ]
    },
    {
      "cell_type": "code",
      "metadata": {
        "id": "yzOKM9psOvs3",
        "colab_type": "code",
        "colab": {
          "base_uri": "https://localhost:8080/",
          "height": 323
        },
        "outputId": "46a0b489-3e00-4ced-faba-6c7efd37345b"
      },
      "source": [
        "stress_loss.sort()\n",
        "stress_loss"
      ],
      "execution_count": 326,
      "outputs": [
        {
          "output_type": "execute_result",
          "data": {
            "text/plain": [
              "array([-110663.91259813, -102115.50096643,  -80881.98252628,\n",
              "        -49924.73292912,  -48882.2344188 ,  -40087.12232833,\n",
              "        -35402.73618198,  -27536.72264451,  -26330.58998022,\n",
              "        -24690.61971688,  -23020.65998162,  -20508.14228432,\n",
              "        -19693.51491371,  -19539.98472796,  -17654.83990464,\n",
              "        -14902.00242967,  -13003.64141029,  -12401.22737517,\n",
              "        -11155.3414095 ,   -9561.47464798,   -9465.43029546,\n",
              "         -7608.09944768,   -6697.80660336,   -5357.97566919,\n",
              "         -5137.72569336,   -4716.29839914,   -4296.35515311,\n",
              "         -3342.54824451,   -2516.79106781,   -1117.90280883,\n",
              "          -485.49872364,    1297.49771175,    7889.56110898,\n",
              "         12966.9414903 ,   14250.05193989,   18770.28135656,\n",
              "         20029.85230136,   22772.14798613,   23717.60802173,\n",
              "         25519.1498343 ,   26000.89010411,   27065.71745932,\n",
              "         27977.24540098,   29080.14217986,   32591.92822975,\n",
              "         39018.54418172,   43358.67973558,   51699.29016285,\n",
              "         57602.60033675,   59849.00669189,   64077.97436113,\n",
              "        118925.05523577])"
            ]
          },
          "metadata": {
            "tags": []
          },
          "execution_count": 326
        }
      ]
    },
    {
      "cell_type": "code",
      "metadata": {
        "id": "XJMtdbLdOvqi",
        "colab_type": "code",
        "colab": {
          "base_uri": "https://localhost:8080/",
          "height": 34
        },
        "outputId": "b76caa5f-7749-4747-83d5-145b6ffeb99d"
      },
      "source": [
        "0.99*53\n"
      ],
      "execution_count": 328,
      "outputs": [
        {
          "output_type": "execute_result",
          "data": {
            "text/plain": [
              "52.47"
            ]
          },
          "metadata": {
            "tags": []
          },
          "execution_count": 328
        }
      ]
    },
    {
      "cell_type": "markdown",
      "metadata": {
        "id": "BMCbjnIva8h7",
        "colab_type": "text"
      },
      "source": [
        "**SVAR0.99 = 118925.06**\n",
        "\n",
        "**SVAR0.95 = 59849.01**"
      ]
    },
    {
      "cell_type": "markdown",
      "metadata": {
        "id": "290LZ4FabQuy",
        "colab_type": "text"
      },
      "source": [
        "# **Now we work on 3.reduce risk**"
      ]
    },
    {
      "cell_type": "code",
      "metadata": {
        "id": "eoWfqIftOvna",
        "colab_type": "code",
        "colab": {}
      },
      "source": [
        ""
      ],
      "execution_count": 0,
      "outputs": []
    },
    {
      "cell_type": "code",
      "metadata": {
        "id": "9H6PLo0SOvjX",
        "colab_type": "code",
        "colab": {}
      },
      "source": [
        ""
      ],
      "execution_count": 0,
      "outputs": []
    },
    {
      "cell_type": "code",
      "metadata": {
        "id": "46WMnlzLOvg-",
        "colab_type": "code",
        "colab": {}
      },
      "source": [
        ""
      ],
      "execution_count": 0,
      "outputs": []
    },
    {
      "cell_type": "code",
      "metadata": {
        "id": "dOhrNNiOOvec",
        "colab_type": "code",
        "colab": {}
      },
      "source": [
        ""
      ],
      "execution_count": 0,
      "outputs": []
    },
    {
      "cell_type": "code",
      "metadata": {
        "id": "3rjHDCOKOvcG",
        "colab_type": "code",
        "colab": {}
      },
      "source": [
        ""
      ],
      "execution_count": 0,
      "outputs": []
    },
    {
      "cell_type": "code",
      "metadata": {
        "id": "tVDRrAD9OvZL",
        "colab_type": "code",
        "colab": {}
      },
      "source": [
        ""
      ],
      "execution_count": 0,
      "outputs": []
    },
    {
      "cell_type": "code",
      "metadata": {
        "id": "sRENdMoTOvW7",
        "colab_type": "code",
        "colab": {}
      },
      "source": [
        ""
      ],
      "execution_count": 0,
      "outputs": []
    },
    {
      "cell_type": "code",
      "metadata": {
        "id": "Hd7sE7hFOvUq",
        "colab_type": "code",
        "colab": {}
      },
      "source": [
        ""
      ],
      "execution_count": 0,
      "outputs": []
    },
    {
      "cell_type": "code",
      "metadata": {
        "id": "I01MrgV6OvRE",
        "colab_type": "code",
        "colab": {}
      },
      "source": [
        ""
      ],
      "execution_count": 0,
      "outputs": []
    },
    {
      "cell_type": "code",
      "metadata": {
        "id": "YoO383yi0aM2",
        "colab_type": "code",
        "colab": {}
      },
      "source": [
        "spx_delta1=delta_finder(spx,spx_maturity1,2885,libor_list2,spx_sigma1)\n",
        "meli_delta1=[i+1 for i in delta_finder(meli,meli_maturity1,640,libor_list2,meli_sigma1)]\n",
        "mmm_delta1=[i+1 for i in delta_finder(mmm,mmm_maturity1,130,libor_list2,mmm_sigma1)]"
      ],
      "execution_count": 0,
      "outputs": []
    },
    {
      "cell_type": "code",
      "metadata": {
        "id": "XMvo3Zg50aLP",
        "colab_type": "code",
        "colab": {}
      },
      "source": [
        "meli_delta1=[i+1 for i in delta_finder(meli,meli_maturity1,640,libor_list2,meli_sigma1)]"
      ],
      "execution_count": 0,
      "outputs": []
    },
    {
      "cell_type": "code",
      "metadata": {
        "id": "TXcYTAcc0aJV",
        "colab_type": "code",
        "colab": {
          "base_uri": "https://localhost:8080/",
          "height": 918
        },
        "outputId": "1e0a09cf-4439-4c0e-e518-0e5ae20aec9d"
      },
      "source": [
        "meli=[MELI.loc[a,'Adj Close'] for a in weektime2]\n",
        "meli_delta=[i+1 for i in delta_finder(meli,maturity,45,libor2008,vol)]\n",
        "meli_delta"
      ],
      "execution_count": 278,
      "outputs": [
        {
          "output_type": "execute_result",
          "data": {
            "text/plain": [
              "[0.8411953623356628,\n",
              " 0.7985616251951313,\n",
              " 0.7106982713018731,\n",
              " 0.5310653077990004,\n",
              " 0.5774959588712881,\n",
              " 0.24031177687377148,\n",
              " 0.3039940425744636,\n",
              " 0.2634358849060181,\n",
              " 0.08048873249272359,\n",
              " 0.04923365520951195,\n",
              " 0.10626323244254077,\n",
              " 0.09663996699964028,\n",
              " 0.07920644884313366,\n",
              " 0.12464547740338427,\n",
              " 0.10101052341049255,\n",
              " 0.031359268235734095,\n",
              " 0.02065215247212704,\n",
              " 0.01235931050250394,\n",
              " 0.0027821517191251033,\n",
              " 0.0009716787369820068,\n",
              " 0.0010214457655695064,\n",
              " 6.206327066160533e-05,\n",
              " 5.782862248160381e-05,\n",
              " 2.1872596445704495e-05,\n",
              " 2.2988812842239525e-07,\n",
              " 2.3909497604002183e-07,\n",
              " 3.170025881016336e-06,\n",
              " 9.22480857257213e-08,\n",
              " 2.2165104196503194e-08,\n",
              " 9.757666784238062e-06,\n",
              " 7.659291683337344e-06,\n",
              " 0.0004153601520108241,\n",
              " 0.00015342464287426694,\n",
              " 9.78656213561635e-05,\n",
              " 0.00029085727195088396,\n",
              " 0.0006433860526943169,\n",
              " 6.592118649850764e-05,\n",
              " 1.2421710753773851e-05,\n",
              " 2.9836222238288634e-05,\n",
              " 1.7521370968998085e-05,\n",
              " 0.0001928049056374448,\n",
              " 1.0962213894960549e-05,\n",
              " 2.74055650014704e-05,\n",
              " 7.463702296428565e-06,\n",
              " 1.7894474184654285e-05,\n",
              " 9.30025179002314e-06,\n",
              " 3.489194546824059e-05,\n",
              " 7.5537180695972594e-06,\n",
              " 5.887745570753999e-06,\n",
              " 2.782910301579733e-05,\n",
              " 7.25037108035842e-05,\n",
              " 0.00010618656995631248,\n",
              " 0.0002327844909029153]"
            ]
          },
          "metadata": {
            "tags": []
          },
          "execution_count": 278
        }
      ]
    },
    {
      "cell_type": "code",
      "metadata": {
        "id": "VAKBRu940aFo",
        "colab_type": "code",
        "colab": {
          "base_uri": "https://localhost:8080/",
          "height": 901
        },
        "outputId": "c7175182-7cc7-401d-9f90-e2a32efb6902"
      },
      "source": [
        "meli_loss=[]\n",
        "for i in range(len(meli)-1):\n",
        "  a=500*meli_delta[i]*(meli[i+1]-meli[i])\n",
        "  meli_loss.append(a)\n",
        "meli_loss"
      ],
      "execution_count": 281,
      "outputs": [
        {
          "output_type": "execute_result",
          "data": {
            "text/plain": [
              "[-880.3247578141826,\n",
              " -1342.550965023749,\n",
              " -1900.7160908974315,\n",
              " 355.07436025959964,\n",
              " -2355.8827624225737,\n",
              " 211.90410209329636,\n",
              " -129.61180933946204,\n",
              " -746.6603591549504,\n",
              " -67.0742251974051,\n",
              " 69.65261429766863,\n",
              " -10.297209785925453,\n",
              " -32.77502542916496,\n",
              " 78.28595306066065,\n",
              " -40.46208903448902,\n",
              " -177.1603873846039,\n",
              " -15.345518379256188,\n",
              " -10.606342167839918,\n",
              " -16.9462448545723,\n",
              " -3.0328827632321618,\n",
              " 0.2118495316077628,\n",
              " -1.9498604933282875,\n",
              " -0.03247523424155072,\n",
              " -0.030259411741219915,\n",
              " -0.041859133678316465,\n",
              " -0.00015147751333081423,\n",
              " 0.00011931650503858797,\n",
              " -0.0048226460228882285,\n",
              " -7.016962065874483e-05,\n",
              " 3.1035618737393884e-05,\n",
              " -0.0020328627561099297,\n",
              " 0.01491789302574059,\n",
              " -0.22337844265147772,\n",
              " -0.0260169435489265,\n",
              " 0.06922713876849922,\n",
              " 0.1986963175788698,\n",
              " -0.7792969508161778,\n",
              " -0.04183988239879517,\n",
              " 0.006018318007272242,\n",
              " -0.003180265240898288,\n",
              " 0.02487302091742222,\n",
              " -0.22606129531546726,\n",
              " 0.006957657702971045,\n",
              " -0.007568484228792954,\n",
              " 0.005026465849986567,\n",
              " 0.0015605888183251194,\n",
              " 0.009282273493382384,\n",
              " -0.007100137684193009,\n",
              " 0.0032571850504401504,\n",
              " 0.007416780814368896,\n",
              " 0.03141575828900679,\n",
              " 0.06920210969201923,\n",
              " 0.13479177624436361]"
            ]
          },
          "metadata": {
            "tags": []
          },
          "execution_count": 281
        }
      ]
    },
    {
      "cell_type": "code",
      "metadata": {
        "id": "gp2GAGuC0aBc",
        "colab_type": "code",
        "colab": {}
      },
      "source": [
        ""
      ],
      "execution_count": 0,
      "outputs": []
    },
    {
      "cell_type": "code",
      "metadata": {
        "id": "Adv0KRT00Z_m",
        "colab_type": "code",
        "colab": {}
      },
      "source": [
        ""
      ],
      "execution_count": 0,
      "outputs": []
    },
    {
      "cell_type": "code",
      "metadata": {
        "id": "ocdrQ5IH0Z7S",
        "colab_type": "code",
        "colab": {}
      },
      "source": [
        ""
      ],
      "execution_count": 0,
      "outputs": []
    },
    {
      "cell_type": "code",
      "metadata": {
        "id": "9D_SR2oy0Z2K",
        "colab_type": "code",
        "colab": {}
      },
      "source": [
        ""
      ],
      "execution_count": 0,
      "outputs": []
    }
  ]
}